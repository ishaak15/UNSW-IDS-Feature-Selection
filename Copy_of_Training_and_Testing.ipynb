{
  "nbformat": 4,
  "nbformat_minor": 0,
  "metadata": {
    "accelerator": "GPU",
    "colab": {
      "name": "Copy of Training_and_Testing.ipynb",
      "provenance": [],
      "collapsed_sections": [],
      "include_colab_link": true
    },
    "kernelspec": {
      "display_name": "Python 3",
      "name": "python3"
    },
    "language_info": {
      "name": "python"
    }
  },
  "cells": [
    {
      "cell_type": "markdown",
      "metadata": {
        "id": "view-in-github",
        "colab_type": "text"
      },
      "source": [
        "<a href=\"https://colab.research.google.com/github/ishaak15/UNSW-IDS-Feature-Selection/blob/main/Copy_of_Training_and_Testing.ipynb\" target=\"_parent\"><img src=\"https://colab.research.google.com/assets/colab-badge.svg\" alt=\"Open In Colab\"/></a>"
      ]
    },
    {
      "cell_type": "code",
      "metadata": {
        "colab": {
          "base_uri": "https://localhost:8080/"
        },
        "id": "RupDMUtc2mgK",
        "outputId": "e9487306-3711-4353-ffc3-800fdb77bb99"
      },
      "source": [
        "import numpy as np \n",
        "import matplotlib\n",
        "import matplotlib.pyplot as plt\n",
        "import os\n",
        "import math\n",
        "import pandas as pd\n",
        "from sklearn.decomposition import PCA\n",
        "from sklearn.model_selection import cross_validate\n",
        "from sklearn import datasets, preprocessing, feature_extraction, neighbors\n",
        "from sklearn import linear_model, svm, metrics, ensemble, tree, ensemble\n",
        "from sklearn.model_selection import train_test_split\n",
        "from copy import copy\n",
        "import urllib\n",
        "import csv\n",
        "\n",
        "import seaborn as sns\n",
        "from sklearn.preprocessing import LabelEncoder\n",
        "import matplotlib.pyplot as plt\n",
        "import plotly.graph_objs as go\n",
        "\n",
        "from sklearn.tree import DecisionTreeClassifier # Import Decision Tree Classifier\n",
        "from sklearn.model_selection import train_test_split # Import train_test_split function\n",
        "from sklearn import metrics #Import scikit-learn metrics module for accuracy calculation\n",
        "\n",
        "from sklearn.metrics import confusion_matrix \n",
        "from sklearn.metrics import accuracy_score \n",
        "from sklearn.metrics import classification_report \n",
        "\n",
        "\n",
        "from sklearn.naive_bayes import GaussianNB\n",
        "from yellowbrick.classifier import ClassificationReport\n",
        "\n",
        "from sklearn.ensemble import RandomForestClassifier\n",
        "from sklearn.linear_model import LogisticRegression\n",
        "from sklearn.model_selection import train_test_split \n",
        "from sklearn.naive_bayes import GaussianNB \n",
        "from sklearn.linear_model import LogisticRegression\n",
        "from sklearn.svm import SVC # \"Support Vector Classifier\" \n",
        "from sklearn.ensemble import AdaBoostClassifier\n",
        "from sklearn.ensemble import ExtraTreesClassifier\n",
        "\n",
        "from sklearn.feature_selection import SelectKBest\n",
        "from sklearn.feature_selection import chi2\n",
        "\n",
        "from zipfile import ZipFile\n",
        "import collections\n",
        "\n",
        "from sklearn.feature_selection import RFE\n",
        "from sklearn.linear_model import LogisticRegression\n",
        "\n",
        "from sklearn.metrics import confusion_matrix \n",
        "from sklearn.metrics import accuracy_score \n",
        "from sklearn.metrics import classification_report \n",
        "from sklearn.metrics import classification_report\n",
        "from sklearn.metrics import precision_recall_fscore_support\n",
        "from sklearn.metrics import recall_score\n",
        "from sklearn.metrics import precision_score\n",
        "from sklearn.metrics import f1_score\n"
      ],
      "execution_count": null,
      "outputs": [
        {
          "output_type": "stream",
          "text": [
            "/usr/local/lib/python3.7/dist-packages/sklearn/utils/deprecation.py:144: FutureWarning:\n",
            "\n",
            "The sklearn.metrics.classification module is  deprecated in version 0.22 and will be removed in version 0.24. The corresponding classes / functions should instead be imported from sklearn.metrics. Anything that cannot be imported from sklearn.metrics is now part of the private API.\n",
            "\n"
          ],
          "name": "stderr"
        }
      ]
    },
    {
      "cell_type": "code",
      "metadata": {
        "colab": {
          "base_uri": "https://localhost:8080/"
        },
        "id": "FUKlYohz7Ge3",
        "outputId": "25f03d7a-ce72-4e07-d529-7c84fa4a8325"
      },
      "source": [
        "!git clone https://github.com/ishaak15/UNSW-IDS-Feature-Selection.git"
      ],
      "execution_count": null,
      "outputs": [
        {
          "output_type": "stream",
          "text": [
            "Cloning into 'UNSW-IDS-Feature-Selection'...\n",
            "remote: Enumerating objects: 64, done.\u001b[K\n",
            "remote: Counting objects: 100% (27/27), done.\u001b[K\n",
            "remote: Compressing objects: 100% (27/27), done.\u001b[K\n",
            "remote: Total 64 (delta 9), reused 0 (delta 0), pack-reused 37\u001b[K\n",
            "Unpacking objects: 100% (64/64), done.\n"
          ],
          "name": "stdout"
        }
      ]
    },
    {
      "cell_type": "code",
      "metadata": {
        "colab": {
          "base_uri": "https://localhost:8080/"
        },
        "id": "zVKdVCIQIVl8",
        "outputId": "053bcb65-4ee4-47e0-f5f6-812b0f980307"
      },
      "source": [
        "cd UNSW-IDS-Feature-Selection/"
      ],
      "execution_count": null,
      "outputs": [
        {
          "output_type": "stream",
          "text": [
            "/content/UNSW-IDS-Feature-Selection\n"
          ],
          "name": "stdout"
        }
      ]
    },
    {
      "cell_type": "code",
      "metadata": {
        "colab": {
          "base_uri": "https://localhost:8080/"
        },
        "id": "6CrTS2MAIetl",
        "outputId": "3d7882d5-675a-4287-cbe6-d13cdbbe03a4"
      },
      "source": [
        "ls"
      ],
      "execution_count": null,
      "outputs": [
        {
          "output_type": "stream",
          "text": [
            "bayes_10.sav   clfKNN20.sav                        README.md\n",
            "bayes_20.sav   clfKNN_all.sav                      Testset1.csv\n",
            "bayes_all.sav  Copy_of_Training_and_Testing.ipynb  Testset2.csv\n",
            "clfDT_10.sav   Dataset1.csv                        Testset3.csv\n",
            "clfDT_20.sav   Dataset2.csv                        Training_and_Testing.ipynb\n",
            "clfDT_all.sav  Dataset3.csv                        UNSW_IDS_analysis.ipynb\n",
            "clfKNN10.sav   LICENSE                             UNSW_NB15_testing-set.csv\n"
          ],
          "name": "stdout"
        }
      ]
    },
    {
      "cell_type": "code",
      "metadata": {
        "id": "PR7ddO_b-TYh"
      },
      "source": [
        "df1 = pd.read_csv('Dataset1.csv',index_col=0)\n",
        "df2 = pd.read_csv('Dataset2.csv',index_col=0)\n",
        "df3 = pd.read_csv('Dataset3.csv',index_col=0)"
      ],
      "execution_count": null,
      "outputs": []
    },
    {
      "cell_type": "code",
      "metadata": {
        "id": "sK7zk_s0-2Go"
      },
      "source": [
        "tf1 = pd.read_csv('Testset1.csv',index_col=0)\n",
        "tf2 = pd.read_csv('Testset2.csv',index_col=0)\n",
        "tf3 = pd.read_csv('Testset3.csv',index_col=0)"
      ],
      "execution_count": null,
      "outputs": []
    },
    {
      "cell_type": "code",
      "metadata": {
        "id": "DVJCwCx5DkD6"
      },
      "source": [
        "df1_xtrain=df1.iloc[: , :-1]\n",
        "df1_ytrain=df1.iloc[:,-1]\n",
        "df2_xtrain=df2.iloc[: , :-1]\n",
        "df2_ytrain=df2.iloc[:,-1]\n",
        "df3_xtrain=df3.iloc[: , :-1]\n",
        "df3_ytrain=df3.iloc[:,-1]"
      ],
      "execution_count": null,
      "outputs": []
    },
    {
      "cell_type": "code",
      "metadata": {
        "id": "N2Q5ICJvIsgs"
      },
      "source": [
        "df1_xtest=tf1.iloc[: , :-1]\n",
        "df1_ytest=tf1.iloc[:,-1]\n",
        "df2_xtest=tf2.iloc[: , :-1]\n",
        "df2_ytest=tf2.iloc[:,-1]\n",
        "df3_xtest=tf3.iloc[: , :-1]\n",
        "df3_ytest=tf3.iloc[:,-1]"
      ],
      "execution_count": null,
      "outputs": []
    },
    {
      "cell_type": "code",
      "metadata": {
        "id": "w-ZMD59m4V2o"
      },
      "source": [
        "#KNN"
      ],
      "execution_count": null,
      "outputs": []
    },
    {
      "cell_type": "code",
      "metadata": {
        "colab": {
          "base_uri": "https://localhost:8080/"
        },
        "id": "9eg-WFEcsYCS",
        "outputId": "e9594e0a-f5d4-475c-f06d-c089c1e72c50"
      },
      "source": [
        "clfKNN10=neighbors.KNeighborsClassifier()\n",
        "clfKNN10.fit(df1_xtrain,df1_ytrain)\n",
        "#clfKNN10.fit(df1_xtrain,df1_ytrain)\n",
        "\n",
        "print (\"\\t\\tKNN Classification of UNSW-NB15\\n\\n\\t\\tTop 10 Features \")\n",
        "\n",
        "yt_pred_10 = clfKNN10.predict(df1_xtest)\n",
        "results = confusion_matrix(df1_ytest, yt_pred_10) \n",
        "print ('Confusion Matrix :')\n",
        "print(results) \n",
        "\n",
        "\n",
        "accKNN10=accuracy_score(df1_ytest,yt_pred_10)\n",
        "print(\"Accuracy: \",accKNN10)\n",
        "preKNN10=precision_score(df1_ytest, yt_pred_10, average='macro')\n",
        "print(\"Precision Score: \",preKNN10)\n",
        "f1KNN10=f1_score(df1_ytest, yt_pred_10, average='macro')\n",
        "print(\"F1 Score: \",f1KNN10)\n",
        "reKNN10=recall_score(df1_ytest, yt_pred_10, average='macro')  \n",
        "print(\"Recall: \",reKNN10)"
      ],
      "execution_count": null,
      "outputs": [
        {
          "output_type": "stream",
          "text": [
            "\t\tKNN Classification of UNSW-NB15\n",
            "\n",
            "\t\tTop 10 Features \n",
            "Confusion Matrix :\n",
            "[[  208   131    42    58   129    16    32    61     0     0]\n",
            " [  198   121    13    49   134    18    16    33     1     0]\n",
            " [  822   758   472   913   502    21   202   372    27     0]\n",
            " [  955   835   503  6664   944    39   616   540    33     3]\n",
            " [  444   315    97   469  3357    54  1111   164    50     1]\n",
            " [   17    11    34   375   168 18078   140    44     4     0]\n",
            " [  496    52   218  1986  7076    20 26822   233    93     4]\n",
            " [   82   102    51   324   117     5    71  2737     5     2]\n",
            " [    5     7    12    50   161     6    51    32    54     0]\n",
            " [    0     1     2    26    11     0     3     0     0     1]]\n",
            "Accuracy:  0.7107078657144246\n",
            "Precision Score:  0.41756373950870634\n",
            "F1 Score:  0.4023931552335053\n",
            "Recall:  0.44140047486900985\n"
          ],
          "name": "stdout"
        }
      ]
    },
    {
      "cell_type": "code",
      "metadata": {
        "id": "gxUUKcyegAMb"
      },
      "source": [
        ""
      ],
      "execution_count": null,
      "outputs": []
    },
    {
      "cell_type": "code",
      "metadata": {
        "colab": {
          "base_uri": "https://localhost:8080/"
        },
        "id": "kBj8htUIsYM0",
        "outputId": "19b7358f-d9e9-4b17-a32f-830b0951e67c"
      },
      "source": [
        "clfKNN20=neighbors.KNeighborsClassifier()\n",
        "clfKNN20.fit(df2_xtrain,df2_ytrain)\n",
        "\n",
        "print (\"\\t\\tKNN Analysis of UNSW-NB15\\n\\n\\t\\tTop 20 Features \")\n",
        "\n",
        "y_pred_20 = clfKNN20.predict(df2_xtest)\n",
        "results = confusion_matrix(df2_ytest, y_pred_20) \n",
        "print ('Confusion Matrix :')\n",
        "print(results) \n",
        "\n",
        "\n",
        "accKNN20=accuracy_score(df2_ytest,y_pred_20)\n",
        "print(\"Accuracy: \",accKNN20)\n",
        "preKNN20=precision_score(df2_ytest, y_pred_20, average='macro')\n",
        "print(\"Precision Score: \",preKNN20)\n",
        "f1KNN20=f1_score(df2_ytest, y_pred_20, average='macro')\n",
        "print(\"F1 Score: \",f1KNN20)\n",
        "reKNN20=recall_score(df2_ytest, y_pred_20, average='macro')  \n",
        "print(\"Recall: \",reKNN20)"
      ],
      "execution_count": null,
      "outputs": [
        {
          "output_type": "stream",
          "text": [
            "\t\tKNN Analysis of UNSW-NB15\n",
            "\n",
            "\t\tTop 20 Features \n",
            "Confusion Matrix :\n",
            "[[  267   167    15    69   117    16    17     9     0     0]\n",
            " [  251   109     6    65   118    18    11     5     0     0]\n",
            " [ 1150  1136   184   646   494    22   307   129    21     0]\n",
            " [ 1321  1139   396  4316  1854    39  1749   290    28     0]\n",
            " [  599   332   140  2053  1702    56  1023   122    35     0]\n",
            " [   30    22    26   304   220 18083   132    51     3     0]\n",
            " [  132    71   537  7955  4981    21 22760   473    69     1]\n",
            " [  126   152    91   985   400     7   405  1325     5     0]\n",
            " [    7     6    13   109   126     5    52    17    43     0]\n",
            " [    0     0     1    22     8     0    13     0     0     0]]\n",
            "Accuracy:  0.5925885439440315\n",
            "Precision Score:  0.3273066113090913\n",
            "F1 Score:  0.3053129978339978\n",
            "Recall:  0.336096541715301\n"
          ],
          "name": "stdout"
        }
      ]
    },
    {
      "cell_type": "code",
      "metadata": {
        "colab": {
          "base_uri": "https://localhost:8080/"
        },
        "id": "amTNhuAbsYSP",
        "outputId": "67c59f22-b3e4-4a0e-967d-29d0a186972a"
      },
      "source": [
        "clfKNN20=neighbors.KNeighborsClassifier()\n",
        "clfKNN20.fit(df3_xtrain,df3_ytrain)\n",
        "\n",
        "print (\"\\t\\tKNN Analysis of UNSW-NB15\\n\\n\\t\\tAll Features \")\n",
        "\n",
        "y_pred_all = clfKNN20.predict(df3_xtest)\n",
        "results = confusion_matrix(df3_ytest, y_pred_all) \n",
        "print ('Confusion Matrix :')\n",
        "print(results) \n",
        "\n",
        "\n",
        "accKNNall=accuracy_score(df3_ytest, y_pred_all)\n",
        "print(\"Accuracy: \",accKNNall)\n",
        "preKNNall=precision_score(df3_ytest, y_pred_all, average='macro')\n",
        "print(\"Precision Score: \",preKNNall)\n",
        "f1KNNall=f1_score(df3_ytest, y_pred_all, average='macro')\n",
        "print(\"F1 Score: \",f1KNNall)\n",
        "reKNNall=recall_score(df3_ytest, y_pred_all, average='macro')  \n",
        "print(\"Recall: \",reKNNall)\n"
      ],
      "execution_count": null,
      "outputs": [
        {
          "output_type": "stream",
          "text": [
            "\t\tKNN Analysis of UNSW-NB15\n",
            "\n",
            "\t\tAll Features \n",
            "Confusion Matrix :\n",
            "[[  336   161     1    44   101    16    17     1     0     0]\n",
            " [  304    98     1    44   105    18    11     2     0     0]\n",
            " [ 1491  1070   101   581   437    22   305    61    21     0]\n",
            " [ 1671  1073   319  4245  1794    39  1743   220    28     0]\n",
            " [  726   307   123  2007  1672    56  1024   112    35     0]\n",
            " [   37    21    26   301   219 18083   130    51     3     0]\n",
            " [  115    55   537  7955  5009    21 22765   473    69     1]\n",
            " [  164   146    81   981   392     7   405  1315     5     0]\n",
            " [    6     3    13   109   132     5    50    16    44     0]\n",
            " [    0     0     1    22     8     0    13     0     0     0]]\n",
            "Accuracy:  0.5910095710051985\n",
            "Precision Score:  0.3265665197965294\n",
            "F1 Score:  0.3034833731074776\n",
            "Recall:  0.34123127222810123\n"
          ],
          "name": "stdout"
        }
      ]
    },
    {
      "cell_type": "code",
      "metadata": {
        "id": "RKy3aGMusYXi"
      },
      "source": [
        "#Decision TREE"
      ],
      "execution_count": null,
      "outputs": []
    },
    {
      "cell_type": "code",
      "metadata": {
        "colab": {
          "base_uri": "https://localhost:8080/"
        },
        "id": "8A2BPc0ksky-",
        "outputId": "84a76614-3267-4699-cc1f-64d7724cce70"
      },
      "source": [
        "clfDT_10 = DecisionTreeClassifier()\n",
        "print (\"\\t\\tDecision Tree Analysis of UNSW-NB15\\n\\n\\t\\tTop 10 Features \")\n",
        "\n",
        "# Train Decision Tree Classifer\n",
        "clfDT_10 = clfDT_10.fit(df1_xtrain,df1_ytrain)\n",
        "\n",
        "#Predict the response for test dataset\n",
        "y_pred_DT10 = clfDT_10.predict(df1_xtest)\n",
        "\n",
        "\n",
        "#print (\"\\t\\tMajor Verifcation\")\n",
        "results_DT10 = confusion_matrix(df1_ytest, y_pred_DT10) \n",
        "print ('Confusion Matrix :')\n",
        "print(results_DT10) \n",
        "\n",
        "accDT10=accuracy_score(df1_ytest, y_pred_DT10)\n",
        "preDT10=precision_score(df1_ytest, y_pred_DT10, average='macro')\n",
        "f1DT10=f1_score(df1_ytest, y_pred_DT10, average='macro')\n",
        "reDT10=recall_score(df1_ytest, y_pred_DT10, average='macro')\n",
        "\n",
        "print ('Accuracy Score :',accDT10 )\n",
        "print(\"Precision Score: \",preDT10)\n",
        "print(\"F1 Score: \",f1DT10)\n",
        "print(\"Recall: \",reDT10)"
      ],
      "execution_count": null,
      "outputs": [
        {
          "output_type": "stream",
          "text": [
            "\t\tDecision Tree Analysis of UNSW-NB15\n",
            "\n",
            "\t\tTop 10 Features \n",
            "Confusion Matrix :\n",
            "[[  374    82     1     3   188     0    27     2     0     0]\n",
            " [  317    55     3    10   189     1     4     0     4     0]\n",
            " [ 1482  1019   519   529   389    39    48    24    38     2]\n",
            " [ 1704   953   587  6503   636   119   239   237   140    14]\n",
            " [  720   148   131   531  2955    44  1304     1   225     3]\n",
            " [   19    23    64   229    53 18443    14     2    18     6]\n",
            " [  581    12   939  1173  7354    89 26684    26   141     1]\n",
            " [  158   145    36   276    43     6    31  2758    41     2]\n",
            " [    1     5    13    45    26     4    13     3   268     0]\n",
            " [    0     1     0    15     0     1     1     0     1    25]]\n",
            "Accuracy Score : 0.7115580819122577\n",
            "Precision Score:  0.48721854717159363\n",
            "F1 Score:  0.4871546636251587\n",
            "Recall:  0.5609924400156328\n"
          ],
          "name": "stdout"
        }
      ]
    },
    {
      "cell_type": "code",
      "metadata": {
        "colab": {
          "base_uri": "https://localhost:8080/"
        },
        "id": "ZfSSpwm2sk1Y",
        "outputId": "e6e485f5-6488-49aa-f6e4-4ad459e65cfd"
      },
      "source": [
        "clfDT_20 = DecisionTreeClassifier()\n",
        "print (\"\\t\\tDecision Tree Analysis of UNSW-NB15\\n\\n\\t\\tTop 20 Features \")\n",
        "\n",
        "# Train Decision Tree Classifer\n",
        "clfDT_20 = clfDT_20.fit(df2_xtrain,df2_ytrain)\n",
        "\n",
        "#Predict the response for test dataset\n",
        "y_pred_DT20 = clfDT_20.predict(df2_xtest)\n",
        "\n",
        "\n",
        "#print (\"\\t\\tMajor Verifcation\")\n",
        "results_DT20 = confusion_matrix(df2_ytest, y_pred_DT20) \n",
        "print ('Confusion Matrix :')\n",
        "print(results_DT20)\n",
        "\n",
        "accDT20=accuracy_score(df2_ytest, y_pred_DT20)\n",
        "preDT20=precision_score(df2_ytest, y_pred_DT20, average='macro')\n",
        "f1DT20=f1_score(df2_ytest, y_pred_DT20, average='macro')\n",
        "reDT20=recall_score(df2_ytest, y_pred_DT20, average='macro')\n",
        "\n",
        "print ('Accuracy Score :',accDT20 )\n",
        "print(\"Precision Score: \",preDT20)\n",
        "print(\"F1 Score: \",f1DT20)\n",
        "print(\"Recall: \",reDT20)"
      ],
      "execution_count": null,
      "outputs": [
        {
          "output_type": "stream",
          "text": [
            "\t\tDecision Tree Analysis of UNSW-NB15\n",
            "\n",
            "\t\tTop 20 Features \n",
            "Confusion Matrix :\n",
            "[[  507   115     1    35     1     3    12     0     3     0]\n",
            " [  491    51     5    11    10     0    11     0     4     0]\n",
            " [ 1735  1039   535   506    96    33    75    29    41     0]\n",
            " [ 2085   974   573  6416   178   107   287   403   100     9]\n",
            " [ 1069   151    76   373  2692    17  1502    15   167     0]\n",
            " [   26    24    60   198    42 18482    10     8    16     5]\n",
            " [  684     9   165   802  7428    51 27664    38   158     1]\n",
            " [  165   150    25   279    32     3    39  2756    46     1]\n",
            " [    2     5    18    51    30     2    13     4   253     0]\n",
            " [    0     0     1    17     0     1     0     1     1    23]]\n",
            "Accuracy Score : 0.7212141087305057\n",
            "Precision Score:  0.5136490242244997\n",
            "F1 Score:  0.49532173062432416\n",
            "Recall:  0.5695074875577226\n"
          ],
          "name": "stdout"
        }
      ]
    },
    {
      "cell_type": "code",
      "metadata": {
        "colab": {
          "base_uri": "https://localhost:8080/"
        },
        "id": "MQrDjJUosk4b",
        "outputId": "fb51541b-6729-4ad3-8fec-241389231c12"
      },
      "source": [
        "clfDT_all = DecisionTreeClassifier()\n",
        "print (\"\\t\\tDecision Tree Analysis of UNSW-NB15\\n\\n\\t\\tAll Features \")\n",
        "\n",
        "# Train Decision Tree Classifer\n",
        "clfDT_all = clfDT_all.fit(df3_xtrain,df3_ytrain)\n",
        "\n",
        "#Predict the response for test dataset\n",
        "y_pred_DTall = clfDT_all.predict(df3_xtest)\n",
        "\n",
        "#print (\"\\t\\tMajor Verifcation\")\n",
        "results_DTall = confusion_matrix(df3_ytest, y_pred_DTall) \n",
        "print ('Confusion Matrix :')\n",
        "print(results_DTall)\n",
        "\n",
        "accDTall=accuracy_score(df3_ytest, y_pred_DTall)\n",
        "preDTall=precision_score(df3_ytest, y_pred_DTall, average='macro')\n",
        "f1DTall=f1_score(df3_ytest, y_pred_DTall, average='macro')\n",
        "reDTall=recall_score(df3_ytest, y_pred_DTall, average='macro')\n",
        "\n",
        "print ('Accuracy Score :', accDTall)\n",
        "print(\"Precision Score: \",preDTall)\n",
        "print(\"F1 Score: \",f1DTall)\n",
        "print(\"Recall: \",reDTall)\n"
      ],
      "execution_count": null,
      "outputs": [
        {
          "output_type": "stream",
          "text": [
            "\t\tDecision Tree Analysis of UNSW-NB15\n",
            "\n",
            "\t\tAll Features \n",
            "Confusion Matrix :\n",
            "[[  504   113     0    52     1     1     5     0     1     0]\n",
            " [  494    59     2     8     4     0    13     0     3     0]\n",
            " [ 1736  1095   547   494    72    38    50    25    32     0]\n",
            " [ 2101  1025   540  6507   168   126   344   229    80    12]\n",
            " [ 1059   173    79   338  2699    26  1535     4   149     0]\n",
            " [   26    26    68   243    33 18426    21     5    17     6]\n",
            " [  669     7   149   785  7437    37 27721    55   137     3]\n",
            " [  169   150    31   284    26    16    35  2745    39     1]\n",
            " [    0     5     9    57    32     2    16     4   253     0]\n",
            " [    0     1     5    14     1     1     0     1     0    21]]\n",
            "Accuracy Score : 0.7224651411358889\n",
            "Precision Score:  0.5135796659402336\n",
            "F1 Score:  0.4946291771876262\n",
            "Recall:  0.5666601782550308\n"
          ],
          "name": "stdout"
        }
      ]
    },
    {
      "cell_type": "code",
      "metadata": {
        "id": "aUZpsNG4LJ_y"
      },
      "source": [
        ""
      ],
      "execution_count": null,
      "outputs": []
    },
    {
      "cell_type": "code",
      "metadata": {
        "id": "0gTs5TBjslQj"
      },
      "source": [
        "#Gaussian Naive Bayes Classifier\n",
        "from sklearn.naive_bayes import MultinomialNB"
      ],
      "execution_count": null,
      "outputs": []
    },
    {
      "cell_type": "code",
      "metadata": {
        "colab": {
          "base_uri": "https://localhost:8080/"
        },
        "id": "AYLJ7YcaopnF",
        "outputId": "7da3befb-7454-4751-eeb2-65f43b328495"
      },
      "source": [
        "print(df1_ytrain.unique())"
      ],
      "execution_count": null,
      "outputs": [
        {
          "output_type": "stream",
          "text": [
            "[6 1 0 4 8 7 3 2 9 5]\n"
          ],
          "name": "stdout"
        }
      ]
    },
    {
      "cell_type": "code",
      "metadata": {
        "colab": {
          "base_uri": "https://localhost:8080/"
        },
        "id": "_e-LXX4Ls2Sk",
        "outputId": "0dcbecbe-258f-45e5-950e-dd92b2c1bd47"
      },
      "source": [
        "bayes_10 = MultinomialNB()\n",
        "#bayes_10.partial_fit(df1_xtrain,df1_ytrain,df1_ytrain.unique())\n",
        "bayes_10.fit(df1_xtrain,df1_ytrain)\n",
        "\n",
        "print (\"\\t\\tGaussain Naive Bayes Analysis of UNSW-NB15\\n\\n\\t\\tTop 10 Features \")\n",
        "y_pred_gnb10 = bayes_10.predict(df1_xtest)\n",
        "\n",
        "#print (\"\\t\\tMajor Verifcation KDD99 10% GNB\")\n",
        "results = confusion_matrix(df1_ytest, y_pred_gnb10) \n",
        "print ('Confusion Matrix :')\n",
        "print(results) \n",
        "\n",
        "accbayes_10=accuracy_score(df1_ytest, y_pred_gnb10) \n",
        "prebayes_10=precision_score(df1_ytest, y_pred_gnb10, average='macro')\n",
        "f1bayes_10=f1_score(df1_ytest, y_pred_gnb10, average='macro')\n",
        "rebayes_10=recall_score(df1_ytest, y_pred_gnb10, average='macro')\n",
        "\n",
        "print ('Accuracy Score :',accbayes_10)\n",
        "print(\"Precision Score: \",prebayes_10)\n",
        "print(\"F1 Score: \",f1bayes_10)\n",
        "print(\"Recall: \",rebayes_10)\n"
      ],
      "execution_count": null,
      "outputs": [
        {
          "output_type": "stream",
          "text": [
            "\t\tGaussain Naive Bayes Analysis of UNSW-NB15\n",
            "\n",
            "\t\tTop 10 Features \n",
            "Confusion Matrix :\n",
            "[[  601     0     0    14     0     1    61     0     0     0]\n",
            " [  483     0     0    38     1     2    59     0     0     0]\n",
            " [ 2473     0     0   510    72    78   934    10    12     0]\n",
            " [ 2697     0     0  1738   125    56  6494     2    20     0]\n",
            " [ 1222     0     0   752   550   374  3111     7    46     0]\n",
            " [   28     0     0   109    95 18159   475     1     4     0]\n",
            " [  193     0     1  4062  1501  2792 28284    18   149     0]\n",
            " [ 1541     0     0    68     8    15  1858     6     0     0]\n",
            " [   75     0     0     1    36     9   192     6    59     0]\n",
            " [    0     0     0     2     4     2    36     0     0     0]]\n",
            "Accuracy Score : 0.5999732789194967\n",
            "Precision Score:  0.23827456767032631\n",
            "F1 Score:  0.2239561902839405\n",
            "Recall:  0.30190991296773395\n"
          ],
          "name": "stdout"
        },
        {
          "output_type": "stream",
          "text": [
            "/usr/local/lib/python3.7/dist-packages/sklearn/metrics/_classification.py:1272: UndefinedMetricWarning:\n",
            "\n",
            "Precision is ill-defined and being set to 0.0 in labels with no predicted samples. Use `zero_division` parameter to control this behavior.\n",
            "\n"
          ],
          "name": "stderr"
        }
      ]
    },
    {
      "cell_type": "code",
      "metadata": {
        "colab": {
          "base_uri": "https://localhost:8080/"
        },
        "id": "nZUmRijOs2VE",
        "outputId": "c47f4b60-ca05-413c-ae8f-917f1bfa483b"
      },
      "source": [
        "bayes_20 = MultinomialNB()\n",
        "bayes_20.fit(df2_xtrain,df2_ytrain)\n",
        "\n",
        "print (\"\\t\\tGaussian Naive Bayes Analysis of UNSW-NB15\\n\\n\\t\\tTop 20 Features \")\n",
        "\n",
        "y_pred_gnb20 = bayes_20.predict(df2_xtest)\n",
        "\n",
        "#print (\"\\t\\tMajor Verifcation KDD99 10% GNB\")\n",
        "results = confusion_matrix(df2_ytest, y_pred_gnb20) \n",
        "print ('Confusion Matrix :')\n",
        "print(results)\n",
        "\n",
        "accbayes_20=accuracy_score(df2_ytest, y_pred_gnb20) \n",
        "prebayes_20=precision_score(df2_ytest, y_pred_gnb20, average='macro')\n",
        "f1bayes_20=f1_score(df2_ytest, y_pred_gnb20, average='macro')\n",
        "rebayes_20=recall_score(df2_ytest, y_pred_gnb20, average='macro')\n",
        "\n",
        "print ('Accuracy Score :',accbayes_20)\n",
        "print(\"Precision Score: \",prebayes_20)\n",
        "print(\"F1 Score: \",f1bayes_20)\n",
        "print(\"Recall: \",rebayes_20)\n"
      ],
      "execution_count": null,
      "outputs": [
        {
          "output_type": "stream",
          "text": [
            "\t\tGaussian Naive Bayes Analysis of UNSW-NB15\n",
            "\n",
            "\t\tTop 20 Features \n",
            "Confusion Matrix :\n",
            "[[    3     0     2    40     0   614     0     0     0    18]\n",
            " [    3     0    10    36     0   515     4     0     0    15]\n",
            " [   31     0    87   677     0  2903    17     0     0   374]\n",
            " [   36     0   128  5200     0  3163    76     0     0  2529]\n",
            " [   45     0    54  2445     0  2250     0     0     0  1268]\n",
            " [    4     0     4   345     0 18343     4     0     0   171]\n",
            " [  585     0    73 14651     0  5965  7847     1     1  7877]\n",
            " [    8     0    22  1262     0  1601     0     0     0   603]\n",
            " [    0     0     0   130     0   185     0     0     0    63]\n",
            " [    0     0     0    24     0     6     0     0     0    14]]\n",
            "Accuracy Score : 0.3825244133508235\n",
            "Precision Score:  0.1947161142507347\n",
            "F1 Score:  0.135809387243145\n",
            "Recall:  0.19951131812748615\n"
          ],
          "name": "stdout"
        },
        {
          "output_type": "stream",
          "text": [
            "/usr/local/lib/python3.7/dist-packages/sklearn/metrics/_classification.py:1272: UndefinedMetricWarning:\n",
            "\n",
            "Precision is ill-defined and being set to 0.0 in labels with no predicted samples. Use `zero_division` parameter to control this behavior.\n",
            "\n"
          ],
          "name": "stderr"
        }
      ]
    },
    {
      "cell_type": "code",
      "metadata": {
        "colab": {
          "base_uri": "https://localhost:8080/"
        },
        "id": "VcEkvsRBs2YC",
        "outputId": "b04471f8-bf02-472a-c818-ea2075394a0a"
      },
      "source": [
        "bayes_all = MultinomialNB()\n",
        "bayes_all.fit(df3_xtrain,df3_ytrain)\n",
        "\n",
        "print (\"\\t\\tGaussian Naive Bayes Analysis of UNSW-NB15\\n\\n\\t\\tAll Features \")\n",
        "y_pred_gnball = bayes_all.predict(df3_xtest)\n",
        "\n",
        "#print (\"\\t\\tMajor Verifcation KDD99 10% GNB\")\n",
        "results = confusion_matrix(df3_ytest, y_pred_gnball) \n",
        "print ('Confusion Matrix :')\n",
        "print(results)\n",
        "\n",
        "accbayes_all=accuracy_score(df3_ytest, y_pred_gnball)\n",
        "prebayes_all=precision_score(df3_ytest, y_pred_gnball, average='macro')\n",
        "f1bayes_all=f1_score(df3_ytest, y_pred_gnball, average='macro')\n",
        "rebayes_all=recall_score(df3_ytest, y_pred_gnball, average='macro')\n",
        "\n",
        "print ('Accuracy Score :', accbayes_all)\n",
        "print(\"Precision Score: \",prebayes_all)\n",
        "print(\"F1 Score: \",f1bayes_all)\n",
        "print(\"Recall: \",rebayes_all)\n"
      ],
      "execution_count": null,
      "outputs": [
        {
          "output_type": "stream",
          "text": [
            "\t\tGaussian Naive Bayes Analysis of UNSW-NB15\n",
            "\n",
            "\t\tAll Features \n",
            "Confusion Matrix :\n",
            "[[    3     0     2    40     0   614     0     0     0    18]\n",
            " [    3     0    10    36     0   515     4     0     0    15]\n",
            " [   31     0    87   677     0  2903    17     0     0   374]\n",
            " [   36     0   128  5200     0  3163    76     0     0  2529]\n",
            " [   45     0    54  2445     0  2250     0     0     0  1268]\n",
            " [    4     0     4   345     0 18343     4     0     0   171]\n",
            " [  615     0    14 14654     0  6027  7813     1     1  7875]\n",
            " [    8     0    22  1262     0  1601     0     0     0   603]\n",
            " [    0     0     0   130     0   185     0     0     0    63]\n",
            " [    0     0     0    24     0     6     0     0     0    14]]\n",
            "Accuracy Score : 0.38211145119759027\n",
            "Precision Score:  0.1988094523267321\n",
            "F1 Score:  0.13564830638485165\n",
            "Recall:  0.19941942623559425\n"
          ],
          "name": "stdout"
        },
        {
          "output_type": "stream",
          "text": [
            "/usr/local/lib/python3.7/dist-packages/sklearn/metrics/_classification.py:1272: UndefinedMetricWarning:\n",
            "\n",
            "Precision is ill-defined and being set to 0.0 in labels with no predicted samples. Use `zero_division` parameter to control this behavior.\n",
            "\n"
          ],
          "name": "stderr"
        }
      ]
    },
    {
      "cell_type": "code",
      "metadata": {
        "id": "D1DehUCas2bP"
      },
      "source": [
        "#Random Forest Classifier \n"
      ],
      "execution_count": null,
      "outputs": []
    },
    {
      "cell_type": "code",
      "metadata": {
        "colab": {
          "base_uri": "https://localhost:8080/"
        },
        "id": "5eCGklXTuKYb",
        "outputId": "63914395-1f09-4e15-fe2a-c059152f6d43"
      },
      "source": [
        "print (\"\\t\\tRandom Forest Analysis of UNSW-NB15\\n\\n\\t\\tTop 10 Features \")\n",
        "\n",
        "#Create a Gaussian Classifier\n",
        "clfRF_10=RandomForestClassifier()\n",
        "\n",
        "#Train the model using the training sets y_pred=clf.predict(X_test)\n",
        "clfRF_10.fit(df1_xtrain,df1_ytrain)\n",
        "\n",
        "y_pred_RF10=clfRF_10.predict(df1_xtest)\n",
        "#print(\"Accuracy Random Forest:\",metrics.accuracy_score(y_test, y_pred_RF))\n",
        "\n",
        "results_10 = confusion_matrix(df1_ytest, y_pred_RF10) \n",
        "print ('Confusion Matrix :')\n",
        "print(results_10) \n",
        "\n",
        "accclfRF_10=accuracy_score(df1_ytest, y_pred_RF10)\n",
        "preclfRF_10=precision_score(df1_ytest, y_pred_RF10, average='macro')\n",
        "f1clfRF_10=f1_score(df1_ytest, y_pred_RF10, average='macro')\n",
        "reclfRF_10=recall_score(df1_ytest, y_pred_RF10, average='macro')\n",
        "\n",
        "print ('Accuracy Score :',accclfRF_10 )\n",
        "print(\"Precision Score: \",preclfRF_10)\n",
        "print(\"F1 Score: \",f1clfRF_10)\n",
        "print(\"Recall: \",reclfRF_10)\n"
      ],
      "execution_count": null,
      "outputs": [
        {
          "output_type": "stream",
          "text": [
            "\t\tRandom Forest Analysis of UNSW-NB15\n",
            "\n",
            "\t\tTop 10 Features \n",
            "Confusion Matrix :\n",
            "[[   71   110    12    66   364     0    25    26     3     0]\n",
            " [   63    60     9    20   375     1    22    23    10     0]\n",
            " [  502  1185   516   820   812    12    52   141    47     2]\n",
            " [  535  1078   214  7542  1216    14   163   283    83     4]\n",
            " [  170   197    21   408  3952     4  1014    51   245     0]\n",
            " [    3    11    48   388    63 18320    10     5    21     2]\n",
            " [  317     0    54   731  7523     5 28233    10   126     1]\n",
            " [   60   151    27   318    97     0    15  2805    23     0]\n",
            " [    1     3    11    47    29     0    10     2   274     1]\n",
            " [    0     0     0    19     1     1     2     0     0    21]]\n",
            "Accuracy Score : 0.7505465675557499\n",
            "Precision Score:  0.5428991903650504\n",
            "F1 Score:  0.5054182617822229\n",
            "Recall:  0.5401760768626145\n"
          ],
          "name": "stdout"
        }
      ]
    },
    {
      "cell_type": "code",
      "metadata": {
        "colab": {
          "base_uri": "https://localhost:8080/"
        },
        "id": "jYQ8JD5ruKl8",
        "outputId": "75781aa9-52b0-4337-ee18-2eb9d7eb2c8a"
      },
      "source": [
        "print (\"\\t\\tRandom Forest Analysis of UNSW-NB15\\n\\n\\t\\tTop 20 Features \")\n",
        "\n",
        "#Create a Gaussian Classifier\n",
        "clfRF_20=RandomForestClassifier()\n",
        "\n",
        "#Train the model using the training sets y_pred=clf.predict(X_test)\n",
        "clfRF_20.fit(df2_xtrain,df2_ytrain)\n",
        "\n",
        "y_pred_RF20=clfRF_20.predict(df2_xtest)\n",
        "#print(\"Accuracy Random Forest:\",metrics.accuracy_score(y_test, y_pred_RF))\n",
        "\n",
        "results_20 = confusion_matrix(df2_ytest, y_pred_RF20) \n",
        "print ('Confusion Matrix :')\n",
        "print(results_20) \n",
        "\n",
        "accclfRF_20=accuracy_score(df2_ytest, y_pred_RF20) \n",
        "preclfRF_20=precision_score(df2_ytest, y_pred_RF20, average='macro')\n",
        "f1clfRF_20=f1_score(df2_ytest, y_pred_RF20, average='macro')\n",
        "reclfRF_20=recall_score(df2_ytest, y_pred_RF20, average='macro')\n",
        "\n",
        "print ('Accuracy Score :',accclfRF_20)\n",
        "print(\"Precision Score: \",preclfRF_20)\n",
        "print(\"F1 Score: \",f1clfRF_20)\n",
        "print(\"Recall: \",reclfRF_20)\n"
      ],
      "execution_count": null,
      "outputs": [
        {
          "output_type": "stream",
          "text": [
            "\t\tRandom Forest Analysis of UNSW-NB15\n",
            "\n",
            "\t\tTop 20 Features \n",
            "Confusion Matrix :\n",
            "[[   38   219    17    68   226     1     9    96     3     0]\n",
            " [   34   150    14    37   238     1     9    94     6     0]\n",
            " [  434  1472   527   803   540    15    27   226    45     0]\n",
            " [  428  1441   179  7595   844    20    99   451    72     3]\n",
            " [  112   392    38   384  3836     4   874   191   231     0]\n",
            " [    6     9    36   381    49 18349    10     9    19     3]\n",
            " [  434     1    36   749  7543     6 28103     6   121     1]\n",
            " [   50   177    26   302    69     1     5  2836    30     0]\n",
            " [    0     1    11    52    43     0     9     3   258     1]\n",
            " [    0     0     0    31     2     1     1     0     0     9]]\n",
            "Accuracy Score : 0.7494169946072001\n",
            "Precision Score:  0.5220938277705522\n",
            "F1 Score:  0.4752407618578462\n",
            "Recall:  0.5187541028261868\n"
          ],
          "name": "stdout"
        }
      ]
    },
    {
      "cell_type": "code",
      "metadata": {
        "colab": {
          "base_uri": "https://localhost:8080/"
        },
        "id": "EpJHXBBTuKvd",
        "outputId": "bc6ace09-72f6-454a-faca-f805cf0ff999"
      },
      "source": [
        "print (\"\\t\\tRandom Forest Analysis of UNSW-NB15\\n\\n\\t\\tTop 30 Features \")\n",
        "\n",
        "#Create a Random Forest Classifier\n",
        "clfRF_all=RandomForestClassifier()\n",
        "\n",
        "#Train the model using the training sets y_pred=clf.predict(X_test)\n",
        "clfRF_all.fit(df3_xtrain,df3_ytrain)\n",
        "\n",
        "y_pred_RFall=clfRF_all.predict(df3_xtest)\n",
        "#print(\"Accuracy Random Forest:\",metrics.accuracy_score(y_test, y_pred_RF))\n",
        "\n",
        "results_all = confusion_matrix(df3_ytest, y_pred_RFall) \n",
        "print ('Confusion Matrix :')\n",
        "print(results_all) \n",
        "\n",
        "accclfRF_all=accuracy_score(df3_ytest, y_pred_RFall) \n",
        "preclfRF_all=precision_score(df3_ytest, y_pred_RFall, average='macro')\n",
        "f1clfRF_all=f1_score(df3_ytest, y_pred_RFall, average='macro')\n",
        "reclfRF_all=recall_score(df3_ytest, y_pred_RFall, average='macro')\n",
        "\n",
        "print ('Accuracy Score :',accclfRF_all)\n",
        "print(\"Precision Score: \",preclfRF_all)\n",
        "print(\"F1 Score: \",f1clfRF_all)\n",
        "print(\"Recall: \",reclfRF_all)\n"
      ],
      "execution_count": null,
      "outputs": [
        {
          "output_type": "stream",
          "text": [
            "\t\tRandom Forest Analysis of UNSW-NB15\n",
            "\n",
            "\t\tTop 30 Features \n",
            "Confusion Matrix :\n",
            "[[   30   271     7    71   238     0     3    54     3     0]\n",
            " [   29   189    11    33   257     0     1    57     6     0]\n",
            " [  222  1814   442   785   580     8    16   178    44     0]\n",
            " [  258  1790    99  7603   864    17    98   335    67     1]\n",
            " [   77   494    17   391  3867     4   905   106   201     0]\n",
            " [    1     6    37   401    62 18323     7    10    22     2]\n",
            " [  478     0    21   725  7342     5 28294    11   124     0]\n",
            " [   27   217    18   323    75     1     7  2810    18     0]\n",
            " [    0     0    11    51    41     1     8     1   264     1]\n",
            " [    0     0     0    32     3     1     1     0     0     7]]\n",
            "Accuracy Score : 0.7509716756546665\n",
            "Precision Score:  0.5493110210438574\n",
            "F1 Score:  0.4750998961874088\n",
            "Recall:  0.519443033842766\n"
          ],
          "name": "stdout"
        }
      ]
    },
    {
      "cell_type": "code",
      "metadata": {
        "id": "v6N3Y69QuLDL"
      },
      "source": [
        "#Logistic Regression Classifier \n"
      ],
      "execution_count": null,
      "outputs": []
    },
    {
      "cell_type": "code",
      "metadata": {
        "colab": {
          "base_uri": "https://localhost:8080/",
          "height": 540
        },
        "id": "GJHJebbCuSZr",
        "outputId": "4ccd205d-ae8c-440b-d2d1-3059f9d2ad44"
      },
      "source": [
        "print (\"\\t\\tLogistic Regression Analysis of UNSW-NB15\\n\\n\\t\\tTop 10 Features \")\n",
        "\n",
        "logisticRegr_10 = LogisticRegression(C=1e5, solver='newton-cg',max_iter=1000, multi_class='multinomial')\n",
        "\n",
        "logisticRegr_10.fit(df1_xtrain,df1_ytrain)\n",
        "\n",
        "y_pred_LR10 = logisticRegr_10.predict(df1_xtest)\n",
        "\n",
        "results_LR10 = confusion_matrix(df1_ytest, y_pred_LR10) \n",
        "print ('Confusion Matrix :')\n",
        "print(results_LR10) \n",
        "\n",
        "acclogisticRegr_10=accuracy_score(df1_ytest, y_pred_LR10)\n",
        "prelogisticRegr_10=precision_score(df1_ytest, y_pred_LR10, average='macro')\n",
        "f1logisticRegr_10=f1_score(df1_ytest, y_pred_LR10, average='macro')\n",
        "relogisticRegr_10=recall_score(df1_ytest, y_pred_LR10, average='macro')\n",
        "\n",
        "print ('Accuracy Score :',acclogisticRegr_10 )\n",
        "print(\"Precision Score: \",prelogisticRegr_10)\n",
        "print(\"F1 Score: \",f1logisticRegr_10)\n",
        "print(\"Recall: \",relogisticRegr_10)\n"
      ],
      "execution_count": null,
      "outputs": [
        {
          "output_type": "stream",
          "text": [
            "\t\tLogistic Regression Analysis of UNSW-NB15\n",
            "\n",
            "\t\tTop 10 Features \n"
          ],
          "name": "stdout"
        },
        {
          "output_type": "stream",
          "text": [
            "/usr/local/lib/python3.7/dist-packages/scipy/optimize/linesearch.py:466: LineSearchWarning:\n",
            "\n",
            "The line search algorithm did not converge\n",
            "\n",
            "/usr/local/lib/python3.7/dist-packages/scipy/optimize/linesearch.py:314: LineSearchWarning:\n",
            "\n",
            "The line search algorithm did not converge\n",
            "\n"
          ],
          "name": "stderr"
        },
        {
          "output_type": "error",
          "ename": "KeyboardInterrupt",
          "evalue": "ignored",
          "traceback": [
            "\u001b[0;31m---------------------------------------------------------------------------\u001b[0m",
            "\u001b[0;31mKeyboardInterrupt\u001b[0m                         Traceback (most recent call last)",
            "\u001b[0;32m<ipython-input-28-187a8e851665>\u001b[0m in \u001b[0;36m<module>\u001b[0;34m()\u001b[0m\n\u001b[1;32m      3\u001b[0m \u001b[0mlogisticRegr_10\u001b[0m \u001b[0;34m=\u001b[0m \u001b[0mLogisticRegression\u001b[0m\u001b[0;34m(\u001b[0m\u001b[0mC\u001b[0m\u001b[0;34m=\u001b[0m\u001b[0;36m1e5\u001b[0m\u001b[0;34m,\u001b[0m \u001b[0msolver\u001b[0m\u001b[0;34m=\u001b[0m\u001b[0;34m'newton-cg'\u001b[0m\u001b[0;34m,\u001b[0m\u001b[0mmax_iter\u001b[0m\u001b[0;34m=\u001b[0m\u001b[0;36m1000\u001b[0m\u001b[0;34m,\u001b[0m \u001b[0mmulti_class\u001b[0m\u001b[0;34m=\u001b[0m\u001b[0;34m'multinomial'\u001b[0m\u001b[0;34m)\u001b[0m\u001b[0;34m\u001b[0m\u001b[0;34m\u001b[0m\u001b[0m\n\u001b[1;32m      4\u001b[0m \u001b[0;34m\u001b[0m\u001b[0m\n\u001b[0;32m----> 5\u001b[0;31m \u001b[0mlogisticRegr_10\u001b[0m\u001b[0;34m.\u001b[0m\u001b[0mfit\u001b[0m\u001b[0;34m(\u001b[0m\u001b[0mdf1_xtrain\u001b[0m\u001b[0;34m,\u001b[0m\u001b[0mdf1_ytrain\u001b[0m\u001b[0;34m)\u001b[0m\u001b[0;34m\u001b[0m\u001b[0;34m\u001b[0m\u001b[0m\n\u001b[0m\u001b[1;32m      6\u001b[0m \u001b[0;34m\u001b[0m\u001b[0m\n\u001b[1;32m      7\u001b[0m \u001b[0my_pred_LR10\u001b[0m \u001b[0;34m=\u001b[0m \u001b[0mlogisticRegr_10\u001b[0m\u001b[0;34m.\u001b[0m\u001b[0mpredict\u001b[0m\u001b[0;34m(\u001b[0m\u001b[0mdf1_xtest\u001b[0m\u001b[0;34m)\u001b[0m\u001b[0;34m\u001b[0m\u001b[0;34m\u001b[0m\u001b[0m\n",
            "\u001b[0;32m/usr/local/lib/python3.7/dist-packages/sklearn/linear_model/_logistic.py\u001b[0m in \u001b[0;36mfit\u001b[0;34m(self, X, y, sample_weight)\u001b[0m\n\u001b[1;32m   1599\u001b[0m                       \u001b[0mpenalty\u001b[0m\u001b[0;34m=\u001b[0m\u001b[0mpenalty\u001b[0m\u001b[0;34m,\u001b[0m \u001b[0mmax_squared_sum\u001b[0m\u001b[0;34m=\u001b[0m\u001b[0mmax_squared_sum\u001b[0m\u001b[0;34m,\u001b[0m\u001b[0;34m\u001b[0m\u001b[0;34m\u001b[0m\u001b[0m\n\u001b[1;32m   1600\u001b[0m                       sample_weight=sample_weight)\n\u001b[0;32m-> 1601\u001b[0;31m             for class_, warm_start_coef_ in zip(classes_, warm_start_coef))\n\u001b[0m\u001b[1;32m   1602\u001b[0m \u001b[0;34m\u001b[0m\u001b[0m\n\u001b[1;32m   1603\u001b[0m         \u001b[0mfold_coefs_\u001b[0m\u001b[0;34m,\u001b[0m \u001b[0m_\u001b[0m\u001b[0;34m,\u001b[0m \u001b[0mn_iter_\u001b[0m \u001b[0;34m=\u001b[0m \u001b[0mzip\u001b[0m\u001b[0;34m(\u001b[0m\u001b[0;34m*\u001b[0m\u001b[0mfold_coefs_\u001b[0m\u001b[0;34m)\u001b[0m\u001b[0;34m\u001b[0m\u001b[0;34m\u001b[0m\u001b[0m\n",
            "\u001b[0;32m/usr/local/lib/python3.7/dist-packages/joblib/parallel.py\u001b[0m in \u001b[0;36m__call__\u001b[0;34m(self, iterable)\u001b[0m\n\u001b[1;32m   1039\u001b[0m             \u001b[0;31m# remaining jobs.\u001b[0m\u001b[0;34m\u001b[0m\u001b[0;34m\u001b[0m\u001b[0;34m\u001b[0m\u001b[0m\n\u001b[1;32m   1040\u001b[0m             \u001b[0mself\u001b[0m\u001b[0;34m.\u001b[0m\u001b[0m_iterating\u001b[0m \u001b[0;34m=\u001b[0m \u001b[0;32mFalse\u001b[0m\u001b[0;34m\u001b[0m\u001b[0;34m\u001b[0m\u001b[0m\n\u001b[0;32m-> 1041\u001b[0;31m             \u001b[0;32mif\u001b[0m \u001b[0mself\u001b[0m\u001b[0;34m.\u001b[0m\u001b[0mdispatch_one_batch\u001b[0m\u001b[0;34m(\u001b[0m\u001b[0miterator\u001b[0m\u001b[0;34m)\u001b[0m\u001b[0;34m:\u001b[0m\u001b[0;34m\u001b[0m\u001b[0;34m\u001b[0m\u001b[0m\n\u001b[0m\u001b[1;32m   1042\u001b[0m                 \u001b[0mself\u001b[0m\u001b[0;34m.\u001b[0m\u001b[0m_iterating\u001b[0m \u001b[0;34m=\u001b[0m \u001b[0mself\u001b[0m\u001b[0;34m.\u001b[0m\u001b[0m_original_iterator\u001b[0m \u001b[0;32mis\u001b[0m \u001b[0;32mnot\u001b[0m \u001b[0;32mNone\u001b[0m\u001b[0;34m\u001b[0m\u001b[0;34m\u001b[0m\u001b[0m\n\u001b[1;32m   1043\u001b[0m \u001b[0;34m\u001b[0m\u001b[0m\n",
            "\u001b[0;32m/usr/local/lib/python3.7/dist-packages/joblib/parallel.py\u001b[0m in \u001b[0;36mdispatch_one_batch\u001b[0;34m(self, iterator)\u001b[0m\n\u001b[1;32m    857\u001b[0m                 \u001b[0;32mreturn\u001b[0m \u001b[0;32mFalse\u001b[0m\u001b[0;34m\u001b[0m\u001b[0;34m\u001b[0m\u001b[0m\n\u001b[1;32m    858\u001b[0m             \u001b[0;32melse\u001b[0m\u001b[0;34m:\u001b[0m\u001b[0;34m\u001b[0m\u001b[0;34m\u001b[0m\u001b[0m\n\u001b[0;32m--> 859\u001b[0;31m                 \u001b[0mself\u001b[0m\u001b[0;34m.\u001b[0m\u001b[0m_dispatch\u001b[0m\u001b[0;34m(\u001b[0m\u001b[0mtasks\u001b[0m\u001b[0;34m)\u001b[0m\u001b[0;34m\u001b[0m\u001b[0;34m\u001b[0m\u001b[0m\n\u001b[0m\u001b[1;32m    860\u001b[0m                 \u001b[0;32mreturn\u001b[0m \u001b[0;32mTrue\u001b[0m\u001b[0;34m\u001b[0m\u001b[0;34m\u001b[0m\u001b[0m\n\u001b[1;32m    861\u001b[0m \u001b[0;34m\u001b[0m\u001b[0m\n",
            "\u001b[0;32m/usr/local/lib/python3.7/dist-packages/joblib/parallel.py\u001b[0m in \u001b[0;36m_dispatch\u001b[0;34m(self, batch)\u001b[0m\n\u001b[1;32m    775\u001b[0m         \u001b[0;32mwith\u001b[0m \u001b[0mself\u001b[0m\u001b[0;34m.\u001b[0m\u001b[0m_lock\u001b[0m\u001b[0;34m:\u001b[0m\u001b[0;34m\u001b[0m\u001b[0;34m\u001b[0m\u001b[0m\n\u001b[1;32m    776\u001b[0m             \u001b[0mjob_idx\u001b[0m \u001b[0;34m=\u001b[0m \u001b[0mlen\u001b[0m\u001b[0;34m(\u001b[0m\u001b[0mself\u001b[0m\u001b[0;34m.\u001b[0m\u001b[0m_jobs\u001b[0m\u001b[0;34m)\u001b[0m\u001b[0;34m\u001b[0m\u001b[0;34m\u001b[0m\u001b[0m\n\u001b[0;32m--> 777\u001b[0;31m             \u001b[0mjob\u001b[0m \u001b[0;34m=\u001b[0m \u001b[0mself\u001b[0m\u001b[0;34m.\u001b[0m\u001b[0m_backend\u001b[0m\u001b[0;34m.\u001b[0m\u001b[0mapply_async\u001b[0m\u001b[0;34m(\u001b[0m\u001b[0mbatch\u001b[0m\u001b[0;34m,\u001b[0m \u001b[0mcallback\u001b[0m\u001b[0;34m=\u001b[0m\u001b[0mcb\u001b[0m\u001b[0;34m)\u001b[0m\u001b[0;34m\u001b[0m\u001b[0;34m\u001b[0m\u001b[0m\n\u001b[0m\u001b[1;32m    778\u001b[0m             \u001b[0;31m# A job can complete so quickly than its callback is\u001b[0m\u001b[0;34m\u001b[0m\u001b[0;34m\u001b[0m\u001b[0;34m\u001b[0m\u001b[0m\n\u001b[1;32m    779\u001b[0m             \u001b[0;31m# called before we get here, causing self._jobs to\u001b[0m\u001b[0;34m\u001b[0m\u001b[0;34m\u001b[0m\u001b[0;34m\u001b[0m\u001b[0m\n",
            "\u001b[0;32m/usr/local/lib/python3.7/dist-packages/joblib/_parallel_backends.py\u001b[0m in \u001b[0;36mapply_async\u001b[0;34m(self, func, callback)\u001b[0m\n\u001b[1;32m    206\u001b[0m     \u001b[0;32mdef\u001b[0m \u001b[0mapply_async\u001b[0m\u001b[0;34m(\u001b[0m\u001b[0mself\u001b[0m\u001b[0;34m,\u001b[0m \u001b[0mfunc\u001b[0m\u001b[0;34m,\u001b[0m \u001b[0mcallback\u001b[0m\u001b[0;34m=\u001b[0m\u001b[0;32mNone\u001b[0m\u001b[0;34m)\u001b[0m\u001b[0;34m:\u001b[0m\u001b[0;34m\u001b[0m\u001b[0;34m\u001b[0m\u001b[0m\n\u001b[1;32m    207\u001b[0m         \u001b[0;34m\"\"\"Schedule a func to be run\"\"\"\u001b[0m\u001b[0;34m\u001b[0m\u001b[0;34m\u001b[0m\u001b[0m\n\u001b[0;32m--> 208\u001b[0;31m         \u001b[0mresult\u001b[0m \u001b[0;34m=\u001b[0m \u001b[0mImmediateResult\u001b[0m\u001b[0;34m(\u001b[0m\u001b[0mfunc\u001b[0m\u001b[0;34m)\u001b[0m\u001b[0;34m\u001b[0m\u001b[0;34m\u001b[0m\u001b[0m\n\u001b[0m\u001b[1;32m    209\u001b[0m         \u001b[0;32mif\u001b[0m \u001b[0mcallback\u001b[0m\u001b[0;34m:\u001b[0m\u001b[0;34m\u001b[0m\u001b[0;34m\u001b[0m\u001b[0m\n\u001b[1;32m    210\u001b[0m             \u001b[0mcallback\u001b[0m\u001b[0;34m(\u001b[0m\u001b[0mresult\u001b[0m\u001b[0;34m)\u001b[0m\u001b[0;34m\u001b[0m\u001b[0;34m\u001b[0m\u001b[0m\n",
            "\u001b[0;32m/usr/local/lib/python3.7/dist-packages/joblib/_parallel_backends.py\u001b[0m in \u001b[0;36m__init__\u001b[0;34m(self, batch)\u001b[0m\n\u001b[1;32m    570\u001b[0m         \u001b[0;31m# Don't delay the application, to avoid keeping the input\u001b[0m\u001b[0;34m\u001b[0m\u001b[0;34m\u001b[0m\u001b[0;34m\u001b[0m\u001b[0m\n\u001b[1;32m    571\u001b[0m         \u001b[0;31m# arguments in memory\u001b[0m\u001b[0;34m\u001b[0m\u001b[0;34m\u001b[0m\u001b[0;34m\u001b[0m\u001b[0m\n\u001b[0;32m--> 572\u001b[0;31m         \u001b[0mself\u001b[0m\u001b[0;34m.\u001b[0m\u001b[0mresults\u001b[0m \u001b[0;34m=\u001b[0m \u001b[0mbatch\u001b[0m\u001b[0;34m(\u001b[0m\u001b[0;34m)\u001b[0m\u001b[0;34m\u001b[0m\u001b[0;34m\u001b[0m\u001b[0m\n\u001b[0m\u001b[1;32m    573\u001b[0m \u001b[0;34m\u001b[0m\u001b[0m\n\u001b[1;32m    574\u001b[0m     \u001b[0;32mdef\u001b[0m \u001b[0mget\u001b[0m\u001b[0;34m(\u001b[0m\u001b[0mself\u001b[0m\u001b[0;34m)\u001b[0m\u001b[0;34m:\u001b[0m\u001b[0;34m\u001b[0m\u001b[0;34m\u001b[0m\u001b[0m\n",
            "\u001b[0;32m/usr/local/lib/python3.7/dist-packages/joblib/parallel.py\u001b[0m in \u001b[0;36m__call__\u001b[0;34m(self)\u001b[0m\n\u001b[1;32m    261\u001b[0m         \u001b[0;32mwith\u001b[0m \u001b[0mparallel_backend\u001b[0m\u001b[0;34m(\u001b[0m\u001b[0mself\u001b[0m\u001b[0;34m.\u001b[0m\u001b[0m_backend\u001b[0m\u001b[0;34m,\u001b[0m \u001b[0mn_jobs\u001b[0m\u001b[0;34m=\u001b[0m\u001b[0mself\u001b[0m\u001b[0;34m.\u001b[0m\u001b[0m_n_jobs\u001b[0m\u001b[0;34m)\u001b[0m\u001b[0;34m:\u001b[0m\u001b[0;34m\u001b[0m\u001b[0;34m\u001b[0m\u001b[0m\n\u001b[1;32m    262\u001b[0m             return [func(*args, **kwargs)\n\u001b[0;32m--> 263\u001b[0;31m                     for func, args, kwargs in self.items]\n\u001b[0m\u001b[1;32m    264\u001b[0m \u001b[0;34m\u001b[0m\u001b[0m\n\u001b[1;32m    265\u001b[0m     \u001b[0;32mdef\u001b[0m \u001b[0m__reduce__\u001b[0m\u001b[0;34m(\u001b[0m\u001b[0mself\u001b[0m\u001b[0;34m)\u001b[0m\u001b[0;34m:\u001b[0m\u001b[0;34m\u001b[0m\u001b[0;34m\u001b[0m\u001b[0m\n",
            "\u001b[0;32m/usr/local/lib/python3.7/dist-packages/joblib/parallel.py\u001b[0m in \u001b[0;36m<listcomp>\u001b[0;34m(.0)\u001b[0m\n\u001b[1;32m    261\u001b[0m         \u001b[0;32mwith\u001b[0m \u001b[0mparallel_backend\u001b[0m\u001b[0;34m(\u001b[0m\u001b[0mself\u001b[0m\u001b[0;34m.\u001b[0m\u001b[0m_backend\u001b[0m\u001b[0;34m,\u001b[0m \u001b[0mn_jobs\u001b[0m\u001b[0;34m=\u001b[0m\u001b[0mself\u001b[0m\u001b[0;34m.\u001b[0m\u001b[0m_n_jobs\u001b[0m\u001b[0;34m)\u001b[0m\u001b[0;34m:\u001b[0m\u001b[0;34m\u001b[0m\u001b[0;34m\u001b[0m\u001b[0m\n\u001b[1;32m    262\u001b[0m             return [func(*args, **kwargs)\n\u001b[0;32m--> 263\u001b[0;31m                     for func, args, kwargs in self.items]\n\u001b[0m\u001b[1;32m    264\u001b[0m \u001b[0;34m\u001b[0m\u001b[0m\n\u001b[1;32m    265\u001b[0m     \u001b[0;32mdef\u001b[0m \u001b[0m__reduce__\u001b[0m\u001b[0;34m(\u001b[0m\u001b[0mself\u001b[0m\u001b[0;34m)\u001b[0m\u001b[0;34m:\u001b[0m\u001b[0;34m\u001b[0m\u001b[0;34m\u001b[0m\u001b[0m\n",
            "\u001b[0;32m/usr/local/lib/python3.7/dist-packages/sklearn/linear_model/_logistic.py\u001b[0m in \u001b[0;36m_logistic_regression_path\u001b[0;34m(X, y, pos_class, Cs, fit_intercept, max_iter, tol, verbose, solver, coef, class_weight, dual, penalty, intercept_scaling, multi_class, random_state, check_input, max_squared_sum, sample_weight, l1_ratio)\u001b[0m\n\u001b[1;32m    943\u001b[0m             \u001b[0margs\u001b[0m \u001b[0;34m=\u001b[0m \u001b[0;34m(\u001b[0m\u001b[0mX\u001b[0m\u001b[0;34m,\u001b[0m \u001b[0mtarget\u001b[0m\u001b[0;34m,\u001b[0m \u001b[0;36m1.\u001b[0m \u001b[0;34m/\u001b[0m \u001b[0mC\u001b[0m\u001b[0;34m,\u001b[0m \u001b[0msample_weight\u001b[0m\u001b[0;34m)\u001b[0m\u001b[0;34m\u001b[0m\u001b[0;34m\u001b[0m\u001b[0m\n\u001b[1;32m    944\u001b[0m             w0, n_iter_i = _newton_cg(hess, func, grad, w0, args=args,\n\u001b[0;32m--> 945\u001b[0;31m                                       maxiter=max_iter, tol=tol)\n\u001b[0m\u001b[1;32m    946\u001b[0m         \u001b[0;32melif\u001b[0m \u001b[0msolver\u001b[0m \u001b[0;34m==\u001b[0m \u001b[0;34m'liblinear'\u001b[0m\u001b[0;34m:\u001b[0m\u001b[0;34m\u001b[0m\u001b[0;34m\u001b[0m\u001b[0m\n\u001b[1;32m    947\u001b[0m             coef_, intercept_, n_iter_i, = _fit_liblinear(\n",
            "\u001b[0;32m/usr/local/lib/python3.7/dist-packages/sklearn/utils/optimize.py\u001b[0m in \u001b[0;36m_newton_cg\u001b[0;34m(grad_hess, func, grad, x0, args, tol, maxiter, maxinner, line_search, warn)\u001b[0m\n\u001b[1;32m    200\u001b[0m                 \u001b[0malphak\u001b[0m\u001b[0;34m,\u001b[0m \u001b[0mfc\u001b[0m\u001b[0;34m,\u001b[0m \u001b[0mgc\u001b[0m\u001b[0;34m,\u001b[0m \u001b[0mold_fval\u001b[0m\u001b[0;34m,\u001b[0m \u001b[0mold_old_fval\u001b[0m\u001b[0;34m,\u001b[0m \u001b[0mgfkp1\u001b[0m \u001b[0;34m=\u001b[0m\u001b[0;31m \u001b[0m\u001b[0;31m\\\u001b[0m\u001b[0;34m\u001b[0m\u001b[0;34m\u001b[0m\u001b[0m\n\u001b[1;32m    201\u001b[0m                     _line_search_wolfe12(func, grad, xk, xsupi, fgrad,\n\u001b[0;32m--> 202\u001b[0;31m                                          old_fval, old_old_fval, args=args)\n\u001b[0m\u001b[1;32m    203\u001b[0m             \u001b[0;32mexcept\u001b[0m \u001b[0m_LineSearchError\u001b[0m\u001b[0;34m:\u001b[0m\u001b[0;34m\u001b[0m\u001b[0;34m\u001b[0m\u001b[0m\n\u001b[1;32m    204\u001b[0m                 \u001b[0mwarnings\u001b[0m\u001b[0;34m.\u001b[0m\u001b[0mwarn\u001b[0m\u001b[0;34m(\u001b[0m\u001b[0;34m'Line Search failed'\u001b[0m\u001b[0;34m)\u001b[0m\u001b[0;34m\u001b[0m\u001b[0;34m\u001b[0m\u001b[0m\n",
            "\u001b[0;32m/usr/local/lib/python3.7/dist-packages/sklearn/utils/optimize.py\u001b[0m in \u001b[0;36m_line_search_wolfe12\u001b[0;34m(f, fprime, xk, pk, gfk, old_fval, old_old_fval, **kwargs)\u001b[0m\n\u001b[1;32m     41\u001b[0m     ret = line_search_wolfe1(f, fprime, xk, pk, gfk,\n\u001b[1;32m     42\u001b[0m                              \u001b[0mold_fval\u001b[0m\u001b[0;34m,\u001b[0m \u001b[0mold_old_fval\u001b[0m\u001b[0;34m,\u001b[0m\u001b[0;34m\u001b[0m\u001b[0;34m\u001b[0m\u001b[0m\n\u001b[0;32m---> 43\u001b[0;31m                              **kwargs)\n\u001b[0m\u001b[1;32m     44\u001b[0m \u001b[0;34m\u001b[0m\u001b[0m\n\u001b[1;32m     45\u001b[0m     \u001b[0;32mif\u001b[0m \u001b[0mret\u001b[0m\u001b[0;34m[\u001b[0m\u001b[0;36m0\u001b[0m\u001b[0;34m]\u001b[0m \u001b[0;32mis\u001b[0m \u001b[0;32mNone\u001b[0m\u001b[0;34m:\u001b[0m\u001b[0;34m\u001b[0m\u001b[0;34m\u001b[0m\u001b[0m\n",
            "\u001b[0;32m/usr/local/lib/python3.7/dist-packages/scipy/optimize/linesearch.py\u001b[0m in \u001b[0;36mline_search_wolfe1\u001b[0;34m(f, fprime, xk, pk, gfk, old_fval, old_old_fval, args, c1, c2, amax, amin, xtol)\u001b[0m\n\u001b[1;32m     99\u001b[0m     stp, fval, old_fval = scalar_search_wolfe1(\n\u001b[1;32m    100\u001b[0m             \u001b[0mphi\u001b[0m\u001b[0;34m,\u001b[0m \u001b[0mderphi\u001b[0m\u001b[0;34m,\u001b[0m \u001b[0mold_fval\u001b[0m\u001b[0;34m,\u001b[0m \u001b[0mold_old_fval\u001b[0m\u001b[0;34m,\u001b[0m \u001b[0mderphi0\u001b[0m\u001b[0;34m,\u001b[0m\u001b[0;34m\u001b[0m\u001b[0;34m\u001b[0m\u001b[0m\n\u001b[0;32m--> 101\u001b[0;31m             c1=c1, c2=c2, amax=amax, amin=amin, xtol=xtol)\n\u001b[0m\u001b[1;32m    102\u001b[0m \u001b[0;34m\u001b[0m\u001b[0m\n\u001b[1;32m    103\u001b[0m     \u001b[0;32mreturn\u001b[0m \u001b[0mstp\u001b[0m\u001b[0;34m,\u001b[0m \u001b[0mfc\u001b[0m\u001b[0;34m[\u001b[0m\u001b[0;36m0\u001b[0m\u001b[0;34m]\u001b[0m\u001b[0;34m,\u001b[0m \u001b[0mgc\u001b[0m\u001b[0;34m[\u001b[0m\u001b[0;36m0\u001b[0m\u001b[0;34m]\u001b[0m\u001b[0;34m,\u001b[0m \u001b[0mfval\u001b[0m\u001b[0;34m,\u001b[0m \u001b[0mold_fval\u001b[0m\u001b[0;34m,\u001b[0m \u001b[0mgval\u001b[0m\u001b[0;34m[\u001b[0m\u001b[0;36m0\u001b[0m\u001b[0;34m]\u001b[0m\u001b[0;34m\u001b[0m\u001b[0;34m\u001b[0m\u001b[0m\n",
            "\u001b[0;32m/usr/local/lib/python3.7/dist-packages/scipy/optimize/linesearch.py\u001b[0m in \u001b[0;36mscalar_search_wolfe1\u001b[0;34m(phi, derphi, phi0, old_phi0, derphi0, c1, c2, amax, amin, xtol)\u001b[0m\n\u001b[1;32m    173\u001b[0m         \u001b[0;32mif\u001b[0m \u001b[0mtask\u001b[0m\u001b[0;34m[\u001b[0m\u001b[0;34m:\u001b[0m\u001b[0;36m2\u001b[0m\u001b[0;34m]\u001b[0m \u001b[0;34m==\u001b[0m \u001b[0;34mb'FG'\u001b[0m\u001b[0;34m:\u001b[0m\u001b[0;34m\u001b[0m\u001b[0;34m\u001b[0m\u001b[0m\n\u001b[1;32m    174\u001b[0m             \u001b[0malpha1\u001b[0m \u001b[0;34m=\u001b[0m \u001b[0mstp\u001b[0m\u001b[0;34m\u001b[0m\u001b[0;34m\u001b[0m\u001b[0m\n\u001b[0;32m--> 175\u001b[0;31m             \u001b[0mphi1\u001b[0m \u001b[0;34m=\u001b[0m \u001b[0mphi\u001b[0m\u001b[0;34m(\u001b[0m\u001b[0mstp\u001b[0m\u001b[0;34m)\u001b[0m\u001b[0;34m\u001b[0m\u001b[0;34m\u001b[0m\u001b[0m\n\u001b[0m\u001b[1;32m    176\u001b[0m             \u001b[0mderphi1\u001b[0m \u001b[0;34m=\u001b[0m \u001b[0mderphi\u001b[0m\u001b[0;34m(\u001b[0m\u001b[0mstp\u001b[0m\u001b[0;34m)\u001b[0m\u001b[0;34m\u001b[0m\u001b[0;34m\u001b[0m\u001b[0m\n\u001b[1;32m    177\u001b[0m         \u001b[0;32melse\u001b[0m\u001b[0;34m:\u001b[0m\u001b[0;34m\u001b[0m\u001b[0;34m\u001b[0m\u001b[0m\n",
            "\u001b[0;32m/usr/local/lib/python3.7/dist-packages/scipy/optimize/linesearch.py\u001b[0m in \u001b[0;36mphi\u001b[0;34m(s)\u001b[0m\n\u001b[1;32m     85\u001b[0m     \u001b[0;32mdef\u001b[0m \u001b[0mphi\u001b[0m\u001b[0;34m(\u001b[0m\u001b[0ms\u001b[0m\u001b[0;34m)\u001b[0m\u001b[0;34m:\u001b[0m\u001b[0;34m\u001b[0m\u001b[0;34m\u001b[0m\u001b[0m\n\u001b[1;32m     86\u001b[0m         \u001b[0mfc\u001b[0m\u001b[0;34m[\u001b[0m\u001b[0;36m0\u001b[0m\u001b[0;34m]\u001b[0m \u001b[0;34m+=\u001b[0m \u001b[0;36m1\u001b[0m\u001b[0;34m\u001b[0m\u001b[0;34m\u001b[0m\u001b[0m\n\u001b[0;32m---> 87\u001b[0;31m         \u001b[0;32mreturn\u001b[0m \u001b[0mf\u001b[0m\u001b[0;34m(\u001b[0m\u001b[0mxk\u001b[0m \u001b[0;34m+\u001b[0m \u001b[0ms\u001b[0m\u001b[0;34m*\u001b[0m\u001b[0mpk\u001b[0m\u001b[0;34m,\u001b[0m \u001b[0;34m*\u001b[0m\u001b[0margs\u001b[0m\u001b[0;34m)\u001b[0m\u001b[0;34m\u001b[0m\u001b[0;34m\u001b[0m\u001b[0m\n\u001b[0m\u001b[1;32m     88\u001b[0m \u001b[0;34m\u001b[0m\u001b[0m\n\u001b[1;32m     89\u001b[0m     \u001b[0;32mdef\u001b[0m \u001b[0mderphi\u001b[0m\u001b[0;34m(\u001b[0m\u001b[0ms\u001b[0m\u001b[0;34m)\u001b[0m\u001b[0;34m:\u001b[0m\u001b[0;34m\u001b[0m\u001b[0;34m\u001b[0m\u001b[0m\n",
            "\u001b[0;32m/usr/local/lib/python3.7/dist-packages/sklearn/linear_model/_logistic.py\u001b[0m in \u001b[0;36m<lambda>\u001b[0;34m(x, *args)\u001b[0m\n\u001b[1;32m    911\u001b[0m             \u001b[0mfunc\u001b[0m \u001b[0;34m=\u001b[0m \u001b[0;32mlambda\u001b[0m \u001b[0mx\u001b[0m\u001b[0;34m,\u001b[0m \u001b[0;34m*\u001b[0m\u001b[0margs\u001b[0m\u001b[0;34m:\u001b[0m \u001b[0m_multinomial_loss_grad\u001b[0m\u001b[0;34m(\u001b[0m\u001b[0mx\u001b[0m\u001b[0;34m,\u001b[0m \u001b[0;34m*\u001b[0m\u001b[0margs\u001b[0m\u001b[0;34m)\u001b[0m\u001b[0;34m[\u001b[0m\u001b[0;36m0\u001b[0m\u001b[0;34m:\u001b[0m\u001b[0;36m2\u001b[0m\u001b[0;34m]\u001b[0m\u001b[0;34m\u001b[0m\u001b[0;34m\u001b[0m\u001b[0m\n\u001b[1;32m    912\u001b[0m         \u001b[0;32melif\u001b[0m \u001b[0msolver\u001b[0m \u001b[0;34m==\u001b[0m \u001b[0;34m'newton-cg'\u001b[0m\u001b[0;34m:\u001b[0m\u001b[0;34m\u001b[0m\u001b[0;34m\u001b[0m\u001b[0m\n\u001b[0;32m--> 913\u001b[0;31m             \u001b[0mfunc\u001b[0m \u001b[0;34m=\u001b[0m \u001b[0;32mlambda\u001b[0m \u001b[0mx\u001b[0m\u001b[0;34m,\u001b[0m \u001b[0;34m*\u001b[0m\u001b[0margs\u001b[0m\u001b[0;34m:\u001b[0m \u001b[0m_multinomial_loss\u001b[0m\u001b[0;34m(\u001b[0m\u001b[0mx\u001b[0m\u001b[0;34m,\u001b[0m \u001b[0;34m*\u001b[0m\u001b[0margs\u001b[0m\u001b[0;34m)\u001b[0m\u001b[0;34m[\u001b[0m\u001b[0;36m0\u001b[0m\u001b[0;34m]\u001b[0m\u001b[0;34m\u001b[0m\u001b[0;34m\u001b[0m\u001b[0m\n\u001b[0m\u001b[1;32m    914\u001b[0m             \u001b[0mgrad\u001b[0m \u001b[0;34m=\u001b[0m \u001b[0;32mlambda\u001b[0m \u001b[0mx\u001b[0m\u001b[0;34m,\u001b[0m \u001b[0;34m*\u001b[0m\u001b[0margs\u001b[0m\u001b[0;34m:\u001b[0m \u001b[0m_multinomial_loss_grad\u001b[0m\u001b[0;34m(\u001b[0m\u001b[0mx\u001b[0m\u001b[0;34m,\u001b[0m \u001b[0;34m*\u001b[0m\u001b[0margs\u001b[0m\u001b[0;34m)\u001b[0m\u001b[0;34m[\u001b[0m\u001b[0;36m1\u001b[0m\u001b[0;34m]\u001b[0m\u001b[0;34m\u001b[0m\u001b[0;34m\u001b[0m\u001b[0m\n\u001b[1;32m    915\u001b[0m             \u001b[0mhess\u001b[0m \u001b[0;34m=\u001b[0m \u001b[0m_multinomial_grad_hess\u001b[0m\u001b[0;34m\u001b[0m\u001b[0;34m\u001b[0m\u001b[0m\n",
            "\u001b[0;32m/usr/local/lib/python3.7/dist-packages/sklearn/linear_model/_logistic.py\u001b[0m in \u001b[0;36m_multinomial_loss\u001b[0;34m(w, X, Y, alpha, sample_weight)\u001b[0m\n\u001b[1;32m    297\u001b[0m     \u001b[0mp\u001b[0m \u001b[0;34m=\u001b[0m \u001b[0msafe_sparse_dot\u001b[0m\u001b[0;34m(\u001b[0m\u001b[0mX\u001b[0m\u001b[0;34m,\u001b[0m \u001b[0mw\u001b[0m\u001b[0;34m.\u001b[0m\u001b[0mT\u001b[0m\u001b[0;34m)\u001b[0m\u001b[0;34m\u001b[0m\u001b[0;34m\u001b[0m\u001b[0m\n\u001b[1;32m    298\u001b[0m     \u001b[0mp\u001b[0m \u001b[0;34m+=\u001b[0m \u001b[0mintercept\u001b[0m\u001b[0;34m\u001b[0m\u001b[0;34m\u001b[0m\u001b[0m\n\u001b[0;32m--> 299\u001b[0;31m     \u001b[0mp\u001b[0m \u001b[0;34m-=\u001b[0m \u001b[0mlogsumexp\u001b[0m\u001b[0;34m(\u001b[0m\u001b[0mp\u001b[0m\u001b[0;34m,\u001b[0m \u001b[0maxis\u001b[0m\u001b[0;34m=\u001b[0m\u001b[0;36m1\u001b[0m\u001b[0;34m)\u001b[0m\u001b[0;34m[\u001b[0m\u001b[0;34m:\u001b[0m\u001b[0;34m,\u001b[0m \u001b[0mnp\u001b[0m\u001b[0;34m.\u001b[0m\u001b[0mnewaxis\u001b[0m\u001b[0;34m]\u001b[0m\u001b[0;34m\u001b[0m\u001b[0;34m\u001b[0m\u001b[0m\n\u001b[0m\u001b[1;32m    300\u001b[0m     \u001b[0mloss\u001b[0m \u001b[0;34m=\u001b[0m \u001b[0;34m-\u001b[0m\u001b[0;34m(\u001b[0m\u001b[0msample_weight\u001b[0m \u001b[0;34m*\u001b[0m \u001b[0mY\u001b[0m \u001b[0;34m*\u001b[0m \u001b[0mp\u001b[0m\u001b[0;34m)\u001b[0m\u001b[0;34m.\u001b[0m\u001b[0msum\u001b[0m\u001b[0;34m(\u001b[0m\u001b[0;34m)\u001b[0m\u001b[0;34m\u001b[0m\u001b[0;34m\u001b[0m\u001b[0m\n\u001b[1;32m    301\u001b[0m     \u001b[0mloss\u001b[0m \u001b[0;34m+=\u001b[0m \u001b[0;36m0.5\u001b[0m \u001b[0;34m*\u001b[0m \u001b[0malpha\u001b[0m \u001b[0;34m*\u001b[0m \u001b[0msquared_norm\u001b[0m\u001b[0;34m(\u001b[0m\u001b[0mw\u001b[0m\u001b[0;34m)\u001b[0m\u001b[0;34m\u001b[0m\u001b[0;34m\u001b[0m\u001b[0m\n",
            "\u001b[0;31mKeyboardInterrupt\u001b[0m: "
          ]
        }
      ]
    },
    {
      "cell_type": "code",
      "metadata": {
        "colab": {
          "base_uri": "https://localhost:8080/",
          "height": 410
        },
        "id": "_xO1WIT4uScz",
        "outputId": "f67b672e-cb84-4c81-f9d5-aee525edaf38"
      },
      "source": [
        "print (\"\\t\\tLogistic Regression Analysis of UNSW NB15\\n\\n\\t\\tTop 20 Features \")\n",
        "\n",
        "logisticRegr_20 = LogisticRegression(C=1e5, solver='newton-cg',max_iter=1000, multi_class='multinomial')\n",
        "\n",
        "logisticRegr_20.fit(df2_xtrain,df2_ytrain)\n",
        "\n",
        "y_pred_LR20 = logisticRegr_20.predict(df2_xtest)\n",
        "\n",
        "results_LR20 = confusion_matrix(df2_ytest, y_pred_LR20) \n",
        "print ('Confusion Matrix :')\n",
        "print(results_LR20) \n",
        "\n",
        "acclogisticRegr_20=accuracy_score(df2_ytest, y_pred_LR20)\n",
        "prelogisticRegr_20=precision_score(df2_ytest, y_pred_LR20, average='macro')\n",
        "f1logisticRegr_20=f1_score(df2_ytest, y_pred_LR20, average='macro')\n",
        "relogisticRegr_20=recall_score(df2_ytest, y_pred_LR20, average='macro')\n",
        "\n",
        "print ('Accuracy Score :',acclogisticRegr_20 )\n",
        "print(\"Precision Score: \",prelogisticRegr_20)\n",
        "print(\"F1 Score: \",f1logisticRegr_20)\n",
        "print(\"Recall: \",relogisticRegr_20)\n"
      ],
      "execution_count": null,
      "outputs": [
        {
          "output_type": "stream",
          "text": [
            "\t\tLogistic Regression Analysis of UNSW NB15\n",
            "\n",
            "\t\tTop 20 Features \n"
          ],
          "name": "stdout"
        },
        {
          "output_type": "error",
          "ename": "KeyboardInterrupt",
          "evalue": "ignored",
          "traceback": [
            "\u001b[0;31m---------------------------------------------------------------------------\u001b[0m",
            "\u001b[0;31mKeyboardInterrupt\u001b[0m                         Traceback (most recent call last)",
            "\u001b[0;32m<ipython-input-30-1923c723dd65>\u001b[0m in \u001b[0;36m<module>\u001b[0;34m()\u001b[0m\n\u001b[1;32m      3\u001b[0m \u001b[0mlogisticRegr_20\u001b[0m \u001b[0;34m=\u001b[0m \u001b[0mLogisticRegression\u001b[0m\u001b[0;34m(\u001b[0m\u001b[0mC\u001b[0m\u001b[0;34m=\u001b[0m\u001b[0;36m1e5\u001b[0m\u001b[0;34m,\u001b[0m \u001b[0msolver\u001b[0m\u001b[0;34m=\u001b[0m\u001b[0;34m'newton-cg'\u001b[0m\u001b[0;34m,\u001b[0m\u001b[0mmax_iter\u001b[0m\u001b[0;34m=\u001b[0m\u001b[0;36m1000\u001b[0m\u001b[0;34m,\u001b[0m \u001b[0mmulti_class\u001b[0m\u001b[0;34m=\u001b[0m\u001b[0;34m'multinomial'\u001b[0m\u001b[0;34m)\u001b[0m\u001b[0;34m\u001b[0m\u001b[0;34m\u001b[0m\u001b[0m\n\u001b[1;32m      4\u001b[0m \u001b[0;34m\u001b[0m\u001b[0m\n\u001b[0;32m----> 5\u001b[0;31m \u001b[0mlogisticRegr_20\u001b[0m\u001b[0;34m.\u001b[0m\u001b[0mfit\u001b[0m\u001b[0;34m(\u001b[0m\u001b[0mdf2_xtrain\u001b[0m\u001b[0;34m,\u001b[0m\u001b[0mdf2_ytrain\u001b[0m\u001b[0;34m)\u001b[0m\u001b[0;34m\u001b[0m\u001b[0;34m\u001b[0m\u001b[0m\n\u001b[0m\u001b[1;32m      6\u001b[0m \u001b[0;34m\u001b[0m\u001b[0m\n\u001b[1;32m      7\u001b[0m \u001b[0my_pred_LR20\u001b[0m \u001b[0;34m=\u001b[0m \u001b[0mlogisticRegr_20\u001b[0m\u001b[0;34m.\u001b[0m\u001b[0mpredict\u001b[0m\u001b[0;34m(\u001b[0m\u001b[0mdf2_xtest\u001b[0m\u001b[0;34m)\u001b[0m\u001b[0;34m\u001b[0m\u001b[0;34m\u001b[0m\u001b[0m\n",
            "\u001b[0;32m/usr/local/lib/python3.7/dist-packages/sklearn/linear_model/_logistic.py\u001b[0m in \u001b[0;36mfit\u001b[0;34m(self, X, y, sample_weight)\u001b[0m\n\u001b[1;32m   1599\u001b[0m                       \u001b[0mpenalty\u001b[0m\u001b[0;34m=\u001b[0m\u001b[0mpenalty\u001b[0m\u001b[0;34m,\u001b[0m \u001b[0mmax_squared_sum\u001b[0m\u001b[0;34m=\u001b[0m\u001b[0mmax_squared_sum\u001b[0m\u001b[0;34m,\u001b[0m\u001b[0;34m\u001b[0m\u001b[0;34m\u001b[0m\u001b[0m\n\u001b[1;32m   1600\u001b[0m                       sample_weight=sample_weight)\n\u001b[0;32m-> 1601\u001b[0;31m             for class_, warm_start_coef_ in zip(classes_, warm_start_coef))\n\u001b[0m\u001b[1;32m   1602\u001b[0m \u001b[0;34m\u001b[0m\u001b[0m\n\u001b[1;32m   1603\u001b[0m         \u001b[0mfold_coefs_\u001b[0m\u001b[0;34m,\u001b[0m \u001b[0m_\u001b[0m\u001b[0;34m,\u001b[0m \u001b[0mn_iter_\u001b[0m \u001b[0;34m=\u001b[0m \u001b[0mzip\u001b[0m\u001b[0;34m(\u001b[0m\u001b[0;34m*\u001b[0m\u001b[0mfold_coefs_\u001b[0m\u001b[0;34m)\u001b[0m\u001b[0;34m\u001b[0m\u001b[0;34m\u001b[0m\u001b[0m\n",
            "\u001b[0;32m/usr/local/lib/python3.7/dist-packages/joblib/parallel.py\u001b[0m in \u001b[0;36m__call__\u001b[0;34m(self, iterable)\u001b[0m\n\u001b[1;32m   1039\u001b[0m             \u001b[0;31m# remaining jobs.\u001b[0m\u001b[0;34m\u001b[0m\u001b[0;34m\u001b[0m\u001b[0;34m\u001b[0m\u001b[0m\n\u001b[1;32m   1040\u001b[0m             \u001b[0mself\u001b[0m\u001b[0;34m.\u001b[0m\u001b[0m_iterating\u001b[0m \u001b[0;34m=\u001b[0m \u001b[0;32mFalse\u001b[0m\u001b[0;34m\u001b[0m\u001b[0;34m\u001b[0m\u001b[0m\n\u001b[0;32m-> 1041\u001b[0;31m             \u001b[0;32mif\u001b[0m \u001b[0mself\u001b[0m\u001b[0;34m.\u001b[0m\u001b[0mdispatch_one_batch\u001b[0m\u001b[0;34m(\u001b[0m\u001b[0miterator\u001b[0m\u001b[0;34m)\u001b[0m\u001b[0;34m:\u001b[0m\u001b[0;34m\u001b[0m\u001b[0;34m\u001b[0m\u001b[0m\n\u001b[0m\u001b[1;32m   1042\u001b[0m                 \u001b[0mself\u001b[0m\u001b[0;34m.\u001b[0m\u001b[0m_iterating\u001b[0m \u001b[0;34m=\u001b[0m \u001b[0mself\u001b[0m\u001b[0;34m.\u001b[0m\u001b[0m_original_iterator\u001b[0m \u001b[0;32mis\u001b[0m \u001b[0;32mnot\u001b[0m \u001b[0;32mNone\u001b[0m\u001b[0;34m\u001b[0m\u001b[0;34m\u001b[0m\u001b[0m\n\u001b[1;32m   1043\u001b[0m \u001b[0;34m\u001b[0m\u001b[0m\n",
            "\u001b[0;32m/usr/local/lib/python3.7/dist-packages/joblib/parallel.py\u001b[0m in \u001b[0;36mdispatch_one_batch\u001b[0;34m(self, iterator)\u001b[0m\n\u001b[1;32m    857\u001b[0m                 \u001b[0;32mreturn\u001b[0m \u001b[0;32mFalse\u001b[0m\u001b[0;34m\u001b[0m\u001b[0;34m\u001b[0m\u001b[0m\n\u001b[1;32m    858\u001b[0m             \u001b[0;32melse\u001b[0m\u001b[0;34m:\u001b[0m\u001b[0;34m\u001b[0m\u001b[0;34m\u001b[0m\u001b[0m\n\u001b[0;32m--> 859\u001b[0;31m                 \u001b[0mself\u001b[0m\u001b[0;34m.\u001b[0m\u001b[0m_dispatch\u001b[0m\u001b[0;34m(\u001b[0m\u001b[0mtasks\u001b[0m\u001b[0;34m)\u001b[0m\u001b[0;34m\u001b[0m\u001b[0;34m\u001b[0m\u001b[0m\n\u001b[0m\u001b[1;32m    860\u001b[0m                 \u001b[0;32mreturn\u001b[0m \u001b[0;32mTrue\u001b[0m\u001b[0;34m\u001b[0m\u001b[0;34m\u001b[0m\u001b[0m\n\u001b[1;32m    861\u001b[0m \u001b[0;34m\u001b[0m\u001b[0m\n",
            "\u001b[0;32m/usr/local/lib/python3.7/dist-packages/joblib/parallel.py\u001b[0m in \u001b[0;36m_dispatch\u001b[0;34m(self, batch)\u001b[0m\n\u001b[1;32m    775\u001b[0m         \u001b[0;32mwith\u001b[0m \u001b[0mself\u001b[0m\u001b[0;34m.\u001b[0m\u001b[0m_lock\u001b[0m\u001b[0;34m:\u001b[0m\u001b[0;34m\u001b[0m\u001b[0;34m\u001b[0m\u001b[0m\n\u001b[1;32m    776\u001b[0m             \u001b[0mjob_idx\u001b[0m \u001b[0;34m=\u001b[0m \u001b[0mlen\u001b[0m\u001b[0;34m(\u001b[0m\u001b[0mself\u001b[0m\u001b[0;34m.\u001b[0m\u001b[0m_jobs\u001b[0m\u001b[0;34m)\u001b[0m\u001b[0;34m\u001b[0m\u001b[0;34m\u001b[0m\u001b[0m\n\u001b[0;32m--> 777\u001b[0;31m             \u001b[0mjob\u001b[0m \u001b[0;34m=\u001b[0m \u001b[0mself\u001b[0m\u001b[0;34m.\u001b[0m\u001b[0m_backend\u001b[0m\u001b[0;34m.\u001b[0m\u001b[0mapply_async\u001b[0m\u001b[0;34m(\u001b[0m\u001b[0mbatch\u001b[0m\u001b[0;34m,\u001b[0m \u001b[0mcallback\u001b[0m\u001b[0;34m=\u001b[0m\u001b[0mcb\u001b[0m\u001b[0;34m)\u001b[0m\u001b[0;34m\u001b[0m\u001b[0;34m\u001b[0m\u001b[0m\n\u001b[0m\u001b[1;32m    778\u001b[0m             \u001b[0;31m# A job can complete so quickly than its callback is\u001b[0m\u001b[0;34m\u001b[0m\u001b[0;34m\u001b[0m\u001b[0;34m\u001b[0m\u001b[0m\n\u001b[1;32m    779\u001b[0m             \u001b[0;31m# called before we get here, causing self._jobs to\u001b[0m\u001b[0;34m\u001b[0m\u001b[0;34m\u001b[0m\u001b[0;34m\u001b[0m\u001b[0m\n",
            "\u001b[0;32m/usr/local/lib/python3.7/dist-packages/joblib/_parallel_backends.py\u001b[0m in \u001b[0;36mapply_async\u001b[0;34m(self, func, callback)\u001b[0m\n\u001b[1;32m    206\u001b[0m     \u001b[0;32mdef\u001b[0m \u001b[0mapply_async\u001b[0m\u001b[0;34m(\u001b[0m\u001b[0mself\u001b[0m\u001b[0;34m,\u001b[0m \u001b[0mfunc\u001b[0m\u001b[0;34m,\u001b[0m \u001b[0mcallback\u001b[0m\u001b[0;34m=\u001b[0m\u001b[0;32mNone\u001b[0m\u001b[0;34m)\u001b[0m\u001b[0;34m:\u001b[0m\u001b[0;34m\u001b[0m\u001b[0;34m\u001b[0m\u001b[0m\n\u001b[1;32m    207\u001b[0m         \u001b[0;34m\"\"\"Schedule a func to be run\"\"\"\u001b[0m\u001b[0;34m\u001b[0m\u001b[0;34m\u001b[0m\u001b[0m\n\u001b[0;32m--> 208\u001b[0;31m         \u001b[0mresult\u001b[0m \u001b[0;34m=\u001b[0m \u001b[0mImmediateResult\u001b[0m\u001b[0;34m(\u001b[0m\u001b[0mfunc\u001b[0m\u001b[0;34m)\u001b[0m\u001b[0;34m\u001b[0m\u001b[0;34m\u001b[0m\u001b[0m\n\u001b[0m\u001b[1;32m    209\u001b[0m         \u001b[0;32mif\u001b[0m \u001b[0mcallback\u001b[0m\u001b[0;34m:\u001b[0m\u001b[0;34m\u001b[0m\u001b[0;34m\u001b[0m\u001b[0m\n\u001b[1;32m    210\u001b[0m             \u001b[0mcallback\u001b[0m\u001b[0;34m(\u001b[0m\u001b[0mresult\u001b[0m\u001b[0;34m)\u001b[0m\u001b[0;34m\u001b[0m\u001b[0;34m\u001b[0m\u001b[0m\n",
            "\u001b[0;32m/usr/local/lib/python3.7/dist-packages/joblib/_parallel_backends.py\u001b[0m in \u001b[0;36m__init__\u001b[0;34m(self, batch)\u001b[0m\n\u001b[1;32m    570\u001b[0m         \u001b[0;31m# Don't delay the application, to avoid keeping the input\u001b[0m\u001b[0;34m\u001b[0m\u001b[0;34m\u001b[0m\u001b[0;34m\u001b[0m\u001b[0m\n\u001b[1;32m    571\u001b[0m         \u001b[0;31m# arguments in memory\u001b[0m\u001b[0;34m\u001b[0m\u001b[0;34m\u001b[0m\u001b[0;34m\u001b[0m\u001b[0m\n\u001b[0;32m--> 572\u001b[0;31m         \u001b[0mself\u001b[0m\u001b[0;34m.\u001b[0m\u001b[0mresults\u001b[0m \u001b[0;34m=\u001b[0m \u001b[0mbatch\u001b[0m\u001b[0;34m(\u001b[0m\u001b[0;34m)\u001b[0m\u001b[0;34m\u001b[0m\u001b[0;34m\u001b[0m\u001b[0m\n\u001b[0m\u001b[1;32m    573\u001b[0m \u001b[0;34m\u001b[0m\u001b[0m\n\u001b[1;32m    574\u001b[0m     \u001b[0;32mdef\u001b[0m \u001b[0mget\u001b[0m\u001b[0;34m(\u001b[0m\u001b[0mself\u001b[0m\u001b[0;34m)\u001b[0m\u001b[0;34m:\u001b[0m\u001b[0;34m\u001b[0m\u001b[0;34m\u001b[0m\u001b[0m\n",
            "\u001b[0;32m/usr/local/lib/python3.7/dist-packages/joblib/parallel.py\u001b[0m in \u001b[0;36m__call__\u001b[0;34m(self)\u001b[0m\n\u001b[1;32m    261\u001b[0m         \u001b[0;32mwith\u001b[0m \u001b[0mparallel_backend\u001b[0m\u001b[0;34m(\u001b[0m\u001b[0mself\u001b[0m\u001b[0;34m.\u001b[0m\u001b[0m_backend\u001b[0m\u001b[0;34m,\u001b[0m \u001b[0mn_jobs\u001b[0m\u001b[0;34m=\u001b[0m\u001b[0mself\u001b[0m\u001b[0;34m.\u001b[0m\u001b[0m_n_jobs\u001b[0m\u001b[0;34m)\u001b[0m\u001b[0;34m:\u001b[0m\u001b[0;34m\u001b[0m\u001b[0;34m\u001b[0m\u001b[0m\n\u001b[1;32m    262\u001b[0m             return [func(*args, **kwargs)\n\u001b[0;32m--> 263\u001b[0;31m                     for func, args, kwargs in self.items]\n\u001b[0m\u001b[1;32m    264\u001b[0m \u001b[0;34m\u001b[0m\u001b[0m\n\u001b[1;32m    265\u001b[0m     \u001b[0;32mdef\u001b[0m \u001b[0m__reduce__\u001b[0m\u001b[0;34m(\u001b[0m\u001b[0mself\u001b[0m\u001b[0;34m)\u001b[0m\u001b[0;34m:\u001b[0m\u001b[0;34m\u001b[0m\u001b[0;34m\u001b[0m\u001b[0m\n",
            "\u001b[0;32m/usr/local/lib/python3.7/dist-packages/joblib/parallel.py\u001b[0m in \u001b[0;36m<listcomp>\u001b[0;34m(.0)\u001b[0m\n\u001b[1;32m    261\u001b[0m         \u001b[0;32mwith\u001b[0m \u001b[0mparallel_backend\u001b[0m\u001b[0;34m(\u001b[0m\u001b[0mself\u001b[0m\u001b[0;34m.\u001b[0m\u001b[0m_backend\u001b[0m\u001b[0;34m,\u001b[0m \u001b[0mn_jobs\u001b[0m\u001b[0;34m=\u001b[0m\u001b[0mself\u001b[0m\u001b[0;34m.\u001b[0m\u001b[0m_n_jobs\u001b[0m\u001b[0;34m)\u001b[0m\u001b[0;34m:\u001b[0m\u001b[0;34m\u001b[0m\u001b[0;34m\u001b[0m\u001b[0m\n\u001b[1;32m    262\u001b[0m             return [func(*args, **kwargs)\n\u001b[0;32m--> 263\u001b[0;31m                     for func, args, kwargs in self.items]\n\u001b[0m\u001b[1;32m    264\u001b[0m \u001b[0;34m\u001b[0m\u001b[0m\n\u001b[1;32m    265\u001b[0m     \u001b[0;32mdef\u001b[0m \u001b[0m__reduce__\u001b[0m\u001b[0;34m(\u001b[0m\u001b[0mself\u001b[0m\u001b[0;34m)\u001b[0m\u001b[0;34m:\u001b[0m\u001b[0;34m\u001b[0m\u001b[0;34m\u001b[0m\u001b[0m\n",
            "\u001b[0;32m/usr/local/lib/python3.7/dist-packages/sklearn/linear_model/_logistic.py\u001b[0m in \u001b[0;36m_logistic_regression_path\u001b[0;34m(X, y, pos_class, Cs, fit_intercept, max_iter, tol, verbose, solver, coef, class_weight, dual, penalty, intercept_scaling, multi_class, random_state, check_input, max_squared_sum, sample_weight, l1_ratio)\u001b[0m\n\u001b[1;32m    943\u001b[0m             \u001b[0margs\u001b[0m \u001b[0;34m=\u001b[0m \u001b[0;34m(\u001b[0m\u001b[0mX\u001b[0m\u001b[0;34m,\u001b[0m \u001b[0mtarget\u001b[0m\u001b[0;34m,\u001b[0m \u001b[0;36m1.\u001b[0m \u001b[0;34m/\u001b[0m \u001b[0mC\u001b[0m\u001b[0;34m,\u001b[0m \u001b[0msample_weight\u001b[0m\u001b[0;34m)\u001b[0m\u001b[0;34m\u001b[0m\u001b[0;34m\u001b[0m\u001b[0m\n\u001b[1;32m    944\u001b[0m             w0, n_iter_i = _newton_cg(hess, func, grad, w0, args=args,\n\u001b[0;32m--> 945\u001b[0;31m                                       maxiter=max_iter, tol=tol)\n\u001b[0m\u001b[1;32m    946\u001b[0m         \u001b[0;32melif\u001b[0m \u001b[0msolver\u001b[0m \u001b[0;34m==\u001b[0m \u001b[0;34m'liblinear'\u001b[0m\u001b[0;34m:\u001b[0m\u001b[0;34m\u001b[0m\u001b[0;34m\u001b[0m\u001b[0m\n\u001b[1;32m    947\u001b[0m             coef_, intercept_, n_iter_i, = _fit_liblinear(\n",
            "\u001b[0;32m/usr/local/lib/python3.7/dist-packages/sklearn/utils/optimize.py\u001b[0m in \u001b[0;36m_newton_cg\u001b[0;34m(grad_hess, func, grad, x0, args, tol, maxiter, maxinner, line_search, warn)\u001b[0m\n\u001b[1;32m    200\u001b[0m                 \u001b[0malphak\u001b[0m\u001b[0;34m,\u001b[0m \u001b[0mfc\u001b[0m\u001b[0;34m,\u001b[0m \u001b[0mgc\u001b[0m\u001b[0;34m,\u001b[0m \u001b[0mold_fval\u001b[0m\u001b[0;34m,\u001b[0m \u001b[0mold_old_fval\u001b[0m\u001b[0;34m,\u001b[0m \u001b[0mgfkp1\u001b[0m \u001b[0;34m=\u001b[0m\u001b[0;31m \u001b[0m\u001b[0;31m\\\u001b[0m\u001b[0;34m\u001b[0m\u001b[0;34m\u001b[0m\u001b[0m\n\u001b[1;32m    201\u001b[0m                     _line_search_wolfe12(func, grad, xk, xsupi, fgrad,\n\u001b[0;32m--> 202\u001b[0;31m                                          old_fval, old_old_fval, args=args)\n\u001b[0m\u001b[1;32m    203\u001b[0m             \u001b[0;32mexcept\u001b[0m \u001b[0m_LineSearchError\u001b[0m\u001b[0;34m:\u001b[0m\u001b[0;34m\u001b[0m\u001b[0;34m\u001b[0m\u001b[0m\n\u001b[1;32m    204\u001b[0m                 \u001b[0mwarnings\u001b[0m\u001b[0;34m.\u001b[0m\u001b[0mwarn\u001b[0m\u001b[0;34m(\u001b[0m\u001b[0;34m'Line Search failed'\u001b[0m\u001b[0;34m)\u001b[0m\u001b[0;34m\u001b[0m\u001b[0;34m\u001b[0m\u001b[0m\n",
            "\u001b[0;32m/usr/local/lib/python3.7/dist-packages/sklearn/utils/optimize.py\u001b[0m in \u001b[0;36m_line_search_wolfe12\u001b[0;34m(f, fprime, xk, pk, gfk, old_fval, old_old_fval, **kwargs)\u001b[0m\n\u001b[1;32m     41\u001b[0m     ret = line_search_wolfe1(f, fprime, xk, pk, gfk,\n\u001b[1;32m     42\u001b[0m                              \u001b[0mold_fval\u001b[0m\u001b[0;34m,\u001b[0m \u001b[0mold_old_fval\u001b[0m\u001b[0;34m,\u001b[0m\u001b[0;34m\u001b[0m\u001b[0;34m\u001b[0m\u001b[0m\n\u001b[0;32m---> 43\u001b[0;31m                              **kwargs)\n\u001b[0m\u001b[1;32m     44\u001b[0m \u001b[0;34m\u001b[0m\u001b[0m\n\u001b[1;32m     45\u001b[0m     \u001b[0;32mif\u001b[0m \u001b[0mret\u001b[0m\u001b[0;34m[\u001b[0m\u001b[0;36m0\u001b[0m\u001b[0;34m]\u001b[0m \u001b[0;32mis\u001b[0m \u001b[0;32mNone\u001b[0m\u001b[0;34m:\u001b[0m\u001b[0;34m\u001b[0m\u001b[0;34m\u001b[0m\u001b[0m\n",
            "\u001b[0;32m/usr/local/lib/python3.7/dist-packages/scipy/optimize/linesearch.py\u001b[0m in \u001b[0;36mline_search_wolfe1\u001b[0;34m(f, fprime, xk, pk, gfk, old_fval, old_old_fval, args, c1, c2, amax, amin, xtol)\u001b[0m\n\u001b[1;32m     99\u001b[0m     stp, fval, old_fval = scalar_search_wolfe1(\n\u001b[1;32m    100\u001b[0m             \u001b[0mphi\u001b[0m\u001b[0;34m,\u001b[0m \u001b[0mderphi\u001b[0m\u001b[0;34m,\u001b[0m \u001b[0mold_fval\u001b[0m\u001b[0;34m,\u001b[0m \u001b[0mold_old_fval\u001b[0m\u001b[0;34m,\u001b[0m \u001b[0mderphi0\u001b[0m\u001b[0;34m,\u001b[0m\u001b[0;34m\u001b[0m\u001b[0;34m\u001b[0m\u001b[0m\n\u001b[0;32m--> 101\u001b[0;31m             c1=c1, c2=c2, amax=amax, amin=amin, xtol=xtol)\n\u001b[0m\u001b[1;32m    102\u001b[0m \u001b[0;34m\u001b[0m\u001b[0m\n\u001b[1;32m    103\u001b[0m     \u001b[0;32mreturn\u001b[0m \u001b[0mstp\u001b[0m\u001b[0;34m,\u001b[0m \u001b[0mfc\u001b[0m\u001b[0;34m[\u001b[0m\u001b[0;36m0\u001b[0m\u001b[0;34m]\u001b[0m\u001b[0;34m,\u001b[0m \u001b[0mgc\u001b[0m\u001b[0;34m[\u001b[0m\u001b[0;36m0\u001b[0m\u001b[0;34m]\u001b[0m\u001b[0;34m,\u001b[0m \u001b[0mfval\u001b[0m\u001b[0;34m,\u001b[0m \u001b[0mold_fval\u001b[0m\u001b[0;34m,\u001b[0m \u001b[0mgval\u001b[0m\u001b[0;34m[\u001b[0m\u001b[0;36m0\u001b[0m\u001b[0;34m]\u001b[0m\u001b[0;34m\u001b[0m\u001b[0;34m\u001b[0m\u001b[0m\n",
            "\u001b[0;32m/usr/local/lib/python3.7/dist-packages/scipy/optimize/linesearch.py\u001b[0m in \u001b[0;36mscalar_search_wolfe1\u001b[0;34m(phi, derphi, phi0, old_phi0, derphi0, c1, c2, amax, amin, xtol)\u001b[0m\n\u001b[1;32m    173\u001b[0m         \u001b[0;32mif\u001b[0m \u001b[0mtask\u001b[0m\u001b[0;34m[\u001b[0m\u001b[0;34m:\u001b[0m\u001b[0;36m2\u001b[0m\u001b[0;34m]\u001b[0m \u001b[0;34m==\u001b[0m \u001b[0;34mb'FG'\u001b[0m\u001b[0;34m:\u001b[0m\u001b[0;34m\u001b[0m\u001b[0;34m\u001b[0m\u001b[0m\n\u001b[1;32m    174\u001b[0m             \u001b[0malpha1\u001b[0m \u001b[0;34m=\u001b[0m \u001b[0mstp\u001b[0m\u001b[0;34m\u001b[0m\u001b[0;34m\u001b[0m\u001b[0m\n\u001b[0;32m--> 175\u001b[0;31m             \u001b[0mphi1\u001b[0m \u001b[0;34m=\u001b[0m \u001b[0mphi\u001b[0m\u001b[0;34m(\u001b[0m\u001b[0mstp\u001b[0m\u001b[0;34m)\u001b[0m\u001b[0;34m\u001b[0m\u001b[0;34m\u001b[0m\u001b[0m\n\u001b[0m\u001b[1;32m    176\u001b[0m             \u001b[0mderphi1\u001b[0m \u001b[0;34m=\u001b[0m \u001b[0mderphi\u001b[0m\u001b[0;34m(\u001b[0m\u001b[0mstp\u001b[0m\u001b[0;34m)\u001b[0m\u001b[0;34m\u001b[0m\u001b[0;34m\u001b[0m\u001b[0m\n\u001b[1;32m    177\u001b[0m         \u001b[0;32melse\u001b[0m\u001b[0;34m:\u001b[0m\u001b[0;34m\u001b[0m\u001b[0;34m\u001b[0m\u001b[0m\n",
            "\u001b[0;32m/usr/local/lib/python3.7/dist-packages/scipy/optimize/linesearch.py\u001b[0m in \u001b[0;36mphi\u001b[0;34m(s)\u001b[0m\n\u001b[1;32m     85\u001b[0m     \u001b[0;32mdef\u001b[0m \u001b[0mphi\u001b[0m\u001b[0;34m(\u001b[0m\u001b[0ms\u001b[0m\u001b[0;34m)\u001b[0m\u001b[0;34m:\u001b[0m\u001b[0;34m\u001b[0m\u001b[0;34m\u001b[0m\u001b[0m\n\u001b[1;32m     86\u001b[0m         \u001b[0mfc\u001b[0m\u001b[0;34m[\u001b[0m\u001b[0;36m0\u001b[0m\u001b[0;34m]\u001b[0m \u001b[0;34m+=\u001b[0m \u001b[0;36m1\u001b[0m\u001b[0;34m\u001b[0m\u001b[0;34m\u001b[0m\u001b[0m\n\u001b[0;32m---> 87\u001b[0;31m         \u001b[0;32mreturn\u001b[0m \u001b[0mf\u001b[0m\u001b[0;34m(\u001b[0m\u001b[0mxk\u001b[0m \u001b[0;34m+\u001b[0m \u001b[0ms\u001b[0m\u001b[0;34m*\u001b[0m\u001b[0mpk\u001b[0m\u001b[0;34m,\u001b[0m \u001b[0;34m*\u001b[0m\u001b[0margs\u001b[0m\u001b[0;34m)\u001b[0m\u001b[0;34m\u001b[0m\u001b[0;34m\u001b[0m\u001b[0m\n\u001b[0m\u001b[1;32m     88\u001b[0m \u001b[0;34m\u001b[0m\u001b[0m\n\u001b[1;32m     89\u001b[0m     \u001b[0;32mdef\u001b[0m \u001b[0mderphi\u001b[0m\u001b[0;34m(\u001b[0m\u001b[0ms\u001b[0m\u001b[0;34m)\u001b[0m\u001b[0;34m:\u001b[0m\u001b[0;34m\u001b[0m\u001b[0;34m\u001b[0m\u001b[0m\n",
            "\u001b[0;32m/usr/local/lib/python3.7/dist-packages/sklearn/linear_model/_logistic.py\u001b[0m in \u001b[0;36m<lambda>\u001b[0;34m(x, *args)\u001b[0m\n\u001b[1;32m    911\u001b[0m             \u001b[0mfunc\u001b[0m \u001b[0;34m=\u001b[0m \u001b[0;32mlambda\u001b[0m \u001b[0mx\u001b[0m\u001b[0;34m,\u001b[0m \u001b[0;34m*\u001b[0m\u001b[0margs\u001b[0m\u001b[0;34m:\u001b[0m \u001b[0m_multinomial_loss_grad\u001b[0m\u001b[0;34m(\u001b[0m\u001b[0mx\u001b[0m\u001b[0;34m,\u001b[0m \u001b[0;34m*\u001b[0m\u001b[0margs\u001b[0m\u001b[0;34m)\u001b[0m\u001b[0;34m[\u001b[0m\u001b[0;36m0\u001b[0m\u001b[0;34m:\u001b[0m\u001b[0;36m2\u001b[0m\u001b[0;34m]\u001b[0m\u001b[0;34m\u001b[0m\u001b[0;34m\u001b[0m\u001b[0m\n\u001b[1;32m    912\u001b[0m         \u001b[0;32melif\u001b[0m \u001b[0msolver\u001b[0m \u001b[0;34m==\u001b[0m \u001b[0;34m'newton-cg'\u001b[0m\u001b[0;34m:\u001b[0m\u001b[0;34m\u001b[0m\u001b[0;34m\u001b[0m\u001b[0m\n\u001b[0;32m--> 913\u001b[0;31m             \u001b[0mfunc\u001b[0m \u001b[0;34m=\u001b[0m \u001b[0;32mlambda\u001b[0m \u001b[0mx\u001b[0m\u001b[0;34m,\u001b[0m \u001b[0;34m*\u001b[0m\u001b[0margs\u001b[0m\u001b[0;34m:\u001b[0m \u001b[0m_multinomial_loss\u001b[0m\u001b[0;34m(\u001b[0m\u001b[0mx\u001b[0m\u001b[0;34m,\u001b[0m \u001b[0;34m*\u001b[0m\u001b[0margs\u001b[0m\u001b[0;34m)\u001b[0m\u001b[0;34m[\u001b[0m\u001b[0;36m0\u001b[0m\u001b[0;34m]\u001b[0m\u001b[0;34m\u001b[0m\u001b[0;34m\u001b[0m\u001b[0m\n\u001b[0m\u001b[1;32m    914\u001b[0m             \u001b[0mgrad\u001b[0m \u001b[0;34m=\u001b[0m \u001b[0;32mlambda\u001b[0m \u001b[0mx\u001b[0m\u001b[0;34m,\u001b[0m \u001b[0;34m*\u001b[0m\u001b[0margs\u001b[0m\u001b[0;34m:\u001b[0m \u001b[0m_multinomial_loss_grad\u001b[0m\u001b[0;34m(\u001b[0m\u001b[0mx\u001b[0m\u001b[0;34m,\u001b[0m \u001b[0;34m*\u001b[0m\u001b[0margs\u001b[0m\u001b[0;34m)\u001b[0m\u001b[0;34m[\u001b[0m\u001b[0;36m1\u001b[0m\u001b[0;34m]\u001b[0m\u001b[0;34m\u001b[0m\u001b[0;34m\u001b[0m\u001b[0m\n\u001b[1;32m    915\u001b[0m             \u001b[0mhess\u001b[0m \u001b[0;34m=\u001b[0m \u001b[0m_multinomial_grad_hess\u001b[0m\u001b[0;34m\u001b[0m\u001b[0;34m\u001b[0m\u001b[0m\n",
            "\u001b[0;32m/usr/local/lib/python3.7/dist-packages/sklearn/linear_model/_logistic.py\u001b[0m in \u001b[0;36m_multinomial_loss\u001b[0;34m(w, X, Y, alpha, sample_weight)\u001b[0m\n\u001b[1;32m    297\u001b[0m     \u001b[0mp\u001b[0m \u001b[0;34m=\u001b[0m \u001b[0msafe_sparse_dot\u001b[0m\u001b[0;34m(\u001b[0m\u001b[0mX\u001b[0m\u001b[0;34m,\u001b[0m \u001b[0mw\u001b[0m\u001b[0;34m.\u001b[0m\u001b[0mT\u001b[0m\u001b[0;34m)\u001b[0m\u001b[0;34m\u001b[0m\u001b[0;34m\u001b[0m\u001b[0m\n\u001b[1;32m    298\u001b[0m     \u001b[0mp\u001b[0m \u001b[0;34m+=\u001b[0m \u001b[0mintercept\u001b[0m\u001b[0;34m\u001b[0m\u001b[0;34m\u001b[0m\u001b[0m\n\u001b[0;32m--> 299\u001b[0;31m     \u001b[0mp\u001b[0m \u001b[0;34m-=\u001b[0m \u001b[0mlogsumexp\u001b[0m\u001b[0;34m(\u001b[0m\u001b[0mp\u001b[0m\u001b[0;34m,\u001b[0m \u001b[0maxis\u001b[0m\u001b[0;34m=\u001b[0m\u001b[0;36m1\u001b[0m\u001b[0;34m)\u001b[0m\u001b[0;34m[\u001b[0m\u001b[0;34m:\u001b[0m\u001b[0;34m,\u001b[0m \u001b[0mnp\u001b[0m\u001b[0;34m.\u001b[0m\u001b[0mnewaxis\u001b[0m\u001b[0;34m]\u001b[0m\u001b[0;34m\u001b[0m\u001b[0;34m\u001b[0m\u001b[0m\n\u001b[0m\u001b[1;32m    300\u001b[0m     \u001b[0mloss\u001b[0m \u001b[0;34m=\u001b[0m \u001b[0;34m-\u001b[0m\u001b[0;34m(\u001b[0m\u001b[0msample_weight\u001b[0m \u001b[0;34m*\u001b[0m \u001b[0mY\u001b[0m \u001b[0;34m*\u001b[0m \u001b[0mp\u001b[0m\u001b[0;34m)\u001b[0m\u001b[0;34m.\u001b[0m\u001b[0msum\u001b[0m\u001b[0;34m(\u001b[0m\u001b[0;34m)\u001b[0m\u001b[0;34m\u001b[0m\u001b[0;34m\u001b[0m\u001b[0m\n\u001b[1;32m    301\u001b[0m     \u001b[0mloss\u001b[0m \u001b[0;34m+=\u001b[0m \u001b[0;36m0.5\u001b[0m \u001b[0;34m*\u001b[0m \u001b[0malpha\u001b[0m \u001b[0;34m*\u001b[0m \u001b[0msquared_norm\u001b[0m\u001b[0;34m(\u001b[0m\u001b[0mw\u001b[0m\u001b[0;34m)\u001b[0m\u001b[0;34m\u001b[0m\u001b[0;34m\u001b[0m\u001b[0m\n",
            "\u001b[0;32m/usr/local/lib/python3.7/dist-packages/scipy/special/_logsumexp.py\u001b[0m in \u001b[0;36mlogsumexp\u001b[0;34m(a, axis, b, keepdims, return_sign)\u001b[0m\n\u001b[1;32m    110\u001b[0m         \u001b[0mtmp\u001b[0m \u001b[0;34m=\u001b[0m \u001b[0mb\u001b[0m \u001b[0;34m*\u001b[0m \u001b[0mnp\u001b[0m\u001b[0;34m.\u001b[0m\u001b[0mexp\u001b[0m\u001b[0;34m(\u001b[0m\u001b[0ma\u001b[0m \u001b[0;34m-\u001b[0m \u001b[0ma_max\u001b[0m\u001b[0;34m)\u001b[0m\u001b[0;34m\u001b[0m\u001b[0;34m\u001b[0m\u001b[0m\n\u001b[1;32m    111\u001b[0m     \u001b[0;32melse\u001b[0m\u001b[0;34m:\u001b[0m\u001b[0;34m\u001b[0m\u001b[0;34m\u001b[0m\u001b[0m\n\u001b[0;32m--> 112\u001b[0;31m         \u001b[0mtmp\u001b[0m \u001b[0;34m=\u001b[0m \u001b[0mnp\u001b[0m\u001b[0;34m.\u001b[0m\u001b[0mexp\u001b[0m\u001b[0;34m(\u001b[0m\u001b[0ma\u001b[0m \u001b[0;34m-\u001b[0m \u001b[0ma_max\u001b[0m\u001b[0;34m)\u001b[0m\u001b[0;34m\u001b[0m\u001b[0;34m\u001b[0m\u001b[0m\n\u001b[0m\u001b[1;32m    113\u001b[0m \u001b[0;34m\u001b[0m\u001b[0m\n\u001b[1;32m    114\u001b[0m     \u001b[0;31m# suppress warnings about log of zero\u001b[0m\u001b[0;34m\u001b[0m\u001b[0;34m\u001b[0m\u001b[0;34m\u001b[0m\u001b[0m\n",
            "\u001b[0;31mKeyboardInterrupt\u001b[0m: "
          ]
        }
      ]
    },
    {
      "cell_type": "code",
      "metadata": {
        "id": "lp-GI4YS4kUT"
      },
      "source": [
        "print (\"\\t\\tLogistic Regression Analysis of UNSW-NB15\\n\\n\\t\\tTop 30 Features \")\n",
        "\n",
        "logisticRegr_all = LogisticRegression(C=1e5, solver='Newton-cg', multi_class='multinomial')\n",
        "\n",
        "logisticRegr_all.fit(df3_xtrain,df3_ytrain)\n",
        "\n",
        "y_pred_LRall = logisticRegr_all.predict(df3_xtest)\n",
        "\n",
        "results_LRall = confusion_matrix(df3_ytest, y_pred_LRall) \n",
        "print ('Confusion Matrix :')\n",
        "print(results_LRall) \n",
        "\n",
        "acclogisticRegr_all=accuracy_score(df3_ytest, y_pred_LRall)\n",
        "prelogisticRegr_all=precision_score(df3_ytest, y_pred_LRall, average='macro')\n",
        "f1logisticRegr_all=f1_score(df3_ytest, y_pred_LRall, average='macro')\n",
        "relogisticRegr_all=recall_score(df3_ytest, y_pred_LRall, average='macro')\n",
        "\n",
        "print ('Accuracy Score :', acclogisticRegr_all)\n",
        "print(\"Precision Score: \",prelogisticRegr_all)\n",
        "print(\"F1 Score: \",f1logisticRegr_all)\n",
        "print(\"Recall: \",relogisticRegr_all)\n",
        "\n"
      ],
      "execution_count": null,
      "outputs": []
    },
    {
      "cell_type": "code",
      "metadata": {
        "id": "Bb4K050wkqgQ"
      },
      "source": [
        "from __future__ import print_function\n",
        "import numpy as np\n",
        "np.random.seed(1337)  # for reproducibility\n",
        "\n",
        "from keras.preprocessing import sequence\n",
        "from keras.models import Sequential\n",
        "from keras.layers import Dense, Dropout, Activation, Lambda\n",
        "from keras.layers import Embedding\n",
        "from keras.layers import Convolution1D,MaxPooling1D, Flatten\n",
        "from keras.datasets import imdb\n",
        "from keras import backend as K\n",
        "#from sklearn.cross_validation import train_test_split\n",
        "import pandas as pd\n",
        "from keras.utils.np_utils import to_categorical\n",
        "\n",
        "from sklearn.preprocessing import Normalizer\n",
        "from keras.models import Sequential\n",
        "from keras.layers import Convolution1D, Dense, Dropout, Flatten, MaxPooling1D\n",
        "from keras.utils import np_utils\n",
        "import numpy as np\n",
        "import h5py\n",
        "from keras import callbacks\n",
        "from keras.layers import LSTM, GRU, SimpleRNN\n",
        "from keras.callbacks import CSVLogger\n",
        "from keras.callbacks import ModelCheckpoint, EarlyStopping, ReduceLROnPlateau, CSVLogger"
      ],
      "execution_count": null,
      "outputs": []
    },
    {
      "cell_type": "code",
      "metadata": {
        "colab": {
          "base_uri": "https://localhost:8080/"
        },
        "id": "nTDUTMLgtmpg",
        "outputId": "f798d479-1eac-4ddb-a6ea-f620ad05a4d0"
      },
      "source": [
        "#DNN\n",
        "X = df1_xtrain\n",
        "Y = df1_ytrain\n",
        "C = df3_ytest\n",
        "T = df1_xtest\n",
        "scaler = Normalizer().fit(X)\n",
        "trainX = scaler.transform(X)\n",
        "\n",
        "scaler = Normalizer().fit(T)\n",
        "testT = scaler.transform(T)\n",
        "\n",
        "y_train1 = np.array(Y)\n",
        "y_test1 = np.array(C)\n",
        "\n",
        "y_train= to_categorical(y_train1)\n",
        "y_test= to_categorical(y_test1)\n",
        "\n",
        "\n",
        "# reshape input to be [samples, time steps, features]\n",
        "X_train = np.reshape(trainX, (trainX.shape[0],trainX.shape[1],1))\n",
        "X_test = np.reshape(testT, (testT.shape[0],testT.shape[1],1))\n",
        "\n",
        "\n",
        "from keras.models import Sequential\n",
        "from keras import layers\n",
        "\n",
        "input_dim = df1_xtrain.shape[1]  # Number of features\n",
        "\n",
        "model = Sequential()\n",
        "model.add(layers.Dense(10, input_shape=(15, 1), activation='relu'))\n",
        "model.add(layers.Flatten())\n",
        "model.add(layers.Dense(32, activation='relu'))\n",
        "model.add(layers.Dense(10, activation='softmax'))\n",
        "\n",
        "model.compile(loss='categorical_crossentropy', \n",
        "              optimizer='adam', \n",
        "              metrics=['accuracy'])\n",
        "model.summary()"
      ],
      "execution_count": null,
      "outputs": [
        {
          "output_type": "stream",
          "text": [
            "Model: \"sequential\"\n",
            "_________________________________________________________________\n",
            "Layer (type)                 Output Shape              Param #   \n",
            "=================================================================\n",
            "dense (Dense)                (None, 15, 10)            20        \n",
            "_________________________________________________________________\n",
            "flatten (Flatten)            (None, 150)               0         \n",
            "_________________________________________________________________\n",
            "dense_1 (Dense)              (None, 32)                4832      \n",
            "_________________________________________________________________\n",
            "dense_2 (Dense)              (None, 10)                330       \n",
            "=================================================================\n",
            "Total params: 5,182\n",
            "Trainable params: 5,182\n",
            "Non-trainable params: 0\n",
            "_________________________________________________________________\n"
          ],
          "name": "stdout"
        }
      ]
    },
    {
      "cell_type": "code",
      "metadata": {
        "colab": {
          "base_uri": "https://localhost:8080/"
        },
        "id": "mAvwB1CKtx2X",
        "outputId": "19728493-9a88-4211-f679-1afd22504b7a"
      },
      "source": [
        "historyNN10 = model.fit(X_train, y_train,\n",
        "                    epochs=100 #,\n",
        "                    #verbose=False\n",
        "                    )"
      ],
      "execution_count": null,
      "outputs": [
        {
          "output_type": "stream",
          "text": [
            "Epoch 1/100\n",
            "3367/3367 [==============================] - 11s 2ms/step - loss: 1.4270 - accuracy: 0.4867\n",
            "Epoch 2/100\n",
            "3367/3367 [==============================] - 8s 2ms/step - loss: 1.1978 - accuracy: 0.5175\n",
            "Epoch 3/100\n",
            "3367/3367 [==============================] - 8s 2ms/step - loss: 1.1149 - accuracy: 0.5655\n",
            "Epoch 4/100\n",
            "3367/3367 [==============================] - 8s 2ms/step - loss: 1.0647 - accuracy: 0.5997\n",
            "Epoch 5/100\n",
            "3367/3367 [==============================] - 8s 2ms/step - loss: 1.0318 - accuracy: 0.6137\n",
            "Epoch 6/100\n",
            "3367/3367 [==============================] - 8s 2ms/step - loss: 1.0075 - accuracy: 0.6244\n",
            "Epoch 7/100\n",
            "3367/3367 [==============================] - 8s 2ms/step - loss: 0.9946 - accuracy: 0.6368\n",
            "Epoch 8/100\n",
            "3367/3367 [==============================] - 8s 2ms/step - loss: 0.9796 - accuracy: 0.6417\n",
            "Epoch 9/100\n",
            "3367/3367 [==============================] - 8s 2ms/step - loss: 0.9664 - accuracy: 0.6472\n",
            "Epoch 10/100\n",
            "3367/3367 [==============================] - 8s 2ms/step - loss: 0.9560 - accuracy: 0.6539\n",
            "Epoch 11/100\n",
            "3367/3367 [==============================] - 8s 2ms/step - loss: 0.9464 - accuracy: 0.6570\n",
            "Epoch 12/100\n",
            "3367/3367 [==============================] - 8s 2ms/step - loss: 0.9360 - accuracy: 0.6606\n",
            "Epoch 13/100\n",
            "3367/3367 [==============================] - 8s 2ms/step - loss: 0.9277 - accuracy: 0.6656\n",
            "Epoch 14/100\n",
            "3367/3367 [==============================] - 8s 2ms/step - loss: 0.9165 - accuracy: 0.6687\n",
            "Epoch 15/100\n",
            "3367/3367 [==============================] - 8s 2ms/step - loss: 0.9143 - accuracy: 0.6686\n",
            "Epoch 16/100\n",
            "3367/3367 [==============================] - 8s 2ms/step - loss: 0.9066 - accuracy: 0.6705\n",
            "Epoch 17/100\n",
            "3367/3367 [==============================] - 8s 2ms/step - loss: 0.8980 - accuracy: 0.6719\n",
            "Epoch 18/100\n",
            "3367/3367 [==============================] - 8s 2ms/step - loss: 0.8962 - accuracy: 0.6765\n",
            "Epoch 19/100\n",
            "3367/3367 [==============================] - 8s 2ms/step - loss: 0.8912 - accuracy: 0.6768\n",
            "Epoch 20/100\n",
            "3367/3367 [==============================] - 8s 2ms/step - loss: 0.8836 - accuracy: 0.6794\n",
            "Epoch 21/100\n",
            "3367/3367 [==============================] - 8s 2ms/step - loss: 0.8805 - accuracy: 0.6820\n",
            "Epoch 22/100\n",
            "3367/3367 [==============================] - 8s 2ms/step - loss: 0.8782 - accuracy: 0.6859\n",
            "Epoch 23/100\n",
            "3367/3367 [==============================] - 8s 2ms/step - loss: 0.8782 - accuracy: 0.6839\n",
            "Epoch 24/100\n",
            "3367/3367 [==============================] - 8s 2ms/step - loss: 0.8757 - accuracy: 0.6834\n",
            "Epoch 25/100\n",
            "3367/3367 [==============================] - 8s 2ms/step - loss: 0.8668 - accuracy: 0.6886\n",
            "Epoch 26/100\n",
            "3367/3367 [==============================] - 8s 2ms/step - loss: 0.8678 - accuracy: 0.6891\n",
            "Epoch 27/100\n",
            "3367/3367 [==============================] - 8s 2ms/step - loss: 0.8730 - accuracy: 0.6870\n",
            "Epoch 28/100\n",
            "3367/3367 [==============================] - 8s 2ms/step - loss: 0.8621 - accuracy: 0.6921\n",
            "Epoch 29/100\n",
            "3367/3367 [==============================] - 8s 2ms/step - loss: 0.8567 - accuracy: 0.6939\n",
            "Epoch 30/100\n",
            "3367/3367 [==============================] - 8s 2ms/step - loss: 0.8545 - accuracy: 0.6938\n",
            "Epoch 31/100\n",
            "3367/3367 [==============================] - 8s 2ms/step - loss: 0.8528 - accuracy: 0.6958\n",
            "Epoch 32/100\n",
            "3367/3367 [==============================] - 8s 2ms/step - loss: 0.8509 - accuracy: 0.6964\n",
            "Epoch 33/100\n",
            "3367/3367 [==============================] - 8s 2ms/step - loss: 0.8478 - accuracy: 0.6985\n",
            "Epoch 34/100\n",
            "3367/3367 [==============================] - 8s 2ms/step - loss: 0.8427 - accuracy: 0.7024\n",
            "Epoch 35/100\n",
            "3367/3367 [==============================] - 8s 2ms/step - loss: 0.8456 - accuracy: 0.7012\n",
            "Epoch 36/100\n",
            "3367/3367 [==============================] - 8s 2ms/step - loss: 0.8416 - accuracy: 0.7013\n",
            "Epoch 37/100\n",
            "3367/3367 [==============================] - 8s 2ms/step - loss: 0.8388 - accuracy: 0.7014\n",
            "Epoch 38/100\n",
            "3367/3367 [==============================] - 8s 2ms/step - loss: 0.8355 - accuracy: 0.7031\n",
            "Epoch 39/100\n",
            "3367/3367 [==============================] - 8s 2ms/step - loss: 0.8409 - accuracy: 0.6996\n",
            "Epoch 40/100\n",
            "3367/3367 [==============================] - 8s 2ms/step - loss: 0.8387 - accuracy: 0.7053\n",
            "Epoch 41/100\n",
            "3367/3367 [==============================] - 8s 2ms/step - loss: 0.8313 - accuracy: 0.7044\n",
            "Epoch 42/100\n",
            "3367/3367 [==============================] - 8s 2ms/step - loss: 0.8318 - accuracy: 0.7065\n",
            "Epoch 43/100\n",
            "3367/3367 [==============================] - 8s 2ms/step - loss: 0.8204 - accuracy: 0.7092\n",
            "Epoch 44/100\n",
            "3367/3367 [==============================] - 8s 2ms/step - loss: 0.8235 - accuracy: 0.7076\n",
            "Epoch 45/100\n",
            "3367/3367 [==============================] - 8s 2ms/step - loss: 0.8157 - accuracy: 0.7096\n",
            "Epoch 46/100\n",
            "3367/3367 [==============================] - 8s 2ms/step - loss: 0.8189 - accuracy: 0.7090\n",
            "Epoch 47/100\n",
            "3367/3367 [==============================] - 8s 2ms/step - loss: 0.8238 - accuracy: 0.7064\n",
            "Epoch 48/100\n",
            "3367/3367 [==============================] - 8s 2ms/step - loss: 0.8207 - accuracy: 0.7091\n",
            "Epoch 49/100\n",
            "3367/3367 [==============================] - 8s 2ms/step - loss: 0.8121 - accuracy: 0.7114\n",
            "Epoch 50/100\n",
            "3367/3367 [==============================] - 8s 2ms/step - loss: 0.8133 - accuracy: 0.7097\n",
            "Epoch 51/100\n",
            "3367/3367 [==============================] - 8s 2ms/step - loss: 0.8186 - accuracy: 0.7071\n",
            "Epoch 52/100\n",
            "3367/3367 [==============================] - 8s 2ms/step - loss: 0.8145 - accuracy: 0.7107\n",
            "Epoch 53/100\n",
            "3367/3367 [==============================] - 8s 2ms/step - loss: 0.8061 - accuracy: 0.7123\n",
            "Epoch 54/100\n",
            "3367/3367 [==============================] - 8s 2ms/step - loss: 0.8113 - accuracy: 0.7103\n",
            "Epoch 55/100\n",
            "3367/3367 [==============================] - 8s 2ms/step - loss: 0.8065 - accuracy: 0.7130\n",
            "Epoch 56/100\n",
            "3367/3367 [==============================] - 8s 2ms/step - loss: 0.8071 - accuracy: 0.7112\n",
            "Epoch 57/100\n",
            "3367/3367 [==============================] - 8s 2ms/step - loss: 0.8086 - accuracy: 0.7120\n",
            "Epoch 58/100\n",
            "3367/3367 [==============================] - 8s 2ms/step - loss: 0.8041 - accuracy: 0.7122\n",
            "Epoch 59/100\n",
            "3367/3367 [==============================] - 8s 2ms/step - loss: 0.8042 - accuracy: 0.7134\n",
            "Epoch 60/100\n",
            "3367/3367 [==============================] - 8s 2ms/step - loss: 0.8069 - accuracy: 0.7106\n",
            "Epoch 61/100\n",
            "3367/3367 [==============================] - 8s 2ms/step - loss: 0.8035 - accuracy: 0.7141\n",
            "Epoch 62/100\n",
            "3367/3367 [==============================] - 8s 2ms/step - loss: 0.7960 - accuracy: 0.7156\n",
            "Epoch 63/100\n",
            "3367/3367 [==============================] - 8s 2ms/step - loss: 0.7968 - accuracy: 0.7147\n",
            "Epoch 64/100\n",
            "3367/3367 [==============================] - 8s 2ms/step - loss: 0.7875 - accuracy: 0.7177\n",
            "Epoch 65/100\n",
            "3367/3367 [==============================] - 8s 2ms/step - loss: 0.7943 - accuracy: 0.7162\n",
            "Epoch 66/100\n",
            "3367/3367 [==============================] - 8s 2ms/step - loss: 0.7889 - accuracy: 0.7147\n",
            "Epoch 67/100\n",
            "3367/3367 [==============================] - 8s 2ms/step - loss: 0.7878 - accuracy: 0.7166\n",
            "Epoch 68/100\n",
            "3367/3367 [==============================] - 8s 2ms/step - loss: 0.7881 - accuracy: 0.7174\n",
            "Epoch 69/100\n",
            "3367/3367 [==============================] - 8s 2ms/step - loss: 0.7897 - accuracy: 0.7160\n",
            "Epoch 70/100\n",
            "3367/3367 [==============================] - 8s 2ms/step - loss: 0.7952 - accuracy: 0.7149\n",
            "Epoch 71/100\n",
            "3367/3367 [==============================] - 8s 2ms/step - loss: 0.7923 - accuracy: 0.7170\n",
            "Epoch 72/100\n",
            "3367/3367 [==============================] - 8s 2ms/step - loss: 0.7826 - accuracy: 0.7176\n",
            "Epoch 74/100\n",
            "3367/3367 [==============================] - 8s 2ms/step - loss: 0.7800 - accuracy: 0.7181\n",
            "Epoch 75/100\n",
            "3367/3367 [==============================] - 8s 2ms/step - loss: 0.7858 - accuracy: 0.7177\n",
            "Epoch 76/100\n",
            "3367/3367 [==============================] - 8s 2ms/step - loss: 0.7787 - accuracy: 0.7201\n",
            "Epoch 77/100\n",
            "3367/3367 [==============================] - 8s 2ms/step - loss: 0.7812 - accuracy: 0.7199\n",
            "Epoch 78/100\n",
            "3367/3367 [==============================] - 8s 2ms/step - loss: 0.7783 - accuracy: 0.7187\n",
            "Epoch 79/100\n",
            "3367/3367 [==============================] - 8s 2ms/step - loss: 0.7776 - accuracy: 0.7201\n",
            "Epoch 80/100\n",
            "3367/3367 [==============================] - 8s 2ms/step - loss: 0.7772 - accuracy: 0.7219\n",
            "Epoch 81/100\n",
            "3367/3367 [==============================] - 8s 2ms/step - loss: 0.7773 - accuracy: 0.7197\n",
            "Epoch 82/100\n",
            "3367/3367 [==============================] - 8s 2ms/step - loss: 0.7742 - accuracy: 0.7219\n",
            "Epoch 83/100\n",
            "3367/3367 [==============================] - 8s 2ms/step - loss: 0.7699 - accuracy: 0.7229\n",
            "Epoch 84/100\n",
            "3367/3367 [==============================] - 8s 2ms/step - loss: 0.7690 - accuracy: 0.7230\n",
            "Epoch 85/100\n",
            "3367/3367 [==============================] - 8s 2ms/step - loss: 0.7756 - accuracy: 0.7210\n",
            "Epoch 86/100\n",
            "3367/3367 [==============================] - 8s 2ms/step - loss: 0.7729 - accuracy: 0.7214\n",
            "Epoch 87/100\n",
            "3367/3367 [==============================] - 8s 2ms/step - loss: 0.7710 - accuracy: 0.7238\n",
            "Epoch 88/100\n",
            "3367/3367 [==============================] - 8s 2ms/step - loss: 0.7668 - accuracy: 0.7243\n",
            "Epoch 89/100\n",
            "3367/3367 [==============================] - 8s 2ms/step - loss: 0.7612 - accuracy: 0.7249\n",
            "Epoch 90/100\n",
            "3367/3367 [==============================] - 8s 2ms/step - loss: 0.7582 - accuracy: 0.7241\n",
            "Epoch 91/100\n",
            "3367/3367 [==============================] - 8s 2ms/step - loss: 0.7627 - accuracy: 0.7247\n",
            "Epoch 92/100\n",
            "3367/3367 [==============================] - 8s 2ms/step - loss: 0.7573 - accuracy: 0.7274\n",
            "Epoch 93/100\n",
            "3367/3367 [==============================] - 8s 2ms/step - loss: 0.7636 - accuracy: 0.7223\n",
            "Epoch 94/100\n",
            "3367/3367 [==============================] - 8s 2ms/step - loss: 0.7614 - accuracy: 0.7265\n",
            "Epoch 95/100\n",
            "3367/3367 [==============================] - 8s 2ms/step - loss: 0.7559 - accuracy: 0.7268\n",
            "Epoch 96/100\n",
            "3367/3367 [==============================] - 8s 2ms/step - loss: 0.7614 - accuracy: 0.7254\n",
            "Epoch 97/100\n",
            "3367/3367 [==============================] - 8s 2ms/step - loss: 0.7584 - accuracy: 0.7247\n",
            "Epoch 98/100\n",
            "3367/3367 [==============================] - 8s 2ms/step - loss: 0.7612 - accuracy: 0.7270\n",
            "Epoch 99/100\n",
            "3367/3367 [==============================] - 8s 2ms/step - loss: 0.7583 - accuracy: 0.7248\n",
            "Epoch 100/100\n",
            "3367/3367 [==============================] - 8s 2ms/step - loss: 0.7516 - accuracy: 0.7291\n"
          ],
          "name": "stdout"
        }
      ]
    },
    {
      "cell_type": "code",
      "metadata": {
        "colab": {
          "base_uri": "https://localhost:8080/",
          "height": 223
        },
        "id": "R8Qt9oVSuEc-",
        "outputId": "e7dbc66c-e756-4b91-c109-28c2999911ca"
      },
      "source": [
        "loss, accNN10 = model.evaluate(X_train, y_train, verbose=True)\n",
        "print(\"Training Accuracy: {:.4f}\".format(accNN10))\n",
        "\n",
        "#loss, accuracy = model.evaluate(y_test, X_test, verbose=True)\n",
        "#print(\"Testing Accuracy:  {:.4f}\".format(accuracy))\n"
      ],
      "execution_count": 55,
      "outputs": [
        {
          "output_type": "error",
          "ename": "AttributeError",
          "evalue": "ignored",
          "traceback": [
            "\u001b[0;31m---------------------------------------------------------------------------\u001b[0m",
            "\u001b[0;31mAttributeError\u001b[0m                            Traceback (most recent call last)",
            "\u001b[0;32m<ipython-input-55-080488749f3a>\u001b[0m in \u001b[0;36m<module>\u001b[0;34m()\u001b[0m\n\u001b[0;32m----> 1\u001b[0;31m \u001b[0mloss\u001b[0m\u001b[0;34m,\u001b[0m \u001b[0maccNN10\u001b[0m \u001b[0;34m=\u001b[0m \u001b[0mmodel\u001b[0m\u001b[0;34m.\u001b[0m\u001b[0mevaluate\u001b[0m\u001b[0;34m(\u001b[0m\u001b[0mX_train\u001b[0m\u001b[0;34m,\u001b[0m \u001b[0my_train\u001b[0m\u001b[0;34m,\u001b[0m \u001b[0mverbose\u001b[0m\u001b[0;34m=\u001b[0m\u001b[0;32mTrue\u001b[0m\u001b[0;34m)\u001b[0m\u001b[0;34m\u001b[0m\u001b[0;34m\u001b[0m\u001b[0m\n\u001b[0m\u001b[1;32m      2\u001b[0m \u001b[0mprint\u001b[0m\u001b[0;34m(\u001b[0m\u001b[0;34m\"Training Accuracy: {:.4f}\"\u001b[0m\u001b[0;34m.\u001b[0m\u001b[0mformat\u001b[0m\u001b[0;34m(\u001b[0m\u001b[0maccNN10\u001b[0m\u001b[0;34m)\u001b[0m\u001b[0;34m)\u001b[0m\u001b[0;34m\u001b[0m\u001b[0;34m\u001b[0m\u001b[0m\n\u001b[1;32m      3\u001b[0m \u001b[0;34m\u001b[0m\u001b[0m\n\u001b[1;32m      4\u001b[0m \u001b[0;31m#loss, accuracy = model.evaluate(y_test, X_test, verbose=True)\u001b[0m\u001b[0;34m\u001b[0m\u001b[0;34m\u001b[0m\u001b[0;34m\u001b[0m\u001b[0m\n\u001b[1;32m      5\u001b[0m \u001b[0;31m#print(\"Testing Accuracy:  {:.4f}\".format(accuracy))\u001b[0m\u001b[0;34m\u001b[0m\u001b[0;34m\u001b[0m\u001b[0;34m\u001b[0m\u001b[0m\n",
            "\u001b[0;31mAttributeError\u001b[0m: 'StackingClassifier' object has no attribute 'evaluate'"
          ]
        }
      ]
    },
    {
      "cell_type": "code",
      "metadata": {
        "id": "HxJQVfxJE0eF"
      },
      "source": [
        ""
      ],
      "execution_count": 57,
      "outputs": []
    },
    {
      "cell_type": "code",
      "metadata": {
        "id": "DjkKak0CuSwM"
      },
      "source": [
        "#CNN 1D\n",
        "from __future__ import print_function\n",
        "import numpy as np\n",
        "np.random.seed(1337)  # for reproducibility\n",
        "\n",
        "from keras.preprocessing import sequence\n",
        "from keras.models import Sequential\n",
        "from keras.layers import Dense, Dropout, Activation, Lambda\n",
        "from keras.layers import Embedding\n",
        "from keras.layers import Convolution1D,MaxPooling1D, Flatten\n",
        "from keras.datasets import imdb\n",
        "from keras import backend as K\n",
        "#from sklearn.cross_validation import train_test_split\n",
        "import pandas as pd\n",
        "from keras.utils.np_utils import to_categorical\n",
        "\n",
        "from sklearn.preprocessing import Normalizer\n",
        "from keras.models import Sequential\n",
        "from keras.layers import Convolution1D, Dense, Dropout, Flatten, MaxPooling1D\n",
        "from keras.utils import np_utils\n",
        "import numpy as np\n",
        "import h5py\n",
        "from keras import callbacks\n",
        "from keras.layers import LSTM, GRU, SimpleRNN\n",
        "from keras.callbacks import CSVLogger\n",
        "from keras.callbacks import ModelCheckpoint, EarlyStopping, ReduceLROnPlateau, CSVLogger"
      ],
      "execution_count": null,
      "outputs": []
    },
    {
      "cell_type": "code",
      "metadata": {
        "id": "THg2erH1rxH1"
      },
      "source": [
        "X = df1_xtrain\n",
        "Y = df1_ytrain\n",
        "C = df3_ytest\n",
        "T = df1_xtest\n",
        "\n"
      ],
      "execution_count": null,
      "outputs": []
    },
    {
      "cell_type": "code",
      "metadata": {
        "colab": {
          "base_uri": "https://localhost:8080/"
        },
        "id": "KylIZNhHsADu",
        "outputId": "5ada77ef-0b5f-4dc9-f56a-0fb23cc7fb6d"
      },
      "source": [
        "scaler = Normalizer().fit(X)\n",
        "trainX = scaler.transform(X)\n",
        "\n",
        "scaler = Normalizer().fit(T)\n",
        "testT = scaler.transform(T)\n",
        "\n",
        "y_train1 = np.array(Y)\n",
        "y_test1 = np.array(C)\n",
        "\n",
        "y_train= to_categorical(y_train1)\n",
        "y_test= to_categorical(y_test1)\n",
        "\n",
        "\n",
        "# reshape input to be [samples, time steps, features]\n",
        "X_train = np.reshape(trainX, (trainX.shape[0],trainX.shape[1],1))\n",
        "X_test = np.reshape(testT, (testT.shape[0],testT.shape[1],1))\n",
        "\n",
        "\n",
        "cnn = Sequential()\n",
        "cnn.add(Convolution1D(64, 1, activation=\"relu\",input_shape=(15, 1)))\n",
        "#cnn.add(MaxPooling1D(pool_length=(2)))\n",
        "cnn.add(Flatten())\n",
        "cnn.add(Dense(128, activation=\"relu\"))\n",
        "cnn.add(Dropout(0.5))\n",
        "cnn.add(Dense(10, activation=\"softmax\"))\n",
        "\n",
        "# define optimizer and objective, compile cnn\n",
        "\n",
        "cnn.compile(loss=\"categorical_crossentropy\", optimizer=\"adam\",metrics=['accuracy'])\n",
        "\n",
        "# train\n",
        "checkpointer = callbacks.ModelCheckpoint(filepath=\"results/checkpoint-{epoch:02d}.hdf5\", verbose=1, save_best_only=True, monitor='val_acc',mode='max')\n",
        "csv_logger = CSVLogger('results/cnn1results/cnntrainanalysis1.csv',separator=',', append=False)\n",
        "historyCNN10=cnn.fit(X_train, y_train, batch_size=40 ,epochs=100)\n",
        "#cnn.save(\"results/cnn1results/cnn_model.hdf5\")\n",
        "#,validation_data=(X_test, y_test),callbacks=[checkpointer,csv_logger]\n",
        "\n",
        "loss, accCNN10 = cnn.evaluate(X_train, y_train, verbose=True)\n",
        "print(\"Training Accuracy: {:.4f}\".format(accCNN10))\n"
      ],
      "execution_count": null,
      "outputs": [
        {
          "output_type": "stream",
          "text": [
            "Epoch 1/100\n",
            "2694/2694 [==============================] - 36s 2ms/step - loss: 1.3572 - accuracy: 0.5020\n",
            "Epoch 2/100\n",
            "2694/2694 [==============================] - 7s 2ms/step - loss: 1.1507 - accuracy: 0.5470\n",
            "Epoch 3/100\n",
            "2694/2694 [==============================] - 7s 2ms/step - loss: 1.0755 - accuracy: 0.5842\n",
            "Epoch 4/100\n",
            "2694/2694 [==============================] - 7s 2ms/step - loss: 1.0348 - accuracy: 0.6039\n",
            "Epoch 5/100\n",
            "2694/2694 [==============================] - 7s 2ms/step - loss: 1.0041 - accuracy: 0.6220\n",
            "Epoch 6/100\n",
            "2694/2694 [==============================] - 7s 2ms/step - loss: 0.9893 - accuracy: 0.6308\n",
            "Epoch 7/100\n",
            "2694/2694 [==============================] - 7s 2ms/step - loss: 0.9778 - accuracy: 0.6354\n",
            "Epoch 8/100\n",
            "2694/2694 [==============================] - 7s 2ms/step - loss: 0.9659 - accuracy: 0.6443\n",
            "Epoch 9/100\n",
            "2694/2694 [==============================] - 7s 2ms/step - loss: 0.9575 - accuracy: 0.6448\n",
            "Epoch 10/100\n",
            "2694/2694 [==============================] - 7s 2ms/step - loss: 0.9606 - accuracy: 0.6424\n",
            "Epoch 11/100\n",
            "2694/2694 [==============================] - 7s 3ms/step - loss: 0.9439 - accuracy: 0.6490\n",
            "Epoch 12/100\n",
            "2694/2694 [==============================] - 7s 2ms/step - loss: 0.9451 - accuracy: 0.6507\n",
            "Epoch 13/100\n",
            "2694/2694 [==============================] - 7s 2ms/step - loss: 0.9430 - accuracy: 0.6508\n",
            "Epoch 14/100\n",
            "2694/2694 [==============================] - 7s 2ms/step - loss: 0.9321 - accuracy: 0.6548\n",
            "Epoch 15/100\n",
            "2694/2694 [==============================] - 7s 2ms/step - loss: 0.9256 - accuracy: 0.6568\n",
            "Epoch 16/100\n",
            "2694/2694 [==============================] - 7s 2ms/step - loss: 0.9286 - accuracy: 0.6550\n",
            "Epoch 17/100\n",
            "2694/2694 [==============================] - 7s 2ms/step - loss: 0.9308 - accuracy: 0.6560\n",
            "Epoch 18/100\n",
            "2694/2694 [==============================] - 7s 2ms/step - loss: 0.9258 - accuracy: 0.6597\n",
            "Epoch 19/100\n",
            "2694/2694 [==============================] - 7s 2ms/step - loss: 0.9200 - accuracy: 0.6615\n",
            "Epoch 20/100\n",
            "2694/2694 [==============================] - 7s 2ms/step - loss: 0.9185 - accuracy: 0.6615\n",
            "Epoch 21/100\n",
            "2694/2694 [==============================] - 7s 2ms/step - loss: 0.9193 - accuracy: 0.6607\n",
            "Epoch 22/100\n",
            "2694/2694 [==============================] - 7s 2ms/step - loss: 0.9081 - accuracy: 0.6666\n",
            "Epoch 23/100\n",
            "2694/2694 [==============================] - 7s 2ms/step - loss: 0.9126 - accuracy: 0.6641\n",
            "Epoch 24/100\n",
            "2694/2694 [==============================] - 7s 2ms/step - loss: 0.9092 - accuracy: 0.6657\n",
            "Epoch 25/100\n",
            "2694/2694 [==============================] - 7s 3ms/step - loss: 0.9025 - accuracy: 0.6705\n",
            "Epoch 26/100\n",
            "2694/2694 [==============================] - 7s 3ms/step - loss: 0.8974 - accuracy: 0.6694\n",
            "Epoch 27/100\n",
            "2694/2694 [==============================] - 7s 3ms/step - loss: 0.8918 - accuracy: 0.6733\n",
            "Epoch 28/100\n",
            "2694/2694 [==============================] - 7s 3ms/step - loss: 0.8943 - accuracy: 0.6703\n",
            "Epoch 29/100\n",
            "2694/2694 [==============================] - 7s 2ms/step - loss: 0.8952 - accuracy: 0.6711\n",
            "Epoch 30/100\n",
            "2694/2694 [==============================] - 7s 2ms/step - loss: 0.8945 - accuracy: 0.6692\n",
            "Epoch 31/100\n",
            "2694/2694 [==============================] - 7s 3ms/step - loss: 0.8844 - accuracy: 0.6761\n",
            "Epoch 32/100\n",
            "2694/2694 [==============================] - 7s 3ms/step - loss: 0.8842 - accuracy: 0.6727\n",
            "Epoch 33/100\n",
            "2694/2694 [==============================] - 7s 2ms/step - loss: 0.8779 - accuracy: 0.6749\n",
            "Epoch 34/100\n",
            "2694/2694 [==============================] - 7s 2ms/step - loss: 0.8800 - accuracy: 0.6751\n",
            "Epoch 35/100\n",
            "2694/2694 [==============================] - 7s 3ms/step - loss: 0.8756 - accuracy: 0.6752\n",
            "Epoch 36/100\n",
            "2694/2694 [==============================] - 7s 3ms/step - loss: 0.8794 - accuracy: 0.6742\n",
            "Epoch 37/100\n",
            "2694/2694 [==============================] - 7s 3ms/step - loss: 0.8723 - accuracy: 0.6761\n",
            "Epoch 38/100\n",
            "2694/2694 [==============================] - 7s 3ms/step - loss: 0.8660 - accuracy: 0.6773\n",
            "Epoch 39/100\n",
            "2694/2694 [==============================] - 7s 3ms/step - loss: 0.8682 - accuracy: 0.6766\n",
            "Epoch 40/100\n",
            "2694/2694 [==============================] - 7s 3ms/step - loss: 0.8585 - accuracy: 0.6807\n",
            "Epoch 41/100\n",
            "2694/2694 [==============================] - 7s 3ms/step - loss: 0.8678 - accuracy: 0.6774\n",
            "Epoch 42/100\n",
            "2694/2694 [==============================] - 7s 3ms/step - loss: 0.8610 - accuracy: 0.6793\n",
            "Epoch 43/100\n",
            "2694/2694 [==============================] - 7s 3ms/step - loss: 0.8587 - accuracy: 0.6798\n",
            "Epoch 44/100\n",
            "2694/2694 [==============================] - 7s 3ms/step - loss: 0.8519 - accuracy: 0.6829\n",
            "Epoch 45/100\n",
            "2694/2694 [==============================] - 7s 3ms/step - loss: 0.8466 - accuracy: 0.6846\n",
            "Epoch 46/100\n",
            "2694/2694 [==============================] - 7s 3ms/step - loss: 0.8544 - accuracy: 0.6799\n",
            "Epoch 47/100\n",
            "2694/2694 [==============================] - 7s 3ms/step - loss: 0.8440 - accuracy: 0.6849\n",
            "Epoch 48/100\n",
            "2694/2694 [==============================] - 7s 3ms/step - loss: 0.8406 - accuracy: 0.6831\n",
            "Epoch 49/100\n",
            "2694/2694 [==============================] - 7s 2ms/step - loss: 0.8474 - accuracy: 0.6839\n",
            "Epoch 50/100\n",
            "2694/2694 [==============================] - 7s 3ms/step - loss: 0.8383 - accuracy: 0.6871\n",
            "Epoch 51/100\n",
            "2694/2694 [==============================] - 7s 3ms/step - loss: 0.8341 - accuracy: 0.6879\n",
            "Epoch 52/100\n",
            "2694/2694 [==============================] - 7s 2ms/step - loss: 0.8411 - accuracy: 0.6842\n",
            "Epoch 53/100\n",
            "2694/2694 [==============================] - 7s 2ms/step - loss: 0.8330 - accuracy: 0.6868\n",
            "Epoch 54/100\n",
            "2694/2694 [==============================] - 7s 2ms/step - loss: 0.8407 - accuracy: 0.6874\n",
            "Epoch 55/100\n",
            "2694/2694 [==============================] - 7s 2ms/step - loss: 0.8358 - accuracy: 0.6879\n",
            "Epoch 56/100\n",
            "2694/2694 [==============================] - 7s 3ms/step - loss: 0.8364 - accuracy: 0.6861\n",
            "Epoch 57/100\n",
            "2694/2694 [==============================] - 7s 3ms/step - loss: 0.8212 - accuracy: 0.6921\n",
            "Epoch 58/100\n",
            "2694/2694 [==============================] - 7s 3ms/step - loss: 0.8234 - accuracy: 0.6936\n",
            "Epoch 59/100\n",
            "2694/2694 [==============================] - 7s 3ms/step - loss: 0.8245 - accuracy: 0.6904\n",
            "Epoch 60/100\n",
            "2694/2694 [==============================] - 7s 2ms/step - loss: 0.8263 - accuracy: 0.6908\n",
            "Epoch 61/100\n",
            "2694/2694 [==============================] - 7s 3ms/step - loss: 0.8256 - accuracy: 0.6903\n",
            "Epoch 62/100\n",
            "2694/2694 [==============================] - 7s 2ms/step - loss: 0.8266 - accuracy: 0.6897\n",
            "Epoch 63/100\n",
            "2694/2694 [==============================] - 7s 2ms/step - loss: 0.8298 - accuracy: 0.6891\n",
            "Epoch 64/100\n",
            "2694/2694 [==============================] - 7s 3ms/step - loss: 0.8188 - accuracy: 0.6917\n",
            "Epoch 65/100\n",
            "2694/2694 [==============================] - 7s 2ms/step - loss: 0.8242 - accuracy: 0.6902\n",
            "Epoch 66/100\n",
            "2694/2694 [==============================] - 7s 2ms/step - loss: 0.8261 - accuracy: 0.6905\n",
            "Epoch 67/100\n",
            "2694/2694 [==============================] - 7s 2ms/step - loss: 0.8269 - accuracy: 0.6902\n",
            "Epoch 68/100\n",
            "2694/2694 [==============================] - 7s 2ms/step - loss: 0.8265 - accuracy: 0.6878\n",
            "Epoch 69/100\n",
            "2694/2694 [==============================] - 7s 3ms/step - loss: 0.8240 - accuracy: 0.6905\n",
            "Epoch 70/100\n",
            "2694/2694 [==============================] - 7s 3ms/step - loss: 0.8216 - accuracy: 0.6919\n",
            "Epoch 71/100\n",
            "2694/2694 [==============================] - 7s 2ms/step - loss: 0.8238 - accuracy: 0.6912\n",
            "Epoch 72/100\n",
            "2694/2694 [==============================] - 7s 2ms/step - loss: 0.8194 - accuracy: 0.6931\n",
            "Epoch 73/100\n",
            "2694/2694 [==============================] - 7s 3ms/step - loss: 0.8144 - accuracy: 0.6955\n",
            "Epoch 74/100\n",
            "2694/2694 [==============================] - 7s 3ms/step - loss: 0.8186 - accuracy: 0.6943\n",
            "Epoch 75/100\n",
            "2694/2694 [==============================] - 7s 3ms/step - loss: 0.8135 - accuracy: 0.6934\n",
            "Epoch 76/100\n",
            "2694/2694 [==============================] - 7s 3ms/step - loss: 0.8065 - accuracy: 0.6966\n",
            "Epoch 77/100\n",
            "2694/2694 [==============================] - 7s 2ms/step - loss: 0.8175 - accuracy: 0.6946\n",
            "Epoch 78/100\n",
            "2694/2694 [==============================] - 7s 2ms/step - loss: 0.8101 - accuracy: 0.6968\n",
            "Epoch 79/100\n",
            "2694/2694 [==============================] - 7s 3ms/step - loss: 0.8140 - accuracy: 0.6948\n",
            "Epoch 80/100\n",
            "2694/2694 [==============================] - 7s 3ms/step - loss: 0.8176 - accuracy: 0.6968\n",
            "Epoch 81/100\n",
            "2694/2694 [==============================] - 7s 3ms/step - loss: 0.8183 - accuracy: 0.6938\n",
            "Epoch 82/100\n",
            "2694/2694 [==============================] - 7s 2ms/step - loss: 0.8045 - accuracy: 0.6958\n",
            "Epoch 83/100\n",
            "2694/2694 [==============================] - 7s 3ms/step - loss: 0.8081 - accuracy: 0.6993\n",
            "Epoch 84/100\n",
            "2694/2694 [==============================] - 7s 3ms/step - loss: 0.8129 - accuracy: 0.6985\n",
            "Epoch 85/100\n",
            "2694/2694 [==============================] - 7s 3ms/step - loss: 0.8112 - accuracy: 0.6963\n",
            "Epoch 86/100\n",
            "2694/2694 [==============================] - 7s 2ms/step - loss: 0.8073 - accuracy: 0.6977\n",
            "Epoch 87/100\n",
            "2694/2694 [==============================] - 7s 3ms/step - loss: 0.8084 - accuracy: 0.6972\n",
            "Epoch 88/100\n",
            "2694/2694 [==============================] - 7s 3ms/step - loss: 0.8104 - accuracy: 0.6995\n",
            "Epoch 89/100\n",
            "2694/2694 [==============================] - 7s 3ms/step - loss: 0.8102 - accuracy: 0.6980\n",
            "Epoch 90/100\n",
            "2694/2694 [==============================] - 7s 3ms/step - loss: 0.8094 - accuracy: 0.6942\n",
            "Epoch 91/100\n",
            "2694/2694 [==============================] - 7s 3ms/step - loss: 0.7986 - accuracy: 0.6991\n",
            "Epoch 92/100\n",
            "2694/2694 [==============================] - 7s 3ms/step - loss: 0.8065 - accuracy: 0.6970\n",
            "Epoch 93/100\n",
            "2694/2694 [==============================] - 7s 3ms/step - loss: 0.8072 - accuracy: 0.6975\n",
            "Epoch 94/100\n",
            "2694/2694 [==============================] - 7s 3ms/step - loss: 0.7999 - accuracy: 0.7010\n",
            "Epoch 95/100\n",
            "2694/2694 [==============================] - 7s 3ms/step - loss: 0.7994 - accuracy: 0.6951\n",
            "Epoch 96/100\n",
            "2694/2694 [==============================] - 7s 3ms/step - loss: 0.7987 - accuracy: 0.6979\n",
            "Epoch 97/100\n",
            "2694/2694 [==============================] - 7s 3ms/step - loss: 0.8021 - accuracy: 0.6978\n",
            "Epoch 98/100\n",
            "2694/2694 [==============================] - 7s 2ms/step - loss: 0.7995 - accuracy: 0.6997\n",
            "Epoch 99/100\n",
            "2694/2694 [==============================] - 7s 2ms/step - loss: 0.8029 - accuracy: 0.6977\n",
            "Epoch 100/100\n",
            "2694/2694 [==============================] - 7s 3ms/step - loss: 0.8022 - accuracy: 0.6967\n",
            "3367/3367 [==============================] - 7s 2ms/step - loss: 0.7232 - accuracy: 0.6985\n",
            "Training Accuracy: 0.6985\n"
          ],
          "name": "stdout"
        }
      ]
    },
    {
      "cell_type": "code",
      "metadata": {
        "id": "CS0Gt8XauZ5P"
      },
      "source": [
        "#Ada Boost with DT\n",
        "from sklearn.ensemble import AdaBoostClassifier\n"
      ],
      "execution_count": null,
      "outputs": []
    },
    {
      "cell_type": "code",
      "metadata": {
        "colab": {
          "base_uri": "https://localhost:8080/"
        },
        "id": "6tc7MPIluZ9m",
        "outputId": "b6903e57-8a75-4434-fa00-f43a59a3a561"
      },
      "source": [
        "print (\"\\t\\tAdaBoost using Decision Tree Analysis of UNSW NB15\\n\\n\\t\\tTop 10 Features \")\n",
        "\n",
        "\n",
        "\n",
        "abc10 = AdaBoostClassifier(DecisionTreeClassifier(max_depth=3), algorithm=\"SAMME\", n_estimators=500)\n",
        "abc10.fit(df1_xtrain, df1_ytrain)\n",
        "\n",
        "#Predict the response for test dataset\n",
        "y_pred_Ada10 = abc10.predict(df1_xtest)\n",
        "\n",
        "\n",
        "results_Ada10 = confusion_matrix(df1_ytest, y_pred_Ada10) \n",
        "print ('Confusion Matrix :')\n",
        "print(results_Ada10) \n",
        "\n",
        "accabc10=accuracy_score(df1_ytest, y_pred_Ada10)\n",
        "preabc10=precision_score(df1_ytest, y_pred_Ada10, average='macro')\n",
        "f1abc10=f1_score(df1_ytest, y_pred_Ada10, average='macro')\n",
        "reabc10=recall_score(df1_ytest, y_pred_Ada10, average='macro')\n",
        "\n",
        "print ('Accuracy Score :', accabc10)\n",
        "print(\"Precision Score: \",preabc10)\n",
        "print(\"F1 Score: \",f1abc10)\n",
        "print(\"Recall: \",reabc10)\n"
      ],
      "execution_count": null,
      "outputs": [
        {
          "output_type": "stream",
          "text": [
            "\t\tAdaBoost using Decision Tree Analysis of UNSW NB15\n",
            "\n",
            "\t\tTop 10 Features \n",
            "Confusion Matrix :\n",
            "[[  281     4    60    51   206     0    62    13     0     0]\n",
            " [  179     6    61    97   214     1     8    13     4     0]\n",
            " [ 1862   134   237   854   525    69   168   200    38     2]\n",
            " [ 1854   155   390  6189   859   253   868   517    44     3]\n",
            " [  539    12   134   370  1076     2  3825    66    36     2]\n",
            " [   12     2    49   804    41 17849    89    15    10     0]\n",
            " [  440    23   170   908  3039    18 32249    20   127     6]\n",
            " [  216    28    22   196    78     7    87  2842    20     0]\n",
            " [    0     0    25    50    44     0    45    15   199     0]\n",
            " [    0     1     0    31     4     3     1     0     2     2]]\n",
            "Accuracy Score : 0.7400524704853519\n",
            "Precision Score:  0.4258598142157197\n",
            "F1 Score:  0.41227831822646416\n",
            "Recall:  0.4419058463727786\n"
          ],
          "name": "stdout"
        }
      ]
    },
    {
      "cell_type": "code",
      "metadata": {
        "colab": {
          "background_save": true
        },
        "id": "qWHpLmjVuaML",
        "outputId": "632c9619-56e0-4526-f275-99c3e94f783c"
      },
      "source": [
        "print (\"\\t\\tAdaBoost using DT Analysis of UNSW-NB15\\n\\n\\t\\tTop 20 Features \")\n",
        "\n",
        "abc20 = AdaBoostClassifier(DecisionTreeClassifier(max_depth=3), algorithm=\"SAMME\",n_estimators=500)\n",
        "abc20.fit(df2_xtrain, df2_ytrain)\n",
        "\n",
        "y_pred_Ada20 = abc20.predict(df2_xtest)\n",
        "\n",
        "\n",
        "\n",
        "results_Ada10 = confusion_matrix(df2_ytest, y_pred_Ada20) \n",
        "print ('Confusion Matrix :')\n",
        "print(results_Ada10) \n",
        "\n",
        "accabc20=accuracy_score(df2_ytest, y_pred_Ada20)\n",
        "preabc20=precision_score(df2_ytest, y_pred_Ada20, average='macro')\n",
        "f1abc20=f1_score(df2_ytest, y_pred_Ada20, average='macro')\n",
        "reabc20=recall_score(df2_ytest, y_pred_Ada20, average='macro')\n",
        "\n",
        "print ('Accuracy Score :', accabc20)\n",
        "print(\"Precision Score: \",preabc20)\n",
        "print(\"F1 Score: \",f1abc20)\n",
        "print(\"Recall: \",reabc20)\n"
      ],
      "execution_count": null,
      "outputs": [
        {
          "output_type": "stream",
          "text": [
            "\t\tAdaBoost using DT Analysis of UNSW-NB15\n",
            "\n",
            "\t\tTop 20 Features \n",
            "Confusion Matrix :\n",
            "[[  424    57     3    18    44     0    55    76     0     0]\n",
            " [  359    45    15    24    51    11     4    71     3     0]\n",
            " [ 1378   689   331   926   328    32   108   252    39     6]\n",
            " [ 1640   687  1031  6096   478   219   363   553    40    25]\n",
            " [  826   133    82   151  1658    11  2933   194    53    21]\n",
            " [   13     6   260   370    56 18059    87     7    12     1]\n",
            " [  658     6   307   638  5201    27 30030    14   101    18]\n",
            " [  133   110    59   241    86     7    34  2820     5     1]\n",
            " [    0     2    36    54    45     0    36    12   193     0]\n",
            " [    0     0     5    31     2     2     2     0     0     2]]\n",
            "Accuracy Score : 0.7246028275761551\n",
            "Precision Score:  0.42216095049288327\n",
            "F1 Score:  0.42151037141227066\n",
            "Recall:  0.4736811250635452\n"
          ],
          "name": "stdout"
        }
      ]
    },
    {
      "cell_type": "code",
      "metadata": {
        "id": "0EdgdNfGuaUk"
      },
      "source": [
        "print (\"\\t\\tAdaBoost using DT Analysis of UNSW-NB15\\n\\n\\t\\tAll Features \")\n",
        "\n",
        "abcall = AdaBoostClassifier(DecisionTreeClassifier(max_depth=3),\n",
        "                         algorithm=\"SAMME\",\n",
        "                         n_estimators=500)\n",
        "\n",
        "abcall.fit(df3_xtrain,df3_ytrain)\n",
        "\n",
        "y_pred_Adaall = abcall.predict(df3_xtest)\n",
        "\n",
        "results_Adaall = confusion_matrix(df3_ytest, y_pred_Adaall) \n",
        "print ('Confusion Matrix :')\n",
        "print(results_Adaall)\n",
        "\n",
        "accabcall=accuracy_score(df3_ytest, y_pred_Adaall)\n",
        "preabcall=precision_score(df3_ytest, y_pred_Adaall, average='macro')\n",
        "f1abcall=f1_score(df3_ytest, y_pred_Adaall, average='macro')\n",
        "reabcall=recall_score(df3_ytest, y_pred_Adaall, average='macro')\n",
        "\n",
        "print ('Accuracy Score :', accabcall)\n",
        "print(\"Precision Score: \",preabcall)\n",
        "print(\"F1 Score: \",f1abcall)\n",
        "print(\"Recall: \",reabcall)"
      ],
      "execution_count": null,
      "outputs": []
    },
    {
      "cell_type": "code",
      "metadata": {
        "id": "Fbwdx6KnI4wX"
      },
      "source": [
        ""
      ],
      "execution_count": null,
      "outputs": []
    },
    {
      "cell_type": "code",
      "metadata": {
        "id": "i_Sou9aPI9np"
      },
      "source": [
        "!pip install vecstack\n",
        "\n",
        "from sklearn.model_selection import train_test_split\n",
        "from sklearn.metrics import accuracy_score\n",
        "from sklearn.neighbors import KNeighborsClassifier\n",
        "from sklearn.ensemble import RandomForestClassifier\n",
        "from xgboost import XGBClassifier\n",
        "from vecstack import stacking"
      ],
      "execution_count": null,
      "outputs": []
    },
    {
      "cell_type": "code",
      "metadata": {
        "id": "Fqd-w6geI40E"
      },
      "source": [
        "models = [\n",
        "    KNeighborsClassifier(),\n",
        "        \n",
        "    RandomForestClassifier(n_estimators=500, max_depth=3),\n",
        "        \n",
        "    XGBClassifier(random_state=0, n_jobs=-1, learning_rate=0.1, \n",
        "                  n_estimators=100, max_depth=3)\n",
        "]"
      ],
      "execution_count": 51,
      "outputs": []
    },
    {
      "cell_type": "code",
      "metadata": {
        "id": "yjUmiwr-I43Z",
        "colab": {
          "base_uri": "https://localhost:8080/"
        },
        "outputId": "e47d7aa2-713f-49a9-8b56-ee7e2b93751d"
      },
      "source": [
        "S_train, S_test = stacking(models, df1_xtrain, df1_ytrain, df1_xtest, regression=False, mode='oof_pred_bag', needs_proba=False, save_dir=None,  metric=accuracy_score, \n",
        "                               n_folds=5, stratified=True, shuffle=True,  random_state=0, verbose=2)"
      ],
      "execution_count": 52,
      "outputs": [
        {
          "output_type": "stream",
          "text": [
            "task:         [classification]\n",
            "n_classes:    [10]\n",
            "metric:       [accuracy_score]\n",
            "mode:         [oof_pred_bag]\n",
            "n_models:     [3]\n",
            "\n",
            "model  0:     [KNeighborsClassifier]\n",
            "    fold  0:  [0.73357156]\n",
            "    fold  1:  [0.74108966]\n",
            "    fold  2:  [0.73417487]\n",
            "    fold  3:  [0.73937256]\n",
            "    fold  4:  [0.74043995]\n",
            "    ----\n",
            "    MEAN:     [0.73772972] + [0.00320190]\n",
            "    FULL:     [0.73772972]\n",
            "\n",
            "model  1:     [RandomForestClassifier]\n",
            "    fold  0:  [0.72345461]\n",
            "    fold  1:  [0.73292185]\n",
            "    fold  2:  [0.72758493]\n",
            "    fold  3:  [0.73217932]\n",
            "    fold  4:  [0.72730648]\n",
            "    ----\n",
            "    MEAN:     [0.72868944] + [0.00348220]\n",
            "    FULL:     [0.72868944]\n",
            "\n",
            "model  2:     [XGBClassifier]\n",
            "    fold  0:  [0.78893633]\n",
            "    fold  1:  [0.79547986]\n",
            "    fold  2:  [0.79650084]\n",
            "    fold  3:  [0.79961017]\n",
            "    fold  4:  [0.79520141]\n",
            "    ----\n",
            "    MEAN:     [0.79514572] + [0.00347675]\n",
            "    FULL:     [0.79514572]\n",
            "\n"
          ],
          "name": "stdout"
        }
      ]
    },
    {
      "cell_type": "code",
      "metadata": {
        "id": "NQFZA7MAI473",
        "colab": {
          "base_uri": "https://localhost:8080/"
        },
        "outputId": "1488f241-5766-413c-c2b6-5cc87de8d390"
      },
      "source": [
        "XGB10 = XGBClassifier(random_state=1, n_jobs=-1, learning_rate=0.1, \n",
        "                      n_estimators=300, max_depth=3)\n",
        "    \n",
        "XGB10 = XGB10.fit(S_train, df1_ytrain)\n",
        "\n",
        "y_pred_XGB1 = XGB10.predict(S_test)\n",
        "\n",
        "print('Final prediction score: [%.5f]' % accuracy_score(df1_ytest, y_pred_XGB1))\n",
        "\n",
        "results_XGB1 = confusion_matrix(df1_ytest, y_pred_XGB1) \n",
        "print ('Confusion Matrix :')\n",
        "print(results_XGB1) \n",
        "\n",
        "accXGB10=accuracy_score(df1_ytest, y_pred_XGB1)\n",
        "preXGB10=precision_score(df1_ytest, y_pred_XGB1, average='macro')\n",
        "f1XGB10=f1_score(df1_ytest, y_pred_XGB1, average='macro')\n",
        "reXGB10=recall_score(df1_ytest, y_pred_XGB1, average='macro')\n",
        "\n",
        "print ('Accuracy Score :', accXGB10)\n",
        "print(\"Precision Score: \",preXGB10)\n",
        "print(\"F1 Score: \",f1XGB10)\n",
        "print(\"Recall: \",reXGB10)"
      ],
      "execution_count": 53,
      "outputs": [
        {
          "output_type": "stream",
          "text": [
            "Final prediction score: [0.73445]\n",
            "Confusion Matrix :\n",
            "[[    1     0     0     8   613     0    52     3     0     0]\n",
            " [    1    21     1    32   513     0     7     4     4     0]\n",
            " [    9    47    68  1023  2782     2    44    45    69     0]\n",
            " [    7    29    32  7275  3222     0   305   183    78     1]\n",
            " [    1     7     1   136  4807     0   961    54    95     0]\n",
            " [    0     4    12   495   163 18159    19     8    10     1]\n",
            " [    1     0    17  1075  8720     0 27080    33    73     1]\n",
            " [    2     6     2   291   345     0     7  2828    15     0]\n",
            " [    0     1     2    55    64     0    11    30   215     0]\n",
            " [    0     0     1    22     5     0     1     0     0    15]]\n",
            "Accuracy Score : 0.7344531895253364\n",
            "Precision Score:  0.570868266035018\n",
            "F1 Score:  0.47195333459465355\n",
            "Recall:  0.49134003537254217\n"
          ],
          "name": "stdout"
        }
      ]
    },
    {
      "cell_type": "code",
      "metadata": {
        "id": "8i1KC2CdTWm8"
      },
      "source": [
        "S_train2, S_test2 = stacking(models, df2_xtrain, df2_ytrain, df2_xtest, regression=False, mode='oof_pred_bag', needs_proba=False, save_dir=None,  metric=accuracy_score, \n",
        "                               n_folds=5, stratified=True, shuffle=True,  random_state=0, verbose=2)\n",
        "\n",
        "XGB20 = XGBClassifier(random_state=0, n_jobs=-1, learning_rate=0.1, n_estimators=300, max_depth=3)\n",
        "    \n",
        "XGB20 = XGB20.fit(S_train2, df2_ytrain)\n",
        "\n",
        "y_pred_XGB2 = XGB20.predict(S_test2)\n",
        "\n",
        "print('Final prediction score: [%.5f]' % accuracy_score(df2_ytest, y_pred_XGB2))\n",
        "\n",
        "\n",
        "results_XGB2 = confusion_matrix(df2_ytest, y_pred_XGB2) \n",
        "print ('Confusion Matrix :')\n",
        "print(results_XGB2) \n",
        "\n",
        "accXGB20=accuracy_score(df2_ytest, y_pred_XGB2)\n",
        "preXGB20=precision_score(df2_ytest, y_pred_XGB2, average='macro')\n",
        "f1XGB20=f1_score(df2_ytest, y_pred_XGB2, average='macro')\n",
        "reXGB20=recall_score(df2_ytest, y_pred_XGB2, average='macro')\n",
        "\n",
        "print ('Accuracy Score :',accXGB20 )\n",
        "print(\"Precision Score: \",preXGB20)\n",
        "print(\"F1 Score: \",f1XGB20)\n",
        "print(\"Recall: \",reXGB20)\n"
      ],
      "execution_count": null,
      "outputs": []
    },
    {
      "cell_type": "code",
      "metadata": {
        "colab": {
          "background_save": true
        },
        "id": "dSyC9ob1TWqP",
        "outputId": "4ac19701-c031-4b10-f84b-850f93b5d61a"
      },
      "source": [
        "\n",
        "S_train3, S_test3 = stacking(models, df3_xtrain, df3_ytrain, df3_xtest, regression=False, mode='oof_pred_bag', needs_proba=False, save_dir=None,  metric=accuracy_score, \n",
        "                               n_folds=5, stratified=True, shuffle=True,  random_state=0, verbose=2)\n",
        "\n",
        "\n",
        "XGBall = XGBClassifier(random_state=0, n_jobs=-1, learning_rate=0.1, n_estimators=300, max_depth=3)\n",
        "    \n",
        "XGBall = XGBall.fit(S_train3, df3_ytrain)\n",
        "\n",
        "y_pred_XGB3 = XGBall.predict(S_test)\n",
        "\n",
        "print('Final prediction score: [%.5f]' % accuracy_score(df3_ytest, y_pred_XGB3))\n",
        "\n",
        "results_XGB3 = confusion_matrix(df3_ytest, y_pred_XGB3) \n",
        "print ('Confusion Matrix :')\n",
        "print(results_XGB3) \n",
        "\n",
        "accXGBall=accuracy_score(df3_ytest, y_pred_XGB3)\n",
        "preXGBall=precision_score(df3_ytest, y_pred_XGB3, average='macro')\n",
        "f1XGBall=f1_score(df3_ytest, y_pred_XGB3, average='macro')\n",
        "reXGBall=recall_score(df3_ytest, y_pred_XGB3, average='macro')\n",
        "\n",
        "print ('Accuracy Score :', accXGBall)\n",
        "print(\"Precision Score: \",preXGBall)\n",
        "print(\"F1 Score: \",f1XGBall)\n",
        "print(\"Recall: \",reXGBall)\n"
      ],
      "execution_count": null,
      "outputs": [
        {
          "output_type": "stream",
          "text": [
            "task:         [classification]\n",
            "n_classes:    [10]\n",
            "metric:       [accuracy_score]\n",
            "mode:         [oof_pred_bag]\n",
            "n_models:     [3]\n",
            "\n",
            "model  0:     [KNeighborsClassifier]\n",
            "    fold  0:  [0.56682755]\n",
            "    fold  1:  [0.56585298]\n",
            "    fold  2:  [0.56835901]\n",
            "    fold  3:  [0.56283646]\n",
            "    fold  4:  [0.57040097]\n",
            "    ----\n",
            "    MEAN:     [0.56685539] + [0.00252940]\n",
            "    FULL:     [0.56685539]\n",
            "\n",
            "model  1:     [RandomForestClassifier]\n",
            "    fold  0:  [0.69811583]\n",
            "    fold  1:  [0.70405606]\n",
            "    fold  2:  [0.70470577]\n",
            "    fold  3:  [0.70591238]\n",
            "    fold  4:  [0.70572675]\n",
            "    ----\n",
            "    MEAN:     [0.70370336] + [0.00287484]\n",
            "    FULL:     [0.70370336]\n",
            "\n",
            "model  2:     [XGBClassifier]\n",
            "    fold  0:  [0.79227771]\n",
            "    fold  1:  [0.79956376]\n",
            "    fold  2:  [0.79942454]\n",
            "    fold  3:  [0.80517913]\n",
            "    fold  4:  [0.79933172]\n",
            "    ----\n",
            "    MEAN:     [0.79915537] + [0.00409532]\n",
            "    FULL:     [0.79915537]\n",
            "\n",
            "Final prediction score: [0.71095]\n",
            "Confusion Matrix :\n",
            "[[  138     0     0     8   479     0    49     3     0     0]\n",
            " [   91    20     1    31   424     0     8     4     4     0]\n",
            " [  701    67    72  1016  2058     2    78    33    62     0]\n",
            " [  711    39    60  7252  2484     0   336   181    67     2]\n",
            " [  267     8     4   138  4519     0   981    51    94     0]\n",
            " [    9     5     8   496   150 18159    25     8    10     1]\n",
            " [  412    10    33  1057  8596     0 26808    28    55     1]\n",
            " [   83    10     5   288   255     0  1456  1384    15     0]\n",
            " [    2     3    43    40    56     0    43    24   167     0]\n",
            " [    0     1     0    22     5     0     1     0     0    15]]\n",
            "Accuracy Score : 0.7109507846280911\n",
            "Precision Score:  0.5285040219502108\n",
            "F1 Score:  0.4394593195526658\n",
            "Recall:  0.45180725447333814\n"
          ],
          "name": "stdout"
        }
      ]
    },
    {
      "cell_type": "code",
      "metadata": {
        "id": "Hwgf1CnikmZa"
      },
      "source": [
        "from sklearn.datasets import make_classification\n",
        "from sklearn.ensemble import StackingClassifier\n",
        "from sklearn.linear_model import LogisticRegression\n",
        "from sklearn.neighbors import KNeighborsClassifier\n",
        "from sklearn.tree import DecisionTreeClassifier\n",
        "from sklearn.svm import SVC\n",
        "from sklearn.ensemble import RandomForestClassifier,AdaBoostClassifier,GradientBoostingClassifier"
      ],
      "execution_count": 48,
      "outputs": []
    },
    {
      "cell_type": "code",
      "metadata": {
        "id": "vPtKiX1VTWtA",
        "colab": {
          "base_uri": "https://localhost:8080/"
        },
        "outputId": "38d91952-a8e9-4e5c-a40d-83f02fd6188f"
      },
      "source": [
        "level0 = list()\n",
        "level0.append(('rf', RandomForestClassifier()))\n",
        "#level0.append(('knn', KNeighborsClassifier()))\n",
        "level0.append(('cart', DecisionTreeClassifier()))\n",
        "# define meta learner model\n",
        "print(\"Proceeding with: \",level0)\n",
        "level1 = GradientBoostingClassifier(n_estimators=200)\n",
        "# define the stacking ensemble\n",
        "model = StackingClassifier(estimators=level0, final_estimator=level1, cv=2)\n",
        "# fit the model on all available data\n",
        "model.fit(df1_xtrain, df1_ytrain)\n",
        "# make a prediction for one example\n",
        "\n",
        "yhat = model.predict(df1_xtest)\n",
        "#print('Predicted Class: %d' % (yhat))\n",
        "\n",
        "print('Final prediction score: [%.5f]' % accuracy_score(df1_ytest, yhat))\n",
        "\n",
        "results_sc1 = confusion_matrix(df1_ytest, yhat) \n",
        "print ('Confusion Matrix :')\n",
        "print(results_sc1) \n",
        "\n",
        "accensemble10=accuracy_score(df1_ytest, yhat)\n",
        "preensemble10=precision_score(df1_ytest, yhat, average='macro')\n",
        "f1ensemble10=f1_score(df1_ytest, yhat, average='macro')\n",
        "reensemble10=recall_score(df1_ytest, yhat, average='macro')\n",
        "\n",
        "print ('Accuracy Score :',accensemble10 )\n",
        "print(\"Precision Score: \",preensemble10)\n",
        "print(\"F1 Score: \",f1ensemble10)\n",
        "print(\"Recall: \",reensemble10)\n"
      ],
      "execution_count": 49,
      "outputs": [
        {
          "output_type": "stream",
          "text": [
            "Proceeding with:  [('rf', RandomForestClassifier(bootstrap=True, ccp_alpha=0.0, class_weight=None,\n",
            "                       criterion='gini', max_depth=None, max_features='auto',\n",
            "                       max_leaf_nodes=None, max_samples=None,\n",
            "                       min_impurity_decrease=0.0, min_impurity_split=None,\n",
            "                       min_samples_leaf=1, min_samples_split=2,\n",
            "                       min_weight_fraction_leaf=0.0, n_estimators=100,\n",
            "                       n_jobs=None, oob_score=False, random_state=None,\n",
            "                       verbose=0, warm_start=False)), ('cart', DecisionTreeClassifier(ccp_alpha=0.0, class_weight=None, criterion='gini',\n",
            "                       max_depth=None, max_features=None, max_leaf_nodes=None,\n",
            "                       min_impurity_decrease=0.0, min_impurity_split=None,\n",
            "                       min_samples_leaf=1, min_samples_split=2,\n",
            "                       min_weight_fraction_leaf=0.0, presort='deprecated',\n",
            "                       random_state=None, splitter='best'))]\n",
            "Final prediction score: [0.68303]\n",
            "Confusion Matrix :\n",
            "[[  101   115   114   163   164     2     7     9     2     0]\n",
            " [   31   157   115   115   136     3     8     8    10     0]\n",
            " [  911   215   856  1033   767    14    62   164    64     3]\n",
            " [  836   330   596  7838   948    29    77   352   110    16]\n",
            " [  133   239   287   677  3956     7   433    32   296     2]\n",
            " [    6    19    54   375    69 18274    22     3    42     7]\n",
            " [ 1579     2    49   874 12386     4 21918    15   169     4]\n",
            " [  112    16    54   320   117     2    13  2818    43     1]\n",
            " [    1     2    14    41    32     0     3     1   283     1]\n",
            " [    0     0     0     7     2     1     0     0     0    34]]\n",
            "Accuracy Score : 0.6830272555021134\n",
            "Precision Score:  0.5043654867154245\n",
            "F1 Score:  0.5071414559194743\n",
            "Recall:  0.5872723803687703\n"
          ],
          "name": "stdout"
        }
      ]
    },
    {
      "cell_type": "code",
      "metadata": {
        "id": "qQULcI5MJs8o",
        "colab": {
          "base_uri": "https://localhost:8080/",
          "height": 1000
        },
        "outputId": "2332fcaa-7ec5-431c-cb34-bb2ffb660270"
      },
      "source": [
        "import matplotlib.pyplot as plt\n",
        "#Accuracy\n",
        "print(\"Accuracy\")\n",
        "fig = plt.figure()\n",
        "ax = fig.add_axes([0,0,2,1])\n",
        "algo = ['accKNN10', 'accDT10', 'accbayes_10', 'accclfRF_10',\"accabc10\",\"accXGB10\",\"accensemble10\",\"accNN10\",\"accCNN10\"]\n",
        "acc = [accKNN10*100,accDT10*100,accbayes_10*100,accclfRF_10*100,accabc10*100,accXGB10*100,accensemble10*100,accNN10*100,accCNN10*100]\n",
        "ax.bar(algo,acc)\n",
        "plt.show()\n",
        "#Precision\n",
        "print(\"Precision\")\n",
        "fig = plt.figure()\n",
        "ax = fig.add_axes([0,0,1,1])\n",
        "algo = ['preKNN10', 'preDT10', 'prebayes_10', 'preclfRF_10',\"preabc10\",\"preXGB10\",\"preensemble10\",]\n",
        "pre = [preKNN10*100,preDT10*100,prebayes_10*100,preclfRF_10*100,preabc10*100,preXGB10*100,preensemble10*100]\n",
        "ax.bar(algo,pre)\n",
        "plt.show()\n",
        "#F1 Score\n",
        "print(\"F1 Score\")\n",
        "fig = plt.figure()\n",
        "ax = fig.add_axes([0,0,2,1])\n",
        "algo = ['f1KNN10', 'f1DT10', 'f1bayes_10', 'f1clfRF_10',\"f1abc10\",\"f1XGB10\",\"f1ensemble10\"]\n",
        "f1 = [f1KNN10*100,f1DT10*100,f1bayes_10*100,f1clfRF_10*100,f1abc10*100,f1XGB10*100,f1ensemble10*100]\n",
        "ax.bar(algo,f1)\n",
        "plt.show()\n",
        "#Recall\n",
        "print(\"Recall\")\n",
        "fig = plt.figure()\n",
        "ax = fig.add_axes([0,0,2,1])\n",
        "algo = ['reKNN10', 'reDT10', 'rebayes_10', 'reclfRF_10',\"reabc10\",\"reXGB10\",\"reensemble10\"]\n",
        "re = [reKNN10*100,reDT10*100,rebayes_10*100,reclfRF_10*100,reabc10*100,reXGB10*100,reensemble10*100]\n",
        "ax.bar(algo,re)\n",
        "plt.show()"
      ],
      "execution_count": 63,
      "outputs": [
        {
          "output_type": "stream",
          "text": [
            "Accuracy\n"
          ],
          "name": "stdout"
        },
        {
          "output_type": "display_data",
          "data": {
            "image/png": "[encoded data removed]",
            "text/plain": [
              "<Figure size 576x396 with 1 Axes>"
            ]
          },
          "metadata": {
            "tags": []
          }
        },
        {
          "output_type": "stream",
          "text": [
            "Precision\n"
          ],
          "name": "stdout"
        },
        {
          "output_type": "display_data",
          "data": {
            "image/png": "[encoded data removed]",
            "text/plain": [
              "<Figure size 576x396 with 1 Axes>"
            ]
          },
          "metadata": {
            "tags": []
          }
        },
        {
          "output_type": "stream",
          "text": [
            "F1 Score\n"
          ],
          "name": "stdout"
        },
        {
          "output_type": "display_data",
          "data": {
            "image/png": "[encoded data removed]",
            "text/plain": [
              "<Figure size 576x396 with 1 Axes>"
            ]
          },
          "metadata": {
            "tags": []
          }
        },
        {
          "output_type": "stream",
          "text": [
            "Recall\n"
          ],
          "name": "stdout"
        },
        {
          "output_type": "display_data",
          "data": {
            "image/png": "[encoded data removed]",
            "text/plain": [
              "<Figure size 576x396 with 1 Axes>"
            ]
          },
          "metadata": {
            "tags": []
          }
        }
      ]
    },
    {
      "cell_type": "code",
      "metadata": {
        "id": "joLjhR5TJtJ_"
      },
      "source": [
        "[accKNN10,preKNN10,f1KNN10,reKNN10][accDT10,preDT10,f1DT10,reDT10]\n",
        "[accbayes_10,prebayes_10,f1bayes_10,rebayes_10][accclfRF_10,preclfRF_10,f1clfRF_10,reclfRF_10]\n",
        "[acclogisticRegr_10,prelogisticRegr_10,f1logisticRegr_10,relogisticRegr_10]\n",
        "[accabc10,preabc10,f1abc10,reabc10][accXGB10,preXGB10,f1XGB10,reXGB10]\n",
        "[accensemble10,preensemble10,f1ensemble10,reensemble10]\n",
        "[accNN10,historyNN10][accCNN10,historyCNN10]\n",
        "\n"
      ],
      "execution_count": null,
      "outputs": []
    },
    {
      "cell_type": "code",
      "metadata": {
        "id": "kNVCktgNkivi"
      },
      "source": [
        ""
      ],
      "execution_count": null,
      "outputs": []
    }
  ]
}