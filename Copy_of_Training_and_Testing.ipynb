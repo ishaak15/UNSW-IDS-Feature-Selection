{
  "nbformat": 4,
  "nbformat_minor": 0,
  "metadata": {
    "accelerator": "TPU",
    "colab": {
      "name": "Copy of Training_and_Testing.ipynb",
      "provenance": [],
      "collapsed_sections": [],
      "include_colab_link": true
    },
    "kernelspec": {
      "display_name": "Python 3",
      "name": "python3"
    },
    "language_info": {
      "name": "python"
    }
  },
  "cells": [
    {
      "cell_type": "markdown",
      "metadata": {
        "id": "view-in-github",
        "colab_type": "text"
      },
      "source": [
        "<a href=\"https://colab.research.google.com/github/ishaak15/UNSW-IDS-Feature-Selection/blob/main/Copy_of_Training_and_Testing.ipynb\" target=\"_parent\"><img src=\"https://colab.research.google.com/assets/colab-badge.svg\" alt=\"Open In Colab\"/></a>"
      ]
    },
    {
      "cell_type": "code",
      "metadata": {
        "id": "RupDMUtc2mgK",
        "colab": {
          "base_uri": "https://localhost:8080/"
        },
        "outputId": "d676b5b1-eebd-440f-e18c-b37f331de5ab"
      },
      "source": [
        "import numpy as np \n",
        "import matplotlib\n",
        "import matplotlib.pyplot as plt\n",
        "import os\n",
        "import math\n",
        "import pandas as pd\n",
        "from sklearn.decomposition import PCA\n",
        "from sklearn.model_selection import cross_validate\n",
        "from sklearn import datasets, preprocessing, feature_extraction, neighbors\n",
        "from sklearn import linear_model, svm, metrics, ensemble, tree, ensemble\n",
        "from sklearn.model_selection import train_test_split\n",
        "from copy import copy\n",
        "import urllib\n",
        "import csv\n",
        "\n",
        "import seaborn as sns\n",
        "from sklearn.preprocessing import LabelEncoder\n",
        "import matplotlib.pyplot as plt\n",
        "import plotly.graph_objs as go\n",
        "\n",
        "from sklearn.tree import DecisionTreeClassifier # Import Decision Tree Classifier\n",
        "from sklearn.model_selection import train_test_split # Import train_test_split function\n",
        "from sklearn import metrics #Import scikit-learn metrics module for accuracy calculation\n",
        "\n",
        "from sklearn.metrics import confusion_matrix \n",
        "from sklearn.metrics import accuracy_score \n",
        "from sklearn.metrics import classification_report \n",
        "\n",
        "\n",
        "from sklearn.naive_bayes import GaussianNB\n",
        "from yellowbrick.classifier import ClassificationReport\n",
        "\n",
        "from sklearn.ensemble import RandomForestClassifier\n",
        "from sklearn.linear_model import LogisticRegression\n",
        "from sklearn.model_selection import train_test_split \n",
        "from sklearn.naive_bayes import GaussianNB \n",
        "from sklearn.linear_model import LogisticRegression\n",
        "from sklearn.svm import SVC # \"Support Vector Classifier\" \n",
        "from sklearn.ensemble import AdaBoostClassifier\n",
        "from sklearn.ensemble import ExtraTreesClassifier\n",
        "\n",
        "from sklearn.feature_selection import SelectKBest\n",
        "from sklearn.feature_selection import chi2\n",
        "\n",
        "from zipfile import ZipFile\n",
        "import collections\n",
        "\n",
        "from sklearn.feature_selection import RFE\n",
        "from sklearn.linear_model import LogisticRegression\n",
        "\n",
        "from sklearn.metrics import confusion_matrix \n",
        "from sklearn.metrics import accuracy_score \n",
        "from sklearn.metrics import classification_report \n",
        "from sklearn.metrics import classification_report\n",
        "from sklearn.metrics import precision_recall_fscore_support\n",
        "from sklearn.metrics import recall_score\n",
        "from sklearn.metrics import precision_score\n",
        "from sklearn.metrics import f1_score\n"
      ],
      "execution_count": 1,
      "outputs": [
        {
          "output_type": "stream",
          "text": [
            "/usr/local/lib/python3.7/dist-packages/sklearn/utils/deprecation.py:144: FutureWarning:\n",
            "\n",
            "The sklearn.metrics.classification module is  deprecated in version 0.22 and will be removed in version 0.24. The corresponding classes / functions should instead be imported from sklearn.metrics. Anything that cannot be imported from sklearn.metrics is now part of the private API.\n",
            "\n"
          ],
          "name": "stderr"
        }
      ]
    },
    {
      "cell_type": "code",
      "metadata": {
        "colab": {
          "base_uri": "https://localhost:8080/"
        },
        "id": "FUKlYohz7Ge3",
        "outputId": "765234e9-f8b9-43d3-a153-a1181ca21740"
      },
      "source": [
        "!git clone https://github.com/ishaak15/UNSW-IDS-Feature-Selection.git"
      ],
      "execution_count": 2,
      "outputs": [
        {
          "output_type": "stream",
          "text": [
            "Cloning into 'UNSW-IDS-Feature-Selection'...\n",
            "remote: Enumerating objects: 52, done.\u001b[K\n",
            "remote: Counting objects: 100% (15/15), done.\u001b[K\n",
            "remote: Compressing objects: 100% (15/15), done.\u001b[K\n",
            "remote: Total 52 (delta 1), reused 0 (delta 0), pack-reused 37\u001b[K\n",
            "Unpacking objects: 100% (52/52), done.\n"
          ],
          "name": "stdout"
        }
      ]
    },
    {
      "cell_type": "code",
      "metadata": {
        "colab": {
          "base_uri": "https://localhost:8080/"
        },
        "id": "zVKdVCIQIVl8",
        "outputId": "3843b48b-05ae-441e-f5d2-85ba1638bf00"
      },
      "source": [
        "cd UNSW-IDS-Feature-Selection/"
      ],
      "execution_count": 3,
      "outputs": [
        {
          "output_type": "stream",
          "text": [
            "/content/UNSW-IDS-Feature-Selection\n"
          ],
          "name": "stdout"
        }
      ]
    },
    {
      "cell_type": "code",
      "metadata": {
        "colab": {
          "base_uri": "https://localhost:8080/"
        },
        "id": "6CrTS2MAIetl",
        "outputId": "98dc40bb-9bdf-40f4-ad33-fa2a31e27088"
      },
      "source": [
        "ls"
      ],
      "execution_count": 4,
      "outputs": [
        {
          "output_type": "stream",
          "text": [
            "bayes_10.sav   clfKNN20.sav                        README.md\n",
            "bayes_20.sav   clfKNN_all.sav                      Testset1.csv\n",
            "bayes_all.sav  Copy_of_Training_and_Testing.ipynb  Testset2.csv\n",
            "clfDT_10.sav   Dataset1.csv                        Testset3.csv\n",
            "clfDT_20.sav   Dataset2.csv                        Training_and_Testing.ipynb\n",
            "clfDT_all.sav  Dataset3.csv                        UNSW_IDS_analysis.ipynb\n",
            "clfKNN10.sav   LICENSE                             UNSW_NB15_testing-set.csv\n"
          ],
          "name": "stdout"
        }
      ]
    },
    {
      "cell_type": "code",
      "metadata": {
        "id": "PR7ddO_b-TYh"
      },
      "source": [
        "df1 = pd.read_csv('Dataset1.csv',index_col=0)\n",
        "df2 = pd.read_csv('Dataset2.csv',index_col=0)\n",
        "df3 = pd.read_csv('Dataset3.csv',index_col=0)"
      ],
      "execution_count": 5,
      "outputs": []
    },
    {
      "cell_type": "code",
      "metadata": {
        "id": "sK7zk_s0-2Go"
      },
      "source": [
        "tf1 = pd.read_csv('Testset1.csv',index_col=0)\n",
        "tf2 = pd.read_csv('Testset2.csv',index_col=0)\n",
        "tf3 = pd.read_csv('Testset3.csv',index_col=0)"
      ],
      "execution_count": 6,
      "outputs": []
    },
    {
      "cell_type": "code",
      "metadata": {
        "id": "DVJCwCx5DkD6"
      },
      "source": [
        "df1_xtrain=df1.iloc[: , :-1]\n",
        "df1_ytrain=df1.iloc[:,-1]\n",
        "df2_xtrain=df2.iloc[: , :-1]\n",
        "df2_ytrain=df2.iloc[:,-1]\n",
        "df3_xtrain=df3.iloc[: , :-1]\n",
        "df3_ytrain=df3.iloc[:,-1]"
      ],
      "execution_count": 7,
      "outputs": []
    },
    {
      "cell_type": "code",
      "metadata": {
        "id": "N2Q5ICJvIsgs"
      },
      "source": [
        "df1_xtest=tf1.iloc[: , :-1]\n",
        "df1_ytest=tf1.iloc[:,-1]\n",
        "df2_xtest=tf2.iloc[: , :-1]\n",
        "df2_ytest=tf2.iloc[:,-1]\n",
        "df3_xtest=tf3.iloc[: , :-1]\n",
        "df3_ytest=tf3.iloc[:,-1]"
      ],
      "execution_count": 8,
      "outputs": []
    },
    {
      "cell_type": "code",
      "metadata": {
        "id": "w-ZMD59m4V2o"
      },
      "source": [
        "#KNN"
      ],
      "execution_count": null,
      "outputs": []
    },
    {
      "cell_type": "code",
      "metadata": {
        "colab": {
          "base_uri": "https://localhost:8080/"
        },
        "id": "9eg-WFEcsYCS",
        "outputId": "45c6ced3-5cea-45f7-f790-3c512965c97d"
      },
      "source": [
        "clfKNN10=neighbors.KNeighborsClassifier()\n",
        "clfKNN10.fit(df1_xtrain,df1_ytrain)\n",
        "#clfKNN10.fit(df1_xtrain,df1_ytrain)\n",
        "\n",
        "print (\"\\t\\tKNN Classification of UNSW-NB15\\n\\n\\t\\tTop 10 Features \")\n",
        "\n",
        "yt_pred_10 = clfKNN10.predict(df1_xtest)\n",
        "results = confusion_matrix(df1_ytest, yt_pred_10) \n",
        "print ('Confusion Matrix :')\n",
        "print(results) \n",
        "\n",
        "\n",
        "accKNN10=accuracy_score(df1_ytest,yt_pred_10)\n",
        "print(\"Accuracy: \",accKNN10)\n",
        "preKNN10=precision_score(df1_ytest, yt_pred_10, average='macro')\n",
        "print(\"Precision Score: \",preKNN10)\n",
        "f1KNN10=f1_score(df1_ytest, yt_pred_10, average='macro')\n",
        "print(\"F1 Score: \",f1KNN10)\n",
        "reKNN10=recall_score(df1_ytest, yt_pred_10, average='macro')  \n",
        "print(\"Recall: \",reKNN10)\n"
      ],
      "execution_count": null,
      "outputs": [
        {
          "output_type": "stream",
          "text": [
            "\t\tKNN Classification of UNSW-NB15\n",
            "\n",
            "\t\tTop 10 Features \n",
            "Confusion Matrix :\n",
            "[[  208   131    42    58   129    16    32    61     0     0]\n",
            " [  198   121    13    49   134    18    16    33     1     0]\n",
            " [  822   758   472   913   502    21   202   372    27     0]\n",
            " [  955   835   503  6664   944    39   616   540    33     3]\n",
            " [  444   315    97   469  3357    54  1111   164    50     1]\n",
            " [   17    11    34   375   168 18078   140    44     4     0]\n",
            " [  496    52   218  1986  7076    20 26822   233    93     4]\n",
            " [   82   102    51   324   117     5    71  2737     5     2]\n",
            " [    5     7    12    50   161     6    51    32    54     0]\n",
            " [    0     1     2    26    11     0     3     0     0     1]]\n",
            "Accuracy:  0.7107078657144246\n",
            "Precision Score:  0.41756373950870634\n",
            "F1 Score:  0.4023931552335053\n",
            "Recall:  0.44140047486900985\n"
          ],
          "name": "stdout"
        }
      ]
    },
    {
      "cell_type": "code",
      "metadata": {
        "id": "gxUUKcyegAMb"
      },
      "source": [
        ""
      ],
      "execution_count": null,
      "outputs": []
    },
    {
      "cell_type": "code",
      "metadata": {
        "colab": {
          "base_uri": "https://localhost:8080/"
        },
        "id": "kBj8htUIsYM0",
        "outputId": "b026120a-94a1-4fe0-f90c-5abce69e3153"
      },
      "source": [
        "clfKNN20=neighbors.KNeighborsClassifier()\n",
        "clfKNN20.fit(df2_xtrain,df2_ytrain)\n",
        "\n",
        "print (\"\\t\\tKNN Analysis of UNSW-NB15\\n\\n\\t\\tTop 20 Features \")\n",
        "\n",
        "y_pred_20 = clfKNN20.predict(df2_xtest)\n",
        "results = confusion_matrix(df2_ytest, y_pred_20) \n",
        "print ('Confusion Matrix :')\n",
        "print(results) \n",
        "\n",
        "\n",
        "accKNN20=accuracy_score(df2_ytest,y_pred_20)\n",
        "print(\"Accuracy: \",accKNN20)\n",
        "preKNN20=precision_score(df2_ytest, y_pred_20, average='macro')\n",
        "print(\"Precision Score: \",preKNN20)\n",
        "f1KNN20=f1_score(df2_ytest, y_pred_20, average='macro')\n",
        "print(\"F1 Score: \",f1KNN20)\n",
        "reKNN20=recall_score(df2_ytest, y_pred_20, average='macro')  \n",
        "print(\"Recall: \",reKNN20)\n"
      ],
      "execution_count": null,
      "outputs": [
        {
          "output_type": "stream",
          "text": [
            "\t\tKNN Analysis of UNSW-NB15\n",
            "\n",
            "\t\tTop 20 Features \n",
            "Confusion Matrix :\n",
            "[[  267   167    15    69   117    16    17     9     0     0]\n",
            " [  251   109     6    65   118    18    11     5     0     0]\n",
            " [ 1150  1136   184   646   494    22   307   129    21     0]\n",
            " [ 1321  1139   396  4316  1854    39  1749   290    28     0]\n",
            " [  599   332   140  2053  1702    56  1023   122    35     0]\n",
            " [   30    22    26   304   220 18083   132    51     3     0]\n",
            " [  132    71   537  7955  4981    21 22760   473    69     1]\n",
            " [  126   152    91   985   400     7   405  1325     5     0]\n",
            " [    7     6    13   109   126     5    52    17    43     0]\n",
            " [    0     0     1    22     8     0    13     0     0     0]]\n",
            "Accuracy:  0.5925885439440315\n",
            "Precision Score:  0.3273066113090913\n",
            "F1 Score:  0.3053129978339978\n",
            "Recall:  0.336096541715301\n"
          ],
          "name": "stdout"
        }
      ]
    },
    {
      "cell_type": "code",
      "metadata": {
        "colab": {
          "base_uri": "https://localhost:8080/"
        },
        "id": "amTNhuAbsYSP",
        "outputId": "6268e89e-b1bf-471b-9aff-b7d65fd0b64a"
      },
      "source": [
        "clfKNN20=neighbors.KNeighborsClassifier()\n",
        "clfKNN20.fit(df3_xtrain,df3_ytrain)\n",
        "\n",
        "print (\"\\t\\tKNN Analysis of UNSW-NB15\\n\\n\\t\\tAll Features \")\n",
        "\n",
        "y_pred_all = clfKNN20.predict(df3_xtest)\n",
        "results = confusion_matrix(df3_ytest, y_pred_all) \n",
        "print ('Confusion Matrix :')\n",
        "print(results) \n",
        "\n",
        "\n",
        "accKNNall=accuracy_score(df3_ytest, y_pred_all)\n",
        "print(\"Accuracy: \",accKNNall)\n",
        "preKNNall=precision_score(df3_ytest, y_pred_all, average='macro')\n",
        "print(\"Precision Score: \",preKNNall)\n",
        "f1KNNall=f1_score(df3_ytest, y_pred_all, average='macro')\n",
        "print(\"F1 Score: \",f1KNNall)\n",
        "reKNNall=recall_score(df3_ytest, y_pred_all, average='macro')  \n",
        "print(\"Recall: \",reKNNall)\n"
      ],
      "execution_count": null,
      "outputs": [
        {
          "output_type": "stream",
          "text": [
            "\t\tKNN Analysis of UNSW-NB15\n",
            "\n",
            "\t\tAll Features \n",
            "Confusion Matrix :\n",
            "[[  336   161     1    44   101    16    17     1     0     0]\n",
            " [  304    98     1    44   105    18    11     2     0     0]\n",
            " [ 1491  1070   101   581   437    22   305    61    21     0]\n",
            " [ 1671  1073   319  4245  1794    39  1743   220    28     0]\n",
            " [  726   307   123  2007  1672    56  1024   112    35     0]\n",
            " [   37    21    26   301   219 18083   130    51     3     0]\n",
            " [  115    55   537  7955  5009    21 22765   473    69     1]\n",
            " [  164   146    81   981   392     7   405  1315     5     0]\n",
            " [    6     3    13   109   132     5    50    16    44     0]\n",
            " [    0     0     1    22     8     0    13     0     0     0]]\n",
            "Accuracy:  0.5910095710051985\n",
            "Precision Score:  0.3265665197965294\n",
            "F1 Score:  0.3034833731074776\n",
            "Recall:  0.34123127222810123\n"
          ],
          "name": "stdout"
        }
      ]
    },
    {
      "cell_type": "code",
      "metadata": {
        "id": "RKy3aGMusYXi"
      },
      "source": [
        "#Decision TREE"
      ],
      "execution_count": null,
      "outputs": []
    },
    {
      "cell_type": "code",
      "metadata": {
        "colab": {
          "base_uri": "https://localhost:8080/"
        },
        "id": "8A2BPc0ksky-",
        "outputId": "d8cefcfa-a21f-4faf-8dd7-f6eab52aa8de"
      },
      "source": [
        "clfDT_10 = DecisionTreeClassifier()\n",
        "print (\"\\t\\tDecision Tree Analysis of UNSW-NB15\\n\\n\\t\\tTop 10 Features \")\n",
        "\n",
        "# Train Decision Tree Classifer\n",
        "clfDT_10 = clfDT_10.fit(df1_xtrain,df1_ytrain)\n",
        "\n",
        "#Predict the response for test dataset\n",
        "y_pred_DT10 = clfDT_10.predict(df1_xtest)\n",
        "\n",
        "\n",
        "#print (\"\\t\\tMajor Verifcation\")\n",
        "results_DT10 = confusion_matrix(df1_ytest, y_pred_DT10) \n",
        "print ('Confusion Matrix :')\n",
        "print(results_DT10) \n",
        "\n",
        "\n",
        "print ('Accuracy Score :',accuracy_score(df1_ytest, y_pred_DT10) )\n",
        "print(\"Precision Score: \",precision_score(df1_ytest, y_pred_DT10, average='macro'))\n",
        "print(\"F1 Score: \",f1_score(df1_ytest, y_pred_DT10, average='macro'))\n",
        "print(\"Recall: \",recall_score(df1_ytest, y_pred_DT10, average='macro'))\n",
        "\n"
      ],
      "execution_count": null,
      "outputs": [
        {
          "output_type": "stream",
          "text": [
            "\t\tDecision Tree Analysis of UNSW-NB15\n",
            "\n",
            "\t\tTop 10 Features \n",
            "Confusion Matrix :\n",
            "[[  376    82     0     3   186     0    28     2     0     0]\n",
            " [  321    53     3    11   187     0     4     0     4     0]\n",
            " [ 1490  1023   514   529   377    33    60    24    36     3]\n",
            " [ 1715   960   592  6511   633   116   231   227   127    20]\n",
            " [  724   144   129   511  2963    40  1276     4   267     4]\n",
            " [   20    25    61   223    55 18443    20     2    17     5]\n",
            " [  609     8  1064  1171  7281   122 26574    30   140     1]\n",
            " [  158   150    39   266    39     5    40  2758    39     2]\n",
            " [    1     7    14    41    29     4    14     3   265     0]\n",
            " [    0     1     0    11     0     1     1     0     1    29]]\n",
            "Accuracy Score : 0.7103677792352913\n",
            "Precision Score:  0.4834595761528261\n",
            "F1 Score:  0.4877509998431407\n",
            "Recall:  0.5690263240723327\n"
          ],
          "name": "stdout"
        }
      ]
    },
    {
      "cell_type": "code",
      "metadata": {
        "colab": {
          "base_uri": "https://localhost:8080/"
        },
        "id": "ZfSSpwm2sk1Y",
        "outputId": "59181a49-2c22-44b3-dd5c-1f4a0bc38516"
      },
      "source": [
        "clfDT_20 = DecisionTreeClassifier()\n",
        "print (\"\\t\\tDecision Tree Analysis of UNSW-NB15\\n\\n\\t\\tTop 20 Features \")\n",
        "\n",
        "# Train Decision Tree Classifer\n",
        "clfDT_20 = clfDT_20.fit(df2_xtrain,df2_ytrain)\n",
        "\n",
        "#Predict the response for test dataset\n",
        "y_pred_DT20 = clfDT_20.predict(df2_xtest)\n",
        "\n",
        "\n",
        "#print (\"\\t\\tMajor Verifcation\")\n",
        "results_DT20 = confusion_matrix(df2_ytest, y_pred_DT20) \n",
        "print ('Confusion Matrix :')\n",
        "print(results_DT20)\n",
        "\n",
        "print ('Accuracy Score :',accuracy_score(df2_ytest, y_pred_DT20) )\n",
        "print(\"Precision Score: \",precision_score(df2_ytest, y_pred_DT20, average='macro'))\n",
        "print(\"F1 Score: \",f1_score(df2_ytest, y_pred_DT20, average='macro'))\n",
        "print(\"Recall: \",recall_score(df2_ytest, y_pred_DT20, average='macro'))"
      ],
      "execution_count": null,
      "outputs": [
        {
          "output_type": "stream",
          "text": [
            "\t\tDecision Tree Analysis of UNSW-NB15\n",
            "\n",
            "\t\tTop 20 Features \n",
            "Confusion Matrix :\n",
            "[[  506   110     1    38     1     3    14     1     3     0]\n",
            " [  493    50     6    10     8     2    10     0     4     0]\n",
            " [ 1736  1029   542   519    89    44    68    26    36     0]\n",
            " [ 2083   962   651  6467   166    95   299   303    98     8]\n",
            " [ 1071   144    89   374  2682    29  1494    18   161     0]\n",
            " [   26    26    53   213    41 18465    18     8    16     5]\n",
            " [  675    10  1268  1491  7414    72 25889    41   139     1]\n",
            " [  163   140    37   275    35     3    35  2762    45     1]\n",
            " [    2     7    15    46    29     3    15     4   257     0]\n",
            " [    0     1     2    13     0     1     0     1     1    25]]\n",
            "Accuracy Score : 0.70015303891561\n",
            "Precision Score:  0.4991935628488952\n",
            "F1 Score:  0.4939799886246779\n",
            "Recall:  0.5705405158286443\n"
          ],
          "name": "stdout"
        }
      ]
    },
    {
      "cell_type": "code",
      "metadata": {
        "colab": {
          "base_uri": "https://localhost:8080/"
        },
        "id": "MQrDjJUosk4b",
        "outputId": "f2854689-8cc1-4e71-ab67-6801185fc67c"
      },
      "source": [
        "clfDT_all = DecisionTreeClassifier()\n",
        "print (\"\\t\\tDecision Tree Analysis of UNSW-NB15\\n\\n\\t\\tAll Features \")\n",
        "\n",
        "# Train Decision Tree Classifer\n",
        "clfDT_all = clfDT_all.fit(df3_xtrain,df3_ytrain)\n",
        "\n",
        "#Predict the response for test dataset\n",
        "y_pred_DTall = clfDT_all.predict(df3_xtest)\n",
        "\n",
        "#print (\"\\t\\tMajor Verifcation\")\n",
        "results_DTall = confusion_matrix(df3_ytest, y_pred_DTall) \n",
        "print ('Confusion Matrix :')\n",
        "print(results_DTall)\n",
        "\n",
        "print ('Accuracy Score :',accuracy_score(df3_ytest, y_pred_DTall) )\n",
        "print(\"Precision Score: \",precision_score(df3_ytest, y_pred_DTall, average='macro'))\n",
        "print(\"F1 Score: \",f1_score(df3_ytest, y_pred_DTall, average='macro'))\n",
        "print(\"Recall: \",recall_score(df3_ytest, y_pred_DTall, average='macro'))"
      ],
      "execution_count": null,
      "outputs": [
        {
          "output_type": "stream",
          "text": [
            "\t\tDecision Tree Analysis of UNSW-NB15\n",
            "\n",
            "\t\tAll Features \n",
            "Confusion Matrix :\n",
            "[[  502   115     0    53     0     1     5     0     1     0]\n",
            " [  495    61     1     8     4     1     9     0     4     0]\n",
            " [ 1717  1117   538   506    56    31    63    25    36     0]\n",
            " [ 2087  1040   557  6538   165    96   333   221    86     9]\n",
            " [ 1057   184    79   354  2703    28  1507     4   146     0]\n",
            " [   26    19    66   245    32 18438    21     3    16     5]\n",
            " [  701     9  1067  1435  7459   249 25907    43   129     1]\n",
            " [  166   161    40   298    14     6    29  2737    44     1]\n",
            " [    0     6    13    50    35     3    15     4   252     0]\n",
            " [    0     0     4    13     1     1     0     2     0    23]]\n",
            "Accuracy Score : 0.7008089199825098\n",
            "Precision Score:  0.5020915741277562\n",
            "F1 Score:  0.4929098967670565\n",
            "Recall:  0.5660451272876671\n"
          ],
          "name": "stdout"
        }
      ]
    },
    {
      "cell_type": "code",
      "metadata": {
        "id": "0gTs5TBjslQj"
      },
      "source": [
        "#Gaussian Naive Bayes Classifier\n",
        "from sklearn.naive_bayes import MultinomialNB"
      ],
      "execution_count": null,
      "outputs": []
    },
    {
      "cell_type": "code",
      "metadata": {
        "colab": {
          "base_uri": "https://localhost:8080/"
        },
        "id": "AYLJ7YcaopnF",
        "outputId": "567c8268-6df7-45fe-9960-df69c40a3081"
      },
      "source": [
        "print(df1_ytrain.unique())"
      ],
      "execution_count": null,
      "outputs": [
        {
          "output_type": "stream",
          "text": [
            "[6 1 0 4 8 7 3 2 9 5]\n"
          ],
          "name": "stdout"
        }
      ]
    },
    {
      "cell_type": "code",
      "metadata": {
        "colab": {
          "base_uri": "https://localhost:8080/"
        },
        "id": "_e-LXX4Ls2Sk",
        "outputId": "a220c77d-e2fe-454a-be08-8b23324c99a8"
      },
      "source": [
        "bayes_10 = MultinomialNB()\n",
        "#bayes_10.partial_fit(df1_xtrain,df1_ytrain,df1_ytrain.unique())\n",
        "bayes_10.fit(df1_xtrain,df1_ytrain)\n",
        "\n",
        "print (\"\\t\\tGaussain Naive Bayes Analysis of UNSW-NB15\\n\\n\\t\\tTop 10 Features \")\n",
        "y_pred_gnb10 = bayes_10.predict(df1_xtest)\n",
        "\n",
        "#print (\"\\t\\tMajor Verifcation KDD99 10% GNB\")\n",
        "results = confusion_matrix(df1_ytest, y_pred_gnb10) \n",
        "print ('Confusion Matrix :')\n",
        "print(results) \n",
        "\n",
        "print ('Accuracy Score :',accuracy_score(df1_ytest, y_pred_gnb10) )\n",
        "print(\"Precision Score: \",precision_score(df1_ytest, y_pred_gnb10, average='macro'))\n",
        "print(\"F1 Score: \",f1_score(df1_ytest, y_pred_gnb10, average='macro'))\n",
        "print(\"Recall: \",recall_score(df1_ytest, y_pred_gnb10, average='macro'))\n"
      ],
      "execution_count": null,
      "outputs": [
        {
          "output_type": "stream",
          "text": [
            "\t\tGaussain Naive Bayes Analysis of UNSW-NB15\n",
            "\n",
            "\t\tTop 10 Features \n",
            "Confusion Matrix :\n",
            "[[  601     0     0    14     0     1    61     0     0     0]\n",
            " [  483     0     0    38     1     2    59     0     0     0]\n",
            " [ 2473     0     0   510    72    78   934    10    12     0]\n",
            " [ 2697     0     0  1738   125    56  6494     2    20     0]\n",
            " [ 1222     0     0   752   550   374  3111     7    46     0]\n",
            " [   28     0     0   109    95 18159   475     1     4     0]\n",
            " [  193     0     1  4062  1501  2792 28284    18   149     0]\n",
            " [ 1541     0     0    68     8    15  1858     6     0     0]\n",
            " [   75     0     0     1    36     9   192     6    59     0]\n",
            " [    0     0     0     2     4     2    36     0     0     0]]\n",
            "Accuracy Score : 0.5999732789194967\n",
            "Precision Score:  0.23827456767032631\n",
            "F1 Score:  0.2239561902839405\n",
            "Recall:  0.30190991296773395\n"
          ],
          "name": "stdout"
        },
        {
          "output_type": "stream",
          "text": [
            "/usr/local/lib/python3.7/dist-packages/sklearn/metrics/_classification.py:1272: UndefinedMetricWarning:\n",
            "\n",
            "Precision is ill-defined and being set to 0.0 in labels with no predicted samples. Use `zero_division` parameter to control this behavior.\n",
            "\n"
          ],
          "name": "stderr"
        }
      ]
    },
    {
      "cell_type": "code",
      "metadata": {
        "colab": {
          "base_uri": "https://localhost:8080/"
        },
        "id": "nZUmRijOs2VE",
        "outputId": "38d72eae-d857-488a-b753-a2b77f07696e"
      },
      "source": [
        "bayes_20 = MultinomialNB()\n",
        "bayes_20.fit(df2_xtrain,df2_ytrain)\n",
        "\n",
        "print (\"\\t\\tGaussian Naive Bayes Analysis of UNSW-NB15\\n\\n\\t\\tTop 20 Features \")\n",
        "\n",
        "y_pred_gnb20 = bayes_20.predict(df2_xtest)\n",
        "\n",
        "#print (\"\\t\\tMajor Verifcation KDD99 10% GNB\")\n",
        "results = confusion_matrix(df2_ytest, y_pred_gnb20) \n",
        "print ('Confusion Matrix :')\n",
        "print(results)\n",
        "\n",
        "print ('Accuracy Score :',accuracy_score(df2_ytest, y_pred_gnb20) )\n",
        "print(\"Precision Score: \",precision_score(df2_ytest, y_pred_gnb20, average='macro'))\n",
        "print(\"F1 Score: \",f1_score(df2_ytest, y_pred_gnb20, average='macro'))\n",
        "print(\"Recall: \",recall_score(df2_ytest, y_pred_gnb20, average='macro'))"
      ],
      "execution_count": null,
      "outputs": [
        {
          "output_type": "stream",
          "text": [
            "\t\tGaussian Naive Bayes Analysis of UNSW-NB15\n",
            "\n",
            "\t\tTop 20 Features \n",
            "Confusion Matrix :\n",
            "[[    3     0     2    40     0   614     0     0     0    18]\n",
            " [    3     0    10    36     0   515     4     0     0    15]\n",
            " [   31     0    87   677     0  2903    17     0     0   374]\n",
            " [   36     0   128  5200     0  3163    76     0     0  2529]\n",
            " [   45     0    54  2445     0  2250     0     0     0  1268]\n",
            " [    4     0     4   345     0 18343     4     0     0   171]\n",
            " [  585     0    73 14651     0  5965  7847     1     1  7877]\n",
            " [    8     0    22  1262     0  1601     0     0     0   603]\n",
            " [    0     0     0   130     0   185     0     0     0    63]\n",
            " [    0     0     0    24     0     6     0     0     0    14]]\n",
            "Accuracy Score : 0.3825244133508235\n",
            "Precision Score:  0.1947161142507347\n",
            "F1 Score:  0.135809387243145\n",
            "Recall:  0.19951131812748615\n"
          ],
          "name": "stdout"
        },
        {
          "output_type": "stream",
          "text": [
            "/usr/local/lib/python3.7/dist-packages/sklearn/metrics/_classification.py:1272: UndefinedMetricWarning:\n",
            "\n",
            "Precision is ill-defined and being set to 0.0 in labels with no predicted samples. Use `zero_division` parameter to control this behavior.\n",
            "\n"
          ],
          "name": "stderr"
        }
      ]
    },
    {
      "cell_type": "code",
      "metadata": {
        "colab": {
          "base_uri": "https://localhost:8080/"
        },
        "id": "VcEkvsRBs2YC",
        "outputId": "c58a4de9-9e21-4e17-885a-dd20fd9a5244"
      },
      "source": [
        "bayes_all = MultinomialNB()\n",
        "bayes_all.fit(df3_xtrain,df3_ytrain)\n",
        "\n",
        "print (\"\\t\\tGaussian Naive Bayes Analysis of UNSW-NB15\\n\\n\\t\\tAll Features \")\n",
        "y_pred_gnball = bayes_all.predict(df3_xtest)\n",
        "\n",
        "#print (\"\\t\\tMajor Verifcation KDD99 10% GNB\")\n",
        "results = confusion_matrix(df3_ytest, y_pred_gnball) \n",
        "print ('Confusion Matrix :')\n",
        "print(results)\n",
        "\n",
        "print ('Accuracy Score :',accuracy_score(df3_ytest, y_pred_gnball) )\n",
        "print(\"Precision Score: \",precision_score(df3_ytest, y_pred_gnball, average='macro'))\n",
        "print(\"F1 Score: \",f1_score(df3_ytest, y_pred_gnball, average='macro'))\n",
        "print(\"Recall: \",recall_score(df3_ytest, y_pred_gnball, average='macro'))"
      ],
      "execution_count": null,
      "outputs": [
        {
          "output_type": "stream",
          "text": [
            "\t\tGaussian Naive Bayes Analysis of UNSW-NB15\n",
            "\n",
            "\t\tAll Features \n",
            "Confusion Matrix :\n",
            "[[    3     0     2    40     0   614     0     0     0    18]\n",
            " [    3     0    10    36     0   515     4     0     0    15]\n",
            " [   31     0    87   677     0  2903    17     0     0   374]\n",
            " [   36     0   128  5200     0  3163    76     0     0  2529]\n",
            " [   45     0    54  2445     0  2250     0     0     0  1268]\n",
            " [    4     0     4   345     0 18343     4     0     0   171]\n",
            " [  615     0    14 14654     0  6027  7813     1     1  7875]\n",
            " [    8     0    22  1262     0  1601     0     0     0   603]\n",
            " [    0     0     0   130     0   185     0     0     0    63]\n",
            " [    0     0     0    24     0     6     0     0     0    14]]\n",
            "Accuracy Score : 0.38211145119759027\n",
            "Precision Score:  0.1988094523267321\n",
            "F1 Score:  0.13564830638485165\n",
            "Recall:  0.19941942623559425\n"
          ],
          "name": "stdout"
        },
        {
          "output_type": "stream",
          "text": [
            "/usr/local/lib/python3.7/dist-packages/sklearn/metrics/_classification.py:1272: UndefinedMetricWarning:\n",
            "\n",
            "Precision is ill-defined and being set to 0.0 in labels with no predicted samples. Use `zero_division` parameter to control this behavior.\n",
            "\n"
          ],
          "name": "stderr"
        }
      ]
    },
    {
      "cell_type": "code",
      "metadata": {
        "id": "D1DehUCas2bP"
      },
      "source": [
        "#Random Forest Classifier \n"
      ],
      "execution_count": null,
      "outputs": []
    },
    {
      "cell_type": "code",
      "metadata": {
        "colab": {
          "base_uri": "https://localhost:8080/"
        },
        "id": "5eCGklXTuKYb",
        "outputId": "c2a79a42-214b-48dd-8a34-d74a3c6cb8f9"
      },
      "source": [
        "print (\"\\t\\tRandom Forest Analysis of UNSW-NB15\\n\\n\\t\\tTop 10 Features \")\n",
        "\n",
        "#Create a Gaussian Classifier\n",
        "clfRF_10=RandomForestClassifier()\n",
        "\n",
        "#Train the model using the training sets y_pred=clf.predict(X_test)\n",
        "clfRF_10.fit(df1_xtrain,df1_ytrain)\n",
        "\n",
        "y_pred_RF10=clfRF_10.predict(df1_xtest)\n",
        "#print(\"Accuracy Random Forest:\",metrics.accuracy_score(y_test, y_pred_RF))\n",
        "\n",
        "results_10 = confusion_matrix(df1_ytest, y_pred_RF10) \n",
        "print ('Confusion Matrix :')\n",
        "print(results_10) \n",
        "print ('Accuracy Score :',accuracy_score(df1_ytest, y_pred_RF10) )\n",
        "print(\"Precision Score: \",precision_score(df1_ytest, y_pred_RF10, average='macro'))\n",
        "print(\"F1 Score: \",f1_score(df1_ytest, y_pred_RF10, average='macro'))\n",
        "print(\"Recall: \",recall_score(df1_ytest, y_pred_RF10, average='macro'))"
      ],
      "execution_count": null,
      "outputs": [
        {
          "output_type": "stream",
          "text": [
            "\t\tRandom Forest Analysis of UNSW-NB15\n",
            "\n",
            "\t\tTop 10 Features \n",
            "Confusion Matrix :\n",
            "[[   21   129    14    76   404     1    19    10     3     0]\n",
            " [   14    78     9    25   421     2    17     8     9     0]\n",
            " [  528  1244   508   859   784    19    31    71    44     1]\n",
            " [  495  1152   197  7591  1245    25   134   212    76     5]\n",
            " [   78   223    26   467  4006     7   987    22   245     1]\n",
            " [    7    11    43   401    60 18317     8     2    20     2]\n",
            " [  315     1    60   736  7402     5 28358     6   116     1]\n",
            " [   66   156    26   324    88     1    15  2787    33     0]\n",
            " [    0     1    11    51    34     0    10     2   268     1]\n",
            " [    0     0     0    20     1     1     1     0     0    21]]\n",
            "Accuracy Score : 0.7525020648107662\n",
            "Precision Score:  0.543903613379478\n",
            "F1 Score:  0.5037619188990108\n",
            "Recall:  0.5352331164849445\n"
          ],
          "name": "stdout"
        }
      ]
    },
    {
      "cell_type": "code",
      "metadata": {
        "colab": {
          "base_uri": "https://localhost:8080/"
        },
        "id": "jYQ8JD5ruKl8",
        "outputId": "a1d1f3bd-0855-450d-8d54-bb24f22b5033"
      },
      "source": [
        "print (\"\\t\\tRandom Forest Analysis of UNSW-NB15\\n\\n\\t\\tTop 20 Features \")\n",
        "\n",
        "#Create a Gaussian Classifier\n",
        "clfRF_20=RandomForestClassifier()\n",
        "\n",
        "#Train the model using the training sets y_pred=clf.predict(X_test)\n",
        "clfRF_20.fit(df2_xtrain,df2_ytrain)\n",
        "\n",
        "y_pred_RF20=clfRF_20.predict(df2_xtest)\n",
        "#print(\"Accuracy Random Forest:\",metrics.accuracy_score(y_test, y_pred_RF))\n",
        "\n",
        "results_20 = confusion_matrix(df2_ytest, y_pred_RF20) \n",
        "print ('Confusion Matrix :')\n",
        "print(results_20) \n",
        "print ('Accuracy Score :',accuracy_score(df2_ytest, y_pred_RF20) )\n",
        "print(\"Precision Score: \",precision_score(df2_ytest, y_pred_RF20, average='macro'))\n",
        "print(\"F1 Score: \",f1_score(df2_ytest, y_pred_RF20, average='macro'))\n",
        "print(\"Recall: \",recall_score(df2_ytest, y_pred_RF20, average='macro'))"
      ],
      "execution_count": null,
      "outputs": [
        {
          "output_type": "stream",
          "text": [
            "\t\tRandom Forest Analysis of UNSW-NB15\n",
            "\n",
            "\t\tTop 20 Features \n",
            "Confusion Matrix :\n",
            "[[  113   189    15    45   222     0    16    74     3     0]\n",
            " [  102   120    16    19   245     0     2    73     6     0]\n",
            " [  510  1496   501   765   563     7    17   186    44     0]\n",
            " [  586  1441   149  7565   842    14    89   373    70     3]\n",
            " [  250   334    35   371  3845     1   869   148   209     0]\n",
            " [    2    11    45   371    62 18346     5     6    20     3]\n",
            " [  411     1    33   766  7631     6 28026     6   119     1]\n",
            " [   53   185    21   315    70     0     9  2818    25     0]\n",
            " [    0     1    12    53    38     0     8     2   263     1]\n",
            " [    0     0     0    27     2     1     2     0     0    12]]\n",
            "Accuracy Score : 0.7482995676043337\n",
            "Precision Score:  0.5386815521343815\n",
            "F1 Score:  0.48974037646502283\n",
            "Recall:  0.5313317654818648\n"
          ],
          "name": "stdout"
        }
      ]
    },
    {
      "cell_type": "code",
      "metadata": {
        "colab": {
          "base_uri": "https://localhost:8080/"
        },
        "id": "EpJHXBBTuKvd",
        "outputId": "f1240aee-32b6-4566-b03a-581bc31a41d6"
      },
      "source": [
        "print (\"\\t\\tRandom Forest Analysis of UNSW-NB15\\n\\n\\t\\tTop 30 Features \")\n",
        "\n",
        "#Create a Random Forest Classifier\n",
        "clfRF_all=RandomForestClassifier()\n",
        "\n",
        "#Train the model using the training sets y_pred=clf.predict(X_test)\n",
        "clfRF_all.fit(df3_xtrain,df3_ytrain)\n",
        "\n",
        "y_pred_RFall=clfRF_all.predict(df3_xtest)\n",
        "#print(\"Accuracy Random Forest:\",metrics.accuracy_score(y_test, y_pred_RF))\n",
        "\n",
        "results_all = confusion_matrix(df3_ytest, y_pred_RFall) \n",
        "print ('Confusion Matrix :')\n",
        "print(results_all) \n",
        "print ('Accuracy Score :',accuracy_score(df3_ytest, y_pred_RFall) )\n",
        "print(\"Precision Score: \",precision_score(df3_ytest, y_pred_RFall, average='macro'))\n",
        "print(\"F1 Score: \",f1_score(df3_ytest, y_pred_RFall, average='macro'))\n",
        "print(\"Recall: \",recall_score(df3_ytest, y_pred_RFall, average='macro'))"
      ],
      "execution_count": null,
      "outputs": [
        {
          "output_type": "stream",
          "text": [
            "\t\tRandom Forest Analysis of UNSW-NB15\n",
            "\n",
            "\t\tTop 30 Features \n",
            "Confusion Matrix :\n",
            "[[   56   254     6    61   242     0     3    52     3     0]\n",
            " [   56   169     7    23   265     0     0    56     7     0]\n",
            " [  320  1714   438   806   555     9     9   192    46     0]\n",
            " [  366  1696    96  7628   845    19    87   320    73     2]\n",
            " [  139   444    25   349  3917     2   856   113   217     0]\n",
            " [    0    10    42   396    61 18328     5     7    20     2]\n",
            " [  490     0    30   721  7639     7 27976     7   129     1]\n",
            " [   34   209    17   319    66     1     8  2813    29     0]\n",
            " [    0     0    11    55    37     0    11     2   262     0]\n",
            " [    0     0     0    33     3     1     0     0     0     7]]\n",
            "Accuracy Score : 0.7481173784190837\n",
            "Precision Score:  0.5419639266247861\n",
            "F1 Score:  0.4739566821908319\n",
            "Recall:  0.5195282874921998\n"
          ],
          "name": "stdout"
        }
      ]
    },
    {
      "cell_type": "code",
      "metadata": {
        "id": "v6N3Y69QuLDL"
      },
      "source": [
        "#Logistic Regression Classifier \n"
      ],
      "execution_count": null,
      "outputs": []
    },
    {
      "cell_type": "code",
      "metadata": {
        "colab": {
          "base_uri": "https://localhost:8080/"
        },
        "id": "GJHJebbCuSZr",
        "outputId": "e4c7f4fa-feeb-4934-c001-ee0dfc35ef13"
      },
      "source": [
        "print (\"\\t\\tLogistic Regression Analysis of UNSW-NB15\\n\\n\\t\\tTop 10 Features \")\n",
        "\n",
        "logisticRegr_10 = LogisticRegression(C=1e5, solver='newton-cg',max_iter=1000, multi_class='multinomial')\n",
        "\n",
        "logisticRegr_10.fit(df1_xtrain,df1_ytrain)\n",
        "\n",
        "y_pred_LR10 = logisticRegr_10.predict(df1_xtest)\n",
        "\n",
        "results_LR10 = confusion_matrix(df1_ytest, y_pred_LR10) \n",
        "print ('Confusion Matrix :')\n",
        "print(results_LR10) \n",
        "print ('Accuracy Score :',accuracy_score(df1_ytest, y_pred_LR10) )\n",
        "print(\"Precision Score: \",precision_score(df1_ytest, y_pred_LR10, average='macro'))\n",
        "print(\"F1 Score: \",f1_score(df1_ytest, y_pred_LR10, average='macro'))\n",
        "print(\"Recall: \",recall_score(df1_ytest, y_pred_LR10, average='macro'))"
      ],
      "execution_count": null,
      "outputs": [
        {
          "output_type": "stream",
          "text": [
            "\t\tLogistic Regression Analysis of UNSW-NB15\n",
            "\n",
            "\t\tTop 10 Features \n"
          ],
          "name": "stdout"
        },
        {
          "output_type": "stream",
          "text": [
            "/usr/local/lib/python3.7/dist-packages/scipy/optimize/linesearch.py:466: LineSearchWarning:\n",
            "\n",
            "The line search algorithm did not converge\n",
            "\n",
            "/usr/local/lib/python3.7/dist-packages/scipy/optimize/linesearch.py:314: LineSearchWarning:\n",
            "\n",
            "The line search algorithm did not converge\n",
            "\n",
            "/usr/local/lib/python3.7/dist-packages/sklearn/utils/optimize.py:212: ConvergenceWarning:\n",
            "\n",
            "newton-cg failed to converge. Increase the number of iterations.\n",
            "\n",
            "/usr/local/lib/python3.7/dist-packages/sklearn/metrics/_classification.py:1272: UndefinedMetricWarning:\n",
            "\n",
            "Precision is ill-defined and being set to 0.0 in labels with no predicted samples. Use `zero_division` parameter to control this behavior.\n",
            "\n"
          ],
          "name": "stderr"
        },
        {
          "output_type": "stream",
          "text": [
            "Confusion Matrix :\n",
            "[[    0     0     0    67   603     1     4     2     0     0]\n",
            " [    0     0     0    30   534     2    10     7     0     0]\n",
            " [    0     0     0   701  3023    53   229    83     0     0]\n",
            " [    0     0     4  5355  4777    36   873    87     0     0]\n",
            " [    0     0     0   190  4906   347   574    45     0     0]\n",
            " [    0     0     0   244   520 17912   186     9     0     0]\n",
            " [    0     0     0  4280 10600  2693 19298   129     0     0]\n",
            " [    0     0     0   118  3345    19     6     8     0     0]\n",
            " [    0     0     0    17   343     6     0    12     0     0]\n",
            " [    0     0     0     0    33     2     9     0     0     0]]\n",
            "Accuracy Score : 0.576677355098868\n",
            "Precision Score:  0.24395420989882374\n",
            "F1 Score:  0.2330576404871651\n",
            "Recall:  0.2763386674857679\n"
          ],
          "name": "stdout"
        }
      ]
    },
    {
      "cell_type": "code",
      "metadata": {
        "id": "_xO1WIT4uScz",
        "colab": {
          "base_uri": "https://localhost:8080/"
        },
        "outputId": "01574cc7-43ea-4409-e589-32713fa88cac"
      },
      "source": [
        "print (\"\\t\\tLogistic Regression Analysis of UNSW NB15\\n\\n\\t\\tTop 20 Features \")\n",
        "\n",
        "logisticRegr_20 = LogisticRegression(C=1e5, solver='newton-cg',max_iter=1000, multi_class='multinomial')\n",
        "\n",
        "logisticRegr_20.fit(df2_xtrain,df2_ytrain)\n",
        "\n",
        "y_pred_LR20 = logisticRegr_20.predict(df2_xtest)\n",
        "\n",
        "results_LR20 = confusion_matrix(df2_ytest, y_pred_LR20) \n",
        "print ('Confusion Matrix :')\n",
        "print(results_LR20) \n",
        "print ('Accuracy Score :',accuracy_score(df2_ytest, y_pred_LR20) )\n",
        "print(\"Precision Score: \",precision_score(df2_ytest, y_pred_LR20, average='macro'))\n",
        "print(\"F1 Score: \",f1_score(df2_ytest, y_pred_LR20, average='macro'))\n",
        "print(\"Recall: \",recall_score(df2_ytest, y_pred_LR20, average='macro'))\n"
      ],
      "execution_count": null,
      "outputs": [
        {
          "output_type": "stream",
          "text": [
            "\t\tLogistic Regression Analysis of UNSW NB15\n",
            "\n",
            "\t\tTop 20 Features \n"
          ],
          "name": "stdout"
        },
        {
          "output_type": "stream",
          "text": [
            "/usr/local/lib/python3.7/dist-packages/scipy/optimize/linesearch.py:466: LineSearchWarning:\n",
            "\n",
            "The line search algorithm did not converge\n",
            "\n",
            "/usr/local/lib/python3.7/dist-packages/scipy/optimize/linesearch.py:314: LineSearchWarning:\n",
            "\n",
            "The line search algorithm did not converge\n",
            "\n",
            "/usr/local/lib/python3.7/dist-packages/sklearn/utils/optimize.py:212: ConvergenceWarning:\n",
            "\n",
            "newton-cg failed to converge. Increase the number of iterations.\n",
            "\n",
            "/usr/local/lib/python3.7/dist-packages/sklearn/metrics/_classification.py:1272: UndefinedMetricWarning:\n",
            "\n",
            "Precision is ill-defined and being set to 0.0 in labels with no predicted samples. Use `zero_division` parameter to control this behavior.\n",
            "\n"
          ],
          "name": "stderr"
        },
        {
          "output_type": "stream",
          "text": [
            "Confusion Matrix :\n",
            "[[    0     0     0    24   618     2    33     0     0     0]\n",
            " [    0     0     0    21   527     5    30     0     0     0]\n",
            " [    0     0    12   465  2920   123   568     1     0     0]\n",
            " [    0     0     3  2640  4041   122  4323     3     0     0]\n",
            " [    0     0     0  1354  3715   379   614     0     0     0]\n",
            " [    0     0     1   177   224 18168   301     0     0     0]\n",
            " [    0     0     0  4308 10244  2806 19639     3     0     0]\n",
            " [    0     0     0   425  2851    45   175     0     0     0]\n",
            " [    0     0     0    72   234    33    39     0     0     0]\n",
            " [    0     0     0    12    19     2    11     0     0     0]]\n",
            "Accuracy Score : 0.5365350046154593\n",
            "Precision Score:  0.27752510329555236\n",
            "F1 Score:  0.20200551358150495\n",
            "Recall:  0.23464537572388955\n"
          ],
          "name": "stdout"
        }
      ]
    },
    {
      "cell_type": "code",
      "metadata": {
        "id": "lp-GI4YS4kUT"
      },
      "source": [
        "print (\"\\t\\tLogistic Regression Analysis of UNSW-NB15\\n\\n\\t\\tTop 30 Features \")\n",
        "\n",
        "logisticRegr_all = LogisticRegression(C=1e5, solver='Newton-cg', multi_class='multinomial')\n",
        "\n",
        "logisticRegr_all.fit(df3_xtrain,df3_ytrain)\n",
        "\n",
        "y_pred_LRall = logisticRegr_all.predict(df3_xtest)\n",
        "\n",
        "results_LRall = confusion_matrix(df3_ytest, y_pred_LRall) \n",
        "print ('Confusion Matrix :')\n",
        "print(results_LRall) \n",
        "print ('Accuracy Score :',accuracy_score(df3_ytest, y_pred_LRall) )\n",
        "print(\"Precision Score: \",precision_score(df3_ytest, y_pred_LRall, average='macro'))\n",
        "print(\"F1 Score: \",f1_score(df3_ytest, y_pred_LRall, average='macro'))\n",
        "print(\"Recall: \",recall_score(df3_ytest, y_pred_LRall, average='macro'))\n",
        "\n"
      ],
      "execution_count": null,
      "outputs": []
    },
    {
      "cell_type": "code",
      "metadata": {
        "id": "Bb4K050wkqgQ"
      },
      "source": [
        ""
      ],
      "execution_count": 48,
      "outputs": []
    },
    {
      "cell_type": "code",
      "metadata": {
        "colab": {
          "base_uri": "https://localhost:8080/"
        },
        "id": "nTDUTMLgtmpg",
        "outputId": "e106e08e-53f9-49f1-a780-9763c831dbf1"
      },
      "source": [
        "X = df1_xtrain\n",
        "Y = df1_ytrain\n",
        "C = df3_ytest\n",
        "T = df1_xtest\n",
        "scaler = Normalizer().fit(X)\n",
        "trainX = scaler.transform(X)\n",
        "\n",
        "scaler = Normalizer().fit(T)\n",
        "testT = scaler.transform(T)\n",
        "\n",
        "y_train1 = np.array(Y)\n",
        "y_test1 = np.array(C)\n",
        "\n",
        "y_train= to_categorical(y_train1)\n",
        "y_test= to_categorical(y_test1)\n",
        "\n",
        "\n",
        "# reshape input to be [samples, time steps, features]\n",
        "X_train = np.reshape(trainX, (trainX.shape[0],trainX.shape[1],1))\n",
        "X_test = np.reshape(testT, (testT.shape[0],testT.shape[1],1))\n",
        "\n",
        "\n",
        "from keras.models import Sequential\n",
        "from keras import layers\n",
        "\n",
        "input_dim = df1_xtrain.shape[1]  # Number of features\n",
        "\n",
        "model = Sequential()\n",
        "model.add(layers.Dense(10, input_shape=(15, 1), activation='relu'))\n",
        "model.add(layers.Flatten())\n",
        "model.add(layers.Dense(32, activation='relu'))\n",
        "model.add(layers.Dense(10, activation='softmax'))\n",
        "\n",
        "model.compile(loss='categorical_crossentropy', \n",
        "              optimizer='adam', \n",
        "              metrics=['accuracy'])\n",
        "model.summary()"
      ],
      "execution_count": 53,
      "outputs": [
        {
          "output_type": "stream",
          "text": [
            "Model: \"sequential_19\"\n",
            "_________________________________________________________________\n",
            "Layer (type)                 Output Shape              Param #   \n",
            "=================================================================\n",
            "dense_49 (Dense)             (None, 15, 10)            20        \n",
            "_________________________________________________________________\n",
            "flatten_5 (Flatten)          (None, 150)               0         \n",
            "_________________________________________________________________\n",
            "dense_50 (Dense)             (None, 32)                4832      \n",
            "_________________________________________________________________\n",
            "dense_51 (Dense)             (None, 10)                330       \n",
            "=================================================================\n",
            "Total params: 5,182\n",
            "Trainable params: 5,182\n",
            "Non-trainable params: 0\n",
            "_________________________________________________________________\n"
          ],
          "name": "stdout"
        }
      ]
    },
    {
      "cell_type": "code",
      "metadata": {
        "id": "mAvwB1CKtx2X",
        "colab": {
          "base_uri": "https://localhost:8080/"
        },
        "outputId": "8fe2ed2d-5bdc-4cd4-edca-aef0e191e04f"
      },
      "source": [
        "history = model.fit(X_train, y_train,\n",
        "                    epochs=100 #,\n",
        "                    #verbose=False\n",
        "                    )"
      ],
      "execution_count": 54,
      "outputs": [
        {
          "output_type": "stream",
          "text": [
            "Epoch 1/100\n",
            "3367/3367 [==============================] - 5s 1ms/step - loss: 1.4368 - accuracy: 0.4885\n",
            "Epoch 2/100\n",
            "3367/3367 [==============================] - 4s 1ms/step - loss: 1.2129 - accuracy: 0.5175\n",
            "Epoch 3/100\n",
            "3367/3367 [==============================] - 4s 1ms/step - loss: 1.1274 - accuracy: 0.5543\n",
            "Epoch 4/100\n",
            "3367/3367 [==============================] - 4s 1ms/step - loss: 1.0683 - accuracy: 0.5859\n",
            "Epoch 5/100\n",
            "3367/3367 [==============================] - 4s 1ms/step - loss: 1.0266 - accuracy: 0.6133\n",
            "Epoch 6/100\n",
            "3367/3367 [==============================] - 4s 1ms/step - loss: 0.9900 - accuracy: 0.6360\n",
            "Epoch 7/100\n",
            "3367/3367 [==============================] - 4s 1ms/step - loss: 0.9693 - accuracy: 0.6464\n",
            "Epoch 8/100\n",
            "3367/3367 [==============================] - 4s 1ms/step - loss: 0.9479 - accuracy: 0.6547\n",
            "Epoch 9/100\n",
            "3367/3367 [==============================] - 5s 1ms/step - loss: 0.9444 - accuracy: 0.6531\n",
            "Epoch 10/100\n",
            "3367/3367 [==============================] - 5s 1ms/step - loss: 0.9348 - accuracy: 0.6574\n",
            "Epoch 11/100\n",
            "3367/3367 [==============================] - 5s 1ms/step - loss: 0.9315 - accuracy: 0.6590\n",
            "Epoch 12/100\n",
            "3367/3367 [==============================] - 5s 1ms/step - loss: 0.9153 - accuracy: 0.6664\n",
            "Epoch 13/100\n",
            "3367/3367 [==============================] - 5s 1ms/step - loss: 0.9113 - accuracy: 0.6712\n",
            "Epoch 14/100\n",
            "3367/3367 [==============================] - 4s 1ms/step - loss: 0.9024 - accuracy: 0.6758\n",
            "Epoch 15/100\n",
            "3367/3367 [==============================] - 5s 1ms/step - loss: 0.8881 - accuracy: 0.6794\n",
            "Epoch 16/100\n",
            "3367/3367 [==============================] - 4s 1ms/step - loss: 0.8831 - accuracy: 0.6856\n",
            "Epoch 17/100\n",
            "3367/3367 [==============================] - 4s 1ms/step - loss: 0.8796 - accuracy: 0.6879\n",
            "Epoch 18/100\n",
            "3367/3367 [==============================] - 5s 1ms/step - loss: 0.8648 - accuracy: 0.6955\n",
            "Epoch 19/100\n",
            "3367/3367 [==============================] - 4s 1ms/step - loss: 0.8612 - accuracy: 0.6957\n",
            "Epoch 20/100\n",
            "3367/3367 [==============================] - 5s 1ms/step - loss: 0.8514 - accuracy: 0.6999\n",
            "Epoch 21/100\n",
            "3367/3367 [==============================] - 4s 1ms/step - loss: 0.8432 - accuracy: 0.7027\n",
            "Epoch 22/100\n",
            "3367/3367 [==============================] - 5s 1ms/step - loss: 0.8392 - accuracy: 0.7048\n",
            "Epoch 23/100\n",
            "3367/3367 [==============================] - 4s 1ms/step - loss: 0.8330 - accuracy: 0.7070\n",
            "Epoch 24/100\n",
            "3367/3367 [==============================] - 5s 1ms/step - loss: 0.8290 - accuracy: 0.7084\n",
            "Epoch 25/100\n",
            "3367/3367 [==============================] - 4s 1ms/step - loss: 0.8193 - accuracy: 0.7117\n",
            "Epoch 26/100\n",
            "3367/3367 [==============================] - 5s 1ms/step - loss: 0.8121 - accuracy: 0.7112\n",
            "Epoch 27/100\n",
            "3367/3367 [==============================] - 4s 1ms/step - loss: 0.8153 - accuracy: 0.7119\n",
            "Epoch 28/100\n",
            "3367/3367 [==============================] - 4s 1ms/step - loss: 0.8104 - accuracy: 0.7129\n",
            "Epoch 29/100\n",
            "3367/3367 [==============================] - 4s 1ms/step - loss: 0.8020 - accuracy: 0.7162\n",
            "Epoch 30/100\n",
            "3367/3367 [==============================] - 5s 1ms/step - loss: 0.8022 - accuracy: 0.7155\n",
            "Epoch 31/100\n",
            "3367/3367 [==============================] - 5s 1ms/step - loss: 0.7971 - accuracy: 0.7146\n",
            "Epoch 32/100\n",
            "3367/3367 [==============================] - 5s 1ms/step - loss: 0.7897 - accuracy: 0.7181\n",
            "Epoch 33/100\n",
            "3367/3367 [==============================] - 5s 1ms/step - loss: 0.7890 - accuracy: 0.7171\n",
            "Epoch 34/100\n",
            "3367/3367 [==============================] - 4s 1ms/step - loss: 0.7734 - accuracy: 0.7221\n",
            "Epoch 35/100\n",
            "3367/3367 [==============================] - 5s 1ms/step - loss: 0.7772 - accuracy: 0.7197\n",
            "Epoch 36/100\n",
            "3367/3367 [==============================] - 5s 1ms/step - loss: 0.7726 - accuracy: 0.7204\n",
            "Epoch 37/100\n",
            "3367/3367 [==============================] - 5s 1ms/step - loss: 0.7671 - accuracy: 0.7243\n",
            "Epoch 38/100\n",
            "3367/3367 [==============================] - 4s 1ms/step - loss: 0.7628 - accuracy: 0.7265\n",
            "Epoch 39/100\n",
            "3367/3367 [==============================] - 5s 1ms/step - loss: 0.7648 - accuracy: 0.7233\n",
            "Epoch 40/100\n",
            "3367/3367 [==============================] - 5s 1ms/step - loss: 0.7628 - accuracy: 0.7259\n",
            "Epoch 41/100\n",
            "3367/3367 [==============================] - 4s 1ms/step - loss: 0.7462 - accuracy: 0.7329\n",
            "Epoch 42/100\n",
            "3367/3367 [==============================] - 5s 1ms/step - loss: 0.7491 - accuracy: 0.7302\n",
            "Epoch 43/100\n",
            "3367/3367 [==============================] - 5s 1ms/step - loss: 0.7440 - accuracy: 0.7301\n",
            "Epoch 44/100\n",
            "3367/3367 [==============================] - 5s 1ms/step - loss: 0.7393 - accuracy: 0.7337\n",
            "Epoch 45/100\n",
            "3367/3367 [==============================] - 5s 1ms/step - loss: 0.7399 - accuracy: 0.7330\n",
            "Epoch 46/100\n",
            "3367/3367 [==============================] - 5s 1ms/step - loss: 0.7426 - accuracy: 0.7301\n",
            "Epoch 47/100\n",
            "3367/3367 [==============================] - 5s 1ms/step - loss: 0.7367 - accuracy: 0.7317\n",
            "Epoch 48/100\n",
            "3367/3367 [==============================] - 5s 1ms/step - loss: 0.7330 - accuracy: 0.7359\n",
            "Epoch 49/100\n",
            "3367/3367 [==============================] - 5s 1ms/step - loss: 0.7292 - accuracy: 0.7361\n",
            "Epoch 50/100\n",
            "3367/3367 [==============================] - 5s 1ms/step - loss: 0.7305 - accuracy: 0.7346\n",
            "Epoch 51/100\n",
            "3367/3367 [==============================] - 5s 1ms/step - loss: 0.7179 - accuracy: 0.7376\n",
            "Epoch 52/100\n",
            "3367/3367 [==============================] - 5s 1ms/step - loss: 0.7212 - accuracy: 0.7365\n",
            "Epoch 53/100\n",
            "3367/3367 [==============================] - 5s 1ms/step - loss: 0.7177 - accuracy: 0.7401\n",
            "Epoch 54/100\n",
            "3367/3367 [==============================] - 5s 1ms/step - loss: 0.7263 - accuracy: 0.7355\n",
            "Epoch 55/100\n",
            "3367/3367 [==============================] - 4s 1ms/step - loss: 0.7196 - accuracy: 0.7375\n",
            "Epoch 56/100\n",
            "3367/3367 [==============================] - 5s 1ms/step - loss: 0.7144 - accuracy: 0.7405\n",
            "Epoch 57/100\n",
            "3367/3367 [==============================] - 5s 1ms/step - loss: 0.7148 - accuracy: 0.7372\n",
            "Epoch 58/100\n",
            "3367/3367 [==============================] - 5s 1ms/step - loss: 0.7092 - accuracy: 0.7386\n",
            "Epoch 59/100\n",
            "3367/3367 [==============================] - 5s 1ms/step - loss: 0.7136 - accuracy: 0.7383\n",
            "Epoch 60/100\n",
            "3367/3367 [==============================] - 5s 1ms/step - loss: 0.7111 - accuracy: 0.7392\n",
            "Epoch 61/100\n",
            "3367/3367 [==============================] - 5s 1ms/step - loss: 0.7093 - accuracy: 0.7387\n",
            "Epoch 62/100\n",
            "3367/3367 [==============================] - 5s 1ms/step - loss: 0.7159 - accuracy: 0.7377\n",
            "Epoch 63/100\n",
            "3367/3367 [==============================] - 5s 1ms/step - loss: 0.7098 - accuracy: 0.7378\n",
            "Epoch 64/100\n",
            "3367/3367 [==============================] - 5s 1ms/step - loss: 0.7039 - accuracy: 0.7408\n",
            "Epoch 65/100\n",
            "3367/3367 [==============================] - 5s 1ms/step - loss: 0.7064 - accuracy: 0.7409\n",
            "Epoch 66/100\n",
            "3367/3367 [==============================] - 5s 1ms/step - loss: 0.7049 - accuracy: 0.7416\n",
            "Epoch 67/100\n",
            "3367/3367 [==============================] - 5s 1ms/step - loss: 0.7058 - accuracy: 0.7411\n",
            "Epoch 68/100\n",
            "3367/3367 [==============================] - 5s 1ms/step - loss: 0.7001 - accuracy: 0.7409\n",
            "Epoch 69/100\n",
            "3367/3367 [==============================] - 5s 1ms/step - loss: 0.7048 - accuracy: 0.7402\n",
            "Epoch 70/100\n",
            "3367/3367 [==============================] - 5s 1ms/step - loss: 0.6998 - accuracy: 0.7410\n",
            "Epoch 71/100\n",
            "3367/3367 [==============================] - 5s 1ms/step - loss: 0.6964 - accuracy: 0.7428\n",
            "Epoch 72/100\n",
            "3367/3367 [==============================] - 5s 1ms/step - loss: 0.6976 - accuracy: 0.7421\n",
            "Epoch 73/100\n",
            "3367/3367 [==============================] - 5s 1ms/step - loss: 0.6996 - accuracy: 0.7398\n",
            "Epoch 74/100\n",
            "3367/3367 [==============================] - 5s 1ms/step - loss: 0.6953 - accuracy: 0.7442\n",
            "Epoch 75/100\n",
            "3367/3367 [==============================] - 5s 1ms/step - loss: 0.7050 - accuracy: 0.7404\n",
            "Epoch 76/100\n",
            "3367/3367 [==============================] - 5s 1ms/step - loss: 0.6924 - accuracy: 0.7455\n",
            "Epoch 77/100\n",
            "3367/3367 [==============================] - 5s 1ms/step - loss: 0.6957 - accuracy: 0.7424\n",
            "Epoch 78/100\n",
            "3367/3367 [==============================] - 5s 1ms/step - loss: 0.6927 - accuracy: 0.7430\n",
            "Epoch 79/100\n",
            "3367/3367 [==============================] - 5s 1ms/step - loss: 0.6943 - accuracy: 0.7448\n",
            "Epoch 80/100\n",
            "3367/3367 [==============================] - 5s 1ms/step - loss: 0.6893 - accuracy: 0.7455\n",
            "Epoch 81/100\n",
            "3367/3367 [==============================] - 5s 1ms/step - loss: 0.6899 - accuracy: 0.7451\n",
            "Epoch 82/100\n",
            "3367/3367 [==============================] - 5s 1ms/step - loss: 0.6966 - accuracy: 0.7424\n",
            "Epoch 83/100\n",
            "3367/3367 [==============================] - 5s 1ms/step - loss: 0.6915 - accuracy: 0.7456\n",
            "Epoch 84/100\n",
            "3367/3367 [==============================] - 5s 1ms/step - loss: 0.6899 - accuracy: 0.7458\n",
            "Epoch 85/100\n",
            "3367/3367 [==============================] - 5s 1ms/step - loss: 0.6891 - accuracy: 0.7449\n",
            "Epoch 86/100\n",
            "3367/3367 [==============================] - 5s 1ms/step - loss: 0.6886 - accuracy: 0.7471\n",
            "Epoch 87/100\n",
            "3367/3367 [==============================] - 5s 1ms/step - loss: 0.6899 - accuracy: 0.7440\n",
            "Epoch 88/100\n",
            "3367/3367 [==============================] - 5s 1ms/step - loss: 0.6842 - accuracy: 0.7450\n",
            "Epoch 89/100\n",
            "3367/3367 [==============================] - 5s 1ms/step - loss: 0.6909 - accuracy: 0.7447\n",
            "Epoch 90/100\n",
            "3367/3367 [==============================] - 5s 1ms/step - loss: 0.6858 - accuracy: 0.7442\n",
            "Epoch 91/100\n",
            "3367/3367 [==============================] - 5s 1ms/step - loss: 0.6828 - accuracy: 0.7467\n",
            "Epoch 92/100\n",
            "3367/3367 [==============================] - 5s 1ms/step - loss: 0.6867 - accuracy: 0.7470\n",
            "Epoch 93/100\n",
            "3367/3367 [==============================] - 5s 1ms/step - loss: 0.6816 - accuracy: 0.7463\n",
            "Epoch 94/100\n",
            "3367/3367 [==============================] - 5s 1ms/step - loss: 0.6808 - accuracy: 0.7463\n",
            "Epoch 95/100\n",
            "3367/3367 [==============================] - 5s 1ms/step - loss: 0.6837 - accuracy: 0.7454\n",
            "Epoch 96/100\n",
            "3367/3367 [==============================] - 5s 1ms/step - loss: 0.6806 - accuracy: 0.7478\n",
            "Epoch 97/100\n",
            "3367/3367 [==============================] - 5s 1ms/step - loss: 0.6772 - accuracy: 0.7483\n",
            "Epoch 98/100\n",
            "3367/3367 [==============================] - 5s 1ms/step - loss: 0.6765 - accuracy: 0.7492\n",
            "Epoch 99/100\n",
            "3367/3367 [==============================] - 5s 1ms/step - loss: 0.6735 - accuracy: 0.7517\n",
            "Epoch 100/100\n",
            "3367/3367 [==============================] - 5s 1ms/step - loss: 0.6817 - accuracy: 0.7472\n"
          ],
          "name": "stdout"
        }
      ]
    },
    {
      "cell_type": "code",
      "metadata": {
        "colab": {
          "base_uri": "https://localhost:8080/"
        },
        "id": "R8Qt9oVSuEc-",
        "outputId": "b9c47afa-4a4a-4e21-ba5e-e2f21e8e46fc"
      },
      "source": [
        "loss, accuracy = model.evaluate(X_train, y_train, verbose=True)\n",
        "print(\"Training Accuracy: {:.4f}\".format(accuracy))\n",
        "\n",
        "#loss, accuracy = model.evaluate(y_test, X_test, verbose=True)\n",
        "#print(\"Testing Accuracy:  {:.4f}\".format(accuracy))"
      ],
      "execution_count": 56,
      "outputs": [
        {
          "output_type": "stream",
          "text": [
            "3367/3367 [==============================] - 4s 1ms/step - loss: 0.6887 - accuracy: 0.7500\n",
            "Training Accuracy: 0.7500\n"
          ],
          "name": "stdout"
        }
      ]
    },
    {
      "cell_type": "code",
      "metadata": {
        "id": "DjkKak0CuSwM"
      },
      "source": [
        "#CNN 1D\n",
        "from __future__ import print_function\n",
        "import numpy as np\n",
        "np.random.seed(1337)  # for reproducibility\n",
        "\n",
        "from keras.preprocessing import sequence\n",
        "from keras.models import Sequential\n",
        "from keras.layers import Dense, Dropout, Activation, Lambda\n",
        "from keras.layers import Embedding\n",
        "from keras.layers import Convolution1D,MaxPooling1D, Flatten\n",
        "from keras.datasets import imdb\n",
        "from keras import backend as K\n",
        "#from sklearn.cross_validation import train_test_split\n",
        "import pandas as pd\n",
        "from keras.utils.np_utils import to_categorical\n",
        "\n",
        "from sklearn.preprocessing import Normalizer\n",
        "from keras.models import Sequential\n",
        "from keras.layers import Convolution1D, Dense, Dropout, Flatten, MaxPooling1D\n",
        "from keras.utils import np_utils\n",
        "import numpy as np\n",
        "import h5py\n",
        "from keras import callbacks\n",
        "from keras.layers import LSTM, GRU, SimpleRNN\n",
        "from keras.callbacks import CSVLogger\n",
        "from keras.callbacks import ModelCheckpoint, EarlyStopping, ReduceLROnPlateau, CSVLogger"
      ],
      "execution_count": 21,
      "outputs": []
    },
    {
      "cell_type": "code",
      "metadata": {
        "id": "THg2erH1rxH1"
      },
      "source": [
        "X = df1_xtrain\n",
        "Y = df1_ytrain\n",
        "C = df3_ytest\n",
        "T = df1_xtest\n",
        "\n"
      ],
      "execution_count": 22,
      "outputs": []
    },
    {
      "cell_type": "code",
      "metadata": {
        "colab": {
          "base_uri": "https://localhost:8080/"
        },
        "id": "KylIZNhHsADu",
        "outputId": "736e294b-53c5-4354-fe1d-81718801191b"
      },
      "source": [
        "scaler = Normalizer().fit(X)\n",
        "trainX = scaler.transform(X)\n",
        "\n",
        "scaler = Normalizer().fit(T)\n",
        "testT = scaler.transform(T)\n",
        "\n",
        "y_train1 = np.array(Y)\n",
        "y_test1 = np.array(C)\n",
        "\n",
        "y_train= to_categorical(y_train1)\n",
        "y_test= to_categorical(y_test1)\n",
        "\n",
        "\n",
        "# reshape input to be [samples, time steps, features]\n",
        "X_train = np.reshape(trainX, (trainX.shape[0],trainX.shape[1],1))\n",
        "X_test = np.reshape(testT, (testT.shape[0],testT.shape[1],1))\n",
        "\n",
        "\n",
        "cnn = Sequential()\n",
        "cnn.add(Convolution1D(64, 1, activation=\"relu\",input_shape=(15, 1)))\n",
        "#cnn.add(MaxPooling1D(pool_length=(2)))\n",
        "cnn.add(Flatten())\n",
        "cnn.add(Dense(128, activation=\"relu\"))\n",
        "cnn.add(Dropout(0.5))\n",
        "cnn.add(Dense(10, activation=\"softmax\"))\n",
        "\n",
        "# define optimizer and objective, compile cnn\n",
        "\n",
        "cnn.compile(loss=\"categorical_crossentropy\", optimizer=\"adam\",metrics=['accuracy'])\n",
        "\n",
        "# train\n",
        "checkpointer = callbacks.ModelCheckpoint(filepath=\"results/checkpoint-{epoch:02d}.hdf5\", verbose=1, save_best_only=True, monitor='val_acc',mode='max')\n",
        "csv_logger = CSVLogger('results/cnn1results/cnntrainanalysis1.csv',separator=',', append=False)\n",
        "cnn.fit(X_train, y_train, batch_size=40 ,epochs=100)\n",
        "#cnn.save(\"results/cnn1results/cnn_model.hdf5\")\n",
        "#,validation_data=(X_test, y_test),callbacks=[checkpointer,csv_logger]\n"
      ],
      "execution_count": 23,
      "outputs": [
        {
          "output_type": "stream",
          "text": [
            "Epoch 1/100\n",
            "2694/2694 [==============================] - 10s 3ms/step - loss: 1.3554 - accuracy: 0.5005\n",
            "Epoch 2/100\n",
            "2694/2694 [==============================] - 10s 4ms/step - loss: 1.1883 - accuracy: 0.5390\n",
            "Epoch 3/100\n",
            "2694/2694 [==============================] - 10s 4ms/step - loss: 1.1328 - accuracy: 0.5607\n",
            "Epoch 4/100\n",
            "2694/2694 [==============================] - 9s 3ms/step - loss: 1.0925 - accuracy: 0.5789\n",
            "Epoch 5/100\n",
            "2694/2694 [==============================] - 9s 3ms/step - loss: 1.0749 - accuracy: 0.5902\n",
            "Epoch 6/100\n",
            "2694/2694 [==============================] - 9s 3ms/step - loss: 1.0533 - accuracy: 0.6002\n",
            "Epoch 7/100\n",
            "2694/2694 [==============================] - 9s 3ms/step - loss: 1.0547 - accuracy: 0.6000\n",
            "Epoch 8/100\n",
            "2694/2694 [==============================] - 9s 3ms/step - loss: 1.0331 - accuracy: 0.6119\n",
            "Epoch 9/100\n",
            "2694/2694 [==============================] - 9s 3ms/step - loss: 1.0298 - accuracy: 0.6146\n",
            "Epoch 10/100\n",
            "2694/2694 [==============================] - 9s 3ms/step - loss: 1.0196 - accuracy: 0.6210\n",
            "Epoch 11/100\n",
            "2694/2694 [==============================] - 9s 3ms/step - loss: 1.0146 - accuracy: 0.6221\n",
            "Epoch 12/100\n",
            "2694/2694 [==============================] - 9s 3ms/step - loss: 1.0060 - accuracy: 0.6249\n",
            "Epoch 13/100\n",
            "2694/2694 [==============================] - 9s 3ms/step - loss: 1.0064 - accuracy: 0.6254\n",
            "Epoch 14/100\n",
            "2694/2694 [==============================] - 9s 3ms/step - loss: 0.9997 - accuracy: 0.6261\n",
            "Epoch 15/100\n",
            "2694/2694 [==============================] - 9s 3ms/step - loss: 0.9999 - accuracy: 0.6261\n",
            "Epoch 16/100\n",
            "2694/2694 [==============================] - 10s 4ms/step - loss: 0.9969 - accuracy: 0.6283\n",
            "Epoch 17/100\n",
            "2694/2694 [==============================] - 9s 3ms/step - loss: 0.9888 - accuracy: 0.6301\n",
            "Epoch 18/100\n",
            "2694/2694 [==============================] - 9s 3ms/step - loss: 0.9845 - accuracy: 0.6283\n",
            "Epoch 19/100\n",
            "2694/2694 [==============================] - 9s 3ms/step - loss: 0.9828 - accuracy: 0.6287\n",
            "Epoch 20/100\n",
            "2694/2694 [==============================] - 9s 3ms/step - loss: 0.9725 - accuracy: 0.6325\n",
            "Epoch 21/100\n",
            "2694/2694 [==============================] - 9s 3ms/step - loss: 0.9695 - accuracy: 0.6347\n",
            "Epoch 22/100\n",
            "2694/2694 [==============================] - 9s 3ms/step - loss: 0.9742 - accuracy: 0.6332\n",
            "Epoch 23/100\n",
            "2694/2694 [==============================] - 9s 3ms/step - loss: 0.9714 - accuracy: 0.6362\n",
            "Epoch 24/100\n",
            "2694/2694 [==============================] - 9s 3ms/step - loss: 0.9657 - accuracy: 0.6391\n",
            "Epoch 25/100\n",
            "2694/2694 [==============================] - 9s 3ms/step - loss: 0.9675 - accuracy: 0.6353\n",
            "Epoch 26/100\n",
            "2694/2694 [==============================] - 9s 3ms/step - loss: 0.9629 - accuracy: 0.6408\n",
            "Epoch 27/100\n",
            "2694/2694 [==============================] - 9s 3ms/step - loss: 0.9611 - accuracy: 0.6374\n",
            "Epoch 28/100\n",
            "2694/2694 [==============================] - 9s 3ms/step - loss: 0.9536 - accuracy: 0.6424\n",
            "Epoch 29/100\n",
            "2694/2694 [==============================] - 9s 3ms/step - loss: 0.9521 - accuracy: 0.6448\n",
            "Epoch 30/100\n",
            "2694/2694 [==============================] - 9s 3ms/step - loss: 0.9467 - accuracy: 0.6443\n",
            "Epoch 31/100\n",
            "2694/2694 [==============================] - 9s 4ms/step - loss: 0.9509 - accuracy: 0.6442\n",
            "Epoch 32/100\n",
            "2694/2694 [==============================] - 10s 4ms/step - loss: 0.9366 - accuracy: 0.6492\n",
            "Epoch 33/100\n",
            "2694/2694 [==============================] - 9s 3ms/step - loss: 0.9413 - accuracy: 0.6489\n",
            "Epoch 34/100\n",
            "2694/2694 [==============================] - 9s 3ms/step - loss: 0.9449 - accuracy: 0.6472\n",
            "Epoch 35/100\n",
            "2694/2694 [==============================] - 10s 4ms/step - loss: 0.9429 - accuracy: 0.6479\n",
            "Epoch 36/100\n",
            "2694/2694 [==============================] - 10s 4ms/step - loss: 0.9400 - accuracy: 0.6475\n",
            "Epoch 37/100\n",
            "2694/2694 [==============================] - 9s 3ms/step - loss: 0.9389 - accuracy: 0.6506\n",
            "Epoch 38/100\n",
            "2694/2694 [==============================] - 9s 3ms/step - loss: 0.9447 - accuracy: 0.6480\n",
            "Epoch 39/100\n",
            "2694/2694 [==============================] - 9s 3ms/step - loss: 0.9410 - accuracy: 0.6495\n",
            "Epoch 40/100\n",
            "2694/2694 [==============================] - 9s 3ms/step - loss: 0.9443 - accuracy: 0.6475\n",
            "Epoch 41/100\n",
            "2694/2694 [==============================] - 9s 3ms/step - loss: 0.9290 - accuracy: 0.6541\n",
            "Epoch 42/100\n",
            "2694/2694 [==============================] - 9s 3ms/step - loss: 0.9237 - accuracy: 0.6570\n",
            "Epoch 43/100\n",
            "2694/2694 [==============================] - 9s 3ms/step - loss: 0.9241 - accuracy: 0.6549\n",
            "Epoch 44/100\n",
            "2694/2694 [==============================] - 9s 3ms/step - loss: 0.9295 - accuracy: 0.6544\n",
            "Epoch 45/100\n",
            "2694/2694 [==============================] - 9s 3ms/step - loss: 0.9253 - accuracy: 0.6556\n",
            "Epoch 46/100\n",
            "2694/2694 [==============================] - 9s 3ms/step - loss: 0.9315 - accuracy: 0.6516\n",
            "Epoch 47/100\n",
            "2694/2694 [==============================] - 9s 3ms/step - loss: 0.9180 - accuracy: 0.6590\n",
            "Epoch 48/100\n",
            "2694/2694 [==============================] - 9s 3ms/step - loss: 0.9165 - accuracy: 0.6567\n",
            "Epoch 49/100\n",
            "2694/2694 [==============================] - 9s 3ms/step - loss: 0.9058 - accuracy: 0.6626\n",
            "Epoch 50/100\n",
            "2694/2694 [==============================] - 9s 3ms/step - loss: 0.9141 - accuracy: 0.6611\n",
            "Epoch 51/100\n",
            "2694/2694 [==============================] - 9s 3ms/step - loss: 0.9078 - accuracy: 0.6624\n",
            "Epoch 52/100\n",
            "2694/2694 [==============================] - 9s 3ms/step - loss: 0.9055 - accuracy: 0.6646\n",
            "Epoch 53/100\n",
            "2694/2694 [==============================] - 9s 3ms/step - loss: 0.9126 - accuracy: 0.6620\n",
            "Epoch 54/100\n",
            "2694/2694 [==============================] - 9s 3ms/step - loss: 0.9126 - accuracy: 0.6639\n",
            "Epoch 55/100\n",
            "2694/2694 [==============================] - 9s 4ms/step - loss: 0.9062 - accuracy: 0.6634\n",
            "Epoch 56/100\n",
            "2694/2694 [==============================] - 9s 3ms/step - loss: 0.9088 - accuracy: 0.6626\n",
            "Epoch 57/100\n",
            "2694/2694 [==============================] - 10s 4ms/step - loss: 0.8998 - accuracy: 0.6663\n",
            "Epoch 58/100\n",
            "2694/2694 [==============================] - 10s 4ms/step - loss: 0.9073 - accuracy: 0.6617\n",
            "Epoch 59/100\n",
            "2694/2694 [==============================] - 10s 4ms/step - loss: 0.9064 - accuracy: 0.6633\n",
            "Epoch 60/100\n",
            "2694/2694 [==============================] - 10s 4ms/step - loss: 0.9046 - accuracy: 0.6629\n",
            "Epoch 61/100\n",
            "2694/2694 [==============================] - 10s 4ms/step - loss: 0.9078 - accuracy: 0.6604\n",
            "Epoch 62/100\n",
            "2694/2694 [==============================] - 9s 3ms/step - loss: 0.9038 - accuracy: 0.6624\n",
            "Epoch 63/100\n",
            "2694/2694 [==============================] - 9s 3ms/step - loss: 0.9002 - accuracy: 0.6631\n",
            "Epoch 64/100\n",
            "2694/2694 [==============================] - 9s 4ms/step - loss: 0.8967 - accuracy: 0.6639\n",
            "Epoch 65/100\n",
            "2694/2694 [==============================] - 9s 3ms/step - loss: 0.9101 - accuracy: 0.6610\n",
            "Epoch 66/100\n",
            "2694/2694 [==============================] - 9s 3ms/step - loss: 0.9058 - accuracy: 0.6642\n",
            "Epoch 67/100\n",
            "2694/2694 [==============================] - 9s 4ms/step - loss: 0.9033 - accuracy: 0.6605\n",
            "Epoch 68/100\n",
            "2694/2694 [==============================] - 9s 3ms/step - loss: 0.8979 - accuracy: 0.6650\n",
            "Epoch 69/100\n",
            "2694/2694 [==============================] - 9s 4ms/step - loss: 0.8947 - accuracy: 0.6640\n",
            "Epoch 70/100\n",
            "2694/2694 [==============================] - 9s 3ms/step - loss: 0.8981 - accuracy: 0.6652\n",
            "Epoch 71/100\n",
            "2694/2694 [==============================] - 9s 3ms/step - loss: 0.8933 - accuracy: 0.6664\n",
            "Epoch 72/100\n",
            "2694/2694 [==============================] - 10s 4ms/step - loss: 0.8990 - accuracy: 0.6629\n",
            "Epoch 73/100\n",
            "2694/2694 [==============================] - 9s 3ms/step - loss: 0.9049 - accuracy: 0.6620\n",
            "Epoch 74/100\n",
            "2694/2694 [==============================] - 10s 4ms/step - loss: 0.8973 - accuracy: 0.6642\n",
            "Epoch 75/100\n",
            "2694/2694 [==============================] - 10s 4ms/step - loss: 0.8867 - accuracy: 0.6632\n",
            "Epoch 76/100\n",
            "2694/2694 [==============================] - 9s 3ms/step - loss: 0.8972 - accuracy: 0.6614\n",
            "Epoch 77/100\n",
            "2694/2694 [==============================] - 10s 4ms/step - loss: 0.8944 - accuracy: 0.6629\n",
            "Epoch 78/100\n",
            "2694/2694 [==============================] - 10s 4ms/step - loss: 0.9020 - accuracy: 0.6631\n",
            "Epoch 79/100\n",
            "2694/2694 [==============================] - 10s 4ms/step - loss: 0.9059 - accuracy: 0.6622\n",
            "Epoch 80/100\n",
            "2694/2694 [==============================] - 10s 4ms/step - loss: 0.8927 - accuracy: 0.6677\n",
            "Epoch 81/100\n",
            "2694/2694 [==============================] - 10s 4ms/step - loss: 0.8993 - accuracy: 0.6640\n",
            "Epoch 82/100\n",
            "2694/2694 [==============================] - 10s 4ms/step - loss: 0.9116 - accuracy: 0.6625\n",
            "Epoch 83/100\n",
            "2694/2694 [==============================] - 10s 4ms/step - loss: 0.8936 - accuracy: 0.6662\n",
            "Epoch 84/100\n",
            "2694/2694 [==============================] - 10s 4ms/step - loss: 0.8953 - accuracy: 0.6666\n",
            "Epoch 85/100\n",
            "2694/2694 [==============================] - 10s 4ms/step - loss: 0.8955 - accuracy: 0.6661\n",
            "Epoch 86/100\n",
            "2694/2694 [==============================] - 10s 4ms/step - loss: 0.8959 - accuracy: 0.6638\n",
            "Epoch 87/100\n",
            "2694/2694 [==============================] - 10s 4ms/step - loss: 0.8980 - accuracy: 0.6644\n",
            "Epoch 88/100\n",
            "2694/2694 [==============================] - 10s 4ms/step - loss: 0.8978 - accuracy: 0.6665\n",
            "Epoch 89/100\n",
            "2694/2694 [==============================] - 10s 4ms/step - loss: 0.8963 - accuracy: 0.6657\n",
            "Epoch 90/100\n",
            "2694/2694 [==============================] - 10s 4ms/step - loss: 0.8958 - accuracy: 0.6648\n",
            "Epoch 91/100\n",
            "2694/2694 [==============================] - 10s 4ms/step - loss: 0.8980 - accuracy: 0.6647\n",
            "Epoch 92/100\n",
            "2694/2694 [==============================] - 10s 4ms/step - loss: 0.8855 - accuracy: 0.6679\n",
            "Epoch 93/100\n",
            "2694/2694 [==============================] - 10s 4ms/step - loss: 0.8875 - accuracy: 0.6675\n",
            "Epoch 94/100\n",
            "2694/2694 [==============================] - 10s 4ms/step - loss: 0.9009 - accuracy: 0.6637\n",
            "Epoch 95/100\n",
            "2694/2694 [==============================] - 10s 4ms/step - loss: 0.8896 - accuracy: 0.6666\n",
            "Epoch 96/100\n",
            "2694/2694 [==============================] - 10s 4ms/step - loss: 0.8863 - accuracy: 0.6694\n",
            "Epoch 97/100\n",
            "2694/2694 [==============================] - 10s 4ms/step - loss: 0.8870 - accuracy: 0.6687\n",
            "Epoch 98/100\n",
            "2694/2694 [==============================] - 10s 4ms/step - loss: 0.8914 - accuracy: 0.6693\n",
            "Epoch 99/100\n",
            "2694/2694 [==============================] - 10s 4ms/step - loss: 0.8891 - accuracy: 0.6697\n",
            "Epoch 100/100\n",
            "2694/2694 [==============================] - 10s 4ms/step - loss: 0.8968 - accuracy: 0.6682\n"
          ],
          "name": "stdout"
        },
        {
          "output_type": "execute_result",
          "data": {
            "text/plain": [
              "<tensorflow.python.keras.callbacks.History at 0x7f69a89282d0>"
            ]
          },
          "metadata": {
            "tags": []
          },
          "execution_count": 23
        }
      ]
    },
    {
      "cell_type": "code",
      "metadata": {
        "id": "pGP95o1QuZ1i",
        "colab": {
          "base_uri": "https://localhost:8080/"
        },
        "outputId": "96b8e70b-24c1-4d4f-c31d-33aaf7598e49"
      },
      "source": [
        "\n",
        "scaler=Normalizer().fit(df1_xtrain)\n",
        "x_train=scaler.transform(df1_xtrain)\n",
        "\n",
        "scaler=Normalizer().fit(df1_xtest)\n",
        "x_test=scaler.transform(df1_xtest)\n",
        "\n",
        "x=np.expand_dims(x_train,axis=2)\n",
        "y=np.expand_dims(x_test,axis=2)\n",
        "\n",
        "\n",
        "tr_lb=df1_ytrain.to_numpy()\n",
        "te_lb=df3_ytest.to_numpy()\n",
        "\n",
        "cnn_1D=Sequential()\n",
        "cnn_1D.add(Conv1D(64,1,activation='relu',input_shape=(10,1)))\n",
        "cnn_1D.add(Conv1D(64,1,activation='relu'))\n",
        "cnn_1D.add(MaxPooling1D(3))\n",
        "cnn_1D.add(Conv1D(64,1,activation='relu'))\n",
        "cnn_1D.add(Conv1D(64,1,activation='relu'))\n",
        "cnn_1D.add(GlobalAveragePooling1D())\n",
        "cnn_1D.add(Dropout(0.5))\n",
        "cnn_1D.add(Dense(6,activation='sigmoid'))\n",
        "cnn_1D.compile(\n",
        "    loss='sparse_categorical_crossentropy',\n",
        "    optimizer='rmsprop',\n",
        "    metrics=(['accuracy'])\n",
        ")\n",
        "cnn_1D.fit(x,tr_lb,batch_size=80,epochs=30)\n",
        "score=cnn_1D.evaluate(y,te_lb,batch_size=80)\n",
        "print(score)\n",
        "\n"
      ],
      "execution_count": null,
      "outputs": [
        {
          "output_type": "stream",
          "text": [
            "Epoch 1/30\n",
            "WARNING:tensorflow:Model was constructed with shape (None, 10, 1) for input KerasTensor(type_spec=TensorSpec(shape=(None, 10, 1), dtype=tf.float32, name='conv1d_4_input'), name='conv1d_4_input', description=\"created by layer 'conv1d_4_input'\"), but it was called on an input with incompatible shape (None, 15, 1).\n",
            "WARNING:tensorflow:Model was constructed with shape (None, 10, 1) for input KerasTensor(type_spec=TensorSpec(shape=(None, 10, 1), dtype=tf.float32, name='conv1d_4_input'), name='conv1d_4_input', description=\"created by layer 'conv1d_4_input'\"), but it was called on an input with incompatible shape (None, 15, 1).\n",
            "1347/1347 [==============================] - 6s 4ms/step - loss: nan - accuracy: 0.0150\n",
            "Epoch 2/30\n",
            "1347/1347 [==============================] - 5s 3ms/step - loss: nan - accuracy: 0.0150\n",
            "Epoch 3/30\n",
            "1347/1347 [==============================] - 5s 4ms/step - loss: nan - accuracy: 0.0146\n",
            "Epoch 4/30\n",
            "1347/1347 [==============================] - 5s 3ms/step - loss: nan - accuracy: 0.0151\n",
            "Epoch 5/30\n",
            "1347/1347 [==============================] - 5s 3ms/step - loss: nan - accuracy: 0.0143\n",
            "Epoch 6/30\n",
            "1347/1347 [==============================] - 5s 3ms/step - loss: nan - accuracy: 0.0149\n",
            "Epoch 7/30\n",
            "1347/1347 [==============================] - 5s 3ms/step - loss: nan - accuracy: 0.0151\n",
            "Epoch 8/30\n",
            "1347/1347 [==============================] - 5s 3ms/step - loss: nan - accuracy: 0.0150\n",
            "Epoch 9/30\n",
            "1347/1347 [==============================] - 5s 4ms/step - loss: nan - accuracy: 0.0154\n",
            "Epoch 10/30\n",
            "1347/1347 [==============================] - 5s 4ms/step - loss: nan - accuracy: 0.0148\n",
            "Epoch 11/30\n",
            "1347/1347 [==============================] - 5s 4ms/step - loss: nan - accuracy: 0.0151\n",
            "Epoch 12/30\n",
            "1347/1347 [==============================] - 5s 3ms/step - loss: nan - accuracy: 0.0144\n",
            "Epoch 13/30\n",
            "1347/1347 [==============================] - 5s 3ms/step - loss: nan - accuracy: 0.0148\n",
            "Epoch 14/30\n",
            "1347/1347 [==============================] - 5s 3ms/step - loss: nan - accuracy: 0.0149\n",
            "Epoch 15/30\n",
            "1347/1347 [==============================] - 5s 3ms/step - loss: nan - accuracy: 0.0151\n",
            "Epoch 16/30\n",
            "1347/1347 [==============================] - 5s 3ms/step - loss: nan - accuracy: 0.0147\n",
            "Epoch 17/30\n",
            "1347/1347 [==============================] - 5s 3ms/step - loss: nan - accuracy: 0.0148\n",
            "Epoch 18/30\n",
            "1347/1347 [==============================] - 5s 4ms/step - loss: nan - accuracy: 0.0162\n",
            "Epoch 19/30\n",
            "1347/1347 [==============================] - 5s 3ms/step - loss: nan - accuracy: 0.0150\n",
            "Epoch 20/30\n",
            "1347/1347 [==============================] - 5s 3ms/step - loss: nan - accuracy: 0.0152\n",
            "Epoch 21/30\n",
            "1347/1347 [==============================] - 5s 3ms/step - loss: nan - accuracy: 0.0155\n",
            "Epoch 22/30\n",
            "1347/1347 [==============================] - 5s 3ms/step - loss: nan - accuracy: 0.0156\n",
            "Epoch 23/30\n",
            "1347/1347 [==============================] - 5s 3ms/step - loss: nan - accuracy: 0.0150\n",
            "Epoch 24/30\n",
            "1347/1347 [==============================] - 5s 3ms/step - loss: nan - accuracy: 0.0147\n",
            "Epoch 25/30\n",
            "1347/1347 [==============================] - 5s 3ms/step - loss: nan - accuracy: 0.0151\n",
            "Epoch 26/30\n",
            "1347/1347 [==============================] - 5s 3ms/step - loss: nan - accuracy: 0.0149\n",
            "Epoch 27/30\n",
            "1347/1347 [==============================] - 5s 3ms/step - loss: nan - accuracy: 0.0151\n",
            "Epoch 28/30\n",
            "1347/1347 [==============================] - 5s 3ms/step - loss: nan - accuracy: 0.0143\n",
            "Epoch 29/30\n",
            "1347/1347 [==============================] - 5s 3ms/step - loss: nan - accuracy: 0.0149\n",
            "Epoch 30/30\n",
            "1347/1347 [==============================] - 5s 3ms/step - loss: nan - accuracy: 0.0149\n",
            "WARNING:tensorflow:Model was constructed with shape (None, 10, 1) for input KerasTensor(type_spec=TensorSpec(shape=(None, 10, 1), dtype=tf.float32, name='conv1d_4_input'), name='conv1d_4_input', description=\"created by layer 'conv1d_4_input'\"), but it was called on an input with incompatible shape (None, 15, 1).\n",
            "1030/1030 [==============================] - 2s 2ms/step - loss: nan - accuracy: 0.0082\n",
            "[nan, 0.008222805336117744]\n"
          ],
          "name": "stdout"
        }
      ]
    },
    {
      "cell_type": "code",
      "metadata": {
        "id": "CS0Gt8XauZ5P"
      },
      "source": [
        "#Ada Boost with DT\n",
        "from sklearn.ensemble import AdaBoostClassifier\n"
      ],
      "execution_count": null,
      "outputs": []
    },
    {
      "cell_type": "code",
      "metadata": {
        "id": "6tc7MPIluZ9m",
        "colab": {
          "base_uri": "https://localhost:8080/"
        },
        "outputId": "731afa8b-ee8c-4594-f812-12999c0630b6"
      },
      "source": [
        "print (\"\\t\\tAdaBoost using Decision Tree Analysis of UNSW NB15\\n\\n\\t\\tTop 10 Features \")\n",
        "\n",
        "\n",
        "\n",
        "abc10 = AdaBoostClassifier(DecisionTreeClassifier(max_depth=3), algorithm=\"SAMME\", n_estimators=500)\n",
        "abc10.fit(df1_xtrain, df1_ytrain)\n",
        "\n",
        "#Predict the response for test dataset\n",
        "y_pred_Ada10 = abc10.predict(df1_xtest)\n",
        "\n",
        "\n",
        "results_Ada10 = confusion_matrix(df1_ytest, y_pred_Ada10) \n",
        "print ('Confusion Matrix :')\n",
        "print(results_Ada10) \n",
        "\n",
        "print ('Accuracy Score :',accuracy_score(df1_ytest, y_pred_Ada10) )\n",
        "print(\"Precision Score: \",precision_score(df1_ytest, y_pred_Ada10, average='macro'))\n",
        "print(\"F1 Score: \",f1_score(df1_ytest, y_pred_Ada10, average='macro'))\n",
        "print(\"Recall: \",recall_score(df1_ytest, y_pred_Ada10, average='macro'))\n"
      ],
      "execution_count": null,
      "outputs": [
        {
          "output_type": "stream",
          "text": [
            "\t\tAdaBoost using Decision Tree Analysis of UNSW NB15\n",
            "\n",
            "\t\tTop 10 Features \n",
            "Confusion Matrix :\n",
            "[[  281     4    60    51   206     0    62    13     0     0]\n",
            " [  179     6    61    97   214     1     8    13     4     0]\n",
            " [ 1862   134   237   854   525    68   169   200    38     2]\n",
            " [ 1854   155   390  6189   859   253   868   517    44     3]\n",
            " [  539    12   134   370  1076     2  3825    66    36     2]\n",
            " [   12     2    53   804    41 17845    89    15    10     0]\n",
            " [  440    23   170   908  3039    18 32249    20   127     6]\n",
            " [  216    28    22   196    78     7    87  2842    20     0]\n",
            " [    0     0    25    50    44     0    45    15   199     0]\n",
            " [    0     1     0    31     4     3     1     0     2     2]]\n",
            "Accuracy Score : 0.7400038867026186\n",
            "Precision Score:  0.4257907888811636\n",
            "F1 Score:  0.4122616517585579\n",
            "Recall:  0.4418846498278154\n"
          ],
          "name": "stdout"
        }
      ]
    },
    {
      "cell_type": "code",
      "metadata": {
        "id": "qWHpLmjVuaML",
        "colab": {
          "base_uri": "https://localhost:8080/"
        },
        "outputId": "354762e7-0f1c-41c0-fa34-2c4873a0305b"
      },
      "source": [
        "print (\"\\t\\tAdaBoost using DT Analysis of UNSW-NB15\\n\\n\\t\\tTop 20 Features \")\n",
        "\n",
        "abc20 = AdaBoostClassifier(DecisionTreeClassifier(max_depth=3), algorithm=\"SAMME\",n_estimators=500)\n",
        "abc20.fit(df2_xtrain, df2_ytrain)\n",
        "\n",
        "y_pred_Ada20 = abc20.predict(df2_xtest)\n",
        "\n",
        "\n",
        "\n",
        "results_Ada10 = confusion_matrix(df2_ytest, y_pred_Ada20) \n",
        "print ('Confusion Matrix :')\n",
        "print(results_Ada10) \n",
        "\n",
        "print ('Accuracy Score :',accuracy_score(df2_ytest, y_pred_Ada20) )\n",
        "print(\"Precision Score: \",precision_score(df2_ytest, y_pred_Ada20, average='macro'))\n",
        "print(\"F1 Score: \",f1_score(df2_ytest, y_pred_Ada20, average='macro'))\n",
        "print(\"Recall: \",recall_score(df2_ytest, y_pred_Ada20, average='macro'))\n"
      ],
      "execution_count": null,
      "outputs": [
        {
          "output_type": "stream",
          "text": [
            "\t\tAdaBoost using DT Analysis of UNSW-NB15\n",
            "\n",
            "\t\tTop 20 Features \n",
            "Confusion Matrix :\n",
            "[[  424    57     3    18    44     0    55    76     0     0]\n",
            " [  359    45    15    24    51    11     4    71     3     0]\n",
            " [ 1378   689   331   926   328    32   108   252    39     6]\n",
            " [ 1640   687  1031  6096   478   219   363   553    40    25]\n",
            " [  826   133    82   151  1658    11  2933   194    53    21]\n",
            " [   13     6   260   370    56 18055    91     7    12     1]\n",
            " [  658     6   307   637  5202    27 30030    14   101    18]\n",
            " [  133   110    59   241    86     7    34  2820     5     1]\n",
            " [    0     2    36    54    45     0    36    12   193     0]\n",
            " [    0     0     5    31     2     2     2     0     0     2]]\n",
            "Accuracy Score : 0.7245542437934217\n",
            "Precision Score:  0.4221556965595627\n",
            "F1 Score:  0.42149595164438824\n",
            "Recall:  0.4736599285185821\n"
          ],
          "name": "stdout"
        }
      ]
    },
    {
      "cell_type": "code",
      "metadata": {
        "id": "0EdgdNfGuaUk",
        "colab": {
          "base_uri": "https://localhost:8080/"
        },
        "outputId": "f2e7dad2-0303-4e8c-fbd9-80965e2df057"
      },
      "source": [
        "print (\"\\t\\tAdaBoost using DT Analysis of UNSW-NB15\\n\\n\\t\\tAll Features \")\n",
        "\n",
        "abcall = AdaBoostClassifier(DecisionTreeClassifier(max_depth=3),\n",
        "                         algorithm=\"SAMME\",\n",
        "                         n_estimators=500)\n",
        "\n",
        "abcall.fit(df3_xtrain,df3_ytrain)\n",
        "\n",
        "y_pred_Adaall = abcall.predict(df3_xtest)\n",
        "\n",
        "results_Adaall = confusion_matrix(df3_ytest, y_pred_Adaall) \n",
        "print ('Confusion Matrix :')\n",
        "print(results_Adaall)\n",
        "\n",
        "print ('Accuracy Score :',accuracy_score(df3_ytest, y_pred_Adaall) )\n",
        "print(\"Precision Score: \",precision_score(df3_ytest, y_pred_Adaall, average='macro'))\n",
        "print(\"F1 Score: \",f1_score(df3_ytest, y_pred_Adaall, average='macro'))\n",
        "print(\"Recall: \",recall_score(df3_ytest, y_pred_Adaall, average='macro'))\n"
      ],
      "execution_count": null,
      "outputs": [
        {
          "output_type": "stream",
          "text": [
            "\t\tAdaBoost using DT Analysis of UNSW-NB15\n",
            "\n",
            "\t\tAll Features \n",
            "Confusion Matrix :\n",
            "[[  249    47   167    15    19    22    36   122     0     0]\n",
            " [  187    89   161    23    24    10     0    89     0     0]\n",
            " [  974   503   498   587   129   130   135  1133     0     0]\n",
            " [ 1484   826   974  3572   154   818  1291  2012     0     1]\n",
            " [  441   623   700  1169  1438   862   235   594     0     0]\n",
            " [   12    42    79   355     6 14056    41  4280     0     0]\n",
            " [ 2176  1149  1646  4170  6526   947 15579  4807     0     0]\n",
            " [   85   128    52    69    21    15     2  3124     0     0]\n",
            " [    0    67    74   169     7     0     0    61     0     0]\n",
            " [    0     0     5     8     1     0     0    30     0     0]]\n",
            "Accuracy Score : 0.46889423310498957\n",
            "Precision Score:  0.26348940439217894\n",
            "F1 Score:  0.24536069780208208\n",
            "Recall:  0.32598334581360233\n"
          ],
          "name": "stdout"
        },
        {
          "output_type": "stream",
          "text": [
            "/usr/local/lib/python3.7/dist-packages/sklearn/metrics/_classification.py:1272: UndefinedMetricWarning:\n",
            "\n",
            "Precision is ill-defined and being set to 0.0 in labels with no predicted samples. Use `zero_division` parameter to control this behavior.\n",
            "\n"
          ],
          "name": "stderr"
        }
      ]
    },
    {
      "cell_type": "code",
      "metadata": {
        "id": "Fbwdx6KnI4wX"
      },
      "source": [
        ""
      ],
      "execution_count": null,
      "outputs": []
    },
    {
      "cell_type": "code",
      "metadata": {
        "colab": {
          "base_uri": "https://localhost:8080/"
        },
        "id": "i_Sou9aPI9np",
        "outputId": "b4a15f9d-fa56-476b-c56a-9e54ac5cb72a"
      },
      "source": [
        "!pip install vecstack\n",
        "\n",
        "from sklearn.model_selection import train_test_split\n",
        "from sklearn.metrics import accuracy_score\n",
        "from sklearn.neighbors import KNeighborsClassifier\n",
        "from sklearn.ensemble import RandomForestClassifier\n",
        "from xgboost import XGBClassifier\n",
        "from vecstack import stacking"
      ],
      "execution_count": null,
      "outputs": [
        {
          "output_type": "stream",
          "text": [
            "Collecting vecstack\n",
            "  Downloading https://files.pythonhosted.org/packages/d0/a1/b9a1e9e9e5a12078da1ab9788c7885e4c745358f7e57d5f94d9db6a4e898/vecstack-0.4.0.tar.gz\n",
            "Requirement already satisfied: numpy in /usr/local/lib/python3.7/dist-packages (from vecstack) (1.19.5)\n",
            "Requirement already satisfied: scipy in /usr/local/lib/python3.7/dist-packages (from vecstack) (1.4.1)\n",
            "Requirement already satisfied: scikit-learn>=0.18 in /usr/local/lib/python3.7/dist-packages (from vecstack) (0.22.2.post1)\n",
            "Requirement already satisfied: joblib>=0.11 in /usr/local/lib/python3.7/dist-packages (from scikit-learn>=0.18->vecstack) (1.0.1)\n",
            "Building wheels for collected packages: vecstack\n",
            "  Building wheel for vecstack (setup.py) ... \u001b[?25l\u001b[?25hdone\n",
            "  Created wheel for vecstack: filename=vecstack-0.4.0-cp37-none-any.whl size=19877 sha256=480b01f35ca08e04019efc21d0b0c8f7a025131639a1df54c8388885d2936bea\n",
            "  Stored in directory: /root/.cache/pip/wheels/5f/bb/4e/f6488433d53bc0684673d6845e5bf11a25240577c8151c140e\n",
            "Successfully built vecstack\n",
            "Installing collected packages: vecstack\n",
            "Successfully installed vecstack-0.4.0\n"
          ],
          "name": "stdout"
        }
      ]
    },
    {
      "cell_type": "code",
      "metadata": {
        "id": "Fqd-w6geI40E"
      },
      "source": [
        "models = [\n",
        "    KNeighborsClassifier(),\n",
        "        \n",
        "    RandomForestClassifier(n_estimators=500, max_depth=3),\n",
        "        \n",
        "    XGBClassifier(random_state=0, n_jobs=-1, learning_rate=0.1, \n",
        "                  n_estimators=100, max_depth=3)\n",
        "]"
      ],
      "execution_count": null,
      "outputs": []
    },
    {
      "cell_type": "code",
      "metadata": {
        "colab": {
          "base_uri": "https://localhost:8080/"
        },
        "id": "yjUmiwr-I43Z",
        "outputId": "6db0427a-0b91-4be8-9dda-cca8a64b2667"
      },
      "source": [
        "S_train, S_test = stacking(models, df1_xtrain, df1_ytrain, df1_xtest, regression=False, mode='oof_pred_bag', needs_proba=False, save_dir=None,  metric=accuracy_score, \n",
        "                               n_folds=5, stratified=True, shuffle=True,  random_state=0, verbose=2)"
      ],
      "execution_count": null,
      "outputs": [
        {
          "output_type": "stream",
          "text": [
            "task:         [classification]\n",
            "n_classes:    [10]\n",
            "metric:       [accuracy_score]\n",
            "mode:         [oof_pred_bag]\n",
            "n_models:     [3]\n",
            "\n",
            "model  0:     [KNeighborsClassifier]\n",
            "    fold  0:  [0.73357156]\n",
            "    fold  1:  [0.74108966]\n",
            "    fold  2:  [0.73417487]\n",
            "    fold  3:  [0.73937256]\n",
            "    fold  4:  [0.74043995]\n",
            "    ----\n",
            "    MEAN:     [0.73772972] + [0.00320190]\n",
            "    FULL:     [0.73772972]\n",
            "\n",
            "model  1:     [RandomForestClassifier]\n",
            "    fold  0:  [0.72196956]\n",
            "    fold  1:  [0.72874513]\n",
            "    fold  2:  [0.72688881]\n",
            "    fold  3:  [0.73575274]\n",
            "    fold  4:  [0.73166883]\n",
            "    ----\n",
            "    MEAN:     [0.72900501] + [0.00461890]\n",
            "    FULL:     [0.72900501]\n",
            "\n",
            "model  2:     [XGBClassifier]\n",
            "    fold  0:  [0.78893633]\n",
            "    fold  1:  [0.79547986]\n",
            "    fold  2:  [0.79650084]\n",
            "    fold  3:  [0.79961017]\n",
            "    fold  4:  [0.79520141]\n",
            "    ----\n",
            "    MEAN:     [0.79514572] + [0.00347675]\n",
            "    FULL:     [0.79514572]\n",
            "\n"
          ],
          "name": "stdout"
        }
      ]
    },
    {
      "cell_type": "code",
      "metadata": {
        "colab": {
          "base_uri": "https://localhost:8080/"
        },
        "id": "NQFZA7MAI473",
        "outputId": "b52a3ad1-5faa-4bda-83a0-067f19f65254"
      },
      "source": [
        "model1 = XGBClassifier(random_state=1, n_jobs=-1, learning_rate=0.1, \n",
        "                      n_estimators=300, max_depth=3)\n",
        "    \n",
        "model1 = model1.fit(S_train, df1_ytrain)\n",
        "\n",
        "y_pred_XGB1 = model1.predict(S_test)\n",
        "\n",
        "print('Final prediction score: [%.5f]' % accuracy_score(df1_ytest, y_pred_XGB1))\n",
        "\n",
        "results_XGB1 = confusion_matrix(df1_ytest, y_pred_XGB1) \n",
        "print ('Confusion Matrix :')\n",
        "print(results_XGB1) \n",
        "\n",
        "print ('Accuracy Score :',accuracy_score(df1_ytest, y_pred_XGB1) )\n",
        "print(\"Precision Score: \",precision_score(df1_ytest, y_pred_XGB1, average='macro'))\n",
        "print(\"F1 Score: \",f1_score(df1_ytest, y_pred_XGB1, average='macro'))\n",
        "print(\"Recall: \",recall_score(df1_ytest, y_pred_XGB1, average='macro'))\n"
      ],
      "execution_count": null,
      "outputs": [
        {
          "output_type": "stream",
          "text": [
            "Final prediction score: [0.73230]\n",
            "Confusion Matrix :\n",
            "[[  135     0     0     8   479     0    52     3     0     0]\n",
            " [   91    20     1    32   424     0     7     4     4     0]\n",
            " [  709    41    67  1027  2090     3    44    44    64     0]\n",
            " [  712    21    32  7272  2536     1   306   184    65     3]\n",
            " [  268     7     1   143  4550     0   944    54    95     0]\n",
            " [    9     4    12   495   154 18159    18     9    10     1]\n",
            " [   20     0    19  1076  8743     0 27033    35    73     1]\n",
            " [   84     5     2   289   267     0     6  2826    15     2]\n",
            " [    2     1     2    55    63     0    10    30   215     0]\n",
            " [    0     0     1    22     5     0     1     0     0    15]]\n",
            "Accuracy Score : 0.7323033571393869\n",
            "Precision Score:  0.5607490663332098\n",
            "F1 Score:  0.4798632725863362\n",
            "Recall:  0.5064865487367871\n"
          ],
          "name": "stdout"
        }
      ]
    },
    {
      "cell_type": "code",
      "metadata": {
        "id": "8i1KC2CdTWm8",
        "colab": {
          "base_uri": "https://localhost:8080/"
        },
        "outputId": "1ccebdd3-9d7a-4682-d027-d383a58f85c2"
      },
      "source": [
        "S_train2, S_test2 = stacking(models, df2_xtrain, df2_ytrain, df2_xtest, regression=False, mode='oof_pred_bag', needs_proba=False, save_dir=None,  metric=accuracy_score, \n",
        "                               n_folds=5, stratified=True, shuffle=True,  random_state=0, verbose=2)\n",
        "\n",
        "model2 = XGBClassifier(random_state=0, n_jobs=-1, learning_rate=0.1, n_estimators=300, max_depth=3)\n",
        "    \n",
        "model2 = model2.fit(S_train2, df2_ytrain)\n",
        "\n",
        "y_pred_XGB2 = model2.predict(S_test2)\n",
        "\n",
        "print('Final prediction score: [%.5f]' % accuracy_score(df2_ytest, y_pred_XGB2))\n",
        "\n",
        "\n",
        "\n",
        "\n",
        "results_XGB2 = confusion_matrix(df2_ytest, y_pred_XGB2) \n",
        "print ('Confusion Matrix :')\n",
        "print(results_XGB2) \n",
        "print ('Accuracy Score :',accuracy_score(df2_ytest, y_pred_XGB2) )\n",
        "print(\"Precision Score: \",precision_score(df2_ytest, y_pred_XGB2, average='macro'))\n",
        "print(\"F1 Score: \",f1_score(df2_ytest, y_pred_XGB2, average='macro'))\n",
        "print(\"Recall: \",recall_score(df2_ytest, y_pred_XGB2, average='macro'))\n",
        "\n"
      ],
      "execution_count": null,
      "outputs": [
        {
          "output_type": "stream",
          "text": [
            "task:         [classification]\n",
            "n_classes:    [10]\n",
            "metric:       [accuracy_score]\n",
            "mode:         [oof_pred_bag]\n",
            "n_models:     [3]\n",
            "\n",
            "model  0:     [KNeighborsClassifier]\n",
            "    fold  0:  [0.56775571]\n",
            "    fold  1:  [0.56798775]\n",
            "    fold  2:  [0.56993689]\n",
            "    fold  3:  [0.56432151]\n",
            "    fold  4:  [0.57156117]\n",
            "    ----\n",
            "    MEAN:     [0.56831260] + [0.00243047]\n",
            "    FULL:     [0.56831260]\n",
            "\n",
            "model  1:     [RandomForestClassifier]\n",
            "    fold  0:  [0.70772229]\n",
            "    fold  1:  [0.71575088]\n",
            "    fold  2:  [0.71366252]\n",
            "    fold  3:  [0.70790793]\n",
            "    fold  4:  [0.70609801]\n",
            "    ----\n",
            "    MEAN:     [0.71022833] + [0.00376872]\n",
            "    FULL:     [0.71022833]\n",
            "\n",
            "model  2:     [XGBClassifier]\n",
            "    fold  0:  [0.79394839]\n",
            "    fold  1:  [0.80165213]\n",
            "    fold  2:  [0.79974940]\n",
            "    fold  3:  [0.80466865]\n",
            "    fold  4:  [0.80230184]\n",
            "    ----\n",
            "    MEAN:     [0.80046408] + [0.00361752]\n",
            "    FULL:     [0.80046408]\n",
            "\n",
            "Final prediction score: [0.73306]\n",
            "Confusion Matrix :\n",
            "[[   77   215     0     1   320     0    59     2     3     0]\n",
            " [   25   229     1    23   282     6     7     3     7     0]\n",
            " [  874   674    79  1015  1227    19    49    62    90     0]\n",
            " [  798   801    49  7375  1593    17   204   197    96     2]\n",
            " [  160   457     2   119  4114     0  1049    58   103     0]\n",
            " [    5     4     6   506   126 18173    22    14    14     1]\n",
            " [  412     0    16   950  8253     0 27221    30   117     1]\n",
            " [  112    60     7   296   160     0    10  2832    19     0]\n",
            " [    4     1     0    45    41     0    17    36   234     0]\n",
            " [    0     0     0    19     4     0     1     0     0    20]]\n",
            "Accuracy Score : 0.7330564057717533\n",
            "Precision Score:  0.5586432688280702\n",
            "F1 Score:  0.49756023169762675\n",
            "Recall:  0.544938794224202\n"
          ],
          "name": "stdout"
        }
      ]
    },
    {
      "cell_type": "code",
      "metadata": {
        "id": "dSyC9ob1TWqP",
        "colab": {
          "base_uri": "https://localhost:8080/",
          "height": 1000
        },
        "outputId": "213bc9ac-8057-452b-b0da-66c5ef0228bb"
      },
      "source": [
        "\n",
        "S_train3, S_test3 = stacking(models, df3_xtrain, df3_ytrain, df3_xtest, regression=False, mode='oof_pred_bag', needs_proba=False, save_dir=None,  metric=accuracy_score, \n",
        "                               n_folds=5, stratified=True, shuffle=True,  random_state=0, verbose=2)\n",
        "\n",
        "\n",
        "model3 = XGBClassifier(random_state=0, n_jobs=-1, learning_rate=0.1, n_estimators=300, max_depth=3)\n",
        "    \n",
        "model3 = model3.fit(S_train3, df3_ytrain)\n",
        "\n",
        "y_pred_XGB3 = model3.predict(S_test)\n",
        "\n",
        "print('Final prediction score: [%.5f]' % accuracy_score(df3_ytest, y_pred_XGB3))\n",
        "\n",
        "\n",
        "\n",
        "\n",
        "results_XGB3 = confusion_matrix(df3_ytest, y_pred_XGB3) \n",
        "print ('Confusion Matrix :')\n",
        "print(results_XGB3) \n",
        "print ('Accuracy Score :',accuracy_score(df3_ytest, y_pred_XGB3) )\n",
        "print(\"Precision Score: \",precision_score(df3_ytest, y_pred_XGB3, average='macro'))\n",
        "print(\"F1 Score: \",f1_score(df3_ytest, y_pred_XGB3, average='macro'))\n",
        "print(\"Recall: \",recall_score(df3_ytest, y_pred_XGB3, average='macro'))\n"
      ],
      "execution_count": null,
      "outputs": [
        {
          "output_type": "stream",
          "text": [
            "task:         [classification]\n",
            "n_classes:    [10]\n",
            "metric:       [accuracy_score]\n",
            "mode:         [oof_pred_bag]\n",
            "n_models:     [3]\n",
            "\n",
            "model  0:     [KNeighborsClassifier]\n",
            "    fold  0:  [0.56682755]\n",
            "    fold  1:  [0.56585298]\n",
            "    fold  2:  [0.56835901]\n",
            "    fold  3:  [0.56283646]\n",
            "    fold  4:  [0.57040097]\n",
            "    ----\n",
            "    MEAN:     [0.56685539] + [0.00252940]\n",
            "    FULL:     [0.56685539]\n",
            "\n",
            "model  1:     [RandomForestClassifier]\n",
            "    fold  0:  [0.69570262]\n",
            "    fold  1:  [0.70572675]\n",
            "    fold  2:  [0.70359198]\n",
            "    fold  3:  [0.70707258]\n",
            "    fold  4:  [0.70489141]\n",
            "    ----\n",
            "    MEAN:     [0.70339707] + [0.00401030]\n",
            "    FULL:     [0.70339707]\n",
            "\n",
            "model  2:     [XGBClassifier]\n",
            "    fold  0:  [0.79227771]\n",
            "    fold  1:  [0.79956376]\n",
            "    fold  2:  [0.79942454]\n",
            "    fold  3:  [0.80517913]\n",
            "    fold  4:  [0.79933172]\n",
            "    ----\n",
            "    MEAN:     [0.79915537] + [0.00409532]\n",
            "    FULL:     [0.79915537]\n",
            "\n"
          ],
          "name": "stdout"
        },
        {
          "output_type": "error",
          "ename": "XGBoostError",
          "evalue": "ignored",
          "traceback": [
            "\u001b[0;31m---------------------------------------------------------------------------\u001b[0m",
            "\u001b[0;31mXGBoostError\u001b[0m                              Traceback (most recent call last)",
            "\u001b[0;32m<ipython-input-67-6776ae30a362>\u001b[0m in \u001b[0;36m<module>\u001b[0;34m()\u001b[0m\n\u001b[1;32m      6\u001b[0m \u001b[0mmodel3\u001b[0m \u001b[0;34m=\u001b[0m \u001b[0mXGBClassifier\u001b[0m\u001b[0;34m(\u001b[0m\u001b[0mrandom_state\u001b[0m\u001b[0;34m=\u001b[0m\u001b[0;36m0\u001b[0m\u001b[0;34m,\u001b[0m \u001b[0mn_jobs\u001b[0m\u001b[0;34m=\u001b[0m\u001b[0;34m-\u001b[0m\u001b[0;36m1\u001b[0m\u001b[0;34m,\u001b[0m \u001b[0mlearning_rate\u001b[0m\u001b[0;34m=\u001b[0m\u001b[0;36m0.1\u001b[0m\u001b[0;34m,\u001b[0m \u001b[0mn_estimators\u001b[0m\u001b[0;34m=\u001b[0m\u001b[0;36m300\u001b[0m\u001b[0;34m,\u001b[0m \u001b[0mmax_depth\u001b[0m\u001b[0;34m=\u001b[0m\u001b[0;36m3\u001b[0m\u001b[0;34m)\u001b[0m\u001b[0;34m\u001b[0m\u001b[0;34m\u001b[0m\u001b[0m\n\u001b[1;32m      7\u001b[0m \u001b[0;34m\u001b[0m\u001b[0m\n\u001b[0;32m----> 8\u001b[0;31m \u001b[0mmodel3\u001b[0m \u001b[0;34m=\u001b[0m \u001b[0mmodel3\u001b[0m\u001b[0;34m.\u001b[0m\u001b[0mfit\u001b[0m\u001b[0;34m(\u001b[0m\u001b[0mS_train3\u001b[0m\u001b[0;34m,\u001b[0m \u001b[0mdf3_ytest\u001b[0m\u001b[0;34m)\u001b[0m\u001b[0;34m\u001b[0m\u001b[0;34m\u001b[0m\u001b[0m\n\u001b[0m\u001b[1;32m      9\u001b[0m \u001b[0;34m\u001b[0m\u001b[0m\n\u001b[1;32m     10\u001b[0m \u001b[0my_pred_XGB3\u001b[0m \u001b[0;34m=\u001b[0m \u001b[0mmodel3\u001b[0m\u001b[0;34m.\u001b[0m\u001b[0mpredict\u001b[0m\u001b[0;34m(\u001b[0m\u001b[0mS_test\u001b[0m\u001b[0;34m)\u001b[0m\u001b[0;34m\u001b[0m\u001b[0;34m\u001b[0m\u001b[0m\n",
            "\u001b[0;32m/usr/local/lib/python3.7/dist-packages/xgboost/sklearn.py\u001b[0m in \u001b[0;36mfit\u001b[0;34m(self, X, y, sample_weight, eval_set, eval_metric, early_stopping_rounds, verbose, xgb_model, sample_weight_eval_set, callbacks)\u001b[0m\n\u001b[1;32m    730\u001b[0m                               \u001b[0mevals_result\u001b[0m\u001b[0;34m=\u001b[0m\u001b[0mevals_result\u001b[0m\u001b[0;34m,\u001b[0m \u001b[0mobj\u001b[0m\u001b[0;34m=\u001b[0m\u001b[0mobj\u001b[0m\u001b[0;34m,\u001b[0m \u001b[0mfeval\u001b[0m\u001b[0;34m=\u001b[0m\u001b[0mfeval\u001b[0m\u001b[0;34m,\u001b[0m\u001b[0;34m\u001b[0m\u001b[0;34m\u001b[0m\u001b[0m\n\u001b[1;32m    731\u001b[0m                               \u001b[0mverbose_eval\u001b[0m\u001b[0;34m=\u001b[0m\u001b[0mverbose\u001b[0m\u001b[0;34m,\u001b[0m \u001b[0mxgb_model\u001b[0m\u001b[0;34m=\u001b[0m\u001b[0mxgb_model\u001b[0m\u001b[0;34m,\u001b[0m\u001b[0;34m\u001b[0m\u001b[0;34m\u001b[0m\u001b[0m\n\u001b[0;32m--> 732\u001b[0;31m                               callbacks=callbacks)\n\u001b[0m\u001b[1;32m    733\u001b[0m \u001b[0;34m\u001b[0m\u001b[0m\n\u001b[1;32m    734\u001b[0m         \u001b[0mself\u001b[0m\u001b[0;34m.\u001b[0m\u001b[0mobjective\u001b[0m \u001b[0;34m=\u001b[0m \u001b[0mxgb_options\u001b[0m\u001b[0;34m[\u001b[0m\u001b[0;34m\"objective\"\u001b[0m\u001b[0;34m]\u001b[0m\u001b[0;34m\u001b[0m\u001b[0;34m\u001b[0m\u001b[0m\n",
            "\u001b[0;32m/usr/local/lib/python3.7/dist-packages/xgboost/training.py\u001b[0m in \u001b[0;36mtrain\u001b[0;34m(params, dtrain, num_boost_round, evals, obj, feval, maximize, early_stopping_rounds, evals_result, verbose_eval, xgb_model, callbacks, learning_rates)\u001b[0m\n\u001b[1;32m    214\u001b[0m                            \u001b[0mevals\u001b[0m\u001b[0;34m=\u001b[0m\u001b[0mevals\u001b[0m\u001b[0;34m,\u001b[0m\u001b[0;34m\u001b[0m\u001b[0;34m\u001b[0m\u001b[0m\n\u001b[1;32m    215\u001b[0m                            \u001b[0mobj\u001b[0m\u001b[0;34m=\u001b[0m\u001b[0mobj\u001b[0m\u001b[0;34m,\u001b[0m \u001b[0mfeval\u001b[0m\u001b[0;34m=\u001b[0m\u001b[0mfeval\u001b[0m\u001b[0;34m,\u001b[0m\u001b[0;34m\u001b[0m\u001b[0;34m\u001b[0m\u001b[0m\n\u001b[0;32m--> 216\u001b[0;31m                            xgb_model=xgb_model, callbacks=callbacks)\n\u001b[0m\u001b[1;32m    217\u001b[0m \u001b[0;34m\u001b[0m\u001b[0m\n\u001b[1;32m    218\u001b[0m \u001b[0;34m\u001b[0m\u001b[0m\n",
            "\u001b[0;32m/usr/local/lib/python3.7/dist-packages/xgboost/training.py\u001b[0m in \u001b[0;36m_train_internal\u001b[0;34m(params, dtrain, num_boost_round, evals, obj, feval, xgb_model, callbacks)\u001b[0m\n\u001b[1;32m     72\u001b[0m         \u001b[0;31m# Skip the first update if it is a recovery step.\u001b[0m\u001b[0;34m\u001b[0m\u001b[0;34m\u001b[0m\u001b[0;34m\u001b[0m\u001b[0m\n\u001b[1;32m     73\u001b[0m         \u001b[0;32mif\u001b[0m \u001b[0mversion\u001b[0m \u001b[0;34m%\u001b[0m \u001b[0;36m2\u001b[0m \u001b[0;34m==\u001b[0m \u001b[0;36m0\u001b[0m\u001b[0;34m:\u001b[0m\u001b[0;34m\u001b[0m\u001b[0;34m\u001b[0m\u001b[0m\n\u001b[0;32m---> 74\u001b[0;31m             \u001b[0mbst\u001b[0m\u001b[0;34m.\u001b[0m\u001b[0mupdate\u001b[0m\u001b[0;34m(\u001b[0m\u001b[0mdtrain\u001b[0m\u001b[0;34m,\u001b[0m \u001b[0mi\u001b[0m\u001b[0;34m,\u001b[0m \u001b[0mobj\u001b[0m\u001b[0;34m)\u001b[0m\u001b[0;34m\u001b[0m\u001b[0;34m\u001b[0m\u001b[0m\n\u001b[0m\u001b[1;32m     75\u001b[0m             \u001b[0mbst\u001b[0m\u001b[0;34m.\u001b[0m\u001b[0msave_rabit_checkpoint\u001b[0m\u001b[0;34m(\u001b[0m\u001b[0;34m)\u001b[0m\u001b[0;34m\u001b[0m\u001b[0;34m\u001b[0m\u001b[0m\n\u001b[1;32m     76\u001b[0m             \u001b[0mversion\u001b[0m \u001b[0;34m+=\u001b[0m \u001b[0;36m1\u001b[0m\u001b[0;34m\u001b[0m\u001b[0;34m\u001b[0m\u001b[0m\n",
            "\u001b[0;32m/usr/local/lib/python3.7/dist-packages/xgboost/core.py\u001b[0m in \u001b[0;36mupdate\u001b[0;34m(self, dtrain, iteration, fobj)\u001b[0m\n\u001b[1;32m   1107\u001b[0m         \u001b[0;32mif\u001b[0m \u001b[0mfobj\u001b[0m \u001b[0;32mis\u001b[0m \u001b[0;32mNone\u001b[0m\u001b[0;34m:\u001b[0m\u001b[0;34m\u001b[0m\u001b[0;34m\u001b[0m\u001b[0m\n\u001b[1;32m   1108\u001b[0m             _check_call(_LIB.XGBoosterUpdateOneIter(self.handle, ctypes.c_int(iteration),\n\u001b[0;32m-> 1109\u001b[0;31m                                                     dtrain.handle))\n\u001b[0m\u001b[1;32m   1110\u001b[0m         \u001b[0;32melse\u001b[0m\u001b[0;34m:\u001b[0m\u001b[0;34m\u001b[0m\u001b[0;34m\u001b[0m\u001b[0m\n\u001b[1;32m   1111\u001b[0m             \u001b[0mpred\u001b[0m \u001b[0;34m=\u001b[0m \u001b[0mself\u001b[0m\u001b[0;34m.\u001b[0m\u001b[0mpredict\u001b[0m\u001b[0;34m(\u001b[0m\u001b[0mdtrain\u001b[0m\u001b[0;34m)\u001b[0m\u001b[0;34m\u001b[0m\u001b[0;34m\u001b[0m\u001b[0m\n",
            "\u001b[0;32m/usr/local/lib/python3.7/dist-packages/xgboost/core.py\u001b[0m in \u001b[0;36m_check_call\u001b[0;34m(ret)\u001b[0m\n\u001b[1;32m    174\u001b[0m     \"\"\"\n\u001b[1;32m    175\u001b[0m     \u001b[0;32mif\u001b[0m \u001b[0mret\u001b[0m \u001b[0;34m!=\u001b[0m \u001b[0;36m0\u001b[0m\u001b[0;34m:\u001b[0m\u001b[0;34m\u001b[0m\u001b[0;34m\u001b[0m\u001b[0m\n\u001b[0;32m--> 176\u001b[0;31m         \u001b[0;32mraise\u001b[0m \u001b[0mXGBoostError\u001b[0m\u001b[0;34m(\u001b[0m\u001b[0mpy_str\u001b[0m\u001b[0;34m(\u001b[0m\u001b[0m_LIB\u001b[0m\u001b[0;34m.\u001b[0m\u001b[0mXGBGetLastError\u001b[0m\u001b[0;34m(\u001b[0m\u001b[0;34m)\u001b[0m\u001b[0;34m)\u001b[0m\u001b[0;34m)\u001b[0m\u001b[0;34m\u001b[0m\u001b[0;34m\u001b[0m\u001b[0m\n\u001b[0m\u001b[1;32m    177\u001b[0m \u001b[0;34m\u001b[0m\u001b[0m\n\u001b[1;32m    178\u001b[0m \u001b[0;34m\u001b[0m\u001b[0m\n",
            "\u001b[0;31mXGBoostError\u001b[0m: [15:50:58] /workspace/src/objective/multiclass_obj.cu:60: Check failed: preds.Size() == (static_cast<size_t>(param_.num_class) * info.labels_.Size()): SoftmaxMultiClassObj: label size and pred size does not match\nStack trace:\n  [bt] (0) /usr/local/lib/python3.7/dist-packages/xgboost/./lib/libxgboost.so(dmlc::LogMessageFatal::~LogMessageFatal()+0x24) [0x7fe22888acb4]\n  [bt] (1) /usr/local/lib/python3.7/dist-packages/xgboost/./lib/libxgboost.so(xgboost::obj::SoftmaxMultiClassObj::GetGradient(xgboost::HostDeviceVector<float> const&, xgboost::MetaInfo const&, int, xgboost::HostDeviceVector<xgboost::detail::GradientPairInternal<float> >*)+0x178) [0x7fe228a83f98]\n  [bt] (2) /usr/local/lib/python3.7/dist-packages/xgboost/./lib/libxgboost.so(xgboost::LearnerImpl::UpdateOneIter(int, xgboost::DMatrix*)+0x345) [0x7fe228924505]\n  [bt] (3) /usr/local/lib/python3.7/dist-packages/xgboost/./lib/libxgboost.so(XGBoosterUpdateOneIter+0x35) [0x7fe228887aa5]\n  [bt] (4) /usr/lib/x86_64-linux-gnu/libffi.so.6(ffi_call_unix64+0x4c) [0x7fe2b13c7dae]\n  [bt] (5) /usr/lib/x86_64-linux-gnu/libffi.so.6(ffi_call+0x22f) [0x7fe2b13c771f]\n  [bt] (6) /usr/lib/python3.7/lib-dynload/_ctypes.cpython-37m-x86_64-linux-gnu.so(_ctypes_callproc+0x28c) [0x7fe2b15db5dc]\n  [bt] (7) /usr/lib/python3.7/lib-dynload/_ctypes.cpython-37m-x86_64-linux-gnu.so(+0x109e3) [0x7fe2b15da9e3]\n  [bt] (8) /usr/bin/python3(_PyObject_FastCallKeywords+0x92) [0x55a9ae4ac7f2]\n\n"
          ]
        }
      ]
    },
    {
      "cell_type": "code",
      "metadata": {
        "id": "Hwgf1CnikmZa"
      },
      "source": [
        "from sklearn.datasets import make_classification\n",
        "from sklearn.ensemble import StackingClassifier\n",
        "from sklearn.linear_model import LogisticRegression\n",
        "from sklearn.neighbors import KNeighborsClassifier\n",
        "from sklearn.tree import DecisionTreeClassifier\n",
        "from sklearn.svm import SVC\n",
        "from sklearn.ensemble import RandomForestClassifier,AdaBoostClassifier,GradientBoostingClassifier"
      ],
      "execution_count": null,
      "outputs": []
    },
    {
      "cell_type": "code",
      "metadata": {
        "id": "vPtKiX1VTWtA",
        "colab": {
          "base_uri": "https://localhost:8080/"
        },
        "outputId": "1fee99b3-e700-4fef-defa-b3b20339c19e"
      },
      "source": [
        "level0 = list()\n",
        "level0.append(('rf', RandomForestClassifier()))\n",
        "#level0.append(('knn', KNeighborsClassifier()))\n",
        "level0.append(('cart', DecisionTreeClassifier()))\n",
        "# define meta learner model\n",
        "print(\"Proceeding with: \",level0)\n",
        "level1 = GradientBoostingClassifier(n_estimators=200)\n",
        "# define the stacking ensemble\n",
        "model = StackingClassifier(estimators=level0, final_estimator=level1, cv=2)\n",
        "# fit the model on all available data\n",
        "model.fit(df1_xtrain, df1_ytrain)\n",
        "# make a prediction for one example\n",
        "\n",
        "yhat = model.predict(df1_xtest)\n",
        "#print('Predicted Class: %d' % (yhat))\n",
        "\n",
        "print('Final prediction score: [%.5f]' % accuracy_score(df1_ytest, yhat))\n",
        "\n",
        "results_sc1 = confusion_matrix(df1_ytest, yhat) \n",
        "print ('Confusion Matrix :')\n",
        "print(results_sc1) \n",
        "\n",
        "print ('Accuracy Score :',accuracy_score(df1_ytest, yhat) )\n",
        "print(\"Precision Score: \",precision_score(df1_ytest, yhat, average='macro'))\n",
        "print(\"F1 Score: \",f1_score(df1_ytest, yhat, average='macro'))\n",
        "print(\"Recall: \",recall_score(df1_ytest, yhat, average='macro'))"
      ],
      "execution_count": null,
      "outputs": [
        {
          "output_type": "stream",
          "text": [
            "Final prediction score: [0.67519]\n",
            "Confusion Matrix :\n",
            "[[   67   183    39   176   194     7     3     5     3     0]\n",
            " [   23   207    38   119   167     7     6     4    12     0]\n",
            " [  520   527   793  1071   882    31    74   137    54     0]\n",
            " [  504   655   491  7815  1055    37   101   352   122     0]\n",
            " [   87   363   119   654  4138    17   331    21   332     0]\n",
            " [   12    16    41   427   178 18005   140     3    48     1]\n",
            " [ 1449     4    51   854 12999     6 21445     5   186     1]\n",
            " [   64    51    68   304   116     1    12  2829    51     0]\n",
            " [    1     1    14    38    29     2     2     1   290     0]\n",
            " [    0     1     0    38     2     1     0     0     1     1]]\n",
            "Accuracy Score : 0.6751931205363649\n",
            "Precision Score:  0.489997169317403\n",
            "F1 Score:  0.44466007373387406\n",
            "Recall:  0.5165441831566977\n"
          ],
          "name": "stdout"
        }
      ]
    }
  ]
}