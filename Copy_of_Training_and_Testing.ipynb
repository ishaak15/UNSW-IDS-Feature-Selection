{
  "nbformat": 4,
  "nbformat_minor": 0,
  "metadata": {
    "accelerator": "GPU",
    "colab": {
      "name": "Copy of Training and Testing.ipynb",
      "provenance": [],
      "collapsed_sections": []
    },
    "kernelspec": {
      "display_name": "Python 3",
      "name": "python3"
    },
    "language_info": {
      "name": "python"
    }
  },
  "cells": [
    {
      "cell_type": "code",
      "metadata": {
        "colab": {
          "base_uri": "https://localhost:8080/"
        },
        "id": "RupDMUtc2mgK",
        "outputId": "81e2e3b8-d7d7-4e70-9077-fb69bd914128"
      },
      "source": [
        "import numpy as np \n",
        "import matplotlib\n",
        "import matplotlib.pyplot as plt\n",
        "import os\n",
        "import math\n",
        "import pandas as pd\n",
        "from sklearn.decomposition import PCA\n",
        "from sklearn.model_selection import cross_validate\n",
        "from sklearn import datasets, preprocessing, feature_extraction, neighbors\n",
        "from sklearn import linear_model, svm, metrics, ensemble, tree, ensemble\n",
        "from sklearn.model_selection import train_test_split\n",
        "from copy import copy\n",
        "import urllib\n",
        "import csv\n",
        "\n",
        "import seaborn as sns\n",
        "from sklearn.preprocessing import LabelEncoder\n",
        "import matplotlib.pyplot as plt\n",
        "import plotly.graph_objs as go\n",
        "\n",
        "from sklearn.tree import DecisionTreeClassifier # Import Decision Tree Classifier\n",
        "from sklearn.model_selection import train_test_split # Import train_test_split function\n",
        "from sklearn import metrics #Import scikit-learn metrics module for accuracy calculation\n",
        "\n",
        "from sklearn.metrics import confusion_matrix \n",
        "from sklearn.metrics import accuracy_score \n",
        "from sklearn.metrics import classification_report \n",
        "\n",
        "\n",
        "from sklearn.naive_bayes import GaussianNB\n",
        "from yellowbrick.classifier import ClassificationReport\n",
        "\n",
        "from sklearn.ensemble import RandomForestClassifier\n",
        "from sklearn.linear_model import LogisticRegression\n",
        "from sklearn.model_selection import train_test_split \n",
        "from sklearn.naive_bayes import GaussianNB \n",
        "from sklearn.linear_model import LogisticRegression\n",
        "from sklearn.svm import SVC # \"Support Vector Classifier\" \n",
        "from sklearn.ensemble import AdaBoostClassifier\n",
        "from sklearn.ensemble import ExtraTreesClassifier\n",
        "\n",
        "from sklearn.feature_selection import SelectKBest\n",
        "from sklearn.feature_selection import chi2\n",
        "\n",
        "from zipfile import ZipFile\n",
        "import collections\n",
        "\n",
        "from sklearn.feature_selection import RFE\n",
        "from sklearn.linear_model import LogisticRegression\n",
        "\n",
        "from sklearn.metrics import confusion_matrix \n",
        "from sklearn.metrics import accuracy_score \n",
        "from sklearn.metrics import classification_report \n",
        "from sklearn.metrics import classification_report\n",
        "from sklearn.metrics import precision_recall_fscore_support\n",
        "from sklearn.metrics import recall_score\n",
        "from sklearn.metrics import precision_score\n",
        "from sklearn.metrics import f1_score\n",
        "import pickle"
      ],
      "execution_count": null,
      "outputs": [
        {
          "output_type": "stream",
          "text": [
            "/usr/local/lib/python3.7/dist-packages/sklearn/utils/deprecation.py:144: FutureWarning:\n",
            "\n",
            "The sklearn.metrics.classification module is  deprecated in version 0.22 and will be removed in version 0.24. The corresponding classes / functions should instead be imported from sklearn.metrics. Anything that cannot be imported from sklearn.metrics is now part of the private API.\n",
            "\n"
          ],
          "name": "stderr"
        }
      ]
    },
    {
      "cell_type": "code",
      "metadata": {
        "colab": {
          "base_uri": "https://localhost:8080/"
        },
        "id": "FUKlYohz7Ge3",
        "outputId": "fdb6cd84-5672-4e5e-f9c9-1db2293dac38"
      },
      "source": [
        "!git clone https://github.com/ishaak15/UNSW-IDS-Feature-Selection.git"
      ],
      "execution_count": null,
      "outputs": [
        {
          "output_type": "stream",
          "text": [
            "fatal: destination path 'UNSW-IDS-Feature-Selection' already exists and is not an empty directory.\n"
          ],
          "name": "stdout"
        }
      ]
    },
    {
      "cell_type": "code",
      "metadata": {
        "colab": {
          "base_uri": "https://localhost:8080/"
        },
        "id": "zVKdVCIQIVl8",
        "outputId": "40602b72-eef7-426a-9abd-9d2af02f92f9"
      },
      "source": [
        "cd UNSW-IDS-Feature-Selection/"
      ],
      "execution_count": null,
      "outputs": [
        {
          "output_type": "stream",
          "text": [
            "/content/UNSW-IDS-Feature-Selection\n"
          ],
          "name": "stdout"
        }
      ]
    },
    {
      "cell_type": "code",
      "metadata": {
        "colab": {
          "base_uri": "https://localhost:8080/"
        },
        "id": "6CrTS2MAIetl",
        "outputId": "bdabb7b2-e519-4bd9-f764-9d9d4dd3cdea"
      },
      "source": [
        "ls"
      ],
      "execution_count": null,
      "outputs": [
        {
          "output_type": "stream",
          "text": [
            "clfDT_10.sav    Dataset1.csv  README.md     \u001b[0m\u001b[01;34mUNSW-IDS-Feature-Selection\u001b[0m/\n",
            "clfKNN10.sav    Dataset2.csv  Testset1.csv  UNSW_NB15_testing-set.csv\n",
            "clfKNN20.sav    Dataset3.csv  Testset2.csv\n",
            "clfKNN_all.sav  LICENSE       Testset3.csv\n"
          ],
          "name": "stdout"
        }
      ]
    },
    {
      "cell_type": "code",
      "metadata": {
        "id": "PR7ddO_b-TYh"
      },
      "source": [
        "df1 = pd.read_csv('Dataset1.csv',index_col=0)\n",
        "df2 = pd.read_csv('Dataset2.csv',index_col=0)\n",
        "df3 = pd.read_csv('Dataset3.csv',index_col=0)"
      ],
      "execution_count": null,
      "outputs": []
    },
    {
      "cell_type": "code",
      "metadata": {
        "id": "sK7zk_s0-2Go"
      },
      "source": [
        "tf1 = pd.read_csv('Testset1.csv',index_col=0)\n",
        "tf2 = pd.read_csv('Testset2.csv',index_col=0)\n",
        "tf3 = pd.read_csv('Testset3.csv',index_col=0)"
      ],
      "execution_count": null,
      "outputs": []
    },
    {
      "cell_type": "code",
      "metadata": {
        "id": "DVJCwCx5DkD6"
      },
      "source": [
        "df1_xtrain=df1.iloc[: , :-1]\n",
        "df1_ytrain=df1.iloc[:,-1]\n",
        "df2_xtrain=df2.iloc[: , :-1]\n",
        "df2_ytrain=df2.iloc[:,-1]\n",
        "df3_xtrain=df3.iloc[: , :-1]\n",
        "df3_ytrain=df3.iloc[:,-1]"
      ],
      "execution_count": null,
      "outputs": []
    },
    {
      "cell_type": "code",
      "metadata": {
        "id": "N2Q5ICJvIsgs"
      },
      "source": [
        "df1_xtest=tf1.iloc[: , :-1]\n",
        "df1_ytest=tf1.iloc[:,-1]\n",
        "df2_xtest=tf2.iloc[: , :-1]\n",
        "df2_ytest=tf2.iloc[:,-1]\n",
        "df3_xtest=tf3.iloc[: , :-1]\n",
        "df3_ytest=tf3.iloc[:,-1]"
      ],
      "execution_count": null,
      "outputs": []
    },
    {
      "cell_type": "code",
      "metadata": {
        "id": "w-ZMD59m4V2o"
      },
      "source": [
        "#KNN"
      ],
      "execution_count": null,
      "outputs": []
    },
    {
      "cell_type": "code",
      "metadata": {
        "colab": {
          "base_uri": "https://localhost:8080/"
        },
        "id": "9eg-WFEcsYCS",
        "outputId": "20fa7230-166a-46a5-8112-340cf324992d"
      },
      "source": [
        "clfKNN10=neighbors.KNeighborsClassifier()\n",
        "clfKNN10.fit(df1_xtrain,df1_ytrain)\n",
        "\n",
        "pickle.dump(clfKNN10, open(\"clfKNN10.sav\", 'wb'))   #save model\n",
        "\n",
        "print (\"\\t\\tKNN Classification of UNSW-NB15\\n\\n\\t\\tTop 10 Features \")\n",
        "\n",
        "yt_pred_10 = clfKNN10.predict(df1_xtest)\n",
        "results = confusion_matrix(df1_ytest, yt_pred_10) \n",
        "print ('Confusion Matrix :')\n",
        "print(results) \n",
        "\n",
        "\n",
        "accKNN10=accuracy_score(df1_ytest,yt_pred_10)\n",
        "print(\"Accuracy: \",accKNN10)\n",
        "preKNN10=precision_score(df1_ytest, yt_pred_10, average='macro')\n",
        "print(\"Precision Score: \",preKNN10)\n",
        "f1KNN10=f1_score(df1_ytest, yt_pred_10, average='macro')\n",
        "print(\"F1 Score: \",f1KNN10)\n",
        "reKNN10=recall_score(df1_ytest, yt_pred_10, average='macro')  \n",
        "print(\"Recall: \",reKNN10)\n"
      ],
      "execution_count": null,
      "outputs": [
        {
          "output_type": "stream",
          "text": [
            "\t\tKNN Classification of UNSW-NB15\n",
            "\n",
            "\t\tTop 10 Features \n",
            "Confusion Matrix :\n",
            "[[  208   131    42    58   129    16    32    61     0     0]\n",
            " [  198   121    13    49   134    18    16    33     1     0]\n",
            " [  822   758   472   913   502    21   202   372    27     0]\n",
            " [  955   835   503  6664   944    39   616   540    33     3]\n",
            " [  444   315    97   469  3357    54  1111   164    50     1]\n",
            " [   17    11    34   375   168 18078   140    44     4     0]\n",
            " [  496    52   218  1986  7076    20 26822   233    93     4]\n",
            " [   82   102    51   324   117     5    71  2737     5     2]\n",
            " [    5     7    12    50   161     6    51    32    54     0]\n",
            " [    0     1     2    26    11     0     3     0     0     1]]\n",
            "Accuracy:  0.7107078657144246\n",
            "Precision Score:  0.41756373950870634\n",
            "F1 Score:  0.4023931552335053\n",
            "Recall:  0.44140047486900985\n"
          ],
          "name": "stdout"
        }
      ]
    },
    {
      "cell_type": "code",
      "metadata": {
        "colab": {
          "base_uri": "https://localhost:8080/"
        },
        "id": "kBj8htUIsYM0",
        "outputId": "ab82a30b-5009-403e-feb4-6acf7a3ac528"
      },
      "source": [
        "clfKNN20=neighbors.KNeighborsClassifier()\n",
        "clfKNN20.fit(df2_xtrain,df2_ytrain)\n",
        "\n",
        "pickle.dump(clfKNN20, open(\"clfKNN20.sav\", 'wb'))   #save model\n",
        "\n",
        "print (\"\\t\\tKNN Analysis of UNSW-NB15\\n\\n\\t\\tTop 20 Features \")\n",
        "\n",
        "y_pred_20 = clfKNN20.predict(df2_xtest)\n",
        "results = confusion_matrix(df2_ytest, y_pred_20) \n",
        "print ('Confusion Matrix :')\n",
        "print(results) \n",
        "\n",
        "\n",
        "accKNN20=accuracy_score(df2_ytest,y_pred_20)\n",
        "print(\"Accuracy: \",accKNN20)\n",
        "preKNN20=precision_score(df2_ytest, y_pred_20, average='macro')\n",
        "print(\"Precision Score: \",preKNN20)\n",
        "f1KNN20=f1_score(df2_ytest, y_pred_20, average='macro')\n",
        "print(\"F1 Score: \",f1KNN20)\n",
        "reKNN20=recall_score(df2_ytest, y_pred_20, average='macro')  \n",
        "print(\"Recall: \",reKNN20)\n"
      ],
      "execution_count": null,
      "outputs": [
        {
          "output_type": "stream",
          "text": [
            "\t\tKNN Analysis of UNSW-NB15\n",
            "\n",
            "\t\tTop 20 Features \n",
            "Confusion Matrix :\n",
            "[[  267   167    15    69   117    16    17     9     0     0]\n",
            " [  251   109     6    65   118    18    11     5     0     0]\n",
            " [ 1150  1136   184   646   494    22   307   129    21     0]\n",
            " [ 1321  1139   396  4316  1854    39  1749   290    28     0]\n",
            " [  599   332   140  2053  1702    56  1023   122    35     0]\n",
            " [   30    22    26   304   220 18083   132    51     3     0]\n",
            " [  132    71   537  7955  4981    21 22760   473    69     1]\n",
            " [  126   152    91   985   400     7   405  1325     5     0]\n",
            " [    7     6    13   109   126     5    52    17    43     0]\n",
            " [    0     0     1    22     8     0    13     0     0     0]]\n",
            "Accuracy:  0.5925885439440315\n",
            "Precision Score:  0.3273066113090913\n",
            "F1 Score:  0.3053129978339978\n",
            "Recall:  0.336096541715301\n"
          ],
          "name": "stdout"
        }
      ]
    },
    {
      "cell_type": "code",
      "metadata": {
        "colab": {
          "base_uri": "https://localhost:8080/"
        },
        "id": "amTNhuAbsYSP",
        "outputId": "e71dd063-be83-45c2-c158-03a27dab2adb"
      },
      "source": [
        "clfKNN_all=neighbors.KNeighborsClassifier()\n",
        "clfKNN_all.fit(df3_xtrain,df3_ytrain)\n",
        "\n",
        "pickle.dump(clfKNN_all, open(\"clfKNN_all.sav\", 'wb'))   #save model\n",
        "\n",
        "print (\"\\t\\tKNN Analysis of UNSW-NB15\\n\\n\\t\\tAll Features \")\n",
        "\n",
        "y_pred_all = clfKNN_all.predict(df3_xtest)\n",
        "results = confusion_matrix(df3_ytest, y_pred_all) \n",
        "print ('Confusion Matrix :')\n",
        "print(results) \n",
        "\n",
        "\n",
        "accKNNall=accuracy_score(df3_ytest, y_pred_all)\n",
        "print(\"Accuracy: \",accKNNall)\n",
        "preKNNall=precision_score(df3_ytest, y_pred_all, average='macro')\n",
        "print(\"Precision Score: \",preKNNall)\n",
        "f1KNNall=f1_score(df3_ytest, y_pred_all, average='macro')\n",
        "print(\"F1 Score: \",f1KNNall)\n",
        "reKNNall=recall_score(df3_ytest, y_pred_all, average='macro')  \n",
        "print(\"Recall: \",reKNNall)\n"
      ],
      "execution_count": null,
      "outputs": [
        {
          "output_type": "stream",
          "text": [
            "\t\tKNN Analysis of UNSW-NB15\n",
            "\n",
            "\t\tAll Features \n",
            "Confusion Matrix :\n",
            "[[  336   161     1    44   101    16    17     1     0     0]\n",
            " [  304    98     1    44   105    18    11     2     0     0]\n",
            " [ 1491  1070   101   581   437    22   305    61    21     0]\n",
            " [ 1671  1073   319  4245  1794    39  1743   220    28     0]\n",
            " [  726   307   123  2007  1672    56  1024   112    35     0]\n",
            " [   37    21    26   301   219 18083   130    51     3     0]\n",
            " [  115    55   537  7955  5009    21 22765   473    69     1]\n",
            " [  164   146    81   981   392     7   405  1315     5     0]\n",
            " [    6     3    13   109   132     5    50    16    44     0]\n",
            " [    0     0     1    22     8     0    13     0     0     0]]\n",
            "Accuracy:  0.5910095710051985\n",
            "Precision Score:  0.3265665197965294\n",
            "F1 Score:  0.3034833731074776\n",
            "Recall:  0.34123127222810123\n"
          ],
          "name": "stdout"
        }
      ]
    },
    {
      "cell_type": "code",
      "metadata": {
        "id": "RKy3aGMusYXi"
      },
      "source": [
        "#Decision TREE"
      ],
      "execution_count": null,
      "outputs": []
    },
    {
      "cell_type": "code",
      "metadata": {
        "colab": {
          "base_uri": "https://localhost:8080/"
        },
        "id": "8A2BPc0ksky-",
        "outputId": "02715242-d661-4942-c92c-ec8e814c6483"
      },
      "source": [
        "clfDT_10 = DecisionTreeClassifier()\n",
        "print (\"\\t\\tDecision Tree Analysis of UNSW-NB15\\n\\n\\t\\tTop 10 Features \")\n",
        "\n",
        "# Train Decision Tree Classifer\n",
        "clfDT_10 = clfDT_10.fit(df1_xtrain,df1_ytrain)\n",
        "\n",
        "#Predict the response for test dataset\n",
        "y_pred_DT10 = clfDT_10.predict(df1_xtest)\n",
        "\n",
        "pickle.dump(clfDT_10, open(\"clfDT_10.sav\", 'wb'))   #save model\n",
        "\n",
        "#print (\"\\t\\tMajor Verifcation\")\n",
        "results_DT10 = confusion_matrix(df1_ytest, y_pred_DT10) \n",
        "print ('Confusion Matrix :')\n",
        "print(results_DT10) \n",
        "\n",
        "\n",
        "print ('Accuracy Score :',accuracy_score(df1_ytest, y_pred_DT10) )\n",
        "print(\"Precision Score: \",precision_score(df1_ytest, y_pred_DT10, average='macro'))\n",
        "print(\"F1 Score: \",f1_score(df1_ytest, y_pred_DT10, average='macro'))\n",
        "print(\"Recall: \",recall_score(df1_ytest, y_pred_DT10, average='macro'))\n",
        "\n"
      ],
      "execution_count": null,
      "outputs": [
        {
          "output_type": "stream",
          "text": [
            "\t\tDecision Tree Analysis of UNSW-NB15\n",
            "\n",
            "\t\tTop 10 Features \n",
            "Confusion Matrix :\n",
            "[[  378    82     3     3   190     0    21     0     0     0]\n",
            " [  317    57     3     8   188     1     5     0     4     0]\n",
            " [ 1484  1028   522   522   379    34    58    24    36     2]\n",
            " [ 1702   929   614  6522   629   125   234   227   136    14]\n",
            " [  720   142   152   533  2864    39  1309     5   293     5]\n",
            " [   19    25    70   236    43 18432    20     4    17     5]\n",
            " [  606    10  1103  1172  7284    74 26588    20   142     1]\n",
            " [  159   147    33   267    42     4    37  2767    38     2]\n",
            " [    1     6    14    40    27     5    14     5   266     0]\n",
            " [    0     1     0    15     0     1     1     0     1    25]]\n",
            "Accuracy Score : 0.7095782927658747\n",
            "Precision Score:  0.4826660833630867\n",
            "F1 Score:  0.4838423933263322\n",
            "Recall:  0.5600798136827534\n"
          ],
          "name": "stdout"
        }
      ]
    },
    {
      "cell_type": "code",
      "metadata": {
        "colab": {
          "base_uri": "https://localhost:8080/"
        },
        "id": "ZfSSpwm2sk1Y",
        "outputId": "f4ce8148-725f-447b-8424-5a7f3647b206"
      },
      "source": [
        "clfDT_20 = DecisionTreeClassifier()\n",
        "print (\"\\t\\tDecision Tree Analysis of UNSW-NB15\\n\\n\\t\\tTop 20 Features \")\n",
        "\n",
        "# Train Decision Tree Classifer\n",
        "clfDT_20 = clfDT_20.fit(df2_xtrain,df2_ytrain)\n",
        "\n",
        "#Predict the response for test dataset\n",
        "y_pred_DT20 = clfDT_20.predict(df2_xtest)\n",
        "\n",
        "pickle.dump(clfDT_20, open(\"clfDT_20.sav\", 'wb'))   #save model\n",
        "\n",
        "#print (\"\\t\\tMajor Verifcation\")\n",
        "results_DT20 = confusion_matrix(df2_ytest, y_pred_DT20) \n",
        "print ('Confusion Matrix :')\n",
        "print(results_DT20)\n",
        "\n",
        "print ('Accuracy Score :',accuracy_score(df2_ytest, y_pred_DT20) )\n",
        "print(\"Precision Score: \",precision_score(df2_ytest, y_pred_DT20, average='macro'))\n",
        "print(\"F1 Score: \",f1_score(df2_ytest, y_pred_DT20, average='macro'))\n",
        "print(\"Recall: \",recall_score(df2_ytest, y_pred_DT20, average='macro'))"
      ],
      "execution_count": null,
      "outputs": [
        {
          "output_type": "stream",
          "text": [
            "\t\tDecision Tree Analysis of UNSW-NB15\n",
            "\n",
            "\t\tTop 20 Features \n",
            "Confusion Matrix :\n",
            "[[  505   116     0    34     1     2    16     0     3     0]\n",
            " [  491    50     4    11    10     0    13     0     4     0]\n",
            " [ 1747  1023   557   502   102    32    64    26    36     0]\n",
            " [ 2101   961   720  6441   176    78   297   251    98     9]\n",
            " [ 1067   154    97   397  2673    23  1481    18   152     0]\n",
            " [   26    27    56   208    34 18479    15     6    15     5]\n",
            " [  679    11  1267  1481  7371    74 25905    57   154     1]\n",
            " [  169   145    36   281    34     2    34  2749    45     1]\n",
            " [    1     8    16    50    31     1    14     4   253     0]\n",
            " [    0     1     1    16     0     1     0     1     1    23]]\n",
            "Accuracy Score : 0.7000315794587767\n",
            "Precision Score:  0.4961306956436092\n",
            "F1 Score:  0.48949320146818937\n",
            "Recall:  0.564519538440563\n"
          ],
          "name": "stdout"
        }
      ]
    },
    {
      "cell_type": "code",
      "metadata": {
        "colab": {
          "base_uri": "https://localhost:8080/"
        },
        "id": "MQrDjJUosk4b",
        "outputId": "6a2ce1ab-0234-4030-e798-b9669320f74b"
      },
      "source": [
        "clfDT_all = DecisionTreeClassifier()\n",
        "print (\"\\t\\tDecision Tree Analysis of UNSW-NB15\\n\\n\\t\\tAll Features \")\n",
        "\n",
        "# Train Decision Tree Classifer\n",
        "clfDT_all = clfDT_all.fit(df3_xtrain,df3_ytrain)\n",
        "\n",
        "#Predict the response for test dataset\n",
        "y_pred_DTall = clfDT_all.predict(df3_xtest)\n",
        "\n",
        "pickle.dump(clfDT_all, open(\"clfDT_all.sav\", 'wb'))   #save model\n",
        "\n",
        "#print (\"\\t\\tMajor Verifcation\")\n",
        "results_DTall = confusion_matrix(df3_ytest, y_pred_DTall) \n",
        "print ('Confusion Matrix :')\n",
        "print(results_DTall)\n",
        "\n",
        "print ('Accuracy Score :',accuracy_score(df3_ytest, y_pred_DTall) )\n",
        "print(\"Precision Score: \",precision_score(df3_ytest, y_pred_DTall, average='macro'))\n",
        "print(\"F1 Score: \",f1_score(df3_ytest, y_pred_DTall, average='macro'))\n",
        "print(\"Recall: \",recall_score(df3_ytest, y_pred_DTall, average='macro'))"
      ],
      "execution_count": null,
      "outputs": [
        {
          "output_type": "stream",
          "text": [
            "\t\tDecision Tree Analysis of UNSW-NB15\n",
            "\n",
            "\t\tAll Features \n",
            "Confusion Matrix :\n",
            "[[  503   113     0    53     1     1     5     0     1     0]\n",
            " [  494    61     1    10     5     0     8     0     4     0]\n",
            " [ 1727  1108   533   501    60    39    58    26    37     0]\n",
            " [ 2101  1026   550  6484   154    91   397   228    91    10]\n",
            " [ 1059   175    79   368  2707    24  1489     6   155     0]\n",
            " [   25    25    67   254    34 18428    18     1    14     5]\n",
            " [  697    10  1059  1455  7498   241 25866    43   130     1]\n",
            " [  166   154    36   295    14     3    38  2746    43     1]\n",
            " [    0     8    12    48    35     3    14     4   254     0]\n",
            " [    0     2     4    14     1     1     0     1     0    21]]\n",
            "Accuracy Score : 0.6996429091969101\n",
            "Precision Score:  0.49719488121178557\n",
            "F1 Score:  0.48781938695364396\n",
            "Recall:  0.5617287361595836\n"
          ],
          "name": "stdout"
        }
      ]
    },
    {
      "cell_type": "code",
      "metadata": {
        "id": "0gTs5TBjslQj"
      },
      "source": [
        "#Gaussian Naive Bayes Classifier\n"
      ],
      "execution_count": null,
      "outputs": []
    },
    {
      "cell_type": "code",
      "metadata": {
        "colab": {
          "base_uri": "https://localhost:8080/"
        },
        "id": "_e-LXX4Ls2Sk",
        "outputId": "a2479490-0a29-471f-ee36-169ea0b492d8"
      },
      "source": [
        "bayes_10 = GaussianNB()\n",
        "bayes_10.fit(df1_xtrain,df1_ytrain)\n",
        "\n",
        "print (\"\\t\\tGaussain Naive Bayes Analysis of UNSW-NB15\\n\\n\\t\\tTop 10 Features \")\n",
        "y_pred_gnb10 = bayes_10.predict(df1_xtest)\n",
        "\n",
        "pickle.dump(bayes_10, open(\"bayes_10.sav\", 'wb'))   #save model\n",
        "\n",
        "#print (\"\\t\\tMajor Verifcation KDD99 10% GNB\")\n",
        "results = confusion_matrix(df1_ytest, y_pred_gnb10) \n",
        "print ('Confusion Matrix :')\n",
        "print(results) \n",
        "\n",
        "print ('Accuracy Score :',accuracy_score(df1_ytest, y_pred_gnb10) )\n",
        "print(\"Precision Score: \",precision_score(df1_ytest, y_pred_gnb10, average='macro'))\n",
        "print(\"F1 Score: \",f1_score(df1_ytest, y_pred_gnb10, average='macro'))\n",
        "print(\"Recall: \",recall_score(df1_ytest, y_pred_gnb10, average='macro'))\n"
      ],
      "execution_count": null,
      "outputs": [
        {
          "output_type": "stream",
          "text": [
            "\t\tGaussain Naive Bayes Analysis of UNSW-NB15\n",
            "\n",
            "\t\tTop 10 Features \n",
            "Confusion Matrix :\n",
            "[[   75     0     0     0     0     0     0   573    29     0]\n",
            " [   48     0     0     0     5     0     1   509    20     0]\n",
            " [  497     0     7    70   145     0   133  3108   129     0]\n",
            " [  464     0    32   291   830     0  1686  7679   150     0]\n",
            " [  207     0     0    46   677     0     8  4877   247     0]\n",
            " [ 3241     0     1    13    94     0   158 15342    22     0]\n",
            " [  537     0     0   478  1726     5 14926 18681   647     0]\n",
            " [  215     0     0     2    14    46     6  3202    11     0]\n",
            " [   10     0     0     0    11     0     0   311    46     0]\n",
            " [    0     0     0     0     2     0     7    33     2     0]]\n",
            "Accuracy Score : 0.2334936598163533\n",
            "Precision Score:  0.16818543254569654\n",
            "F1 Score:  0.09375138218594578\n",
            "Recall:  0.16913173617946867\n"
          ],
          "name": "stdout"
        },
        {
          "output_type": "stream",
          "text": [
            "/usr/local/lib/python3.7/dist-packages/sklearn/metrics/_classification.py:1272: UndefinedMetricWarning:\n",
            "\n",
            "Precision is ill-defined and being set to 0.0 in labels with no predicted samples. Use `zero_division` parameter to control this behavior.\n",
            "\n"
          ],
          "name": "stderr"
        }
      ]
    },
    {
      "cell_type": "code",
      "metadata": {
        "colab": {
          "base_uri": "https://localhost:8080/"
        },
        "id": "nZUmRijOs2VE",
        "outputId": "0f84eebd-2cf6-4a70-ff8e-abbecf227b89"
      },
      "source": [
        "bayes_20 = GaussianNB()\n",
        "bayes_20.fit(df2_xtrain,df2_ytrain)\n",
        "\n",
        "print (\"\\t\\tGaussian Naive Bayes Analysis of UNSW-NB15\\n\\n\\t\\tTop 20 Features \")\n",
        "\n",
        "y_pred_gnb20 = bayes_20.predict(df2_xtest)\n",
        "\n",
        "pickle.dump(bayes_20, open(\"bayes_20.sav\", 'wb'))   #save model\n",
        "\n",
        "#print (\"\\t\\tMajor Verifcation KDD99 10% GNB\")\n",
        "results = confusion_matrix(df2_ytest, y_pred_gnb20) \n",
        "print ('Confusion Matrix :')\n",
        "print(results)\n",
        "\n",
        "print ('Accuracy Score :',accuracy_score(df2_ytest, y_pred_gnb20) )\n",
        "print(\"Precision Score: \",precision_score(df2_ytest, y_pred_gnb20, average='macro'))\n",
        "print(\"F1 Score: \",f1_score(df2_ytest, y_pred_gnb20, average='macro'))\n",
        "print(\"Recall: \",recall_score(df2_ytest, y_pred_gnb20, average='macro'))"
      ],
      "execution_count": null,
      "outputs": [
        {
          "output_type": "stream",
          "text": [
            "\t\tGaussian Naive Bayes Analysis of UNSW-NB15\n",
            "\n",
            "\t\tTop 20 Features \n",
            "Confusion Matrix :\n",
            "[[    0   606     0     0     4    13     0    54     0     0]\n",
            " [    0   520     0     0     1    10     1    51     0     0]\n",
            " [    0  2907    20    74    73    58    83   874     0     0]\n",
            " [    0  3177    64   423   452    57  1157  5799     0     3]\n",
            " [    0  1831     0    36   897    49     1  3248     0     0]\n",
            " [    0 17695     7    26    97   553   118   373     0     2]\n",
            " [    0  4851   137   359  2121   264 12607 16642     1    18]\n",
            " [    0  1575     0     4     9    51     3  1854     0     0]\n",
            " [    0   159     0     0    20     5     0   192     2     0]\n",
            " [    0     4     0     0     2     0     6    31     0     1]]\n",
            "Accuracy Score : 0.20498712529757568\n",
            "Precision Score:  0.30018734498583144\n",
            "F1 Score:  0.09980681588758283\n",
            "Recall:  0.20111715485364745\n"
          ],
          "name": "stdout"
        },
        {
          "output_type": "stream",
          "text": [
            "/usr/local/lib/python3.7/dist-packages/sklearn/metrics/_classification.py:1272: UndefinedMetricWarning:\n",
            "\n",
            "Precision is ill-defined and being set to 0.0 in labels with no predicted samples. Use `zero_division` parameter to control this behavior.\n",
            "\n"
          ],
          "name": "stderr"
        }
      ]
    },
    {
      "cell_type": "code",
      "metadata": {
        "colab": {
          "base_uri": "https://localhost:8080/"
        },
        "id": "VcEkvsRBs2YC",
        "outputId": "c497c7a9-ecdf-41a8-da29-a37f70d749bf"
      },
      "source": [
        "bayes_all = GaussianNB()\n",
        "bayes_all.fit(df3_xtrain,df3_ytrain)\n",
        "\n",
        "print (\"\\t\\tGaussian Naive Bayes Analysis of UNSW-NB15\\n\\n\\t\\tAll Features \")\n",
        "y_pred_gnball = bayes_all.predict(df3_xtest)\n",
        "\n",
        "pickle.dump(bayes_all, open(\"bayes_all.sav\", 'wb'))   #save model\n",
        "\n",
        "#print (\"\\t\\tMajor Verifcation KDD99 10% GNB\")\n",
        "results = confusion_matrix(df3_ytest, y_pred_gnball) \n",
        "print ('Confusion Matrix :')\n",
        "print(results)\n",
        "\n",
        "print ('Accuracy Score :',accuracy_score(df3_ytest, y_pred_gnball) )\n",
        "print(\"Precision Score: \",precision_score(df3_ytest, y_pred_gnball, average='macro'))\n",
        "print(\"F1 Score: \",f1_score(df3_ytest, y_pred_gnball, average='macro'))\n",
        "print(\"Recall: \",recall_score(df3_ytest, y_pred_gnball, average='macro'))"
      ],
      "execution_count": null,
      "outputs": [
        {
          "output_type": "stream",
          "text": [
            "\t\tGaussian Naive Bayes Analysis of UNSW-NB15\n",
            "\n",
            "\t\tAll Features \n",
            "Confusion Matrix :\n",
            "[[    0   606     0     0     4    13     0    54     0     0]\n",
            " [    0   520     0     0     1    10     1    51     0     0]\n",
            " [    0  2907    22    63    75    51    84   884     0     3]\n",
            " [    0  3177    62   223   478    55  1273  5852     0    12]\n",
            " [    0  1853     0    28   905    27     1  3248     0     0]\n",
            " [    0 17695     8    12    98   553   128   376     0     1]\n",
            " [    0  5065   149    75  2137    15 12817 16712     5    25]\n",
            " [    0  1575     0     2     9    51     5  1854     0     0]\n",
            " [    0   159     0     0    20     4     0   192     3     0]\n",
            " [    0     4     1     0     2     0     5    31     0     1]]\n",
            "Accuracy Score : 0.20524219015692563\n",
            "Precision Score:  0.29699325663164\n",
            "F1 Score:  0.09720051271184418\n",
            "Recall:  0.20033353169712004\n"
          ],
          "name": "stdout"
        },
        {
          "output_type": "stream",
          "text": [
            "/usr/local/lib/python3.7/dist-packages/sklearn/metrics/_classification.py:1272: UndefinedMetricWarning:\n",
            "\n",
            "Precision is ill-defined and being set to 0.0 in labels with no predicted samples. Use `zero_division` parameter to control this behavior.\n",
            "\n"
          ],
          "name": "stderr"
        }
      ]
    },
    {
      "cell_type": "code",
      "metadata": {
        "id": "D1DehUCas2bP"
      },
      "source": [
        "#Random Forest Classifier \n"
      ],
      "execution_count": null,
      "outputs": []
    },
    {
      "cell_type": "code",
      "metadata": {
        "colab": {
          "base_uri": "https://localhost:8080/"
        },
        "id": "5eCGklXTuKYb",
        "outputId": "c6f14eeb-8904-41b3-8ec1-d50d4ce035c2"
      },
      "source": [
        "print (\"\\t\\tRandom Forest Analysis of UNSW-NB15\\n\\n\\t\\tTop 10 Features \")\n",
        "\n",
        "#Create a Gaussian Classifier\n",
        "clfRF_10=RandomForestClassifier()\n",
        "\n",
        "#Train the model using the training sets y_pred=clf.predict(X_test)\n",
        "clfRF_10.fit(df1_xtrain,df1_ytrain)\n",
        "\n",
        "y_pred_RF10=clfRF_10.predict(df1_xtest)\n",
        "#print(\"Accuracy Random Forest:\",metrics.accuracy_score(y_test, y_pred_RF))\n",
        "\n",
        "pickle.dump(clfRF_10, open(\"clfRF_10.sav\", 'wb'))   #save model\n",
        "\n",
        "results_10 = confusion_matrix(df1_ytest, y_pred_RF10) \n",
        "print ('Confusion Matrix :')\n",
        "print(results_10) \n",
        "print ('Accuracy Score :',accuracy_score(df1_ytest, y_pred_RF10) )\n",
        "print(\"Precision Score: \",precision_score(df1_ytest, y_pred_RF10, average='macro'))\n",
        "print(\"F1 Score: \",f1_score(df1_ytest, y_pred_RF10, average='macro'))\n",
        "print(\"Recall: \",recall_score(df1_ytest, y_pred_RF10, average='macro'))"
      ],
      "execution_count": null,
      "outputs": [
        {
          "output_type": "stream",
          "text": [
            "\t\tRandom Forest Analysis of UNSW-NB15\n",
            "\n",
            "\t\tTop 10 Features \n",
            "Confusion Matrix :\n",
            "[[   32   113    19    50   407     0    36    17     3     0]\n",
            " [   25    68    13    17   412     3    24    14     7     0]\n",
            " [  388  1293   555   795   811    15    39   146    46     1]\n",
            " [  382  1204   245  7530  1244    19   147   277    79     5]\n",
            " [   86   209    36   422  3965     8  1069    34   233     0]\n",
            " [    5     8    41   415    60 18312     9     1    18     2]\n",
            " [  317     0    56   712  7419     5 28356    11   123     1]\n",
            " [   48   166    32   329    86     0    17  2789    29     0]\n",
            " [    0     1    11    50    34     0     9     2   270     1]\n",
            " [    0     0     0    19     1     2     1     0     0    21]]\n",
            "Accuracy Score : 0.7518097459068163\n",
            "Precision Score:  0.5411389698559282\n",
            "F1 Score:  0.504689487509652\n",
            "Recall:  0.5356221846909366\n"
          ],
          "name": "stdout"
        }
      ]
    },
    {
      "cell_type": "code",
      "metadata": {
        "colab": {
          "base_uri": "https://localhost:8080/"
        },
        "id": "jYQ8JD5ruKl8",
        "outputId": "002701ab-b6ee-4fbe-cb73-6beb27ef9e72"
      },
      "source": [
        "print (\"\\t\\tRandom Forest Analysis of UNSW-NB15\\n\\n\\t\\tTop 20 Features \")\n",
        "\n",
        "#Create a Gaussian Classifier\n",
        "clfRF_20=RandomForestClassifier()\n",
        "\n",
        "#Train the model using the training sets y_pred=clf.predict(X_test)\n",
        "clfRF_20.fit(df2_xtrain,df2_ytrain)\n",
        "\n",
        "y_pred_RF20=clfRF_20.predict(df2_xtest)\n",
        "#print(\"Accuracy Random Forest:\",metrics.accuracy_score(y_test, y_pred_RF))\n",
        "\n",
        "pickle.dump(clfRF_20, open(\"clfRF_20.sav\", 'wb'))   #save model\n",
        "\n",
        "results_20 = confusion_matrix(df2_ytest, y_pred_RF20) \n",
        "print ('Confusion Matrix :')\n",
        "print(results_20) \n",
        "print ('Accuracy Score :',accuracy_score(df2_ytest, y_pred_RF20) )\n",
        "print(\"Precision Score: \",precision_score(df2_ytest, y_pred_RF20, average='macro'))\n",
        "print(\"F1 Score: \",f1_score(df2_ytest, y_pred_RF20, average='macro'))\n",
        "print(\"Recall: \",recall_score(df2_ytest, y_pred_RF20, average='macro'))"
      ],
      "execution_count": null,
      "outputs": [
        {
          "output_type": "stream",
          "text": [
            "\t\tRandom Forest Analysis of UNSW-NB15\n",
            "\n",
            "\t\tTop 20 Features \n",
            "Confusion Matrix :\n",
            "[[   43   218     4    52   267     0    15    75     3     0]\n",
            " [   37   147     8    21   283     0     7    74     6     0]\n",
            " [  499  1460   452   827   591     7    29   183    40     1]\n",
            " [  498  1417   121  7620   926    13    97   364    72     4]\n",
            " [  123   377    16   353  3949     2   874   150   218     0]\n",
            " [    4     9    42   376    62 18337     9    11    18     3]\n",
            " [  417     1    31   746  7766     6 27896     6   131     0]\n",
            " [   60   177    20   316    73     0     6  2821    23     0]\n",
            " [    0     1    11    52    43     0     8     2   260     1]\n",
            " [    0     0     0    28     2     1     2     0     0    11]]\n",
            "Accuracy Score : 0.7474129135694505\n",
            "Precision Score:  0.5336292995539532\n",
            "F1 Score:  0.48073545877717044\n",
            "Recall:  0.5232549794678787\n"
          ],
          "name": "stdout"
        }
      ]
    },
    {
      "cell_type": "code",
      "metadata": {
        "colab": {
          "base_uri": "https://localhost:8080/"
        },
        "id": "EpJHXBBTuKvd",
        "outputId": "0e0b06e2-cabe-409b-a172-4195700a0c26"
      },
      "source": [
        "print (\"\\t\\tRandom Forest Analysis of UNSW-NB15\\n\\n\\t\\tTop 30 Features \")\n",
        "\n",
        "#Create a Random Forest Classifier\n",
        "clfRF_all=RandomForestClassifier()\n",
        "\n",
        "#Train the model using the training sets y_pred=clf.predict(X_test)\n",
        "clfRF_all.fit(df3_xtrain,df3_ytrain)\n",
        "\n",
        "y_pred_RFall=clfRF_all.predict(df3_xtest)\n",
        "#print(\"Accuracy Random Forest:\",metrics.accuracy_score(y_test, y_pred_RF))\n",
        "\n",
        "pickle.dump(clfRF_all, open(\"clfRF_all.sav\", 'wb'))   #save model\n",
        "\n",
        "results_all = confusion_matrix(df3_ytest, y_pred_RFall) \n",
        "print ('Confusion Matrix :')\n",
        "print(results_all) \n",
        "print ('Accuracy Score :',accuracy_score(df3_ytest, y_pred_RFall) )\n",
        "print(\"Precision Score: \",precision_score(df3_ytest, y_pred_RFall, average='macro'))\n",
        "print(\"F1 Score: \",f1_score(df3_ytest, y_pred_RFall, average='macro'))\n",
        "print(\"Recall: \",recall_score(df3_ytest, y_pred_RFall, average='macro'))"
      ],
      "execution_count": null,
      "outputs": [
        {
          "output_type": "stream",
          "text": [
            "\t\tRandom Forest Analysis of UNSW-NB15\n",
            "\n",
            "\t\tTop 30 Features \n",
            "Confusion Matrix :\n",
            "[[   64   207    12    69   251     0     4    67     3     0]\n",
            " [   64   122    15    31   274     0     1    70     6     0]\n",
            " [  308  1694   471   782   583     5    30   168    48     0]\n",
            " [  365  1635   134  7597   873    11    85   361    70     1]\n",
            " [  150   357    34   381  3915     3   868   141   213     0]\n",
            " [    1     7    41   409    61 18318     6     5    21     2]\n",
            " [  457     0    27   741  7676     5 27962     7   125     0]\n",
            " [   34   211    18   314    72     1     7  2816    23     0]\n",
            " [    0     0     9    62    44     0     5     2   255     1]\n",
            " [    0     0     0    32     3     1     1     0     0     7]]\n",
            "Accuracy Score : 0.7473036000583005\n",
            "Precision Score:  0.5414219325543516\n",
            "F1 Score:  0.47283750146953335\n",
            "Recall:  0.5112869275363296\n"
          ],
          "name": "stdout"
        }
      ]
    },
    {
      "cell_type": "code",
      "metadata": {
        "id": "v6N3Y69QuLDL"
      },
      "source": [
        "#Logistic Regression Classifier \n"
      ],
      "execution_count": null,
      "outputs": []
    },
    {
      "cell_type": "code",
      "metadata": {
        "colab": {
          "base_uri": "https://localhost:8080/"
        },
        "id": "GJHJebbCuSZr",
        "outputId": "90f07444-1bb7-4312-d96c-016ec6dfb04f"
      },
      "source": [
        "print (\"\\t\\tLogistic Regression Analysis of UNSW-NB15\\n\\n\\t\\tTop 10 Features \")\n",
        "\n",
        "logisticRegr_10 = LogisticRegression(C=1e5, solver='newton-cg',max_iter=1000, multi_class='multinomial')\n",
        "\n",
        "logisticRegr_10.fit(df1_xtrain,df1_ytrain)\n",
        "\n",
        "y_pred_LR10 = logisticRegr_10.predict(df1_xtest)\n",
        "\n",
        "results_LR10 = confusion_matrix(df1_ytest, y_pred_LR10) \n",
        "print ('Confusion Matrix :')\n",
        "print(results_LR10) \n",
        "print ('Accuracy Score :',accuracy_score(df1_ytest, y_pred_LR10) )\n",
        "print(\"Precision Score: \",precision_score(df1_ytest, y_pred_LR10, average='macro'))\n",
        "print(\"F1 Score: \",f1_score(df1_ytest, y_pred_LR10, average='macro'))\n",
        "print(\"Recall: \",recall_score(df1_ytest, y_pred_LR10, average='macro'))"
      ],
      "execution_count": null,
      "outputs": [
        {
          "output_type": "stream",
          "text": [
            "\t\tLogistic Regression Analysis of UNSW-NB15\n",
            "\n",
            "\t\tTop 10 Features \n"
          ],
          "name": "stdout"
        },
        {
          "output_type": "stream",
          "text": [
            "/usr/local/lib/python3.7/dist-packages/scipy/optimize/linesearch.py:466: LineSearchWarning:\n",
            "\n",
            "The line search algorithm did not converge\n",
            "\n",
            "/usr/local/lib/python3.7/dist-packages/scipy/optimize/linesearch.py:314: LineSearchWarning:\n",
            "\n",
            "The line search algorithm did not converge\n",
            "\n"
          ],
          "name": "stderr"
        }
      ]
    },
    {
      "cell_type": "code",
      "metadata": {
        "id": "_xO1WIT4uScz"
      },
      "source": [
        "print (\"\\t\\tLogistic Regression Analysis of UNSW NB15\\n\\n\\t\\tTop 20 Features \")\n",
        "\n",
        "logisticRegr_20 = LogisticRegression(C=1e5, solver='newton-cg',max_iter=1000, multi_class='multinomial')\n",
        "\n",
        "logisticRegr_20.fit(df2_xtrain,df2_ytrain)\n",
        "\n",
        "y_pred_LR20 = logisticRegr_20.predict(df2_xtest)\n",
        "\n",
        "results_LR20 = confusion_matrix(df2_ytest, y_pred_LR20) \n",
        "print ('Confusion Matrix :')\n",
        "print(results_LR20) \n",
        "print ('Accuracy Score :',accuracy_score(df2_ytest, y_pred_LR20) )\n",
        "print(\"Precision Score: \",precision_score(df2_ytest, y_pred_LR20, average='macro'))\n",
        "print(\"F1 Score: \",f1_score(df2_ytest, y_pred_LR20, average='macro'))\n",
        "print(\"Recall: \",recall_score(df2_ytest, y_pred_LR20, average='macro'))\n"
      ],
      "execution_count": null,
      "outputs": []
    },
    {
      "cell_type": "code",
      "metadata": {
        "id": "nQspOp75uSgf"
      },
      "source": [
        "print (\"\\t\\tLogistic Regression Analysis of UNSW-NB15\\n\\n\\t\\tTop 30 Features \")\n",
        "\n",
        "logisticRegr_all = LogisticRegression(C=1e5, solver='Newton-cg', multi_class='multinomial')\n",
        "\n",
        "logisticRegr_all.fit(df3_xtrain,df3_ytrain)\n",
        "\n",
        "y_pred_LRall = logisticRegr_all.predict(df3_xtest)\n",
        "\n",
        "results_LRall = confusion_matrix(df3_ytest, y_pred_LRall) \n",
        "print ('Confusion Matrix :')\n",
        "print(results_LRall) \n",
        "print ('Accuracy Score :',accuracy_score(df3_ytest, y_pred_LRall) )\n",
        "print(\"Precision Score: \",precision_score(df3_ytest, y_pred_LRall, average='macro'))\n",
        "print(\"F1 Score: \",f1_score(df3_ytest, y_pred_LRall, average='macro'))\n",
        "print(\"Recall: \",recall_score(df3_ytest, y_pred_LRall, average='macro'))\n",
        "\n"
      ],
      "execution_count": null,
      "outputs": []
    },
    {
      "cell_type": "code",
      "metadata": {
        "id": "DjkKak0CuSwM"
      },
      "source": [
        "#CNN 1D\n",
        "from keras.models import Sequential\n",
        "from keras.layers import Dense,Dropout\n",
        "from keras.layers import Conv1D,GlobalAveragePooling1D,MaxPooling1D\n",
        "import numpy as np\n",
        "import pandas as pd\n",
        "from sklearn.preprocessing import Normalizer"
      ],
      "execution_count": null,
      "outputs": []
    },
    {
      "cell_type": "code",
      "metadata": {
        "id": "pGP95o1QuZ1i"
      },
      "source": [
        "scaler=Normalizer().fit(df1)\n",
        "x_train=scaler.transform(train)\n",
        "scaler=Normalizer().fit(test)\n",
        "x_test=scaler.transform(test)\n",
        "x=np.expand_dims(x_train,axis=2)\n",
        "y=np.expand_dims(x_test,axis=2)\n",
        "\n",
        "tr_lb=np.reshape(train_lb,494021)\n",
        "te_lb=np.reshape(test_lb,20000)\n",
        "\n",
        "cnn_1D=Sequential()\n",
        "cnn_1D.add(Conv1D(64,1,activation='relu',input_shape=(8,1)))\n",
        "cnn_1D.add(Conv1D(64,1,activation='relu'))\n",
        "cnn_1D.add(MaxPooling1D(3))\n",
        "cnn_1D.add(Conv1D(64,1,activation='relu'))\n",
        "cnn_1D.add(Conv1D(64,1,activation='relu'))\n",
        "cnn_1D.add(GlobalAveragePooling1D())\n",
        "cnn_1D.add(Dropout(0.5))\n",
        "cnn_1D.add(Dense(6,activation='sigmoid'))\n",
        "cnn_1D.compile(\n",
        "    loss='sparse_categorical_crossentropy',\n",
        "    optimizer='rmsprop',\n",
        "    metrics=(['accuracy'])\n",
        ")\n",
        "cnn_1D.fit(x,tr_lb,batch_size=80,epochs=30)\n",
        "score=cnn_1D.evaluate(y,te_lb,batch_size=80)\n",
        "print(score)"
      ],
      "execution_count": null,
      "outputs": []
    },
    {
      "cell_type": "code",
      "metadata": {
        "id": "CS0Gt8XauZ5P"
      },
      "source": [
        ""
      ],
      "execution_count": null,
      "outputs": []
    },
    {
      "cell_type": "code",
      "metadata": {
        "id": "6tc7MPIluZ9m"
      },
      "source": [
        ""
      ],
      "execution_count": null,
      "outputs": []
    },
    {
      "cell_type": "code",
      "metadata": {
        "id": "qWHpLmjVuaML"
      },
      "source": [
        ""
      ],
      "execution_count": null,
      "outputs": []
    },
    {
      "cell_type": "code",
      "metadata": {
        "id": "0EdgdNfGuaUk"
      },
      "source": [
        ""
      ],
      "execution_count": null,
      "outputs": []
    }
  ]
}