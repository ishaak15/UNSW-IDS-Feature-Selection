{
  "nbformat": 4,
  "nbformat_minor": 0,
  "metadata": {
    "accelerator": "TPU",
    "colab": {
      "name": "Copy of Training and Testing.ipynb",
      "provenance": [],
      "collapsed_sections": [],
      "include_colab_link": true
    },
    "kernelspec": {
      "display_name": "Python 3",
      "name": "python3"
    },
    "language_info": {
      "name": "python"
    }
  },
  "cells": [
    {
      "cell_type": "markdown",
      "metadata": {
        "id": "view-in-github",
        "colab_type": "text"
      },
      "source": [
        "<a href=\"https://colab.research.google.com/github/ishaak15/UNSW-IDS-Feature-Selection/blob/main/Copy_of_Training_and_Testing.ipynb\" target=\"_parent\"><img src=\"https://colab.research.google.com/assets/colab-badge.svg\" alt=\"Open In Colab\"/></a>"
      ]
    },
    {
      "cell_type": "code",
      "metadata": {
        "id": "RupDMUtc2mgK"
      },
      "source": [
        "import numpy as np \n",
        "import matplotlib\n",
        "import matplotlib.pyplot as plt\n",
        "import os\n",
        "import math\n",
        "import pandas as pd\n",
        "from sklearn.decomposition import PCA\n",
        "from sklearn.model_selection import cross_validate\n",
        "from sklearn import datasets, preprocessing, feature_extraction, neighbors\n",
        "from sklearn import linear_model, svm, metrics, ensemble, tree, ensemble\n",
        "from sklearn.model_selection import train_test_split\n",
        "from copy import copy\n",
        "import urllib\n",
        "import csv\n",
        "\n",
        "import seaborn as sns\n",
        "from sklearn.preprocessing import LabelEncoder\n",
        "import matplotlib.pyplot as plt\n",
        "import plotly.graph_objs as go\n",
        "\n",
        "from sklearn.tree import DecisionTreeClassifier # Import Decision Tree Classifier\n",
        "from sklearn.model_selection import train_test_split # Import train_test_split function\n",
        "from sklearn import metrics #Import scikit-learn metrics module for accuracy calculation\n",
        "\n",
        "from sklearn.metrics import confusion_matrix \n",
        "from sklearn.metrics import accuracy_score \n",
        "from sklearn.metrics import classification_report \n",
        "\n",
        "\n",
        "from sklearn.naive_bayes import GaussianNB\n",
        "from yellowbrick.classifier import ClassificationReport\n",
        "\n",
        "from sklearn.ensemble import RandomForestClassifier\n",
        "from sklearn.linear_model import LogisticRegression\n",
        "from sklearn.model_selection import train_test_split \n",
        "from sklearn.naive_bayes import GaussianNB \n",
        "from sklearn.linear_model import LogisticRegression\n",
        "from sklearn.svm import SVC # \"Support Vector Classifier\" \n",
        "from sklearn.ensemble import AdaBoostClassifier\n",
        "from sklearn.ensemble import ExtraTreesClassifier\n",
        "\n",
        "from sklearn.feature_selection import SelectKBest\n",
        "from sklearn.feature_selection import chi2\n",
        "\n",
        "from zipfile import ZipFile\n",
        "import collections\n",
        "\n",
        "from sklearn.feature_selection import RFE\n",
        "from sklearn.linear_model import LogisticRegression\n",
        "\n",
        "from sklearn.metrics import confusion_matrix \n",
        "from sklearn.metrics import accuracy_score \n",
        "from sklearn.metrics import classification_report \n",
        "from sklearn.metrics import classification_report\n",
        "from sklearn.metrics import precision_recall_fscore_support\n",
        "from sklearn.metrics import recall_score\n",
        "from sklearn.metrics import precision_score\n",
        "from sklearn.metrics import f1_score\n"
      ],
      "execution_count": 44,
      "outputs": []
    },
    {
      "cell_type": "code",
      "metadata": {
        "colab": {
          "base_uri": "https://localhost:8080/"
        },
        "id": "FUKlYohz7Ge3",
        "outputId": "fb822b35-424e-4b44-a72f-35ba7c0f26a0"
      },
      "source": [
        "!git clone https://github.com/ishaak15/UNSW-IDS-Feature-Selection.git"
      ],
      "execution_count": null,
      "outputs": [
        {
          "output_type": "stream",
          "text": [
            "Cloning into 'UNSW-IDS-Feature-Selection'...\n",
            "remote: warning: multi-pack bitmap is missing required reverse index\u001b[K\n",
            "remote: Enumerating objects: 103, done.\u001b[K\n",
            "remote: Counting objects: 100% (103/103), done.\u001b[K\n",
            "remote: Compressing objects: 100% (82/82), done.\u001b[K\n",
            "remote: Total 103 (delta 54), reused 35 (delta 20), pack-reused 0\u001b[K\n",
            "Receiving objects: 100% (103/103), 40.30 MiB | 18.90 MiB/s, done.\n",
            "Resolving deltas: 100% (54/54), done.\n"
          ],
          "name": "stdout"
        }
      ]
    },
    {
      "cell_type": "code",
      "metadata": {
        "colab": {
          "base_uri": "https://localhost:8080/"
        },
        "id": "zVKdVCIQIVl8",
        "outputId": "88f81063-35d7-4b7c-9f7a-a01ce37e1741"
      },
      "source": [
        "cd UNSW-IDS-Feature-Selection/"
      ],
      "execution_count": null,
      "outputs": [
        {
          "output_type": "stream",
          "text": [
            "/content/UNSW-IDS-Feature-Selection\n"
          ],
          "name": "stdout"
        }
      ]
    },
    {
      "cell_type": "code",
      "metadata": {
        "colab": {
          "base_uri": "https://localhost:8080/"
        },
        "id": "6CrTS2MAIetl",
        "outputId": "819e355b-fc1d-49a8-acc7-7b9fa18c8c06"
      },
      "source": [
        "ls"
      ],
      "execution_count": null,
      "outputs": [
        {
          "output_type": "stream",
          "text": [
            "bayes_10.sav   clfKNN_all.sav                      Testset1.csv\n",
            "bayes_20.sav   Copy_of_Training_and_Testing.ipynb  Testset2.csv\n",
            "bayes_all.sav  Dataset1.csv                        Testset3.csv\n",
            "clfDT_10.sav   Dataset2.csv                        Training_and_Testing.ipynb\n",
            "clfDT_20.sav   Dataset3.csv                        UNSW_IDS_analysis.ipynb\n",
            "clfDT_all.sav  LICENSE                             UNSW_NB15_testing-set.csv\n",
            "clfKNN10.sav   Models_Training_and_Testing.ipynb\n",
            "clfKNN20.sav   README.md\n"
          ],
          "name": "stdout"
        }
      ]
    },
    {
      "cell_type": "code",
      "metadata": {
        "id": "PR7ddO_b-TYh"
      },
      "source": [
        "df1 = pd.read_csv('Dataset1.csv',index_col=0)\n",
        "df2 = pd.read_csv('Dataset2.csv',index_col=0)\n",
        "df3 = pd.read_csv('Dataset3.csv',index_col=0)"
      ],
      "execution_count": null,
      "outputs": []
    },
    {
      "cell_type": "code",
      "metadata": {
        "id": "sK7zk_s0-2Go"
      },
      "source": [
        "tf1 = pd.read_csv('Testset1.csv',index_col=0)\n",
        "tf2 = pd.read_csv('Testset2.csv',index_col=0)\n",
        "tf3 = pd.read_csv('Testset3.csv',index_col=0)"
      ],
      "execution_count": null,
      "outputs": []
    },
    {
      "cell_type": "code",
      "metadata": {
        "id": "DVJCwCx5DkD6"
      },
      "source": [
        "df1_xtrain=df1.iloc[: , :-1]\n",
        "df1_ytrain=df1.iloc[:,-1]\n",
        "df2_xtrain=df2.iloc[: , :-1]\n",
        "df2_ytrain=df2.iloc[:,-1]\n",
        "df3_xtrain=df3.iloc[: , :-1]\n",
        "df3_ytrain=df3.iloc[:,-1]"
      ],
      "execution_count": null,
      "outputs": []
    },
    {
      "cell_type": "code",
      "metadata": {
        "id": "N2Q5ICJvIsgs"
      },
      "source": [
        "df1_xtest=tf1.iloc[: , :-1]\n",
        "df1_ytest=tf1.iloc[:,-1]\n",
        "df2_xtest=tf2.iloc[: , :-1]\n",
        "df2_ytest=tf2.iloc[:,-1]\n",
        "df3_xtest=tf3.iloc[: , :-1]\n",
        "df3_ytest=tf3.iloc[:,-1]"
      ],
      "execution_count": null,
      "outputs": []
    },
    {
      "cell_type": "code",
      "metadata": {
        "id": "w-ZMD59m4V2o"
      },
      "source": [
        "#KNN"
      ],
      "execution_count": null,
      "outputs": []
    },
    {
      "cell_type": "code",
      "metadata": {
        "colab": {
          "base_uri": "https://localhost:8080/"
        },
        "id": "9eg-WFEcsYCS",
        "outputId": "3c962068-63c8-45fd-a6f7-74922a95c473"
      },
      "source": [
        "clfKNN10=neighbors.KNeighborsClassifier()\n",
        "clfKNN10.fit(df1_xtrain,df1_ytrain)\n",
        "#clfKNN10.fit(df1_xtrain,df1_ytrain)\n",
        "\n",
        "print (\"\\t\\tKNN Classification of UNSW-NB15\\n\\n\\t\\tTop 15 Features \")\n",
        "\n",
        "yt_pred_10 = clfKNN10.predict(df1_xtest)\n",
        "results = confusion_matrix(df1_ytest, yt_pred_10) \n",
        "print ('Confusion Matrix :')\n",
        "print(results) \n",
        "\n",
        "\n",
        "accKNN10=accuracy_score(df1_ytest,yt_pred_10)\n",
        "print(\"Accuracy: \",accKNN10)\n",
        "preKNN10=precision_score(df1_ytest, yt_pred_10, average='macro')\n",
        "print(\"Precision Score: \",preKNN10)\n",
        "f1KNN10=f1_score(df1_ytest, yt_pred_10, average='macro')\n",
        "print(\"F1 Score: \",f1KNN10)\n",
        "reKNN10=recall_score(df1_ytest, yt_pred_10, average='macro')  \n",
        "print(\"Recall: \",reKNN10)\n"
      ],
      "execution_count": null,
      "outputs": [
        {
          "output_type": "stream",
          "text": [
            "\t\tKNN Classification of UNSW-NB15\n",
            "\n",
            "\t\tTop 15 Features \n",
            "Confusion Matrix :\n",
            "[[  208   131    42    58   129    16    32    61     0     0]\n",
            " [  198   121    13    49   134    18    16    33     1     0]\n",
            " [  822   758   472   913   502    21   202   372    27     0]\n",
            " [  955   835   503  6664   944    39   616   540    33     3]\n",
            " [  444   315    97   469  3357    54  1111   164    50     1]\n",
            " [   17    11    34   375   168 18078   140    44     4     0]\n",
            " [  496    52   218  1986  7076    20 26822   233    93     4]\n",
            " [   82   102    51   324   117     5    71  2737     5     2]\n",
            " [    5     7    12    50   161     6    51    32    54     0]\n",
            " [    0     1     2    26    11     0     3     0     0     1]]\n",
            "Accuracy:  0.7107078657144246\n",
            "Precision Score:  0.41756373950870634\n",
            "F1 Score:  0.4023931552335053\n",
            "Recall:  0.44140047486900985\n"
          ],
          "name": "stdout"
        }
      ]
    },
    {
      "cell_type": "code",
      "metadata": {
        "id": "gxUUKcyegAMb"
      },
      "source": [
        ""
      ],
      "execution_count": null,
      "outputs": []
    },
    {
      "cell_type": "code",
      "metadata": {
        "colab": {
          "base_uri": "https://localhost:8080/"
        },
        "id": "kBj8htUIsYM0",
        "outputId": "dccf57b3-8b12-4763-a1d9-a804af686284"
      },
      "source": [
        "clfKNN20=neighbors.KNeighborsClassifier()\n",
        "clfKNN20.fit(df2_xtrain,df2_ytrain)\n",
        "\n",
        "print (\"\\t\\tKNN Analysis of UNSW-NB15\\n\\n\\t\\tTop 30 Features \")\n",
        "\n",
        "y_pred_20 = clfKNN20.predict(df2_xtest)\n",
        "results = confusion_matrix(df2_ytest, y_pred_20) \n",
        "print ('Confusion Matrix :')\n",
        "print(results) \n",
        "\n",
        "\n",
        "accKNN20=accuracy_score(df2_ytest,y_pred_20)\n",
        "print(\"Accuracy: \",accKNN20)\n",
        "preKNN20=precision_score(df2_ytest, y_pred_20, average='macro')\n",
        "print(\"Precision Score: \",preKNN20)\n",
        "f1KNN20=f1_score(df2_ytest, y_pred_20, average='macro')\n",
        "print(\"F1 Score: \",f1KNN20)\n",
        "reKNN20=recall_score(df2_ytest, y_pred_20, average='macro')  \n",
        "print(\"Recall: \",reKNN20)\n"
      ],
      "execution_count": null,
      "outputs": [
        {
          "output_type": "stream",
          "text": [
            "\t\tKNN Analysis of UNSW-NB15\n",
            "\n",
            "\t\tTop 30 Features \n",
            "Confusion Matrix :\n",
            "[[  267   167    15    69   117    16    17     9     0     0]\n",
            " [  251   109     6    65   118    18    11     5     0     0]\n",
            " [ 1150  1136   184   646   494    22   307   129    21     0]\n",
            " [ 1321  1139   396  4316  1854    39  1749   290    28     0]\n",
            " [  599   332   140  2053  1702    56  1023   122    35     0]\n",
            " [   30    22    26   304   220 18083   132    51     3     0]\n",
            " [  132    71   537  7955  4981    21 22760   473    69     1]\n",
            " [  126   152    91   985   400     7   405  1325     5     0]\n",
            " [    7     6    13   109   126     5    52    17    43     0]\n",
            " [    0     0     1    22     8     0    13     0     0     0]]\n",
            "Accuracy:  0.5925885439440315\n",
            "Precision Score:  0.3273066113090913\n",
            "F1 Score:  0.3053129978339978\n",
            "Recall:  0.336096541715301\n"
          ],
          "name": "stdout"
        }
      ]
    },
    {
      "cell_type": "code",
      "metadata": {
        "colab": {
          "base_uri": "https://localhost:8080/"
        },
        "id": "amTNhuAbsYSP",
        "outputId": "418c7de5-06c3-4020-add5-79cd1bd06f22"
      },
      "source": [
        "clfKNN20=neighbors.KNeighborsClassifier()\n",
        "clfKNN20.fit(df3_xtrain,df3_ytrain)\n",
        "\n",
        "print (\"\\t\\tKNN Analysis of UNSW-NB15\\n\\n\\t\\tAll Features \")\n",
        "\n",
        "y_pred_all = clfKNN20.predict(df3_xtest)\n",
        "results = confusion_matrix(df3_ytest, y_pred_all) \n",
        "print ('Confusion Matrix :')\n",
        "print(results) \n",
        "\n",
        "\n",
        "accKNNall=accuracy_score(df3_ytest, y_pred_all)\n",
        "print(\"Accuracy: \",accKNNall)\n",
        "preKNNall=precision_score(df3_ytest, y_pred_all, average='macro')\n",
        "print(\"Precision Score: \",preKNNall)\n",
        "f1KNNall=f1_score(df3_ytest, y_pred_all, average='macro')\n",
        "print(\"F1 Score: \",f1KNNall)\n",
        "reKNNall=recall_score(df3_ytest, y_pred_all, average='macro')  \n",
        "print(\"Recall: \",reKNNall)\n"
      ],
      "execution_count": null,
      "outputs": [
        {
          "output_type": "stream",
          "text": [
            "\t\tKNN Analysis of UNSW-NB15\n",
            "\n",
            "\t\tAll Features \n",
            "Confusion Matrix :\n",
            "[[  336   161     1    44   101    16    17     1     0     0]\n",
            " [  304    98     1    44   105    18    11     2     0     0]\n",
            " [ 1491  1070   101   581   437    22   305    61    21     0]\n",
            " [ 1671  1073   319  4245  1794    39  1743   220    28     0]\n",
            " [  726   307   123  2007  1672    56  1024   112    35     0]\n",
            " [   37    21    26   301   219 18083   130    51     3     0]\n",
            " [  115    55   537  7955  5009    21 22765   473    69     1]\n",
            " [  164   146    81   981   392     7   405  1315     5     0]\n",
            " [    6     3    13   109   132     5    50    16    44     0]\n",
            " [    0     0     1    22     8     0    13     0     0     0]]\n",
            "Accuracy:  0.5910095710051985\n",
            "Precision Score:  0.3265665197965294\n",
            "F1 Score:  0.3034833731074776\n",
            "Recall:  0.34123127222810123\n"
          ],
          "name": "stdout"
        }
      ]
    },
    {
      "cell_type": "code",
      "metadata": {
        "id": "RKy3aGMusYXi"
      },
      "source": [
        "#Decision TREE"
      ],
      "execution_count": null,
      "outputs": []
    },
    {
      "cell_type": "code",
      "metadata": {
        "colab": {
          "base_uri": "https://localhost:8080/"
        },
        "id": "8A2BPc0ksky-",
        "outputId": "6a2a4959-51e2-4729-eeeb-54ce2d109711"
      },
      "source": [
        "clfDT_10 = DecisionTreeClassifier()\n",
        "print (\"\\t\\tDecision Tree Analysis of UNSW-NB15\\n\\n\\t\\tTop 15 Features \")\n",
        "\n",
        "# Train Decision Tree Classifer\n",
        "clfDT_10 = clfDT_10.fit(df1_xtrain,df1_ytrain)\n",
        "\n",
        "#Predict the response for test dataset\n",
        "y_pred_DT10 = clfDT_10.predict(df1_xtest)\n",
        "\n",
        "\n",
        "#print (\"\\t\\tMajor Verifcation\")\n",
        "results_DT10 = confusion_matrix(df1_ytest, y_pred_DT10) \n",
        "print ('Confusion Matrix :')\n",
        "print(results_DT10) \n",
        "\n",
        "\n",
        "accDT10=accuracy_score(df1_ytest, y_pred_DT10)\n",
        "preDT10=precision_score(df1_ytest, y_pred_DT10, average='macro')\n",
        "f1DT10=f1_score(df1_ytest, y_pred_DT10, average='macro')\n",
        "reDT10=recall_score(df1_ytest, y_pred_DT10, average='macro')\n",
        "\n",
        "print ('Accuracy Score :',accDT10 )\n",
        "print(\"Precision Score: \",preDT10)\n",
        "print(\"F1 Score: \",f1DT10)\n",
        "print(\"Recall: \",reDT10)\n",
        "\n"
      ],
      "execution_count": null,
      "outputs": [
        {
          "output_type": "stream",
          "text": [
            "\t\tDecision Tree Analysis of UNSW-NB15\n",
            "\n",
            "\t\tTop 15 Features \n",
            "Confusion Matrix :\n",
            "[[  372    82     1     4   186     0    31     1     0     0]\n",
            " [  318    55     2    11   186     0     6     0     5     0]\n",
            " [ 1485  1026   529   525   386    26    52    22    35     3]\n",
            " [ 1700   968   598  6513   634   115   245   225   118    16]\n",
            " [  719   142   125   533  2926    31  1312     7   262     5]\n",
            " [   21    23    64   227    49 18441    20     4    16     6]\n",
            " [  593    10   838  1141  7351   114 26805    21   126     1]\n",
            " [  158   152    36   265    48     4    35  2757    39     2]\n",
            " [    2     4    16    46    24     5    18     5   258     0]\n",
            " [    0     1     0    11     0     1     1     0     1    29]]\n",
            "Accuracy Score : 0.7127848224262741\n",
            "Precision Score:  0.487937384978942\n",
            "F1 Score:  0.48994700978200656\n",
            "Recall:  0.5672862498406726\n"
          ],
          "name": "stdout"
        }
      ]
    },
    {
      "cell_type": "code",
      "metadata": {
        "colab": {
          "base_uri": "https://localhost:8080/"
        },
        "id": "ZfSSpwm2sk1Y",
        "outputId": "84a14005-9806-4408-fe73-ed3035fc21fc"
      },
      "source": [
        "clfDT_20 = DecisionTreeClassifier()\n",
        "print (\"\\t\\tDecision Tree Analysis of UNSW-NB15\\n\\n\\t\\tTop 30 Features \")\n",
        "\n",
        "# Train Decision Tree Classifer\n",
        "clfDT_20 = clfDT_20.fit(df2_xtrain,df2_ytrain)\n",
        "\n",
        "#Predict the response for test dataset\n",
        "y_pred_DT20 = clfDT_20.predict(df2_xtest)\n",
        "\n",
        "#print (\"\\t\\tMajor Verifcation\")\n",
        "results_DT20 = confusion_matrix(df2_ytest, y_pred_DT20) \n",
        "print ('Confusion Matrix :')\n",
        "print(results_DT20)\n",
        "\n",
        "accDT20=accuracy_score(df2_ytest, y_pred_DT20)\n",
        "preDT20=precision_score(df2_ytest, y_pred_DT20, average='macro')\n",
        "f1DT20=f1_score(df2_ytest, y_pred_DT20, average='macro')\n",
        "reDT20=recall_score(df2_ytest, y_pred_DT20, average='macro')\n",
        "\n",
        "print ('Accuracy Score :',accDT20 )\n",
        "print(\"Precision Score: \",preDT20)\n",
        "print(\"F1 Score: \",f1DT20)\n",
        "print(\"Recall: \",reDT20)"
      ],
      "execution_count": null,
      "outputs": [
        {
          "output_type": "stream",
          "text": [
            "\t\tDecision Tree Analysis of UNSW-NB15\n",
            "\n",
            "\t\tTop 30 Features \n",
            "Confusion Matrix :\n",
            "[[  484   132     0    41     1     3    13     0     3     0]\n",
            " [  473    67     6    11    11     0    11     0     4     0]\n",
            " [ 1727  1055   541   497   101    43    63    26    36     0]\n",
            " [ 2066  1003   710  6430   169   104   305   235    98    12]\n",
            " [ 1026   190    82   391  2654    24  1512    16   167     0]\n",
            " [   28    23    55   204    36 18486    13     6    15     5]\n",
            " [  650    12  1297  1513  7370    56 25903    44   154     1]\n",
            " [  167   152    25   261    26    12    41  2762    49     1]\n",
            " [    1     6    15    52    27     2    16     4   255     0]\n",
            " [    0     0     2    17     0     1     0     1     1    22]]\n",
            "Accuracy Score : 0.6996550551425934\n",
            "Precision Score:  0.4906019080304171\n",
            "F1 Score:  0.48584743257533675\n",
            "Recall:  0.5621899496726721\n"
          ],
          "name": "stdout"
        }
      ]
    },
    {
      "cell_type": "code",
      "metadata": {
        "colab": {
          "base_uri": "https://localhost:8080/"
        },
        "id": "MQrDjJUosk4b",
        "outputId": "54a05eb9-87dd-4f23-9b00-8c40c42218f6"
      },
      "source": [
        "clfDT_all = DecisionTreeClassifier()\n",
        "print (\"\\t\\tDecision Tree Analysis of UNSW-NB15\\n\\n\\t\\tAll Features \")\n",
        "\n",
        "# Train Decision Tree Classifer\n",
        "clfDT_all = clfDT_all.fit(df3_xtrain,df3_ytrain)\n",
        "\n",
        "#Predict the response for test dataset\n",
        "y_pred_DTall = clfDT_all.predict(df3_xtest)\n",
        "\n",
        "#print (\"\\t\\tMajor Verifcation\")\n",
        "results_DTall = confusion_matrix(df3_ytest, y_pred_DTall) \n",
        "print ('Confusion Matrix :')\n",
        "print(results_DTall)\n",
        "\n",
        "accDTall=accuracy_score(df3_ytest, y_pred_DTall)\n",
        "preDTall=precision_score(df3_ytest, y_pred_DTall, average='macro')\n",
        "f1DTall=f1_score(df3_ytest, y_pred_DTall, average='macro')\n",
        "reDTall=recall_score(df3_ytest, y_pred_DTall, average='macro')\n",
        "\n",
        "print ('Accuracy Score :', accDTall)\n",
        "print(\"Precision Score: \",preDTall)\n",
        "print(\"F1 Score: \",f1DTall)\n",
        "print(\"Recall: \",reDTall)"
      ],
      "execution_count": null,
      "outputs": [
        {
          "output_type": "stream",
          "text": [
            "\t\tDecision Tree Analysis of UNSW-NB15\n",
            "\n",
            "\t\tAll Features \n",
            "Confusion Matrix :\n",
            "[[  494   116     1    52     1     1    11     0     1     0]\n",
            " [  486    66     2     8     5     0    13     0     3     0]\n",
            " [ 1694  1128   543   503    57    33    67    26    38     0]\n",
            " [ 2052  1075   537  6557   145    92   354   225    87     8]\n",
            " [ 1042   199    80   334  2728    31  1496     4   148     0]\n",
            " [   24    23    72   243    32 18428    23     5    16     5]\n",
            " [  701    10   120   789  7458    36 27689    52   142     3]\n",
            " [  164   178    30   295    11     2    35  2736    44     1]\n",
            " [    0     7    16    57    30     3    17     4   244     0]\n",
            " [    0     1     5    15     0     1     0     1     0    21]]\n",
            "Accuracy Score : 0.7227566438322888\n",
            "Precision Score:  0.5192968536242446\n",
            "F1 Score:  0.49616596335718227\n",
            "Recall:  0.5644992039501269\n"
          ],
          "name": "stdout"
        }
      ]
    },
    {
      "cell_type": "code",
      "metadata": {
        "id": "0gTs5TBjslQj"
      },
      "source": [
        "#Gaussian Naive Bayes Classifier\n",
        "from sklearn.naive_bayes import MultinomialNB"
      ],
      "execution_count": null,
      "outputs": []
    },
    {
      "cell_type": "code",
      "metadata": {
        "colab": {
          "base_uri": "https://localhost:8080/"
        },
        "id": "AYLJ7YcaopnF",
        "outputId": "bf5e923b-eeef-43f4-9c67-6d4f522fb408"
      },
      "source": [
        "print(df1_ytrain.unique())"
      ],
      "execution_count": null,
      "outputs": [
        {
          "output_type": "stream",
          "text": [
            "[6 1 0 4 8 7 3 2 9 5]\n"
          ],
          "name": "stdout"
        }
      ]
    },
    {
      "cell_type": "code",
      "metadata": {
        "colab": {
          "base_uri": "https://localhost:8080/"
        },
        "id": "_e-LXX4Ls2Sk",
        "outputId": "8915b396-e70b-455c-a06e-d845cc540f34"
      },
      "source": [
        "bayes_10 = MultinomialNB()\n",
        "#bayes_10.partial_fit(df1_xtrain,df1_ytrain,df1_ytrain.unique())\n",
        "bayes_10.fit(df1_xtrain,df1_ytrain)\n",
        "\n",
        "print (\"\\t\\tMultinomial Naive Bayes Analysis of UNSW-NB15\\n\\n\\t\\tTop 15 Features \")\n",
        "y_pred_gnb10 = bayes_10.predict(df1_xtest)\n",
        "\n",
        "#print (\"\\t\\tMajor Verifcation KDD99 10% GNB\")\n",
        "results = confusion_matrix(df1_ytest, y_pred_gnb10) \n",
        "print ('Confusion Matrix :')\n",
        "print(results) \n",
        "\n",
        "accbayes_10=accuracy_score(df1_ytest, y_pred_gnb10) \n",
        "prebayes_10=precision_score(df1_ytest, y_pred_gnb10, average='macro')\n",
        "f1bayes_10=f1_score(df1_ytest, y_pred_gnb10, average='macro')\n",
        "rebayes_10=recall_score(df1_ytest, y_pred_gnb10, average='macro')\n",
        "\n",
        "print ('Accuracy Score :',accbayes_10)\n",
        "print(\"Precision Score: \",prebayes_10)\n",
        "print(\"F1 Score: \",f1bayes_10)\n",
        "print(\"Recall: \",rebayes_10)\n"
      ],
      "execution_count": null,
      "outputs": [
        {
          "output_type": "stream",
          "text": [
            "\t\tMultinomial Naive Bayes Analysis of UNSW-NB15\n",
            "\n",
            "\t\tTop 15 Features \n",
            "Confusion Matrix :\n",
            "[[  601     0     0    14     0     1    61     0     0     0]\n",
            " [  483     0     0    38     1     2    59     0     0     0]\n",
            " [ 2473     0     0   510    72    78   934    10    12     0]\n",
            " [ 2697     0     0  1738   125    56  6494     2    20     0]\n",
            " [ 1222     0     0   752   550   374  3111     7    46     0]\n",
            " [   28     0     0   109    95 18159   475     1     4     0]\n",
            " [  193     0     1  4062  1501  2792 28284    18   149     0]\n",
            " [ 1541     0     0    68     8    15  1858     6     0     0]\n",
            " [   75     0     0     1    36     9   192     6    59     0]\n",
            " [    0     0     0     2     4     2    36     0     0     0]]\n",
            "Accuracy Score : 0.5999732789194967\n",
            "Precision Score:  0.23827456767032631\n",
            "F1 Score:  0.2239561902839405\n",
            "Recall:  0.30190991296773395\n"
          ],
          "name": "stdout"
        },
        {
          "output_type": "stream",
          "text": [
            "/usr/local/lib/python3.7/dist-packages/sklearn/metrics/_classification.py:1272: UndefinedMetricWarning:\n",
            "\n",
            "Precision is ill-defined and being set to 0.0 in labels with no predicted samples. Use `zero_division` parameter to control this behavior.\n",
            "\n"
          ],
          "name": "stderr"
        }
      ]
    },
    {
      "cell_type": "code",
      "metadata": {
        "colab": {
          "base_uri": "https://localhost:8080/"
        },
        "id": "nZUmRijOs2VE",
        "outputId": "4df5e745-72bc-41c1-ef37-9ba604d4f80d"
      },
      "source": [
        "bayes_20 = MultinomialNB()\n",
        "bayes_20.fit(df2_xtrain,df2_ytrain)\n",
        "\n",
        "print (\"\\t\\tMultinomial Naive Bayes Analysis of UNSW-NB15\\n\\n\\t\\tTop 30 Features \")\n",
        "\n",
        "y_pred_gnb20 = bayes_20.predict(df2_xtest)\n",
        "\n",
        "#print (\"\\t\\tMajor Verifcation KDD99 10% GNB\")\n",
        "results = confusion_matrix(df2_ytest, y_pred_gnb20) \n",
        "print ('Confusion Matrix :')\n",
        "print(results)\n",
        "\n",
        "accbayes_20=accuracy_score(df2_ytest, y_pred_gnb20) \n",
        "prebayes_20=precision_score(df2_ytest, y_pred_gnb20, average='macro')\n",
        "f1bayes_20=f1_score(df2_ytest, y_pred_gnb20, average='macro')\n",
        "rebayes_20=recall_score(df2_ytest, y_pred_gnb20, average='macro')\n",
        "\n",
        "print ('Accuracy Score :',accbayes_20)\n",
        "print(\"Precision Score: \",prebayes_20)\n",
        "print(\"F1 Score: \",f1bayes_20)\n",
        "print(\"Recall: \",rebayes_20)"
      ],
      "execution_count": null,
      "outputs": [
        {
          "output_type": "stream",
          "text": [
            "\t\tMultinomial Naive Bayes Analysis of UNSW-NB15\n",
            "\n",
            "\t\tTop 30 Features \n",
            "Confusion Matrix :\n",
            "[[    3     0     2    40     0   614     0     0     0    18]\n",
            " [    3     0    10    36     0   515     4     0     0    15]\n",
            " [   31     0    87   677     0  2903    17     0     0   374]\n",
            " [   36     0   128  5200     0  3163    76     0     0  2529]\n",
            " [   45     0    54  2445     0  2250     0     0     0  1268]\n",
            " [    4     0     4   345     0 18343     4     0     0   171]\n",
            " [  585     0    73 14651     0  5965  7847     1     1  7877]\n",
            " [    8     0    22  1262     0  1601     0     0     0   603]\n",
            " [    0     0     0   130     0   185     0     0     0    63]\n",
            " [    0     0     0    24     0     6     0     0     0    14]]\n",
            "Accuracy Score : 0.3825244133508235\n",
            "Precision Score:  0.1947161142507347\n",
            "F1 Score:  0.135809387243145\n",
            "Recall:  0.19951131812748615\n"
          ],
          "name": "stdout"
        },
        {
          "output_type": "stream",
          "text": [
            "/usr/local/lib/python3.7/dist-packages/sklearn/metrics/_classification.py:1272: UndefinedMetricWarning:\n",
            "\n",
            "Precision is ill-defined and being set to 0.0 in labels with no predicted samples. Use `zero_division` parameter to control this behavior.\n",
            "\n"
          ],
          "name": "stderr"
        }
      ]
    },
    {
      "cell_type": "code",
      "metadata": {
        "colab": {
          "base_uri": "https://localhost:8080/"
        },
        "id": "VcEkvsRBs2YC",
        "outputId": "6c9de001-2b7e-4b76-f911-05584d2022bb"
      },
      "source": [
        "bayes_all = MultinomialNB()\n",
        "bayes_all.fit(df3_xtrain,df3_ytrain)\n",
        "\n",
        "print (\"\\t\\tMultinomial Naive Bayes Analysis of UNSW-NB15\\n\\n\\t\\tAll Features \")\n",
        "y_pred_gnball = bayes_all.predict(df3_xtest)\n",
        "\n",
        "#print (\"\\t\\tMajor Verifcation KDD99 10% GNB\")\n",
        "results = confusion_matrix(df3_ytest, y_pred_gnball) \n",
        "print ('Confusion Matrix :')\n",
        "print(results)\n",
        "\n",
        "accbayes_all=accuracy_score(df3_ytest, y_pred_gnball)\n",
        "prebayes_all=precision_score(df3_ytest, y_pred_gnball, average='macro')\n",
        "f1bayes_all=f1_score(df3_ytest, y_pred_gnball, average='macro')\n",
        "rebayes_all=recall_score(df3_ytest, y_pred_gnball, average='macro')\n",
        "\n",
        "print ('Accuracy Score :', accbayes_all)\n",
        "print(\"Precision Score: \",prebayes_all)\n",
        "print(\"F1 Score: \",f1bayes_all)\n",
        "print(\"Recall: \",rebayes_all)"
      ],
      "execution_count": null,
      "outputs": [
        {
          "output_type": "stream",
          "text": [
            "\t\tMultinomial Naive Bayes Analysis of UNSW-NB15\n",
            "\n",
            "\t\tAll Features \n",
            "Confusion Matrix :\n",
            "[[    3     0     2    40     0   614     0     0     0    18]\n",
            " [    3     0    10    36     0   515     4     0     0    15]\n",
            " [   31     0    87   677     0  2903    17     0     0   374]\n",
            " [   36     0   128  5200     0  3163    76     0     0  2529]\n",
            " [   45     0    54  2445     0  2250     0     0     0  1268]\n",
            " [    4     0     4   345     0 18343     4     0     0   171]\n",
            " [  615     0    14 14654     0  6027  7813     1     1  7875]\n",
            " [    8     0    22  1262     0  1601     0     0     0   603]\n",
            " [    0     0     0   130     0   185     0     0     0    63]\n",
            " [    0     0     0    24     0     6     0     0     0    14]]\n",
            "Accuracy Score : 0.38211145119759027\n",
            "Precision Score:  0.1988094523267321\n",
            "F1 Score:  0.13564830638485165\n",
            "Recall:  0.19941942623559425\n"
          ],
          "name": "stdout"
        },
        {
          "output_type": "stream",
          "text": [
            "/usr/local/lib/python3.7/dist-packages/sklearn/metrics/_classification.py:1272: UndefinedMetricWarning:\n",
            "\n",
            "Precision is ill-defined and being set to 0.0 in labels with no predicted samples. Use `zero_division` parameter to control this behavior.\n",
            "\n"
          ],
          "name": "stderr"
        }
      ]
    },
    {
      "cell_type": "code",
      "metadata": {
        "id": "D1DehUCas2bP"
      },
      "source": [
        "#Random Forest Classifier \n"
      ],
      "execution_count": null,
      "outputs": []
    },
    {
      "cell_type": "code",
      "metadata": {
        "colab": {
          "base_uri": "https://localhost:8080/"
        },
        "id": "5eCGklXTuKYb",
        "outputId": "97725244-2df5-405c-acf2-94a4ca211257"
      },
      "source": [
        "print (\"\\t\\tRandom Forest Analysis of UNSW-NB15\\n\\n\\t\\tTop 15 Features \")\n",
        "\n",
        "#Create a Gaussian Classifier\n",
        "clfRF_10=RandomForestClassifier()\n",
        "\n",
        "#Train the model using the training sets y_pred=clf.predict(X_test)\n",
        "clfRF_10.fit(df1_xtrain,df1_ytrain)\n",
        "\n",
        "y_pred_RF10=clfRF_10.predict(df1_xtest)\n",
        "#print(\"Accuracy Random Forest:\",metrics.accuracy_score(y_test, y_pred_RF))\n",
        "\n",
        "results_10 = confusion_matrix(df1_ytest, y_pred_RF10) \n",
        "print ('Confusion Matrix :')\n",
        "print(results_10) \n",
        "\n",
        "accclfRF_10=accuracy_score(df1_ytest, y_pred_RF10)\n",
        "preclfRF_10=precision_score(df1_ytest, y_pred_RF10, average='macro')\n",
        "f1clfRF_10=f1_score(df1_ytest, y_pred_RF10, average='macro')\n",
        "reclfRF_10=recall_score(df1_ytest, y_pred_RF10, average='macro')\n",
        "\n",
        "print ('Accuracy Score :',accclfRF_10 )\n",
        "print(\"Precision Score: \",preclfRF_10)\n",
        "print(\"F1 Score: \",f1clfRF_10)\n",
        "print(\"Recall: \",reclfRF_10)"
      ],
      "execution_count": null,
      "outputs": [
        {
          "output_type": "stream",
          "text": [
            "\t\tRandom Forest Analysis of UNSW-NB15\n",
            "\n",
            "\t\tTop 15 Features \n",
            "Confusion Matrix :\n",
            "[[   42   116     7    56   410     0    17    26     3     0]\n",
            " [   34    68     9    17   423     1    12    10     9     0]\n",
            " [  488  1217   473   741   853    15    24   230    46     2]\n",
            " [  483  1121   171  7497  1279    13   142   347    76     3]\n",
            " [  118   204    19   412  4015     3  1024    36   230     1]\n",
            " [    6    11    43   409    62 18301    12     5    20     2]\n",
            " [  333     0    73   718  7431     7 28301     7   129     1]\n",
            " [   59   156    25   305    85     0    20  2812    34     0]\n",
            " [    1     2    12    54    35     0    10     2   261     1]\n",
            " [    0     0     0    18     2     1     1     0     0    22]]\n",
            "Accuracy Score : 0.7505222756643832\n",
            "Precision Score:  0.5401865400834318\n",
            "F1 Score:  0.5019365839037416\n",
            "Recall:  0.5359650073640086\n"
          ],
          "name": "stdout"
        }
      ]
    },
    {
      "cell_type": "code",
      "metadata": {
        "colab": {
          "base_uri": "https://localhost:8080/"
        },
        "id": "jYQ8JD5ruKl8",
        "outputId": "9b54ae26-64e9-41f4-a573-07b9eeb54b0a"
      },
      "source": [
        "print (\"\\t\\tRandom Forest Analysis of UNSW-NB15\\n\\n\\t\\tTop 30 Features \")\n",
        "\n",
        "#Create a Gaussian Classifier\n",
        "clfRF_20=RandomForestClassifier()\n",
        "\n",
        "#Train the model using the training sets y_pred=clf.predict(X_test)\n",
        "clfRF_20.fit(df2_xtrain,df2_ytrain)\n",
        "\n",
        "y_pred_RF20=clfRF_20.predict(df2_xtest)\n",
        "#print(\"Accuracy Random Forest:\",metrics.accuracy_score(y_test, y_pred_RF))\n",
        "\n",
        "results_20 = confusion_matrix(df2_ytest, y_pred_RF20) \n",
        "print ('Confusion Matrix :')\n",
        "print(results_20)\n",
        "\n",
        "accclfRF_20=accuracy_score(df2_ytest, y_pred_RF20) \n",
        "preclfRF_20=precision_score(df2_ytest, y_pred_RF20, average='macro')\n",
        "f1clfRF_20=f1_score(df2_ytest, y_pred_RF20, average='macro')\n",
        "reclfRF_20=recall_score(df2_ytest, y_pred_RF20, average='macro')\n",
        "\n",
        "print ('Accuracy Score :',accclfRF_20)\n",
        "print(\"Precision Score: \",preclfRF_20)\n",
        "print(\"F1 Score: \",f1clfRF_20)\n",
        "print(\"Recall: \",reclfRF_20)"
      ],
      "execution_count": null,
      "outputs": [
        {
          "output_type": "stream",
          "text": [
            "\t\tRandom Forest Analysis of UNSW-NB15\n",
            "\n",
            "\t\tTop 30 Features \n",
            "Confusion Matrix :\n",
            "[[  104   209    12    55   211     4    18    61     3     0]\n",
            " [  100   135     9    30   229     4     9    61     6     0]\n",
            " [  543  1411   463   861   498    14    33   217    49     0]\n",
            " [  617  1355   128  7644   821    20   102   373    68     4]\n",
            " [  250   359    22   377  3845     9   844   116   240     0]\n",
            " [    1    10    37   361    51 18364    11    13    19     4]\n",
            " [  427     3    28   751  7659     5 28002     7   117     1]\n",
            " [   59   170    20   319    70     0     7  2822    29     0]\n",
            " [    0     0     8    55    39     0     7     2   266     1]\n",
            " [    0     0     0    24     2     1     2     0     0    15]]\n",
            "Accuracy Score : 0.7489190108341836\n",
            "Precision Score:  0.540293227571871\n",
            "F1 Score:  0.4940918012565988\n",
            "Recall:  0.5401123818249384\n"
          ],
          "name": "stdout"
        }
      ]
    },
    {
      "cell_type": "code",
      "metadata": {
        "colab": {
          "base_uri": "https://localhost:8080/"
        },
        "id": "EpJHXBBTuKvd",
        "outputId": "dbe00777-ab81-4e3d-c9be-e28338816d92"
      },
      "source": [
        "print (\"\\t\\tRandom Forest Analysis of UNSW-NB15\\n\\n\\t\\tAll Features \")\n",
        "\n",
        "#Create a Random Forest Classifier\n",
        "clfRF_all=RandomForestClassifier()\n",
        "\n",
        "#Train the model using the training sets y_pred=clf.predict(X_test)\n",
        "clfRF_all.fit(df3_xtrain,df3_ytrain)\n",
        "\n",
        "y_pred_RFall=clfRF_all.predict(df3_xtest)\n",
        "#print(\"Accuracy Random Forest:\",metrics.accuracy_score(y_test, y_pred_RF))\n",
        "\n",
        "results_all = confusion_matrix(df3_ytest, y_pred_RFall) \n",
        "print ('Confusion Matrix :')\n",
        "print(results_all)\n",
        "\n",
        "accclfRF_all=accuracy_score(df3_ytest, y_pred_RFall) \n",
        "preclfRF_all=precision_score(df3_ytest, y_pred_RFall, average='macro')\n",
        "f1clfRF_all=f1_score(df3_ytest, y_pred_RFall, average='macro')\n",
        "reclfRF_all=recall_score(df3_ytest, y_pred_RFall, average='macro')\n",
        "\n",
        "print ('Accuracy Score :',accclfRF_all)\n",
        "print(\"Precision Score: \",preclfRF_all)\n",
        "print(\"F1 Score: \",f1clfRF_all)\n",
        "print(\"Recall: \",reclfRF_all)"
      ],
      "execution_count": null,
      "outputs": [
        {
          "output_type": "stream",
          "text": [
            "\t\tRandom Forest Analysis of UNSW-NB15\n",
            "\n",
            "\t\tAll Features \n",
            "Confusion Matrix :\n",
            "[[   38   269     6    44   231     0    21    65     3     0]\n",
            " [   38   184     8    27   248     0     1    70     7     0]\n",
            " [  334  1700   461   817   496     8    29   199    44     1]\n",
            " [  369  1698   122  7620   799    12    84   344    81     3]\n",
            " [  102   480    12   346  3869     1   850   132   270     0]\n",
            " [    3    10    32   398    59 18325     5     9    26     4]\n",
            " [  459     0    19   730  7586     7 28060     6   132     1]\n",
            " [   41   203    25   331    67     1    10  2793    25     0]\n",
            " [    0     0    10    52    43     0     7     1   264     1]\n",
            " [    0     0     0    31     2     1     2     0     0     8]]\n",
            "Accuracy Score : 0.748457464898217\n",
            "Precision Score:  0.5242683327521466\n",
            "F1 Score:  0.4713265165671311\n",
            "Recall:  0.5215820744969834\n"
          ],
          "name": "stdout"
        }
      ]
    },
    {
      "cell_type": "code",
      "metadata": {
        "id": "v6N3Y69QuLDL"
      },
      "source": [
        "#Logistic Regression Classifier \n"
      ],
      "execution_count": null,
      "outputs": []
    },
    {
      "cell_type": "code",
      "metadata": {
        "colab": {
          "base_uri": "https://localhost:8080/"
        },
        "id": "GJHJebbCuSZr",
        "outputId": "e2df473a-a51b-4435-b4d1-47768ecad6a9"
      },
      "source": [
        "print (\"\\t\\tLogistic Regression Analysis of UNSW-NB15\\n\\n\\t\\tTop 15 Features \")\n",
        "\n",
        "logisticRegr_10 = LogisticRegression(C=1e5, solver='newton-cg',max_iter=1000, multi_class='multinomial')\n",
        "\n",
        "logisticRegr_10.fit(df1_xtrain,df1_ytrain)\n",
        "\n",
        "y_pred_LR10 = logisticRegr_10.predict(df1_xtest)\n",
        "\n",
        "results_LR10 = confusion_matrix(df1_ytest, y_pred_LR10) \n",
        "print ('Confusion Matrix :')\n",
        "print(results_LR10) \n",
        "\n",
        "acclogisticRegr_10=accuracy_score(df1_ytest, y_pred_LR10)\n",
        "prelogisticRegr_10=precision_score(df1_ytest, y_pred_LR10, average='macro')\n",
        "f1logisticRegr_10=f1_score(df1_ytest, y_pred_LR10, average='macro')\n",
        "relogisticRegr_10=recall_score(df1_ytest, y_pred_LR10, average='macro')\n",
        "\n",
        "print ('Accuracy Score :',acclogisticRegr_10 )\n",
        "print(\"Precision Score: \",prelogisticRegr_10)\n",
        "print(\"F1 Score: \",f1logisticRegr_10)\n",
        "print(\"Recall: \",relogisticRegr_10)"
      ],
      "execution_count": null,
      "outputs": [
        {
          "output_type": "stream",
          "text": [
            "\t\tLogistic Regression Analysis of UNSW-NB15\n",
            "\n",
            "\t\tTop 15 Features \n"
          ],
          "name": "stdout"
        },
        {
          "output_type": "stream",
          "text": [
            "/usr/local/lib/python3.7/dist-packages/scipy/optimize/linesearch.py:466: LineSearchWarning:\n",
            "\n",
            "The line search algorithm did not converge\n",
            "\n",
            "/usr/local/lib/python3.7/dist-packages/scipy/optimize/linesearch.py:314: LineSearchWarning:\n",
            "\n",
            "The line search algorithm did not converge\n",
            "\n",
            "/usr/local/lib/python3.7/dist-packages/sklearn/utils/optimize.py:212: ConvergenceWarning:\n",
            "\n",
            "newton-cg failed to converge. Increase the number of iterations.\n",
            "\n",
            "/usr/local/lib/python3.7/dist-packages/sklearn/metrics/_classification.py:1272: UndefinedMetricWarning:\n",
            "\n",
            "Precision is ill-defined and being set to 0.0 in labels with no predicted samples. Use `zero_division` parameter to control this behavior.\n",
            "\n"
          ],
          "name": "stderr"
        },
        {
          "output_type": "stream",
          "text": [
            "Confusion Matrix :\n",
            "[[    0     0     0    67   603     1     4     2     0     0]\n",
            " [    0     0     0    30   534     2    10     7     0     0]\n",
            " [    0     0     0   701  3023    53   229    83     0     0]\n",
            " [    0     0     4  5355  4777    36   873    87     0     0]\n",
            " [    0     0     0   190  4906   347   574    45     0     0]\n",
            " [    0     0     0   244   520 17912   186     9     0     0]\n",
            " [    0     0     0  4280 10600  2693 19298   129     0     0]\n",
            " [    0     0     0   118  3345    19     6     8     0     0]\n",
            " [    0     0     0    17   343     6     0    12     0     0]\n",
            " [    0     0     0     0    33     2     9     0     0     0]]\n",
            "Accuracy Score : 0.576677355098868\n",
            "Precision Score:  0.24395420989882374\n",
            "F1 Score:  0.2330576404871651\n",
            "Recall:  0.2763386674857679\n"
          ],
          "name": "stdout"
        }
      ]
    },
    {
      "cell_type": "code",
      "metadata": {
        "colab": {
          "base_uri": "https://localhost:8080/"
        },
        "id": "_xO1WIT4uScz",
        "outputId": "8bf00f50-0645-4392-9fbf-a2e6d65e262f"
      },
      "source": [
        "print (\"\\t\\tLogistic Regression Analysis of UNSW NB15\\n\\n\\t\\tTop 30 Features \")\n",
        "\n",
        "logisticRegr_20 = LogisticRegression(C=1e5, solver='newton-cg',max_iter=1000, multi_class='multinomial')\n",
        "\n",
        "logisticRegr_20.fit(df2_xtrain,df2_ytrain)\n",
        "\n",
        "y_pred_LR20 = logisticRegr_20.predict(df2_xtest)\n",
        "\n",
        "results_LR20 = confusion_matrix(df2_ytest, y_pred_LR20) \n",
        "print ('Confusion Matrix :')\n",
        "print(results_LR20) \n",
        "\n",
        "acclogisticRegr_20=accuracy_score(df2_ytest, y_pred_LR20)\n",
        "prelogisticRegr_20=precision_score(df2_ytest, y_pred_LR20, average='macro')\n",
        "f1logisticRegr_20=f1_score(df2_ytest, y_pred_LR20, average='macro')\n",
        "relogisticRegr_20=recall_score(df2_ytest, y_pred_LR20, average='macro')\n",
        "\n",
        "print ('Accuracy Score :',acclogisticRegr_20 )\n",
        "print(\"Precision Score: \",prelogisticRegr_20)\n",
        "print(\"F1 Score: \",f1logisticRegr_20)\n",
        "print(\"Recall: \",relogisticRegr_20)\n"
      ],
      "execution_count": null,
      "outputs": [
        {
          "output_type": "stream",
          "text": [
            "\t\tLogistic Regression Analysis of UNSW NB15\n",
            "\n",
            "\t\tTop 30 Features \n"
          ],
          "name": "stdout"
        },
        {
          "output_type": "stream",
          "text": [
            "/usr/local/lib/python3.7/dist-packages/scipy/optimize/linesearch.py:466: LineSearchWarning:\n",
            "\n",
            "The line search algorithm did not converge\n",
            "\n",
            "/usr/local/lib/python3.7/dist-packages/scipy/optimize/linesearch.py:314: LineSearchWarning:\n",
            "\n",
            "The line search algorithm did not converge\n",
            "\n",
            "/usr/local/lib/python3.7/dist-packages/sklearn/utils/optimize.py:212: ConvergenceWarning:\n",
            "\n",
            "newton-cg failed to converge. Increase the number of iterations.\n",
            "\n",
            "/usr/local/lib/python3.7/dist-packages/sklearn/metrics/_classification.py:1272: UndefinedMetricWarning:\n",
            "\n",
            "Precision is ill-defined and being set to 0.0 in labels with no predicted samples. Use `zero_division` parameter to control this behavior.\n",
            "\n"
          ],
          "name": "stderr"
        },
        {
          "output_type": "stream",
          "text": [
            "Confusion Matrix :\n",
            "[[    0     0     0    24   618     2    33     0     0     0]\n",
            " [    0     0     0    21   527     5    30     0     0     0]\n",
            " [    0     0    12   465  2920   123   568     1     0     0]\n",
            " [    0     0     3  2640  4041   122  4323     3     0     0]\n",
            " [    0     0     0  1354  3715   379   614     0     0     0]\n",
            " [    0     0     1   177   224 18168   301     0     0     0]\n",
            " [    0     0     0  4308 10244  2806 19639     3     0     0]\n",
            " [    0     0     0   425  2851    45   175     0     0     0]\n",
            " [    0     0     0    72   234    33    39     0     0     0]\n",
            " [    0     0     0    12    19     2    11     0     0     0]]\n",
            "Accuracy Score : 0.5365350046154593\n",
            "Precision Score:  0.27752510329555236\n",
            "F1 Score:  0.20200551358150495\n",
            "Recall:  0.23464537572388955\n"
          ],
          "name": "stdout"
        }
      ]
    },
    {
      "cell_type": "code",
      "metadata": {
        "colab": {
          "base_uri": "https://localhost:8080/"
        },
        "id": "lp-GI4YS4kUT",
        "outputId": "e6eba21a-d61c-4df5-c1da-b17d8204245a"
      },
      "source": [
        "print (\"\\t\\tLogistic Regression Analysis of UNSW-NB15\\n\\n\\t\\tAll Features \")\n",
        "\n",
        "logisticRegr_all = LogisticRegression(C=1e5, solver='newton-cg', multi_class='multinomial')\n",
        "\n",
        "logisticRegr_all.fit(df3_xtrain,df3_ytrain)\n",
        "\n",
        "y_pred_LRall = logisticRegr_all.predict(df3_xtest)\n",
        "\n",
        "results_LRall = confusion_matrix(df3_ytest, y_pred_LRall) \n",
        "print ('Confusion Matrix :')\n",
        "print(results_LRall)\n",
        "\n",
        "acclogisticRegr_all=accuracy_score(df3_ytest, y_pred_LRall)\n",
        "prelogisticRegr_all=precision_score(df3_ytest, y_pred_LRall, average='macro')\n",
        "f1logisticRegr_all=f1_score(df3_ytest, y_pred_LRall, average='macro')\n",
        "relogisticRegr_all=recall_score(df3_ytest, y_pred_LRall, average='macro')\n",
        "\n",
        "print ('Accuracy Score :', acclogisticRegr_all)\n",
        "print(\"Precision Score: \",prelogisticRegr_all)\n",
        "print(\"F1 Score: \",f1logisticRegr_all)\n",
        "print(\"Recall: \",relogisticRegr_all)\n"
      ],
      "execution_count": null,
      "outputs": [
        {
          "output_type": "stream",
          "text": [
            "\t\tLogistic Regression Analysis of UNSW-NB15\n",
            "\n",
            "\t\tAll Features \n"
          ],
          "name": "stdout"
        },
        {
          "output_type": "stream",
          "text": [
            "/usr/local/lib/python3.7/dist-packages/sklearn/utils/optimize.py:212: ConvergenceWarning:\n",
            "\n",
            "newton-cg failed to converge. Increase the number of iterations.\n",
            "\n"
          ],
          "name": "stderr"
        },
        {
          "output_type": "stream",
          "text": [
            "Confusion Matrix :\n",
            "[[    0     0     3     2   613     2    57     0     0     0]\n",
            " [    0     0    10    19   493     5    56     0     0     0]\n",
            " [    0     0   143   326  2577   136   907     0     0     0]\n",
            " [    0     0   146  1682  2851   126  6327     0     0     0]\n",
            " [    0     0    42   885  2071   387  2677     0     0     0]\n",
            " [    0     0    10   116   127 18168   450     0     0     0]\n",
            " [    0     0     7  3840  2397  2825 27931     0     0     0]\n",
            " [    0     0    26   179  1537    45  1709     0     0     0]\n",
            " [    0     0     0    27   150    35   166     0     0     0]\n",
            " [    0     0     0     8     4     2    30     0     0     0]]\n",
            "Accuracy Score : 0.6072365544381285\n",
            "Precision Score:  0.22974356478427999\n",
            "F1 Score:  0.20854342565061423\n",
            "Recall:  0.224534320313942\n"
          ],
          "name": "stdout"
        },
        {
          "output_type": "stream",
          "text": [
            "/usr/local/lib/python3.7/dist-packages/sklearn/metrics/_classification.py:1272: UndefinedMetricWarning:\n",
            "\n",
            "Precision is ill-defined and being set to 0.0 in labels with no predicted samples. Use `zero_division` parameter to control this behavior.\n",
            "\n"
          ],
          "name": "stderr"
        }
      ]
    },
    {
      "cell_type": "code",
      "metadata": {
        "id": "DjkKak0CuSwM"
      },
      "source": [
        "#CNN 1D\n",
        "from __future__ import print_function\n",
        "import numpy as np\n",
        "np.random.seed(1337)  # for reproducibility\n",
        "\n",
        "from keras.preprocessing import sequence\n",
        "from keras.models import Sequential\n",
        "from keras.layers import Dense, Dropout, Activation, Lambda\n",
        "from keras.layers import Embedding\n",
        "from keras.layers import Convolution1D,MaxPooling1D, Flatten\n",
        "from keras.datasets import imdb\n",
        "from keras import backend as K\n",
        "#from sklearn.cross_validation import train_test_split\n",
        "import pandas as pd\n",
        "from keras.utils.np_utils import to_categorical\n",
        "\n",
        "from sklearn.preprocessing import Normalizer\n",
        "from keras.models import Sequential\n",
        "from keras.layers import Convolution1D, Dense, Dropout, Flatten, MaxPooling1D\n",
        "from keras.utils import np_utils\n",
        "import numpy as np\n",
        "import h5py\n",
        "from keras import callbacks\n",
        "from keras.layers import LSTM, GRU, SimpleRNN\n",
        "from keras.callbacks import CSVLogger\n",
        "from keras.callbacks import ModelCheckpoint, EarlyStopping, ReduceLROnPlateau, CSVLogger"
      ],
      "execution_count": null,
      "outputs": []
    },
    {
      "cell_type": "code",
      "metadata": {
        "id": "guWo1Zwx6xl8"
      },
      "source": [
        "def recall_m(y_true, y_pred):\n",
        "    true_positives = K.sum(K.round(K.clip(y_true * y_pred, 0, 1)))\n",
        "    possible_positives = K.sum(K.round(K.clip(y_true, 0, 1)))\n",
        "    recall = true_positives / (possible_positives + K.epsilon())\n",
        "    return recall\n",
        "\n",
        "def precision_m(y_true, y_pred):\n",
        "    true_positives = K.sum(K.round(K.clip(y_true * y_pred, 0, 1)))\n",
        "    predicted_positives = K.sum(K.round(K.clip(y_pred, 0, 1)))\n",
        "    precision = true_positives / (predicted_positives + K.epsilon())\n",
        "    return precision\n",
        "\n",
        "def f1_m(y_true, y_pred):\n",
        "    precision = precision_m(y_true, y_pred)\n",
        "    recall = recall_m(y_true, y_pred)\n",
        "    return 2*((precision*recall)/(precision+recall+K.epsilon()))"
      ],
      "execution_count": null,
      "outputs": []
    },
    {
      "cell_type": "code",
      "metadata": {
        "colab": {
          "base_uri": "https://localhost:8080/"
        },
        "id": "THg2erH1rxH1",
        "outputId": "14b973c8-d0a4-4654-9714-bbd4955828ee"
      },
      "source": [
        "X = df1_xtrain\n",
        "Y = df1_ytrain\n",
        "C = df1_ytest\n",
        "T = df1_xtest\n",
        "scaler = Normalizer().fit(X)\n",
        "trainX = scaler.transform(X)\n",
        "\n",
        "scaler = Normalizer().fit(T)\n",
        "testT = scaler.transform(T)\n",
        "\n",
        "y_train1 = np.array(Y)\n",
        "y_test1 = np.array(C)\n",
        "\n",
        "y_train= to_categorical(y_train1)\n",
        "y_test= to_categorical(y_test1)\n",
        "\n",
        "\n",
        "# reshape input to be [samples, time steps, features]\n",
        "X_train = np.reshape(trainX, (trainX.shape[0],trainX.shape[1],1))\n",
        "X_test = np.reshape(testT, (testT.shape[0],testT.shape[1],1))\n",
        "\n",
        "\n",
        "from keras.models import Sequential\n",
        "from keras import layers\n",
        "\n",
        "input_dim = df1_xtrain.shape[1]  # Number of features\n",
        "\n",
        "model = Sequential()\n",
        "model.add(layers.Dense(10, input_shape=(15, 1), activation='relu'))\n",
        "model.add(layers.Flatten())\n",
        "model.add(layers.Dense(64, activation='relu'))\n",
        "model.add(layers.Dense(128, activation='relu'))\n",
        "model.add(layers.Dense(256, activation='relu'))\n",
        "model.add(layers.Dense(128, activation='relu'))\n",
        "model.add(layers.Dense(64, activation='relu'))\n",
        "model.add(layers.Dense(10, activation='softmax'))\n",
        "\n",
        "model.compile(loss='categorical_crossentropy', \n",
        "              optimizer='adam', \n",
        "              metrics=['accuracy',f1_m,precision_m, recall_m])\n",
        "model.summary()"
      ],
      "execution_count": 109,
      "outputs": [
        {
          "output_type": "stream",
          "text": [
            "Model: \"sequential_6\"\n",
            "_________________________________________________________________\n",
            "Layer (type)                 Output Shape              Param #   \n",
            "=================================================================\n",
            "dense_24 (Dense)             (None, 15, 10)            20        \n",
            "_________________________________________________________________\n",
            "flatten_6 (Flatten)          (None, 150)               0         \n",
            "_________________________________________________________________\n",
            "dense_25 (Dense)             (None, 64)                9664      \n",
            "_________________________________________________________________\n",
            "dense_26 (Dense)             (None, 128)               8320      \n",
            "_________________________________________________________________\n",
            "dense_27 (Dense)             (None, 256)               33024     \n",
            "_________________________________________________________________\n",
            "dense_28 (Dense)             (None, 128)               32896     \n",
            "_________________________________________________________________\n",
            "dense_29 (Dense)             (None, 64)                8256      \n",
            "_________________________________________________________________\n",
            "dense_30 (Dense)             (None, 10)                650       \n",
            "=================================================================\n",
            "Total params: 92,830\n",
            "Trainable params: 92,830\n",
            "Non-trainable params: 0\n",
            "_________________________________________________________________\n"
          ],
          "name": "stdout"
        }
      ]
    },
    {
      "cell_type": "code",
      "metadata": {
        "colab": {
          "base_uri": "https://localhost:8080/"
        },
        "id": "h8U3yJwKxyMM",
        "outputId": "8a2c47e2-0093-4bf3-f683-fe93b0c3a397"
      },
      "source": [
        "historyNN10 = model.fit(X_train, y_train,epochs=500)"
      ],
      "execution_count": 119,
      "outputs": [
        {
          "output_type": "stream",
          "text": [
            "Epoch 1/400\n",
            "3367/3367 [==============================] - 11s 3ms/step - loss: 0.5680 - accuracy: 0.7776 - f1_m: 0.7886 - precision_m: 0.8710 - recall_m: 0.7228\n",
            "Epoch 2/400\n",
            "3367/3367 [==============================] - 11s 3ms/step - loss: 0.5974 - accuracy: 0.7702 - f1_m: 0.7767 - precision_m: 0.8686 - recall_m: 0.7048\n",
            "Epoch 3/400\n",
            "3367/3367 [==============================] - 12s 3ms/step - loss: 0.5881 - accuracy: 0.7724 - f1_m: 0.7802 - precision_m: 0.8676 - recall_m: 0.7112\n",
            "Epoch 4/400\n",
            "3367/3367 [==============================] - 12s 3ms/step - loss: 0.5793 - accuracy: 0.7751 - f1_m: 0.7842 - precision_m: 0.8704 - recall_m: 0.7159\n",
            "Epoch 5/400\n",
            "3367/3367 [==============================] - 12s 3ms/step - loss: 0.5751 - accuracy: 0.7753 - f1_m: 0.7850 - precision_m: 0.8695 - recall_m: 0.7177\n",
            "Epoch 6/400\n",
            "3367/3367 [==============================] - 12s 3ms/step - loss: 0.5741 - accuracy: 0.7760 - f1_m: 0.7847 - precision_m: 0.8702 - recall_m: 0.7168\n",
            "Epoch 7/400\n",
            "3367/3367 [==============================] - 12s 3ms/step - loss: 0.5700 - accuracy: 0.7775 - f1_m: 0.7864 - precision_m: 0.8690 - recall_m: 0.7206\n",
            "Epoch 8/400\n",
            "3367/3367 [==============================] - 11s 3ms/step - loss: 0.5659 - accuracy: 0.7776 - f1_m: 0.7874 - precision_m: 0.8685 - recall_m: 0.7224\n",
            "Epoch 9/400\n",
            "3367/3367 [==============================] - 12s 3ms/step - loss: 0.5696 - accuracy: 0.7788 - f1_m: 0.7889 - precision_m: 0.8693 - recall_m: 0.7244\n",
            "Epoch 10/400\n",
            "3367/3367 [==============================] - 12s 4ms/step - loss: 0.5644 - accuracy: 0.7789 - f1_m: 0.7890 - precision_m: 0.8686 - recall_m: 0.7249\n",
            "Epoch 11/400\n",
            "3367/3367 [==============================] - 11s 3ms/step - loss: 0.5656 - accuracy: 0.7779 - f1_m: 0.7883 - precision_m: 0.8680 - recall_m: 0.7241\n",
            "Epoch 12/400\n",
            "3367/3367 [==============================] - 12s 3ms/step - loss: 0.5672 - accuracy: 0.7793 - f1_m: 0.7887 - precision_m: 0.8676 - recall_m: 0.7252\n",
            "Epoch 13/400\n",
            "3367/3367 [==============================] - 12s 3ms/step - loss: 0.5642 - accuracy: 0.7798 - f1_m: 0.7907 - precision_m: 0.8680 - recall_m: 0.7283\n",
            "Epoch 14/400\n",
            "3367/3367 [==============================] - 12s 3ms/step - loss: 0.5676 - accuracy: 0.7778 - f1_m: 0.7871 - precision_m: 0.8667 - recall_m: 0.7233\n",
            "Epoch 15/400\n",
            "3367/3367 [==============================] - 11s 3ms/step - loss: 0.5641 - accuracy: 0.7794 - f1_m: 0.7895 - precision_m: 0.8695 - recall_m: 0.7253\n",
            "Epoch 16/400\n",
            "3367/3367 [==============================] - 12s 3ms/step - loss: 0.5602 - accuracy: 0.7799 - f1_m: 0.7907 - precision_m: 0.8691 - recall_m: 0.7276\n",
            "Epoch 17/400\n",
            "3367/3367 [==============================] - 12s 3ms/step - loss: 0.5550 - accuracy: 0.7831 - f1_m: 0.7927 - precision_m: 0.8702 - recall_m: 0.7302\n",
            "Epoch 18/400\n",
            "3367/3367 [==============================] - 11s 3ms/step - loss: 0.5573 - accuracy: 0.7812 - f1_m: 0.7914 - precision_m: 0.8679 - recall_m: 0.7297\n",
            "Epoch 19/400\n",
            "3367/3367 [==============================] - 11s 3ms/step - loss: 0.6031 - accuracy: 0.7676 - f1_m: 0.7751 - precision_m: 0.8717 - recall_m: 0.7010\n",
            "Epoch 20/400\n",
            "3367/3367 [==============================] - 11s 3ms/step - loss: 0.5668 - accuracy: 0.7787 - f1_m: 0.7880 - precision_m: 0.8710 - recall_m: 0.7219\n",
            "Epoch 21/400\n",
            "3367/3367 [==============================] - 11s 3ms/step - loss: 0.5538 - accuracy: 0.7825 - f1_m: 0.7931 - precision_m: 0.8714 - recall_m: 0.7300\n",
            "Epoch 22/400\n",
            "3367/3367 [==============================] - 12s 4ms/step - loss: 0.5540 - accuracy: 0.7825 - f1_m: 0.7932 - precision_m: 0.8718 - recall_m: 0.7297\n",
            "Epoch 23/400\n",
            "3367/3367 [==============================] - 12s 4ms/step - loss: 0.5536 - accuracy: 0.7822 - f1_m: 0.7924 - precision_m: 0.8709 - recall_m: 0.7290\n",
            "Epoch 24/400\n",
            "3367/3367 [==============================] - 12s 3ms/step - loss: 0.5561 - accuracy: 0.7826 - f1_m: 0.7934 - precision_m: 0.8713 - recall_m: 0.7304\n",
            "Epoch 25/400\n",
            "3367/3367 [==============================] - 12s 4ms/step - loss: 0.5516 - accuracy: 0.7830 - f1_m: 0.7935 - precision_m: 0.8712 - recall_m: 0.7307\n",
            "Epoch 26/400\n",
            "3367/3367 [==============================] - 12s 4ms/step - loss: 0.5526 - accuracy: 0.7820 - f1_m: 0.7931 - precision_m: 0.8687 - recall_m: 0.7317\n",
            "Epoch 27/400\n",
            "3367/3367 [==============================] - 12s 3ms/step - loss: 0.5489 - accuracy: 0.7844 - f1_m: 0.7945 - precision_m: 0.8716 - recall_m: 0.7321\n",
            "Epoch 28/400\n",
            "3367/3367 [==============================] - 12s 3ms/step - loss: 0.5475 - accuracy: 0.7848 - f1_m: 0.7962 - precision_m: 0.8699 - recall_m: 0.7362\n",
            "Epoch 29/400\n",
            "3367/3367 [==============================] - 12s 3ms/step - loss: 0.5483 - accuracy: 0.7848 - f1_m: 0.7957 - precision_m: 0.8703 - recall_m: 0.7350\n",
            "Epoch 30/400\n",
            "3367/3367 [==============================] - 11s 3ms/step - loss: 0.5493 - accuracy: 0.7843 - f1_m: 0.7952 - precision_m: 0.8706 - recall_m: 0.7341\n",
            "Epoch 31/400\n",
            "3367/3367 [==============================] - 12s 3ms/step - loss: 0.5505 - accuracy: 0.7834 - f1_m: 0.7934 - precision_m: 0.8689 - recall_m: 0.7321\n",
            "Epoch 32/400\n",
            "3367/3367 [==============================] - 12s 3ms/step - loss: 0.5504 - accuracy: 0.7829 - f1_m: 0.7940 - precision_m: 0.8705 - recall_m: 0.7321\n",
            "Epoch 33/400\n",
            "3367/3367 [==============================] - 12s 4ms/step - loss: 0.5467 - accuracy: 0.7849 - f1_m: 0.7951 - precision_m: 0.8695 - recall_m: 0.7347\n",
            "Epoch 34/400\n",
            "3367/3367 [==============================] - 11s 3ms/step - loss: 0.5454 - accuracy: 0.7857 - f1_m: 0.7974 - precision_m: 0.8709 - recall_m: 0.7375\n",
            "Epoch 35/400\n",
            "3367/3367 [==============================] - 11s 3ms/step - loss: 0.5550 - accuracy: 0.7835 - f1_m: 0.7944 - precision_m: 0.8707 - recall_m: 0.7326\n",
            "Epoch 36/400\n",
            "3367/3367 [==============================] - 11s 3ms/step - loss: 0.5392 - accuracy: 0.7863 - f1_m: 0.7979 - precision_m: 0.8717 - recall_m: 0.7377\n",
            "Epoch 37/400\n",
            "3367/3367 [==============================] - 11s 3ms/step - loss: 0.5966 - accuracy: 0.7675 - f1_m: 0.7805 - precision_m: 0.8689 - recall_m: 0.7111\n",
            "Epoch 38/400\n",
            "3367/3367 [==============================] - 11s 3ms/step - loss: 0.5663 - accuracy: 0.7791 - f1_m: 0.7909 - precision_m: 0.8697 - recall_m: 0.7275\n",
            "Epoch 39/400\n",
            "3367/3367 [==============================] - 11s 3ms/step - loss: 0.5697 - accuracy: 0.7790 - f1_m: 0.7883 - precision_m: 0.8675 - recall_m: 0.7247\n",
            "Epoch 40/400\n",
            "3367/3367 [==============================] - 11s 3ms/step - loss: 0.5550 - accuracy: 0.7830 - f1_m: 0.7938 - precision_m: 0.8711 - recall_m: 0.7314\n",
            "Epoch 41/400\n",
            "3367/3367 [==============================] - 11s 3ms/step - loss: 0.5679 - accuracy: 0.7796 - f1_m: 0.7894 - precision_m: 0.8671 - recall_m: 0.7267\n",
            "Epoch 42/400\n",
            "3367/3367 [==============================] - 11s 3ms/step - loss: 0.5512 - accuracy: 0.7834 - f1_m: 0.7944 - precision_m: 0.8708 - recall_m: 0.7326\n",
            "Epoch 43/400\n",
            "3367/3367 [==============================] - 11s 3ms/step - loss: 0.5456 - accuracy: 0.7858 - f1_m: 0.7979 - precision_m: 0.8697 - recall_m: 0.7390\n",
            "Epoch 44/400\n",
            "3367/3367 [==============================] - 11s 3ms/step - loss: 0.5604 - accuracy: 0.7815 - f1_m: 0.7925 - precision_m: 0.8695 - recall_m: 0.7307\n",
            "Epoch 45/400\n",
            "3367/3367 [==============================] - 11s 3ms/step - loss: 0.5442 - accuracy: 0.7848 - f1_m: 0.7966 - precision_m: 0.8715 - recall_m: 0.7357\n",
            "Epoch 46/400\n",
            "3367/3367 [==============================] - 11s 3ms/step - loss: 0.5513 - accuracy: 0.7831 - f1_m: 0.7938 - precision_m: 0.8699 - recall_m: 0.7323\n",
            "Epoch 47/400\n",
            "3367/3367 [==============================] - 11s 3ms/step - loss: 0.5611 - accuracy: 0.7802 - f1_m: 0.7922 - precision_m: 0.8708 - recall_m: 0.7290\n",
            "Epoch 48/400\n",
            "3367/3367 [==============================] - 11s 3ms/step - loss: 0.5622 - accuracy: 0.7850 - f1_m: 0.7960 - precision_m: 0.8703 - recall_m: 0.7355\n",
            "Epoch 49/400\n",
            "3367/3367 [==============================] - 11s 3ms/step - loss: 0.5630 - accuracy: 0.7825 - f1_m: 0.7904 - precision_m: 0.8737 - recall_m: 0.7239\n",
            "Epoch 50/400\n",
            "3367/3367 [==============================] - 11s 3ms/step - loss: 0.5570 - accuracy: 0.7848 - f1_m: 0.7918 - precision_m: 0.8731 - recall_m: 0.7265\n",
            "Epoch 51/400\n",
            "3367/3367 [==============================] - 11s 3ms/step - loss: 0.5521 - accuracy: 0.7861 - f1_m: 0.7932 - precision_m: 0.8721 - recall_m: 0.7297\n",
            "Epoch 52/400\n",
            "3367/3367 [==============================] - 11s 3ms/step - loss: 0.5489 - accuracy: 0.7867 - f1_m: 0.7959 - precision_m: 0.8704 - recall_m: 0.7353\n",
            "Epoch 53/400\n",
            "3367/3367 [==============================] - 11s 3ms/step - loss: 0.5458 - accuracy: 0.7866 - f1_m: 0.7968 - precision_m: 0.8687 - recall_m: 0.7379\n",
            "Epoch 54/400\n",
            "3367/3367 [==============================] - 11s 3ms/step - loss: 0.5482 - accuracy: 0.7847 - f1_m: 0.7951 - precision_m: 0.8699 - recall_m: 0.7343\n",
            "Epoch 55/400\n",
            "3367/3367 [==============================] - 11s 3ms/step - loss: 0.5487 - accuracy: 0.7854 - f1_m: 0.7969 - precision_m: 0.8711 - recall_m: 0.7365\n",
            "Epoch 56/400\n",
            "3367/3367 [==============================] - 11s 3ms/step - loss: 0.5434 - accuracy: 0.7867 - f1_m: 0.7971 - precision_m: 0.8703 - recall_m: 0.7374\n",
            "Epoch 57/400\n",
            "3367/3367 [==============================] - 11s 3ms/step - loss: 0.5475 - accuracy: 0.7851 - f1_m: 0.7961 - precision_m: 0.8698 - recall_m: 0.7360\n",
            "Epoch 58/400\n",
            "3367/3367 [==============================] - 11s 3ms/step - loss: 0.5439 - accuracy: 0.7856 - f1_m: 0.7978 - precision_m: 0.8699 - recall_m: 0.7387\n",
            "Epoch 59/400\n",
            "3367/3367 [==============================] - 11s 3ms/step - loss: 0.5520 - accuracy: 0.7841 - f1_m: 0.7950 - precision_m: 0.8704 - recall_m: 0.7339\n",
            "Epoch 60/400\n",
            "3367/3367 [==============================] - 11s 3ms/step - loss: 0.5459 - accuracy: 0.7858 - f1_m: 0.7971 - precision_m: 0.8704 - recall_m: 0.7373\n",
            "Epoch 61/400\n",
            "3367/3367 [==============================] - 11s 3ms/step - loss: 0.5467 - accuracy: 0.7837 - f1_m: 0.7957 - precision_m: 0.8688 - recall_m: 0.7360\n",
            "Epoch 62/400\n",
            "3367/3367 [==============================] - 11s 3ms/step - loss: 0.5614 - accuracy: 0.7810 - f1_m: 0.7914 - precision_m: 0.8706 - recall_m: 0.7277\n",
            "Epoch 63/400\n",
            "3367/3367 [==============================] - 11s 3ms/step - loss: 0.5415 - accuracy: 0.7871 - f1_m: 0.7971 - precision_m: 0.8703 - recall_m: 0.7373\n",
            "Epoch 64/400\n",
            "3367/3367 [==============================] - 11s 3ms/step - loss: 0.5385 - accuracy: 0.7881 - f1_m: 0.7998 - precision_m: 0.8719 - recall_m: 0.7409\n",
            "Epoch 65/400\n",
            "3367/3367 [==============================] - 11s 3ms/step - loss: 0.5387 - accuracy: 0.7876 - f1_m: 0.7989 - precision_m: 0.8710 - recall_m: 0.7399\n",
            "Epoch 66/400\n",
            "3367/3367 [==============================] - 11s 3ms/step - loss: 0.5406 - accuracy: 0.7875 - f1_m: 0.7984 - precision_m: 0.8704 - recall_m: 0.7396\n",
            "Epoch 67/400\n",
            "3367/3367 [==============================] - 11s 3ms/step - loss: 0.5462 - accuracy: 0.7856 - f1_m: 0.7968 - precision_m: 0.8695 - recall_m: 0.7375\n",
            "Epoch 68/400\n",
            "3367/3367 [==============================] - 11s 3ms/step - loss: 0.5342 - accuracy: 0.7889 - f1_m: 0.8008 - precision_m: 0.8718 - recall_m: 0.7426\n",
            "Epoch 69/400\n",
            "3367/3367 [==============================] - 11s 3ms/step - loss: 0.5351 - accuracy: 0.7883 - f1_m: 0.7999 - precision_m: 0.8717 - recall_m: 0.7410\n",
            "Epoch 70/400\n",
            "3367/3367 [==============================] - 11s 3ms/step - loss: 0.5469 - accuracy: 0.7844 - f1_m: 0.7965 - precision_m: 0.8702 - recall_m: 0.7365\n",
            "Epoch 71/400\n",
            "3367/3367 [==============================] - 11s 3ms/step - loss: 0.5366 - accuracy: 0.7878 - f1_m: 0.8003 - precision_m: 0.8695 - recall_m: 0.7432\n",
            "Epoch 72/400\n",
            "3367/3367 [==============================] - 12s 3ms/step - loss: 0.5472 - accuracy: 0.7864 - f1_m: 0.7968 - precision_m: 0.8712 - recall_m: 0.7362\n",
            "Epoch 73/400\n",
            "3367/3367 [==============================] - 11s 3ms/step - loss: 0.5388 - accuracy: 0.7882 - f1_m: 0.7991 - precision_m: 0.8713 - recall_m: 0.7400\n",
            "Epoch 74/400\n",
            "3367/3367 [==============================] - 11s 3ms/step - loss: 0.5450 - accuracy: 0.7865 - f1_m: 0.7979 - precision_m: 0.8711 - recall_m: 0.7382\n",
            "Epoch 75/400\n",
            "3367/3367 [==============================] - 11s 3ms/step - loss: 0.5523 - accuracy: 0.7846 - f1_m: 0.7934 - precision_m: 0.8713 - recall_m: 0.7308\n",
            "Epoch 76/400\n",
            "3367/3367 [==============================] - 11s 3ms/step - loss: 0.5613 - accuracy: 0.7846 - f1_m: 0.7866 - precision_m: 0.8695 - recall_m: 0.7207\n",
            "Epoch 77/400\n",
            "3367/3367 [==============================] - 11s 3ms/step - loss: 0.5418 - accuracy: 0.7869 - f1_m: 0.7982 - precision_m: 0.8701 - recall_m: 0.7392\n",
            "Epoch 78/400\n",
            "3367/3367 [==============================] - 12s 3ms/step - loss: 0.5607 - accuracy: 0.7830 - f1_m: 0.7929 - precision_m: 0.8698 - recall_m: 0.7308\n",
            "Epoch 79/400\n",
            "3367/3367 [==============================] - 11s 3ms/step - loss: 0.5848 - accuracy: 0.7746 - f1_m: 0.7842 - precision_m: 0.8684 - recall_m: 0.7183\n",
            "Epoch 80/400\n",
            "3367/3367 [==============================] - 11s 3ms/step - loss: 0.5739 - accuracy: 0.7859 - f1_m: 0.7972 - precision_m: 0.8714 - recall_m: 0.7369\n",
            "Epoch 81/400\n",
            "3367/3367 [==============================] - 11s 3ms/step - loss: 0.5325 - accuracy: 0.7884 - f1_m: 0.8008 - precision_m: 0.8711 - recall_m: 0.7430\n",
            "Epoch 82/400\n",
            "3367/3367 [==============================] - 11s 3ms/step - loss: 0.5434 - accuracy: 0.7875 - f1_m: 0.7981 - precision_m: 0.8714 - recall_m: 0.7384\n",
            "Epoch 83/400\n",
            "3367/3367 [==============================] - 11s 3ms/step - loss: 0.5347 - accuracy: 0.7892 - f1_m: 0.8012 - precision_m: 0.8717 - recall_m: 0.7433\n",
            "Epoch 84/400\n",
            "3367/3367 [==============================] - 11s 3ms/step - loss: 0.5442 - accuracy: 0.7857 - f1_m: 0.7966 - precision_m: 0.8694 - recall_m: 0.7372\n",
            "Epoch 85/400\n",
            "3367/3367 [==============================] - 11s 3ms/step - loss: 0.5445 - accuracy: 0.7870 - f1_m: 0.7974 - precision_m: 0.8701 - recall_m: 0.7381\n",
            "Epoch 86/400\n",
            "3367/3367 [==============================] - 11s 3ms/step - loss: 0.5476 - accuracy: 0.7867 - f1_m: 0.7971 - precision_m: 0.8686 - recall_m: 0.7385\n",
            "Epoch 87/400\n",
            "3367/3367 [==============================] - 11s 3ms/step - loss: 0.5432 - accuracy: 0.7864 - f1_m: 0.7980 - precision_m: 0.8712 - recall_m: 0.7383\n",
            "Epoch 88/400\n",
            "3367/3367 [==============================] - 11s 3ms/step - loss: 0.5430 - accuracy: 0.7862 - f1_m: 0.7984 - precision_m: 0.8691 - recall_m: 0.7402\n",
            "Epoch 89/400\n",
            "3367/3367 [==============================] - 11s 3ms/step - loss: 0.5355 - accuracy: 0.7897 - f1_m: 0.8013 - precision_m: 0.8713 - recall_m: 0.7437\n",
            "Epoch 90/400\n",
            "3367/3367 [==============================] - 11s 3ms/step - loss: 0.5416 - accuracy: 0.7870 - f1_m: 0.7982 - precision_m: 0.8701 - recall_m: 0.7392\n",
            "Epoch 91/400\n",
            "3367/3367 [==============================] - 11s 3ms/step - loss: 0.5435 - accuracy: 0.7859 - f1_m: 0.7976 - precision_m: 0.8705 - recall_m: 0.7382\n",
            "Epoch 92/400\n",
            "3367/3367 [==============================] - 11s 3ms/step - loss: 0.5406 - accuracy: 0.7866 - f1_m: 0.7982 - precision_m: 0.8691 - recall_m: 0.7401\n",
            "Epoch 93/400\n",
            "3367/3367 [==============================] - 11s 3ms/step - loss: 0.5731 - accuracy: 0.7814 - f1_m: 0.7914 - precision_m: 0.8699 - recall_m: 0.7289\n",
            "Epoch 94/400\n",
            "3367/3367 [==============================] - 11s 3ms/step - loss: 0.5914 - accuracy: 0.7743 - f1_m: 0.7799 - precision_m: 0.8712 - recall_m: 0.7086\n",
            "Epoch 95/400\n",
            "3367/3367 [==============================] - 11s 3ms/step - loss: 0.5350 - accuracy: 0.7886 - f1_m: 0.8000 - precision_m: 0.8719 - recall_m: 0.7411\n",
            "Epoch 96/400\n",
            "3367/3367 [==============================] - 11s 3ms/step - loss: 0.5332 - accuracy: 0.7893 - f1_m: 0.8016 - precision_m: 0.8719 - recall_m: 0.7438\n",
            "Epoch 97/400\n",
            "3367/3367 [==============================] - 11s 3ms/step - loss: 0.5387 - accuracy: 0.7872 - f1_m: 0.7987 - precision_m: 0.8704 - recall_m: 0.7400\n",
            "Epoch 98/400\n",
            "3367/3367 [==============================] - 11s 3ms/step - loss: 0.5440 - accuracy: 0.7863 - f1_m: 0.7967 - precision_m: 0.8704 - recall_m: 0.7366\n",
            "Epoch 99/400\n",
            "3367/3367 [==============================] - 11s 3ms/step - loss: 0.5401 - accuracy: 0.7873 - f1_m: 0.7988 - precision_m: 0.8695 - recall_m: 0.7407\n",
            "Epoch 100/400\n",
            "3367/3367 [==============================] - 11s 3ms/step - loss: 0.5916 - accuracy: 0.7702 - f1_m: 0.7821 - precision_m: 0.8755 - recall_m: 0.7099\n",
            "Epoch 101/400\n",
            "3367/3367 [==============================] - 11s 3ms/step - loss: 0.5571 - accuracy: 0.7845 - f1_m: 0.7930 - precision_m: 0.8716 - recall_m: 0.7297\n",
            "Epoch 102/400\n",
            "3367/3367 [==============================] - 11s 3ms/step - loss: 0.5548 - accuracy: 0.7836 - f1_m: 0.7934 - precision_m: 0.8700 - recall_m: 0.7315\n",
            "Epoch 103/400\n",
            "3367/3367 [==============================] - 11s 3ms/step - loss: 0.5427 - accuracy: 0.7863 - f1_m: 0.7982 - precision_m: 0.8702 - recall_m: 0.7393\n",
            "Epoch 104/400\n",
            "3367/3367 [==============================] - 11s 3ms/step - loss: 0.5377 - accuracy: 0.7885 - f1_m: 0.8006 - precision_m: 0.8712 - recall_m: 0.7427\n",
            "Epoch 105/400\n",
            "3367/3367 [==============================] - 11s 3ms/step - loss: 0.5454 - accuracy: 0.7860 - f1_m: 0.7979 - precision_m: 0.8704 - recall_m: 0.7387\n",
            "Epoch 106/400\n",
            "3367/3367 [==============================] - 11s 3ms/step - loss: 0.5425 - accuracy: 0.7879 - f1_m: 0.8005 - precision_m: 0.8709 - recall_m: 0.7426\n",
            "Epoch 107/400\n",
            "3367/3367 [==============================] - 11s 3ms/step - loss: 0.5405 - accuracy: 0.7888 - f1_m: 0.8013 - precision_m: 0.8709 - recall_m: 0.7441\n",
            "Epoch 108/400\n",
            "3367/3367 [==============================] - 11s 3ms/step - loss: 0.5414 - accuracy: 0.7874 - f1_m: 0.7997 - precision_m: 0.8701 - recall_m: 0.7418\n",
            "Epoch 109/400\n",
            "3367/3367 [==============================] - 11s 3ms/step - loss: 0.5378 - accuracy: 0.7886 - f1_m: 0.8011 - precision_m: 0.8699 - recall_m: 0.7443\n",
            "Epoch 110/400\n",
            "3367/3367 [==============================] - 11s 3ms/step - loss: 0.5400 - accuracy: 0.7884 - f1_m: 0.7996 - precision_m: 0.8704 - recall_m: 0.7415\n",
            "Epoch 111/400\n",
            "3367/3367 [==============================] - 11s 3ms/step - loss: 0.5426 - accuracy: 0.7876 - f1_m: 0.7993 - precision_m: 0.8704 - recall_m: 0.7412\n",
            "Epoch 112/400\n",
            "3367/3367 [==============================] - 11s 3ms/step - loss: 0.5353 - accuracy: 0.7886 - f1_m: 0.8009 - precision_m: 0.8717 - recall_m: 0.7427\n",
            "Epoch 113/400\n",
            "3367/3367 [==============================] - 11s 3ms/step - loss: 0.5379 - accuracy: 0.7887 - f1_m: 0.8008 - precision_m: 0.8703 - recall_m: 0.7436\n",
            "Epoch 114/400\n",
            "3367/3367 [==============================] - 11s 3ms/step - loss: 0.5345 - accuracy: 0.7888 - f1_m: 0.8005 - precision_m: 0.8713 - recall_m: 0.7424\n",
            "Epoch 115/400\n",
            "3367/3367 [==============================] - 11s 3ms/step - loss: 0.5596 - accuracy: 0.7863 - f1_m: 0.7902 - precision_m: 0.8749 - recall_m: 0.7228\n",
            "Epoch 116/400\n",
            "3367/3367 [==============================] - 11s 3ms/step - loss: 0.5476 - accuracy: 0.7873 - f1_m: 0.7951 - precision_m: 0.8716 - recall_m: 0.7331\n",
            "Epoch 117/400\n",
            "3367/3367 [==============================] - 11s 3ms/step - loss: 0.5343 - accuracy: 0.7904 - f1_m: 0.8023 - precision_m: 0.8709 - recall_m: 0.7457\n",
            "Epoch 118/400\n",
            "3367/3367 [==============================] - 11s 3ms/step - loss: 0.5430 - accuracy: 0.7874 - f1_m: 0.7982 - precision_m: 0.8704 - recall_m: 0.7392\n",
            "Epoch 119/400\n",
            "3367/3367 [==============================] - 11s 3ms/step - loss: 0.5471 - accuracy: 0.7832 - f1_m: 0.7937 - precision_m: 0.8704 - recall_m: 0.7318\n",
            "Epoch 120/400\n",
            "3367/3367 [==============================] - 10s 3ms/step - loss: 0.5719 - accuracy: 0.7784 - f1_m: 0.7870 - precision_m: 0.8694 - recall_m: 0.7217\n",
            "Epoch 121/400\n",
            "3367/3367 [==============================] - 10s 3ms/step - loss: 0.5383 - accuracy: 0.7883 - f1_m: 0.7996 - precision_m: 0.8702 - recall_m: 0.7416\n",
            "Epoch 122/400\n",
            "3367/3367 [==============================] - 10s 3ms/step - loss: 0.5521 - accuracy: 0.7839 - f1_m: 0.7935 - precision_m: 0.8714 - recall_m: 0.7309\n",
            "Epoch 123/400\n",
            "3367/3367 [==============================] - 10s 3ms/step - loss: 0.5848 - accuracy: 0.7754 - f1_m: 0.7842 - precision_m: 0.8731 - recall_m: 0.7146\n",
            "Epoch 124/400\n",
            "3367/3367 [==============================] - 10s 3ms/step - loss: 0.5388 - accuracy: 0.7882 - f1_m: 0.7993 - precision_m: 0.8708 - recall_m: 0.7408\n",
            "Epoch 125/400\n",
            "3367/3367 [==============================] - 10s 3ms/step - loss: 0.5571 - accuracy: 0.7831 - f1_m: 0.7942 - precision_m: 0.8693 - recall_m: 0.7335\n",
            "Epoch 126/400\n",
            "3367/3367 [==============================] - 10s 3ms/step - loss: 0.5746 - accuracy: 0.7799 - f1_m: 0.7887 - precision_m: 0.8726 - recall_m: 0.7218\n",
            "Epoch 127/400\n",
            "3367/3367 [==============================] - 10s 3ms/step - loss: 0.5764 - accuracy: 0.7798 - f1_m: 0.7880 - precision_m: 0.8719 - recall_m: 0.7212\n",
            "Epoch 128/400\n",
            "3367/3367 [==============================] - 10s 3ms/step - loss: 0.5672 - accuracy: 0.7814 - f1_m: 0.7893 - precision_m: 0.8702 - recall_m: 0.7246\n",
            "Epoch 129/400\n",
            "3367/3367 [==============================] - 10s 3ms/step - loss: 0.5690 - accuracy: 0.7828 - f1_m: 0.7897 - precision_m: 0.8702 - recall_m: 0.7251\n",
            "Epoch 130/400\n",
            "3367/3367 [==============================] - 10s 3ms/step - loss: 0.5587 - accuracy: 0.7828 - f1_m: 0.7900 - precision_m: 0.8739 - recall_m: 0.7232\n",
            "Epoch 131/400\n",
            "3367/3367 [==============================] - 10s 3ms/step - loss: 0.5570 - accuracy: 0.7859 - f1_m: 0.7932 - precision_m: 0.8696 - recall_m: 0.7312\n",
            "Epoch 132/400\n",
            "3367/3367 [==============================] - 10s 3ms/step - loss: 0.5611 - accuracy: 0.7835 - f1_m: 0.7898 - precision_m: 0.8694 - recall_m: 0.7261\n",
            "Epoch 133/400\n",
            "3367/3367 [==============================] - 10s 3ms/step - loss: 0.5559 - accuracy: 0.7861 - f1_m: 0.7936 - precision_m: 0.8697 - recall_m: 0.7319\n",
            "Epoch 134/400\n",
            "3367/3367 [==============================] - 10s 3ms/step - loss: 0.5558 - accuracy: 0.7854 - f1_m: 0.7928 - precision_m: 0.8686 - recall_m: 0.7314\n",
            "Epoch 135/400\n",
            "3367/3367 [==============================] - 10s 3ms/step - loss: 0.5502 - accuracy: 0.7873 - f1_m: 0.7963 - precision_m: 0.8694 - recall_m: 0.7367\n",
            "Epoch 136/400\n",
            "3367/3367 [==============================] - 10s 3ms/step - loss: 0.5496 - accuracy: 0.7867 - f1_m: 0.7968 - precision_m: 0.8682 - recall_m: 0.7382\n",
            "Epoch 137/400\n",
            "3367/3367 [==============================] - 10s 3ms/step - loss: 0.6072 - accuracy: 0.7701 - f1_m: 0.7786 - precision_m: 0.8632 - recall_m: 0.7122\n",
            "Epoch 138/400\n",
            "3367/3367 [==============================] - 10s 3ms/step - loss: 0.5655 - accuracy: 0.7841 - f1_m: 0.7929 - precision_m: 0.8676 - recall_m: 0.7323\n",
            "Epoch 139/400\n",
            "3367/3367 [==============================] - 10s 3ms/step - loss: 0.5589 - accuracy: 0.7824 - f1_m: 0.7929 - precision_m: 0.8665 - recall_m: 0.7330\n",
            "Epoch 140/400\n",
            "3367/3367 [==============================] - 10s 3ms/step - loss: 0.6180 - accuracy: 0.7751 - f1_m: 0.7812 - precision_m: 0.8663 - recall_m: 0.7143\n",
            "Epoch 141/400\n",
            "3367/3367 [==============================] - 10s 3ms/step - loss: 0.5502 - accuracy: 0.7865 - f1_m: 0.7949 - precision_m: 0.8710 - recall_m: 0.7332\n",
            "Epoch 142/400\n",
            "3367/3367 [==============================] - 10s 3ms/step - loss: 0.5497 - accuracy: 0.7857 - f1_m: 0.7935 - precision_m: 0.8706 - recall_m: 0.7311\n",
            "Epoch 143/400\n",
            "3367/3367 [==============================] - 10s 3ms/step - loss: 0.5489 - accuracy: 0.7859 - f1_m: 0.7957 - precision_m: 0.8695 - recall_m: 0.7357\n",
            "Epoch 144/400\n",
            "3367/3367 [==============================] - 10s 3ms/step - loss: 0.5426 - accuracy: 0.7880 - f1_m: 0.7990 - precision_m: 0.8701 - recall_m: 0.7407\n",
            "Epoch 145/400\n",
            "3367/3367 [==============================] - 10s 3ms/step - loss: 0.5639 - accuracy: 0.7821 - f1_m: 0.7924 - precision_m: 0.8653 - recall_m: 0.7330\n",
            "Epoch 146/400\n",
            "3367/3367 [==============================] - 10s 3ms/step - loss: 0.5688 - accuracy: 0.7816 - f1_m: 0.7915 - precision_m: 0.8688 - recall_m: 0.7291\n",
            "Epoch 147/400\n",
            "3367/3367 [==============================] - 10s 3ms/step - loss: 0.5493 - accuracy: 0.7869 - f1_m: 0.7968 - precision_m: 0.8674 - recall_m: 0.7389\n",
            "Epoch 148/400\n",
            "3367/3367 [==============================] - 10s 3ms/step - loss: 0.5558 - accuracy: 0.7845 - f1_m: 0.7948 - precision_m: 0.8676 - recall_m: 0.7355\n",
            "Epoch 149/400\n",
            "3367/3367 [==============================] - 10s 3ms/step - loss: 0.5478 - accuracy: 0.7879 - f1_m: 0.7982 - precision_m: 0.8683 - recall_m: 0.7407\n",
            "Epoch 150/400\n",
            "3367/3367 [==============================] - 10s 3ms/step - loss: 0.5461 - accuracy: 0.7895 - f1_m: 0.8007 - precision_m: 0.8690 - recall_m: 0.7444\n",
            "Epoch 151/400\n",
            "3367/3367 [==============================] - 10s 3ms/step - loss: 0.5454 - accuracy: 0.7870 - f1_m: 0.7985 - precision_m: 0.8676 - recall_m: 0.7415\n",
            "Epoch 152/400\n",
            "3367/3367 [==============================] - 10s 3ms/step - loss: 0.5561 - accuracy: 0.7858 - f1_m: 0.7961 - precision_m: 0.8672 - recall_m: 0.7380\n",
            "Epoch 153/400\n",
            "3367/3367 [==============================] - 10s 3ms/step - loss: 0.5506 - accuracy: 0.7845 - f1_m: 0.7957 - precision_m: 0.8666 - recall_m: 0.7377\n",
            "Epoch 154/400\n",
            "3367/3367 [==============================] - 10s 3ms/step - loss: 0.5432 - accuracy: 0.7888 - f1_m: 0.7994 - precision_m: 0.8688 - recall_m: 0.7423\n",
            "Epoch 155/400\n",
            "3367/3367 [==============================] - 10s 3ms/step - loss: 0.5452 - accuracy: 0.7883 - f1_m: 0.7990 - precision_m: 0.8683 - recall_m: 0.7420\n",
            "Epoch 156/400\n",
            "3367/3367 [==============================] - 10s 3ms/step - loss: 0.5441 - accuracy: 0.7885 - f1_m: 0.7998 - precision_m: 0.8692 - recall_m: 0.7428\n",
            "Epoch 157/400\n",
            "3367/3367 [==============================] - 10s 3ms/step - loss: 0.5421 - accuracy: 0.7890 - f1_m: 0.8006 - precision_m: 0.8682 - recall_m: 0.7448\n",
            "Epoch 158/400\n",
            "3367/3367 [==============================] - 10s 3ms/step - loss: 0.5559 - accuracy: 0.7842 - f1_m: 0.7949 - precision_m: 0.8660 - recall_m: 0.7367\n",
            "Epoch 159/400\n",
            "3367/3367 [==============================] - 10s 3ms/step - loss: 0.5488 - accuracy: 0.7858 - f1_m: 0.7970 - precision_m: 0.8676 - recall_m: 0.7390\n",
            "Epoch 160/400\n",
            "3367/3367 [==============================] - 10s 3ms/step - loss: 0.5495 - accuracy: 0.7861 - f1_m: 0.7961 - precision_m: 0.8687 - recall_m: 0.7369\n",
            "Epoch 161/400\n",
            "3367/3367 [==============================] - 10s 3ms/step - loss: 0.5428 - accuracy: 0.7878 - f1_m: 0.7990 - precision_m: 0.8692 - recall_m: 0.7413\n",
            "Epoch 162/400\n",
            "3367/3367 [==============================] - 10s 3ms/step - loss: 0.5421 - accuracy: 0.7890 - f1_m: 0.7997 - precision_m: 0.8694 - recall_m: 0.7424\n",
            "Epoch 163/400\n",
            "3367/3367 [==============================] - 10s 3ms/step - loss: 0.5440 - accuracy: 0.7884 - f1_m: 0.7990 - precision_m: 0.8691 - recall_m: 0.7415\n",
            "Epoch 164/400\n",
            "3367/3367 [==============================] - 10s 3ms/step - loss: 0.5511 - accuracy: 0.7865 - f1_m: 0.7975 - precision_m: 0.8677 - recall_m: 0.7399\n",
            "Epoch 165/400\n",
            "3367/3367 [==============================] - 10s 3ms/step - loss: 0.5676 - accuracy: 0.7836 - f1_m: 0.7939 - precision_m: 0.8671 - recall_m: 0.7345\n",
            "Epoch 166/400\n",
            "3367/3367 [==============================] - 10s 3ms/step - loss: 0.5593 - accuracy: 0.7849 - f1_m: 0.7957 - precision_m: 0.8675 - recall_m: 0.7370\n",
            "Epoch 167/400\n",
            "3367/3367 [==============================] - 11s 3ms/step - loss: 0.5428 - accuracy: 0.7885 - f1_m: 0.7991 - precision_m: 0.8676 - recall_m: 0.7426\n",
            "Epoch 168/400\n",
            "3367/3367 [==============================] - 10s 3ms/step - loss: 0.5473 - accuracy: 0.7878 - f1_m: 0.7982 - precision_m: 0.8671 - recall_m: 0.7416\n",
            "Epoch 169/400\n",
            "3367/3367 [==============================] - 10s 3ms/step - loss: 0.5479 - accuracy: 0.7882 - f1_m: 0.7993 - precision_m: 0.8699 - recall_m: 0.7413\n",
            "Epoch 170/400\n",
            "3367/3367 [==============================] - 10s 3ms/step - loss: 0.5412 - accuracy: 0.7884 - f1_m: 0.7989 - precision_m: 0.8675 - recall_m: 0.7424\n",
            "Epoch 171/400\n",
            "3367/3367 [==============================] - 10s 3ms/step - loss: 0.5572 - accuracy: 0.7835 - f1_m: 0.7955 - precision_m: 0.8677 - recall_m: 0.7370\n",
            "Epoch 172/400\n",
            "3367/3367 [==============================] - 10s 3ms/step - loss: 0.5851 - accuracy: 0.7754 - f1_m: 0.7854 - precision_m: 0.8690 - recall_m: 0.7201\n",
            "Epoch 173/400\n",
            "3367/3367 [==============================] - 10s 3ms/step - loss: 0.5485 - accuracy: 0.7869 - f1_m: 0.7979 - precision_m: 0.8703 - recall_m: 0.7387\n",
            "Epoch 174/400\n",
            "3367/3367 [==============================] - 10s 3ms/step - loss: 0.5397 - accuracy: 0.7900 - f1_m: 0.8010 - precision_m: 0.8710 - recall_m: 0.7436\n",
            "Epoch 175/400\n",
            "3367/3367 [==============================] - 10s 3ms/step - loss: 0.5522 - accuracy: 0.7854 - f1_m: 0.7961 - precision_m: 0.8676 - recall_m: 0.7377\n",
            "Epoch 176/400\n",
            "3367/3367 [==============================] - 10s 3ms/step - loss: 0.5425 - accuracy: 0.7879 - f1_m: 0.7992 - precision_m: 0.8706 - recall_m: 0.7407\n",
            "Epoch 177/400\n",
            "3367/3367 [==============================] - 10s 3ms/step - loss: 0.5390 - accuracy: 0.7890 - f1_m: 0.8003 - precision_m: 0.8709 - recall_m: 0.7423\n",
            "Epoch 178/400\n",
            "3367/3367 [==============================] - 11s 3ms/step - loss: 0.5414 - accuracy: 0.7894 - f1_m: 0.8001 - precision_m: 0.8704 - recall_m: 0.7423\n",
            "Epoch 179/400\n",
            "3367/3367 [==============================] - 11s 3ms/step - loss: 0.5902 - accuracy: 0.7719 - f1_m: 0.7792 - precision_m: 0.8674 - recall_m: 0.7102\n",
            "Epoch 180/400\n",
            "3367/3367 [==============================] - 11s 3ms/step - loss: 0.5496 - accuracy: 0.7845 - f1_m: 0.7938 - precision_m: 0.8720 - recall_m: 0.7307\n",
            "Epoch 181/400\n",
            "3367/3367 [==============================] - 11s 3ms/step - loss: 0.5506 - accuracy: 0.7847 - f1_m: 0.7953 - precision_m: 0.8692 - recall_m: 0.7351\n",
            "Epoch 182/400\n",
            "3367/3367 [==============================] - 10s 3ms/step - loss: 0.5522 - accuracy: 0.7849 - f1_m: 0.7962 - precision_m: 0.8700 - recall_m: 0.7362\n",
            "Epoch 183/400\n",
            "3367/3367 [==============================] - 10s 3ms/step - loss: 0.5388 - accuracy: 0.7895 - f1_m: 0.8005 - precision_m: 0.8697 - recall_m: 0.7434\n",
            "Epoch 184/400\n",
            "3367/3367 [==============================] - 11s 3ms/step - loss: 0.5765 - accuracy: 0.7768 - f1_m: 0.7871 - precision_m: 0.8657 - recall_m: 0.7241\n",
            "Epoch 185/400\n",
            "3367/3367 [==============================] - 11s 3ms/step - loss: 0.5477 - accuracy: 0.7873 - f1_m: 0.7973 - precision_m: 0.8672 - recall_m: 0.7399\n",
            "Epoch 186/400\n",
            "3367/3367 [==============================] - 11s 3ms/step - loss: 0.5394 - accuracy: 0.7894 - f1_m: 0.8003 - precision_m: 0.8701 - recall_m: 0.7429\n",
            "Epoch 187/400\n",
            "3367/3367 [==============================] - 11s 3ms/step - loss: 0.5495 - accuracy: 0.7860 - f1_m: 0.7972 - precision_m: 0.8685 - recall_m: 0.7388\n",
            "Epoch 188/400\n",
            "3367/3367 [==============================] - 11s 3ms/step - loss: 0.5497 - accuracy: 0.7848 - f1_m: 0.7959 - precision_m: 0.8690 - recall_m: 0.7363\n",
            "Epoch 189/400\n",
            "3367/3367 [==============================] - 11s 3ms/step - loss: 0.5349 - accuracy: 0.7893 - f1_m: 0.8008 - precision_m: 0.8703 - recall_m: 0.7437\n",
            "Epoch 190/400\n",
            "3367/3367 [==============================] - 11s 3ms/step - loss: 0.5369 - accuracy: 0.7892 - f1_m: 0.8009 - precision_m: 0.8696 - recall_m: 0.7443\n",
            "Epoch 191/400\n",
            "3367/3367 [==============================] - 11s 3ms/step - loss: 0.5416 - accuracy: 0.7882 - f1_m: 0.8001 - precision_m: 0.8687 - recall_m: 0.7435\n",
            "Epoch 192/400\n",
            "3367/3367 [==============================] - 11s 3ms/step - loss: 0.5512 - accuracy: 0.7869 - f1_m: 0.7982 - precision_m: 0.8698 - recall_m: 0.7396\n",
            "Epoch 193/400\n",
            "3367/3367 [==============================] - 11s 3ms/step - loss: 0.5370 - accuracy: 0.7906 - f1_m: 0.8021 - precision_m: 0.8711 - recall_m: 0.7452\n",
            "Epoch 194/400\n",
            "3367/3367 [==============================] - 11s 3ms/step - loss: 0.5347 - accuracy: 0.7885 - f1_m: 0.8003 - precision_m: 0.8699 - recall_m: 0.7430\n",
            "Epoch 195/400\n",
            "3367/3367 [==============================] - 11s 3ms/step - loss: 0.5365 - accuracy: 0.7885 - f1_m: 0.8002 - precision_m: 0.8698 - recall_m: 0.7429\n",
            "Epoch 196/400\n",
            "3367/3367 [==============================] - 11s 3ms/step - loss: 0.5451 - accuracy: 0.7862 - f1_m: 0.7977 - precision_m: 0.8687 - recall_m: 0.7395\n",
            "Epoch 197/400\n",
            "3367/3367 [==============================] - 11s 3ms/step - loss: 0.5439 - accuracy: 0.7859 - f1_m: 0.7979 - precision_m: 0.8671 - recall_m: 0.7409\n",
            "Epoch 198/400\n",
            "3367/3367 [==============================] - 11s 3ms/step - loss: 0.5405 - accuracy: 0.7872 - f1_m: 0.7986 - precision_m: 0.8698 - recall_m: 0.7403\n",
            "Epoch 199/400\n",
            "3367/3367 [==============================] - 11s 3ms/step - loss: 0.5417 - accuracy: 0.7876 - f1_m: 0.7987 - precision_m: 0.8679 - recall_m: 0.7418\n",
            "Epoch 200/400\n",
            "3367/3367 [==============================] - 11s 3ms/step - loss: 0.5640 - accuracy: 0.7808 - f1_m: 0.7928 - precision_m: 0.8701 - recall_m: 0.7307\n",
            "Epoch 201/400\n",
            "3367/3367 [==============================] - 11s 3ms/step - loss: 0.5496 - accuracy: 0.7857 - f1_m: 0.7971 - precision_m: 0.8682 - recall_m: 0.7389\n",
            "Epoch 202/400\n",
            "3367/3367 [==============================] - 11s 3ms/step - loss: 0.5354 - accuracy: 0.7883 - f1_m: 0.8004 - precision_m: 0.8715 - recall_m: 0.7422\n",
            "Epoch 203/400\n",
            "3367/3367 [==============================] - 11s 3ms/step - loss: 0.5484 - accuracy: 0.7857 - f1_m: 0.7969 - precision_m: 0.8666 - recall_m: 0.7397\n",
            "Epoch 204/400\n",
            "3367/3367 [==============================] - 11s 3ms/step - loss: 0.5355 - accuracy: 0.7881 - f1_m: 0.8003 - precision_m: 0.8716 - recall_m: 0.7419\n",
            "Epoch 205/400\n",
            "3367/3367 [==============================] - 11s 3ms/step - loss: 0.5579 - accuracy: 0.7839 - f1_m: 0.7947 - precision_m: 0.8699 - recall_m: 0.7341\n",
            "Epoch 206/400\n",
            "3367/3367 [==============================] - 11s 3ms/step - loss: 0.5436 - accuracy: 0.7860 - f1_m: 0.7979 - precision_m: 0.8716 - recall_m: 0.7380\n",
            "Epoch 207/400\n",
            "3367/3367 [==============================] - 11s 3ms/step - loss: 0.5338 - accuracy: 0.7900 - f1_m: 0.8024 - precision_m: 0.8718 - recall_m: 0.7452\n",
            "Epoch 208/400\n",
            "3367/3367 [==============================] - 11s 3ms/step - loss: 0.5481 - accuracy: 0.7851 - f1_m: 0.7965 - precision_m: 0.8692 - recall_m: 0.7373\n",
            "Epoch 209/400\n",
            "3367/3367 [==============================] - 11s 3ms/step - loss: 0.5775 - accuracy: 0.7788 - f1_m: 0.7877 - precision_m: 0.8648 - recall_m: 0.7255\n",
            "Epoch 210/400\n",
            "3367/3367 [==============================] - 11s 3ms/step - loss: 0.5640 - accuracy: 0.7818 - f1_m: 0.7895 - precision_m: 0.8641 - recall_m: 0.7290\n",
            "Epoch 211/400\n",
            "3367/3367 [==============================] - 12s 3ms/step - loss: 0.5573 - accuracy: 0.7851 - f1_m: 0.7922 - precision_m: 0.8681 - recall_m: 0.7307\n",
            "Epoch 212/400\n",
            "3367/3367 [==============================] - 12s 4ms/step - loss: 0.5762 - accuracy: 0.7784 - f1_m: 0.7855 - precision_m: 0.8670 - recall_m: 0.7206\n",
            "Epoch 213/400\n",
            "3367/3367 [==============================] - 12s 4ms/step - loss: 0.5546 - accuracy: 0.7847 - f1_m: 0.7919 - precision_m: 0.8685 - recall_m: 0.7300\n",
            "Epoch 214/400\n",
            "3367/3367 [==============================] - 12s 4ms/step - loss: 0.5491 - accuracy: 0.7867 - f1_m: 0.7947 - precision_m: 0.8714 - recall_m: 0.7325\n",
            "Epoch 215/400\n",
            "3367/3367 [==============================] - 13s 4ms/step - loss: 0.5520 - accuracy: 0.7856 - f1_m: 0.7951 - precision_m: 0.8660 - recall_m: 0.7370\n",
            "Epoch 216/400\n",
            "3367/3367 [==============================] - 13s 4ms/step - loss: 0.5440 - accuracy: 0.7888 - f1_m: 0.7994 - precision_m: 0.8701 - recall_m: 0.7413\n",
            "Epoch 217/400\n",
            "3367/3367 [==============================] - 13s 4ms/step - loss: 0.5615 - accuracy: 0.7842 - f1_m: 0.7948 - precision_m: 0.8679 - recall_m: 0.7351\n",
            "Epoch 218/400\n",
            "3367/3367 [==============================] - 12s 4ms/step - loss: 0.5650 - accuracy: 0.7816 - f1_m: 0.7899 - precision_m: 0.8655 - recall_m: 0.7286\n",
            "Epoch 219/400\n",
            "3367/3367 [==============================] - 12s 4ms/step - loss: 0.5467 - accuracy: 0.7867 - f1_m: 0.7967 - precision_m: 0.8675 - recall_m: 0.7388\n",
            "Epoch 220/400\n",
            "3367/3367 [==============================] - 12s 4ms/step - loss: 0.5740 - accuracy: 0.7784 - f1_m: 0.7883 - precision_m: 0.8650 - recall_m: 0.7266\n",
            "Epoch 221/400\n",
            "3367/3367 [==============================] - 12s 4ms/step - loss: 0.5514 - accuracy: 0.7850 - f1_m: 0.7970 - precision_m: 0.8668 - recall_m: 0.7398\n",
            "Epoch 222/400\n",
            "3367/3367 [==============================] - 12s 4ms/step - loss: 0.6159 - accuracy: 0.7670 - f1_m: 0.7762 - precision_m: 0.8672 - recall_m: 0.7057\n",
            "Epoch 223/400\n",
            "3367/3367 [==============================] - 11s 3ms/step - loss: 0.5699 - accuracy: 0.7826 - f1_m: 0.7911 - precision_m: 0.8644 - recall_m: 0.7315\n",
            "Epoch 224/400\n",
            "3367/3367 [==============================] - 11s 3ms/step - loss: 0.5789 - accuracy: 0.7797 - f1_m: 0.7890 - precision_m: 0.8630 - recall_m: 0.7290\n",
            "Epoch 225/400\n",
            "3367/3367 [==============================] - 12s 3ms/step - loss: 0.5501 - accuracy: 0.7875 - f1_m: 0.7971 - precision_m: 0.8678 - recall_m: 0.7391\n",
            "Epoch 226/400\n",
            "3367/3367 [==============================] - 12s 3ms/step - loss: 0.5441 - accuracy: 0.7876 - f1_m: 0.7992 - precision_m: 0.8687 - recall_m: 0.7421\n",
            "Epoch 227/400\n",
            "3367/3367 [==============================] - 12s 4ms/step - loss: 0.5419 - accuracy: 0.7889 - f1_m: 0.8003 - precision_m: 0.8693 - recall_m: 0.7434\n",
            "Epoch 228/400\n",
            "3367/3367 [==============================] - 12s 4ms/step - loss: 0.5483 - accuracy: 0.7869 - f1_m: 0.7979 - precision_m: 0.8698 - recall_m: 0.7391\n",
            "Epoch 229/400\n",
            "3367/3367 [==============================] - 12s 4ms/step - loss: 0.5431 - accuracy: 0.7882 - f1_m: 0.8002 - precision_m: 0.8705 - recall_m: 0.7424\n",
            "Epoch 230/400\n",
            "3367/3367 [==============================] - 12s 4ms/step - loss: 0.5498 - accuracy: 0.7856 - f1_m: 0.7966 - precision_m: 0.8692 - recall_m: 0.7373\n",
            "Epoch 231/400\n",
            "3367/3367 [==============================] - 13s 4ms/step - loss: 0.5465 - accuracy: 0.7867 - f1_m: 0.7989 - precision_m: 0.8682 - recall_m: 0.7419\n",
            "Epoch 232/400\n",
            "3367/3367 [==============================] - 13s 4ms/step - loss: 0.5425 - accuracy: 0.7883 - f1_m: 0.7997 - precision_m: 0.8669 - recall_m: 0.7441\n",
            "Epoch 233/400\n",
            "3367/3367 [==============================] - 13s 4ms/step - loss: 0.5816 - accuracy: 0.7766 - f1_m: 0.7850 - precision_m: 0.8680 - recall_m: 0.7191\n",
            "Epoch 234/400\n",
            "3367/3367 [==============================] - 13s 4ms/step - loss: 0.5451 - accuracy: 0.7865 - f1_m: 0.7970 - precision_m: 0.8696 - recall_m: 0.7376\n",
            "Epoch 235/400\n",
            "3367/3367 [==============================] - 12s 4ms/step - loss: 0.5448 - accuracy: 0.7867 - f1_m: 0.7985 - precision_m: 0.8705 - recall_m: 0.7397\n",
            "Epoch 236/400\n",
            "3367/3367 [==============================] - 12s 4ms/step - loss: 0.5503 - accuracy: 0.7846 - f1_m: 0.7964 - precision_m: 0.8682 - recall_m: 0.7376\n",
            "Epoch 237/400\n",
            "3367/3367 [==============================] - 13s 4ms/step - loss: 0.7394 - accuracy: 0.7882 - f1_m: 0.8000 - precision_m: 0.8686 - recall_m: 0.7434\n",
            "Epoch 238/400\n",
            "3367/3367 [==============================] - 13s 4ms/step - loss: 0.5388 - accuracy: 0.7892 - f1_m: 0.8019 - precision_m: 0.8691 - recall_m: 0.7464\n",
            "Epoch 239/400\n",
            "3367/3367 [==============================] - 13s 4ms/step - loss: 0.5273 - accuracy: 0.7917 - f1_m: 0.8034 - precision_m: 0.8690 - recall_m: 0.7489\n",
            "Epoch 240/400\n",
            "3367/3367 [==============================] - 13s 4ms/step - loss: 0.5352 - accuracy: 0.7880 - f1_m: 0.8010 - precision_m: 0.8693 - recall_m: 0.7446\n",
            "Epoch 241/400\n",
            "3367/3367 [==============================] - 13s 4ms/step - loss: 0.5307 - accuracy: 0.7895 - f1_m: 0.8021 - precision_m: 0.8710 - recall_m: 0.7454\n",
            "Epoch 242/400\n",
            "3367/3367 [==============================] - 13s 4ms/step - loss: 0.6240 - accuracy: 0.7847 - f1_m: 0.7964 - precision_m: 0.8699 - recall_m: 0.7367\n",
            "Epoch 243/400\n",
            "3367/3367 [==============================] - 12s 4ms/step - loss: 0.5307 - accuracy: 0.7895 - f1_m: 0.8014 - precision_m: 0.8713 - recall_m: 0.7440\n",
            "Epoch 244/400\n",
            "3367/3367 [==============================] - 12s 4ms/step - loss: 0.5365 - accuracy: 0.7892 - f1_m: 0.8004 - precision_m: 0.8701 - recall_m: 0.7431\n",
            "Epoch 245/400\n",
            "3367/3367 [==============================] - 13s 4ms/step - loss: 0.5433 - accuracy: 0.7867 - f1_m: 0.7979 - precision_m: 0.8698 - recall_m: 0.7393\n",
            "Epoch 246/400\n",
            "3367/3367 [==============================] - 13s 4ms/step - loss: 0.5398 - accuracy: 0.7872 - f1_m: 0.7986 - precision_m: 0.8678 - recall_m: 0.7417\n",
            "Epoch 247/400\n",
            "3367/3367 [==============================] - 13s 4ms/step - loss: 0.5399 - accuracy: 0.7878 - f1_m: 0.7996 - precision_m: 0.8688 - recall_m: 0.7427\n",
            "Epoch 248/400\n",
            "3367/3367 [==============================] - 13s 4ms/step - loss: 0.5330 - accuracy: 0.7886 - f1_m: 0.8008 - precision_m: 0.8688 - recall_m: 0.7447\n",
            "Epoch 249/400\n",
            "3367/3367 [==============================] - 14s 4ms/step - loss: 0.5411 - accuracy: 0.7863 - f1_m: 0.7982 - precision_m: 0.8686 - recall_m: 0.7404\n",
            "Epoch 250/400\n",
            "3367/3367 [==============================] - 14s 4ms/step - loss: 0.5289 - accuracy: 0.7908 - f1_m: 0.8026 - precision_m: 0.8703 - recall_m: 0.7467\n",
            "Epoch 251/400\n",
            "3367/3367 [==============================] - 13s 4ms/step - loss: 0.5407 - accuracy: 0.7869 - f1_m: 0.7994 - precision_m: 0.8682 - recall_m: 0.7427\n",
            "Epoch 252/400\n",
            "3367/3367 [==============================] - 13s 4ms/step - loss: 0.5284 - accuracy: 0.7904 - f1_m: 0.8031 - precision_m: 0.8705 - recall_m: 0.7474\n",
            "Epoch 253/400\n",
            "3367/3367 [==============================] - 13s 4ms/step - loss: 0.5347 - accuracy: 0.7901 - f1_m: 0.8017 - precision_m: 0.8699 - recall_m: 0.7454\n",
            "Epoch 254/400\n",
            "3367/3367 [==============================] - 13s 4ms/step - loss: 0.5436 - accuracy: 0.7870 - f1_m: 0.7986 - precision_m: 0.8692 - recall_m: 0.7407\n",
            "Epoch 255/400\n",
            "3367/3367 [==============================] - 13s 4ms/step - loss: 0.5385 - accuracy: 0.7892 - f1_m: 0.8012 - precision_m: 0.8704 - recall_m: 0.7444\n",
            "Epoch 256/400\n",
            "3367/3367 [==============================] - 13s 4ms/step - loss: 0.5398 - accuracy: 0.7875 - f1_m: 0.8005 - precision_m: 0.8696 - recall_m: 0.7435\n",
            "Epoch 257/400\n",
            "3367/3367 [==============================] - 12s 4ms/step - loss: 0.5333 - accuracy: 0.7899 - f1_m: 0.8019 - precision_m: 0.8704 - recall_m: 0.7455\n",
            "Epoch 258/400\n",
            "3367/3367 [==============================] - 13s 4ms/step - loss: 0.5450 - accuracy: 0.7889 - f1_m: 0.8025 - precision_m: 0.8710 - recall_m: 0.7459\n",
            "Epoch 259/400\n",
            "3367/3367 [==============================] - 13s 4ms/step - loss: 0.5469 - accuracy: 0.7869 - f1_m: 0.7973 - precision_m: 0.8697 - recall_m: 0.7382\n",
            "Epoch 260/400\n",
            "3367/3367 [==============================] - 13s 4ms/step - loss: 0.5329 - accuracy: 0.7906 - f1_m: 0.8016 - precision_m: 0.8700 - recall_m: 0.7452\n",
            "Epoch 261/400\n",
            "3367/3367 [==============================] - 13s 4ms/step - loss: 0.5400 - accuracy: 0.7879 - f1_m: 0.7996 - precision_m: 0.8699 - recall_m: 0.7420\n",
            "Epoch 262/400\n",
            "3367/3367 [==============================] - 13s 4ms/step - loss: 0.5377 - accuracy: 0.7886 - f1_m: 0.8007 - precision_m: 0.8696 - recall_m: 0.7440\n",
            "Epoch 263/400\n",
            "3367/3367 [==============================] - 13s 4ms/step - loss: 0.5435 - accuracy: 0.7879 - f1_m: 0.7997 - precision_m: 0.8704 - recall_m: 0.7418\n",
            "Epoch 264/400\n",
            "3367/3367 [==============================] - 14s 4ms/step - loss: 0.5798 - accuracy: 0.7877 - f1_m: 0.8000 - precision_m: 0.8703 - recall_m: 0.7423\n",
            "Epoch 265/400\n",
            "3367/3367 [==============================] - 13s 4ms/step - loss: 0.5570 - accuracy: 0.7838 - f1_m: 0.7952 - precision_m: 0.8660 - recall_m: 0.7372\n",
            "Epoch 266/400\n",
            "3367/3367 [==============================] - 13s 4ms/step - loss: 0.5351 - accuracy: 0.7899 - f1_m: 0.8016 - precision_m: 0.8706 - recall_m: 0.7450\n",
            "Epoch 267/400\n",
            "3367/3367 [==============================] - 13s 4ms/step - loss: 0.5324 - accuracy: 0.7896 - f1_m: 0.8026 - precision_m: 0.8707 - recall_m: 0.7462\n",
            "Epoch 268/400\n",
            "3367/3367 [==============================] - 13s 4ms/step - loss: 0.5415 - accuracy: 0.7880 - f1_m: 0.7999 - precision_m: 0.8683 - recall_m: 0.7434\n",
            "Epoch 269/400\n",
            "3367/3367 [==============================] - 13s 4ms/step - loss: 0.5455 - accuracy: 0.7858 - f1_m: 0.7980 - precision_m: 0.8692 - recall_m: 0.7398\n",
            "Epoch 270/400\n",
            "3367/3367 [==============================] - 13s 4ms/step - loss: 0.5683 - accuracy: 0.7842 - f1_m: 0.7955 - precision_m: 0.8691 - recall_m: 0.7358\n",
            "Epoch 271/400\n",
            "3367/3367 [==============================] - 13s 4ms/step - loss: 0.5698 - accuracy: 0.7777 - f1_m: 0.7889 - precision_m: 0.8644 - recall_m: 0.7278\n",
            "Epoch 272/400\n",
            "3367/3367 [==============================] - 13s 4ms/step - loss: 0.6168 - accuracy: 0.7672 - f1_m: 0.7745 - precision_m: 0.8736 - recall_m: 0.6993\n",
            "Epoch 273/400\n",
            "3367/3367 [==============================] - 13s 4ms/step - loss: 0.5982 - accuracy: 0.7755 - f1_m: 0.7813 - precision_m: 0.8687 - recall_m: 0.7124\n",
            "Epoch 274/400\n",
            "3367/3367 [==============================] - 13s 4ms/step - loss: 0.5731 - accuracy: 0.7812 - f1_m: 0.7889 - precision_m: 0.8663 - recall_m: 0.7265\n",
            "Epoch 275/400\n",
            "3367/3367 [==============================] - 13s 4ms/step - loss: 0.5699 - accuracy: 0.7820 - f1_m: 0.7894 - precision_m: 0.8686 - recall_m: 0.7258\n",
            "Epoch 276/400\n",
            "3367/3367 [==============================] - 13s 4ms/step - loss: 0.6056 - accuracy: 0.7721 - f1_m: 0.7807 - precision_m: 0.8687 - recall_m: 0.7118\n",
            "Epoch 277/400\n",
            "3367/3367 [==============================] - 13s 4ms/step - loss: 0.5676 - accuracy: 0.7812 - f1_m: 0.7915 - precision_m: 0.8685 - recall_m: 0.7294\n",
            "Epoch 278/400\n",
            "3367/3367 [==============================] - 13s 4ms/step - loss: 0.5856 - accuracy: 0.7791 - f1_m: 0.7858 - precision_m: 0.8674 - recall_m: 0.7212\n",
            "Epoch 279/400\n",
            "3367/3367 [==============================] - 13s 4ms/step - loss: 0.5948 - accuracy: 0.7754 - f1_m: 0.7840 - precision_m: 0.8646 - recall_m: 0.7196\n",
            "Epoch 280/400\n",
            "3367/3367 [==============================] - 13s 4ms/step - loss: 0.5832 - accuracy: 0.7795 - f1_m: 0.7888 - precision_m: 0.8665 - recall_m: 0.7265\n",
            "Epoch 281/400\n",
            "3367/3367 [==============================] - 13s 4ms/step - loss: 0.5699 - accuracy: 0.7797 - f1_m: 0.7893 - precision_m: 0.8677 - recall_m: 0.7262\n",
            "Epoch 282/400\n",
            "3367/3367 [==============================] - 13s 4ms/step - loss: 0.5544 - accuracy: 0.7840 - f1_m: 0.7955 - precision_m: 0.8684 - recall_m: 0.7359\n",
            "Epoch 283/400\n",
            "3367/3367 [==============================] - 13s 4ms/step - loss: 0.5632 - accuracy: 0.7823 - f1_m: 0.7936 - precision_m: 0.8699 - recall_m: 0.7320\n",
            "Epoch 284/400\n",
            "3367/3367 [==============================] - 13s 4ms/step - loss: 0.5477 - accuracy: 0.7860 - f1_m: 0.7982 - precision_m: 0.8667 - recall_m: 0.7417\n",
            "Epoch 285/400\n",
            "3367/3367 [==============================] - 13s 4ms/step - loss: 0.5995 - accuracy: 0.7721 - f1_m: 0.7810 - precision_m: 0.8643 - recall_m: 0.7152\n",
            "Epoch 286/400\n",
            "3367/3367 [==============================] - 13s 4ms/step - loss: 0.6418 - accuracy: 0.7588 - f1_m: 0.7644 - precision_m: 0.8571 - recall_m: 0.6951\n",
            "Epoch 287/400\n",
            "3367/3367 [==============================] - 13s 4ms/step - loss: 0.6304 - accuracy: 0.7613 - f1_m: 0.7671 - precision_m: 0.8651 - recall_m: 0.6917\n",
            "Epoch 288/400\n",
            "3367/3367 [==============================] - 13s 4ms/step - loss: 0.6007 - accuracy: 0.7715 - f1_m: 0.7788 - precision_m: 0.8595 - recall_m: 0.7143\n",
            "Epoch 289/400\n",
            "3367/3367 [==============================] - 13s 4ms/step - loss: 0.5779 - accuracy: 0.7785 - f1_m: 0.7871 - precision_m: 0.8626 - recall_m: 0.7260\n",
            "Epoch 290/400\n",
            "3367/3367 [==============================] - 13s 4ms/step - loss: 0.5742 - accuracy: 0.7793 - f1_m: 0.7875 - precision_m: 0.8651 - recall_m: 0.7252\n",
            "Epoch 291/400\n",
            "3367/3367 [==============================] - 13s 4ms/step - loss: 0.5738 - accuracy: 0.7826 - f1_m: 0.7922 - precision_m: 0.8666 - recall_m: 0.7319\n",
            "Epoch 292/400\n",
            "3367/3367 [==============================] - 13s 4ms/step - loss: 0.6407 - accuracy: 0.7781 - f1_m: 0.7870 - precision_m: 0.8654 - recall_m: 0.7244\n",
            "Epoch 293/400\n",
            "3367/3367 [==============================] - 13s 4ms/step - loss: 0.5538 - accuracy: 0.7827 - f1_m: 0.7931 - precision_m: 0.8687 - recall_m: 0.7319\n",
            "Epoch 294/400\n",
            "3367/3367 [==============================] - 12s 4ms/step - loss: 0.5478 - accuracy: 0.7871 - f1_m: 0.7985 - precision_m: 0.8679 - recall_m: 0.7413\n",
            "Epoch 295/400\n",
            "3367/3367 [==============================] - 12s 4ms/step - loss: 0.5529 - accuracy: 0.7851 - f1_m: 0.7956 - precision_m: 0.8676 - recall_m: 0.7367\n",
            "Epoch 296/400\n",
            "3367/3367 [==============================] - 13s 4ms/step - loss: 0.5531 - accuracy: 0.7847 - f1_m: 0.7953 - precision_m: 0.8670 - recall_m: 0.7367\n",
            "Epoch 297/400\n",
            "3367/3367 [==============================] - 13s 4ms/step - loss: 0.5464 - accuracy: 0.7862 - f1_m: 0.7972 - precision_m: 0.8695 - recall_m: 0.7381\n",
            "Epoch 298/400\n",
            "3367/3367 [==============================] - 13s 4ms/step - loss: 0.5627 - accuracy: 0.7806 - f1_m: 0.7915 - precision_m: 0.8657 - recall_m: 0.7313\n",
            "Epoch 299/400\n",
            "3367/3367 [==============================] - 13s 4ms/step - loss: 0.6147 - accuracy: 0.7721 - f1_m: 0.7807 - precision_m: 0.8688 - recall_m: 0.7117\n",
            "Epoch 300/400\n",
            "3367/3367 [==============================] - 13s 4ms/step - loss: 0.6128 - accuracy: 0.7698 - f1_m: 0.7840 - precision_m: 0.8746 - recall_m: 0.7131\n",
            "Epoch 301/400\n",
            "3367/3367 [==============================] - 13s 4ms/step - loss: 0.6248 - accuracy: 0.7596 - f1_m: 0.7738 - precision_m: 0.8696 - recall_m: 0.7005\n",
            "Epoch 302/400\n",
            "3367/3367 [==============================] - 13s 4ms/step - loss: 0.6330 - accuracy: 0.7499 - f1_m: 0.7660 - precision_m: 0.8761 - recall_m: 0.6836\n",
            "Epoch 303/400\n",
            "3367/3367 [==============================] - 13s 4ms/step - loss: 0.6072 - accuracy: 0.7665 - f1_m: 0.7778 - precision_m: 0.8753 - recall_m: 0.7027\n",
            "Epoch 304/400\n",
            "3367/3367 [==============================] - 13s 4ms/step - loss: 0.5822 - accuracy: 0.7794 - f1_m: 0.7873 - precision_m: 0.8685 - recall_m: 0.7224\n",
            "Epoch 305/400\n",
            "3367/3367 [==============================] - 12s 4ms/step - loss: 0.5760 - accuracy: 0.7798 - f1_m: 0.7898 - precision_m: 0.8678 - recall_m: 0.7270\n",
            "Epoch 306/400\n",
            "3367/3367 [==============================] - 13s 4ms/step - loss: 0.5864 - accuracy: 0.7767 - f1_m: 0.7859 - precision_m: 0.8679 - recall_m: 0.7206\n",
            "Epoch 307/400\n",
            "3367/3367 [==============================] - 13s 4ms/step - loss: 0.5702 - accuracy: 0.7796 - f1_m: 0.7901 - precision_m: 0.8688 - recall_m: 0.7270\n",
            "Epoch 308/400\n",
            "3367/3367 [==============================] - 12s 4ms/step - loss: 0.5531 - accuracy: 0.7846 - f1_m: 0.7969 - precision_m: 0.8680 - recall_m: 0.7389\n",
            "Epoch 309/400\n",
            "3367/3367 [==============================] - 12s 4ms/step - loss: 0.6023 - accuracy: 0.7713 - f1_m: 0.7771 - precision_m: 0.8699 - recall_m: 0.7057\n",
            "Epoch 310/400\n",
            "3367/3367 [==============================] - 12s 4ms/step - loss: 0.5578 - accuracy: 0.7836 - f1_m: 0.7937 - precision_m: 0.8672 - recall_m: 0.7339\n",
            "Epoch 311/400\n",
            "3367/3367 [==============================] - 12s 4ms/step - loss: 0.5541 - accuracy: 0.7836 - f1_m: 0.7955 - precision_m: 0.8660 - recall_m: 0.7377\n",
            "Epoch 312/400\n",
            "3367/3367 [==============================] - 12s 4ms/step - loss: 0.5480 - accuracy: 0.7859 - f1_m: 0.7978 - precision_m: 0.8671 - recall_m: 0.7411\n",
            "Epoch 313/400\n",
            "3367/3367 [==============================] - 12s 4ms/step - loss: 0.5641 - accuracy: 0.7819 - f1_m: 0.7925 - precision_m: 0.8689 - recall_m: 0.7311\n",
            "Epoch 314/400\n",
            "3367/3367 [==============================] - 12s 4ms/step - loss: 0.5712 - accuracy: 0.7789 - f1_m: 0.7900 - precision_m: 0.8654 - recall_m: 0.7297\n",
            "Epoch 315/400\n",
            "3367/3367 [==============================] - 12s 4ms/step - loss: 0.6183 - accuracy: 0.7652 - f1_m: 0.7699 - precision_m: 0.8620 - recall_m: 0.6987\n",
            "Epoch 316/400\n",
            "3367/3367 [==============================] - 12s 4ms/step - loss: 0.5469 - accuracy: 0.7863 - f1_m: 0.7985 - precision_m: 0.8689 - recall_m: 0.7407\n",
            "Epoch 317/400\n",
            "3367/3367 [==============================] - 12s 4ms/step - loss: 0.6014 - accuracy: 0.7691 - f1_m: 0.7795 - precision_m: 0.8712 - recall_m: 0.7082\n",
            "Epoch 318/400\n",
            "3367/3367 [==============================] - 12s 4ms/step - loss: 0.6613 - accuracy: 0.7551 - f1_m: 0.7603 - precision_m: 0.8653 - recall_m: 0.6830\n",
            "Epoch 319/400\n",
            "3367/3367 [==============================] - 13s 4ms/step - loss: 0.6391 - accuracy: 0.7593 - f1_m: 0.7625 - precision_m: 0.8598 - recall_m: 0.6878\n",
            "Epoch 320/400\n",
            "3367/3367 [==============================] - 13s 4ms/step - loss: 0.6104 - accuracy: 0.7691 - f1_m: 0.7768 - precision_m: 0.8646 - recall_m: 0.7078\n",
            "Epoch 321/400\n",
            "3367/3367 [==============================] - 13s 4ms/step - loss: 0.5845 - accuracy: 0.7772 - f1_m: 0.7848 - precision_m: 0.8637 - recall_m: 0.7213\n",
            "Epoch 322/400\n",
            "3367/3367 [==============================] - 13s 4ms/step - loss: 0.5787 - accuracy: 0.7788 - f1_m: 0.7861 - precision_m: 0.8644 - recall_m: 0.7232\n",
            "Epoch 323/400\n",
            "3367/3367 [==============================] - 13s 4ms/step - loss: 0.5856 - accuracy: 0.7770 - f1_m: 0.7839 - precision_m: 0.8680 - recall_m: 0.7173\n",
            "Epoch 324/400\n",
            "3367/3367 [==============================] - 13s 4ms/step - loss: 0.5626 - accuracy: 0.7836 - f1_m: 0.7916 - precision_m: 0.8686 - recall_m: 0.7293\n",
            "Epoch 325/400\n",
            "3367/3367 [==============================] - 13s 4ms/step - loss: 0.5708 - accuracy: 0.7814 - f1_m: 0.7894 - precision_m: 0.8692 - recall_m: 0.7255\n",
            "Epoch 326/400\n",
            "3367/3367 [==============================] - 13s 4ms/step - loss: 0.6323 - accuracy: 0.7605 - f1_m: 0.7703 - precision_m: 0.8638 - recall_m: 0.6985\n",
            "Epoch 327/400\n",
            "3367/3367 [==============================] - 13s 4ms/step - loss: 0.6127 - accuracy: 0.7669 - f1_m: 0.7760 - precision_m: 0.8649 - recall_m: 0.7062\n",
            "Epoch 328/400\n",
            "3367/3367 [==============================] - 13s 4ms/step - loss: 0.6055 - accuracy: 0.7703 - f1_m: 0.7795 - precision_m: 0.8676 - recall_m: 0.7105\n",
            "Epoch 329/400\n",
            "3367/3367 [==============================] - 13s 4ms/step - loss: 0.5970 - accuracy: 0.7726 - f1_m: 0.7806 - precision_m: 0.8691 - recall_m: 0.7110\n",
            "Epoch 330/400\n",
            "3367/3367 [==============================] - 13s 4ms/step - loss: 0.6155 - accuracy: 0.7675 - f1_m: 0.7756 - precision_m: 0.8615 - recall_m: 0.7078\n",
            "Epoch 331/400\n",
            "3367/3367 [==============================] - 13s 4ms/step - loss: 0.6186 - accuracy: 0.7649 - f1_m: 0.7715 - precision_m: 0.8656 - recall_m: 0.6986\n",
            "Epoch 332/400\n",
            "3367/3367 [==============================] - 13s 4ms/step - loss: 0.5869 - accuracy: 0.7758 - f1_m: 0.7829 - precision_m: 0.8681 - recall_m: 0.7155\n",
            "Epoch 333/400\n",
            "3367/3367 [==============================] - 13s 4ms/step - loss: 0.5788 - accuracy: 0.7781 - f1_m: 0.7854 - precision_m: 0.8700 - recall_m: 0.7183\n",
            "Epoch 334/400\n",
            "3367/3367 [==============================] - 12s 4ms/step - loss: 0.5758 - accuracy: 0.7768 - f1_m: 0.7847 - precision_m: 0.8670 - recall_m: 0.7190\n",
            "Epoch 335/400\n",
            "3367/3367 [==============================] - 13s 4ms/step - loss: 0.5781 - accuracy: 0.7805 - f1_m: 0.7883 - precision_m: 0.8696 - recall_m: 0.7234\n",
            "Epoch 336/400\n",
            "3367/3367 [==============================] - 12s 4ms/step - loss: 0.6156 - accuracy: 0.7632 - f1_m: 0.7731 - precision_m: 0.8660 - recall_m: 0.7012\n",
            "Epoch 337/400\n",
            "3367/3367 [==============================] - 13s 4ms/step - loss: 0.6213 - accuracy: 0.7667 - f1_m: 0.7730 - precision_m: 0.8703 - recall_m: 0.6987\n",
            "Epoch 338/400\n",
            "3367/3367 [==============================] - 13s 4ms/step - loss: 0.6367 - accuracy: 0.7566 - f1_m: 0.7652 - precision_m: 0.8761 - recall_m: 0.6822\n",
            "Epoch 339/400\n",
            "3367/3367 [==============================] - 13s 4ms/step - loss: 0.6036 - accuracy: 0.7731 - f1_m: 0.7844 - precision_m: 0.8783 - recall_m: 0.7111\n",
            "Epoch 340/400\n",
            "3367/3367 [==============================] - 13s 4ms/step - loss: 0.6573 - accuracy: 0.7570 - f1_m: 0.7698 - precision_m: 0.8803 - recall_m: 0.6876\n",
            "Epoch 341/400\n",
            "3367/3367 [==============================] - 13s 4ms/step - loss: 0.6353 - accuracy: 0.7591 - f1_m: 0.7676 - precision_m: 0.8751 - recall_m: 0.6873\n",
            "Epoch 342/400\n",
            "3367/3367 [==============================] - 13s 4ms/step - loss: 0.5905 - accuracy: 0.7716 - f1_m: 0.7778 - precision_m: 0.8742 - recall_m: 0.7032\n",
            "Epoch 343/400\n",
            "3367/3367 [==============================] - 13s 4ms/step - loss: 0.5727 - accuracy: 0.7778 - f1_m: 0.7839 - precision_m: 0.8726 - recall_m: 0.7142\n",
            "Epoch 344/400\n",
            "3367/3367 [==============================] - 13s 4ms/step - loss: 0.5615 - accuracy: 0.7803 - f1_m: 0.7874 - precision_m: 0.8702 - recall_m: 0.7214\n",
            "Epoch 345/400\n",
            "3367/3367 [==============================] - 13s 4ms/step - loss: 0.5783 - accuracy: 0.7764 - f1_m: 0.7838 - precision_m: 0.8668 - recall_m: 0.7177\n",
            "Epoch 346/400\n",
            "3367/3367 [==============================] - 13s 4ms/step - loss: 0.5704 - accuracy: 0.7795 - f1_m: 0.7875 - precision_m: 0.8692 - recall_m: 0.7223\n",
            "Epoch 347/400\n",
            "3367/3367 [==============================] - 13s 4ms/step - loss: 0.6022 - accuracy: 0.7693 - f1_m: 0.7799 - precision_m: 0.8709 - recall_m: 0.7087\n",
            "Epoch 348/400\n",
            "3367/3367 [==============================] - 13s 4ms/step - loss: 0.5847 - accuracy: 0.7742 - f1_m: 0.7830 - precision_m: 0.8699 - recall_m: 0.7147\n",
            "Epoch 349/400\n",
            "3367/3367 [==============================] - 13s 4ms/step - loss: 0.5871 - accuracy: 0.7745 - f1_m: 0.7794 - precision_m: 0.8750 - recall_m: 0.7056\n",
            "Epoch 350/400\n",
            "3367/3367 [==============================] - 13s 4ms/step - loss: 0.5697 - accuracy: 0.7800 - f1_m: 0.7843 - precision_m: 0.8764 - recall_m: 0.7124\n",
            "Epoch 351/400\n",
            "3367/3367 [==============================] - 13s 4ms/step - loss: 0.6046 - accuracy: 0.7685 - f1_m: 0.7779 - precision_m: 0.8756 - recall_m: 0.7026\n",
            "Epoch 352/400\n",
            "3367/3367 [==============================] - 12s 4ms/step - loss: 0.5566 - accuracy: 0.7832 - f1_m: 0.7901 - precision_m: 0.8750 - recall_m: 0.7227\n",
            "Epoch 353/400\n",
            "3367/3367 [==============================] - 13s 4ms/step - loss: 0.5745 - accuracy: 0.7795 - f1_m: 0.7882 - precision_m: 0.8729 - recall_m: 0.7210\n",
            "Epoch 354/400\n",
            "3367/3367 [==============================] - 13s 4ms/step - loss: 0.6452 - accuracy: 0.7554 - f1_m: 0.7663 - precision_m: 0.8640 - recall_m: 0.6927\n",
            "Epoch 355/400\n",
            "3367/3367 [==============================] - 13s 4ms/step - loss: 0.6376 - accuracy: 0.7567 - f1_m: 0.7682 - precision_m: 0.8741 - recall_m: 0.6882\n",
            "Epoch 356/400\n",
            "3367/3367 [==============================] - 13s 4ms/step - loss: 0.6002 - accuracy: 0.7733 - f1_m: 0.7816 - precision_m: 0.8762 - recall_m: 0.7079\n",
            "Epoch 357/400\n",
            "3367/3367 [==============================] - 13s 4ms/step - loss: 0.6081 - accuracy: 0.7703 - f1_m: 0.7768 - precision_m: 0.8647 - recall_m: 0.7078\n",
            "Epoch 358/400\n",
            "3367/3367 [==============================] - 13s 4ms/step - loss: 0.5876 - accuracy: 0.7730 - f1_m: 0.7835 - precision_m: 0.8711 - recall_m: 0.7145\n",
            "Epoch 359/400\n",
            "3367/3367 [==============================] - 13s 4ms/step - loss: 0.6074 - accuracy: 0.7686 - f1_m: 0.7824 - precision_m: 0.8808 - recall_m: 0.7064\n",
            "Epoch 360/400\n",
            "3367/3367 [==============================] - 13s 4ms/step - loss: 0.6052 - accuracy: 0.7698 - f1_m: 0.7816 - precision_m: 0.8809 - recall_m: 0.7050\n",
            "Epoch 361/400\n",
            "3367/3367 [==============================] - 13s 4ms/step - loss: 0.5938 - accuracy: 0.7770 - f1_m: 0.7869 - precision_m: 0.8843 - recall_m: 0.7114\n",
            "Epoch 362/400\n",
            "3367/3367 [==============================] - 13s 4ms/step - loss: 0.6782 - accuracy: 0.7479 - f1_m: 0.7598 - precision_m: 0.8785 - recall_m: 0.6731\n",
            "Epoch 363/400\n",
            "3367/3367 [==============================] - 13s 4ms/step - loss: 0.6300 - accuracy: 0.7628 - f1_m: 0.7755 - precision_m: 0.8816 - recall_m: 0.6950\n",
            "Epoch 364/400\n",
            "3367/3367 [==============================] - 13s 4ms/step - loss: 0.5792 - accuracy: 0.7759 - f1_m: 0.7876 - precision_m: 0.8738 - recall_m: 0.7193\n",
            "Epoch 365/400\n",
            "3367/3367 [==============================] - 13s 4ms/step - loss: 0.5740 - accuracy: 0.7801 - f1_m: 0.7873 - precision_m: 0.8708 - recall_m: 0.7209\n",
            "Epoch 366/400\n",
            "3367/3367 [==============================] - 13s 4ms/step - loss: 0.5904 - accuracy: 0.7810 - f1_m: 0.7879 - precision_m: 0.8688 - recall_m: 0.7232\n",
            "Epoch 367/400\n",
            "3367/3367 [==============================] - 13s 4ms/step - loss: 0.7046 - accuracy: 0.7384 - f1_m: 0.7510 - precision_m: 0.8701 - recall_m: 0.6650\n",
            "Epoch 368/400\n",
            "3367/3367 [==============================] - 13s 4ms/step - loss: 0.5909 - accuracy: 0.7737 - f1_m: 0.7857 - precision_m: 0.8720 - recall_m: 0.7175\n",
            "Epoch 369/400\n",
            "3367/3367 [==============================] - 13s 4ms/step - loss: 0.5919 - accuracy: 0.7730 - f1_m: 0.7838 - precision_m: 0.8703 - recall_m: 0.7156\n",
            "Epoch 370/400\n",
            "3367/3367 [==============================] - 13s 4ms/step - loss: 0.6260 - accuracy: 0.7659 - f1_m: 0.7720 - precision_m: 0.8664 - recall_m: 0.6990\n",
            "Epoch 371/400\n",
            "3367/3367 [==============================] - 13s 4ms/step - loss: 0.5944 - accuracy: 0.7719 - f1_m: 0.7803 - precision_m: 0.8691 - recall_m: 0.7111\n",
            "Epoch 372/400\n",
            "3367/3367 [==============================] - 13s 4ms/step - loss: 0.5708 - accuracy: 0.7823 - f1_m: 0.7903 - precision_m: 0.8677 - recall_m: 0.7278\n",
            "Epoch 373/400\n",
            "3367/3367 [==============================] - 13s 4ms/step - loss: 0.5821 - accuracy: 0.7776 - f1_m: 0.7868 - precision_m: 0.8675 - recall_m: 0.7224\n",
            "Epoch 374/400\n",
            "3367/3367 [==============================] - 13s 4ms/step - loss: 0.6235 - accuracy: 0.7646 - f1_m: 0.7757 - precision_m: 0.8640 - recall_m: 0.7065\n",
            "Epoch 375/400\n",
            "3367/3367 [==============================] - 13s 4ms/step - loss: 0.5828 - accuracy: 0.7780 - f1_m: 0.7856 - precision_m: 0.8645 - recall_m: 0.7222\n",
            "Epoch 376/400\n",
            "3367/3367 [==============================] - 13s 4ms/step - loss: 0.5868 - accuracy: 0.7761 - f1_m: 0.7855 - precision_m: 0.8674 - recall_m: 0.7202\n",
            "Epoch 377/400\n",
            "3367/3367 [==============================] - 13s 4ms/step - loss: 0.5780 - accuracy: 0.7809 - f1_m: 0.7888 - precision_m: 0.8673 - recall_m: 0.7256\n",
            "Epoch 378/400\n",
            "3367/3367 [==============================] - 13s 4ms/step - loss: 0.5693 - accuracy: 0.7820 - f1_m: 0.7907 - precision_m: 0.8667 - recall_m: 0.7291\n",
            "Epoch 379/400\n",
            "3367/3367 [==============================] - 13s 4ms/step - loss: 0.5637 - accuracy: 0.7833 - f1_m: 0.7917 - precision_m: 0.8692 - recall_m: 0.7290\n",
            "Epoch 380/400\n",
            "3367/3367 [==============================] - 13s 4ms/step - loss: 0.5774 - accuracy: 0.7807 - f1_m: 0.7896 - precision_m: 0.8664 - recall_m: 0.7274\n",
            "Epoch 381/400\n",
            "3367/3367 [==============================] - 13s 4ms/step - loss: 0.5712 - accuracy: 0.7807 - f1_m: 0.7884 - precision_m: 0.8648 - recall_m: 0.7266\n",
            "Epoch 382/400\n",
            "3367/3367 [==============================] - 13s 4ms/step - loss: 0.5666 - accuracy: 0.7812 - f1_m: 0.7901 - precision_m: 0.8693 - recall_m: 0.7263\n",
            "Epoch 383/400\n",
            "3367/3367 [==============================] - 13s 4ms/step - loss: 0.5726 - accuracy: 0.7803 - f1_m: 0.7904 - precision_m: 0.8671 - recall_m: 0.7284\n",
            "Epoch 384/400\n",
            "3367/3367 [==============================] - 13s 4ms/step - loss: 0.5718 - accuracy: 0.7819 - f1_m: 0.7899 - precision_m: 0.8660 - recall_m: 0.7284\n",
            "Epoch 385/400\n",
            "3367/3367 [==============================] - 13s 4ms/step - loss: 0.6659 - accuracy: 0.7477 - f1_m: 0.7662 - precision_m: 0.8718 - recall_m: 0.6870\n",
            "Epoch 386/400\n",
            "3367/3367 [==============================] - 13s 4ms/step - loss: 0.6107 - accuracy: 0.7700 - f1_m: 0.7831 - precision_m: 0.8798 - recall_m: 0.7081\n",
            "Epoch 387/400\n",
            "3367/3367 [==============================] - 13s 4ms/step - loss: 0.6344 - accuracy: 0.7608 - f1_m: 0.7722 - precision_m: 0.8788 - recall_m: 0.6929\n",
            "Epoch 388/400\n",
            "3367/3367 [==============================] - 13s 4ms/step - loss: 0.7846 - accuracy: 0.7136 - f1_m: 0.7245 - precision_m: 0.8704 - recall_m: 0.6247\n",
            "Epoch 389/400\n",
            "3367/3367 [==============================] - 13s 4ms/step - loss: 0.6597 - accuracy: 0.7471 - f1_m: 0.7605 - precision_m: 0.8738 - recall_m: 0.6766\n",
            "Epoch 390/400\n",
            "3367/3367 [==============================] - 13s 4ms/step - loss: 0.5980 - accuracy: 0.7712 - f1_m: 0.7783 - precision_m: 0.8751 - recall_m: 0.7038\n",
            "Epoch 391/400\n",
            "3367/3367 [==============================] - 13s 4ms/step - loss: 0.6139 - accuracy: 0.7674 - f1_m: 0.7803 - precision_m: 0.8746 - recall_m: 0.7071\n",
            "Epoch 392/400\n",
            "3367/3367 [==============================] - 13s 4ms/step - loss: 0.6005 - accuracy: 0.7689 - f1_m: 0.7792 - precision_m: 0.8723 - recall_m: 0.7072\n",
            "Epoch 393/400\n",
            "3367/3367 [==============================] - 13s 4ms/step - loss: 0.6708 - accuracy: 0.7419 - f1_m: 0.7584 - precision_m: 0.8704 - recall_m: 0.6750\n",
            "Epoch 394/400\n",
            "3367/3367 [==============================] - 13s 4ms/step - loss: 0.6590 - accuracy: 0.7520 - f1_m: 0.7647 - precision_m: 0.8764 - recall_m: 0.6822\n",
            "Epoch 395/400\n",
            "3367/3367 [==============================] - 13s 4ms/step - loss: 0.6530 - accuracy: 0.7521 - f1_m: 0.7668 - precision_m: 0.8804 - recall_m: 0.6824\n",
            "Epoch 396/400\n",
            "3367/3367 [==============================] - 13s 4ms/step - loss: 1.2024 - accuracy: 0.7554 - f1_m: 0.7652 - precision_m: 0.8739 - recall_m: 0.6835\n",
            "Epoch 397/400\n",
            "3367/3367 [==============================] - 13s 4ms/step - loss: 0.6081 - accuracy: 0.7664 - f1_m: 0.7774 - precision_m: 0.8751 - recall_m: 0.7020\n",
            "Epoch 398/400\n",
            "3367/3367 [==============================] - 13s 4ms/step - loss: 0.5801 - accuracy: 0.7776 - f1_m: 0.7864 - precision_m: 0.8662 - recall_m: 0.7223\n",
            "Epoch 399/400\n",
            "3367/3367 [==============================] - 13s 4ms/step - loss: 0.5959 - accuracy: 0.7707 - f1_m: 0.7834 - precision_m: 0.8712 - recall_m: 0.7141\n",
            "Epoch 400/400\n",
            "3367/3367 [==============================] - 14s 4ms/step - loss: 0.5706 - accuracy: 0.7786 - f1_m: 0.7889 - precision_m: 0.8685 - recall_m: 0.7250\n"
          ],
          "name": "stdout"
        }
      ]
    },
    {
      "cell_type": "code",
      "metadata": {
        "colab": {
          "base_uri": "https://localhost:8080/"
        },
        "id": "o0Hd9HY9TndD",
        "outputId": "0edbb733-1f7d-4980-bce5-99b47087d288"
      },
      "source": [
        "loss_NN10, accNN10, f1_score_NN10, precision_NN10, recall_NN10 = model.evaluate(X_test, y_test, verbose=True)\n",
        "print(\"Testing Accuracy: {:.4f}\".format(accNN10))\n",
        "print(\"Testing Precision: {:.4f}\".format(precision_NN10))\n",
        "print(\"Testing Recall: {:.4f}\".format(recall_NN10))\n",
        "print(\"Testing F1-Score: {:.4f}\".format(f1_score_NN10))"
      ],
      "execution_count": 120,
      "outputs": [
        {
          "output_type": "stream",
          "text": [
            "2573/2573 [==============================] - 4s 2ms/step - loss: 13.7103 - accuracy: 0.7134 - f1_m: 0.7134 - precision_m: 0.8325 - recall_m: 0.6590\n",
            "Testing Accuracy: 0.7134\n",
            "Testing Precision: 0.8325\n",
            "Testing Recall: 0.6590\n",
            "Testing F1-Score: 0.7134\n"
          ],
          "name": "stdout"
        }
      ]
    },
    {
      "cell_type": "code",
      "metadata": {
        "colab": {
          "base_uri": "https://localhost:8080/"
        },
        "id": "-oTRe8GjYqO5",
        "outputId": "8c22fc19-7e11-4d51-8836-551e364bc7c9"
      },
      "source": [
        "df2_xtrain.shape[1]"
      ],
      "execution_count": 50,
      "outputs": [
        {
          "output_type": "execute_result",
          "data": {
            "text/plain": [
              "30"
            ]
          },
          "metadata": {
            "tags": []
          },
          "execution_count": 50
        }
      ]
    },
    {
      "cell_type": "code",
      "metadata": {
        "colab": {
          "base_uri": "https://localhost:8080/"
        },
        "id": "KylIZNhHsADu",
        "outputId": "fd5fe6bc-59a4-4b0d-c909-ba903b79cc0a"
      },
      "source": [
        "X = df2_xtrain\n",
        "Y = df2_ytrain\n",
        "C = df2_ytest\n",
        "T = df2_xtest\n",
        "scaler = Normalizer().fit(X)\n",
        "trainX = scaler.transform(X)\n",
        "\n",
        "scaler = Normalizer().fit(T)\n",
        "testT = scaler.transform(T)\n",
        "\n",
        "y_train1 = np.array(Y)\n",
        "y_test1 = np.array(C)\n",
        "\n",
        "y_train= to_categorical(y_train1)\n",
        "y_test= to_categorical(y_test1)\n",
        "\n",
        "\n",
        "# reshape input to be [samples, time steps, features]\n",
        "X_train = np.reshape(trainX, (trainX.shape[0],trainX.shape[1],1))\n",
        "X_test = np.reshape(testT, (testT.shape[0],testT.shape[1],1))\n",
        "\n",
        "\n",
        "from keras.models import Sequential\n",
        "from keras import layers\n",
        "\n",
        "input_dim = df2_xtrain.shape[1]  # Number of features\n",
        "\n",
        "model1 = Sequential()\n",
        "model1.add(layers.Dense(10, input_shape=(input_dim, 1), activation='relu'))\n",
        "model1.add(layers.Flatten())\n",
        "model1.add(layers.Dense(64, activation='relu'))\n",
        "model1.add(layers.Dense(64, activation='relu'))\n",
        "model1.add(layers.Dense(10, activation='softmax'))\n",
        "\n",
        "model1.compile(loss='categorical_crossentropy', \n",
        "              optimizer='adam', \n",
        "              metrics=['accuracy',f1_m,precision_m, recall_m])\n",
        "model1.summary()"
      ],
      "execution_count": 51,
      "outputs": [
        {
          "output_type": "stream",
          "text": [
            "Model: \"sequential_4\"\n",
            "_________________________________________________________________\n",
            "Layer (type)                 Output Shape              Param #   \n",
            "=================================================================\n",
            "dense_16 (Dense)             (None, 30, 10)            20        \n",
            "_________________________________________________________________\n",
            "flatten_4 (Flatten)          (None, 300)               0         \n",
            "_________________________________________________________________\n",
            "dense_17 (Dense)             (None, 64)                19264     \n",
            "_________________________________________________________________\n",
            "dense_18 (Dense)             (None, 64)                4160      \n",
            "_________________________________________________________________\n",
            "dense_19 (Dense)             (None, 10)                650       \n",
            "=================================================================\n",
            "Total params: 24,094\n",
            "Trainable params: 24,094\n",
            "Non-trainable params: 0\n",
            "_________________________________________________________________\n"
          ],
          "name": "stdout"
        }
      ]
    },
    {
      "cell_type": "code",
      "metadata": {
        "colab": {
          "base_uri": "https://localhost:8080/"
        },
        "id": "RJu8VqtSY7ZO",
        "outputId": "36b2b216-a80d-4c25-edee-26ddff963925"
      },
      "source": [
        "historyNN20 = model1.fit(X_train, y_train,\n",
        "                    epochs=100)"
      ],
      "execution_count": 52,
      "outputs": [
        {
          "output_type": "stream",
          "text": [
            "Epoch 1/100\n",
            "3367/3367 [==============================] - 7s 2ms/step - loss: 1.4207 - accuracy: 0.4938 - f1_m: 0.3537 - precision_m: 0.6539 - recall_m: 0.2699\n",
            "Epoch 2/100\n",
            "3367/3367 [==============================] - 6s 2ms/step - loss: 1.3379 - accuracy: 0.5038 - f1_m: 0.3906 - precision_m: 0.7243 - recall_m: 0.2775\n",
            "Epoch 3/100\n",
            "3367/3367 [==============================] - 7s 2ms/step - loss: 1.2963 - accuracy: 0.5190 - f1_m: 0.4096 - precision_m: 0.8044 - recall_m: 0.2839\n",
            "Epoch 4/100\n",
            "3367/3367 [==============================] - 7s 2ms/step - loss: 1.2681 - accuracy: 0.5252 - f1_m: 0.4414 - precision_m: 0.8301 - recall_m: 0.3098\n",
            "Epoch 5/100\n",
            "3367/3367 [==============================] - 7s 2ms/step - loss: 1.2407 - accuracy: 0.5290 - f1_m: 0.4613 - precision_m: 0.8558 - recall_m: 0.3241\n",
            "Epoch 6/100\n",
            "3367/3367 [==============================] - 7s 2ms/step - loss: 1.2314 - accuracy: 0.5259 - f1_m: 0.4623 - precision_m: 0.8684 - recall_m: 0.3231\n",
            "Epoch 7/100\n",
            "3367/3367 [==============================] - 7s 2ms/step - loss: 1.2247 - accuracy: 0.5249 - f1_m: 0.4632 - precision_m: 0.8838 - recall_m: 0.3217\n",
            "Epoch 8/100\n",
            "3367/3367 [==============================] - 7s 2ms/step - loss: 1.2227 - accuracy: 0.5255 - f1_m: 0.4638 - precision_m: 0.8855 - recall_m: 0.3216\n",
            "Epoch 9/100\n",
            "3367/3367 [==============================] - 7s 2ms/step - loss: 1.2149 - accuracy: 0.5311 - f1_m: 0.4661 - precision_m: 0.8924 - recall_m: 0.3237\n",
            "Epoch 10/100\n",
            "3367/3367 [==============================] - 7s 2ms/step - loss: 1.2090 - accuracy: 0.5328 - f1_m: 0.4635 - precision_m: 0.9033 - recall_m: 0.3186\n",
            "Epoch 11/100\n",
            "3367/3367 [==============================] - 7s 2ms/step - loss: 1.1962 - accuracy: 0.5353 - f1_m: 0.4667 - precision_m: 0.9074 - recall_m: 0.3218\n",
            "Epoch 12/100\n",
            "3367/3367 [==============================] - 7s 2ms/step - loss: 1.1972 - accuracy: 0.5351 - f1_m: 0.4612 - precision_m: 0.9131 - recall_m: 0.3153\n",
            "Epoch 13/100\n",
            "3367/3367 [==============================] - 7s 2ms/step - loss: 1.1891 - accuracy: 0.5431 - f1_m: 0.4644 - precision_m: 0.9079 - recall_m: 0.3193\n",
            "Epoch 14/100\n",
            "3367/3367 [==============================] - 7s 2ms/step - loss: 1.1711 - accuracy: 0.5447 - f1_m: 0.4590 - precision_m: 0.9058 - recall_m: 0.3138\n",
            "Epoch 15/100\n",
            "3367/3367 [==============================] - 7s 2ms/step - loss: 1.1626 - accuracy: 0.5465 - f1_m: 0.4586 - precision_m: 0.9118 - recall_m: 0.3125\n",
            "Epoch 16/100\n",
            "3367/3367 [==============================] - 6s 2ms/step - loss: 1.1425 - accuracy: 0.5535 - f1_m: 0.4692 - precision_m: 0.9152 - recall_m: 0.3214\n",
            "Epoch 17/100\n",
            "3367/3367 [==============================] - 7s 2ms/step - loss: 1.1329 - accuracy: 0.5587 - f1_m: 0.4831 - precision_m: 0.9088 - recall_m: 0.3350\n",
            "Epoch 18/100\n",
            "3367/3367 [==============================] - 7s 2ms/step - loss: 1.1164 - accuracy: 0.5644 - f1_m: 0.4990 - precision_m: 0.8982 - recall_m: 0.3515\n",
            "Epoch 19/100\n",
            "3367/3367 [==============================] - 7s 2ms/step - loss: 1.1094 - accuracy: 0.5637 - f1_m: 0.5023 - precision_m: 0.8901 - recall_m: 0.3561\n",
            "Epoch 20/100\n",
            "3367/3367 [==============================] - 7s 2ms/step - loss: 1.1111 - accuracy: 0.5653 - f1_m: 0.5029 - precision_m: 0.8881 - recall_m: 0.3565\n",
            "Epoch 21/100\n",
            "3367/3367 [==============================] - 7s 2ms/step - loss: 1.1060 - accuracy: 0.5655 - f1_m: 0.5071 - precision_m: 0.8859 - recall_m: 0.3608\n",
            "Epoch 22/100\n",
            "3367/3367 [==============================] - 7s 2ms/step - loss: 1.1070 - accuracy: 0.5642 - f1_m: 0.5035 - precision_m: 0.8962 - recall_m: 0.3559\n",
            "Epoch 23/100\n",
            "3367/3367 [==============================] - 7s 2ms/step - loss: 1.1022 - accuracy: 0.5678 - f1_m: 0.5062 - precision_m: 0.8895 - recall_m: 0.3592\n",
            "Epoch 24/100\n",
            "3367/3367 [==============================] - 7s 2ms/step - loss: 1.0942 - accuracy: 0.5691 - f1_m: 0.5065 - precision_m: 0.8905 - recall_m: 0.3594\n",
            "Epoch 25/100\n",
            "3367/3367 [==============================] - 6s 2ms/step - loss: 1.0974 - accuracy: 0.5673 - f1_m: 0.5067 - precision_m: 0.8947 - recall_m: 0.3591\n",
            "Epoch 26/100\n",
            "3367/3367 [==============================] - 7s 2ms/step - loss: 1.0953 - accuracy: 0.5688 - f1_m: 0.5099 - precision_m: 0.8936 - recall_m: 0.3621\n",
            "Epoch 27/100\n",
            "3367/3367 [==============================] - 7s 2ms/step - loss: 1.0948 - accuracy: 0.5681 - f1_m: 0.5093 - precision_m: 0.8935 - recall_m: 0.3617\n",
            "Epoch 28/100\n",
            "3367/3367 [==============================] - 6s 2ms/step - loss: 1.0878 - accuracy: 0.5706 - f1_m: 0.5114 - precision_m: 0.8889 - recall_m: 0.3642\n",
            "Epoch 29/100\n",
            "3367/3367 [==============================] - 7s 2ms/step - loss: 1.0852 - accuracy: 0.5720 - f1_m: 0.5120 - precision_m: 0.8973 - recall_m: 0.3638\n",
            "Epoch 30/100\n",
            "3367/3367 [==============================] - 7s 2ms/step - loss: 1.0846 - accuracy: 0.5709 - f1_m: 0.5129 - precision_m: 0.8975 - recall_m: 0.3645\n",
            "Epoch 31/100\n",
            "3367/3367 [==============================] - 7s 2ms/step - loss: 1.0764 - accuracy: 0.5754 - f1_m: 0.5220 - precision_m: 0.8986 - recall_m: 0.3738\n",
            "Epoch 32/100\n",
            "3367/3367 [==============================] - 6s 2ms/step - loss: 1.0775 - accuracy: 0.5754 - f1_m: 0.5152 - precision_m: 0.9054 - recall_m: 0.3654\n",
            "Epoch 33/100\n",
            "3367/3367 [==============================] - 7s 2ms/step - loss: 1.0791 - accuracy: 0.5714 - f1_m: 0.5163 - precision_m: 0.8979 - recall_m: 0.3680\n",
            "Epoch 34/100\n",
            "3367/3367 [==============================] - 6s 2ms/step - loss: 1.0754 - accuracy: 0.5735 - f1_m: 0.5162 - precision_m: 0.9048 - recall_m: 0.3666\n",
            "Epoch 35/100\n",
            "3367/3367 [==============================] - 6s 2ms/step - loss: 1.0653 - accuracy: 0.5778 - f1_m: 0.5269 - precision_m: 0.9024 - recall_m: 0.3776\n",
            "Epoch 36/100\n",
            "3367/3367 [==============================] - 6s 2ms/step - loss: 1.0759 - accuracy: 0.5729 - f1_m: 0.5203 - precision_m: 0.9043 - recall_m: 0.3704\n",
            "Epoch 37/100\n",
            "3367/3367 [==============================] - 6s 2ms/step - loss: 1.0701 - accuracy: 0.5777 - f1_m: 0.5248 - precision_m: 0.9026 - recall_m: 0.3753\n",
            "Epoch 38/100\n",
            "3367/3367 [==============================] - 6s 2ms/step - loss: 1.0705 - accuracy: 0.5737 - f1_m: 0.5218 - precision_m: 0.9032 - recall_m: 0.3723\n",
            "Epoch 39/100\n",
            "3367/3367 [==============================] - 6s 2ms/step - loss: 1.0742 - accuracy: 0.5739 - f1_m: 0.5212 - precision_m: 0.8979 - recall_m: 0.3724\n",
            "Epoch 40/100\n",
            "3367/3367 [==============================] - 6s 2ms/step - loss: 1.0712 - accuracy: 0.5749 - f1_m: 0.5180 - precision_m: 0.9057 - recall_m: 0.3678\n",
            "Epoch 41/100\n",
            "3367/3367 [==============================] - 6s 2ms/step - loss: 1.0650 - accuracy: 0.5773 - f1_m: 0.5269 - precision_m: 0.9047 - recall_m: 0.3771\n",
            "Epoch 42/100\n",
            "3367/3367 [==============================] - 6s 2ms/step - loss: 1.0661 - accuracy: 0.5732 - f1_m: 0.5227 - precision_m: 0.9011 - recall_m: 0.3737\n",
            "Epoch 43/100\n",
            "3367/3367 [==============================] - 6s 2ms/step - loss: 1.0663 - accuracy: 0.5742 - f1_m: 0.5259 - precision_m: 0.9043 - recall_m: 0.3758\n",
            "Epoch 44/100\n",
            "3367/3367 [==============================] - 6s 2ms/step - loss: 1.0594 - accuracy: 0.5775 - f1_m: 0.5274 - precision_m: 0.9022 - recall_m: 0.3782\n",
            "Epoch 45/100\n",
            "3367/3367 [==============================] - 6s 2ms/step - loss: 1.0684 - accuracy: 0.5739 - f1_m: 0.5231 - precision_m: 0.9007 - recall_m: 0.3743\n",
            "Epoch 46/100\n",
            "3367/3367 [==============================] - 6s 2ms/step - loss: 1.0674 - accuracy: 0.5762 - f1_m: 0.5227 - precision_m: 0.9061 - recall_m: 0.3729\n",
            "Epoch 47/100\n",
            "3367/3367 [==============================] - 6s 2ms/step - loss: 1.0637 - accuracy: 0.5757 - f1_m: 0.5291 - precision_m: 0.8975 - recall_m: 0.3802\n",
            "Epoch 48/100\n",
            "3367/3367 [==============================] - 6s 2ms/step - loss: 1.0683 - accuracy: 0.5746 - f1_m: 0.5236 - precision_m: 0.8966 - recall_m: 0.3753\n",
            "Epoch 49/100\n",
            "3367/3367 [==============================] - 7s 2ms/step - loss: 1.0644 - accuracy: 0.5795 - f1_m: 0.5290 - precision_m: 0.8968 - recall_m: 0.3805\n",
            "Epoch 50/100\n",
            "3367/3367 [==============================] - 6s 2ms/step - loss: 1.0637 - accuracy: 0.5761 - f1_m: 0.5306 - precision_m: 0.8985 - recall_m: 0.3819\n",
            "Epoch 51/100\n",
            "3367/3367 [==============================] - 7s 2ms/step - loss: 1.0671 - accuracy: 0.5772 - f1_m: 0.5277 - precision_m: 0.8977 - recall_m: 0.3791\n",
            "Epoch 52/100\n",
            "3367/3367 [==============================] - 7s 2ms/step - loss: 1.0579 - accuracy: 0.5765 - f1_m: 0.5275 - precision_m: 0.9016 - recall_m: 0.3783\n",
            "Epoch 53/100\n",
            "3367/3367 [==============================] - 7s 2ms/step - loss: 1.0637 - accuracy: 0.5751 - f1_m: 0.5284 - precision_m: 0.8994 - recall_m: 0.3797\n",
            "Epoch 54/100\n",
            "3367/3367 [==============================] - 7s 2ms/step - loss: 1.0741 - accuracy: 0.5748 - f1_m: 0.5241 - precision_m: 0.8965 - recall_m: 0.3759\n",
            "Epoch 55/100\n",
            "3367/3367 [==============================] - 6s 2ms/step - loss: 1.0655 - accuracy: 0.5748 - f1_m: 0.5288 - precision_m: 0.8978 - recall_m: 0.3800\n",
            "Epoch 56/100\n",
            "3367/3367 [==============================] - 6s 2ms/step - loss: 1.0599 - accuracy: 0.5783 - f1_m: 0.5341 - precision_m: 0.8936 - recall_m: 0.3860\n",
            "Epoch 57/100\n",
            "3367/3367 [==============================] - 7s 2ms/step - loss: 1.0634 - accuracy: 0.5776 - f1_m: 0.5286 - precision_m: 0.8989 - recall_m: 0.3800\n",
            "Epoch 58/100\n",
            "3367/3367 [==============================] - 7s 2ms/step - loss: 1.0559 - accuracy: 0.5783 - f1_m: 0.5316 - precision_m: 0.9036 - recall_m: 0.3818\n",
            "Epoch 59/100\n",
            "3367/3367 [==============================] - 7s 2ms/step - loss: 1.0621 - accuracy: 0.5769 - f1_m: 0.5306 - precision_m: 0.9043 - recall_m: 0.3804\n",
            "Epoch 60/100\n",
            "3367/3367 [==============================] - 7s 2ms/step - loss: 1.0572 - accuracy: 0.5781 - f1_m: 0.5286 - precision_m: 0.8975 - recall_m: 0.3803\n",
            "Epoch 61/100\n",
            "3367/3367 [==============================] - 7s 2ms/step - loss: 1.0615 - accuracy: 0.5781 - f1_m: 0.5298 - precision_m: 0.8975 - recall_m: 0.3813\n",
            "Epoch 62/100\n",
            "3367/3367 [==============================] - 7s 2ms/step - loss: 1.0618 - accuracy: 0.5781 - f1_m: 0.5294 - precision_m: 0.9012 - recall_m: 0.3804\n",
            "Epoch 63/100\n",
            "3367/3367 [==============================] - 7s 2ms/step - loss: 1.0582 - accuracy: 0.5791 - f1_m: 0.5284 - precision_m: 0.9048 - recall_m: 0.3783\n",
            "Epoch 64/100\n",
            "3367/3367 [==============================] - 7s 2ms/step - loss: 1.0605 - accuracy: 0.5776 - f1_m: 0.5300 - precision_m: 0.8998 - recall_m: 0.3810\n",
            "Epoch 65/100\n",
            "3367/3367 [==============================] - 7s 2ms/step - loss: 1.0643 - accuracy: 0.5757 - f1_m: 0.5264 - precision_m: 0.8998 - recall_m: 0.3772\n",
            "Epoch 66/100\n",
            "3367/3367 [==============================] - 7s 2ms/step - loss: 1.0592 - accuracy: 0.5752 - f1_m: 0.5256 - precision_m: 0.9033 - recall_m: 0.3760\n",
            "Epoch 67/100\n",
            "3367/3367 [==============================] - 6s 2ms/step - loss: 1.0603 - accuracy: 0.5770 - f1_m: 0.5280 - precision_m: 0.8986 - recall_m: 0.3797\n",
            "Epoch 68/100\n",
            "3367/3367 [==============================] - 7s 2ms/step - loss: 1.0621 - accuracy: 0.5797 - f1_m: 0.5296 - precision_m: 0.9024 - recall_m: 0.3803\n",
            "Epoch 69/100\n",
            "3367/3367 [==============================] - 7s 2ms/step - loss: 1.0639 - accuracy: 0.5767 - f1_m: 0.5294 - precision_m: 0.8973 - recall_m: 0.3807\n",
            "Epoch 70/100\n",
            "3367/3367 [==============================] - 7s 2ms/step - loss: 1.0528 - accuracy: 0.5779 - f1_m: 0.5317 - precision_m: 0.9039 - recall_m: 0.3820\n",
            "Epoch 71/100\n",
            "3367/3367 [==============================] - 7s 2ms/step - loss: 1.0563 - accuracy: 0.5776 - f1_m: 0.5323 - precision_m: 0.9008 - recall_m: 0.3834\n",
            "Epoch 72/100\n",
            "3367/3367 [==============================] - 7s 2ms/step - loss: 1.1283 - accuracy: 0.5637 - f1_m: 0.4908 - precision_m: 0.9219 - recall_m: 0.3420\n",
            "Epoch 73/100\n",
            "3367/3367 [==============================] - 7s 2ms/step - loss: 1.1343 - accuracy: 0.5614 - f1_m: 0.4764 - precision_m: 0.9384 - recall_m: 0.3250\n",
            "Epoch 74/100\n",
            "3367/3367 [==============================] - 7s 2ms/step - loss: 1.1130 - accuracy: 0.5652 - f1_m: 0.4967 - precision_m: 0.9284 - recall_m: 0.3448\n",
            "Epoch 75/100\n",
            "3367/3367 [==============================] - 7s 2ms/step - loss: 1.0948 - accuracy: 0.5715 - f1_m: 0.5035 - precision_m: 0.9298 - recall_m: 0.3505\n",
            "Epoch 76/100\n",
            "3367/3367 [==============================] - 7s 2ms/step - loss: 1.0878 - accuracy: 0.5720 - f1_m: 0.5060 - precision_m: 0.9273 - recall_m: 0.3533\n",
            "Epoch 77/100\n",
            "3367/3367 [==============================] - 7s 2ms/step - loss: 1.0863 - accuracy: 0.5714 - f1_m: 0.5072 - precision_m: 0.9164 - recall_m: 0.3559\n",
            "Epoch 78/100\n",
            "3367/3367 [==============================] - 7s 2ms/step - loss: 1.0792 - accuracy: 0.5751 - f1_m: 0.5150 - precision_m: 0.9100 - recall_m: 0.3646\n",
            "Epoch 79/100\n",
            "3367/3367 [==============================] - 6s 2ms/step - loss: 1.0936 - accuracy: 0.5701 - f1_m: 0.5059 - precision_m: 0.9073 - recall_m: 0.3564\n",
            "Epoch 80/100\n",
            "3367/3367 [==============================] - 7s 2ms/step - loss: 1.0820 - accuracy: 0.5741 - f1_m: 0.5094 - precision_m: 0.9183 - recall_m: 0.3584\n",
            "Epoch 81/100\n",
            "3367/3367 [==============================] - 7s 2ms/step - loss: 1.0771 - accuracy: 0.5743 - f1_m: 0.5132 - precision_m: 0.9146 - recall_m: 0.3618\n",
            "Epoch 82/100\n",
            "3367/3367 [==============================] - 7s 2ms/step - loss: 1.0667 - accuracy: 0.5786 - f1_m: 0.5233 - precision_m: 0.9073 - recall_m: 0.3729\n",
            "Epoch 83/100\n",
            "3367/3367 [==============================] - 6s 2ms/step - loss: 1.0720 - accuracy: 0.5762 - f1_m: 0.5190 - precision_m: 0.9094 - recall_m: 0.3689\n",
            "Epoch 84/100\n",
            "3367/3367 [==============================] - 6s 2ms/step - loss: 1.0564 - accuracy: 0.5821 - f1_m: 0.5295 - precision_m: 0.9031 - recall_m: 0.3802\n",
            "Epoch 85/100\n",
            "3367/3367 [==============================] - 7s 2ms/step - loss: 1.0598 - accuracy: 0.5790 - f1_m: 0.5321 - precision_m: 0.9005 - recall_m: 0.3830\n",
            "Epoch 86/100\n",
            "3367/3367 [==============================] - 7s 2ms/step - loss: 1.0648 - accuracy: 0.5751 - f1_m: 0.5283 - precision_m: 0.8988 - recall_m: 0.3793\n",
            "Epoch 87/100\n",
            "3367/3367 [==============================] - 7s 2ms/step - loss: 1.0671 - accuracy: 0.5782 - f1_m: 0.5294 - precision_m: 0.8966 - recall_m: 0.3810\n",
            "Epoch 88/100\n",
            "3367/3367 [==============================] - 6s 2ms/step - loss: 1.0586 - accuracy: 0.5789 - f1_m: 0.5344 - precision_m: 0.9000 - recall_m: 0.3851\n",
            "Epoch 89/100\n",
            "3367/3367 [==============================] - 7s 2ms/step - loss: 1.0607 - accuracy: 0.5759 - f1_m: 0.5315 - precision_m: 0.9011 - recall_m: 0.3822\n",
            "Epoch 90/100\n",
            "3367/3367 [==============================] - 7s 2ms/step - loss: 1.0704 - accuracy: 0.5754 - f1_m: 0.5291 - precision_m: 0.8940 - recall_m: 0.3811\n",
            "Epoch 91/100\n",
            "3367/3367 [==============================] - 7s 2ms/step - loss: 1.0596 - accuracy: 0.5789 - f1_m: 0.5332 - precision_m: 0.8954 - recall_m: 0.3848\n",
            "Epoch 92/100\n",
            "3367/3367 [==============================] - 7s 2ms/step - loss: 1.0529 - accuracy: 0.5789 - f1_m: 0.5383 - precision_m: 0.8931 - recall_m: 0.3903\n",
            "Epoch 93/100\n",
            "3367/3367 [==============================] - 7s 2ms/step - loss: 1.0606 - accuracy: 0.5778 - f1_m: 0.5341 - precision_m: 0.8921 - recall_m: 0.3865\n",
            "Epoch 94/100\n",
            "3367/3367 [==============================] - 7s 2ms/step - loss: 1.0537 - accuracy: 0.5791 - f1_m: 0.5379 - precision_m: 0.8893 - recall_m: 0.3910\n",
            "Epoch 95/100\n",
            "3367/3367 [==============================] - 7s 2ms/step - loss: 1.0485 - accuracy: 0.5815 - f1_m: 0.5404 - precision_m: 0.8931 - recall_m: 0.3930\n",
            "Epoch 96/100\n",
            "3367/3367 [==============================] - 7s 2ms/step - loss: 1.0576 - accuracy: 0.5780 - f1_m: 0.5400 - precision_m: 0.8923 - recall_m: 0.3924\n",
            "Epoch 97/100\n",
            "3367/3367 [==============================] - 7s 2ms/step - loss: 1.0605 - accuracy: 0.5760 - f1_m: 0.5330 - precision_m: 0.8928 - recall_m: 0.3851\n",
            "Epoch 98/100\n",
            "3367/3367 [==============================] - 7s 2ms/step - loss: 1.0576 - accuracy: 0.5787 - f1_m: 0.5370 - precision_m: 0.8943 - recall_m: 0.3891\n",
            "Epoch 99/100\n",
            "3367/3367 [==============================] - 7s 2ms/step - loss: 1.0610 - accuracy: 0.5764 - f1_m: 0.5335 - precision_m: 0.8936 - recall_m: 0.3856\n",
            "Epoch 100/100\n",
            "3367/3367 [==============================] - 6s 2ms/step - loss: 1.0558 - accuracy: 0.5782 - f1_m: 0.5363 - precision_m: 0.8915 - recall_m: 0.3888\n"
          ],
          "name": "stdout"
        }
      ]
    },
    {
      "cell_type": "code",
      "metadata": {
        "id": "0TABFy0uZKkA",
        "colab": {
          "base_uri": "https://localhost:8080/"
        },
        "outputId": "e312f7b6-5739-42b4-8988-c0bce7043808"
      },
      "source": [
        "loss20, accNN20, f1_score_NN20, precision_NN20, recall_NN20 = model1.evaluate(X_test, y_test, verbose=True)\n",
        "print(\"Testing Accuracy: {:.4f}\".format(accNN20))\n",
        "print(\"Testing Precision: {:.4f}\".format(precision_NN20))\n",
        "print(\"Testing Recall: {:.4f}\".format(recall_NN20))\n",
        "print(\"Testing F1-Score: {:.4f}\".format(f1_score_NN20))"
      ],
      "execution_count": 53,
      "outputs": [
        {
          "output_type": "stream",
          "text": [
            "2573/2573 [==============================] - 3s 1ms/step - loss: 0.9239 - accuracy: 0.6151 - f1_m: 0.5223 - precision_m: 0.8041 - recall_m: 0.4486\n",
            "Testing Accuracy: 0.6151\n",
            "Testing Precision: 0.8041\n",
            "Testing Recall: 0.4486\n",
            "Testing F1-Score: 0.5223\n"
          ],
          "name": "stdout"
        }
      ]
    },
    {
      "cell_type": "code",
      "metadata": {
        "id": "Sjw5nrgHymBD",
        "colab": {
          "base_uri": "https://localhost:8080/"
        },
        "outputId": "f409c586-6548-412c-e126-256cef1cd594"
      },
      "source": [
        "X = df3_xtrain\n",
        "Y = df3_ytrain\n",
        "C = df3_ytest\n",
        "T = df3_xtest\n",
        "scaler = Normalizer().fit(X)\n",
        "trainX = scaler.transform(X)\n",
        "\n",
        "scaler = Normalizer().fit(T)\n",
        "testT = scaler.transform(T)\n",
        "\n",
        "y_train1 = np.array(Y)\n",
        "y_test1 = np.array(C)\n",
        "\n",
        "y_train= to_categorical(y_train1)\n",
        "y_test= to_categorical(y_test1)\n",
        "\n",
        "\n",
        "# reshape input to be [samples, time steps, features]\n",
        "X_train = np.reshape(trainX, (trainX.shape[0],trainX.shape[1],1))\n",
        "X_test = np.reshape(testT, (testT.shape[0],testT.shape[1],1))\n",
        "\n",
        "\n",
        "from keras.models import Sequential\n",
        "from keras import layers\n",
        "\n",
        "input_dim = df3_xtrain.shape[1]  # Number of features\n",
        "\n",
        "model2 = Sequential()\n",
        "model2.add(layers.Dense(10, input_shape=(input_dim, 1), activation='relu'))\n",
        "model2.add(layers.Flatten())\n",
        "model2.add(layers.Dense(64, activation='relu'))\n",
        "model2.add(layers.Dense(64, activation='relu'))\n",
        "model2.add(layers.Dense(10, activation='softmax'))\n",
        "\n",
        "model2.compile(loss='categorical_crossentropy', \n",
        "              optimizer='adam', \n",
        "              metrics=['accuracy',f1_m,precision_m, recall_m])\n",
        "model2.summary()"
      ],
      "execution_count": 54,
      "outputs": [
        {
          "output_type": "stream",
          "text": [
            "Model: \"sequential_5\"\n",
            "_________________________________________________________________\n",
            "Layer (type)                 Output Shape              Param #   \n",
            "=================================================================\n",
            "dense_20 (Dense)             (None, 42, 10)            20        \n",
            "_________________________________________________________________\n",
            "flatten_5 (Flatten)          (None, 420)               0         \n",
            "_________________________________________________________________\n",
            "dense_21 (Dense)             (None, 64)                26944     \n",
            "_________________________________________________________________\n",
            "dense_22 (Dense)             (None, 64)                4160      \n",
            "_________________________________________________________________\n",
            "dense_23 (Dense)             (None, 10)                650       \n",
            "=================================================================\n",
            "Total params: 31,774\n",
            "Trainable params: 31,774\n",
            "Non-trainable params: 0\n",
            "_________________________________________________________________\n"
          ],
          "name": "stdout"
        }
      ]
    },
    {
      "cell_type": "code",
      "metadata": {
        "id": "ZT04KLCNymJi",
        "colab": {
          "base_uri": "https://localhost:8080/"
        },
        "outputId": "04a8ba90-68c5-4ddf-f456-dec417edf8ad"
      },
      "source": [
        "historyNNall = model2.fit(X_train, y_train,\n",
        "                    epochs=100)"
      ],
      "execution_count": 55,
      "outputs": [
        {
          "output_type": "stream",
          "text": [
            "Epoch 1/100\n",
            "3367/3367 [==============================] - 8s 2ms/step - loss: 1.4201 - accuracy: 0.4985 - f1_m: 0.3495 - precision_m: 0.6635 - recall_m: 0.2743\n",
            "Epoch 2/100\n",
            "3367/3367 [==============================] - 7s 2ms/step - loss: 1.3464 - accuracy: 0.5046 - f1_m: 0.3903 - precision_m: 0.6988 - recall_m: 0.2795\n",
            "Epoch 3/100\n",
            "3367/3367 [==============================] - 7s 2ms/step - loss: 1.2989 - accuracy: 0.5155 - f1_m: 0.4020 - precision_m: 0.8066 - recall_m: 0.2753\n",
            "Epoch 4/100\n",
            "3367/3367 [==============================] - 7s 2ms/step - loss: 1.2718 - accuracy: 0.5252 - f1_m: 0.4413 - precision_m: 0.8141 - recall_m: 0.3115\n",
            "Epoch 5/100\n",
            "3367/3367 [==============================] - 7s 2ms/step - loss: 1.2484 - accuracy: 0.5294 - f1_m: 0.4589 - precision_m: 0.8469 - recall_m: 0.3233\n",
            "Epoch 6/100\n",
            "3367/3367 [==============================] - 7s 2ms/step - loss: 1.2270 - accuracy: 0.5308 - f1_m: 0.4668 - precision_m: 0.8746 - recall_m: 0.3261\n",
            "Epoch 7/100\n",
            "3367/3367 [==============================] - 7s 2ms/step - loss: 1.2181 - accuracy: 0.5279 - f1_m: 0.4645 - precision_m: 0.8890 - recall_m: 0.3216\n",
            "Epoch 8/100\n",
            "3367/3367 [==============================] - 7s 2ms/step - loss: 1.2101 - accuracy: 0.5282 - f1_m: 0.4669 - precision_m: 0.9008 - recall_m: 0.3223\n",
            "Epoch 9/100\n",
            "3367/3367 [==============================] - 8s 2ms/step - loss: 1.2052 - accuracy: 0.5302 - f1_m: 0.4643 - precision_m: 0.9088 - recall_m: 0.3183\n",
            "Epoch 10/100\n",
            "3367/3367 [==============================] - 7s 2ms/step - loss: 1.1990 - accuracy: 0.5328 - f1_m: 0.4670 - precision_m: 0.9116 - recall_m: 0.3202\n",
            "Epoch 11/100\n",
            "3367/3367 [==============================] - 7s 2ms/step - loss: 1.1931 - accuracy: 0.5370 - f1_m: 0.4671 - precision_m: 0.9210 - recall_m: 0.3191\n",
            "Epoch 12/100\n",
            "3367/3367 [==============================] - 7s 2ms/step - loss: 1.1926 - accuracy: 0.5381 - f1_m: 0.4631 - precision_m: 0.9194 - recall_m: 0.3157\n",
            "Epoch 13/100\n",
            "3367/3367 [==============================] - 7s 2ms/step - loss: 1.1820 - accuracy: 0.5449 - f1_m: 0.4610 - precision_m: 0.9181 - recall_m: 0.3134\n",
            "Epoch 14/100\n",
            "3367/3367 [==============================] - 7s 2ms/step - loss: 1.1520 - accuracy: 0.5515 - f1_m: 0.4605 - precision_m: 0.9225 - recall_m: 0.3126\n",
            "Epoch 15/100\n",
            "3367/3367 [==============================] - 7s 2ms/step - loss: 1.1274 - accuracy: 0.5617 - f1_m: 0.4844 - precision_m: 0.9148 - recall_m: 0.3354\n",
            "Epoch 16/100\n",
            "3367/3367 [==============================] - 7s 2ms/step - loss: 1.1209 - accuracy: 0.5629 - f1_m: 0.4944 - precision_m: 0.8963 - recall_m: 0.3474\n",
            "Epoch 17/100\n",
            "3367/3367 [==============================] - 7s 2ms/step - loss: 1.1152 - accuracy: 0.5630 - f1_m: 0.5032 - precision_m: 0.8939 - recall_m: 0.3561\n",
            "Epoch 18/100\n",
            "3367/3367 [==============================] - 7s 2ms/step - loss: 1.1039 - accuracy: 0.5687 - f1_m: 0.5056 - precision_m: 0.8857 - recall_m: 0.3593\n",
            "Epoch 19/100\n",
            "3367/3367 [==============================] - 7s 2ms/step - loss: 1.1045 - accuracy: 0.5673 - f1_m: 0.5082 - precision_m: 0.8847 - recall_m: 0.3620\n",
            "Epoch 20/100\n",
            "3367/3367 [==============================] - 8s 2ms/step - loss: 1.1053 - accuracy: 0.5663 - f1_m: 0.5081 - precision_m: 0.8896 - recall_m: 0.3611\n",
            "Epoch 21/100\n",
            "3367/3367 [==============================] - 7s 2ms/step - loss: 1.0982 - accuracy: 0.5670 - f1_m: 0.5081 - precision_m: 0.8914 - recall_m: 0.3609\n",
            "Epoch 22/100\n",
            "3367/3367 [==============================] - 8s 2ms/step - loss: 1.1005 - accuracy: 0.5662 - f1_m: 0.5082 - precision_m: 0.8920 - recall_m: 0.3610\n",
            "Epoch 23/100\n",
            "3367/3367 [==============================] - 7s 2ms/step - loss: 1.0970 - accuracy: 0.5669 - f1_m: 0.5099 - precision_m: 0.8892 - recall_m: 0.3631\n",
            "Epoch 24/100\n",
            "3367/3367 [==============================] - 7s 2ms/step - loss: 1.0844 - accuracy: 0.5730 - f1_m: 0.5145 - precision_m: 0.8886 - recall_m: 0.3675\n",
            "Epoch 25/100\n",
            "3367/3367 [==============================] - 7s 2ms/step - loss: 1.0876 - accuracy: 0.5727 - f1_m: 0.5161 - precision_m: 0.8924 - recall_m: 0.3686\n",
            "Epoch 26/100\n",
            "3367/3367 [==============================] - 8s 2ms/step - loss: 1.0872 - accuracy: 0.5706 - f1_m: 0.5163 - precision_m: 0.8872 - recall_m: 0.3695\n",
            "Epoch 27/100\n",
            "3367/3367 [==============================] - 7s 2ms/step - loss: 1.0895 - accuracy: 0.5705 - f1_m: 0.5134 - precision_m: 0.8937 - recall_m: 0.3658\n",
            "Epoch 28/100\n",
            "3367/3367 [==============================] - 8s 2ms/step - loss: 1.0849 - accuracy: 0.5731 - f1_m: 0.5183 - precision_m: 0.8889 - recall_m: 0.3711\n",
            "Epoch 29/100\n",
            "3367/3367 [==============================] - 7s 2ms/step - loss: 1.0829 - accuracy: 0.5697 - f1_m: 0.5158 - precision_m: 0.8904 - recall_m: 0.3688\n",
            "Epoch 30/100\n",
            "3367/3367 [==============================] - 7s 2ms/step - loss: 1.0797 - accuracy: 0.5733 - f1_m: 0.5207 - precision_m: 0.8892 - recall_m: 0.3738\n",
            "Epoch 31/100\n",
            "3367/3367 [==============================] - 7s 2ms/step - loss: 1.0772 - accuracy: 0.5726 - f1_m: 0.5230 - precision_m: 0.8967 - recall_m: 0.3745\n",
            "Epoch 32/100\n",
            "3367/3367 [==============================] - 7s 2ms/step - loss: 1.0754 - accuracy: 0.5753 - f1_m: 0.5236 - precision_m: 0.8970 - recall_m: 0.3752\n",
            "Epoch 33/100\n",
            "3367/3367 [==============================] - 7s 2ms/step - loss: 1.0763 - accuracy: 0.5726 - f1_m: 0.5219 - precision_m: 0.8969 - recall_m: 0.3737\n",
            "Epoch 34/100\n",
            "3367/3367 [==============================] - 7s 2ms/step - loss: 1.0763 - accuracy: 0.5711 - f1_m: 0.5203 - precision_m: 0.8958 - recall_m: 0.3717\n",
            "Epoch 35/100\n",
            "3367/3367 [==============================] - 8s 2ms/step - loss: 1.0727 - accuracy: 0.5710 - f1_m: 0.5189 - precision_m: 0.9011 - recall_m: 0.3696\n",
            "Epoch 36/100\n",
            "3367/3367 [==============================] - 7s 2ms/step - loss: 1.0774 - accuracy: 0.5745 - f1_m: 0.5198 - precision_m: 0.8911 - recall_m: 0.3722\n",
            "Epoch 37/100\n",
            "3367/3367 [==============================] - 7s 2ms/step - loss: 1.0706 - accuracy: 0.5752 - f1_m: 0.5256 - precision_m: 0.9000 - recall_m: 0.3766\n",
            "Epoch 38/100\n",
            "3367/3367 [==============================] - 7s 2ms/step - loss: 1.0705 - accuracy: 0.5771 - f1_m: 0.5246 - precision_m: 0.8991 - recall_m: 0.3762\n",
            "Epoch 39/100\n",
            "3367/3367 [==============================] - 7s 2ms/step - loss: 1.0643 - accuracy: 0.5739 - f1_m: 0.5245 - precision_m: 0.9076 - recall_m: 0.3742\n",
            "Epoch 40/100\n",
            "3367/3367 [==============================] - 7s 2ms/step - loss: 1.0740 - accuracy: 0.5745 - f1_m: 0.5221 - precision_m: 0.9017 - recall_m: 0.3732\n",
            "Epoch 41/100\n",
            "3367/3367 [==============================] - 7s 2ms/step - loss: 1.0657 - accuracy: 0.5752 - f1_m: 0.5259 - precision_m: 0.9022 - recall_m: 0.3765\n",
            "Epoch 42/100\n",
            "3367/3367 [==============================] - 7s 2ms/step - loss: 1.0677 - accuracy: 0.5755 - f1_m: 0.5245 - precision_m: 0.9030 - recall_m: 0.3749\n",
            "Epoch 43/100\n",
            "3367/3367 [==============================] - 7s 2ms/step - loss: 1.0677 - accuracy: 0.5777 - f1_m: 0.5265 - precision_m: 0.8964 - recall_m: 0.3781\n",
            "Epoch 44/100\n",
            "3367/3367 [==============================] - 7s 2ms/step - loss: 1.1484 - accuracy: 0.5548 - f1_m: 0.4851 - precision_m: 0.8988 - recall_m: 0.3392\n",
            "Epoch 45/100\n",
            "3367/3367 [==============================] - 7s 2ms/step - loss: 1.1124 - accuracy: 0.5638 - f1_m: 0.4808 - precision_m: 0.9244 - recall_m: 0.3304\n",
            "Epoch 46/100\n",
            "3367/3367 [==============================] - 7s 2ms/step - loss: 1.0815 - accuracy: 0.5723 - f1_m: 0.5157 - precision_m: 0.9016 - recall_m: 0.3665\n",
            "Epoch 47/100\n",
            "3367/3367 [==============================] - 7s 2ms/step - loss: 1.0752 - accuracy: 0.5731 - f1_m: 0.5193 - precision_m: 0.9005 - recall_m: 0.3705\n",
            "Epoch 48/100\n",
            "3367/3367 [==============================] - 7s 2ms/step - loss: 1.0742 - accuracy: 0.5750 - f1_m: 0.5230 - precision_m: 0.9006 - recall_m: 0.3737\n",
            "Epoch 49/100\n",
            "3367/3367 [==============================] - 7s 2ms/step - loss: 1.0649 - accuracy: 0.5767 - f1_m: 0.5278 - precision_m: 0.8974 - recall_m: 0.3792\n",
            "Epoch 50/100\n",
            "3367/3367 [==============================] - 7s 2ms/step - loss: 1.0779 - accuracy: 0.5712 - f1_m: 0.5224 - precision_m: 0.8973 - recall_m: 0.3740\n",
            "Epoch 51/100\n",
            "3367/3367 [==============================] - 7s 2ms/step - loss: 1.0620 - accuracy: 0.5781 - f1_m: 0.5276 - precision_m: 0.8982 - recall_m: 0.3793\n",
            "Epoch 52/100\n",
            "3367/3367 [==============================] - 8s 2ms/step - loss: 1.0690 - accuracy: 0.5742 - f1_m: 0.5247 - precision_m: 0.8990 - recall_m: 0.3763\n",
            "Epoch 53/100\n",
            "3367/3367 [==============================] - 7s 2ms/step - loss: 1.0637 - accuracy: 0.5753 - f1_m: 0.5287 - precision_m: 0.9046 - recall_m: 0.3788\n",
            "Epoch 54/100\n",
            "3367/3367 [==============================] - 7s 2ms/step - loss: 1.0631 - accuracy: 0.5787 - f1_m: 0.5310 - precision_m: 0.8973 - recall_m: 0.3823\n",
            "Epoch 55/100\n",
            "3367/3367 [==============================] - 7s 2ms/step - loss: 1.0615 - accuracy: 0.5780 - f1_m: 0.5301 - precision_m: 0.8986 - recall_m: 0.3814\n",
            "Epoch 56/100\n",
            "3367/3367 [==============================] - 7s 2ms/step - loss: 1.0609 - accuracy: 0.5777 - f1_m: 0.5296 - precision_m: 0.9045 - recall_m: 0.3800\n",
            "Epoch 57/100\n",
            "3367/3367 [==============================] - 8s 2ms/step - loss: 1.0634 - accuracy: 0.5774 - f1_m: 0.5285 - precision_m: 0.9029 - recall_m: 0.3789\n",
            "Epoch 58/100\n",
            "3367/3367 [==============================] - 8s 2ms/step - loss: 1.0648 - accuracy: 0.5773 - f1_m: 0.5292 - precision_m: 0.8959 - recall_m: 0.3810\n",
            "Epoch 59/100\n",
            "3367/3367 [==============================] - 8s 2ms/step - loss: 1.0667 - accuracy: 0.5740 - f1_m: 0.5295 - precision_m: 0.8972 - recall_m: 0.3812\n",
            "Epoch 60/100\n",
            "3367/3367 [==============================] - 8s 2ms/step - loss: 1.0670 - accuracy: 0.5749 - f1_m: 0.5304 - precision_m: 0.8968 - recall_m: 0.3818\n",
            "Epoch 61/100\n",
            "3367/3367 [==============================] - 8s 2ms/step - loss: 1.0631 - accuracy: 0.5756 - f1_m: 0.5253 - precision_m: 0.9001 - recall_m: 0.3766\n",
            "Epoch 62/100\n",
            "3367/3367 [==============================] - 8s 2ms/step - loss: 1.0595 - accuracy: 0.5779 - f1_m: 0.5289 - precision_m: 0.9028 - recall_m: 0.3801\n",
            "Epoch 63/100\n",
            "3367/3367 [==============================] - 8s 2ms/step - loss: 1.0569 - accuracy: 0.5803 - f1_m: 0.5331 - precision_m: 0.8985 - recall_m: 0.3845\n",
            "Epoch 64/100\n",
            "3367/3367 [==============================] - 8s 2ms/step - loss: 1.0565 - accuracy: 0.5775 - f1_m: 0.5317 - precision_m: 0.9003 - recall_m: 0.3825\n",
            "Epoch 65/100\n",
            "3367/3367 [==============================] - 8s 2ms/step - loss: 1.0625 - accuracy: 0.5760 - f1_m: 0.5280 - precision_m: 0.8995 - recall_m: 0.3795\n",
            "Epoch 66/100\n",
            "3367/3367 [==============================] - 7s 2ms/step - loss: 1.0597 - accuracy: 0.5787 - f1_m: 0.5335 - precision_m: 0.9002 - recall_m: 0.3845\n",
            "Epoch 67/100\n",
            "3367/3367 [==============================] - 7s 2ms/step - loss: 1.0537 - accuracy: 0.5808 - f1_m: 0.5364 - precision_m: 0.8975 - recall_m: 0.3880\n",
            "Epoch 68/100\n",
            "3367/3367 [==============================] - 8s 2ms/step - loss: 1.1434 - accuracy: 0.5563 - f1_m: 0.4813 - precision_m: 0.9134 - recall_m: 0.3334\n",
            "Epoch 69/100\n",
            "3367/3367 [==============================] - 7s 2ms/step - loss: 1.1186 - accuracy: 0.5666 - f1_m: 0.4846 - precision_m: 0.9324 - recall_m: 0.3328\n",
            "Epoch 70/100\n",
            "3367/3367 [==============================] - 7s 2ms/step - loss: 1.0965 - accuracy: 0.5696 - f1_m: 0.5030 - precision_m: 0.9265 - recall_m: 0.3508\n",
            "Epoch 71/100\n",
            "3367/3367 [==============================] - 7s 2ms/step - loss: 1.0915 - accuracy: 0.5709 - f1_m: 0.5063 - precision_m: 0.9233 - recall_m: 0.3540\n",
            "Epoch 72/100\n",
            "3367/3367 [==============================] - 7s 2ms/step - loss: 1.0785 - accuracy: 0.5758 - f1_m: 0.5178 - precision_m: 0.9119 - recall_m: 0.3671\n",
            "Epoch 73/100\n",
            "3367/3367 [==============================] - 7s 2ms/step - loss: 1.0757 - accuracy: 0.5750 - f1_m: 0.5201 - precision_m: 0.9049 - recall_m: 0.3705\n",
            "Epoch 74/100\n",
            "3367/3367 [==============================] - 7s 2ms/step - loss: 1.0622 - accuracy: 0.5779 - f1_m: 0.5239 - precision_m: 0.9082 - recall_m: 0.3737\n",
            "Epoch 75/100\n",
            "3367/3367 [==============================] - 7s 2ms/step - loss: 1.0754 - accuracy: 0.5725 - f1_m: 0.5232 - precision_m: 0.8990 - recall_m: 0.3743\n",
            "Epoch 76/100\n",
            "3367/3367 [==============================] - 7s 2ms/step - loss: 1.0610 - accuracy: 0.5800 - f1_m: 0.5311 - precision_m: 0.8981 - recall_m: 0.3824\n",
            "Epoch 77/100\n",
            "3367/3367 [==============================] - 7s 2ms/step - loss: 1.0619 - accuracy: 0.5795 - f1_m: 0.5329 - precision_m: 0.8938 - recall_m: 0.3850\n",
            "Epoch 78/100\n",
            "3367/3367 [==============================] - 8s 2ms/step - loss: 1.0610 - accuracy: 0.5764 - f1_m: 0.5337 - precision_m: 0.8932 - recall_m: 0.3858\n",
            "Epoch 79/100\n",
            "3367/3367 [==============================] - 7s 2ms/step - loss: 1.0575 - accuracy: 0.5784 - f1_m: 0.5324 - precision_m: 0.8934 - recall_m: 0.3845\n",
            "Epoch 80/100\n",
            "3367/3367 [==============================] - 7s 2ms/step - loss: 1.0595 - accuracy: 0.5777 - f1_m: 0.5339 - precision_m: 0.8936 - recall_m: 0.3858\n",
            "Epoch 81/100\n",
            "3367/3367 [==============================] - 7s 2ms/step - loss: 1.0581 - accuracy: 0.5768 - f1_m: 0.5362 - precision_m: 0.8921 - recall_m: 0.3886\n",
            "Epoch 82/100\n",
            "3367/3367 [==============================] - 7s 2ms/step - loss: 1.0565 - accuracy: 0.5795 - f1_m: 0.5364 - precision_m: 0.8947 - recall_m: 0.3882\n",
            "Epoch 83/100\n",
            "3367/3367 [==============================] - 7s 2ms/step - loss: 1.0631 - accuracy: 0.5742 - f1_m: 0.5334 - precision_m: 0.8924 - recall_m: 0.3856\n",
            "Epoch 84/100\n",
            "3367/3367 [==============================] - 8s 2ms/step - loss: 1.0543 - accuracy: 0.5774 - f1_m: 0.5381 - precision_m: 0.8953 - recall_m: 0.3898\n",
            "Epoch 85/100\n",
            "3367/3367 [==============================] - 7s 2ms/step - loss: 1.0594 - accuracy: 0.5753 - f1_m: 0.5336 - precision_m: 0.8942 - recall_m: 0.3858\n",
            "Epoch 86/100\n",
            "3367/3367 [==============================] - 8s 2ms/step - loss: 1.0605 - accuracy: 0.5764 - f1_m: 0.5327 - precision_m: 0.8905 - recall_m: 0.3856\n",
            "Epoch 87/100\n",
            "3367/3367 [==============================] - 7s 2ms/step - loss: 1.0547 - accuracy: 0.5787 - f1_m: 0.5348 - precision_m: 0.8902 - recall_m: 0.3874\n",
            "Epoch 88/100\n",
            "3367/3367 [==============================] - 7s 2ms/step - loss: 1.0534 - accuracy: 0.5754 - f1_m: 0.5374 - precision_m: 0.8938 - recall_m: 0.3897\n",
            "Epoch 89/100\n",
            "3367/3367 [==============================] - 7s 2ms/step - loss: 1.0509 - accuracy: 0.5796 - f1_m: 0.5395 - precision_m: 0.8942 - recall_m: 0.3917\n",
            "Epoch 90/100\n",
            "3367/3367 [==============================] - 7s 2ms/step - loss: 1.0538 - accuracy: 0.5777 - f1_m: 0.5376 - precision_m: 0.8936 - recall_m: 0.3896\n",
            "Epoch 91/100\n",
            "3367/3367 [==============================] - 7s 2ms/step - loss: 1.0495 - accuracy: 0.5812 - f1_m: 0.5397 - precision_m: 0.8939 - recall_m: 0.3917\n",
            "Epoch 92/100\n",
            "3367/3367 [==============================] - 7s 2ms/step - loss: 1.0562 - accuracy: 0.5776 - f1_m: 0.5316 - precision_m: 0.8901 - recall_m: 0.3842\n",
            "Epoch 93/100\n",
            "3367/3367 [==============================] - 8s 2ms/step - loss: 1.0570 - accuracy: 0.5770 - f1_m: 0.5327 - precision_m: 0.8935 - recall_m: 0.3848\n",
            "Epoch 94/100\n",
            "3367/3367 [==============================] - 7s 2ms/step - loss: 1.0494 - accuracy: 0.5806 - f1_m: 0.5402 - precision_m: 0.8949 - recall_m: 0.3918\n",
            "Epoch 95/100\n",
            "3367/3367 [==============================] - 7s 2ms/step - loss: 1.0550 - accuracy: 0.5755 - f1_m: 0.5349 - precision_m: 0.8951 - recall_m: 0.3869\n",
            "Epoch 96/100\n",
            "3367/3367 [==============================] - 7s 2ms/step - loss: 1.0543 - accuracy: 0.5764 - f1_m: 0.5361 - precision_m: 0.8913 - recall_m: 0.3887\n",
            "Epoch 97/100\n",
            "3367/3367 [==============================] - 7s 2ms/step - loss: 1.0513 - accuracy: 0.5786 - f1_m: 0.5382 - precision_m: 0.8926 - recall_m: 0.3906\n",
            "Epoch 98/100\n",
            "3367/3367 [==============================] - 7s 2ms/step - loss: 1.0500 - accuracy: 0.5785 - f1_m: 0.5394 - precision_m: 0.8918 - recall_m: 0.3918\n",
            "Epoch 99/100\n",
            "3367/3367 [==============================] - 7s 2ms/step - loss: 1.0562 - accuracy: 0.5776 - f1_m: 0.5362 - precision_m: 0.8949 - recall_m: 0.3885\n",
            "Epoch 100/100\n",
            "3367/3367 [==============================] - 8s 2ms/step - loss: 1.0580 - accuracy: 0.5753 - f1_m: 0.5348 - precision_m: 0.8898 - recall_m: 0.3876\n"
          ],
          "name": "stdout"
        }
      ]
    },
    {
      "cell_type": "code",
      "metadata": {
        "colab": {
          "base_uri": "https://localhost:8080/"
        },
        "id": "ztGpRsQzymQ2",
        "outputId": "f44a7cda-19b3-429f-9af6-ccbabc3e9d0f"
      },
      "source": [
        "loss_NNall, accNNall, f1_score_NNall, precision_NNall, recall_NNall = model2.evaluate(X_test, y_test, verbose=True)\n",
        "print(\"Testing Accuracy: {:.4f}\".format(accNNall))\n",
        "print(\"Testing Precision: {:.4f}\".format(precision_NNall))\n",
        "print(\"Testing Recall: {:.4f}\".format(recall_NNall))\n",
        "print(\"Testing F1-Score: {:.4f}\".format(f1_score_NNall))"
      ],
      "execution_count": 56,
      "outputs": [
        {
          "output_type": "stream",
          "text": [
            "2573/2573 [==============================] - 4s 1ms/step - loss: 0.9936 - accuracy: 0.6072 - f1_m: 0.5331 - precision_m: 0.8018 - recall_m: 0.4617\n",
            "Testing Accuracy: 0.6072\n",
            "Testing Precision: 0.8018\n",
            "Testing Recall: 0.4617\n",
            "Testing F1-Score: 0.5331\n"
          ],
          "name": "stdout"
        }
      ]
    },
    {
      "cell_type": "code",
      "metadata": {
        "id": "CS0Gt8XauZ5P"
      },
      "source": [
        "#Ada Boost with DT\n",
        "from sklearn.ensemble import AdaBoostClassifier\n"
      ],
      "execution_count": 57,
      "outputs": []
    },
    {
      "cell_type": "code",
      "metadata": {
        "colab": {
          "base_uri": "https://localhost:8080/"
        },
        "id": "6tc7MPIluZ9m",
        "outputId": "5a6470d1-0b75-4ec3-dad3-9d9037820455"
      },
      "source": [
        "print (\"\\t\\tAdaBoost using Decision Tree Analysis of UNSW NB15\\n\\n\\t\\tTop 15 Features \")\n",
        "\n",
        "\n",
        "\n",
        "abc10 = AdaBoostClassifier(DecisionTreeClassifier(max_depth=3), algorithm=\"SAMME\", n_estimators=500)\n",
        "abc10.fit(df1_xtrain, df1_ytrain)\n",
        "\n",
        "#Predict the response for test dataset\n",
        "y_pred_Ada10 = abc10.predict(df1_xtest)\n",
        "\n",
        "\n",
        "results_Ada10 = confusion_matrix(df1_ytest, y_pred_Ada10) \n",
        "print ('Confusion Matrix :')\n",
        "print(results_Ada10) \n",
        "\n",
        "accabc10=accuracy_score(df1_ytest, y_pred_Ada10)\n",
        "preabc10=precision_score(df1_ytest, y_pred_Ada10, average='macro')\n",
        "f1abc10=f1_score(df1_ytest, y_pred_Ada10, average='macro')\n",
        "reabc10=recall_score(df1_ytest, y_pred_Ada10, average='macro')\n",
        "\n",
        "print ('Accuracy Score :', accabc10)\n",
        "print(\"Precision Score: \",preabc10)\n",
        "print(\"F1 Score: \",f1abc10)\n",
        "print(\"Recall: \",reabc10)"
      ],
      "execution_count": 58,
      "outputs": [
        {
          "output_type": "stream",
          "text": [
            "\t\tAdaBoost using Decision Tree Analysis of UNSW NB15\n",
            "\n",
            "\t\tTop 15 Features \n",
            "Confusion Matrix :\n",
            "[[  281     4    60    51   206     0    62    13     0     0]\n",
            " [  179     6    61    97   214     1     8    13     4     0]\n",
            " [ 1862   134   237   854   525    69   168   200    38     2]\n",
            " [ 1854   155   390  6189   859   253   868   517    44     3]\n",
            " [  539    12   134   370  1076     2  3825    66    36     2]\n",
            " [   12     2    49   804    41 17849    89    15    10     0]\n",
            " [  440    23   170   908  3039    18 32249    20   127     6]\n",
            " [  216    28    22   196    78     7    87  2842    20     0]\n",
            " [    0     0    25    50    44     0    45    15   199     0]\n",
            " [    0     1     0    31     4     3     1     0     2     2]]\n",
            "Accuracy Score : 0.7400524704853519\n",
            "Precision Score:  0.4258598142157197\n",
            "F1 Score:  0.41227831822646416\n",
            "Recall:  0.4419058463727786\n"
          ],
          "name": "stdout"
        }
      ]
    },
    {
      "cell_type": "code",
      "metadata": {
        "colab": {
          "base_uri": "https://localhost:8080/"
        },
        "id": "qWHpLmjVuaML",
        "outputId": "9b6b6502-1c90-4448-ce2c-06afb1bd8cb4"
      },
      "source": [
        "print (\"\\t\\tAdaBoost using DT Analysis of UNSW-NB15\\n\\n\\t\\tTop 30 Features \")\n",
        "\n",
        "abc20 = AdaBoostClassifier(DecisionTreeClassifier(max_depth=3), algorithm=\"SAMME\",n_estimators=500)\n",
        "abc20.fit(df2_xtrain, df2_ytrain)\n",
        "\n",
        "y_pred_Ada20 = abc20.predict(df2_xtest)\n",
        "\n",
        "\n",
        "\n",
        "results_Ada10 = confusion_matrix(df2_ytest, y_pred_Ada20) \n",
        "print ('Confusion Matrix :')\n",
        "print(results_Ada10) \n",
        "\n",
        "accabc20=accuracy_score(df2_ytest, y_pred_Ada20)\n",
        "preabc20=precision_score(df2_ytest, y_pred_Ada20, average='macro')\n",
        "f1abc20=f1_score(df2_ytest, y_pred_Ada20, average='macro')\n",
        "reabc20=recall_score(df2_ytest, y_pred_Ada20, average='macro')\n",
        "\n",
        "print ('Accuracy Score :', accabc20)\n",
        "print(\"Precision Score: \",preabc20)\n",
        "print(\"F1 Score: \",f1abc20)\n",
        "print(\"Recall: \",reabc20)\n"
      ],
      "execution_count": 59,
      "outputs": [
        {
          "output_type": "stream",
          "text": [
            "\t\tAdaBoost using DT Analysis of UNSW-NB15\n",
            "\n",
            "\t\tTop 30 Features \n",
            "Confusion Matrix :\n",
            "[[  424    57     3    18    44     0    55    76     0     0]\n",
            " [  359    45    15    24    51    11     4    71     3     0]\n",
            " [ 1378   689   331   926   328    32   108   252    39     6]\n",
            " [ 1640   687  1031  6096   478   219   363   553    40    25]\n",
            " [  826   133    82   151  1658    11  2933   194    53    21]\n",
            " [   13     6   260   370    56 18059    87     7    12     1]\n",
            " [  658     6   307   638  5201    27 30030    14   101    18]\n",
            " [  133   110    59   241    86     7    34  2820     5     1]\n",
            " [    0     2    36    54    45     0    36    12   193     0]\n",
            " [    0     0     5    31     2     2     2     0     0     2]]\n",
            "Accuracy Score : 0.7246028275761551\n",
            "Precision Score:  0.42216095049288327\n",
            "F1 Score:  0.42151037141227066\n",
            "Recall:  0.4736811250635452\n"
          ],
          "name": "stdout"
        }
      ]
    },
    {
      "cell_type": "code",
      "metadata": {
        "colab": {
          "base_uri": "https://localhost:8080/"
        },
        "id": "0EdgdNfGuaUk",
        "outputId": "1264fbd1-8e22-4b8e-b77e-3031666ec11f"
      },
      "source": [
        "print (\"\\t\\tAdaBoost using DT Analysis of UNSW-NB15\\n\\n\\t\\tAll Features \")\n",
        "\n",
        "abcall = AdaBoostClassifier(DecisionTreeClassifier(max_depth=3),\n",
        "                         algorithm=\"SAMME\",\n",
        "                         n_estimators=500)\n",
        "\n",
        "abcall.fit(df3_xtrain,df3_ytrain)\n",
        "\n",
        "y_pred_Adaall = abcall.predict(df3_xtest)\n",
        "\n",
        "results_Adaall = confusion_matrix(df3_ytest, y_pred_Adaall) \n",
        "print ('Confusion Matrix :')\n",
        "print(results_Adaall)\n",
        "\n",
        "accabcall=accuracy_score(df3_ytest, y_pred_Adaall)\n",
        "preabcall=precision_score(df3_ytest, y_pred_Adaall, average='macro')\n",
        "f1abcall=f1_score(df3_ytest, y_pred_Adaall, average='macro')\n",
        "reabcall=recall_score(df3_ytest, y_pred_Adaall, average='macro')\n",
        "\n",
        "print ('Accuracy Score :', accabcall)\n",
        "print(\"Precision Score: \",preabcall)\n",
        "print(\"F1 Score: \",f1abcall)\n",
        "print(\"Recall: \",reabcall)"
      ],
      "execution_count": 60,
      "outputs": [
        {
          "output_type": "stream",
          "text": [
            "\t\tAdaBoost using DT Analysis of UNSW-NB15\n",
            "\n",
            "\t\tAll Features \n",
            "Confusion Matrix :\n",
            "[[  249    47   164    14    21    34    26   122     0     0]\n",
            " [  187    89   159    23    26    10     0    89     0     0]\n",
            " [  977   503   493   591   129   142   139  1115     0     0]\n",
            " [ 1516   832   956  3556   150   892  1299  1930     0     1]\n",
            " [  441   648   724  1154  1237   999   233   626     0     0]\n",
            " [   17    42    75   356     6 14065    41  4269     0     0]\n",
            " [ 2178  1236  1812  4189  5753  1274 15575  4983     0     0]\n",
            " [   85   129    52    69    20    14     2  3125     0     0]\n",
            " [    0    67    72   168     6     0     0    65     0     0]\n",
            " [    0     0     5    11     0     1     0    27     0     0]]\n",
            "Accuracy Score : 0.4662707088373901\n",
            "Precision Score:  0.2594977036850702\n",
            "F1 Score:  0.24182434495918598\n",
            "Recall:  0.32246708489366177\n"
          ],
          "name": "stdout"
        },
        {
          "output_type": "stream",
          "text": [
            "/usr/local/lib/python3.7/dist-packages/sklearn/metrics/_classification.py:1272: UndefinedMetricWarning:\n",
            "\n",
            "Precision is ill-defined and being set to 0.0 in labels with no predicted samples. Use `zero_division` parameter to control this behavior.\n",
            "\n"
          ],
          "name": "stderr"
        }
      ]
    },
    {
      "cell_type": "code",
      "metadata": {
        "id": "Fbwdx6KnI4wX"
      },
      "source": [
        ""
      ],
      "execution_count": 60,
      "outputs": []
    },
    {
      "cell_type": "code",
      "metadata": {
        "colab": {
          "base_uri": "https://localhost:8080/"
        },
        "id": "i_Sou9aPI9np",
        "outputId": "818534fb-5bfb-4046-ff01-7b5bf178be1e"
      },
      "source": [
        "!pip install vecstack\n",
        "\n",
        "from sklearn.model_selection import train_test_split\n",
        "from sklearn.metrics import accuracy_score\n",
        "from sklearn.neighbors import KNeighborsClassifier\n",
        "from sklearn.ensemble import RandomForestClassifier\n",
        "from xgboost import XGBClassifier\n",
        "from vecstack import stacking"
      ],
      "execution_count": 61,
      "outputs": [
        {
          "output_type": "stream",
          "text": [
            "Collecting vecstack\n",
            "  Downloading https://files.pythonhosted.org/packages/d0/a1/b9a1e9e9e5a12078da1ab9788c7885e4c745358f7e57d5f94d9db6a4e898/vecstack-0.4.0.tar.gz\n",
            "Requirement already satisfied: numpy in /usr/local/lib/python3.7/dist-packages (from vecstack) (1.19.5)\n",
            "Requirement already satisfied: scipy in /usr/local/lib/python3.7/dist-packages (from vecstack) (1.4.1)\n",
            "Requirement already satisfied: scikit-learn>=0.18 in /usr/local/lib/python3.7/dist-packages (from vecstack) (0.22.2.post1)\n",
            "Requirement already satisfied: joblib>=0.11 in /usr/local/lib/python3.7/dist-packages (from scikit-learn>=0.18->vecstack) (1.0.1)\n",
            "Building wheels for collected packages: vecstack\n",
            "  Building wheel for vecstack (setup.py) ... \u001b[?25l\u001b[?25hdone\n",
            "  Created wheel for vecstack: filename=vecstack-0.4.0-cp37-none-any.whl size=19877 sha256=10159df6797a7110ceb2d716b1b0759c33083e5a1018976f86bc6dcd138400da\n",
            "  Stored in directory: /root/.cache/pip/wheels/5f/bb/4e/f6488433d53bc0684673d6845e5bf11a25240577c8151c140e\n",
            "Successfully built vecstack\n",
            "Installing collected packages: vecstack\n",
            "Successfully installed vecstack-0.4.0\n"
          ],
          "name": "stdout"
        }
      ]
    },
    {
      "cell_type": "code",
      "metadata": {
        "id": "Fqd-w6geI40E"
      },
      "source": [
        "models_XGB = [\n",
        "    KNeighborsClassifier(),\n",
        "        \n",
        "    RandomForestClassifier(n_estimators=500, max_depth=3),\n",
        "        \n",
        "    XGBClassifier(random_state=0, n_jobs=-1, learning_rate=0.1, \n",
        "                  n_estimators=100, max_depth=3)\n",
        "]"
      ],
      "execution_count": 62,
      "outputs": []
    },
    {
      "cell_type": "code",
      "metadata": {
        "colab": {
          "base_uri": "https://localhost:8080/"
        },
        "id": "yjUmiwr-I43Z",
        "outputId": "9a0ad1b8-30b2-4d73-f6aa-082f19f00fba"
      },
      "source": [
        "S_train, S_test = stacking(models_XGB, df1_xtrain, df1_ytrain, df1_xtest, regression=False, mode='oof_pred_bag', needs_proba=False, save_dir=None,  metric=accuracy_score, \n",
        "                               n_folds=5, stratified=True, shuffle=True,  random_state=0, verbose=2)"
      ],
      "execution_count": 63,
      "outputs": [
        {
          "output_type": "stream",
          "text": [
            "task:         [classification]\n",
            "n_classes:    [10]\n",
            "metric:       [accuracy_score]\n",
            "mode:         [oof_pred_bag]\n",
            "n_models:     [3]\n",
            "\n",
            "model  0:     [KNeighborsClassifier]\n",
            "    fold  0:  [0.73357156]\n",
            "    fold  1:  [0.74108966]\n",
            "    fold  2:  [0.73417487]\n",
            "    fold  3:  [0.73937256]\n",
            "    fold  4:  [0.74043995]\n",
            "    ----\n",
            "    MEAN:     [0.73772972] + [0.00320190]\n",
            "    FULL:     [0.73772972]\n",
            "\n",
            "model  1:     [RandomForestClassifier]\n",
            "    fold  0:  [0.72558938]\n",
            "    fold  1:  [0.73208650]\n",
            "    fold  2:  [0.72647113]\n",
            "    fold  3:  [0.73454613]\n",
            "    fold  4:  [0.72985892]\n",
            "    ----\n",
            "    MEAN:     [0.72971041] + [0.00336238]\n",
            "    FULL:     [0.72971041]\n",
            "\n",
            "model  2:     [XGBClassifier]\n",
            "    fold  0:  [0.78893633]\n",
            "    fold  1:  [0.79547986]\n",
            "    fold  2:  [0.79650084]\n",
            "    fold  3:  [0.79961017]\n",
            "    fold  4:  [0.79520141]\n",
            "    ----\n",
            "    MEAN:     [0.79514572] + [0.00347675]\n",
            "    FULL:     [0.79514572]\n",
            "\n"
          ],
          "name": "stdout"
        }
      ]
    },
    {
      "cell_type": "code",
      "metadata": {
        "id": "NQFZA7MAI473"
      },
      "source": [
        "model_XGB1 = XGBClassifier(random_state=1, n_jobs=-1, learning_rate=0.1, \n",
        "                      n_estimators=300, max_depth=3)\n",
        "    \n",
        "model_XGB1 = model_XGB1.fit(S_train, df1_ytrain)\n",
        "\n",
        "y_pred_XGB1 = model_XGB1.predict(S_test)\n",
        "\n",
        "print('Final prediction score: [%.5f]' % accuracy_score(df1_ytest, y_pred_XGB1))\n",
        "\n",
        "results_XGB1 = confusion_matrix(df1_ytest, y_pred_XGB1) \n",
        "print ('Confusion Matrix :')\n",
        "print(results_XGB1) \n",
        "\n",
        "accXGB10=accuracy_score(df1_ytest, y_pred_XGB1)\n",
        "preXGB10=precision_score(df1_ytest, y_pred_XGB1, average='macro')\n",
        "f1XGB10=f1_score(df1_ytest, y_pred_XGB1, average='macro')\n",
        "reXGB10=recall_score(df1_ytest, y_pred_XGB1, average='macro')\n",
        "\n",
        "print ('Accuracy Score :', accXGB10)\n",
        "print(\"Precision Score: \",preXGB10)\n",
        "print(\"F1 Score: \",f1XGB10)\n",
        "print(\"Recall: \",reXGB10)"
      ],
      "execution_count": null,
      "outputs": []
    },
    {
      "cell_type": "code",
      "metadata": {
        "id": "8i1KC2CdTWm8"
      },
      "source": [
        "S_train2, S_test2 = stacking(models_XGB, df2_xtrain, df2_ytrain, df2_xtest, regression=False, mode='oof_pred_bag', needs_proba=False, save_dir=None,  metric=accuracy_score, \n",
        "                               n_folds=5, stratified=True, shuffle=True,  random_state=0, verbose=2)\n",
        "\n",
        "model_XGB2 = XGBClassifier(random_state=0, n_jobs=-1, learning_rate=0.1, n_estimators=300, max_depth=3)\n",
        "    \n",
        "model_XGB2 = model_XGB2.fit(S_train2, df2_ytrain)\n",
        "\n",
        "y_pred_XGB2 = model_XGB2.predict(S_test2)\n",
        "\n",
        "print('Final prediction score: [%.5f]' % accuracy_score(df2_ytest, y_pred_XGB2))\n",
        "\n",
        "\n",
        "\n",
        "\n",
        "results_XGB2 = confusion_matrix(df2_ytest, y_pred_XGB2) \n",
        "print ('Confusion Matrix :')\n",
        "print(results_XGB2) \n",
        "\n",
        "accXGB20=accuracy_score(df2_ytest, y_pred_XGB2)\n",
        "preXGB20=precision_score(df2_ytest, y_pred_XGB2, average='macro')\n",
        "f1XGB20=f1_score(df2_ytest, y_pred_XGB2, average='macro')\n",
        "reXGB20=recall_score(df2_ytest, y_pred_XGB2, average='macro')\n",
        "\n",
        "print ('Accuracy Score :',accXGB20 )\n",
        "print(\"Precision Score: \",preXGB20)\n",
        "print(\"F1 Score: \",f1XGB20)\n",
        "print(\"Recall: \",reXGB20)\n",
        "\n"
      ],
      "execution_count": null,
      "outputs": []
    },
    {
      "cell_type": "code",
      "metadata": {
        "id": "dSyC9ob1TWqP",
        "colab": {
          "base_uri": "https://localhost:8080/"
        },
        "outputId": "d4bb9f1c-726f-4fbd-af8c-a9f0fa050191"
      },
      "source": [
        "\n",
        "S_train3, S_test3 = stacking(models_XGB, df3_xtrain, df3_ytrain, df3_xtest, regression=False, mode='oof_pred_bag', needs_proba=False, save_dir=None,  metric=accuracy_score, \n",
        "                               n_folds=5, stratified=True, shuffle=True,  random_state=0, verbose=2)\n",
        "\n",
        "\n",
        "model_XGB3 = XGBClassifier(random_state=0, n_jobs=-1, learning_rate=0.1, n_estimators=300, max_depth=3)\n",
        "    \n",
        "model_XGB3 = model_XGB3.fit(S_train3, df3_ytrain)\n",
        "\n",
        "y_pred_XGB3 = model_XGB3.predict(S_test)\n",
        "\n",
        "print('Final prediction score: [%.5f]' % accuracy_score(df3_ytest, y_pred_XGB3))\n",
        "\n",
        "\n",
        "\n",
        "\n",
        "results_XGB3 = confusion_matrix(df3_ytest, y_pred_XGB3) \n",
        "print ('Confusion Matrix :')\n",
        "print(results_XGB3)\n",
        "\n",
        "accXGBall=accuracy_score(df3_ytest, y_pred_XGB3)\n",
        "preXGBall=precision_score(df3_ytest, y_pred_XGB3, average='macro')\n",
        "f1XGBall=f1_score(df3_ytest, y_pred_XGB3, average='macro')\n",
        "reXGBall=recall_score(df3_ytest, y_pred_XGB3, average='macro')\n",
        "\n",
        "print ('Accuracy Score :', accXGBall)\n",
        "print(\"Precision Score: \",preXGBall)\n",
        "print(\"F1 Score: \",f1XGBall)\n",
        "print(\"Recall: \",reXGBall)"
      ],
      "execution_count": null,
      "outputs": [
        {
          "output_type": "stream",
          "text": [
            "task:         [classification]\n",
            "n_classes:    [10]\n",
            "metric:       [accuracy_score]\n",
            "mode:         [oof_pred_bag]\n",
            "n_models:     [3]\n",
            "\n",
            "model  0:     [KNeighborsClassifier]\n",
            "    fold  0:  [0.56682755]\n",
            "    fold  1:  [0.56585298]\n",
            "    fold  2:  [0.56835901]\n",
            "    fold  3:  [0.56283646]\n",
            "    fold  4:  [0.57040097]\n",
            "    ----\n",
            "    MEAN:     [0.56685539] + [0.00252940]\n",
            "    FULL:     [0.56685539]\n",
            "\n",
            "model  1:     [RandomForestClassifier]\n",
            "    fold  0:  [0.69811583]\n",
            "    fold  1:  [0.70405606]\n",
            "    fold  2:  [0.70470577]\n",
            "    fold  3:  [0.70591238]\n",
            "    fold  4:  [0.70572675]\n",
            "    ----\n",
            "    MEAN:     [0.70370336] + [0.00287484]\n",
            "    FULL:     [0.70370336]\n",
            "\n",
            "model  2:     [XGBClassifier]\n",
            "    fold  0:  [0.79227771]\n",
            "    fold  1:  [0.79956376]\n",
            "    fold  2:  [0.79942454]\n",
            "    fold  3:  [0.80517913]\n"
          ],
          "name": "stdout"
        }
      ]
    },
    {
      "cell_type": "code",
      "metadata": {
        "id": "Hwgf1CnikmZa"
      },
      "source": [
        "from sklearn.datasets import make_classification\n",
        "from sklearn.ensemble import StackingClassifier\n",
        "from sklearn.linear_model import LogisticRegression\n",
        "from sklearn.neighbors import KNeighborsClassifier\n",
        "from sklearn.tree import DecisionTreeClassifier\n",
        "from sklearn.svm import SVC\n",
        "from sklearn.ensemble import RandomForestClassifier,AdaBoostClassifier,GradientBoostingClassifier"
      ],
      "execution_count": null,
      "outputs": []
    },
    {
      "cell_type": "code",
      "metadata": {
        "id": "vPtKiX1VTWtA"
      },
      "source": [
        "\"\"\"\n",
        "level0 = list()\n",
        "level0.append(('rf', RandomForestClassifier()))\n",
        "#level0.append(('knn', KNeighborsClassifier()))\n",
        "level0.append(('cart', DecisionTreeClassifier()))\n",
        "# define meta learner model\n",
        "print(\"Proceeding with: \",level0)\n",
        "level1 = GradientBoostingClassifier(n_estimators=200)\n",
        "# define the stacking ensemble\n",
        "model = StackingClassifier(estimators=level0, final_estimator=level1, cv=2)\n",
        "# fit the model on all available data\n",
        "model.fit(df1_xtrain, df1_ytrain)\n",
        "# make a prediction for one example\n",
        "\n",
        "yhat = model.predict(df1_xtest)\n",
        "#print('Predicted Class: %d' % (yhat))\n",
        "\n",
        "print('Final prediction score: [%.5f]' % accuracy_score(df1_ytest, yhat))\n",
        "\n",
        "results_sc1 = confusion_matrix(df1_ytest, yhat) \n",
        "print ('Confusion Matrix :')\n",
        "print(results_sc1) \n",
        "\n",
        "print ('Accuracy Score :',accuracy_score(df1_ytest, yhat) )\n",
        "print(\"Precision Score: \",precision_score(df1_ytest, yhat, average='macro'))\n",
        "print(\"F1 Score: \",f1_score(df1_ytest, yhat, average='macro'))\n",
        "print(\"Recall: \",recall_score(df1_ytest, yhat, average='macro'))\n",
        "\"\"\""
      ],
      "execution_count": null,
      "outputs": []
    },
    {
      "cell_type": "code",
      "metadata": {
        "id": "lUMdVaV4S1Bb"
      },
      "source": [
        "import matplotlib.pyplot as plt\n",
        "import numpy as np"
      ],
      "execution_count": null,
      "outputs": []
    },
    {
      "cell_type": "code",
      "metadata": {
        "id": "DzIs_9OsddmO",
        "colab": {
          "base_uri": "https://localhost:8080/",
          "height": 565
        },
        "outputId": "84455a5c-07a4-4fc8-d50c-b0ecd81f17b1"
      },
      "source": [
        "fig,a =  plt.subplots(2,2,figsize=(10, 8))\n",
        "fig.tight_layout(pad=3)\n",
        "a[0][0].plot(['Top 15', 'Top 30', 'All'],[accKNN10*100,accKNN20*100,accKNNall*100])\n",
        "a[0][0].set_title('Accuracy')\n",
        "a[0][1].plot(['Top 15', 'Top 30', 'All'],[preKNN10*100,preKNN20*100,preKNNall*100])\n",
        "a[0][1].set_title('Precision')\n",
        "a[1][0].plot(['Top 15', 'Top 30', 'All'],[f1KNN10*100,f1KNN20*100,f1KNNall*100])\n",
        "a[1][0].set_title('F1-Score')\n",
        "a[1][1].plot(['Top 15', 'Top 30', 'All'],[reKNN10*100,reKNN20*100,reKNNall*100])\n",
        "a[1][1].set_title('Recall')\n",
        "#figure.tight_layout(pad=3.0)\n",
        "plt.suptitle('KNN',fontsize=20)\n",
        "\n",
        "plt.show()"
      ],
      "execution_count": 85,
      "outputs": [
        {
          "output_type": "display_data",
          "data": {
            "image/png": "[encoded data removed]",
            "text/plain": [
              "<Figure size 720x576 with 4 Axes>"
            ]
          },
          "metadata": {
            "tags": [],
            "needs_background": "light"
          }
        }
      ]
    },
    {
      "cell_type": "code",
      "metadata": {
        "id": "8jBfEoO1f-vR",
        "colab": {
          "base_uri": "https://localhost:8080/",
          "height": 565
        },
        "outputId": "dcc73f45-7a89-400d-fb81-b9ea245b78c7"
      },
      "source": [
        "fig,a =  plt.subplots(2,2,figsize=(10, 8))\n",
        "fig.tight_layout(pad=3)\n",
        "a[0][0].plot(['Top 15', 'Top 30', 'All'],[accDT10*100,accDT20*100,accDTall*100])\n",
        "a[0][0].set_title('Accuracy')\n",
        "a[0][1].plot(['Top 15', 'Top 30', 'All'],[preDT10*100,preDT20*100,preDTall*100])\n",
        "a[0][1].set_title('Precision')\n",
        "a[1][0].plot(['Top 15', 'Top 30', 'All'],[f1DT10*100,f1DT20*100,f1DTall*100])\n",
        "a[1][0].set_title('F1-Score')\n",
        "a[1][1].plot(['Top 15', 'Top 30', 'All'],[reDT10*100,reDT20*100,reDTall*100])\n",
        "a[1][1].set_title('Recall')\n",
        "#figure.tight_layout(pad=3.0)\n",
        "plt.suptitle('Decision Treee',fontsize=20)\n",
        "\n",
        "plt.show()"
      ],
      "execution_count": 86,
      "outputs": [
        {
          "output_type": "display_data",
          "data": {
            "image/png": "[encoded data removed]",
            "text/plain": [
              "<Figure size 720x576 with 4 Axes>"
            ]
          },
          "metadata": {
            "tags": [],
            "needs_background": "light"
          }
        }
      ]
    },
    {
      "cell_type": "code",
      "metadata": {
        "id": "mxfc2mpZhRIs",
        "colab": {
          "base_uri": "https://localhost:8080/",
          "height": 565
        },
        "outputId": "08b3092b-613d-47bd-ae40-f5df979a92f9"
      },
      "source": [
        "fig,a =  plt.subplots(2,2,figsize=(10, 8))\n",
        "fig.tight_layout(pad=3)\n",
        "a[0][0].plot(['Top 15', 'Top 30', 'All'],[accDT10*100,accDT20*100,accDTall*100])\n",
        "a[0][0].set_title('Accuracy')\n",
        "a[0][1].plot(['Top 15', 'Top 30', 'All'],[preDT10*100,preDT20*100,preDTall*100])\n",
        "a[0][1].set_title('Precision')\n",
        "a[1][0].plot(['Top 15', 'Top 30', 'All'],[f1DT10*100,f1DT20*100,f1DTall*100])\n",
        "a[1][0].set_title('F1-Score')\n",
        "a[1][1].plot(['Top 15', 'Top 30', 'All'],[reDT10*100,reDT20*100,reDTall*100])\n",
        "a[1][1].set_title('Recall')\n",
        "#figure.tight_layout(pad=3.0)\n",
        "plt.suptitle('Multinomial Naive Bayes',fontsize=20)\n",
        "\n",
        "plt.show()"
      ],
      "execution_count": 87,
      "outputs": [
        {
          "output_type": "display_data",
          "data": {
            "image/png": "[encoded data removed]",
            "text/plain": [
              "<Figure size 720x576 with 4 Axes>"
            ]
          },
          "metadata": {
            "tags": [],
            "needs_background": "light"
          }
        }
      ]
    },
    {
      "cell_type": "code",
      "metadata": {
        "id": "lFij-59DhRe8",
        "colab": {
          "base_uri": "https://localhost:8080/",
          "height": 565
        },
        "outputId": "46c24c9f-2e92-4bd0-976d-2ae1a5cc4a33"
      },
      "source": [
        "fig,a =  plt.subplots(2,2,figsize=(10, 8))\n",
        "fig.tight_layout(pad=3)\n",
        "a[0][0].plot(['Top 15', 'Top 30', 'All'],[accclfRF_10*100,accclfRF_20*100,accclfRF_all*100])\n",
        "a[0][0].set_title('Accuracy')\n",
        "a[0][1].plot(['Top 15', 'Top 30', 'All'],[preclfRF_10*100,preclfRF_20*100,preclfRF_all*100])\n",
        "a[0][1].set_title('Precision')\n",
        "a[1][0].plot(['Top 15', 'Top 30', 'All'],[f1clfRF_10*100,f1clfRF_20*100,f1clfRF_all*100])\n",
        "a[1][0].set_title('F1-Score')\n",
        "a[1][1].plot(['Top 15', 'Top 30', 'All'],[reclfRF_10*100,reclfRF_20*100,reclfRF_all*100])\n",
        "a[1][1].set_title('Recall')\n",
        "#figure.tight_layout(pad=3.0)\n",
        "plt.suptitle('Random Forest',fontsize=20)\n",
        "\n",
        "plt.show()"
      ],
      "execution_count": 88,
      "outputs": [
        {
          "output_type": "display_data",
          "data": {
            "image/png": "[encoded data removed]",
            "text/plain": [
              "<Figure size 720x576 with 4 Axes>"
            ]
          },
          "metadata": {
            "tags": [],
            "needs_background": "light"
          }
        }
      ]
    },
    {
      "cell_type": "code",
      "metadata": {
        "id": "yaRhXP4TkmpT",
        "colab": {
          "base_uri": "https://localhost:8080/",
          "height": 565
        },
        "outputId": "d4a0fe6d-95ac-4837-d745-73d54381aa03"
      },
      "source": [
        "fig,a =  plt.subplots(2,2,figsize=(10, 8))\n",
        "fig.tight_layout(pad=3)\n",
        "a[0][0].plot(['Top 15', 'Top 30', 'All'],[accNN10*100,accNN20*100,accNNall*100])\n",
        "a[0][0].set_title('Accuracy')\n",
        "a[0][1].plot(['Top 15', 'Top 30', 'All'],[precision_NN10*100,precision_NN20*100,precision_NNall*100])\n",
        "a[0][1].set_title('Precision')\n",
        "a[1][0].plot(['Top 15', 'Top 30', 'All'],[f1_score_NN10*100,f1_score_NN20*100,f1_score_NNall*100])\n",
        "a[1][0].set_title('F1-Score')\n",
        "a[1][1].plot(['Top 15', 'Top 30', 'All'],[recall_NN10*100,recall_NN20*100,recall_NNall*100])\n",
        "a[1][1].set_title('Recall')\n",
        "#figure.tight_layout(pad=3.0)\n",
        "plt.suptitle('Neural Network',fontsize=20)\n",
        "\n",
        "plt.show()"
      ],
      "execution_count": 89,
      "outputs": [
        {
          "output_type": "display_data",
          "data": {
            "image/png": "[encoded data removed]",
            "text/plain": [
              "<Figure size 720x576 with 4 Axes>"
            ]
          },
          "metadata": {
            "tags": [],
            "needs_background": "light"
          }
        }
      ]
    },
    {
      "cell_type": "code",
      "metadata": {
        "id": "l1L59tlVmIYE",
        "colab": {
          "base_uri": "https://localhost:8080/",
          "height": 565
        },
        "outputId": "a502fda7-ba09-4990-e207-dfff6aa6976d"
      },
      "source": [
        "fig,a =  plt.subplots(2,2,figsize=(10, 8))\n",
        "fig.tight_layout(pad=3)\n",
        "a[0][0].plot(['Top 15', 'Top 30', 'All'],[accabc10*100,accabc20*100,accabcall*100])\n",
        "a[0][0].set_title('Accuracy')\n",
        "a[0][1].plot(['Top 15', 'Top 30', 'All'],[preabc10*100,preabc20*100,preabcall*100])\n",
        "a[0][1].set_title('Precision')\n",
        "a[1][0].plot(['Top 15', 'Top 30', 'All'],[f1abc10*100,f1abc20*100,f1abcall*100])\n",
        "a[1][0].set_title('F1-Score')\n",
        "a[1][1].plot(['Top 15', 'Top 30', 'All'],[reabc10*100,reabc20*100,reabcall*100])\n",
        "a[1][1].set_title('Recall')\n",
        "#figure.tight_layout(pad=3.0)\n",
        "plt.suptitle('Adaboost with Decision Tree',fontsize=20)\n",
        "\n",
        "plt.show()"
      ],
      "execution_count": 90,
      "outputs": [
        {
          "output_type": "display_data",
          "data": {
            "image/png": "[encoded data removed]",
            "text/plain": [
              "<Figure size 720x576 with 4 Axes>"
            ]
          },
          "metadata": {
            "tags": [],
            "needs_background": "light"
          }
        }
      ]
    },
    {
      "cell_type": "code",
      "metadata": {
        "id": "SNIvWMD9ohPi",
        "colab": {
          "base_uri": "https://localhost:8080/",
          "height": 565
        },
        "outputId": "93e804aa-b2fa-47ed-877f-3dc312cb9d24"
      },
      "source": [
        "fig,a =  plt.subplots(2,2,figsize=(10, 8))\n",
        "fig.tight_layout(pad=3)\n",
        "a[0][0].plot(['Top 15', 'Top 30', 'All'],[accXGB10*100,accXGB20*100,accXGBall*100])\n",
        "a[0][0].set_title('Accuracy')\n",
        "a[0][1].plot(['Top 15', 'Top 30', 'All'],[preXGB10*100,preXGB20*100,preXGBall*100])\n",
        "a[0][1].set_title('Precision')\n",
        "a[1][0].plot(['Top 15', 'Top 30', 'All'],[f1XGB10*100,f1XGB20*100,f1XGBall*100])\n",
        "a[1][0].set_title('F1-Score')\n",
        "a[1][1].plot(['Top 15', 'Top 30', 'All'],[reXGB10*100,reXGB20*100,reXGBall*100])\n",
        "a[1][1].set_title('Recall')\n",
        "#figure.tight_layout(pad=3.0)\n",
        "plt.suptitle('Stack: KNN,RF, XGBoost',fontsize=20)\n",
        "\n",
        "plt.show()"
      ],
      "execution_count": 91,
      "outputs": [
        {
          "output_type": "display_data",
          "data": {
            "image/png": "[encoded data removed]",
            "text/plain": [
              "<Figure size 720x576 with 4 Axes>"
            ]
          },
          "metadata": {
            "tags": [],
            "needs_background": "light"
          }
        }
      ]
    },
    {
      "cell_type": "code",
      "metadata": {
        "id": "1DDnw7iEptl2",
        "colab": {
          "base_uri": "https://localhost:8080/",
          "height": 753
        },
        "outputId": "8a7969f0-2d07-43de-a772-8df8991f5a1b"
      },
      "source": [
        "fig,a =  plt.subplots(2,2,figsize=(10, 8))\n",
        "fig.tight_layout(pad=3)\n",
        "a[0][0].plot(['Top 15', 'Top 30', 'All'],[acclogisticRegr_10*100,acclogisticRegr_20*100,acclogisticRegr_all*100])\n",
        "a[0][0].set_title('Accuracy')\n",
        "a[0][1].plot(['Top 15', 'Top 30', 'All'],[prelogisticRegr_10*100,prelogisticRegr_20*100,prelogisticRegr_all*100])\n",
        "a[0][1].set_title('Precision')\n",
        "a[1][0].plot(['Top 15', 'Top 30', 'All'],[f1logisticRegr_10*100,f1logisticRegr_20*100,f1logisticRegr_all*100])\n",
        "a[1][0].set_title('F1-Score')\n",
        "a[1][1].plot(['Top 15', 'Top 30', 'All'],[relogisticRegr_10*100,relogisticRegr_20*100,relogisticRegr_all*100])\n",
        "a[1][1].set_title('Recall')\n",
        "#figure.tight_layout(pad=3.0)\n",
        "plt.suptitle('Logistic Regression Classifier',fontsize=20)\n",
        "\n",
        "plt.show()"
      ],
      "execution_count": 92,
      "outputs": [
        {
          "output_type": "error",
          "ename": "NameError",
          "evalue": "ignored",
          "traceback": [
            "\u001b[0;31m---------------------------------------------------------------------------\u001b[0m",
            "\u001b[0;31mNameError\u001b[0m                                 Traceback (most recent call last)",
            "\u001b[0;32m<ipython-input-92-50c068bbe345>\u001b[0m in \u001b[0;36m<module>\u001b[0;34m()\u001b[0m\n\u001b[1;32m      1\u001b[0m \u001b[0mfig\u001b[0m\u001b[0;34m,\u001b[0m\u001b[0ma\u001b[0m \u001b[0;34m=\u001b[0m  \u001b[0mplt\u001b[0m\u001b[0;34m.\u001b[0m\u001b[0msubplots\u001b[0m\u001b[0;34m(\u001b[0m\u001b[0;36m2\u001b[0m\u001b[0;34m,\u001b[0m\u001b[0;36m2\u001b[0m\u001b[0;34m,\u001b[0m\u001b[0mfigsize\u001b[0m\u001b[0;34m=\u001b[0m\u001b[0;34m(\u001b[0m\u001b[0;36m10\u001b[0m\u001b[0;34m,\u001b[0m \u001b[0;36m8\u001b[0m\u001b[0;34m)\u001b[0m\u001b[0;34m)\u001b[0m\u001b[0;34m\u001b[0m\u001b[0;34m\u001b[0m\u001b[0m\n\u001b[1;32m      2\u001b[0m \u001b[0mfig\u001b[0m\u001b[0;34m.\u001b[0m\u001b[0mtight_layout\u001b[0m\u001b[0;34m(\u001b[0m\u001b[0mpad\u001b[0m\u001b[0;34m=\u001b[0m\u001b[0;36m3\u001b[0m\u001b[0;34m)\u001b[0m\u001b[0;34m\u001b[0m\u001b[0;34m\u001b[0m\u001b[0m\n\u001b[0;32m----> 3\u001b[0;31m \u001b[0ma\u001b[0m\u001b[0;34m[\u001b[0m\u001b[0;36m0\u001b[0m\u001b[0;34m]\u001b[0m\u001b[0;34m[\u001b[0m\u001b[0;36m0\u001b[0m\u001b[0;34m]\u001b[0m\u001b[0;34m.\u001b[0m\u001b[0mplot\u001b[0m\u001b[0;34m(\u001b[0m\u001b[0;34m[\u001b[0m\u001b[0;34m'Top 15'\u001b[0m\u001b[0;34m,\u001b[0m \u001b[0;34m'Top 30'\u001b[0m\u001b[0;34m,\u001b[0m \u001b[0;34m'All'\u001b[0m\u001b[0;34m]\u001b[0m\u001b[0;34m,\u001b[0m\u001b[0;34m[\u001b[0m\u001b[0macclogisticRegr_10\u001b[0m\u001b[0;34m*\u001b[0m\u001b[0;36m100\u001b[0m\u001b[0;34m,\u001b[0m\u001b[0macclogisticRegr_20\u001b[0m\u001b[0;34m*\u001b[0m\u001b[0;36m100\u001b[0m\u001b[0;34m,\u001b[0m\u001b[0macclogisticRegr_all\u001b[0m\u001b[0;34m*\u001b[0m\u001b[0;36m100\u001b[0m\u001b[0;34m]\u001b[0m\u001b[0;34m)\u001b[0m\u001b[0;34m\u001b[0m\u001b[0;34m\u001b[0m\u001b[0m\n\u001b[0m\u001b[1;32m      4\u001b[0m \u001b[0ma\u001b[0m\u001b[0;34m[\u001b[0m\u001b[0;36m0\u001b[0m\u001b[0;34m]\u001b[0m\u001b[0;34m[\u001b[0m\u001b[0;36m0\u001b[0m\u001b[0;34m]\u001b[0m\u001b[0;34m.\u001b[0m\u001b[0mset_title\u001b[0m\u001b[0;34m(\u001b[0m\u001b[0;34m'Accuracy'\u001b[0m\u001b[0;34m)\u001b[0m\u001b[0;34m\u001b[0m\u001b[0;34m\u001b[0m\u001b[0m\n\u001b[1;32m      5\u001b[0m \u001b[0ma\u001b[0m\u001b[0;34m[\u001b[0m\u001b[0;36m0\u001b[0m\u001b[0;34m]\u001b[0m\u001b[0;34m[\u001b[0m\u001b[0;36m1\u001b[0m\u001b[0;34m]\u001b[0m\u001b[0;34m.\u001b[0m\u001b[0mplot\u001b[0m\u001b[0;34m(\u001b[0m\u001b[0;34m[\u001b[0m\u001b[0;34m'Top 15'\u001b[0m\u001b[0;34m,\u001b[0m \u001b[0;34m'Top 30'\u001b[0m\u001b[0;34m,\u001b[0m \u001b[0;34m'All'\u001b[0m\u001b[0;34m]\u001b[0m\u001b[0;34m,\u001b[0m\u001b[0;34m[\u001b[0m\u001b[0mprelogisticRegr_10\u001b[0m\u001b[0;34m*\u001b[0m\u001b[0;36m100\u001b[0m\u001b[0;34m,\u001b[0m\u001b[0mprelogisticRegr_20\u001b[0m\u001b[0;34m*\u001b[0m\u001b[0;36m100\u001b[0m\u001b[0;34m,\u001b[0m\u001b[0mprelogisticRegr_all\u001b[0m\u001b[0;34m*\u001b[0m\u001b[0;36m100\u001b[0m\u001b[0;34m]\u001b[0m\u001b[0;34m)\u001b[0m\u001b[0;34m\u001b[0m\u001b[0;34m\u001b[0m\u001b[0m\n",
            "\u001b[0;31mNameError\u001b[0m: name 'acclogisticRegr_20' is not defined"
          ]
        },
        {
          "output_type": "display_data",
          "data": {
            "image/png": "[encoded data removed]",
            "text/plain": [
              "<Figure size 720x576 with 4 Axes>"
            ]
          },
          "metadata": {
            "tags": [],
            "needs_background": "light"
          }
        }
      ]
    },
    {
      "cell_type": "code",
      "metadata": {
        "id": "cxmaOSLjq68J",
        "colab": {
          "base_uri": "https://localhost:8080/",
          "height": 1000
        },
        "outputId": "435834a7-5ead-4f84-d380-598d9126f410"
      },
      "source": [
        "#Accuracy\n",
        "print(\"Accuracy\")\n",
        "fig = plt.figure()\n",
        "ax = fig.add_axes([0,0,2,1])\n",
        "algo = ['KNN', 'DT', 'Multinomial NB', 'Logistic Regr','Random Forest',\"Adaboost with DT\",\"Stack XGB\",\"Neural Network\"]\n",
        "acc = [accKNN10*100,accDT10*100,accbayes_10*100,acclogisticRegr_10*100,accclfRF_10*100,accabc10*100,accXGB10*100,accNN10*100]\n",
        "ax.bar(algo,acc)\n",
        "plt.title(\"Accuracy among Top 15 Features\")\n",
        "plt.show()\n",
        "#Precision\n",
        "print(\"Precision\")\n",
        "fig = plt.figure()\n",
        "ax = fig.add_axes([0,0,2,1])\n",
        "algo = ['KNN', 'DT', 'Multinomial NB', 'Logistic Regr','Random Forest',\"Adaboost with DT\",\"Stack XGB\",\"Neural Network\"]\n",
        "pre = [preKNN10*100,preDT10*100,prebayes_10*100,prelogisticRegr_10*100,preclfRF_10*100,preabc10*100,preXGB10*100,precision_NN10*100]\n",
        "ax.bar(algo,pre)\n",
        "plt.title(\"Precision among Top 15 Features\")\n",
        "plt.show()\n",
        "#F1 Score\n",
        "print(\"F1 Score\")\n",
        "fig = plt.figure()\n",
        "ax = fig.add_axes([0,0,2,1])\n",
        "algo = ['KNN', 'DT', 'Multinomial NB', 'Logistic Regr','Random Forest',\"Adaboost with DT\",\"Stack XGB\",\"Neural Network\"]\n",
        "f1 = [f1KNN10*100,f1DT10*100,f1bayes_10*100,prelogisticRegr_10*100,f1clfRF_10*100,f1abc10*100,f1XGB10*100,f1_score_NN10*100]\n",
        "ax.bar(algo,f1)\n",
        "plt.title(\"F1 Score among Top 15 Features\")\n",
        "plt.show()\n",
        "#Recall\n",
        "print(\"Recall\")\n",
        "fig = plt.figure()\n",
        "ax = fig.add_axes([0,0,2,1])\n",
        "algo = ['KNN', 'DT', 'Multinomial NB', 'Logistic Regr','Random Forest',\"Adaboost with DT\",\"Stack XGB\",\"Neural Network\"]\n",
        "re = [reKNN10*100,reDT10*100,rebayes_10*100,prelogisticRegr_10*100,reclfRF_10*100,reabc10*100,reXGB10*100,recall_NN10*100]\n",
        "ax.bar(algo,re)\n",
        "plt.title(\"Recall among Top 15 Features\")\n",
        "plt.show()"
      ],
      "execution_count": 93,
      "outputs": [
        {
          "output_type": "stream",
          "text": [
            "Accuracy\n"
          ],
          "name": "stdout"
        },
        {
          "output_type": "display_data",
          "data": {
            "image/png": "[encoded data removed]",
            "text/plain": [
              "<Figure size 432x288 with 1 Axes>"
            ]
          },
          "metadata": {
            "tags": [],
            "needs_background": "light"
          }
        },
        {
          "output_type": "stream",
          "text": [
            "Precision\n"
          ],
          "name": "stdout"
        },
        {
          "output_type": "display_data",
          "data": {
            "image/png": "[encoded data removed]",
            "text/plain": [
              "<Figure size 432x288 with 1 Axes>"
            ]
          },
          "metadata": {
            "tags": [],
            "needs_background": "light"
          }
        },
        {
          "output_type": "stream",
          "text": [
            "F1 Score\n"
          ],
          "name": "stdout"
        },
        {
          "output_type": "display_data",
          "data": {
            "image/png": "[encoded data removed]",
            "text/plain": [
              "<Figure size 432x288 with 1 Axes>"
            ]
          },
          "metadata": {
            "tags": [],
            "needs_background": "light"
          }
        },
        {
          "output_type": "stream",
          "text": [
            "Recall\n"
          ],
          "name": "stdout"
        },
        {
          "output_type": "display_data",
          "data": {
            "image/png": "[encoded data removed]",
            "text/plain": [
              "<Figure size 432x288 with 1 Axes>"
            ]
          },
          "metadata": {
            "tags": [],
            "needs_background": "light"
          }
        }
      ]
    },
    {
      "cell_type": "code",
      "metadata": {
        "id": "Gv1_V7BecNma"
      },
      "source": [
        "#Accuracy\n",
        "#print(\"Accuracy\")\n",
        "fig = plt.figure()\n",
        "ax = fig.add_axes([0,0,2,1])\n",
        "algo = ['KNN', 'DT', 'Multinomial NB', 'Logistic Regr','Random Forest',\"Adaboost with DT\",\"Stack XGB\",\"Neural Network\"]\n",
        "acc = [accKNN20*100,accDT20*100,accbayes_20*100,acclogisticRegr_20*100,accclfRF_20*100,accabc20*100,accXGB20*100,accNN20*100]\n",
        "ax.bar(algo,acc)\n",
        "plt.title(\"Accuracy among Top 30 Features\")\n",
        "plt.show()\n",
        "#Precision\n",
        "#print(\"Precision\")\n",
        "fig = plt.figure()\n",
        "ax = fig.add_axes([0,0,2,1])\n",
        "algo = ['KNN', 'DT', 'Multinomial NB', 'Logistic Regr','Random Forest',\"Adaboost with DT\",\"Stack XGB\",\"Neural Network\"]\n",
        "pre = [preKNN20*100,preDT20*100,prebayes_20*100,prelogisticRegr_20*100,preclfRF_20*100,preabc20*100,preXGB20*100,precision_NN20*100]\n",
        "ax.bar(algo,pre)\n",
        "plt.title(\"Precision among Top 30 Features\")\n",
        "plt.show()\n",
        "#F1 Score\n",
        "#print(\"F1 Score\")\n",
        "fig = plt.figure()\n",
        "ax = fig.add_axes([0,0,2,1])\n",
        "algo = ['KNN', 'DT', 'Multinomial NB', 'Logistic Regr','Random Forest',\"Adaboost with DT\",\"Stack XGB\",\"Neural Network\"]\n",
        "f1 = [f1KNN20*100,f1DT20*100,f1bayes_20*100,prelogisticRegr_20*100,f1clfRF_20*100,f1abc20*100,f1XGB20*100,f1_score_NN20*100]\n",
        "ax.bar(algo,f1)\n",
        "plt.title(\"F1 Score among Top 30 Features\")\n",
        "plt.show()\n",
        "#Recall\n",
        "#print(\"Recall\")\n",
        "fig = plt.figure()\n",
        "ax = fig.add_axes([0,0,2,1])\n",
        "algo = ['KNN', 'DT', 'Multinomial NB', 'Logistic Regr','Random Forest',\"Adaboost with DT\",\"Stack XGB\",\"Neural Network\"]\n",
        "re = [reKNN20*100,reDT20*100,rebayes_20*100,prelogisticRegr_20*100,reclfRF_20*100,reabc20*100,reXGB20*100,recall_NN20*100]\n",
        "ax.bar(algo,re)\n",
        "plt.title(\"Recall among Top 30 Features\")\n",
        "plt.show()"
      ],
      "execution_count": null,
      "outputs": []
    },
    {
      "cell_type": "code",
      "metadata": {
        "id": "rfGCF8fReZ2j"
      },
      "source": [
        "#Accuracy\n",
        "#print(\"Accuracy\")\n",
        "fig = plt.figure()\n",
        "ax = fig.add_axes([0,0,2,1])\n",
        "algo = ['KNN', 'DT', 'Multinomial NB', 'Logistic Regr','Random Forest',\"Adaboost with DT\",\"Stack XGB\",\"Neural Network\"]\n",
        "acc = [accKNNall*100,accDTall*100,accbayes_all*100,acclogisticRegr_all*100,accclfRF_all*100,accabcall*100,accXGBall*100,accNNall*100]\n",
        "ax.bar(algo,acc)\n",
        "plt.title(\"Accuracy among All Features\")\n",
        "plt.show()\n",
        "#Precision\n",
        "#print(\"Precision\")\n",
        "fig = plt.figure()\n",
        "ax = fig.add_axes([0,0,2,1])\n",
        "algo = ['KNN', 'DT', 'Multinomial NB', 'Logistic Regr','Random Forest',\"Adaboost with DT\",\"Stack XGB\",\"Neural Network\"]\n",
        "pre = [preKNNall*100,preDTall*100,prebayes_all*100,prelogisticRegr_all*100,preclfRF_all*100,preabcall*100,preXGBall*100,precision_NNall*100]\n",
        "ax.bar(algo,pre)\n",
        "plt.title(\"Precision among All Features\")\n",
        "plt.show()\n",
        "#F1 Score\n",
        "#print(\"F1 Score\")\n",
        "fig = plt.figure()\n",
        "ax = fig.add_axes([0,0,2,1])\n",
        "algo = ['KNN', 'DT', 'Multinomial NB', 'Logistic Regr','Random Forest',\"Adaboost with DT\",\"Stack XGB\",\"Neural Network\"]\n",
        "f1 = [f1KNNall*100,f1DTall*100,f1bayes_all*100,prelogisticRegr_all*100,f1clfRF_all*100,f1abcall*100,f1XGBall*100,f1_score_NNall*100]\n",
        "ax.bar(algo,f1)\n",
        "plt.title(\"F1 Score among All Features\")\n",
        "plt.show()\n",
        "#Recall\n",
        "#print(\"Recall\")\n",
        "fig = plt.figure()\n",
        "ax = fig.add_axes([0,0,2,1])\n",
        "algo = ['KNN', 'DT', 'Multinomial NB', 'Logistic Regr','Random Forest',\"Adaboost with DT\",\"Stack XGB\",\"Neural Network\"]\n",
        "re = [reKNNall*100,reDTall*100,rebayes_all*100,prelogisticRegr_all*100,reclfRF_all*100,reabcall*100,reXGBall*100,recall_NNall*100]\n",
        "ax.bar(algo,re)\n",
        "plt.title(\"Recall among All Features\")\n",
        "plt.show()"
      ],
      "execution_count": null,
      "outputs": []
    },
    {
      "cell_type": "code",
      "metadata": {
        "id": "LVqmlt1FhGyx",
        "colab": {
          "base_uri": "https://localhost:8080/",
          "height": 571
        },
        "outputId": "8d4b7565-1c23-4f9f-a47d-fabb1a914f1f"
      },
      "source": [
        "#Graphing our training and validation\n",
        "acc_NN_10 = historyNN10.history['accuracy']\n",
        "pre_NN10 = historyNN10.history['precision_m']\n",
        "loss_NN_10 = historyNN10.history['loss']\n",
        "#val_loss = historyNN10.history['val_loss']\n",
        "epochs_NN_10 = range(len(acc_NN_10))\n",
        "plt.plot(epochs_NN_10, acc_NN_10, 'r', label='Training acc')\n",
        "plt.plot(epochs_NN_10, pre_NN10, 'b', label='Precision')\n",
        "plt.title('Accuracy and Precision')\n",
        "plt.ylabel('accuracy') \n",
        "plt.xlabel('epoch')\n",
        "plt.legend()\n",
        "plt.figure()\n",
        "plt.plot(epochs_NN_10, loss_NN_10, 'r', label='Training loss')\n",
        "#plt.plot(epochs, val_loss, 'b', label='Validation loss')\n",
        "plt.title('Training and validation loss')\n",
        "plt.ylabel('loss') \n",
        "plt.xlabel('epoch')\n",
        "plt.legend()\n",
        "plt.show()"
      ],
      "execution_count": 104,
      "outputs": [
        {
          "output_type": "display_data",
          "data": {
            "image/png": "[encoded data removed]",
            "text/plain": [
              "<Figure size 432x288 with 1 Axes>"
            ]
          },
          "metadata": {
            "tags": [],
            "needs_background": "light"
          }
        },
        {
          "output_type": "display_data",
          "data": {
            "image/png": "[encoded data removed]",
            "text/plain": [
              "<Figure size 432x288 with 1 Axes>"
            ]
          },
          "metadata": {
            "tags": [],
            "needs_background": "light"
          }
        }
      ]
    },
    {
      "cell_type": "code",
      "metadata": {
        "id": "HQa616qfXOOU",
        "colab": {
          "base_uri": "https://localhost:8080/"
        },
        "outputId": "fecf5043-1dc4-411a-80c0-a7a6d6a64cfe"
      },
      "source": [
        "print(historyNN10.history['precision_m'])"
      ],
      "execution_count": 105,
      "outputs": [
        {
          "output_type": "stream",
          "text": [
            "[0.8477693796157837, 0.8656579852104187, 0.869186282157898, 0.873357892036438, 0.8749716281890869, 0.8772954940795898, 0.8805616497993469, 0.8791680335998535, 0.8790189027786255, 0.8738687634468079, 0.8698446750640869, 0.8660010695457458, 0.8614155054092407, 0.8594884872436523, 0.8564972281455994, 0.8565306067466736, 0.8578956723213196, 0.8567858934402466, 0.8567011952400208, 0.8568633198738098, 0.8576096296310425, 0.8563327789306641, 0.8594986796379089, 0.8572729229927063, 0.8585804104804993, 0.8566304445266724, 0.8592347502708435, 0.8571240305900574, 0.8573586940765381, 0.8584063649177551, 0.8583577871322632, 0.8562154769897461, 0.8579775094985962, 0.8597691655158997, 0.8592684864997864, 0.859406054019928, 0.859917402267456, 0.8589200973510742, 0.8585304021835327, 0.8617926239967346, 0.8623030781745911, 0.8605366945266724, 0.862213671207428, 0.859809160232544, 0.8618291616439819, 0.8610557913780212, 0.8626043200492859, 0.8616312742233276, 0.8601713180541992, 0.8639248609542847, 0.8606018424034119, 0.8628884553909302, 0.8622300028800964, 0.8621995449066162, 0.8628625869750977, 0.8636929392814636, 0.8632786273956299, 0.8645663857460022, 0.8633978962898254, 0.8631567358970642, 0.8641570210456848, 0.864703357219696, 0.8633280992507935, 0.8634193539619446, 0.8631410002708435, 0.8618404865264893, 0.8661297559738159, 0.8640351891517639, 0.8625234365463257, 0.8631011247634888, 0.8621335029602051, 0.8640726208686829, 0.8637640476226807, 0.8634839057922363, 0.8630207180976868, 0.8648549914360046, 0.8647934198379517, 0.8647216558456421, 0.8646253943443298, 0.8634747862815857, 0.8643429279327393, 0.8654634356498718, 0.8656443953514099, 0.8649287223815918, 0.8643327951431274, 0.8658799529075623, 0.8644653558731079, 0.8655603528022766, 0.8648853302001953, 0.8643261790275574, 0.8642678260803223, 0.8653218746185303, 0.8632347583770752, 0.8654847741127014, 0.8657425045967102, 0.8674113154411316, 0.8642767667770386, 0.8659753799438477, 0.8652823567390442, 0.86524897813797]\n"
          ],
          "name": "stdout"
        }
      ]
    },
    {
      "cell_type": "code",
      "metadata": {
        "id": "Jgu1IH46yxkH",
        "colab": {
          "base_uri": "https://localhost:8080/",
          "height": 571
        },
        "outputId": "7199c86e-2821-41ad-aa2d-2362d7d7b404"
      },
      "source": [
        "#Graphing our training and validation\n",
        "acc_NN_20 = historyNN20.history['accuracy']\n",
        "pre_NN20 = historyNN20.history['precision_m']\n",
        "loss_NN_20 = historyNN20.history['loss']\n",
        "#val_loss = historyNN10.history['val_loss']\n",
        "epochs_NN_20 = range(len(acc_NN_20))\n",
        "plt.plot(epochs_NN_20, acc_NN_20, 'r', label='Training acc')\n",
        "plt.plot(epochs_NN_20, pre_NN20, 'b', label='Precision')\n",
        "plt.title('Accuracy and Precision')\n",
        "plt.ylabel('accuracy') \n",
        "plt.xlabel('epoch')\n",
        "plt.legend()\n",
        "plt.figure()\n",
        "plt.plot(epochs_NN_20, loss_NN_20, 'r', label='Training loss')\n",
        "#plt.plot(epochs, val_loss, 'b', label='Validation loss')\n",
        "plt.title('Training and validation loss')\n",
        "plt.ylabel('loss') \n",
        "plt.xlabel('epoch')\n",
        "plt.legend()\n",
        "plt.show()"
      ],
      "execution_count": 106,
      "outputs": [
        {
          "output_type": "display_data",
          "data": {
            "image/png": "[encoded data removed]",
            "text/plain": [
              "<Figure size 432x288 with 1 Axes>"
            ]
          },
          "metadata": {
            "tags": [],
            "needs_background": "light"
          }
        },
        {
          "output_type": "display_data",
          "data": {
            "image/png": "[encoded data removed]",
            "text/plain": [
              "<Figure size 432x288 with 1 Axes>"
            ]
          },
          "metadata": {
            "tags": [],
            "needs_background": "light"
          }
        }
      ]
    },
    {
      "cell_type": "code",
      "metadata": {
        "id": "aiZKAqstWFIN",
        "colab": {
          "base_uri": "https://localhost:8080/",
          "height": 571
        },
        "outputId": "90858a34-e746-4a69-99d3-ac9b0ae82d8a"
      },
      "source": [
        "#Graphing our training and validation\n",
        "acc_NN_all = historyNNall.history['accuracy']\n",
        "pre_NNall = historyNNall.history['precision_m']\n",
        "loss_NN_all = historyNNall.history['loss']\n",
        "#val_loss = historyNN10.history['val_loss']\n",
        "epochs_NN_all = range(len(acc_NN_all))\n",
        "plt.plot(epochs_NN_all, acc_NN_all, 'r', label='Training acc')\n",
        "plt.plot(epochs_NN_all, pre_NNall, 'b', label='Precision')\n",
        "plt.title('Accuracy and Precision')\n",
        "plt.ylabel('accuracy') \n",
        "plt.xlabel('epoch')\n",
        "plt.legend()\n",
        "plt.figure()\n",
        "plt.plot(epochs_NN_all, loss_NN_all, 'r', label='Training loss')\n",
        "#plt.plot(epochs, val_loss, 'b', label='Validation loss')\n",
        "plt.title('Training and validation loss')\n",
        "plt.ylabel('loss') \n",
        "plt.xlabel('epoch')\n",
        "plt.legend()\n",
        "plt.show()"
      ],
      "execution_count": 107,
      "outputs": [
        {
          "output_type": "display_data",
          "data": {
            "image/png": "[encoded data removed]",
            "text/plain": [
              "<Figure size 432x288 with 1 Axes>"
            ]
          },
          "metadata": {
            "tags": [],
            "needs_background": "light"
          }
        },
        {
          "output_type": "display_data",
          "data": {
            "image/png": "[encoded data removed]",
            "text/plain": [
              "<Figure size 432x288 with 1 Axes>"
            ]
          },
          "metadata": {
            "tags": [],
            "needs_background": "light"
          }
        }
      ]
    },
    {
      "cell_type": "code",
      "metadata": {
        "id": "WDIuxVOdtpsP",
        "colab": {
          "base_uri": "https://localhost:8080/",
          "height": 17
        },
        "outputId": "b6d4f2d5-ad68-4ab3-f629-b709356bb526"
      },
      "source": [
        "import cufflinks as cf\n",
        "cf.go_offline()\n",
        "import plotly.graph_objs as go\n",
        "import plotly.offline as pyo"
      ],
      "execution_count": 108,
      "outputs": [
        {
          "output_type": "display_data",
          "data": {
            "text/html": [
              "        <script type=\"text/javascript\">\n",
              "        window.PlotlyConfig = {MathJaxConfig: 'local'};\n",
              "        if (window.MathJax) {MathJax.Hub.Config({SVG: {font: \"STIX-Web\"}});}\n",
              "        if (typeof require !== 'undefined') {\n",
              "        require.undef(\"plotly\");\n",
              "        requirejs.config({\n",
              "            paths: {\n",
              "                'plotly': ['https://cdn.plot.ly/plotly-latest.min']\n",
              "            }\n",
              "        });\n",
              "        require(['plotly'], function(Plotly) {\n",
              "            window._Plotly = Plotly;\n",
              "        });\n",
              "        }\n",
              "        </script>\n",
              "        "
            ]
          },
          "metadata": {
            "tags": []
          }
        }
      ]
    },
    {
      "cell_type": "code",
      "metadata": {
        "id": "Ms_k00xEtsFU",
        "colab": {
          "base_uri": "https://localhost:8080/",
          "height": 35
        },
        "outputId": "dcf3f1dc-5768-43ea-d62d-d2ef7e9d7e3a"
      },
      "source": [
        "algo = ['KNN', 'DT', 'Multinomial NB', 'Logistic Regr','Random Forest',\"Adaboost with DT\",\"Stack XGB\",\"Neural Network\"]\n",
        "acc = [accKNN10*100,accDT10*100,accbayes_10*100,acclogisticRegr_10*100,accclfRF_10*100,accabc10*100,accXGB10*100,accNN10*100]\n",
        "fig = go.Figure([go.Scatter(x=algo, y=acc)])\n",
        "pyo.plot(fig)"
      ],
      "execution_count": 96,
      "outputs": [
        {
          "output_type": "execute_result",
          "data": {
            "application/vnd.google.colaboratory.intrinsic+json": {
              "type": "string"
            },
            "text/plain": [
              "'temp-plot.html'"
            ]
          },
          "metadata": {
            "tags": []
          },
          "execution_count": 96
        }
      ]
    },
    {
      "cell_type": "code",
      "metadata": {
        "colab": {
          "base_uri": "https://localhost:8080/",
          "height": 35
        },
        "id": "9xoZic0Vu6H_",
        "outputId": "3f953c85-71f1-43b7-afc4-a40d3f5f6b24"
      },
      "source": [
        "import plotly.express as px\n",
        "fig = px.bar(x=algo, y=acc, barmode='overlay')\n",
        "pyo.plot(fig)"
      ],
      "execution_count": 121,
      "outputs": [
        {
          "output_type": "execute_result",
          "data": {
            "application/vnd.google.colaboratory.intrinsic+json": {
              "type": "string"
            },
            "text/plain": [
              "'temp-plot.html'"
            ]
          },
          "metadata": {
            "tags": []
          },
          "execution_count": 121
        }
      ]
    },
    {
      "cell_type": "code",
      "metadata": {
        "id": "c5IrN-pywrqi"
      },
      "source": [
        ""
      ],
      "execution_count": 118,
      "outputs": []
    },
    {
      "cell_type": "code",
      "metadata": {
        "id": "lxqpSVXhxPns"
      },
      "source": [
        ""
      ],
      "execution_count": 118,
      "outputs": []
    },
    {
      "cell_type": "code",
      "metadata": {
        "id": "hLR7Ee224WNX"
      },
      "source": [
        ""
      ],
      "execution_count": null,
      "outputs": []
    }
  ]
}