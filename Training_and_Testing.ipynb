{
  "nbformat": 4,
  "nbformat_minor": 0,
  "metadata": {
    "accelerator": "TPU",
    "colab": {
      "name": "Training and Testing.ipynb",
      "provenance": [],
      "collapsed_sections": [],
      "include_colab_link": true
    },
    "kernelspec": {
      "display_name": "Python 3",
      "name": "python3"
    },
    "language_info": {
      "name": "python"
    }
  },
  "cells": [
    {
      "cell_type": "markdown",
      "metadata": {
        "id": "view-in-github",
        "colab_type": "text"
      },
      "source": [
        "<a href=\"https://colab.research.google.com/github/ishaak15/UNSW-IDS-Feature-Selection/blob/main/Training_and_Testing.ipynb\" target=\"_parent\"><img src=\"https://colab.research.google.com/assets/colab-badge.svg\" alt=\"Open In Colab\"/></a>"
      ]
    },
    {
      "cell_type": "code",
      "metadata": {
        "id": "RupDMUtc2mgK",
        "colab": {
          "base_uri": "https://localhost:8080/"
        },
        "outputId": "0eff893a-cc54-4941-de85-169bb04d8e03"
      },
      "source": [
        "import numpy as np \n",
        "import matplotlib\n",
        "import matplotlib.pyplot as plt\n",
        "import os\n",
        "import math\n",
        "import pandas as pd\n",
        "from sklearn.decomposition import PCA\n",
        "from sklearn.model_selection import cross_validate\n",
        "from sklearn import datasets, preprocessing, feature_extraction, neighbors\n",
        "from sklearn import linear_model, svm, metrics, ensemble, tree, ensemble\n",
        "from sklearn.model_selection import train_test_split\n",
        "from copy import copy\n",
        "import urllib\n",
        "import csv\n",
        "\n",
        "import seaborn as sns\n",
        "from sklearn.preprocessing import LabelEncoder\n",
        "import matplotlib.pyplot as plt\n",
        "import plotly.graph_objs as go\n",
        "\n",
        "from sklearn.tree import DecisionTreeClassifier # Import Decision Tree Classifier\n",
        "from sklearn.model_selection import train_test_split # Import train_test_split function\n",
        "from sklearn import metrics #Import scikit-learn metrics module for accuracy calculation\n",
        "\n",
        "from sklearn.metrics import confusion_matrix \n",
        "from sklearn.metrics import accuracy_score \n",
        "from sklearn.metrics import classification_report \n",
        "\n",
        "\n",
        "from sklearn.naive_bayes import GaussianNB\n",
        "from yellowbrick.classifier import ClassificationReport\n",
        "\n",
        "from sklearn.ensemble import RandomForestClassifier\n",
        "from sklearn.linear_model import LogisticRegression\n",
        "from sklearn.model_selection import train_test_split \n",
        "from sklearn.naive_bayes import GaussianNB \n",
        "from sklearn.linear_model import LogisticRegression\n",
        "from sklearn.svm import SVC # \"Support Vector Classifier\" \n",
        "from sklearn.ensemble import AdaBoostClassifier\n",
        "from sklearn.ensemble import ExtraTreesClassifier\n",
        "\n",
        "from sklearn.feature_selection import SelectKBest\n",
        "from sklearn.feature_selection import chi2\n",
        "\n",
        "from zipfile import ZipFile\n",
        "import collections\n",
        "\n",
        "from sklearn.feature_selection import RFE\n",
        "from sklearn.linear_model import LogisticRegression\n",
        "\n",
        "from sklearn.metrics import confusion_matrix \n",
        "from sklearn.metrics import accuracy_score \n",
        "from sklearn.metrics import classification_report \n",
        "from sklearn.metrics import classification_report\n",
        "from sklearn.metrics import precision_recall_fscore_support\n",
        "from sklearn.metrics import recall_score\n",
        "from sklearn.metrics import precision_score\n",
        "from sklearn.metrics import f1_score\n"
      ],
      "execution_count": 1,
      "outputs": [
        {
          "output_type": "stream",
          "text": [
            "/usr/local/lib/python3.7/dist-packages/sklearn/utils/deprecation.py:144: FutureWarning:\n",
            "\n",
            "The sklearn.metrics.classification module is  deprecated in version 0.22 and will be removed in version 0.24. The corresponding classes / functions should instead be imported from sklearn.metrics. Anything that cannot be imported from sklearn.metrics is now part of the private API.\n",
            "\n"
          ],
          "name": "stderr"
        }
      ]
    },
    {
      "cell_type": "code",
      "metadata": {
        "colab": {
          "base_uri": "https://localhost:8080/"
        },
        "id": "FUKlYohz7Ge3",
        "outputId": "9e4de7e0-5a23-4bd2-d4cc-786b387b3d62"
      },
      "source": [
        "!git clone https://github.com/ishaak15/UNSW-IDS-Feature-Selection.git"
      ],
      "execution_count": 2,
      "outputs": [
        {
          "output_type": "stream",
          "text": [
            "Cloning into 'UNSW-IDS-Feature-Selection'...\n",
            "remote: Enumerating objects: 76, done.\u001b[K\n",
            "remote: Counting objects: 100% (39/39), done.\u001b[K\n",
            "remote: Compressing objects: 100% (39/39), done.\u001b[K\n",
            "remote: Total 76 (delta 17), reused 0 (delta 0), pack-reused 37\u001b[K\n",
            "Unpacking objects: 100% (76/76), done.\n",
            "Checking out files: 100% (22/22), done.\n"
          ],
          "name": "stdout"
        }
      ]
    },
    {
      "cell_type": "code",
      "metadata": {
        "colab": {
          "base_uri": "https://localhost:8080/"
        },
        "id": "zVKdVCIQIVl8",
        "outputId": "e5dd1859-fe99-4a7d-b8fe-97efb888af01"
      },
      "source": [
        "cd UNSW-IDS-Feature-Selection/"
      ],
      "execution_count": 3,
      "outputs": [
        {
          "output_type": "stream",
          "text": [
            "/content/UNSW-IDS-Feature-Selection\n"
          ],
          "name": "stdout"
        }
      ]
    },
    {
      "cell_type": "code",
      "metadata": {
        "colab": {
          "base_uri": "https://localhost:8080/"
        },
        "id": "6CrTS2MAIetl",
        "outputId": "7fc39f0d-58fc-4a45-ec0e-478ffdfe4046"
      },
      "source": [
        "ls"
      ],
      "execution_count": 4,
      "outputs": [
        {
          "output_type": "stream",
          "text": [
            "bayes_10.sav   clfKNN_all.sav                      Testset1.csv\n",
            "bayes_20.sav   Copy_of_Training_and_Testing.ipynb  Testset2.csv\n",
            "bayes_all.sav  Dataset1.csv                        Testset3.csv\n",
            "clfDT_10.sav   Dataset2.csv                        Training_and_Testing.ipynb\n",
            "clfDT_20.sav   Dataset3.csv                        UNSW_IDS_analysis.ipynb\n",
            "clfDT_all.sav  LICENSE                             UNSW_NB15_testing-set.csv\n",
            "clfKNN10.sav   Models_Training_and_Testing.ipynb\n",
            "clfKNN20.sav   README.md\n"
          ],
          "name": "stdout"
        }
      ]
    },
    {
      "cell_type": "code",
      "metadata": {
        "id": "PR7ddO_b-TYh"
      },
      "source": [
        "df1 = pd.read_csv('Dataset1.csv',index_col=0)\n",
        "df2 = pd.read_csv('Dataset2.csv',index_col=0)\n",
        "df3 = pd.read_csv('Dataset3.csv',index_col=0)"
      ],
      "execution_count": 5,
      "outputs": []
    },
    {
      "cell_type": "code",
      "metadata": {
        "id": "sK7zk_s0-2Go"
      },
      "source": [
        "tf1 = pd.read_csv('Testset1.csv',index_col=0)\n",
        "tf2 = pd.read_csv('Testset2.csv',index_col=0)\n",
        "tf3 = pd.read_csv('Testset3.csv',index_col=0)"
      ],
      "execution_count": 6,
      "outputs": []
    },
    {
      "cell_type": "code",
      "metadata": {
        "id": "DVJCwCx5DkD6"
      },
      "source": [
        "df1_xtrain=df1.iloc[: , :-1]\n",
        "df1_ytrain=df1.iloc[:,-1]\n",
        "df2_xtrain=df2.iloc[: , :-1]\n",
        "df2_ytrain=df2.iloc[:,-1]\n",
        "df3_xtrain=df3.iloc[: , :-1]\n",
        "df3_ytrain=df3.iloc[:,-1]"
      ],
      "execution_count": 7,
      "outputs": []
    },
    {
      "cell_type": "code",
      "metadata": {
        "id": "N2Q5ICJvIsgs"
      },
      "source": [
        "df1_xtest=tf1.iloc[: , :-1]\n",
        "df1_ytest=tf1.iloc[:,-1]\n",
        "df2_xtest=tf2.iloc[: , :-1]\n",
        "df2_ytest=tf2.iloc[:,-1]\n",
        "df3_xtest=tf3.iloc[: , :-1]\n",
        "df3_ytest=tf3.iloc[:,-1]"
      ],
      "execution_count": 8,
      "outputs": []
    },
    {
      "cell_type": "code",
      "metadata": {
        "id": "w-ZMD59m4V2o"
      },
      "source": [
        "#KNN"
      ],
      "execution_count": 9,
      "outputs": []
    },
    {
      "cell_type": "code",
      "metadata": {
        "colab": {
          "base_uri": "https://localhost:8080/"
        },
        "id": "9eg-WFEcsYCS",
        "outputId": "e14f4d86-8f2e-44ac-c4fa-b699386ec697"
      },
      "source": [
        "clfKNN10=neighbors.KNeighborsClassifier()\n",
        "clfKNN10.fit(df1_xtrain,df1_ytrain)\n",
        "#clfKNN10.fit(df1_xtrain,df1_ytrain)\n",
        "\n",
        "print (\"\\t\\tKNN Classification of UNSW-NB15\\n\\n\\t\\tTop 15 Features \")\n",
        "\n",
        "yt_pred_10 = clfKNN10.predict(df1_xtest)\n",
        "results = confusion_matrix(df1_ytest, yt_pred_10) \n",
        "print ('Confusion Matrix :')\n",
        "print(results) \n",
        "\n",
        "\n",
        "accKNN10=accuracy_score(df1_ytest,yt_pred_10)\n",
        "print(\"Accuracy: \",accKNN10)\n",
        "preKNN10=precision_score(df1_ytest, yt_pred_10, average='macro')\n",
        "print(\"Precision Score: \",preKNN10)\n",
        "f1KNN10=f1_score(df1_ytest, yt_pred_10, average='macro')\n",
        "print(\"F1 Score: \",f1KNN10)\n",
        "reKNN10=recall_score(df1_ytest, yt_pred_10, average='macro')  \n",
        "print(\"Recall: \",reKNN10)\n"
      ],
      "execution_count": 10,
      "outputs": [
        {
          "output_type": "stream",
          "text": [
            "\t\tKNN Classification of UNSW-NB15\n",
            "\n",
            "\t\tTop 15 Features \n",
            "Confusion Matrix :\n",
            "[[  208   131    42    58   129    16    32    61     0     0]\n",
            " [  198   121    13    49   134    18    16    33     1     0]\n",
            " [  822   758   472   913   502    21   202   372    27     0]\n",
            " [  955   835   503  6664   944    39   616   540    33     3]\n",
            " [  444   315    97   469  3357    54  1111   164    50     1]\n",
            " [   17    11    34   375   168 18078   140    44     4     0]\n",
            " [  496    52   218  1986  7076    20 26822   233    93     4]\n",
            " [   82   102    51   324   117     5    71  2737     5     2]\n",
            " [    5     7    12    50   161     6    51    32    54     0]\n",
            " [    0     1     2    26    11     0     3     0     0     1]]\n",
            "Accuracy:  0.7107078657144246\n",
            "Precision Score:  0.41756373950870634\n",
            "F1 Score:  0.4023931552335053\n",
            "Recall:  0.44140047486900985\n"
          ],
          "name": "stdout"
        }
      ]
    },
    {
      "cell_type": "code",
      "metadata": {
        "id": "gxUUKcyegAMb"
      },
      "source": [
        ""
      ],
      "execution_count": 10,
      "outputs": []
    },
    {
      "cell_type": "code",
      "metadata": {
        "colab": {
          "base_uri": "https://localhost:8080/"
        },
        "id": "kBj8htUIsYM0",
        "outputId": "735b5aac-05c8-4b8f-bf45-9d96c61b189b"
      },
      "source": [
        "clfKNN20=neighbors.KNeighborsClassifier()\n",
        "clfKNN20.fit(df2_xtrain,df2_ytrain)\n",
        "\n",
        "print (\"\\t\\tKNN Analysis of UNSW-NB15\\n\\n\\t\\tTop 30 Features \")\n",
        "\n",
        "y_pred_20 = clfKNN20.predict(df2_xtest)\n",
        "results = confusion_matrix(df2_ytest, y_pred_20) \n",
        "print ('Confusion Matrix :')\n",
        "print(results) \n",
        "\n",
        "\n",
        "accKNN20=accuracy_score(df2_ytest,y_pred_20)\n",
        "print(\"Accuracy: \",accKNN20)\n",
        "preKNN20=precision_score(df2_ytest, y_pred_20, average='macro')\n",
        "print(\"Precision Score: \",preKNN20)\n",
        "f1KNN20=f1_score(df2_ytest, y_pred_20, average='macro')\n",
        "print(\"F1 Score: \",f1KNN20)\n",
        "reKNN20=recall_score(df2_ytest, y_pred_20, average='macro')  \n",
        "print(\"Recall: \",reKNN20)\n"
      ],
      "execution_count": 11,
      "outputs": [
        {
          "output_type": "stream",
          "text": [
            "\t\tKNN Analysis of UNSW-NB15\n",
            "\n",
            "\t\tTop 30 Features \n",
            "Confusion Matrix :\n",
            "[[  267   167    15    69   117    16    17     9     0     0]\n",
            " [  251   109     6    65   118    18    11     5     0     0]\n",
            " [ 1150  1136   184   646   494    22   307   129    21     0]\n",
            " [ 1321  1139   396  4316  1854    39  1749   290    28     0]\n",
            " [  599   332   140  2053  1702    56  1023   122    35     0]\n",
            " [   30    22    26   304   220 18083   132    51     3     0]\n",
            " [  132    71   537  7955  4981    21 22760   473    69     1]\n",
            " [  126   152    91   985   400     7   405  1325     5     0]\n",
            " [    7     6    13   109   126     5    52    17    43     0]\n",
            " [    0     0     1    22     8     0    13     0     0     0]]\n",
            "Accuracy:  0.5925885439440315\n",
            "Precision Score:  0.3273066113090913\n",
            "F1 Score:  0.3053129978339978\n",
            "Recall:  0.336096541715301\n"
          ],
          "name": "stdout"
        }
      ]
    },
    {
      "cell_type": "code",
      "metadata": {
        "colab": {
          "base_uri": "https://localhost:8080/"
        },
        "id": "amTNhuAbsYSP",
        "outputId": "d80e920c-5c71-471e-fd99-6f5fa9e9304b"
      },
      "source": [
        "clfKNN20=neighbors.KNeighborsClassifier()\n",
        "clfKNN20.fit(df3_xtrain,df3_ytrain)\n",
        "\n",
        "print (\"\\t\\tKNN Analysis of UNSW-NB15\\n\\n\\t\\tAll Features \")\n",
        "\n",
        "y_pred_all = clfKNN20.predict(df3_xtest)\n",
        "results = confusion_matrix(df3_ytest, y_pred_all) \n",
        "print ('Confusion Matrix :')\n",
        "print(results) \n",
        "\n",
        "\n",
        "accKNNall=accuracy_score(df3_ytest, y_pred_all)\n",
        "print(\"Accuracy: \",accKNNall)\n",
        "preKNNall=precision_score(df3_ytest, y_pred_all, average='macro')\n",
        "print(\"Precision Score: \",preKNNall)\n",
        "f1KNNall=f1_score(df3_ytest, y_pred_all, average='macro')\n",
        "print(\"F1 Score: \",f1KNNall)\n",
        "reKNNall=recall_score(df3_ytest, y_pred_all, average='macro')  \n",
        "print(\"Recall: \",reKNNall)\n"
      ],
      "execution_count": 12,
      "outputs": [
        {
          "output_type": "stream",
          "text": [
            "\t\tKNN Analysis of UNSW-NB15\n",
            "\n",
            "\t\tAll Features \n",
            "Confusion Matrix :\n",
            "[[  336   161     1    44   101    16    17     1     0     0]\n",
            " [  304    98     1    44   105    18    11     2     0     0]\n",
            " [ 1491  1070   101   581   437    22   305    61    21     0]\n",
            " [ 1671  1073   319  4245  1794    39  1743   220    28     0]\n",
            " [  726   307   123  2007  1672    56  1024   112    35     0]\n",
            " [   37    21    26   301   219 18083   130    51     3     0]\n",
            " [  115    55   537  7955  5009    21 22765   473    69     1]\n",
            " [  164   146    81   981   392     7   405  1315     5     0]\n",
            " [    6     3    13   109   132     5    50    16    44     0]\n",
            " [    0     0     1    22     8     0    13     0     0     0]]\n",
            "Accuracy:  0.5910095710051985\n",
            "Precision Score:  0.3265665197965294\n",
            "F1 Score:  0.3034833731074776\n",
            "Recall:  0.34123127222810123\n"
          ],
          "name": "stdout"
        }
      ]
    },
    {
      "cell_type": "code",
      "metadata": {
        "id": "RKy3aGMusYXi"
      },
      "source": [
        "#Decision TREE"
      ],
      "execution_count": 13,
      "outputs": []
    },
    {
      "cell_type": "code",
      "metadata": {
        "colab": {
          "base_uri": "https://localhost:8080/"
        },
        "id": "8A2BPc0ksky-",
        "outputId": "b8bad341-2413-42fd-e939-89f6d88aaa03"
      },
      "source": [
        "clfDT_10 = DecisionTreeClassifier()\n",
        "print (\"\\t\\tDecision Tree Analysis of UNSW-NB15\\n\\n\\t\\tTop 15 Features \")\n",
        "\n",
        "# Train Decision Tree Classifer\n",
        "clfDT_10 = clfDT_10.fit(df1_xtrain,df1_ytrain)\n",
        "\n",
        "#Predict the response for test dataset\n",
        "y_pred_DT10 = clfDT_10.predict(df1_xtest)\n",
        "\n",
        "\n",
        "#print (\"\\t\\tMajor Verifcation\")\n",
        "results_DT10 = confusion_matrix(df1_ytest, y_pred_DT10) \n",
        "print ('Confusion Matrix :')\n",
        "print(results_DT10) \n",
        "\n",
        "\n",
        "accDT10=accuracy_score(df1_ytest, y_pred_DT10)\n",
        "preDT10=precision_score(df1_ytest, y_pred_DT10, average='macro')\n",
        "f1DT10=f1_score(df1_ytest, y_pred_DT10, average='macro')\n",
        "reDT10=recall_score(df1_ytest, y_pred_DT10, average='macro')\n",
        "\n",
        "print ('Accuracy Score :',accDT10 )\n",
        "print(\"Precision Score: \",preDT10)\n",
        "print(\"F1 Score: \",f1DT10)\n",
        "print(\"Recall: \",reDT10)\n",
        "\n"
      ],
      "execution_count": 14,
      "outputs": [
        {
          "output_type": "stream",
          "text": [
            "\t\tDecision Tree Analysis of UNSW-NB15\n",
            "\n",
            "\t\tTop 15 Features \n",
            "Confusion Matrix :\n",
            "[[  378    82     0     5   185     0    26     1     0     0]\n",
            " [  316    57     3     8   186     1     7     0     5     0]\n",
            " [ 1481  1023   532   518   375    34    64    25    36     1]\n",
            " [ 1696   935   609  6535   632   104   256   236   116    13]\n",
            " [  719   139   176   511  2872    42  1334     1   265     3]\n",
            " [   18    27    70   224    48 18435    20     6    17     6]\n",
            " [  603    11   733  1092  7318   191 26877    24   150     1]\n",
            " [  158   147    39   269    47     5    35  2760    36     0]\n",
            " [    1     5    13    51    28     4    13     3   260     0]\n",
            " [    0     0     0    13     0     1     1     0     1    28]]\n",
            "Accuracy Score : 0.7133799737647574\n",
            "Precision Score:  0.49458955772290425\n",
            "F1 Score:  0.49328463219267105\n",
            "Recall:  0.5664007522419929\n"
          ],
          "name": "stdout"
        }
      ]
    },
    {
      "cell_type": "code",
      "metadata": {
        "colab": {
          "base_uri": "https://localhost:8080/"
        },
        "id": "ZfSSpwm2sk1Y",
        "outputId": "baadf573-e20c-41be-b14a-7b5982f6a4ec"
      },
      "source": [
        "clfDT_20 = DecisionTreeClassifier()\n",
        "print (\"\\t\\tDecision Tree Analysis of UNSW-NB15\\n\\n\\t\\tTop 30 Features \")\n",
        "\n",
        "# Train Decision Tree Classifer\n",
        "clfDT_20 = clfDT_20.fit(df2_xtrain,df2_ytrain)\n",
        "\n",
        "#Predict the response for test dataset\n",
        "y_pred_DT20 = clfDT_20.predict(df2_xtest)\n",
        "\n",
        "#print (\"\\t\\tMajor Verifcation\")\n",
        "results_DT20 = confusion_matrix(df2_ytest, y_pred_DT20) \n",
        "print ('Confusion Matrix :')\n",
        "print(results_DT20)\n",
        "\n",
        "accDT20=accuracy_score(df2_ytest, y_pred_DT20)\n",
        "preDT20=precision_score(df2_ytest, y_pred_DT20, average='macro')\n",
        "f1DT20=f1_score(df2_ytest, y_pred_DT20, average='macro')\n",
        "reDT20=recall_score(df2_ytest, y_pred_DT20, average='macro')\n",
        "\n",
        "print ('Accuracy Score :',accDT20 )\n",
        "print(\"Precision Score: \",preDT20)\n",
        "print(\"F1 Score: \",f1DT20)\n",
        "print(\"Recall: \",reDT20)"
      ],
      "execution_count": 17,
      "outputs": [
        {
          "output_type": "stream",
          "text": [
            "\t\tDecision Tree Analysis of UNSW-NB15\n",
            "\n",
            "\t\tTop 30 Features \n",
            "Confusion Matrix :\n",
            "[[  505   113     0    38     1     3    13     1     3     0]\n",
            " [  493    50     3    13    10     0     9     0     5     0]\n",
            " [ 1745  1029   546   511    95    33    67    27    36     0]\n",
            " [ 2105   944   707  6458   179   112   296   227    94    10]\n",
            " [ 1071   155    97   393  2664    20  1480    15   167     0]\n",
            " [   25    24    50   195    38 18493    20     7    14     5]\n",
            " [  667    13  1275  1476  7420    76 25880    37   155     1]\n",
            " [  168   135    34   275    27    14    34  2760    48     1]\n",
            " [    2     2    13    45    28     2    20     4   262     0]\n",
            " [    0     0     1    15     0     1     0     1     1    25]]\n",
            "Accuracy Score : 0.7001287470242433\n",
            "Precision Score:  0.49770948752772937\n",
            "F1 Score:  0.4932439421719807\n",
            "Recall:  0.5715024436336368\n"
          ],
          "name": "stdout"
        }
      ]
    },
    {
      "cell_type": "code",
      "metadata": {
        "colab": {
          "base_uri": "https://localhost:8080/"
        },
        "id": "MQrDjJUosk4b",
        "outputId": "342e933c-a2c1-4efd-e660-0efe026eb139"
      },
      "source": [
        "clfDT_all = DecisionTreeClassifier()\n",
        "print (\"\\t\\tDecision Tree Analysis of UNSW-NB15\\n\\n\\t\\tAll Features \")\n",
        "\n",
        "# Train Decision Tree Classifer\n",
        "clfDT_all = clfDT_all.fit(df3_xtrain,df3_ytrain)\n",
        "\n",
        "#Predict the response for test dataset\n",
        "y_pred_DTall = clfDT_all.predict(df3_xtest)\n",
        "\n",
        "#print (\"\\t\\tMajor Verifcation\")\n",
        "results_DTall = confusion_matrix(df3_ytest, y_pred_DTall) \n",
        "print ('Confusion Matrix :')\n",
        "print(results_DTall)\n",
        "\n",
        "accDTall=accuracy_score(df3_ytest, y_pred_DTall)\n",
        "preDTall=precision_score(df3_ytest, y_pred_DTall, average='macro')\n",
        "f1DTall=f1_score(df3_ytest, y_pred_DTall, average='macro')\n",
        "reDTall=recall_score(df3_ytest, y_pred_DTall, average='macro')\n",
        "\n",
        "print ('Accuracy Score :', accDTall)\n",
        "print(\"Precision Score: \",preDTall)\n",
        "print(\"F1 Score: \",f1DTall)\n",
        "print(\"Recall: \",reDTall)"
      ],
      "execution_count": 18,
      "outputs": [
        {
          "output_type": "stream",
          "text": [
            "\t\tDecision Tree Analysis of UNSW-NB15\n",
            "\n",
            "\t\tAll Features \n",
            "Confusion Matrix :\n",
            "[[  499   114     1    52     1     2     6     0     2     0]\n",
            " [  491    66     2     7     5     0     7     0     5     0]\n",
            " [ 1694  1133   538   505    58    40    62    22    37     0]\n",
            " [ 2059  1063   527  6523   154   100   378   226    95     7]\n",
            " [ 1053   192    81   337  2737    28  1475     6   153     0]\n",
            " [   24    24    60   247    36 18430    25     3    17     5]\n",
            " [  680    11   142   755  7509    37 27688    44   131     3]\n",
            " [  164   168    36   282    18     2    25  2758    42     1]\n",
            " [    0     7    10    52    31     4    13     4   257     0]\n",
            " [    0     0     5    13     1     1     0     1     0    23]]\n",
            "Accuracy Score : 0.722914541126172\n",
            "Precision Score:  0.5244416835000998\n",
            "F1 Score:  0.5024372217227197\n",
            "Recall:  0.5735803113270536\n"
          ],
          "name": "stdout"
        }
      ]
    },
    {
      "cell_type": "code",
      "metadata": {
        "id": "0gTs5TBjslQj"
      },
      "source": [
        "#Gaussian Naive Bayes Classifier\n",
        "from sklearn.naive_bayes import MultinomialNB"
      ],
      "execution_count": 30,
      "outputs": []
    },
    {
      "cell_type": "code",
      "metadata": {
        "colab": {
          "base_uri": "https://localhost:8080/"
        },
        "id": "AYLJ7YcaopnF",
        "outputId": "373b9377-5c18-4391-8ea1-c47cdca81344"
      },
      "source": [
        "print(df1_ytrain.unique())"
      ],
      "execution_count": null,
      "outputs": [
        {
          "output_type": "stream",
          "text": [
            "[6 1 0 4 8 7 3 2 9 5]\n"
          ],
          "name": "stdout"
        }
      ]
    },
    {
      "cell_type": "code",
      "metadata": {
        "colab": {
          "base_uri": "https://localhost:8080/"
        },
        "id": "_e-LXX4Ls2Sk",
        "outputId": "a7c81097-1705-4b5b-861b-0e4d6fce3978"
      },
      "source": [
        "bayes_10 = MultinomialNB()\n",
        "#bayes_10.partial_fit(df1_xtrain,df1_ytrain,df1_ytrain.unique())\n",
        "bayes_10.fit(df1_xtrain,df1_ytrain)\n",
        "\n",
        "print (\"\\t\\tMultinomial Naive Bayes Analysis of UNSW-NB15\\n\\n\\t\\tTop 15 Features \")\n",
        "y_pred_gnb10 = bayes_10.predict(df1_xtest)\n",
        "\n",
        "#print (\"\\t\\tMajor Verifcation KDD99 10% GNB\")\n",
        "results = confusion_matrix(df1_ytest, y_pred_gnb10) \n",
        "print ('Confusion Matrix :')\n",
        "print(results) \n",
        "\n",
        "accbayes_10=accuracy_score(df1_ytest, y_pred_gnb10) \n",
        "prebayes_10=precision_score(df1_ytest, y_pred_gnb10, average='macro')\n",
        "f1bayes_10=f1_score(df1_ytest, y_pred_gnb10, average='macro')\n",
        "rebayes_10=recall_score(df1_ytest, y_pred_gnb10, average='macro')\n",
        "\n",
        "print ('Accuracy Score :',accbayes_10)\n",
        "print(\"Precision Score: \",prebayes_10)\n",
        "print(\"F1 Score: \",f1bayes_10)\n",
        "print(\"Recall: \",rebayes_10)\n"
      ],
      "execution_count": 31,
      "outputs": [
        {
          "output_type": "stream",
          "text": [
            "\t\tMultinomial Naive Bayes Analysis of UNSW-NB15\n",
            "\n",
            "\t\tTop 15 Features \n",
            "Confusion Matrix :\n",
            "[[  601     0     0    14     0     1    61     0     0     0]\n",
            " [  483     0     0    38     1     2    59     0     0     0]\n",
            " [ 2473     0     0   510    72    78   934    10    12     0]\n",
            " [ 2697     0     0  1738   125    56  6494     2    20     0]\n",
            " [ 1222     0     0   752   550   374  3111     7    46     0]\n",
            " [   28     0     0   109    95 18159   475     1     4     0]\n",
            " [  193     0     1  4062  1501  2792 28284    18   149     0]\n",
            " [ 1541     0     0    68     8    15  1858     6     0     0]\n",
            " [   75     0     0     1    36     9   192     6    59     0]\n",
            " [    0     0     0     2     4     2    36     0     0     0]]\n",
            "Accuracy Score : 0.5999732789194967\n",
            "Precision Score:  0.23827456767032631\n",
            "F1 Score:  0.2239561902839405\n",
            "Recall:  0.30190991296773395\n"
          ],
          "name": "stdout"
        },
        {
          "output_type": "stream",
          "text": [
            "/usr/local/lib/python3.7/dist-packages/sklearn/metrics/_classification.py:1272: UndefinedMetricWarning:\n",
            "\n",
            "Precision is ill-defined and being set to 0.0 in labels with no predicted samples. Use `zero_division` parameter to control this behavior.\n",
            "\n"
          ],
          "name": "stderr"
        }
      ]
    },
    {
      "cell_type": "code",
      "metadata": {
        "colab": {
          "base_uri": "https://localhost:8080/"
        },
        "id": "nZUmRijOs2VE",
        "outputId": "b4892ca4-1a24-4bf4-9ccf-f845fa681667"
      },
      "source": [
        "bayes_20 = MultinomialNB()\n",
        "bayes_20.fit(df2_xtrain,df2_ytrain)\n",
        "\n",
        "print (\"\\t\\tMultinomial Naive Bayes Analysis of UNSW-NB15\\n\\n\\t\\tTop 30 Features \")\n",
        "\n",
        "y_pred_gnb20 = bayes_20.predict(df2_xtest)\n",
        "\n",
        "#print (\"\\t\\tMajor Verifcation KDD99 10% GNB\")\n",
        "results = confusion_matrix(df2_ytest, y_pred_gnb20) \n",
        "print ('Confusion Matrix :')\n",
        "print(results)\n",
        "\n",
        "accbayes_20=accuracy_score(df2_ytest, y_pred_gnb20) \n",
        "prebayes_20=precision_score(df2_ytest, y_pred_gnb20, average='macro')\n",
        "f1bayes_20=f1_score(df2_ytest, y_pred_gnb20, average='macro')\n",
        "rebayes_20=recall_score(df2_ytest, y_pred_gnb20, average='macro')\n",
        "\n",
        "print ('Accuracy Score :',accbayes_20)\n",
        "print(\"Precision Score: \",prebayes_20)\n",
        "print(\"F1 Score: \",f1bayes_20)\n",
        "print(\"Recall: \",rebayes_20)"
      ],
      "execution_count": 32,
      "outputs": [
        {
          "output_type": "stream",
          "text": [
            "\t\tMultinomial Naive Bayes Analysis of UNSW-NB15\n",
            "\n",
            "\t\tTop 30 Features \n",
            "Confusion Matrix :\n",
            "[[    3     0     2    40     0   614     0     0     0    18]\n",
            " [    3     0    10    36     0   515     4     0     0    15]\n",
            " [   31     0    87   677     0  2903    17     0     0   374]\n",
            " [   36     0   128  5200     0  3163    76     0     0  2529]\n",
            " [   45     0    54  2445     0  2250     0     0     0  1268]\n",
            " [    4     0     4   345     0 18343     4     0     0   171]\n",
            " [  585     0    73 14651     0  5965  7847     1     1  7877]\n",
            " [    8     0    22  1262     0  1601     0     0     0   603]\n",
            " [    0     0     0   130     0   185     0     0     0    63]\n",
            " [    0     0     0    24     0     6     0     0     0    14]]\n",
            "Accuracy Score : 0.3825244133508235\n",
            "Precision Score:  0.1947161142507347\n",
            "F1 Score:  0.135809387243145\n",
            "Recall:  0.19951131812748615\n"
          ],
          "name": "stdout"
        },
        {
          "output_type": "stream",
          "text": [
            "/usr/local/lib/python3.7/dist-packages/sklearn/metrics/_classification.py:1272: UndefinedMetricWarning:\n",
            "\n",
            "Precision is ill-defined and being set to 0.0 in labels with no predicted samples. Use `zero_division` parameter to control this behavior.\n",
            "\n"
          ],
          "name": "stderr"
        }
      ]
    },
    {
      "cell_type": "code",
      "metadata": {
        "colab": {
          "base_uri": "https://localhost:8080/"
        },
        "id": "VcEkvsRBs2YC",
        "outputId": "f8a6b840-c5a4-4f5f-cf30-c9266d1b9681"
      },
      "source": [
        "bayes_all = MultinomialNB()\n",
        "bayes_all.fit(df3_xtrain,df3_ytrain)\n",
        "\n",
        "print (\"\\t\\tMultinomial Naive Bayes Analysis of UNSW-NB15\\n\\n\\t\\tAll Features \")\n",
        "y_pred_gnball = bayes_all.predict(df3_xtest)\n",
        "\n",
        "#print (\"\\t\\tMajor Verifcation KDD99 10% GNB\")\n",
        "results = confusion_matrix(df3_ytest, y_pred_gnball) \n",
        "print ('Confusion Matrix :')\n",
        "print(results)\n",
        "\n",
        "accbayes_all=accuracy_score(df3_ytest, y_pred_gnball)\n",
        "prebayes_all=precision_score(df3_ytest, y_pred_gnball, average='macro')\n",
        "f1bayes_all=f1_score(df3_ytest, y_pred_gnball, average='macro')\n",
        "rebayes_all=recall_score(df3_ytest, y_pred_gnball, average='macro')\n",
        "\n",
        "print ('Accuracy Score :', accbayes_all)\n",
        "print(\"Precision Score: \",prebayes_all)\n",
        "print(\"F1 Score: \",f1bayes_all)\n",
        "print(\"Recall: \",rebayes_all)"
      ],
      "execution_count": 33,
      "outputs": [
        {
          "output_type": "stream",
          "text": [
            "\t\tMultinomial Naive Bayes Analysis of UNSW-NB15\n",
            "\n",
            "\t\tAll Features \n",
            "Confusion Matrix :\n",
            "[[    3     0     2    40     0   614     0     0     0    18]\n",
            " [    3     0    10    36     0   515     4     0     0    15]\n",
            " [   31     0    87   677     0  2903    17     0     0   374]\n",
            " [   36     0   128  5200     0  3163    76     0     0  2529]\n",
            " [   45     0    54  2445     0  2250     0     0     0  1268]\n",
            " [    4     0     4   345     0 18343     4     0     0   171]\n",
            " [  615     0    14 14654     0  6027  7813     1     1  7875]\n",
            " [    8     0    22  1262     0  1601     0     0     0   603]\n",
            " [    0     0     0   130     0   185     0     0     0    63]\n",
            " [    0     0     0    24     0     6     0     0     0    14]]\n",
            "Accuracy Score : 0.38211145119759027\n",
            "Precision Score:  0.1988094523267321\n",
            "F1 Score:  0.13564830638485165\n",
            "Recall:  0.19941942623559425\n"
          ],
          "name": "stdout"
        },
        {
          "output_type": "stream",
          "text": [
            "/usr/local/lib/python3.7/dist-packages/sklearn/metrics/_classification.py:1272: UndefinedMetricWarning:\n",
            "\n",
            "Precision is ill-defined and being set to 0.0 in labels with no predicted samples. Use `zero_division` parameter to control this behavior.\n",
            "\n"
          ],
          "name": "stderr"
        }
      ]
    },
    {
      "cell_type": "code",
      "metadata": {
        "id": "D1DehUCas2bP"
      },
      "source": [
        "#Random Forest Classifier \n"
      ],
      "execution_count": null,
      "outputs": []
    },
    {
      "cell_type": "code",
      "metadata": {
        "colab": {
          "base_uri": "https://localhost:8080/"
        },
        "id": "5eCGklXTuKYb",
        "outputId": "2d0a4458-88fd-489e-e398-12cbe9955fbe"
      },
      "source": [
        "print (\"\\t\\tRandom Forest Analysis of UNSW-NB15\\n\\n\\t\\tTop 15 Features \")\n",
        "\n",
        "#Create a Gaussian Classifier\n",
        "clfRF_10=RandomForestClassifier()\n",
        "\n",
        "#Train the model using the training sets y_pred=clf.predict(X_test)\n",
        "clfRF_10.fit(df1_xtrain,df1_ytrain)\n",
        "\n",
        "y_pred_RF10=clfRF_10.predict(df1_xtest)\n",
        "#print(\"Accuracy Random Forest:\",metrics.accuracy_score(y_test, y_pred_RF))\n",
        "\n",
        "results_10 = confusion_matrix(df1_ytest, y_pred_RF10) \n",
        "print ('Confusion Matrix :')\n",
        "print(results_10) \n",
        "\n",
        "accclfRF_10=accuracy_score(df1_ytest, y_pred_RF10)\n",
        "preclfRF_10=precision_score(df1_ytest, y_pred_RF10, average='macro')\n",
        "f1clfRF_10=f1_score(df1_ytest, y_pred_RF10, average='macro')\n",
        "reclfRF_10=recall_score(df1_ytest, y_pred_RF10, average='macro')\n",
        "\n",
        "print ('Accuracy Score :',accclfRF_10 )\n",
        "print(\"Precision Score: \",preclfRF_10)\n",
        "print(\"F1 Score: \",f1clfRF_10)\n",
        "print(\"Recall: \",reclfRF_10)"
      ],
      "execution_count": 34,
      "outputs": [
        {
          "output_type": "stream",
          "text": [
            "\t\tRandom Forest Analysis of UNSW-NB15\n",
            "\n",
            "\t\tTop 15 Features \n",
            "Confusion Matrix :\n",
            "[[   37   152    11    66   348     0    28    32     3     0]\n",
            " [   25   104     8    30   367     0    15    28     6     0]\n",
            " [  356  1399   509   873   709    12    33   154    43     1]\n",
            " [  355  1338   203  7578  1115    13   146   303    76     5]\n",
            " [   87   298    21   433  3935     6   964    63   255     0]\n",
            " [    5    10    42   407    54 18319     9     3    19     3]\n",
            " [  318     0    60   708  7384     6 28389    13   121     1]\n",
            " [   44   175    27   340    86     0    15  2784    25     0]\n",
            " [    0     1    12    51    31     0    10     4   268     1]\n",
            " [    0     0     0    18     1     1     1     0     0    23]]\n",
            "Accuracy Score : 0.7523927512996161\n",
            "Precision Score:  0.5416255238192631\n",
            "F1 Score:  0.5071133425112915\n",
            "Recall:  0.5453466445684136\n"
          ],
          "name": "stdout"
        }
      ]
    },
    {
      "cell_type": "code",
      "metadata": {
        "colab": {
          "base_uri": "https://localhost:8080/"
        },
        "id": "jYQ8JD5ruKl8",
        "outputId": "05165475-e50e-4dd5-a69f-880be09c28af"
      },
      "source": [
        "print (\"\\t\\tRandom Forest Analysis of UNSW-NB15\\n\\n\\t\\tTop 30 Features \")\n",
        "\n",
        "#Create a Gaussian Classifier\n",
        "clfRF_20=RandomForestClassifier()\n",
        "\n",
        "#Train the model using the training sets y_pred=clf.predict(X_test)\n",
        "clfRF_20.fit(df2_xtrain,df2_ytrain)\n",
        "\n",
        "y_pred_RF20=clfRF_20.predict(df2_xtest)\n",
        "#print(\"Accuracy Random Forest:\",metrics.accuracy_score(y_test, y_pred_RF))\n",
        "\n",
        "results_20 = confusion_matrix(df2_ytest, y_pred_RF20) \n",
        "print ('Confusion Matrix :')\n",
        "print(results_20)\n",
        "\n",
        "accclfRF_20=accuracy_score(df2_ytest, y_pred_RF20) \n",
        "preclfRF_20=precision_score(df2_ytest, y_pred_RF20, average='macro')\n",
        "f1clfRF_20=f1_score(df2_ytest, y_pred_RF20, average='macro')\n",
        "reclfRF_20=recall_score(df2_ytest, y_pred_RF20, average='macro')\n",
        "\n",
        "print ('Accuracy Score :',accclfRF_20)\n",
        "print(\"Precision Score: \",preclfRF_20)\n",
        "print(\"F1 Score: \",f1clfRF_20)\n",
        "print(\"Recall: \",reclfRF_20)"
      ],
      "execution_count": 35,
      "outputs": [
        {
          "output_type": "stream",
          "text": [
            "\t\tRandom Forest Analysis of UNSW-NB15\n",
            "\n",
            "\t\tTop 30 Features \n",
            "Confusion Matrix :\n",
            "[[   71   242    22    59   216     1    16    47     3     0]\n",
            " [   71   170    22    30   230     1     3    50     6     0]\n",
            " [  363  1616   528   822   545    13    14   142    46     0]\n",
            " [  419  1582   184  7639   837    24    89   291    63     4]\n",
            " [  171   441    46   401  3775     2   919    97   210     0]\n",
            " [    7     9    41   364    57 18359     3     7    21     3]\n",
            " [  401     2    43   726  7500     6 28188     5   128     1]\n",
            " [   39   192    24   315    75     2    10  2818    21     0]\n",
            " [    0     1    10    54    45     0     7     1   259     1]\n",
            " [    0     0     0    28     2     1     1     0     0    12]]\n",
            "Accuracy Score : 0.7508502161978332\n",
            "Precision Score:  0.5365441326615858\n",
            "F1 Score:  0.4915661364413994\n",
            "Recall:  0.5333231038932129\n"
          ],
          "name": "stdout"
        }
      ]
    },
    {
      "cell_type": "code",
      "metadata": {
        "colab": {
          "base_uri": "https://localhost:8080/"
        },
        "id": "EpJHXBBTuKvd",
        "outputId": "32920d7e-c2e8-4a94-ee78-89312d9b6a96"
      },
      "source": [
        "print (\"\\t\\tRandom Forest Analysis of UNSW-NB15\\n\\n\\t\\tAll Features \")\n",
        "\n",
        "#Create a Random Forest Classifier\n",
        "clfRF_all=RandomForestClassifier()\n",
        "\n",
        "#Train the model using the training sets y_pred=clf.predict(X_test)\n",
        "clfRF_all.fit(df3_xtrain,df3_ytrain)\n",
        "\n",
        "y_pred_RFall=clfRF_all.predict(df3_xtest)\n",
        "#print(\"Accuracy Random Forest:\",metrics.accuracy_score(y_test, y_pred_RF))\n",
        "\n",
        "results_all = confusion_matrix(df3_ytest, y_pred_RFall) \n",
        "print ('Confusion Matrix :')\n",
        "print(results_all)\n",
        "\n",
        "accclfRF_all=accuracy_score(df3_ytest, y_pred_RFall) \n",
        "preclfRF_all=precision_score(df3_ytest, y_pred_RFall, average='macro')\n",
        "f1clfRF_all=f1_score(df3_ytest, y_pred_RFall, average='macro')\n",
        "reclfRF_all=recall_score(df3_ytest, y_pred_RFall, average='macro')\n",
        "\n",
        "print ('Accuracy Score :',accclfRF_all)\n",
        "print(\"Precision Score: \",preclfRF_all)\n",
        "print(\"F1 Score: \",f1clfRF_all)\n",
        "print(\"Recall: \",reclfRF_all)"
      ],
      "execution_count": 36,
      "outputs": [
        {
          "output_type": "stream",
          "text": [
            "\t\tRandom Forest Analysis of UNSW-NB15\n",
            "\n",
            "\t\tAll Features \n",
            "Confusion Matrix :\n",
            "[[   53   249    13    66   245     1    15    32     3     0]\n",
            " [   52   164    16    40   270     1     0    34     6     0]\n",
            " [  296  1742   467   774   606    12    10   137    45     0]\n",
            " [  346  1695   130  7613   906    23    82   263    70     4]\n",
            " [  127   443    34   382  3908     4   876    67   221     0]\n",
            " [    2     8    35   397    57 18335     4    10    20     3]\n",
            " [  453     0    34   718  7631     5 28023     7   128     1]\n",
            " [   32   210    19   309    80     2     6  2807    31     0]\n",
            " [    0     0     7    58    40     0     6     1   265     1]\n",
            " [    0     0     0    32     1     1     2     0     0     8]]\n",
            "Accuracy Score : 0.748712529757567\n",
            "Precision Score:  0.5316193733514087\n",
            "F1 Score:  0.4780045335061504\n",
            "Recall:  0.5217124047589466\n"
          ],
          "name": "stdout"
        }
      ]
    },
    {
      "cell_type": "code",
      "metadata": {
        "id": "v6N3Y69QuLDL"
      },
      "source": [
        "#Logistic Regression Classifier \n"
      ],
      "execution_count": null,
      "outputs": []
    },
    {
      "cell_type": "code",
      "metadata": {
        "colab": {
          "base_uri": "https://localhost:8080/"
        },
        "id": "GJHJebbCuSZr",
        "outputId": "e4c7f4fa-feeb-4934-c001-ee0dfc35ef13"
      },
      "source": [
        "print (\"\\t\\tLogistic Regression Analysis of UNSW-NB15\\n\\n\\t\\tTop 15 Features \")\n",
        "\n",
        "logisticRegr_10 = LogisticRegression(C=1e5, solver='newton-cg',max_iter=1000, multi_class='multinomial')\n",
        "\n",
        "logisticRegr_10.fit(df1_xtrain,df1_ytrain)\n",
        "\n",
        "y_pred_LR10 = logisticRegr_10.predict(df1_xtest)\n",
        "\n",
        "results_LR10 = confusion_matrix(df1_ytest, y_pred_LR10) \n",
        "print ('Confusion Matrix :')\n",
        "print(results_LR10) \n",
        "\n",
        "acclogisticRegr_10=accuracy_score(df1_ytest, y_pred_LR10)\n",
        "prelogisticRegr_10=precision_score(df1_ytest, y_pred_LR10, average='macro')\n",
        "f1logisticRegr_10=f1_score(df1_ytest, y_pred_LR10, average='macro')\n",
        "relogisticRegr_10=recall_score(df1_ytest, y_pred_LR10, average='macro')\n",
        "\n",
        "print ('Accuracy Score :',acclogisticRegr_10 )\n",
        "print(\"Precision Score: \",prelogisticRegr_10)\n",
        "print(\"F1 Score: \",f1logisticRegr_10)\n",
        "print(\"Recall: \",relogisticRegr_10)"
      ],
      "execution_count": null,
      "outputs": [
        {
          "output_type": "stream",
          "text": [
            "\t\tLogistic Regression Analysis of UNSW-NB15\n",
            "\n",
            "\t\tTop 10 Features \n"
          ],
          "name": "stdout"
        },
        {
          "output_type": "stream",
          "text": [
            "/usr/local/lib/python3.7/dist-packages/scipy/optimize/linesearch.py:466: LineSearchWarning:\n",
            "\n",
            "The line search algorithm did not converge\n",
            "\n",
            "/usr/local/lib/python3.7/dist-packages/scipy/optimize/linesearch.py:314: LineSearchWarning:\n",
            "\n",
            "The line search algorithm did not converge\n",
            "\n",
            "/usr/local/lib/python3.7/dist-packages/sklearn/utils/optimize.py:212: ConvergenceWarning:\n",
            "\n",
            "newton-cg failed to converge. Increase the number of iterations.\n",
            "\n",
            "/usr/local/lib/python3.7/dist-packages/sklearn/metrics/_classification.py:1272: UndefinedMetricWarning:\n",
            "\n",
            "Precision is ill-defined and being set to 0.0 in labels with no predicted samples. Use `zero_division` parameter to control this behavior.\n",
            "\n"
          ],
          "name": "stderr"
        },
        {
          "output_type": "stream",
          "text": [
            "Confusion Matrix :\n",
            "[[    0     0     0    67   603     1     4     2     0     0]\n",
            " [    0     0     0    30   534     2    10     7     0     0]\n",
            " [    0     0     0   701  3023    53   229    83     0     0]\n",
            " [    0     0     4  5355  4777    36   873    87     0     0]\n",
            " [    0     0     0   190  4906   347   574    45     0     0]\n",
            " [    0     0     0   244   520 17912   186     9     0     0]\n",
            " [    0     0     0  4280 10600  2693 19298   129     0     0]\n",
            " [    0     0     0   118  3345    19     6     8     0     0]\n",
            " [    0     0     0    17   343     6     0    12     0     0]\n",
            " [    0     0     0     0    33     2     9     0     0     0]]\n",
            "Accuracy Score : 0.576677355098868\n",
            "Precision Score:  0.24395420989882374\n",
            "F1 Score:  0.2330576404871651\n",
            "Recall:  0.2763386674857679\n"
          ],
          "name": "stdout"
        }
      ]
    },
    {
      "cell_type": "code",
      "metadata": {
        "colab": {
          "base_uri": "https://localhost:8080/"
        },
        "id": "_xO1WIT4uScz",
        "outputId": "01574cc7-43ea-4409-e589-32713fa88cac"
      },
      "source": [
        "print (\"\\t\\tLogistic Regression Analysis of UNSW NB15\\n\\n\\t\\tTop 30 Features \")\n",
        "\n",
        "logisticRegr_20 = LogisticRegression(C=1e5, solver='newton-cg',max_iter=1000, multi_class='multinomial')\n",
        "\n",
        "logisticRegr_20.fit(df2_xtrain,df2_ytrain)\n",
        "\n",
        "y_pred_LR20 = logisticRegr_20.predict(df2_xtest)\n",
        "\n",
        "results_LR20 = confusion_matrix(df2_ytest, y_pred_LR20) \n",
        "print ('Confusion Matrix :')\n",
        "print(results_LR20) \n",
        "\n",
        "acclogisticRegr_20=accuracy_score(df2_ytest, y_pred_LR20)\n",
        "prelogisticRegr_20=precision_score(df2_ytest, y_pred_LR20, average='macro')\n",
        "f1logisticRegr_20=f1_score(df2_ytest, y_pred_LR20, average='macro')\n",
        "relogisticRegr_20=recall_score(df2_ytest, y_pred_LR20, average='macro')\n",
        "\n",
        "print ('Accuracy Score :',acclogisticRegr_20 )\n",
        "print(\"Precision Score: \",prelogisticRegr_20)\n",
        "print(\"F1 Score: \",f1logisticRegr_20)\n",
        "print(\"Recall: \",relogisticRegr_20)\n"
      ],
      "execution_count": null,
      "outputs": [
        {
          "output_type": "stream",
          "text": [
            "\t\tLogistic Regression Analysis of UNSW NB15\n",
            "\n",
            "\t\tTop 20 Features \n"
          ],
          "name": "stdout"
        },
        {
          "output_type": "stream",
          "text": [
            "/usr/local/lib/python3.7/dist-packages/scipy/optimize/linesearch.py:466: LineSearchWarning:\n",
            "\n",
            "The line search algorithm did not converge\n",
            "\n",
            "/usr/local/lib/python3.7/dist-packages/scipy/optimize/linesearch.py:314: LineSearchWarning:\n",
            "\n",
            "The line search algorithm did not converge\n",
            "\n",
            "/usr/local/lib/python3.7/dist-packages/sklearn/utils/optimize.py:212: ConvergenceWarning:\n",
            "\n",
            "newton-cg failed to converge. Increase the number of iterations.\n",
            "\n",
            "/usr/local/lib/python3.7/dist-packages/sklearn/metrics/_classification.py:1272: UndefinedMetricWarning:\n",
            "\n",
            "Precision is ill-defined and being set to 0.0 in labels with no predicted samples. Use `zero_division` parameter to control this behavior.\n",
            "\n"
          ],
          "name": "stderr"
        },
        {
          "output_type": "stream",
          "text": [
            "Confusion Matrix :\n",
            "[[    0     0     0    24   618     2    33     0     0     0]\n",
            " [    0     0     0    21   527     5    30     0     0     0]\n",
            " [    0     0    12   465  2920   123   568     1     0     0]\n",
            " [    0     0     3  2640  4041   122  4323     3     0     0]\n",
            " [    0     0     0  1354  3715   379   614     0     0     0]\n",
            " [    0     0     1   177   224 18168   301     0     0     0]\n",
            " [    0     0     0  4308 10244  2806 19639     3     0     0]\n",
            " [    0     0     0   425  2851    45   175     0     0     0]\n",
            " [    0     0     0    72   234    33    39     0     0     0]\n",
            " [    0     0     0    12    19     2    11     0     0     0]]\n",
            "Accuracy Score : 0.5365350046154593\n",
            "Precision Score:  0.27752510329555236\n",
            "F1 Score:  0.20200551358150495\n",
            "Recall:  0.23464537572388955\n"
          ],
          "name": "stdout"
        }
      ]
    },
    {
      "cell_type": "code",
      "metadata": {
        "colab": {
          "base_uri": "https://localhost:8080/"
        },
        "id": "lp-GI4YS4kUT",
        "outputId": "bc80455c-fb76-49ed-de47-fb067612ed3a"
      },
      "source": [
        "print (\"\\t\\tLogistic Regression Analysis of UNSW-NB15\\n\\n\\t\\tAll Features \")\n",
        "\n",
        "logisticRegr_all = LogisticRegression(C=1e5, solver='newton-cg', multi_class='multinomial')\n",
        "\n",
        "logisticRegr_all.fit(df3_xtrain,df3_ytrain)\n",
        "\n",
        "y_pred_LRall = logisticRegr_all.predict(df3_xtest)\n",
        "\n",
        "results_LRall = confusion_matrix(df3_ytest, y_pred_LRall) \n",
        "print ('Confusion Matrix :')\n",
        "print(results_LRall)\n",
        "\n",
        "acclogisticRegr_all=accuracy_score(df3_ytest, y_pred_LRall)\n",
        "prelogisticRegr_all=precision_score(df3_ytest, y_pred_LRall, average='macro')\n",
        "f1logisticRegr_all=f1_score(df3_ytest, y_pred_LRall, average='macro')\n",
        "relogisticRegr_all=recall_score(df3_ytest, y_pred_LRall, average='macro')\n",
        "\n",
        "print ('Accuracy Score :', acclogisticRegr_all)\n",
        "print(\"Precision Score: \",prelogisticRegr_all)\n",
        "print(\"F1 Score: \",f1logisticRegr_all)\n",
        "print(\"Recall: \",relogisticRegr_all)\n"
      ],
      "execution_count": null,
      "outputs": [
        {
          "output_type": "stream",
          "text": [
            "\t\tLogistic Regression Analysis of UNSW-NB15\n",
            "\n",
            "\t\tTop 30 Features \n"
          ],
          "name": "stdout"
        },
        {
          "output_type": "stream",
          "text": [
            "/usr/local/lib/python3.7/dist-packages/sklearn/utils/optimize.py:212: ConvergenceWarning:\n",
            "\n",
            "newton-cg failed to converge. Increase the number of iterations.\n",
            "\n",
            "/usr/local/lib/python3.7/dist-packages/sklearn/metrics/_classification.py:1272: UndefinedMetricWarning:\n",
            "\n",
            "Precision is ill-defined and being set to 0.0 in labels with no predicted samples. Use `zero_division` parameter to control this behavior.\n",
            "\n"
          ],
          "name": "stderr"
        },
        {
          "output_type": "stream",
          "text": [
            "Confusion Matrix :\n",
            "[[    0     0     3     2   613     2    57     0     0     0]\n",
            " [    0     0    10    19   493     5    56     0     0     0]\n",
            " [    0     0   143   326  2577   136   907     0     0     0]\n",
            " [    0     0   146  1682  2851   126  6327     0     0     0]\n",
            " [    0     0    42   885  2071   387  2677     0     0     0]\n",
            " [    0     0    10   116   127 18168   450     0     0     0]\n",
            " [    0     0     7  3840  2397  2825 27931     0     0     0]\n",
            " [    0     0    26   179  1537    45  1709     0     0     0]\n",
            " [    0     0     0    27   150    35   166     0     0     0]\n",
            " [    0     0     0     8     4     2    30     0     0     0]]\n",
            "Accuracy Score : 0.6072365544381285\n",
            "Precision Score:  0.22974356478427999\n",
            "F1 Score:  0.20854342565061423\n",
            "Recall:  0.224534320313942\n"
          ],
          "name": "stdout"
        }
      ]
    },
    {
      "cell_type": "code",
      "metadata": {
        "id": "DjkKak0CuSwM"
      },
      "source": [
        "#CNN 1D\n",
        "from __future__ import print_function\n",
        "import numpy as np\n",
        "np.random.seed(1337)  # for reproducibility\n",
        "\n",
        "from keras.preprocessing import sequence\n",
        "from keras.models import Sequential\n",
        "from keras.layers import Dense, Dropout, Activation, Lambda\n",
        "from keras.layers import Embedding\n",
        "from keras.layers import Convolution1D,MaxPooling1D, Flatten\n",
        "from keras.datasets import imdb\n",
        "from keras import backend as K\n",
        "#from sklearn.cross_validation import train_test_split\n",
        "import pandas as pd\n",
        "from keras.utils.np_utils import to_categorical\n",
        "\n",
        "from sklearn.preprocessing import Normalizer\n",
        "from keras.models import Sequential\n",
        "from keras.layers import Convolution1D, Dense, Dropout, Flatten, MaxPooling1D\n",
        "from keras.utils import np_utils\n",
        "import numpy as np\n",
        "import h5py\n",
        "from keras import callbacks\n",
        "from keras.layers import LSTM, GRU, SimpleRNN\n",
        "from keras.callbacks import CSVLogger\n",
        "from keras.callbacks import ModelCheckpoint, EarlyStopping, ReduceLROnPlateau, CSVLogger"
      ],
      "execution_count": null,
      "outputs": []
    },
    {
      "cell_type": "code",
      "metadata": {
        "id": "guWo1Zwx6xl8"
      },
      "source": [
        "def recall_m(y_true, y_pred):\n",
        "    true_positives = K.sum(K.round(K.clip(y_true * y_pred, 0, 1)))\n",
        "    possible_positives = K.sum(K.round(K.clip(y_true, 0, 1)))\n",
        "    recall = true_positives / (possible_positives + K.epsilon())\n",
        "    return recall\n",
        "\n",
        "def precision_m(y_true, y_pred):\n",
        "    true_positives = K.sum(K.round(K.clip(y_true * y_pred, 0, 1)))\n",
        "    predicted_positives = K.sum(K.round(K.clip(y_pred, 0, 1)))\n",
        "    precision = true_positives / (predicted_positives + K.epsilon())\n",
        "    return precision\n",
        "\n",
        "def f1_m(y_true, y_pred):\n",
        "    precision = precision_m(y_true, y_pred)\n",
        "    recall = recall_m(y_true, y_pred)\n",
        "    return 2*((precision*recall)/(precision+recall+K.epsilon()))"
      ],
      "execution_count": null,
      "outputs": []
    },
    {
      "cell_type": "code",
      "metadata": {
        "colab": {
          "base_uri": "https://localhost:8080/"
        },
        "id": "THg2erH1rxH1",
        "outputId": "4cbb067a-39a7-4231-fef4-ba3f07bd0ccb"
      },
      "source": [
        "X = df1_xtrain\n",
        "Y = df1_ytrain\n",
        "C = df1_ytest\n",
        "T = df1_xtest\n",
        "scaler = Normalizer().fit(X)\n",
        "trainX = scaler.transform(X)\n",
        "\n",
        "scaler = Normalizer().fit(T)\n",
        "testT = scaler.transform(T)\n",
        "\n",
        "y_train1 = np.array(Y)\n",
        "y_test1 = np.array(C)\n",
        "\n",
        "y_train= to_categorical(y_train1)\n",
        "y_test= to_categorical(y_test1)\n",
        "\n",
        "\n",
        "# reshape input to be [samples, time steps, features]\n",
        "X_train = np.reshape(trainX, (trainX.shape[0],trainX.shape[1],1))\n",
        "X_test = np.reshape(testT, (testT.shape[0],testT.shape[1],1))\n",
        "\n",
        "\n",
        "from keras.models import Sequential\n",
        "from keras import layers\n",
        "\n",
        "input_dim = df1_xtrain.shape[1]  # Number of features\n",
        "\n",
        "model = Sequential()\n",
        "model.add(layers.Dense(10, input_shape=(15, 1), activation='relu'))\n",
        "model.add(layers.Flatten())\n",
        "model.add(layers.Dense(32, activation='relu'))\n",
        "model.add(layers.Dense(10, activation='softmax'))\n",
        "\n",
        "model.compile(loss='categorical_crossentropy', \n",
        "              optimizer='adam', \n",
        "              metrics=['accuracy',f1_m,precision_m, recall_m])\n",
        "model.summary()"
      ],
      "execution_count": null,
      "outputs": [
        {
          "output_type": "stream",
          "text": [
            "Model: \"sequential_5\"\n",
            "_________________________________________________________________\n",
            "Layer (type)                 Output Shape              Param #   \n",
            "=================================================================\n",
            "dense_15 (Dense)             (None, 15, 10)            20        \n",
            "_________________________________________________________________\n",
            "flatten_5 (Flatten)          (None, 150)               0         \n",
            "_________________________________________________________________\n",
            "dense_16 (Dense)             (None, 32)                4832      \n",
            "_________________________________________________________________\n",
            "dense_17 (Dense)             (None, 10)                330       \n",
            "=================================================================\n",
            "Total params: 5,182\n",
            "Trainable params: 5,182\n",
            "Non-trainable params: 0\n",
            "_________________________________________________________________\n"
          ],
          "name": "stdout"
        }
      ]
    },
    {
      "cell_type": "code",
      "metadata": {
        "colab": {
          "base_uri": "https://localhost:8080/"
        },
        "id": "h8U3yJwKxyMM",
        "outputId": "0bb76135-7d18-41f6-d59e-3ca8efe0df67"
      },
      "source": [
        "historyNN10 = model.fit(X_train, y_train,\n",
        "                    epochs=100)"
      ],
      "execution_count": null,
      "outputs": [
        {
          "output_type": "stream",
          "text": [
            "Epoch 1/100\n",
            "3367/3367 [==============================] - 10s 3ms/step - loss: 1.3980 - accuracy: 0.4886 - f1_m: 0.4311 - precision_m: 0.6782 - recall_m: 0.3203\n",
            "Epoch 2/100\n",
            "3367/3367 [==============================] - 10s 3ms/step - loss: 1.1951 - accuracy: 0.5281 - f1_m: 0.5009 - precision_m: 0.7814 - recall_m: 0.3727\n",
            "Epoch 3/100\n",
            "3367/3367 [==============================] - 10s 3ms/step - loss: 1.1440 - accuracy: 0.5501 - f1_m: 0.5115 - precision_m: 0.8036 - recall_m: 0.3796\n",
            "Epoch 4/100\n",
            "3367/3367 [==============================] - 10s 3ms/step - loss: 1.0931 - accuracy: 0.5775 - f1_m: 0.5410 - precision_m: 0.8138 - recall_m: 0.4097\n",
            "Epoch 5/100\n",
            "3367/3367 [==============================] - 10s 3ms/step - loss: 1.0533 - accuracy: 0.5964 - f1_m: 0.5816 - precision_m: 0.8320 - recall_m: 0.4515\n",
            "Epoch 6/100\n",
            "3367/3367 [==============================] - 10s 3ms/step - loss: 1.0045 - accuracy: 0.6180 - f1_m: 0.6140 - precision_m: 0.8539 - recall_m: 0.4836\n",
            "Epoch 7/100\n",
            "3367/3367 [==============================] - 10s 3ms/step - loss: 0.9717 - accuracy: 0.6382 - f1_m: 0.6347 - precision_m: 0.8724 - recall_m: 0.5032\n",
            "Epoch 8/100\n",
            "3367/3367 [==============================] - 10s 3ms/step - loss: 0.9576 - accuracy: 0.6462 - f1_m: 0.6427 - precision_m: 0.8773 - recall_m: 0.5112\n",
            "Epoch 9/100\n",
            "3367/3367 [==============================] - 10s 3ms/step - loss: 0.9442 - accuracy: 0.6530 - f1_m: 0.6516 - precision_m: 0.8793 - recall_m: 0.5220\n",
            "Epoch 10/100\n",
            "3367/3367 [==============================] - 10s 3ms/step - loss: 0.9240 - accuracy: 0.6590 - f1_m: 0.6603 - precision_m: 0.8868 - recall_m: 0.5304\n",
            "Epoch 11/100\n",
            "3367/3367 [==============================] - 10s 3ms/step - loss: 0.9147 - accuracy: 0.6627 - f1_m: 0.6635 - precision_m: 0.8858 - recall_m: 0.5350\n",
            "Epoch 12/100\n",
            "3367/3367 [==============================] - 10s 3ms/step - loss: 0.9057 - accuracy: 0.6663 - f1_m: 0.6662 - precision_m: 0.8824 - recall_m: 0.5392\n",
            "Epoch 13/100\n",
            "3367/3367 [==============================] - 10s 3ms/step - loss: 0.8951 - accuracy: 0.6754 - f1_m: 0.6716 - precision_m: 0.8848 - recall_m: 0.5456\n",
            "Epoch 14/100\n",
            "3367/3367 [==============================] - 10s 3ms/step - loss: 0.8887 - accuracy: 0.6759 - f1_m: 0.6718 - precision_m: 0.8830 - recall_m: 0.5461\n",
            "Epoch 15/100\n",
            "3367/3367 [==============================] - 10s 3ms/step - loss: 0.8797 - accuracy: 0.6829 - f1_m: 0.6748 - precision_m: 0.8847 - recall_m: 0.5495\n",
            "Epoch 16/100\n",
            "3367/3367 [==============================] - 10s 3ms/step - loss: 0.8762 - accuracy: 0.6823 - f1_m: 0.6789 - precision_m: 0.8870 - recall_m: 0.5539\n",
            "Epoch 17/100\n",
            "3367/3367 [==============================] - 10s 3ms/step - loss: 0.8657 - accuracy: 0.6877 - f1_m: 0.6807 - precision_m: 0.8880 - recall_m: 0.5561\n",
            "Epoch 18/100\n",
            "3367/3367 [==============================] - 10s 3ms/step - loss: 0.8648 - accuracy: 0.6902 - f1_m: 0.6795 - precision_m: 0.8859 - recall_m: 0.5554\n",
            "Epoch 19/100\n",
            "3367/3367 [==============================] - 10s 3ms/step - loss: 0.8517 - accuracy: 0.6943 - f1_m: 0.6859 - precision_m: 0.8849 - recall_m: 0.5641\n",
            "Epoch 20/100\n",
            "3367/3367 [==============================] - 10s 3ms/step - loss: 0.8552 - accuracy: 0.6957 - f1_m: 0.6851 - precision_m: 0.8859 - recall_m: 0.5623\n",
            "Epoch 21/100\n",
            "3367/3367 [==============================] - 9s 3ms/step - loss: 0.8444 - accuracy: 0.6984 - f1_m: 0.6872 - precision_m: 0.8813 - recall_m: 0.5673\n",
            "Epoch 22/100\n",
            "3367/3367 [==============================] - 10s 3ms/step - loss: 0.8359 - accuracy: 0.7042 - f1_m: 0.6902 - precision_m: 0.8831 - recall_m: 0.5703\n",
            "Epoch 23/100\n",
            "3367/3367 [==============================] - 10s 3ms/step - loss: 0.8363 - accuracy: 0.7025 - f1_m: 0.6893 - precision_m: 0.8794 - recall_m: 0.5708\n",
            "Epoch 24/100\n",
            "3367/3367 [==============================] - 10s 3ms/step - loss: 0.8300 - accuracy: 0.7042 - f1_m: 0.6898 - precision_m: 0.8783 - recall_m: 0.5717\n",
            "Epoch 25/100\n",
            "3367/3367 [==============================] - 10s 3ms/step - loss: 0.8289 - accuracy: 0.7075 - f1_m: 0.6933 - precision_m: 0.8773 - recall_m: 0.5771\n",
            "Epoch 26/100\n",
            "3367/3367 [==============================] - 10s 3ms/step - loss: 0.8237 - accuracy: 0.7068 - f1_m: 0.6934 - precision_m: 0.8731 - recall_m: 0.5788\n",
            "Epoch 27/100\n",
            "3367/3367 [==============================] - 10s 3ms/step - loss: 0.8102 - accuracy: 0.7112 - f1_m: 0.6980 - precision_m: 0.8737 - recall_m: 0.5851\n",
            "Epoch 28/100\n",
            "3367/3367 [==============================] - 10s 3ms/step - loss: 0.8115 - accuracy: 0.7109 - f1_m: 0.6967 - precision_m: 0.8735 - recall_m: 0.5832\n",
            "Epoch 29/100\n",
            "3367/3367 [==============================] - 10s 3ms/step - loss: 0.8137 - accuracy: 0.7102 - f1_m: 0.6979 - precision_m: 0.8727 - recall_m: 0.5855\n",
            "Epoch 30/100\n",
            "3367/3367 [==============================] - 10s 3ms/step - loss: 0.8178 - accuracy: 0.7079 - f1_m: 0.6930 - precision_m: 0.8684 - recall_m: 0.5803\n",
            "Epoch 31/100\n",
            "3367/3367 [==============================] - 10s 3ms/step - loss: 0.8060 - accuracy: 0.7116 - f1_m: 0.7000 - precision_m: 0.8679 - recall_m: 0.5904\n",
            "Epoch 32/100\n",
            "3367/3367 [==============================] - 10s 3ms/step - loss: 0.7998 - accuracy: 0.7123 - f1_m: 0.7006 - precision_m: 0.8671 - recall_m: 0.5917\n",
            "Epoch 33/100\n",
            "3367/3367 [==============================] - 10s 3ms/step - loss: 0.7942 - accuracy: 0.7136 - f1_m: 0.7029 - precision_m: 0.8689 - recall_m: 0.5942\n",
            "Epoch 34/100\n",
            "3367/3367 [==============================] - 10s 3ms/step - loss: 0.7894 - accuracy: 0.7161 - f1_m: 0.7058 - precision_m: 0.8689 - recall_m: 0.5983\n",
            "Epoch 35/100\n",
            "3367/3367 [==============================] - 10s 3ms/step - loss: 0.7897 - accuracy: 0.7157 - f1_m: 0.7055 - precision_m: 0.8690 - recall_m: 0.5976\n",
            "Epoch 36/100\n",
            "3367/3367 [==============================] - 10s 3ms/step - loss: 0.7916 - accuracy: 0.7147 - f1_m: 0.7066 - precision_m: 0.8701 - recall_m: 0.5986\n",
            "Epoch 37/100\n",
            "3367/3367 [==============================] - 10s 3ms/step - loss: 0.7844 - accuracy: 0.7178 - f1_m: 0.7098 - precision_m: 0.8703 - recall_m: 0.6031\n",
            "Epoch 38/100\n",
            "3367/3367 [==============================] - 10s 3ms/step - loss: 0.7740 - accuracy: 0.7207 - f1_m: 0.7125 - precision_m: 0.8721 - recall_m: 0.6061\n",
            "Epoch 39/100\n",
            "3367/3367 [==============================] - 10s 3ms/step - loss: 0.7799 - accuracy: 0.7187 - f1_m: 0.7079 - precision_m: 0.8689 - recall_m: 0.6010\n",
            "Epoch 40/100\n",
            "3367/3367 [==============================] - 10s 3ms/step - loss: 0.7753 - accuracy: 0.7203 - f1_m: 0.7136 - precision_m: 0.8648 - recall_m: 0.6110\n",
            "Epoch 41/100\n",
            "3367/3367 [==============================] - 10s 3ms/step - loss: 0.7720 - accuracy: 0.7211 - f1_m: 0.7147 - precision_m: 0.8659 - recall_m: 0.6121\n",
            "Epoch 42/100\n",
            "3367/3367 [==============================] - 10s 3ms/step - loss: 0.7664 - accuracy: 0.7226 - f1_m: 0.7162 - precision_m: 0.8641 - recall_m: 0.6152\n",
            "Epoch 43/100\n",
            "3367/3367 [==============================] - 10s 3ms/step - loss: 0.7573 - accuracy: 0.7248 - f1_m: 0.7206 - precision_m: 0.8673 - recall_m: 0.6197\n",
            "Epoch 44/100\n",
            "3367/3367 [==============================] - 10s 3ms/step - loss: 0.7617 - accuracy: 0.7239 - f1_m: 0.7181 - precision_m: 0.8624 - recall_m: 0.6185\n",
            "Epoch 45/100\n",
            "3367/3367 [==============================] - 10s 3ms/step - loss: 0.7517 - accuracy: 0.7261 - f1_m: 0.7218 - precision_m: 0.8660 - recall_m: 0.6222\n",
            "Epoch 46/100\n",
            "3367/3367 [==============================] - 10s 3ms/step - loss: 0.7526 - accuracy: 0.7256 - f1_m: 0.7221 - precision_m: 0.8617 - recall_m: 0.6248\n",
            "Epoch 47/100\n",
            "3367/3367 [==============================] - 10s 3ms/step - loss: 0.7501 - accuracy: 0.7262 - f1_m: 0.7244 - precision_m: 0.8608 - recall_m: 0.6287\n",
            "Epoch 48/100\n",
            "3367/3367 [==============================] - 10s 3ms/step - loss: 0.7420 - accuracy: 0.7286 - f1_m: 0.7287 - precision_m: 0.8569 - recall_m: 0.6370\n",
            "Epoch 49/100\n",
            "3367/3367 [==============================] - 10s 3ms/step - loss: 0.7389 - accuracy: 0.7309 - f1_m: 0.7299 - precision_m: 0.8603 - recall_m: 0.6369\n",
            "Epoch 50/100\n",
            "3367/3367 [==============================] - 10s 3ms/step - loss: 0.7324 - accuracy: 0.7329 - f1_m: 0.7312 - precision_m: 0.8571 - recall_m: 0.6406\n",
            "Epoch 51/100\n",
            "3367/3367 [==============================] - 10s 3ms/step - loss: 0.7362 - accuracy: 0.7292 - f1_m: 0.7298 - precision_m: 0.8563 - recall_m: 0.6390\n",
            "Epoch 52/100\n",
            "3367/3367 [==============================] - 10s 3ms/step - loss: 0.7368 - accuracy: 0.7307 - f1_m: 0.7314 - precision_m: 0.8582 - recall_m: 0.6403\n",
            "Epoch 53/100\n",
            "3367/3367 [==============================] - 10s 3ms/step - loss: 0.7303 - accuracy: 0.7308 - f1_m: 0.7322 - precision_m: 0.8547 - recall_m: 0.6433\n",
            "Epoch 54/100\n",
            "3367/3367 [==============================] - 10s 3ms/step - loss: 0.7374 - accuracy: 0.7283 - f1_m: 0.7306 - precision_m: 0.8594 - recall_m: 0.6387\n",
            "Epoch 55/100\n",
            "3367/3367 [==============================] - 10s 3ms/step - loss: 0.7250 - accuracy: 0.7330 - f1_m: 0.7335 - precision_m: 0.8586 - recall_m: 0.6433\n",
            "Epoch 56/100\n",
            "3367/3367 [==============================] - 10s 3ms/step - loss: 0.7253 - accuracy: 0.7321 - f1_m: 0.7335 - precision_m: 0.8536 - recall_m: 0.6462\n",
            "Epoch 57/100\n",
            "3367/3367 [==============================] - 10s 3ms/step - loss: 0.7229 - accuracy: 0.7342 - f1_m: 0.7361 - precision_m: 0.8540 - recall_m: 0.6498\n",
            "Epoch 58/100\n",
            "3367/3367 [==============================] - 10s 3ms/step - loss: 0.7170 - accuracy: 0.7373 - f1_m: 0.7376 - precision_m: 0.8532 - recall_m: 0.6525\n",
            "Epoch 59/100\n",
            "3367/3367 [==============================] - 10s 3ms/step - loss: 0.7167 - accuracy: 0.7365 - f1_m: 0.7365 - precision_m: 0.8553 - recall_m: 0.6496\n",
            "Epoch 60/100\n",
            "3367/3367 [==============================] - 10s 3ms/step - loss: 0.7107 - accuracy: 0.7365 - f1_m: 0.7393 - precision_m: 0.8558 - recall_m: 0.6536\n",
            "Epoch 61/100\n",
            "3367/3367 [==============================] - 10s 3ms/step - loss: 0.7147 - accuracy: 0.7353 - f1_m: 0.7392 - precision_m: 0.8552 - recall_m: 0.6541\n",
            "Epoch 62/100\n",
            "3367/3367 [==============================] - 10s 3ms/step - loss: 0.7175 - accuracy: 0.7357 - f1_m: 0.7388 - precision_m: 0.8571 - recall_m: 0.6522\n",
            "Epoch 63/100\n",
            "3367/3367 [==============================] - 10s 3ms/step - loss: 0.7164 - accuracy: 0.7364 - f1_m: 0.7390 - precision_m: 0.8550 - recall_m: 0.6537\n",
            "Epoch 64/100\n",
            "3367/3367 [==============================] - 10s 3ms/step - loss: 0.7151 - accuracy: 0.7374 - f1_m: 0.7386 - precision_m: 0.8546 - recall_m: 0.6534\n",
            "Epoch 65/100\n",
            "3367/3367 [==============================] - 10s 3ms/step - loss: 0.7126 - accuracy: 0.7377 - f1_m: 0.7378 - precision_m: 0.8556 - recall_m: 0.6514\n",
            "Epoch 66/100\n",
            "3367/3367 [==============================] - 10s 3ms/step - loss: 0.7040 - accuracy: 0.7403 - f1_m: 0.7417 - precision_m: 0.8557 - recall_m: 0.6575\n",
            "Epoch 67/100\n",
            "3367/3367 [==============================] - 10s 3ms/step - loss: 0.7135 - accuracy: 0.7375 - f1_m: 0.7388 - precision_m: 0.8547 - recall_m: 0.6535\n",
            "Epoch 68/100\n",
            "3367/3367 [==============================] - 10s 3ms/step - loss: 0.7110 - accuracy: 0.7381 - f1_m: 0.7398 - precision_m: 0.8530 - recall_m: 0.6560\n",
            "Epoch 69/100\n",
            "3367/3367 [==============================] - 10s 3ms/step - loss: 0.7075 - accuracy: 0.7401 - f1_m: 0.7411 - precision_m: 0.8583 - recall_m: 0.6552\n",
            "Epoch 70/100\n",
            "3367/3367 [==============================] - 10s 3ms/step - loss: 0.7125 - accuracy: 0.7381 - f1_m: 0.7404 - precision_m: 0.8530 - recall_m: 0.6571\n",
            "Epoch 71/100\n",
            "3367/3367 [==============================] - 10s 3ms/step - loss: 0.7107 - accuracy: 0.7386 - f1_m: 0.7395 - precision_m: 0.8552 - recall_m: 0.6544\n",
            "Epoch 72/100\n",
            "3367/3367 [==============================] - 10s 3ms/step - loss: 0.7077 - accuracy: 0.7404 - f1_m: 0.7408 - precision_m: 0.8522 - recall_m: 0.6582\n",
            "Epoch 73/100\n",
            "3367/3367 [==============================] - 10s 3ms/step - loss: 0.7064 - accuracy: 0.7404 - f1_m: 0.7424 - precision_m: 0.8530 - recall_m: 0.6600\n",
            "Epoch 74/100\n",
            "3367/3367 [==============================] - 10s 3ms/step - loss: 0.7045 - accuracy: 0.7394 - f1_m: 0.7408 - precision_m: 0.8555 - recall_m: 0.6561\n",
            "Epoch 75/100\n",
            "3367/3367 [==============================] - 10s 3ms/step - loss: 0.7004 - accuracy: 0.7412 - f1_m: 0.7433 - precision_m: 0.8539 - recall_m: 0.6609\n",
            "Epoch 76/100\n",
            "3367/3367 [==============================] - 10s 3ms/step - loss: 0.7014 - accuracy: 0.7415 - f1_m: 0.7448 - precision_m: 0.8530 - recall_m: 0.6636\n",
            "Epoch 77/100\n",
            "3367/3367 [==============================] - 10s 3ms/step - loss: 0.7004 - accuracy: 0.7398 - f1_m: 0.7417 - precision_m: 0.8530 - recall_m: 0.6589\n",
            "Epoch 78/100\n",
            "3367/3367 [==============================] - 10s 3ms/step - loss: 0.7028 - accuracy: 0.7405 - f1_m: 0.7421 - precision_m: 0.8521 - recall_m: 0.6600\n",
            "Epoch 79/100\n",
            "3367/3367 [==============================] - 10s 3ms/step - loss: 0.7036 - accuracy: 0.7419 - f1_m: 0.7419 - precision_m: 0.8541 - recall_m: 0.6587\n",
            "Epoch 80/100\n",
            "3367/3367 [==============================] - 10s 3ms/step - loss: 0.7032 - accuracy: 0.7402 - f1_m: 0.7436 - precision_m: 0.8548 - recall_m: 0.6608\n",
            "Epoch 81/100\n",
            "3367/3367 [==============================] - 10s 3ms/step - loss: 0.6948 - accuracy: 0.7420 - f1_m: 0.7444 - precision_m: 0.8528 - recall_m: 0.6632\n",
            "Epoch 82/100\n",
            "3367/3367 [==============================] - 10s 3ms/step - loss: 0.6998 - accuracy: 0.7410 - f1_m: 0.7447 - precision_m: 0.8542 - recall_m: 0.6630\n",
            "Epoch 83/100\n",
            "3367/3367 [==============================] - 10s 3ms/step - loss: 0.7020 - accuracy: 0.7408 - f1_m: 0.7434 - precision_m: 0.8529 - recall_m: 0.6617\n",
            "Epoch 84/100\n",
            "3367/3367 [==============================] - 10s 3ms/step - loss: 0.7000 - accuracy: 0.7418 - f1_m: 0.7451 - precision_m: 0.8529 - recall_m: 0.6642\n",
            "Epoch 85/100\n",
            "3367/3367 [==============================] - 10s 3ms/step - loss: 0.6920 - accuracy: 0.7440 - f1_m: 0.7464 - precision_m: 0.8564 - recall_m: 0.6644\n",
            "Epoch 86/100\n",
            "3367/3367 [==============================] - 10s 3ms/step - loss: 0.6983 - accuracy: 0.7426 - f1_m: 0.7453 - precision_m: 0.8564 - recall_m: 0.6626\n",
            "Epoch 87/100\n",
            "3367/3367 [==============================] - 10s 3ms/step - loss: 0.6963 - accuracy: 0.7432 - f1_m: 0.7453 - precision_m: 0.8551 - recall_m: 0.6633\n",
            "Epoch 88/100\n",
            "3367/3367 [==============================] - 10s 3ms/step - loss: 0.6977 - accuracy: 0.7415 - f1_m: 0.7451 - precision_m: 0.8534 - recall_m: 0.6641\n",
            "Epoch 89/100\n",
            "3367/3367 [==============================] - 10s 3ms/step - loss: 0.6948 - accuracy: 0.7434 - f1_m: 0.7457 - precision_m: 0.8520 - recall_m: 0.6656\n",
            "Epoch 90/100\n",
            "3367/3367 [==============================] - 10s 3ms/step - loss: 0.6984 - accuracy: 0.7431 - f1_m: 0.7453 - precision_m: 0.8528 - recall_m: 0.6649\n",
            "Epoch 91/100\n",
            "3367/3367 [==============================] - 10s 3ms/step - loss: 0.6875 - accuracy: 0.7460 - f1_m: 0.7483 - precision_m: 0.8562 - recall_m: 0.6674\n",
            "Epoch 92/100\n",
            "3367/3367 [==============================] - 10s 3ms/step - loss: 0.6915 - accuracy: 0.7451 - f1_m: 0.7475 - precision_m: 0.8587 - recall_m: 0.6646\n",
            "Epoch 93/100\n",
            "3367/3367 [==============================] - 10s 3ms/step - loss: 0.6952 - accuracy: 0.7413 - f1_m: 0.7445 - precision_m: 0.8524 - recall_m: 0.6636\n",
            "Epoch 94/100\n",
            "3367/3367 [==============================] - 10s 3ms/step - loss: 0.6923 - accuracy: 0.7445 - f1_m: 0.7479 - precision_m: 0.8545 - recall_m: 0.6678\n",
            "Epoch 95/100\n",
            "3367/3367 [==============================] - 10s 3ms/step - loss: 0.6966 - accuracy: 0.7407 - f1_m: 0.7449 - precision_m: 0.8515 - recall_m: 0.6647\n",
            "Epoch 96/100\n",
            "3367/3367 [==============================] - 10s 3ms/step - loss: 0.6906 - accuracy: 0.7454 - f1_m: 0.7485 - precision_m: 0.8550 - recall_m: 0.6684\n",
            "Epoch 97/100\n",
            "3367/3367 [==============================] - 10s 3ms/step - loss: 0.6899 - accuracy: 0.7434 - f1_m: 0.7470 - precision_m: 0.8556 - recall_m: 0.6658\n",
            "Epoch 98/100\n",
            "3367/3367 [==============================] - 10s 3ms/step - loss: 0.6924 - accuracy: 0.7431 - f1_m: 0.7473 - precision_m: 0.8552 - recall_m: 0.6664\n",
            "Epoch 99/100\n",
            "3367/3367 [==============================] - 10s 3ms/step - loss: 0.6947 - accuracy: 0.7418 - f1_m: 0.7456 - precision_m: 0.8525 - recall_m: 0.6654\n",
            "Epoch 100/100\n",
            "3367/3367 [==============================] - 10s 3ms/step - loss: 0.6911 - accuracy: 0.7461 - f1_m: 0.7495 - precision_m: 0.8571 - recall_m: 0.6683\n"
          ],
          "name": "stdout"
        }
      ]
    },
    {
      "cell_type": "code",
      "metadata": {
        "colab": {
          "base_uri": "https://localhost:8080/"
        },
        "id": "o0Hd9HY9TndD",
        "outputId": "14b9dea6-6154-452a-ee0b-d570bc09cfef"
      },
      "source": [
        "loss_NN10, accNN10, f1_score_NN10, precision_NN10, recall_NN10 = model.evaluate(X_test, y_test, verbose=True)\n",
        "print(\"Testing Accuracy: {:.4f}\".format(accNN10))\n",
        "print(\"Testing Precision: {:.4f}\".format(precision_NN10))\n",
        "print(\"Testing Recall: {:.4f}\".format(recall_NN10))\n",
        "print(\"Testing F1-Score: {:.4f}\".format(f1_score_NN10))"
      ],
      "execution_count": null,
      "outputs": [
        {
          "output_type": "stream",
          "text": [
            "2573/2573 [==============================] - 7s 3ms/step - loss: 1.1713 - accuracy: 0.7194 - f1_m: 0.7037 - precision_m: 0.8235 - recall_m: 0.6463\n",
            "Testing Accuracy: 0.7194\n",
            "Testing Precision: 0.8235\n",
            "Testing Recall: 0.6463\n",
            "Testing F1-Score: 0.7037\n"
          ],
          "name": "stdout"
        }
      ]
    },
    {
      "cell_type": "code",
      "metadata": {
        "colab": {
          "base_uri": "https://localhost:8080/"
        },
        "id": "-oTRe8GjYqO5",
        "outputId": "50ca8801-1bae-4b10-a00d-56c8044da7da"
      },
      "source": [
        "df2_xtrain.shape[1]"
      ],
      "execution_count": null,
      "outputs": [
        {
          "output_type": "execute_result",
          "data": {
            "text/plain": [
              "30"
            ]
          },
          "metadata": {
            "tags": []
          },
          "execution_count": 16
        }
      ]
    },
    {
      "cell_type": "code",
      "metadata": {
        "colab": {
          "base_uri": "https://localhost:8080/"
        },
        "id": "KylIZNhHsADu",
        "outputId": "2fa4e70c-bbd9-4897-8c97-3c517e36fda3"
      },
      "source": [
        "X = df2_xtrain\n",
        "Y = df2_ytrain\n",
        "C = df2_ytest\n",
        "T = df2_xtest\n",
        "scaler = Normalizer().fit(X)\n",
        "trainX = scaler.transform(X)\n",
        "\n",
        "scaler = Normalizer().fit(T)\n",
        "testT = scaler.transform(T)\n",
        "\n",
        "y_train1 = np.array(Y)\n",
        "y_test1 = np.array(C)\n",
        "\n",
        "y_train= to_categorical(y_train1)\n",
        "y_test= to_categorical(y_test1)\n",
        "\n",
        "\n",
        "# reshape input to be [samples, time steps, features]\n",
        "X_train = np.reshape(trainX, (trainX.shape[0],trainX.shape[1],1))\n",
        "X_test = np.reshape(testT, (testT.shape[0],testT.shape[1],1))\n",
        "\n",
        "\n",
        "from keras.models import Sequential\n",
        "from keras import layers\n",
        "\n",
        "input_dim = df2_xtrain.shape[1]  # Number of features\n",
        "\n",
        "model1 = Sequential()\n",
        "model1.add(layers.Dense(10, input_shape=(input_dim, 1), activation='relu'))\n",
        "model1.add(layers.Flatten())\n",
        "model1.add(layers.Dense(32, activation='relu'))\n",
        "model1.add(layers.Dense(10, activation='softmax'))\n",
        "\n",
        "model1.compile(loss='categorical_crossentropy', \n",
        "              optimizer='adam', \n",
        "              metrics=['accuracy',f1_m,precision_m, recall_m])\n",
        "model1.summary()"
      ],
      "execution_count": null,
      "outputs": [
        {
          "output_type": "stream",
          "text": [
            "Model: \"sequential_6\"\n",
            "_________________________________________________________________\n",
            "Layer (type)                 Output Shape              Param #   \n",
            "=================================================================\n",
            "dense_18 (Dense)             (None, 30, 10)            20        \n",
            "_________________________________________________________________\n",
            "flatten_6 (Flatten)          (None, 300)               0         \n",
            "_________________________________________________________________\n",
            "dense_19 (Dense)             (None, 32)                9632      \n",
            "_________________________________________________________________\n",
            "dense_20 (Dense)             (None, 10)                330       \n",
            "=================================================================\n",
            "Total params: 9,982\n",
            "Trainable params: 9,982\n",
            "Non-trainable params: 0\n",
            "_________________________________________________________________\n"
          ],
          "name": "stdout"
        }
      ]
    },
    {
      "cell_type": "code",
      "metadata": {
        "colab": {
          "base_uri": "https://localhost:8080/"
        },
        "id": "RJu8VqtSY7ZO",
        "outputId": "48bd9c55-b0c0-4003-c806-af46006f5f2b"
      },
      "source": [
        "historyNN20 = model1.fit(X_train, y_train,\n",
        "                    epochs=100)"
      ],
      "execution_count": null,
      "outputs": [
        {
          "output_type": "stream",
          "text": [
            "Epoch 1/100\n",
            "3367/3367 [==============================] - 10s 3ms/step - loss: 1.4399 - accuracy: 0.4881 - f1_m: 0.3436 - precision_m: 0.6399 - recall_m: 0.2620\n",
            "Epoch 2/100\n",
            "3367/3367 [==============================] - 10s 3ms/step - loss: 1.3525 - accuracy: 0.5059 - f1_m: 0.4016 - precision_m: 0.6503 - recall_m: 0.2979\n",
            "Epoch 3/100\n",
            "3367/3367 [==============================] - 10s 3ms/step - loss: 1.3474 - accuracy: 0.5058 - f1_m: 0.4008 - precision_m: 0.6643 - recall_m: 0.2932\n",
            "Epoch 4/100\n",
            "3367/3367 [==============================] - 10s 3ms/step - loss: 1.3445 - accuracy: 0.5036 - f1_m: 0.3887 - precision_m: 0.6982 - recall_m: 0.2764\n",
            "Epoch 5/100\n",
            "3367/3367 [==============================] - 10s 3ms/step - loss: 1.3272 - accuracy: 0.5056 - f1_m: 0.3950 - precision_m: 0.7235 - recall_m: 0.2776\n",
            "Epoch 6/100\n",
            "3367/3367 [==============================] - 10s 3ms/step - loss: 1.3184 - accuracy: 0.5079 - f1_m: 0.4090 - precision_m: 0.7683 - recall_m: 0.2860\n",
            "Epoch 7/100\n",
            "3367/3367 [==============================] - 10s 3ms/step - loss: 1.3044 - accuracy: 0.5060 - f1_m: 0.4216 - precision_m: 0.8095 - recall_m: 0.2922\n",
            "Epoch 8/100\n",
            "3367/3367 [==============================] - 10s 3ms/step - loss: 1.2886 - accuracy: 0.5074 - f1_m: 0.4357 - precision_m: 0.8343 - recall_m: 0.3019\n",
            "Epoch 9/100\n",
            "3367/3367 [==============================] - 10s 3ms/step - loss: 1.2681 - accuracy: 0.5111 - f1_m: 0.4413 - precision_m: 0.8571 - recall_m: 0.3033\n",
            "Epoch 10/100\n",
            "3367/3367 [==============================] - 10s 3ms/step - loss: 1.2569 - accuracy: 0.5120 - f1_m: 0.4464 - precision_m: 0.8736 - recall_m: 0.3059\n",
            "Epoch 11/100\n",
            "3367/3367 [==============================] - 10s 3ms/step - loss: 1.2483 - accuracy: 0.5154 - f1_m: 0.4503 - precision_m: 0.8799 - recall_m: 0.3085\n",
            "Epoch 12/100\n",
            "3367/3367 [==============================] - 10s 3ms/step - loss: 1.2314 - accuracy: 0.5191 - f1_m: 0.4577 - precision_m: 0.8869 - recall_m: 0.3147\n",
            "Epoch 13/100\n",
            "3367/3367 [==============================] - 10s 3ms/step - loss: 1.2302 - accuracy: 0.5188 - f1_m: 0.4571 - precision_m: 0.8946 - recall_m: 0.3130\n",
            "Epoch 14/100\n",
            "3367/3367 [==============================] - 10s 3ms/step - loss: 1.2244 - accuracy: 0.5224 - f1_m: 0.4606 - precision_m: 0.8954 - recall_m: 0.3162\n",
            "Epoch 15/100\n",
            "3367/3367 [==============================] - 10s 3ms/step - loss: 1.2203 - accuracy: 0.5271 - f1_m: 0.4606 - precision_m: 0.8988 - recall_m: 0.3155\n",
            "Epoch 16/100\n",
            "3367/3367 [==============================] - 10s 3ms/step - loss: 1.2161 - accuracy: 0.5275 - f1_m: 0.4590 - precision_m: 0.9021 - recall_m: 0.3141\n",
            "Epoch 17/100\n",
            "3367/3367 [==============================] - 10s 3ms/step - loss: 1.2089 - accuracy: 0.5356 - f1_m: 0.4594 - precision_m: 0.9001 - recall_m: 0.3144\n",
            "Epoch 18/100\n",
            "3367/3367 [==============================] - 10s 3ms/step - loss: 1.1940 - accuracy: 0.5392 - f1_m: 0.4662 - precision_m: 0.8989 - recall_m: 0.3207\n",
            "Epoch 19/100\n",
            "3367/3367 [==============================] - 10s 3ms/step - loss: 1.2035 - accuracy: 0.5353 - f1_m: 0.4599 - precision_m: 0.8991 - recall_m: 0.3151\n",
            "Epoch 20/100\n",
            "3367/3367 [==============================] - 10s 3ms/step - loss: 1.1906 - accuracy: 0.5380 - f1_m: 0.4651 - precision_m: 0.8984 - recall_m: 0.3194\n",
            "Epoch 21/100\n",
            "3367/3367 [==============================] - 10s 3ms/step - loss: 1.1902 - accuracy: 0.5382 - f1_m: 0.4633 - precision_m: 0.8878 - recall_m: 0.3199\n",
            "Epoch 22/100\n",
            "3367/3367 [==============================] - 10s 3ms/step - loss: 1.1817 - accuracy: 0.5385 - f1_m: 0.4693 - precision_m: 0.8887 - recall_m: 0.3253\n",
            "Epoch 23/100\n",
            "3367/3367 [==============================] - 10s 3ms/step - loss: 1.1860 - accuracy: 0.5367 - f1_m: 0.4678 - precision_m: 0.8911 - recall_m: 0.3231\n",
            "Epoch 24/100\n",
            "3367/3367 [==============================] - 10s 3ms/step - loss: 1.1797 - accuracy: 0.5389 - f1_m: 0.4695 - precision_m: 0.8853 - recall_m: 0.3259\n",
            "Epoch 25/100\n",
            "3367/3367 [==============================] - 10s 3ms/step - loss: 1.1785 - accuracy: 0.5405 - f1_m: 0.4717 - precision_m: 0.8816 - recall_m: 0.3283\n",
            "Epoch 26/100\n",
            "3367/3367 [==============================] - 10s 3ms/step - loss: 1.1794 - accuracy: 0.5413 - f1_m: 0.4713 - precision_m: 0.8861 - recall_m: 0.3270\n",
            "Epoch 27/100\n",
            "3367/3367 [==============================] - 10s 3ms/step - loss: 1.1873 - accuracy: 0.5371 - f1_m: 0.4688 - precision_m: 0.8746 - recall_m: 0.3263\n",
            "Epoch 28/100\n",
            "3367/3367 [==============================] - 10s 3ms/step - loss: 1.1853 - accuracy: 0.5387 - f1_m: 0.4719 - precision_m: 0.8775 - recall_m: 0.3294\n",
            "Epoch 29/100\n",
            "3367/3367 [==============================] - 10s 3ms/step - loss: 1.1720 - accuracy: 0.5381 - f1_m: 0.4823 - precision_m: 0.8771 - recall_m: 0.3387\n",
            "Epoch 30/100\n",
            "3367/3367 [==============================] - 10s 3ms/step - loss: 1.1785 - accuracy: 0.5375 - f1_m: 0.4761 - precision_m: 0.8901 - recall_m: 0.3318\n",
            "Epoch 31/100\n",
            "3367/3367 [==============================] - 10s 3ms/step - loss: 1.1718 - accuracy: 0.5400 - f1_m: 0.4790 - precision_m: 0.8912 - recall_m: 0.3338\n",
            "Epoch 32/100\n",
            "3367/3367 [==============================] - 10s 3ms/step - loss: 1.1560 - accuracy: 0.5441 - f1_m: 0.4931 - precision_m: 0.8910 - recall_m: 0.3472\n",
            "Epoch 33/100\n",
            "3367/3367 [==============================] - 10s 3ms/step - loss: 1.1575 - accuracy: 0.5425 - f1_m: 0.4898 - precision_m: 0.8866 - recall_m: 0.3450\n",
            "Epoch 34/100\n",
            "3367/3367 [==============================] - 10s 3ms/step - loss: 1.1489 - accuracy: 0.5431 - f1_m: 0.4964 - precision_m: 0.8882 - recall_m: 0.3504\n",
            "Epoch 35/100\n",
            "3367/3367 [==============================] - 10s 3ms/step - loss: 1.1484 - accuracy: 0.5473 - f1_m: 0.4984 - precision_m: 0.8832 - recall_m: 0.3533\n",
            "Epoch 36/100\n",
            "3367/3367 [==============================] - 10s 3ms/step - loss: 1.1471 - accuracy: 0.5501 - f1_m: 0.4955 - precision_m: 0.8870 - recall_m: 0.3497\n",
            "Epoch 37/100\n",
            "3367/3367 [==============================] - 10s 3ms/step - loss: 1.1346 - accuracy: 0.5532 - f1_m: 0.5014 - precision_m: 0.8816 - recall_m: 0.3558\n",
            "Epoch 38/100\n",
            "3367/3367 [==============================] - 10s 3ms/step - loss: 1.1315 - accuracy: 0.5572 - f1_m: 0.5035 - precision_m: 0.8814 - recall_m: 0.3586\n",
            "Epoch 39/100\n",
            "3367/3367 [==============================] - 10s 3ms/step - loss: 1.1377 - accuracy: 0.5524 - f1_m: 0.5008 - precision_m: 0.8785 - recall_m: 0.3568\n",
            "Epoch 40/100\n",
            "3367/3367 [==============================] - 10s 3ms/step - loss: 1.1334 - accuracy: 0.5554 - f1_m: 0.5074 - precision_m: 0.8792 - recall_m: 0.3625\n",
            "Epoch 41/100\n",
            "3367/3367 [==============================] - 10s 3ms/step - loss: 1.1306 - accuracy: 0.5550 - f1_m: 0.5086 - precision_m: 0.8788 - recall_m: 0.3635\n",
            "Epoch 42/100\n",
            "3367/3367 [==============================] - 10s 3ms/step - loss: 1.1297 - accuracy: 0.5529 - f1_m: 0.5070 - precision_m: 0.8769 - recall_m: 0.3627\n",
            "Epoch 43/100\n",
            "3367/3367 [==============================] - 10s 3ms/step - loss: 1.1332 - accuracy: 0.5537 - f1_m: 0.4999 - precision_m: 0.8883 - recall_m: 0.3541\n",
            "Epoch 44/100\n",
            "3367/3367 [==============================] - 10s 3ms/step - loss: 1.1375 - accuracy: 0.5532 - f1_m: 0.5045 - precision_m: 0.8767 - recall_m: 0.3602\n",
            "Epoch 45/100\n",
            "3367/3367 [==============================] - 10s 3ms/step - loss: 1.1286 - accuracy: 0.5539 - f1_m: 0.5053 - precision_m: 0.8793 - recall_m: 0.3606\n",
            "Epoch 46/100\n",
            "3367/3367 [==============================] - 10s 3ms/step - loss: 1.1279 - accuracy: 0.5547 - f1_m: 0.5083 - precision_m: 0.8723 - recall_m: 0.3644\n",
            "Epoch 47/100\n",
            "3367/3367 [==============================] - 10s 3ms/step - loss: 1.1286 - accuracy: 0.5539 - f1_m: 0.5098 - precision_m: 0.8711 - recall_m: 0.3660\n",
            "Epoch 48/100\n",
            "3367/3367 [==============================] - 10s 3ms/step - loss: 1.1293 - accuracy: 0.5547 - f1_m: 0.5104 - precision_m: 0.8694 - recall_m: 0.3674\n",
            "Epoch 49/100\n",
            "3367/3367 [==============================] - 10s 3ms/step - loss: 1.1327 - accuracy: 0.5512 - f1_m: 0.5060 - precision_m: 0.8639 - recall_m: 0.3635\n",
            "Epoch 50/100\n",
            "3367/3367 [==============================] - 10s 3ms/step - loss: 1.1169 - accuracy: 0.5571 - f1_m: 0.5132 - precision_m: 0.8644 - recall_m: 0.3712\n",
            "Epoch 51/100\n",
            "3367/3367 [==============================] - 10s 3ms/step - loss: 1.1189 - accuracy: 0.5572 - f1_m: 0.5137 - precision_m: 0.8671 - recall_m: 0.3705\n",
            "Epoch 52/100\n",
            "3367/3367 [==============================] - 10s 3ms/step - loss: 1.1146 - accuracy: 0.5607 - f1_m: 0.5162 - precision_m: 0.8656 - recall_m: 0.3744\n",
            "Epoch 53/100\n",
            "3367/3367 [==============================] - 10s 3ms/step - loss: 1.1140 - accuracy: 0.5578 - f1_m: 0.5141 - precision_m: 0.8669 - recall_m: 0.3714\n",
            "Epoch 54/100\n",
            "3367/3367 [==============================] - 10s 3ms/step - loss: 1.1166 - accuracy: 0.5581 - f1_m: 0.5177 - precision_m: 0.8649 - recall_m: 0.3747\n",
            "Epoch 55/100\n",
            "3367/3367 [==============================] - 10s 3ms/step - loss: 1.1207 - accuracy: 0.5564 - f1_m: 0.5116 - precision_m: 0.8647 - recall_m: 0.3690\n",
            "Epoch 56/100\n",
            "3367/3367 [==============================] - 10s 3ms/step - loss: 1.1143 - accuracy: 0.5581 - f1_m: 0.5164 - precision_m: 0.8636 - recall_m: 0.3741\n",
            "Epoch 57/100\n",
            "3367/3367 [==============================] - 10s 3ms/step - loss: 1.1084 - accuracy: 0.5580 - f1_m: 0.5206 - precision_m: 0.8626 - recall_m: 0.3787\n",
            "Epoch 58/100\n",
            "3367/3367 [==============================] - 10s 3ms/step - loss: 1.1149 - accuracy: 0.5559 - f1_m: 0.5165 - precision_m: 0.8679 - recall_m: 0.3730\n",
            "Epoch 59/100\n",
            "3367/3367 [==============================] - 10s 3ms/step - loss: 1.1160 - accuracy: 0.5581 - f1_m: 0.5146 - precision_m: 0.8668 - recall_m: 0.3716\n",
            "Epoch 60/100\n",
            "3367/3367 [==============================] - 10s 3ms/step - loss: 1.1164 - accuracy: 0.5545 - f1_m: 0.5107 - precision_m: 0.8647 - recall_m: 0.3679\n",
            "Epoch 61/100\n",
            "3367/3367 [==============================] - 10s 3ms/step - loss: 1.1176 - accuracy: 0.5567 - f1_m: 0.5171 - precision_m: 0.8691 - recall_m: 0.3736\n",
            "Epoch 62/100\n",
            "3367/3367 [==============================] - 10s 3ms/step - loss: 1.1119 - accuracy: 0.5583 - f1_m: 0.5159 - precision_m: 0.8659 - recall_m: 0.3735\n",
            "Epoch 63/100\n",
            "3367/3367 [==============================] - 10s 3ms/step - loss: 1.1130 - accuracy: 0.5568 - f1_m: 0.5156 - precision_m: 0.8651 - recall_m: 0.3728\n",
            "Epoch 64/100\n",
            "3367/3367 [==============================] - 10s 3ms/step - loss: 1.1106 - accuracy: 0.5555 - f1_m: 0.5172 - precision_m: 0.8689 - recall_m: 0.3734\n",
            "Epoch 65/100\n",
            "3367/3367 [==============================] - 10s 3ms/step - loss: 1.1149 - accuracy: 0.5573 - f1_m: 0.5180 - precision_m: 0.8614 - recall_m: 0.3758\n",
            "Epoch 66/100\n",
            "3367/3367 [==============================] - 10s 3ms/step - loss: 1.1110 - accuracy: 0.5592 - f1_m: 0.5184 - precision_m: 0.8643 - recall_m: 0.3756\n",
            "Epoch 67/100\n",
            "3367/3367 [==============================] - 10s 3ms/step - loss: 1.1077 - accuracy: 0.5593 - f1_m: 0.5209 - precision_m: 0.8633 - recall_m: 0.3785\n",
            "Epoch 68/100\n",
            "3367/3367 [==============================] - 10s 3ms/step - loss: 1.1070 - accuracy: 0.5569 - f1_m: 0.5180 - precision_m: 0.8684 - recall_m: 0.3747\n",
            "Epoch 69/100\n",
            "3367/3367 [==============================] - 10s 3ms/step - loss: 1.1056 - accuracy: 0.5600 - f1_m: 0.5197 - precision_m: 0.8646 - recall_m: 0.3768\n",
            "Epoch 70/100\n",
            "3367/3367 [==============================] - 10s 3ms/step - loss: 1.1080 - accuracy: 0.5614 - f1_m: 0.5181 - precision_m: 0.8679 - recall_m: 0.3743\n",
            "Epoch 71/100\n",
            "3367/3367 [==============================] - 10s 3ms/step - loss: 1.1068 - accuracy: 0.5590 - f1_m: 0.5190 - precision_m: 0.8676 - recall_m: 0.3755\n",
            "Epoch 72/100\n",
            "3367/3367 [==============================] - 10s 3ms/step - loss: 1.1075 - accuracy: 0.5577 - f1_m: 0.5206 - precision_m: 0.8724 - recall_m: 0.3767\n",
            "Epoch 73/100\n",
            "3367/3367 [==============================] - 10s 3ms/step - loss: 1.1102 - accuracy: 0.5581 - f1_m: 0.5209 - precision_m: 0.8663 - recall_m: 0.3777\n",
            "Epoch 74/100\n",
            "3367/3367 [==============================] - 10s 3ms/step - loss: 1.1023 - accuracy: 0.5604 - f1_m: 0.5198 - precision_m: 0.8659 - recall_m: 0.3764\n",
            "Epoch 75/100\n",
            "3367/3367 [==============================] - 10s 3ms/step - loss: 1.1116 - accuracy: 0.5568 - f1_m: 0.5183 - precision_m: 0.8739 - recall_m: 0.3735\n",
            "Epoch 76/100\n",
            "3367/3367 [==============================] - 10s 3ms/step - loss: 1.1014 - accuracy: 0.5604 - f1_m: 0.5218 - precision_m: 0.8670 - recall_m: 0.3786\n",
            "Epoch 77/100\n",
            "3367/3367 [==============================] - 10s 3ms/step - loss: 1.1055 - accuracy: 0.5570 - f1_m: 0.5193 - precision_m: 0.8692 - recall_m: 0.3757\n",
            "Epoch 78/100\n",
            "3367/3367 [==============================] - 10s 3ms/step - loss: 1.1048 - accuracy: 0.5613 - f1_m: 0.5176 - precision_m: 0.8694 - recall_m: 0.3740\n",
            "Epoch 79/100\n",
            "3367/3367 [==============================] - 10s 3ms/step - loss: 1.1053 - accuracy: 0.5595 - f1_m: 0.5213 - precision_m: 0.8669 - recall_m: 0.3779\n",
            "Epoch 80/100\n",
            "3367/3367 [==============================] - 10s 3ms/step - loss: 1.1041 - accuracy: 0.5623 - f1_m: 0.5201 - precision_m: 0.8679 - recall_m: 0.3767\n",
            "Epoch 81/100\n",
            "3367/3367 [==============================] - 10s 3ms/step - loss: 1.1024 - accuracy: 0.5635 - f1_m: 0.5208 - precision_m: 0.8721 - recall_m: 0.3767\n",
            "Epoch 82/100\n",
            "3367/3367 [==============================] - 10s 3ms/step - loss: 1.0964 - accuracy: 0.5626 - f1_m: 0.5246 - precision_m: 0.8726 - recall_m: 0.3809\n",
            "Epoch 83/100\n",
            "3367/3367 [==============================] - 10s 3ms/step - loss: 1.1033 - accuracy: 0.5590 - f1_m: 0.5205 - precision_m: 0.8712 - recall_m: 0.3766\n",
            "Epoch 84/100\n",
            "3367/3367 [==============================] - 10s 3ms/step - loss: 1.1027 - accuracy: 0.5601 - f1_m: 0.5194 - precision_m: 0.8739 - recall_m: 0.3750\n",
            "Epoch 85/100\n",
            "3367/3367 [==============================] - 10s 3ms/step - loss: 1.1031 - accuracy: 0.5607 - f1_m: 0.5196 - precision_m: 0.8715 - recall_m: 0.3753\n",
            "Epoch 86/100\n",
            "3367/3367 [==============================] - 10s 3ms/step - loss: 1.1059 - accuracy: 0.5596 - f1_m: 0.5212 - precision_m: 0.8684 - recall_m: 0.3774\n",
            "Epoch 87/100\n",
            "3367/3367 [==============================] - 10s 3ms/step - loss: 1.1037 - accuracy: 0.5597 - f1_m: 0.5192 - precision_m: 0.8740 - recall_m: 0.3743\n",
            "Epoch 88/100\n",
            "3367/3367 [==============================] - 10s 3ms/step - loss: 1.0985 - accuracy: 0.5619 - f1_m: 0.5189 - precision_m: 0.8725 - recall_m: 0.3748\n",
            "Epoch 89/100\n",
            "3367/3367 [==============================] - 10s 3ms/step - loss: 1.1016 - accuracy: 0.5598 - f1_m: 0.5215 - precision_m: 0.8748 - recall_m: 0.3768\n",
            "Epoch 90/100\n",
            "3367/3367 [==============================] - 10s 3ms/step - loss: 1.0974 - accuracy: 0.5661 - f1_m: 0.5232 - precision_m: 0.8774 - recall_m: 0.3779\n",
            "Epoch 91/100\n",
            "3367/3367 [==============================] - 10s 3ms/step - loss: 1.1021 - accuracy: 0.5603 - f1_m: 0.5214 - precision_m: 0.8683 - recall_m: 0.3783\n",
            "Epoch 92/100\n",
            "3367/3367 [==============================] - 10s 3ms/step - loss: 1.1044 - accuracy: 0.5620 - f1_m: 0.5196 - precision_m: 0.8726 - recall_m: 0.3754\n",
            "Epoch 93/100\n",
            "3367/3367 [==============================] - 10s 3ms/step - loss: 1.0976 - accuracy: 0.5619 - f1_m: 0.5209 - precision_m: 0.8787 - recall_m: 0.3753\n",
            "Epoch 94/100\n",
            "3367/3367 [==============================] - 10s 3ms/step - loss: 1.1002 - accuracy: 0.5631 - f1_m: 0.5206 - precision_m: 0.8731 - recall_m: 0.3758\n",
            "Epoch 95/100\n",
            "3367/3367 [==============================] - 10s 3ms/step - loss: 1.1050 - accuracy: 0.5595 - f1_m: 0.5178 - precision_m: 0.8726 - recall_m: 0.3730\n",
            "Epoch 96/100\n",
            "3367/3367 [==============================] - 10s 3ms/step - loss: 1.1007 - accuracy: 0.5616 - f1_m: 0.5187 - precision_m: 0.8755 - recall_m: 0.3740\n",
            "Epoch 97/100\n",
            "3367/3367 [==============================] - 10s 3ms/step - loss: 1.1020 - accuracy: 0.5605 - f1_m: 0.5244 - precision_m: 0.8714 - recall_m: 0.3807\n",
            "Epoch 98/100\n",
            "3367/3367 [==============================] - 10s 3ms/step - loss: 1.1022 - accuracy: 0.5600 - f1_m: 0.5206 - precision_m: 0.8736 - recall_m: 0.3762\n",
            "Epoch 99/100\n",
            "3367/3367 [==============================] - 10s 3ms/step - loss: 1.0998 - accuracy: 0.5618 - f1_m: 0.5211 - precision_m: 0.8733 - recall_m: 0.3769\n",
            "Epoch 100/100\n",
            "3367/3367 [==============================] - 10s 3ms/step - loss: 1.1012 - accuracy: 0.5632 - f1_m: 0.5209 - precision_m: 0.8755 - recall_m: 0.3760\n"
          ],
          "name": "stdout"
        }
      ]
    },
    {
      "cell_type": "code",
      "metadata": {
        "colab": {
          "base_uri": "https://localhost:8080/"
        },
        "id": "0TABFy0uZKkA",
        "outputId": "ca6cec46-24b7-44a7-9214-3826aaabcda5"
      },
      "source": [
        "loss20, accNN20, f1_score_NN20, precision_NN20, recall_NN20 = model1.evaluate(X_test, y_test, verbose=True)\n",
        "print(\"Testing Accuracy: {:.4f}\".format(accNN20))\n",
        "print(\"Testing Precision: {:.4f}\".format(precision_NN20))\n",
        "print(\"Testing Recall: {:.4f}\".format(recall_NN20))\n",
        "print(\"Testing F1-Score: {:.4f}\".format(f1_score_NN20))"
      ],
      "execution_count": null,
      "outputs": [
        {
          "output_type": "stream",
          "text": [
            "2573/2573 [==============================] - 7s 3ms/step - loss: 1.0383 - accuracy: 0.5858 - f1_m: 0.4926 - precision_m: 0.7067 - recall_m: 0.4323\n",
            "Testing Accuracy: 0.5858\n",
            "Testing Precision: 0.7067\n",
            "Testing Recall: 0.4323\n",
            "Testing F1-Score: 0.4926\n"
          ],
          "name": "stdout"
        }
      ]
    },
    {
      "cell_type": "code",
      "metadata": {
        "colab": {
          "background_save": true
        },
        "id": "Sjw5nrgHymBD",
        "outputId": "980649a4-853e-4096-807e-329993e6f6e6"
      },
      "source": [
        "X = df3_xtrain\n",
        "Y = df3_ytrain\n",
        "C = df3_ytest\n",
        "T = df3_xtest\n",
        "scaler = Normalizer().fit(X)\n",
        "trainX = scaler.transform(X)\n",
        "\n",
        "scaler = Normalizer().fit(T)\n",
        "testT = scaler.transform(T)\n",
        "\n",
        "y_train1 = np.array(Y)\n",
        "y_test1 = np.array(C)\n",
        "\n",
        "y_train= to_categorical(y_train1)\n",
        "y_test= to_categorical(y_test1)\n",
        "\n",
        "\n",
        "# reshape input to be [samples, time steps, features]\n",
        "X_train = np.reshape(trainX, (trainX.shape[0],trainX.shape[1],1))\n",
        "X_test = np.reshape(testT, (testT.shape[0],testT.shape[1],1))\n",
        "\n",
        "\n",
        "from keras.models import Sequential\n",
        "from keras import layers\n",
        "\n",
        "input_dim = df3_xtrain.shape[1]  # Number of features\n",
        "\n",
        "model2 = Sequential()\n",
        "model2.add(layers.Dense(10, input_shape=(input_dim, 1), activation='relu'))\n",
        "model2.add(layers.Flatten())\n",
        "model2.add(layers.Dense(32, activation='relu'))\n",
        "model2.add(layers.Dense(10, activation='softmax'))\n",
        "\n",
        "model2.compile(loss='categorical_crossentropy', \n",
        "              optimizer='adam', \n",
        "              metrics=['accuracy',f1_m,precision_m, recall_m])\n",
        "model2.summary()"
      ],
      "execution_count": null,
      "outputs": [
        {
          "output_type": "stream",
          "text": [
            "Model: \"sequential_8\"\n",
            "_________________________________________________________________\n",
            "Layer (type)                 Output Shape              Param #   \n",
            "=================================================================\n",
            "dense_24 (Dense)             (None, 42, 10)            20        \n",
            "_________________________________________________________________\n",
            "flatten_8 (Flatten)          (None, 420)               0         \n",
            "_________________________________________________________________\n",
            "dense_25 (Dense)             (None, 32)                13472     \n",
            "_________________________________________________________________\n",
            "dense_26 (Dense)             (None, 10)                330       \n",
            "=================================================================\n",
            "Total params: 13,822\n",
            "Trainable params: 13,822\n",
            "Non-trainable params: 0\n",
            "_________________________________________________________________\n"
          ],
          "name": "stdout"
        }
      ]
    },
    {
      "cell_type": "code",
      "metadata": {
        "id": "ZT04KLCNymJi"
      },
      "source": [
        "historyNNall = model2.fit(X_train, y_train,\n",
        "                    epochs=100)"
      ],
      "execution_count": null,
      "outputs": []
    },
    {
      "cell_type": "code",
      "metadata": {
        "id": "ztGpRsQzymQ2"
      },
      "source": [
        "loss_NNall, accNNall, f1_score_NNall, precision_NNall, recall_NNall = model2.evaluate(X_test, y_test, verbose=True)\n",
        "print(\"Testing Accuracy: {:.4f}\".format(accNNall))\n",
        "print(\"Testing Precision: {:.4f}\".format(precision_NNall))\n",
        "print(\"Testing Recall: {:.4f}\".format(recall_NNall))\n",
        "print(\"Testing F1-Score: {:.4f}\".format(f1_score_NNall))"
      ],
      "execution_count": null,
      "outputs": []
    },
    {
      "cell_type": "code",
      "metadata": {
        "id": "CS0Gt8XauZ5P"
      },
      "source": [
        "#Ada Boost with DT\n",
        "from sklearn.ensemble import AdaBoostClassifier\n"
      ],
      "execution_count": null,
      "outputs": []
    },
    {
      "cell_type": "code",
      "metadata": {
        "colab": {
          "base_uri": "https://localhost:8080/"
        },
        "id": "6tc7MPIluZ9m",
        "outputId": "a0849d27-bddb-453a-b236-a868462df861"
      },
      "source": [
        "print (\"\\t\\tAdaBoost using Decision Tree Analysis of UNSW NB15\\n\\n\\t\\tTop 15 Features \")\n",
        "\n",
        "\n",
        "\n",
        "abc10 = AdaBoostClassifier(DecisionTreeClassifier(max_depth=3), algorithm=\"SAMME\", n_estimators=500)\n",
        "abc10.fit(df1_xtrain, df1_ytrain)\n",
        "\n",
        "#Predict the response for test dataset\n",
        "y_pred_Ada10 = abc10.predict(df1_xtest)\n",
        "\n",
        "\n",
        "results_Ada10 = confusion_matrix(df1_ytest, y_pred_Ada10) \n",
        "print ('Confusion Matrix :')\n",
        "print(results_Ada10) \n",
        "\n",
        "accabc10=accuracy_score(df1_ytest, y_pred_Ada10)\n",
        "preabc10=precision_score(df1_ytest, y_pred_Ada10, average='macro')\n",
        "f1abc10=f1_score(df1_ytest, y_pred_Ada10, average='macro')\n",
        "reabc10=recall_score(df1_ytest, y_pred_Ada10, average='macro')\n",
        "\n",
        "print ('Accuracy Score :', accabc10)\n",
        "print(\"Precision Score: \",preabc10)\n",
        "print(\"F1 Score: \",f1abc10)\n",
        "print(\"Recall: \",reabc10)"
      ],
      "execution_count": null,
      "outputs": [
        {
          "output_type": "stream",
          "text": [
            "\t\tAdaBoost using Decision Tree Analysis of UNSW NB15\n",
            "\n",
            "\t\tTop 15 Features \n",
            "Confusion Matrix :\n",
            "[[  281     4    60    51   206     0    62    13     0     0]\n",
            " [  179     6    61    97   214     1     8    13     4     0]\n",
            " [ 1862   134   237   854   525    69   168   200    38     2]\n",
            " [ 1854   155   390  6189   859   253   868   517    44     3]\n",
            " [  539    12   134   370  1076     2  3825    66    36     2]\n",
            " [   12     2    53   804    41 17845    89    15    10     0]\n",
            " [  440    23   170   908  3039    18 32249    20   127     6]\n",
            " [  216    28    22   196    78     7    87  2842    20     0]\n",
            " [    0     0    25    50    44     0    45    15   199     0]\n",
            " [    0     1     0    31     4     3     1     0     2     2]]\n",
            "Accuracy Score : 0.7400038867026186\n",
            "Precision Score:  0.42578770530222565\n",
            "F1 Score:  0.4122602194938225\n",
            "Recall:  0.4418846498278154\n"
          ],
          "name": "stdout"
        }
      ]
    },
    {
      "cell_type": "code",
      "metadata": {
        "colab": {
          "base_uri": "https://localhost:8080/"
        },
        "id": "qWHpLmjVuaML",
        "outputId": "3a26ec00-ff4f-4c45-cbdb-c118fe2b0254"
      },
      "source": [
        "print (\"\\t\\tAdaBoost using DT Analysis of UNSW-NB15\\n\\n\\t\\tTop 30 Features \")\n",
        "\n",
        "abc20 = AdaBoostClassifier(DecisionTreeClassifier(max_depth=3), algorithm=\"SAMME\",n_estimators=500)\n",
        "abc20.fit(df2_xtrain, df2_ytrain)\n",
        "\n",
        "y_pred_Ada20 = abc20.predict(df2_xtest)\n",
        "\n",
        "\n",
        "\n",
        "results_Ada10 = confusion_matrix(df2_ytest, y_pred_Ada20) \n",
        "print ('Confusion Matrix :')\n",
        "print(results_Ada10) \n",
        "\n",
        "accabc20=accuracy_score(df2_ytest, y_pred_Ada20)\n",
        "preabc20=precision_score(df2_ytest, y_pred_Ada20, average='macro')\n",
        "f1abc20=f1_score(df2_ytest, y_pred_Ada20, average='macro')\n",
        "reabc20=recall_score(df2_ytest, y_pred_Ada20, average='macro')\n",
        "\n",
        "print ('Accuracy Score :', accabc20)\n",
        "print(\"Precision Score: \",preabc20)\n",
        "print(\"F1 Score: \",f1abc20)\n",
        "print(\"Recall: \",reabc20)\n"
      ],
      "execution_count": null,
      "outputs": [
        {
          "output_type": "stream",
          "text": [
            "\t\tAdaBoost using DT Analysis of UNSW-NB15\n",
            "\n",
            "\t\tTop 30 Features \n",
            "Confusion Matrix :\n",
            "[[  424    57     3    18    44     0    55    76     0     0]\n",
            " [  359    45    15    24    51    11     4    71     3     0]\n",
            " [ 1378   689   331   926   328    32   108   252    39     6]\n",
            " [ 1640   687  1031  6096   478   219   363   553    40    25]\n",
            " [  826   133    82   151  1658    11  2933   194    53    21]\n",
            " [   13     6   260   370    56 18059    87     7    12     1]\n",
            " [  658     6   307   638  5201    27 30030    14   101    18]\n",
            " [  133   110    59   241    86     7    34  2820     5     1]\n",
            " [    0     2    36    54    45     0    36    12   193     0]\n",
            " [    0     0     5    31     2     2     2     0     0     2]]\n",
            "Accuracy Score : 0.7246028275761551\n",
            "Precision Score:  0.42216095049288327\n",
            "F1 Score:  0.42151037141227066\n",
            "Recall:  0.4736811250635452\n"
          ],
          "name": "stdout"
        }
      ]
    },
    {
      "cell_type": "code",
      "metadata": {
        "colab": {
          "base_uri": "https://localhost:8080/"
        },
        "id": "0EdgdNfGuaUk",
        "outputId": "289e09fb-f0c7-476e-cfcf-23b9aa215e77"
      },
      "source": [
        "print (\"\\t\\tAdaBoost using DT Analysis of UNSW-NB15\\n\\n\\t\\tAll Features \")\n",
        "\n",
        "abcall = AdaBoostClassifier(DecisionTreeClassifier(max_depth=3),\n",
        "                         algorithm=\"SAMME\",\n",
        "                         n_estimators=500)\n",
        "\n",
        "abcall.fit(df3_xtrain,df3_ytrain)\n",
        "\n",
        "y_pred_Adaall = abcall.predict(df3_xtest)\n",
        "\n",
        "results_Adaall = confusion_matrix(df3_ytest, y_pred_Adaall) \n",
        "print ('Confusion Matrix :')\n",
        "print(results_Adaall)\n",
        "\n",
        "accabcall=accuracy_score(df3_ytest, y_pred_Adaall)\n",
        "preabcall=precision_score(df3_ytest, y_pred_Adaall, average='macro')\n",
        "f1abcall=f1_score(df3_ytest, y_pred_Adaall, average='macro')\n",
        "reabcall=recall_score(df3_ytest, y_pred_Adaall, average='macro')\n",
        "\n",
        "print ('Accuracy Score :', accabcall)\n",
        "print(\"Precision Score: \",preabcall)\n",
        "print(\"F1 Score: \",f1abcall)\n",
        "print(\"Recall: \",reabcall)"
      ],
      "execution_count": null,
      "outputs": [
        {
          "output_type": "stream",
          "text": [
            "\t\tAdaBoost using DT Analysis of UNSW-NB15\n",
            "\n",
            "\t\tAll Features \n",
            "Confusion Matrix :\n",
            "[[  249    47   164    14    21    34    26   122     0     0]\n",
            " [  187    89   159    23    26    10     0    89     0     0]\n",
            " [  975   503   493   589   129   142   137  1121     0     0]\n",
            " [ 1494   832   956  3549   150   892  1295  1963     0     1]\n",
            " [  441   648   725  1154  1237   998   233   626     0     0]\n",
            " [   13    42    75   355     6 14064    41  4275     0     0]\n",
            " [ 2176  1236  1999  4353  5753  1290 15577  4616     0     0]\n",
            " [   85   128    52    69    20    14     2  3126     0     0]\n",
            " [    0    67    72   168     6     0     0    65     0     0]\n",
            " [    0     0     5     9     0     1     0    29     0     0]]\n",
            "Accuracy Score : 0.46620997910897344\n",
            "Precision Score:  0.2588463213023677\n",
            "F1 Score:  0.24181574020965085\n",
            "Recall:  0.3224329134995701\n"
          ],
          "name": "stdout"
        },
        {
          "output_type": "stream",
          "text": [
            "/usr/local/lib/python3.7/dist-packages/sklearn/metrics/_classification.py:1272: UndefinedMetricWarning:\n",
            "\n",
            "Precision is ill-defined and being set to 0.0 in labels with no predicted samples. Use `zero_division` parameter to control this behavior.\n",
            "\n"
          ],
          "name": "stderr"
        }
      ]
    },
    {
      "cell_type": "code",
      "metadata": {
        "id": "Fbwdx6KnI4wX"
      },
      "source": [
        ""
      ],
      "execution_count": null,
      "outputs": []
    },
    {
      "cell_type": "code",
      "metadata": {
        "colab": {
          "base_uri": "https://localhost:8080/"
        },
        "id": "i_Sou9aPI9np",
        "outputId": "b3b5788b-d52d-4fc1-8a84-8424c12cc428"
      },
      "source": [
        "!pip install vecstack\n",
        "\n",
        "from sklearn.model_selection import train_test_split\n",
        "from sklearn.metrics import accuracy_score\n",
        "from sklearn.neighbors import KNeighborsClassifier\n",
        "from sklearn.ensemble import RandomForestClassifier\n",
        "from xgboost import XGBClassifier\n",
        "from vecstack import stacking"
      ],
      "execution_count": null,
      "outputs": [
        {
          "output_type": "stream",
          "text": [
            "Requirement already satisfied: vecstack in /usr/local/lib/python3.7/dist-packages (0.4.0)\n",
            "Requirement already satisfied: numpy in /usr/local/lib/python3.7/dist-packages (from vecstack) (1.19.5)\n",
            "Requirement already satisfied: scikit-learn>=0.18 in /usr/local/lib/python3.7/dist-packages (from vecstack) (0.22.2.post1)\n",
            "Requirement already satisfied: scipy in /usr/local/lib/python3.7/dist-packages (from vecstack) (1.4.1)\n",
            "Requirement already satisfied: joblib>=0.11 in /usr/local/lib/python3.7/dist-packages (from scikit-learn>=0.18->vecstack) (1.0.1)\n"
          ],
          "name": "stdout"
        }
      ]
    },
    {
      "cell_type": "code",
      "metadata": {
        "id": "Fqd-w6geI40E"
      },
      "source": [
        "models_XGB = [\n",
        "    KNeighborsClassifier(),\n",
        "        \n",
        "    RandomForestClassifier(n_estimators=500, max_depth=3),\n",
        "        \n",
        "    XGBClassifier(random_state=0, n_jobs=-1, learning_rate=0.1, \n",
        "                  n_estimators=100, max_depth=3)\n",
        "]"
      ],
      "execution_count": null,
      "outputs": []
    },
    {
      "cell_type": "code",
      "metadata": {
        "colab": {
          "base_uri": "https://localhost:8080/"
        },
        "id": "yjUmiwr-I43Z",
        "outputId": "ff01e8c2-4212-4777-dc58-ea9b8809da79"
      },
      "source": [
        "S_train, S_test = stacking(models_XGB, df1_xtrain, df1_ytrain, df1_xtest, regression=False, mode='oof_pred_bag', needs_proba=False, save_dir=None,  metric=accuracy_score, \n",
        "                               n_folds=5, stratified=True, shuffle=True,  random_state=0, verbose=2)"
      ],
      "execution_count": null,
      "outputs": [
        {
          "output_type": "stream",
          "text": [
            "task:         [classification]\n",
            "n_classes:    [10]\n",
            "metric:       [accuracy_score]\n",
            "mode:         [oof_pred_bag]\n",
            "n_models:     [3]\n",
            "\n",
            "model  0:     [KNeighborsClassifier]\n",
            "    fold  0:  [0.73357156]\n",
            "    fold  1:  [0.74108966]\n",
            "    fold  2:  [0.73417487]\n",
            "    fold  3:  [0.73937256]\n",
            "    fold  4:  [0.74043995]\n",
            "    ----\n",
            "    MEAN:     [0.73772972] + [0.00320190]\n",
            "    FULL:     [0.73772972]\n",
            "\n",
            "model  1:     [RandomForestClassifier]\n",
            "    fold  0:  [0.72651754]\n",
            "    fold  1:  [0.73250418]\n",
            "    fold  2:  [0.72851309]\n",
            "    fold  3:  [0.73510303]\n",
            "    fold  4:  [0.73023018]\n",
            "    ----\n",
            "    MEAN:     [0.73057360] + [0.00300194]\n",
            "    FULL:     [0.73057360]\n",
            "\n",
            "model  2:     [XGBClassifier]\n",
            "    fold  0:  [0.78893633]\n",
            "    fold  1:  [0.79547986]\n",
            "    fold  2:  [0.79650084]\n",
            "    fold  3:  [0.79961017]\n",
            "    fold  4:  [0.79520141]\n",
            "    ----\n",
            "    MEAN:     [0.79514572] + [0.00347675]\n",
            "    FULL:     [0.79514572]\n",
            "\n"
          ],
          "name": "stdout"
        }
      ]
    },
    {
      "cell_type": "code",
      "metadata": {
        "colab": {
          "base_uri": "https://localhost:8080/"
        },
        "id": "NQFZA7MAI473",
        "outputId": "e49b5e31-0f13-403c-aa55-79b2a9cc9447"
      },
      "source": [
        "model_XGB1 = XGBClassifier(random_state=1, n_jobs=-1, learning_rate=0.1, \n",
        "                      n_estimators=300, max_depth=3)\n",
        "    \n",
        "model_XGB1 = model_XGB1.fit(S_train, df1_ytrain)\n",
        "\n",
        "y_pred_XGB1 = model_XGB1.predict(S_test)\n",
        "\n",
        "print('Final prediction score: [%.5f]' % accuracy_score(df1_ytest, y_pred_XGB1))\n",
        "\n",
        "results_XGB1 = confusion_matrix(df1_ytest, y_pred_XGB1) \n",
        "print ('Confusion Matrix :')\n",
        "print(results_XGB1) \n",
        "\n",
        "accXGB10=accuracy_score(df1_ytest, y_pred_XGB1)\n",
        "preXGB10=precision_score(df1_ytest, y_pred_XGB1, average='macro')\n",
        "f1XGB10=f1_score(df1_ytest, y_pred_XGB1, average='macro')\n",
        "reXGB10=recall_score(df1_ytest, y_pred_XGB1, average='macro')\n",
        "\n",
        "print ('Accuracy Score :', accXGB10)\n",
        "print(\"Precision Score: \",preXGB10)\n",
        "print(\"F1 Score: \",f1XGB10)\n",
        "print(\"Recall: \",reXGB10)"
      ],
      "execution_count": null,
      "outputs": [
        {
          "output_type": "stream",
          "text": [
            "Final prediction score: [0.73438]\n",
            "Confusion Matrix :\n",
            "[[    1     0     0     8   613     0    52     3     0     0]\n",
            " [    1    21     1    32   513     0     7     4     4     0]\n",
            " [    8    46    68  1024  2782     2    44    46    69     0]\n",
            " [    7    29    35  7270  3222     0   305   184    78     2]\n",
            " [    1     7     1   136  4807     0   961    54    95     0]\n",
            " [    0     4    12   495   162 18159    19     9    10     1]\n",
            " [    1     0    19  1076  8717     0 27080    33    73     1]\n",
            " [    2     6     2   291   345     0     6  2829    15     0]\n",
            " [    0     1     2    57    64     0    11    30   213     0]\n",
            " [    0     0     1    22     5     0     1     0     0    15]]\n",
            "Accuracy Score : 0.7343803138512365\n",
            "Precision Score:  0.5647513742585343\n",
            "F1 Score:  0.4708033143226628\n",
            "Recall:  0.4907946234036852\n"
          ],
          "name": "stdout"
        }
      ]
    },
    {
      "cell_type": "code",
      "metadata": {
        "colab": {
          "background_save": true,
          "base_uri": "https://localhost:8080/"
        },
        "id": "8i1KC2CdTWm8",
        "outputId": "2f3ac917-4b89-4c16-f082-3cecdbb9758c"
      },
      "source": [
        "S_train2, S_test2 = stacking(models_XGB, df2_xtrain, df2_ytrain, df2_xtest, regression=False, mode='oof_pred_bag', needs_proba=False, save_dir=None,  metric=accuracy_score, \n",
        "                               n_folds=5, stratified=True, shuffle=True,  random_state=0, verbose=2)\n",
        "\n",
        "model_XGB2 = XGBClassifier(random_state=0, n_jobs=-1, learning_rate=0.1, n_estimators=300, max_depth=3)\n",
        "    \n",
        "model_XGB2 = model_XGB2.fit(S_train2, df2_ytrain)\n",
        "\n",
        "y_pred_XGB2 = model_XGB2.predict(S_test2)\n",
        "\n",
        "print('Final prediction score: [%.5f]' % accuracy_score(df2_ytest, y_pred_XGB2))\n",
        "\n",
        "\n",
        "\n",
        "\n",
        "results_XGB2 = confusion_matrix(df2_ytest, y_pred_XGB2) \n",
        "print ('Confusion Matrix :')\n",
        "print(results_XGB2) \n",
        "\n",
        "accXGB20=accuracy_score(df2_ytest, y_pred_XGB2)\n",
        "preXGB20=precision_score(df2_ytest, y_pred_XGB2, average='macro')\n",
        "f1XGB20=f1_score(df2_ytest, y_pred_XGB2, average='macro')\n",
        "reXGB20=recall_score(df2_ytest, y_pred_XGB2, average='macro')\n",
        "\n",
        "print ('Accuracy Score :',accXGB20 )\n",
        "print(\"Precision Score: \",preXGB20)\n",
        "print(\"F1 Score: \",f1XGB20)\n",
        "print(\"Recall: \",reXGB20)\n",
        "\n"
      ],
      "execution_count": null,
      "outputs": [
        {
          "output_type": "stream",
          "text": [
            "task:         [classification]\n",
            "n_classes:    [10]\n",
            "metric:       [accuracy_score]\n",
            "mode:         [oof_pred_bag]\n",
            "n_models:     [3]\n",
            "\n",
            "model  0:     [KNeighborsClassifier]\n",
            "    fold  0:  [0.56775571]\n",
            "    fold  1:  [0.56798775]\n",
            "    fold  2:  [0.56993689]\n",
            "    fold  3:  [0.56432151]\n",
            "    fold  4:  [0.57156117]\n",
            "    ----\n",
            "    MEAN:     [0.56831260] + [0.00243047]\n",
            "    FULL:     [0.56831260]\n",
            "\n",
            "model  1:     [RandomForestClassifier]\n",
            "    fold  0:  [0.69890477]\n",
            "    fold  1:  [0.70985706]\n",
            "    fold  2:  [0.71380174]\n",
            "    fold  3:  [0.71816410]\n",
            "    fold  4:  [0.72410433]\n",
            "    ----\n",
            "    MEAN:     [0.71296640] + [0.00847543]\n",
            "    FULL:     [0.71296640]\n",
            "\n",
            "model  2:     [XGBClassifier]\n",
            "    fold  0:  [0.79394839]\n",
            "    fold  1:  [0.80165213]\n",
            "    fold  2:  [0.79974940]\n",
            "    fold  3:  [0.80466865]\n",
            "    fold  4:  [0.80230184]\n",
            "    ----\n",
            "    MEAN:     [0.80046408] + [0.00361752]\n",
            "    FULL:     [0.80046408]\n",
            "\n",
            "Final prediction score: [0.73699]\n",
            "Confusion Matrix :\n",
            "[[   77   215     0     1   322     0    57     2     3     0]\n",
            " [   25   227     3    23   284     6     5     3     7     0]\n",
            " [  888   656    82  1016  1229    19    49    60    90     0]\n",
            " [  798   788    49  7375  1597    17   214   196    96     2]\n",
            " [  162   455     2   130  4107     0  1045    58   103     0]\n",
            " [    5     5     6   505   126 18173    22    14    14     1]\n",
            " [   79     0    17   957  8245     0 27554    30   117     1]\n",
            " [  114    57     9   297   161     0    10  2829    19     0]\n",
            " [    4     1     0    45    41     0    17    36   234     0]\n",
            " [    0     0     0    19     4     0     1     0     0    20]]\n",
            "Accuracy Score : 0.7369916921731526\n",
            "Precision Score:  0.5585483363130953\n",
            "F1 Score:  0.4987503636141157\n",
            "Recall:  0.5453678228244055\n"
          ],
          "name": "stdout"
        }
      ]
    },
    {
      "cell_type": "code",
      "metadata": {
        "colab": {
          "base_uri": "https://localhost:8080/"
        },
        "id": "dSyC9ob1TWqP",
        "outputId": "1d569fb7-95fc-4767-8b6e-90a571e7ebd9"
      },
      "source": [
        "\n",
        "S_train3, S_test3 = stacking(models_XGB, df3_xtrain, df3_ytrain, df3_xtest, regression=False, mode='oof_pred_bag', needs_proba=False, save_dir=None,  metric=accuracy_score, \n",
        "                               n_folds=5, stratified=True, shuffle=True,  random_state=0, verbose=2)\n",
        "\n",
        "\n",
        "model_XGB3 = XGBClassifier(random_state=0, n_jobs=-1, learning_rate=0.1, n_estimators=300, max_depth=3)\n",
        "    \n",
        "model_XGB3 = model_XGB3.fit(S_train3, df3_ytrain)\n",
        "\n",
        "y_pred_XGB3 = model_XGB3.predict(S_test)\n",
        "\n",
        "print('Final prediction score: [%.5f]' % accuracy_score(df3_ytest, y_pred_XGB3))\n",
        "\n",
        "\n",
        "\n",
        "\n",
        "results_XGB3 = confusion_matrix(df3_ytest, y_pred_XGB3) \n",
        "print ('Confusion Matrix :')\n",
        "print(results_XGB3)\n",
        "\n",
        "accXGBall=accuracy_score(df3_ytest, y_pred_XGB3)\n",
        "preXGBall=precision_score(df3_ytest, y_pred_XGB3, average='macro')\n",
        "f1XGBall=f1_score(df3_ytest, y_pred_XGB3, average='macro')\n",
        "reXGBall=recall_score(df3_ytest, y_pred_XGB3, average='macro')\n",
        "\n",
        "print ('Accuracy Score :', accXGBall)\n",
        "print(\"Precision Score: \",preXGBall)\n",
        "print(\"F1 Score: \",f1XGBall)\n",
        "print(\"Recall: \",reXGBall)"
      ],
      "execution_count": null,
      "outputs": [
        {
          "output_type": "stream",
          "text": [
            "task:         [classification]\n",
            "n_classes:    [10]\n",
            "metric:       [accuracy_score]\n",
            "mode:         [oof_pred_bag]\n",
            "n_models:     [3]\n",
            "\n",
            "model  0:     [KNeighborsClassifier]\n",
            "    fold  0:  [0.56682755]\n",
            "    fold  1:  [0.56585298]\n",
            "    fold  2:  [0.56835901]\n",
            "    fold  3:  [0.56283646]\n",
            "    fold  4:  [0.57040097]\n",
            "    ----\n",
            "    MEAN:     [0.56685539] + [0.00252940]\n",
            "    FULL:     [0.56685539]\n",
            "\n",
            "model  1:     [RandomForestClassifier]\n",
            "    fold  0:  [0.69760535]\n",
            "    fold  1:  [0.70400965]\n",
            "    fold  2:  [0.70447373]\n",
            "    fold  3:  [0.70707258]\n",
            "    fold  4:  [0.70563393]\n",
            "    ----\n",
            "    MEAN:     [0.70375905] + [0.00325381]\n",
            "    FULL:     [0.70375905]\n",
            "\n",
            "model  2:     [XGBClassifier]\n",
            "    fold  0:  [0.79227771]\n",
            "    fold  1:  [0.79956376]\n",
            "    fold  2:  [0.79942454]\n",
            "    fold  3:  [0.80517913]\n",
            "    fold  4:  [0.79933172]\n",
            "    ----\n",
            "    MEAN:     [0.79915537] + [0.00409532]\n",
            "    FULL:     [0.79915537]\n",
            "\n",
            "Final prediction score: [0.72781]\n",
            "Confusion Matrix :\n",
            "[[  138     0     0     8   479     0    48     4     0     0]\n",
            " [   91    20     2    31   424     0     7     5     3     0]\n",
            " [  702    57    92  1014  2062     2    51    55    54     0]\n",
            " [  711    28    88  7253  2485     0   320   191    54     2]\n",
            " [  268     7     4   139  4520     0   977    54    93     0]\n",
            " [    9     4    12   494   152 18159    19    11    10     1]\n",
            " [  414     0    40  1067  8664     0 26727    32    55     1]\n",
            " [   83     9    10   287   255     0     7  2831    14     0]\n",
            " [    3     1    63    42    58     0    11    33   167     0]\n",
            " [    0     0     1    22     5     0     1     0     0    15]]\n",
            "Accuracy Score : 0.7278093572365545\n",
            "Precision Score:  0.5437152697375424\n",
            "F1 Score:  0.47457357799942024\n",
            "Recall:  0.49349309219866394\n"
          ],
          "name": "stdout"
        }
      ]
    },
    {
      "cell_type": "code",
      "metadata": {
        "id": "Hwgf1CnikmZa"
      },
      "source": [
        "from sklearn.datasets import make_classification\n",
        "from sklearn.ensemble import StackingClassifier\n",
        "from sklearn.linear_model import LogisticRegression\n",
        "from sklearn.neighbors import KNeighborsClassifier\n",
        "from sklearn.tree import DecisionTreeClassifier\n",
        "from sklearn.svm import SVC\n",
        "from sklearn.ensemble import RandomForestClassifier,AdaBoostClassifier,GradientBoostingClassifier"
      ],
      "execution_count": null,
      "outputs": []
    },
    {
      "cell_type": "code",
      "metadata": {
        "colab": {
          "base_uri": "https://localhost:8080/"
        },
        "id": "vPtKiX1VTWtA",
        "outputId": "1fee99b3-e700-4fef-defa-b3b20339c19e"
      },
      "source": [
        "\"\"\"\n",
        "level0 = list()\n",
        "level0.append(('rf', RandomForestClassifier()))\n",
        "#level0.append(('knn', KNeighborsClassifier()))\n",
        "level0.append(('cart', DecisionTreeClassifier()))\n",
        "# define meta learner model\n",
        "print(\"Proceeding with: \",level0)\n",
        "level1 = GradientBoostingClassifier(n_estimators=200)\n",
        "# define the stacking ensemble\n",
        "model = StackingClassifier(estimators=level0, final_estimator=level1, cv=2)\n",
        "# fit the model on all available data\n",
        "model.fit(df1_xtrain, df1_ytrain)\n",
        "# make a prediction for one example\n",
        "\n",
        "yhat = model.predict(df1_xtest)\n",
        "#print('Predicted Class: %d' % (yhat))\n",
        "\n",
        "print('Final prediction score: [%.5f]' % accuracy_score(df1_ytest, yhat))\n",
        "\n",
        "results_sc1 = confusion_matrix(df1_ytest, yhat) \n",
        "print ('Confusion Matrix :')\n",
        "print(results_sc1) \n",
        "\n",
        "print ('Accuracy Score :',accuracy_score(df1_ytest, yhat) )\n",
        "print(\"Precision Score: \",precision_score(df1_ytest, yhat, average='macro'))\n",
        "print(\"F1 Score: \",f1_score(df1_ytest, yhat, average='macro'))\n",
        "print(\"Recall: \",recall_score(df1_ytest, yhat, average='macro'))\n",
        "\"\"\""
      ],
      "execution_count": null,
      "outputs": [
        {
          "output_type": "stream",
          "text": [
            "Final prediction score: [0.67519]\n",
            "Confusion Matrix :\n",
            "[[   67   183    39   176   194     7     3     5     3     0]\n",
            " [   23   207    38   119   167     7     6     4    12     0]\n",
            " [  520   527   793  1071   882    31    74   137    54     0]\n",
            " [  504   655   491  7815  1055    37   101   352   122     0]\n",
            " [   87   363   119   654  4138    17   331    21   332     0]\n",
            " [   12    16    41   427   178 18005   140     3    48     1]\n",
            " [ 1449     4    51   854 12999     6 21445     5   186     1]\n",
            " [   64    51    68   304   116     1    12  2829    51     0]\n",
            " [    1     1    14    38    29     2     2     1   290     0]\n",
            " [    0     1     0    38     2     1     0     0     1     1]]\n",
            "Accuracy Score : 0.6751931205363649\n",
            "Precision Score:  0.489997169317403\n",
            "F1 Score:  0.44466007373387406\n",
            "Recall:  0.5165441831566977\n"
          ],
          "name": "stdout"
        }
      ]
    },
    {
      "cell_type": "code",
      "metadata": {
        "id": "lUMdVaV4S1Bb"
      },
      "source": [
        "import matplotlib.pyplot as plt\n",
        "import numpy as np"
      ],
      "execution_count": null,
      "outputs": []
    },
    {
      "cell_type": "code",
      "metadata": {
        "colab": {
          "base_uri": "https://localhost:8080/",
          "height": 565
        },
        "id": "DzIs_9OsddmO",
        "outputId": "29467291-b77e-4a4c-d094-c70ee9b09d25"
      },
      "source": [
        "fig,a =  plt.subplots(2,2,figsize=(10, 8))\n",
        "fig.tight_layout(pad=3)\n",
        "a[0][0].plot(['Top 15', 'Top 30', 'All'],[accKNN10*100,accKNN20*100,accKNNall*100])\n",
        "a[0][0].set_title('Accuracy')\n",
        "a[0][1].plot(['Top 15', 'Top 30', 'All'],[preKNN10*100,preKNN20*100,preKNNall*100])\n",
        "a[0][1].set_title('Precision')\n",
        "a[1][0].plot(['Top 15', 'Top 30', 'All'],[f1KNN10*100,f1KNN20*100,f1KNNall*100])\n",
        "a[1][0].set_title('F1-Score')\n",
        "a[1][1].plot(['Top 15', 'Top 30', 'All'],[reKNN10*100,reKNN20*100,reKNNall*100])\n",
        "a[1][1].set_title('Recall')\n",
        "#figure.tight_layout(pad=3.0)\n",
        "plt.suptitle('KNN',fontsize=20)\n",
        "\n",
        "plt.show()"
      ],
      "execution_count": 41,
      "outputs": [
        {
          "output_type": "display_data",
          "data": {
            "image/png": "[encoded data removed]",
            "text/plain": [
              "<Figure size 720x576 with 4 Axes>"
            ]
          },
          "metadata": {
            "tags": [],
            "needs_background": "light"
          }
        }
      ]
    },
    {
      "cell_type": "code",
      "metadata": {
        "colab": {
          "base_uri": "https://localhost:8080/",
          "height": 565
        },
        "id": "8jBfEoO1f-vR",
        "outputId": "03af175e-1441-423b-d9ca-74ced5a0368e"
      },
      "source": [
        "fig,a =  plt.subplots(2,2,figsize=(10, 8))\n",
        "fig.tight_layout(pad=3)\n",
        "a[0][0].plot(['Top 15', 'Top 30', 'All'],[accDT10*100,accDT20*100,accDTall*100])\n",
        "a[0][0].set_title('Accuracy')\n",
        "a[0][1].plot(['Top 15', 'Top 30', 'All'],[preDT10*100,preDT20*100,preDTall*100])\n",
        "a[0][1].set_title('Precision')\n",
        "a[1][0].plot(['Top 15', 'Top 30', 'All'],[f1DT10*100,f1DT20*100,f1DTall*100])\n",
        "a[1][0].set_title('F1-Score')\n",
        "a[1][1].plot(['Top 15', 'Top 30', 'All'],[reDT10*100,reDT20*100,reDTall*100])\n",
        "a[1][1].set_title('Recall')\n",
        "#figure.tight_layout(pad=3.0)\n",
        "plt.suptitle('DT',fontsize=20)\n",
        "\n",
        "plt.show()"
      ],
      "execution_count": 42,
      "outputs": [
        {
          "output_type": "display_data",
          "data": {
            "image/png": "[encoded data removed]",
            "text/plain": [
              "<Figure size 720x576 with 4 Axes>"
            ]
          },
          "metadata": {
            "tags": [],
            "needs_background": "light"
          }
        }
      ]
    },
    {
      "cell_type": "code",
      "metadata": {
        "colab": {
          "base_uri": "https://localhost:8080/",
          "height": 565
        },
        "id": "mxfc2mpZhRIs",
        "outputId": "478d4b1a-2bdf-4e63-d18b-632266ca16eb"
      },
      "source": [
        "fig,a =  plt.subplots(2,2,figsize=(10, 8))\n",
        "fig.tight_layout(pad=3)\n",
        "a[0][0].plot(['Top 15', 'Top 30', 'All'],[accDT10*100,accDT20*100,accDTall*100])\n",
        "a[0][0].set_title('Accuracy')\n",
        "a[0][1].plot(['Top 15', 'Top 30', 'All'],[preDT10*100,preDT20*100,preDTall*100])\n",
        "a[0][1].set_title('Precision')\n",
        "a[1][0].plot(['Top 15', 'Top 30', 'All'],[f1DT10*100,f1DT20*100,f1DTall*100])\n",
        "a[1][0].set_title('F1-Score')\n",
        "a[1][1].plot(['Top 15', 'Top 30', 'All'],[reDT10*100,reDT20*100,reDTall*100])\n",
        "a[1][1].set_title('Recall')\n",
        "#figure.tight_layout(pad=3.0)\n",
        "plt.suptitle('Multinomial Naive Bayes',fontsize=20)\n",
        "\n",
        "plt.show()"
      ],
      "execution_count": 43,
      "outputs": [
        {
          "output_type": "display_data",
          "data": {
            "image/png": "[encoded data removed]",
            "text/plain": [
              "<Figure size 720x576 with 4 Axes>"
            ]
          },
          "metadata": {
            "tags": [],
            "needs_background": "light"
          }
        }
      ]
    },
    {
      "cell_type": "code",
      "metadata": {
        "colab": {
          "base_uri": "https://localhost:8080/",
          "height": 565
        },
        "id": "lFij-59DhRe8",
        "outputId": "ac7ad67a-17ba-4032-eadd-054d7732a674"
      },
      "source": [
        "fig,a =  plt.subplots(2,2,figsize=(10, 8))\n",
        "fig.tight_layout(pad=3)\n",
        "a[0][0].plot(['Top 15', 'Top 30', 'All'],[accclfRF_10*100,accclfRF_20*100,accclfRF_all*100])\n",
        "a[0][0].set_title('Accuracy')\n",
        "a[0][1].plot(['Top 15', 'Top 30', 'All'],[preclfRF_10*100,preclfRF_20*100,preclfRF_all*100])\n",
        "a[0][1].set_title('Precision')\n",
        "a[1][0].plot(['Top 15', 'Top 30', 'All'],[f1clfRF_10*100,f1clfRF_20*100,f1clfRF_all*100])\n",
        "a[1][0].set_title('F1-Score')\n",
        "a[1][1].plot(['Top 15', 'Top 30', 'All'],[reclfRF_10*100,reclfRF_20*100,reclfRF_all*100])\n",
        "a[1][1].set_title('Recall')\n",
        "#figure.tight_layout(pad=3.0)\n",
        "plt.suptitle('Random Forest',fontsize=20)\n",
        "\n",
        "plt.show()"
      ],
      "execution_count": 44,
      "outputs": [
        {
          "output_type": "display_data",
          "data": {
            "image/png": "[encoded data removed]",
            "text/plain": [
              "<Figure size 720x576 with 4 Axes>"
            ]
          },
          "metadata": {
            "tags": [],
            "needs_background": "light"
          }
        }
      ]
    },
    {
      "cell_type": "code",
      "metadata": {
        "colab": {
          "base_uri": "https://localhost:8080/",
          "height": 761
        },
        "id": "yaRhXP4TkmpT",
        "outputId": "376b8803-262a-4adf-c2c6-e769c61aafd7"
      },
      "source": [
        "fig,a =  plt.subplots(2,2,figsize=(10, 8))\n",
        "fig.tight_layout(pad=3)\n",
        "a[0][0].plot(['Top 15', 'Top 30', 'All'],[accNN10*100,accNN20*100,accNNall*100])\n",
        "a[0][0].set_title('Accuracy')\n",
        "a[0][1].plot(['Top 15', 'Top 30', 'All'],[precision_NN10*100,precision_NN20*100,precision_NNall*100])\n",
        "a[0][1].set_title('Precision')\n",
        "a[1][0].plot(['Top 15', 'Top 30', 'All'],[f1_score_NN10*100,f1_score_NN20*100,f1_score_all*100])\n",
        "a[1][0].set_title('F1-Score')\n",
        "a[1][1].plot(['Top 15', 'Top 30', 'All'],[recall_NN10*100,recall_NN20*100,recall_NNall*100])\n",
        "a[1][1].set_title('Recall')\n",
        "#figure.tight_layout(pad=3.0)\n",
        "plt.suptitle('Convolution Neural Network',fontsize=20)\n",
        "\n",
        "plt.show()"
      ],
      "execution_count": 45,
      "outputs": [
        {
          "output_type": "error",
          "ename": "NameError",
          "evalue": "ignored",
          "traceback": [
            "\u001b[0;31m---------------------------------------------------------------------------\u001b[0m",
            "\u001b[0;31mNameError\u001b[0m                                 Traceback (most recent call last)",
            "\u001b[0;32m<ipython-input-45-cb922272413a>\u001b[0m in \u001b[0;36m<module>\u001b[0;34m()\u001b[0m\n\u001b[1;32m      1\u001b[0m \u001b[0mfig\u001b[0m\u001b[0;34m,\u001b[0m\u001b[0ma\u001b[0m \u001b[0;34m=\u001b[0m  \u001b[0mplt\u001b[0m\u001b[0;34m.\u001b[0m\u001b[0msubplots\u001b[0m\u001b[0;34m(\u001b[0m\u001b[0;36m2\u001b[0m\u001b[0;34m,\u001b[0m\u001b[0;36m2\u001b[0m\u001b[0;34m,\u001b[0m\u001b[0mfigsize\u001b[0m\u001b[0;34m=\u001b[0m\u001b[0;34m(\u001b[0m\u001b[0;36m10\u001b[0m\u001b[0;34m,\u001b[0m \u001b[0;36m8\u001b[0m\u001b[0;34m)\u001b[0m\u001b[0;34m)\u001b[0m\u001b[0;34m\u001b[0m\u001b[0;34m\u001b[0m\u001b[0m\n\u001b[1;32m      2\u001b[0m \u001b[0mfig\u001b[0m\u001b[0;34m.\u001b[0m\u001b[0mtight_layout\u001b[0m\u001b[0;34m(\u001b[0m\u001b[0mpad\u001b[0m\u001b[0;34m=\u001b[0m\u001b[0;36m3\u001b[0m\u001b[0;34m)\u001b[0m\u001b[0;34m\u001b[0m\u001b[0;34m\u001b[0m\u001b[0m\n\u001b[0;32m----> 3\u001b[0;31m \u001b[0ma\u001b[0m\u001b[0;34m[\u001b[0m\u001b[0;36m0\u001b[0m\u001b[0;34m]\u001b[0m\u001b[0;34m[\u001b[0m\u001b[0;36m0\u001b[0m\u001b[0;34m]\u001b[0m\u001b[0;34m.\u001b[0m\u001b[0mplot\u001b[0m\u001b[0;34m(\u001b[0m\u001b[0;34m[\u001b[0m\u001b[0;34m'Top 15'\u001b[0m\u001b[0;34m,\u001b[0m \u001b[0;34m'Top 30'\u001b[0m\u001b[0;34m,\u001b[0m \u001b[0;34m'All'\u001b[0m\u001b[0;34m]\u001b[0m\u001b[0;34m,\u001b[0m\u001b[0;34m[\u001b[0m\u001b[0maccNN10\u001b[0m\u001b[0;34m*\u001b[0m\u001b[0;36m100\u001b[0m\u001b[0;34m,\u001b[0m\u001b[0maccNN20\u001b[0m\u001b[0;34m*\u001b[0m\u001b[0;36m100\u001b[0m\u001b[0;34m,\u001b[0m\u001b[0maccNNall\u001b[0m\u001b[0;34m*\u001b[0m\u001b[0;36m100\u001b[0m\u001b[0;34m]\u001b[0m\u001b[0;34m)\u001b[0m\u001b[0;34m\u001b[0m\u001b[0;34m\u001b[0m\u001b[0m\n\u001b[0m\u001b[1;32m      4\u001b[0m \u001b[0ma\u001b[0m\u001b[0;34m[\u001b[0m\u001b[0;36m0\u001b[0m\u001b[0;34m]\u001b[0m\u001b[0;34m[\u001b[0m\u001b[0;36m0\u001b[0m\u001b[0;34m]\u001b[0m\u001b[0;34m.\u001b[0m\u001b[0mset_title\u001b[0m\u001b[0;34m(\u001b[0m\u001b[0;34m'Accuracy'\u001b[0m\u001b[0;34m)\u001b[0m\u001b[0;34m\u001b[0m\u001b[0;34m\u001b[0m\u001b[0m\n\u001b[1;32m      5\u001b[0m \u001b[0ma\u001b[0m\u001b[0;34m[\u001b[0m\u001b[0;36m0\u001b[0m\u001b[0;34m]\u001b[0m\u001b[0;34m[\u001b[0m\u001b[0;36m1\u001b[0m\u001b[0;34m]\u001b[0m\u001b[0;34m.\u001b[0m\u001b[0mplot\u001b[0m\u001b[0;34m(\u001b[0m\u001b[0;34m[\u001b[0m\u001b[0;34m'Top 15'\u001b[0m\u001b[0;34m,\u001b[0m \u001b[0;34m'Top 30'\u001b[0m\u001b[0;34m,\u001b[0m \u001b[0;34m'All'\u001b[0m\u001b[0;34m]\u001b[0m\u001b[0;34m,\u001b[0m\u001b[0;34m[\u001b[0m\u001b[0mprecision_NN10\u001b[0m\u001b[0;34m*\u001b[0m\u001b[0;36m100\u001b[0m\u001b[0;34m,\u001b[0m\u001b[0mprecision_NN20\u001b[0m\u001b[0;34m*\u001b[0m\u001b[0;36m100\u001b[0m\u001b[0;34m,\u001b[0m\u001b[0mprecision_NNall\u001b[0m\u001b[0;34m*\u001b[0m\u001b[0;36m100\u001b[0m\u001b[0;34m]\u001b[0m\u001b[0;34m)\u001b[0m\u001b[0;34m\u001b[0m\u001b[0;34m\u001b[0m\u001b[0m\n",
            "\u001b[0;31mNameError\u001b[0m: name 'accNN10' is not defined"
          ]
        },
        {
          "output_type": "display_data",
          "data": {
            "image/png": "[encoded data removed]",
            "text/plain": [
              "<Figure size 720x576 with 4 Axes>"
            ]
          },
          "metadata": {
            "tags": [],
            "needs_background": "light"
          }
        }
      ]
    },
    {
      "cell_type": "code",
      "metadata": {
        "id": "l1L59tlVmIYE"
      },
      "source": [
        "fig,a =  plt.subplots(2,2,figsize=(10, 8))\n",
        "fig.tight_layout(pad=3)\n",
        "a[0][0].plot(['Top 15', 'Top 30', 'All'],[accabc10*100,accabc20*100,accabcall*100])\n",
        "a[0][0].set_title('Accuracy')\n",
        "a[0][1].plot(['Top 15', 'Top 30', 'All'],[preabc10*100,preabc20*100,preabcall*100])\n",
        "a[0][1].set_title('Precision')\n",
        "a[1][0].plot(['Top 15', 'Top 30', 'All'],[f1abc10*100,f1abc20*100,f1abcall*100])\n",
        "a[1][0].set_title('F1-Score')\n",
        "a[1][1].plot(['Top 15', 'Top 30', 'All'],[reabc10*100,reabc20*100,reabcall*100])\n",
        "a[1][1].set_title('Recall')\n",
        "#figure.tight_layout(pad=3.0)\n",
        "plt.suptitle('Adaboost with Decision Tree',fontsize=20)\n",
        "\n",
        "plt.show()"
      ],
      "execution_count": null,
      "outputs": []
    },
    {
      "cell_type": "code",
      "metadata": {
        "id": "SNIvWMD9ohPi"
      },
      "source": [
        "fig,a =  plt.subplots(2,2,figsize=(10, 8))\n",
        "fig.tight_layout(pad=3)\n",
        "a[0][0].plot(['Top 15', 'Top 30', 'All'],[accXGB10*100,accXGB20*100,accXGBall*100])\n",
        "a[0][0].set_title('Accuracy')\n",
        "a[0][1].plot(['Top 15', 'Top 30', 'All'],[preXGB10*100,preXGB20*100,preXGBall*100])\n",
        "a[0][1].set_title('Precision')\n",
        "a[1][0].plot(['Top 15', 'Top 30', 'All'],[f1XGB10*100,f1XGB20*100,f1XGBall*100])\n",
        "a[1][0].set_title('F1-Score')\n",
        "a[1][1].plot(['Top 15', 'Top 30', 'All'],[reXGB10*100,reXGB20*100,reXGBall*100])\n",
        "a[1][1].set_title('Recall')\n",
        "#figure.tight_layout(pad=3.0)\n",
        "plt.suptitle('Stack: KNN,RF, XGBoost',fontsize=20)\n",
        "\n",
        "plt.show()"
      ],
      "execution_count": null,
      "outputs": []
    },
    {
      "cell_type": "code",
      "metadata": {
        "id": "1DDnw7iEptl2"
      },
      "source": [
        "fig,a =  plt.subplots(2,2,figsize=(10, 8))\n",
        "fig.tight_layout(pad=3)\n",
        "a[0][0].plot(['Top 15', 'Top 30', 'All'],[acclogisticRegr_10*100,acclogisticRegr_20*100,acclogisticRegr_all*100])\n",
        "a[0][0].set_title('Accuracy')\n",
        "a[0][1].plot(['Top 15', 'Top 30', 'All'],[prelogisticRegr_10*100,prelogisticRegr_20*100,prelogisticRegr_all*100])\n",
        "a[0][1].set_title('Precision')\n",
        "a[1][0].plot(['Top 15', 'Top 30', 'All'],[f1logisticRegr_10*100,f1logisticRegr_20*100,f1logisticRegr_all*100])\n",
        "a[1][0].set_title('F1-Score')\n",
        "a[1][1].plot(['Top 15', 'Top 30', 'All'],[relogisticRegr_10*100,relogisticRegr_20*100,relogisticRegr_all*100])\n",
        "a[1][1].set_title('Recall')\n",
        "#figure.tight_layout(pad=3.0)\n",
        "plt.suptitle('Logistic Regression Classifier',fontsize=20)\n",
        "\n",
        "plt.show()"
      ],
      "execution_count": null,
      "outputs": []
    },
    {
      "cell_type": "code",
      "metadata": {
        "id": "cxmaOSLjq68J"
      },
      "source": [
        "#Accuracy\n",
        "print(\"Accuracy\")\n",
        "fig = plt.figure()\n",
        "ax = fig.add_axes([0,0,2,1])\n",
        "algo = ['accKNN10', 'accDT10', 'accbayes_10', 'accclfRF_10',\"accabc10\",\"accXGB10\",\"accNN10\",]\n",
        "acc = [accKNN10*100,accDT10*100,accbayes_10*100,accclfRF_10*100,accabc10*100,accXGB10*100,accNN10*100,accCNN10*100]\n",
        "ax.bar(algo,acc)\n",
        "plt.show()\n",
        "#Precision\n",
        "print(\"Precision\")\n",
        "fig = plt.figure()\n",
        "ax = fig.add_axes([0,0,1,1])\n",
        "algo = ['preKNN10', 'preDT10', 'prebayes_10', 'preclfRF_10',\"preabc10\",\"preXGB10\",\"precision_NN10\"]\n",
        "pre = [preKNN10*100,preDT10*100,prebayes_10*100,preclfRF_10*100,preabc10*100,preXGB10*100,precision_NN10*100]\n",
        "ax.bar(algo,pre)\n",
        "plt.show()\n",
        "#F1 Score\n",
        "print(\"F1 Score\")\n",
        "fig = plt.figure()\n",
        "ax = fig.add_axes([0,0,2,1])\n",
        "algo = ['f1KNN10', 'f1DT10', 'f1bayes_10', 'f1clfRF_10',\"f1abc10\",\"f1XGB10\",\"f1_score_NN10\"]\n",
        "f1 = [f1KNN10*100,f1DT10*100,f1bayes_10*100,f1clfRF_10*100,f1abc10*100,f1XGB10*100,f1_score_NN10*100]\n",
        "ax.bar(algo,f1)\n",
        "plt.show()\n",
        "#Recall\n",
        "print(\"Recall\")\n",
        "fig = plt.figure()\n",
        "ax = fig.add_axes([0,0,2,1])\n",
        "algo = ['reKNN10', 'reDT10', 'rebayes_10', 'reclfRF_10',\"reabc10\",\"reXGB10\",\"recall_NN10\"]\n",
        "re = [reKNN10*100,reDT10*100,rebayes_10*100,reclfRF_10*100,reabc10*100,reXGB10*100,recall_NN10*100]\n",
        "ax.bar(algo,re)\n",
        "plt.show()"
      ],
      "execution_count": null,
      "outputs": []
    }
  ]
}