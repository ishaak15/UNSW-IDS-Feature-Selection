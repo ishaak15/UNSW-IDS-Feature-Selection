{
  "nbformat": 4,
  "nbformat_minor": 0,
  "metadata": {
    "accelerator": "TPU",
    "colab": {
      "name": "Training and Testing.ipynb",
      "provenance": [],
      "collapsed_sections": [],
      "include_colab_link": true
    },
    "kernelspec": {
      "display_name": "Python 3",
      "name": "python3"
    },
    "language_info": {
      "name": "python"
    }
  },
  "cells": [
    {
      "cell_type": "markdown",
      "metadata": {
        "id": "view-in-github",
        "colab_type": "text"
      },
      "source": [
        "<a href=\"https://colab.research.google.com/github/ishaak15/UNSW-IDS-Feature-Selection/blob/main/Training_and_Testing.ipynb\" target=\"_parent\"><img src=\"https://colab.research.google.com/assets/colab-badge.svg\" alt=\"Open In Colab\"/></a>"
      ]
    },
    {
      "cell_type": "code",
      "metadata": {
        "id": "RupDMUtc2mgK",
        "colab": {
          "base_uri": "https://localhost:8080/"
        },
        "outputId": "475d855b-350e-427b-853f-33f79ab22836"
      },
      "source": [
        "import numpy as np \n",
        "import matplotlib\n",
        "import matplotlib.pyplot as plt\n",
        "import os\n",
        "import math\n",
        "import pandas as pd\n",
        "from sklearn.decomposition import PCA\n",
        "from sklearn.model_selection import cross_validate\n",
        "from sklearn import datasets, preprocessing, feature_extraction, neighbors\n",
        "from sklearn import linear_model, svm, metrics, ensemble, tree, ensemble\n",
        "from sklearn.model_selection import train_test_split\n",
        "from copy import copy\n",
        "import urllib\n",
        "import csv\n",
        "\n",
        "import seaborn as sns\n",
        "from sklearn.preprocessing import LabelEncoder\n",
        "import matplotlib.pyplot as plt\n",
        "import plotly.graph_objs as go\n",
        "\n",
        "from sklearn.tree import DecisionTreeClassifier # Import Decision Tree Classifier\n",
        "from sklearn.model_selection import train_test_split # Import train_test_split function\n",
        "from sklearn import metrics #Import scikit-learn metrics module for accuracy calculation\n",
        "\n",
        "from sklearn.metrics import confusion_matrix \n",
        "from sklearn.metrics import accuracy_score \n",
        "from sklearn.metrics import classification_report \n",
        "\n",
        "\n",
        "from sklearn.naive_bayes import GaussianNB\n",
        "from yellowbrick.classifier import ClassificationReport\n",
        "\n",
        "from sklearn.ensemble import RandomForestClassifier\n",
        "from sklearn.linear_model import LogisticRegression\n",
        "from sklearn.model_selection import train_test_split \n",
        "from sklearn.naive_bayes import GaussianNB \n",
        "from sklearn.linear_model import LogisticRegression\n",
        "from sklearn.svm import SVC # \"Support Vector Classifier\" \n",
        "from sklearn.ensemble import AdaBoostClassifier\n",
        "from sklearn.ensemble import ExtraTreesClassifier\n",
        "\n",
        "from sklearn.feature_selection import SelectKBest\n",
        "from sklearn.feature_selection import chi2\n",
        "\n",
        "from zipfile import ZipFile\n",
        "import collections\n",
        "\n",
        "from sklearn.feature_selection import RFE\n",
        "from sklearn.linear_model import LogisticRegression\n",
        "\n",
        "from sklearn.metrics import confusion_matrix \n",
        "from sklearn.metrics import accuracy_score \n",
        "from sklearn.metrics import classification_report \n",
        "from sklearn.metrics import classification_report\n",
        "from sklearn.metrics import precision_recall_fscore_support\n",
        "from sklearn.metrics import recall_score\n",
        "from sklearn.metrics import precision_score\n",
        "from sklearn.metrics import f1_score\n"
      ],
      "execution_count": 1,
      "outputs": [
        {
          "output_type": "stream",
          "text": [
            "/usr/local/lib/python3.7/dist-packages/sklearn/utils/deprecation.py:144: FutureWarning:\n",
            "\n",
            "The sklearn.metrics.classification module is  deprecated in version 0.22 and will be removed in version 0.24. The corresponding classes / functions should instead be imported from sklearn.metrics. Anything that cannot be imported from sklearn.metrics is now part of the private API.\n",
            "\n"
          ],
          "name": "stderr"
        }
      ]
    },
    {
      "cell_type": "code",
      "metadata": {
        "colab": {
          "base_uri": "https://localhost:8080/"
        },
        "id": "FUKlYohz7Ge3",
        "outputId": "56c662ec-b6ad-4938-8cbf-27c09f24dd24"
      },
      "source": [
        "!git clone https://github.com/ishaak15/UNSW-IDS-Feature-Selection.git"
      ],
      "execution_count": 2,
      "outputs": [
        {
          "output_type": "stream",
          "text": [
            "Cloning into 'UNSW-IDS-Feature-Selection'...\n",
            "remote: Enumerating objects: 82, done.\u001b[K\n",
            "remote: Counting objects: 100% (45/45), done.\u001b[K\n",
            "remote: Compressing objects: 100% (45/45), done.\u001b[K\n",
            "remote: Total 82 (delta 20), reused 0 (delta 0), pack-reused 37\u001b[K\n",
            "Unpacking objects: 100% (82/82), done.\n"
          ],
          "name": "stdout"
        }
      ]
    },
    {
      "cell_type": "code",
      "metadata": {
        "colab": {
          "base_uri": "https://localhost:8080/"
        },
        "id": "zVKdVCIQIVl8",
        "outputId": "4b6394cb-b9e8-411a-e258-e1d4ea799a0c"
      },
      "source": [
        "cd UNSW-IDS-Feature-Selection/"
      ],
      "execution_count": 3,
      "outputs": [
        {
          "output_type": "stream",
          "text": [
            "/content/UNSW-IDS-Feature-Selection\n"
          ],
          "name": "stdout"
        }
      ]
    },
    {
      "cell_type": "code",
      "metadata": {
        "colab": {
          "base_uri": "https://localhost:8080/"
        },
        "id": "6CrTS2MAIetl",
        "outputId": "3e6d9fc6-9e8f-4406-e460-79c87ed93220"
      },
      "source": [
        "ls"
      ],
      "execution_count": 4,
      "outputs": [
        {
          "output_type": "stream",
          "text": [
            "bayes_10.sav   clfKNN_all.sav                      Testset1.csv\n",
            "bayes_20.sav   Copy_of_Training_and_Testing.ipynb  Testset2.csv\n",
            "bayes_all.sav  Dataset1.csv                        Testset3.csv\n",
            "clfDT_10.sav   Dataset2.csv                        Training_and_Testing.ipynb\n",
            "clfDT_20.sav   Dataset3.csv                        UNSW_IDS_analysis.ipynb\n",
            "clfDT_all.sav  LICENSE                             UNSW_NB15_testing-set.csv\n",
            "clfKNN10.sav   Models_Training_and_Testing.ipynb\n",
            "clfKNN20.sav   README.md\n"
          ],
          "name": "stdout"
        }
      ]
    },
    {
      "cell_type": "code",
      "metadata": {
        "id": "PR7ddO_b-TYh"
      },
      "source": [
        "df1 = pd.read_csv('Dataset1.csv',index_col=0)\n",
        "df2 = pd.read_csv('Dataset2.csv',index_col=0)\n",
        "df3 = pd.read_csv('Dataset3.csv',index_col=0)"
      ],
      "execution_count": 5,
      "outputs": []
    },
    {
      "cell_type": "code",
      "metadata": {
        "id": "sK7zk_s0-2Go"
      },
      "source": [
        "tf1 = pd.read_csv('Testset1.csv',index_col=0)\n",
        "tf2 = pd.read_csv('Testset2.csv',index_col=0)\n",
        "tf3 = pd.read_csv('Testset3.csv',index_col=0)"
      ],
      "execution_count": 6,
      "outputs": []
    },
    {
      "cell_type": "code",
      "metadata": {
        "id": "DVJCwCx5DkD6"
      },
      "source": [
        "df1_xtrain=df1.iloc[: , :-1]\n",
        "df1_ytrain=df1.iloc[:,-1]\n",
        "df2_xtrain=df2.iloc[: , :-1]\n",
        "df2_ytrain=df2.iloc[:,-1]\n",
        "df3_xtrain=df3.iloc[: , :-1]\n",
        "df3_ytrain=df3.iloc[:,-1]"
      ],
      "execution_count": 7,
      "outputs": []
    },
    {
      "cell_type": "code",
      "metadata": {
        "id": "N2Q5ICJvIsgs"
      },
      "source": [
        "df1_xtest=tf1.iloc[: , :-1]\n",
        "df1_ytest=tf1.iloc[:,-1]\n",
        "df2_xtest=tf2.iloc[: , :-1]\n",
        "df2_ytest=tf2.iloc[:,-1]\n",
        "df3_xtest=tf3.iloc[: , :-1]\n",
        "df3_ytest=tf3.iloc[:,-1]"
      ],
      "execution_count": 8,
      "outputs": []
    },
    {
      "cell_type": "code",
      "metadata": {
        "id": "w-ZMD59m4V2o"
      },
      "source": [
        "#KNN"
      ],
      "execution_count": 9,
      "outputs": []
    },
    {
      "cell_type": "code",
      "metadata": {
        "colab": {
          "base_uri": "https://localhost:8080/"
        },
        "id": "9eg-WFEcsYCS",
        "outputId": "9586b4ee-0d65-44d4-c91d-4002686365a4"
      },
      "source": [
        "clfKNN10=neighbors.KNeighborsClassifier()\n",
        "clfKNN10.fit(df1_xtrain,df1_ytrain)\n",
        "#clfKNN10.fit(df1_xtrain,df1_ytrain)\n",
        "\n",
        "print (\"\\t\\tKNN Classification of UNSW-NB15\\n\\n\\t\\tTop 15 Features \")\n",
        "\n",
        "yt_pred_10 = clfKNN10.predict(df1_xtest)\n",
        "results = confusion_matrix(df1_ytest, yt_pred_10) \n",
        "print ('Confusion Matrix :')\n",
        "print(results) \n",
        "\n",
        "\n",
        "accKNN10=accuracy_score(df1_ytest,yt_pred_10)\n",
        "print(\"Accuracy: \",accKNN10)\n",
        "preKNN10=precision_score(df1_ytest, yt_pred_10, average='macro')\n",
        "print(\"Precision Score: \",preKNN10)\n",
        "f1KNN10=f1_score(df1_ytest, yt_pred_10, average='macro')\n",
        "print(\"F1 Score: \",f1KNN10)\n",
        "reKNN10=recall_score(df1_ytest, yt_pred_10, average='macro')  \n",
        "print(\"Recall: \",reKNN10)\n"
      ],
      "execution_count": 10,
      "outputs": [
        {
          "output_type": "stream",
          "text": [
            "\t\tKNN Classification of UNSW-NB15\n",
            "\n",
            "\t\tTop 15 Features \n",
            "Confusion Matrix :\n",
            "[[  208   131    42    58   129    16    32    61     0     0]\n",
            " [  198   121    13    49   134    18    16    33     1     0]\n",
            " [  822   758   472   913   502    21   202   372    27     0]\n",
            " [  955   835   503  6664   944    39   616   540    33     3]\n",
            " [  444   315    97   469  3357    54  1111   164    50     1]\n",
            " [   17    11    34   375   168 18078   140    44     4     0]\n",
            " [  496    52   218  1986  7076    20 26822   233    93     4]\n",
            " [   82   102    51   324   117     5    71  2737     5     2]\n",
            " [    5     7    12    50   161     6    51    32    54     0]\n",
            " [    0     1     2    26    11     0     3     0     0     1]]\n",
            "Accuracy:  0.7107078657144246\n",
            "Precision Score:  0.41756373950870634\n",
            "F1 Score:  0.4023931552335053\n",
            "Recall:  0.44140047486900985\n"
          ],
          "name": "stdout"
        }
      ]
    },
    {
      "cell_type": "code",
      "metadata": {
        "id": "gxUUKcyegAMb"
      },
      "source": [
        ""
      ],
      "execution_count": 10,
      "outputs": []
    },
    {
      "cell_type": "code",
      "metadata": {
        "colab": {
          "base_uri": "https://localhost:8080/"
        },
        "id": "kBj8htUIsYM0",
        "outputId": "127e2e8b-ce0b-45ca-9f89-212537f2ca28"
      },
      "source": [
        "clfKNN20=neighbors.KNeighborsClassifier()\n",
        "clfKNN20.fit(df2_xtrain,df2_ytrain)\n",
        "\n",
        "print (\"\\t\\tKNN Analysis of UNSW-NB15\\n\\n\\t\\tTop 30 Features \")\n",
        "\n",
        "y_pred_20 = clfKNN20.predict(df2_xtest)\n",
        "results = confusion_matrix(df2_ytest, y_pred_20) \n",
        "print ('Confusion Matrix :')\n",
        "print(results) \n",
        "\n",
        "\n",
        "accKNN20=accuracy_score(df2_ytest,y_pred_20)\n",
        "print(\"Accuracy: \",accKNN20)\n",
        "preKNN20=precision_score(df2_ytest, y_pred_20, average='macro')\n",
        "print(\"Precision Score: \",preKNN20)\n",
        "f1KNN20=f1_score(df2_ytest, y_pred_20, average='macro')\n",
        "print(\"F1 Score: \",f1KNN20)\n",
        "reKNN20=recall_score(df2_ytest, y_pred_20, average='macro')  \n",
        "print(\"Recall: \",reKNN20)\n"
      ],
      "execution_count": 11,
      "outputs": [
        {
          "output_type": "stream",
          "text": [
            "\t\tKNN Analysis of UNSW-NB15\n",
            "\n",
            "\t\tTop 30 Features \n",
            "Confusion Matrix :\n",
            "[[  267   167    15    69   117    16    17     9     0     0]\n",
            " [  251   109     6    65   118    18    11     5     0     0]\n",
            " [ 1150  1136   184   646   494    22   307   129    21     0]\n",
            " [ 1321  1139   396  4316  1854    39  1749   290    28     0]\n",
            " [  599   332   140  2053  1702    56  1023   122    35     0]\n",
            " [   30    22    26   304   220 18083   132    51     3     0]\n",
            " [  132    71   537  7955  4981    21 22760   473    69     1]\n",
            " [  126   152    91   985   400     7   405  1325     5     0]\n",
            " [    7     6    13   109   126     5    52    17    43     0]\n",
            " [    0     0     1    22     8     0    13     0     0     0]]\n",
            "Accuracy:  0.5925885439440315\n",
            "Precision Score:  0.3273066113090913\n",
            "F1 Score:  0.3053129978339978\n",
            "Recall:  0.336096541715301\n"
          ],
          "name": "stdout"
        }
      ]
    },
    {
      "cell_type": "code",
      "metadata": {
        "colab": {
          "base_uri": "https://localhost:8080/"
        },
        "id": "amTNhuAbsYSP",
        "outputId": "438cb0c0-146c-4d13-ef38-2278a974cbc0"
      },
      "source": [
        "clfKNN20=neighbors.KNeighborsClassifier()\n",
        "clfKNN20.fit(df3_xtrain,df3_ytrain)\n",
        "\n",
        "print (\"\\t\\tKNN Analysis of UNSW-NB15\\n\\n\\t\\tAll Features \")\n",
        "\n",
        "y_pred_all = clfKNN20.predict(df3_xtest)\n",
        "results = confusion_matrix(df3_ytest, y_pred_all) \n",
        "print ('Confusion Matrix :')\n",
        "print(results) \n",
        "\n",
        "\n",
        "accKNNall=accuracy_score(df3_ytest, y_pred_all)\n",
        "print(\"Accuracy: \",accKNNall)\n",
        "preKNNall=precision_score(df3_ytest, y_pred_all, average='macro')\n",
        "print(\"Precision Score: \",preKNNall)\n",
        "f1KNNall=f1_score(df3_ytest, y_pred_all, average='macro')\n",
        "print(\"F1 Score: \",f1KNNall)\n",
        "reKNNall=recall_score(df3_ytest, y_pred_all, average='macro')  \n",
        "print(\"Recall: \",reKNNall)\n"
      ],
      "execution_count": 12,
      "outputs": [
        {
          "output_type": "stream",
          "text": [
            "\t\tKNN Analysis of UNSW-NB15\n",
            "\n",
            "\t\tAll Features \n",
            "Confusion Matrix :\n",
            "[[  336   161     1    44   101    16    17     1     0     0]\n",
            " [  304    98     1    44   105    18    11     2     0     0]\n",
            " [ 1491  1070   101   581   437    22   305    61    21     0]\n",
            " [ 1671  1073   319  4245  1794    39  1743   220    28     0]\n",
            " [  726   307   123  2007  1672    56  1024   112    35     0]\n",
            " [   37    21    26   301   219 18083   130    51     3     0]\n",
            " [  115    55   537  7955  5009    21 22765   473    69     1]\n",
            " [  164   146    81   981   392     7   405  1315     5     0]\n",
            " [    6     3    13   109   132     5    50    16    44     0]\n",
            " [    0     0     1    22     8     0    13     0     0     0]]\n",
            "Accuracy:  0.5910095710051985\n",
            "Precision Score:  0.3265665197965294\n",
            "F1 Score:  0.3034833731074776\n",
            "Recall:  0.34123127222810123\n"
          ],
          "name": "stdout"
        }
      ]
    },
    {
      "cell_type": "code",
      "metadata": {
        "id": "RKy3aGMusYXi"
      },
      "source": [
        "#Decision TREE"
      ],
      "execution_count": 13,
      "outputs": []
    },
    {
      "cell_type": "code",
      "metadata": {
        "colab": {
          "base_uri": "https://localhost:8080/"
        },
        "id": "8A2BPc0ksky-",
        "outputId": "09a9f935-1fef-4fd6-e919-29b7db82adc4"
      },
      "source": [
        "clfDT_10 = DecisionTreeClassifier()\n",
        "print (\"\\t\\tDecision Tree Analysis of UNSW-NB15\\n\\n\\t\\tTop 15 Features \")\n",
        "\n",
        "# Train Decision Tree Classifer\n",
        "clfDT_10 = clfDT_10.fit(df1_xtrain,df1_ytrain)\n",
        "\n",
        "#Predict the response for test dataset\n",
        "y_pred_DT10 = clfDT_10.predict(df1_xtest)\n",
        "\n",
        "\n",
        "#print (\"\\t\\tMajor Verifcation\")\n",
        "results_DT10 = confusion_matrix(df1_ytest, y_pred_DT10) \n",
        "print ('Confusion Matrix :')\n",
        "print(results_DT10) \n",
        "\n",
        "\n",
        "accDT10=accuracy_score(df1_ytest, y_pred_DT10)\n",
        "preDT10=precision_score(df1_ytest, y_pred_DT10, average='macro')\n",
        "f1DT10=f1_score(df1_ytest, y_pred_DT10, average='macro')\n",
        "reDT10=recall_score(df1_ytest, y_pred_DT10, average='macro')\n",
        "\n",
        "print ('Accuracy Score :',accDT10 )\n",
        "print(\"Precision Score: \",preDT10)\n",
        "print(\"F1 Score: \",f1DT10)\n",
        "print(\"Recall: \",reDT10)\n",
        "\n"
      ],
      "execution_count": 14,
      "outputs": [
        {
          "output_type": "stream",
          "text": [
            "\t\tDecision Tree Analysis of UNSW-NB15\n",
            "\n",
            "\t\tTop 15 Features \n",
            "Confusion Matrix :\n",
            "[[  375    82     1     8   185     0    24     2     0     0]\n",
            " [  316    56     3    12   186     0     7     0     3     0]\n",
            " [ 1480  1033   530   527   369    29    63    19    35     4]\n",
            " [ 1695   961   595  6540   619    86   256   223   142    15]\n",
            " [  719   137   157   531  2897    54  1294     9   262     2]\n",
            " [   18    23    71   217    56 18437    22     4    17     6]\n",
            " [  593    10  1107  1179  7342    84 26502    33   149     1]\n",
            " [  158   151    32   271    41     5    35  2762    37     4]\n",
            " [    1     7    15    43    30     6    13     4   259     0]\n",
            " [    0     1     0    14     0     1     1     0     1    26]]\n",
            "Accuracy Score : 0.7091288927755915\n",
            "Precision Score:  0.48143083408558124\n",
            "F1 Score:  0.4837114772349092\n",
            "Recall:  0.5604387913711979\n"
          ],
          "name": "stdout"
        }
      ]
    },
    {
      "cell_type": "code",
      "metadata": {
        "colab": {
          "base_uri": "https://localhost:8080/"
        },
        "id": "ZfSSpwm2sk1Y",
        "outputId": "56feebab-3816-4324-8b90-724b6d627851"
      },
      "source": [
        "clfDT_20 = DecisionTreeClassifier()\n",
        "print (\"\\t\\tDecision Tree Analysis of UNSW-NB15\\n\\n\\t\\tTop 30 Features \")\n",
        "\n",
        "# Train Decision Tree Classifer\n",
        "clfDT_20 = clfDT_20.fit(df2_xtrain,df2_ytrain)\n",
        "\n",
        "#Predict the response for test dataset\n",
        "y_pred_DT20 = clfDT_20.predict(df2_xtest)\n",
        "\n",
        "#print (\"\\t\\tMajor Verifcation\")\n",
        "results_DT20 = confusion_matrix(df2_ytest, y_pred_DT20) \n",
        "print ('Confusion Matrix :')\n",
        "print(results_DT20)\n",
        "\n",
        "accDT20=accuracy_score(df2_ytest, y_pred_DT20)\n",
        "preDT20=precision_score(df2_ytest, y_pred_DT20, average='macro')\n",
        "f1DT20=f1_score(df2_ytest, y_pred_DT20, average='macro')\n",
        "reDT20=recall_score(df2_ytest, y_pred_DT20, average='macro')\n",
        "\n",
        "print ('Accuracy Score :',accDT20 )\n",
        "print(\"Precision Score: \",preDT20)\n",
        "print(\"F1 Score: \",f1DT20)\n",
        "print(\"Recall: \",reDT20)"
      ],
      "execution_count": 15,
      "outputs": [
        {
          "output_type": "stream",
          "text": [
            "\t\tDecision Tree Analysis of UNSW-NB15\n",
            "\n",
            "\t\tTop 30 Features \n",
            "Confusion Matrix :\n",
            "[[  507   112     0    41     1     3    10     0     3     0]\n",
            " [  493    52     3    12    11     2     6     0     4     0]\n",
            " [ 1750  1025   556   498    96    42    62    25    35     0]\n",
            " [ 2106   968   571  6421   182    99   282   396    99     8]\n",
            " [ 1070   148    80   354  2672    27  1516    17   177     1]\n",
            " [   26    23    54   210    35 18481    17     6    14     5]\n",
            " [  661    11  1233  1527  7403    71 25906    44   143     1]\n",
            " [  167   145    30   265    27     5    29  2778    49     1]\n",
            " [    1    10    17    48    27     2    17     4   252     0]\n",
            " [    0     1     2    15     0     1     0     2     1    22]]\n",
            "Accuracy Score : 0.7001773308069766\n",
            "Precision Score:  0.4922532905878535\n",
            "F1 Score:  0.48624590124125167\n",
            "Recall:  0.5632429411793531\n"
          ],
          "name": "stdout"
        }
      ]
    },
    {
      "cell_type": "code",
      "metadata": {
        "colab": {
          "base_uri": "https://localhost:8080/"
        },
        "id": "MQrDjJUosk4b",
        "outputId": "997461d6-0b69-4546-aedc-4cec72456c57"
      },
      "source": [
        "clfDT_all = DecisionTreeClassifier()\n",
        "print (\"\\t\\tDecision Tree Analysis of UNSW-NB15\\n\\n\\t\\tAll Features \")\n",
        "\n",
        "# Train Decision Tree Classifer\n",
        "clfDT_all = clfDT_all.fit(df3_xtrain,df3_ytrain)\n",
        "\n",
        "#Predict the response for test dataset\n",
        "y_pred_DTall = clfDT_all.predict(df3_xtest)\n",
        "\n",
        "#print (\"\\t\\tMajor Verifcation\")\n",
        "results_DTall = confusion_matrix(df3_ytest, y_pred_DTall) \n",
        "print ('Confusion Matrix :')\n",
        "print(results_DTall)\n",
        "\n",
        "accDTall=accuracy_score(df3_ytest, y_pred_DTall)\n",
        "preDTall=precision_score(df3_ytest, y_pred_DTall, average='macro')\n",
        "f1DTall=f1_score(df3_ytest, y_pred_DTall, average='macro')\n",
        "reDTall=recall_score(df3_ytest, y_pred_DTall, average='macro')\n",
        "\n",
        "print ('Accuracy Score :', accDTall)\n",
        "print(\"Precision Score: \",preDTall)\n",
        "print(\"F1 Score: \",f1DTall)\n",
        "print(\"Recall: \",reDTall)"
      ],
      "execution_count": 16,
      "outputs": [
        {
          "output_type": "stream",
          "text": [
            "\t\tDecision Tree Analysis of UNSW-NB15\n",
            "\n",
            "\t\tAll Features \n",
            "Confusion Matrix :\n",
            "[[  497   113     1    53     0     1    11     0     1     0]\n",
            " [  490    56     1     8     5     2    17     0     4     0]\n",
            " [ 1715  1111   543   497    71    34    57    26    35     0]\n",
            " [ 2078  1039   547  6513   158    97   371   227    93     9]\n",
            " [ 1049   173    85   356  2668    21  1561     6   143     0]\n",
            " [   26    21    70   243    42 18423    19     5    17     5]\n",
            " [  710    10   154   774  7421    28 27730    43   127     3]\n",
            " [  167   160    31   284    16     6    39  2748    44     1]\n",
            " [    2     4    13    54    31     3    13     4   254     0]\n",
            " [    0     0     5    13     0     1     0     1     1    23]]\n",
            "Accuracy Score : 0.7221372006024389\n",
            "Precision Score:  0.5197796621174776\n",
            "F1 Score:  0.49975205235130915\n",
            "Recall:  0.569460562025378\n"
          ],
          "name": "stdout"
        }
      ]
    },
    {
      "cell_type": "code",
      "metadata": {
        "id": "0gTs5TBjslQj"
      },
      "source": [
        "#Gaussian Naive Bayes Classifier\n",
        "from sklearn.naive_bayes import MultinomialNB"
      ],
      "execution_count": 17,
      "outputs": []
    },
    {
      "cell_type": "code",
      "metadata": {
        "colab": {
          "base_uri": "https://localhost:8080/"
        },
        "id": "AYLJ7YcaopnF",
        "outputId": "54c88195-dadc-4cf7-a189-a9c064d1cc71"
      },
      "source": [
        "print(df1_ytrain.unique())"
      ],
      "execution_count": 18,
      "outputs": [
        {
          "output_type": "stream",
          "text": [
            "[6 1 0 4 8 7 3 2 9 5]\n"
          ],
          "name": "stdout"
        }
      ]
    },
    {
      "cell_type": "code",
      "metadata": {
        "colab": {
          "base_uri": "https://localhost:8080/"
        },
        "id": "_e-LXX4Ls2Sk",
        "outputId": "d0c454af-2291-40d6-ac3e-72256822b0f6"
      },
      "source": [
        "bayes_10 = MultinomialNB()\n",
        "#bayes_10.partial_fit(df1_xtrain,df1_ytrain,df1_ytrain.unique())\n",
        "bayes_10.fit(df1_xtrain,df1_ytrain)\n",
        "\n",
        "print (\"\\t\\tMultinomial Naive Bayes Analysis of UNSW-NB15\\n\\n\\t\\tTop 15 Features \")\n",
        "y_pred_gnb10 = bayes_10.predict(df1_xtest)\n",
        "\n",
        "#print (\"\\t\\tMajor Verifcation KDD99 10% GNB\")\n",
        "results = confusion_matrix(df1_ytest, y_pred_gnb10) \n",
        "print ('Confusion Matrix :')\n",
        "print(results) \n",
        "\n",
        "accbayes_10=accuracy_score(df1_ytest, y_pred_gnb10) \n",
        "prebayes_10=precision_score(df1_ytest, y_pred_gnb10, average='macro')\n",
        "f1bayes_10=f1_score(df1_ytest, y_pred_gnb10, average='macro')\n",
        "rebayes_10=recall_score(df1_ytest, y_pred_gnb10, average='macro')\n",
        "\n",
        "print ('Accuracy Score :',accbayes_10)\n",
        "print(\"Precision Score: \",prebayes_10)\n",
        "print(\"F1 Score: \",f1bayes_10)\n",
        "print(\"Recall: \",rebayes_10)\n"
      ],
      "execution_count": 19,
      "outputs": [
        {
          "output_type": "stream",
          "text": [
            "\t\tMultinomial Naive Bayes Analysis of UNSW-NB15\n",
            "\n",
            "\t\tTop 15 Features \n",
            "Confusion Matrix :\n",
            "[[  601     0     0    14     0     1    61     0     0     0]\n",
            " [  483     0     0    38     1     2    59     0     0     0]\n",
            " [ 2473     0     0   510    72    78   934    10    12     0]\n",
            " [ 2697     0     0  1738   125    56  6494     2    20     0]\n",
            " [ 1222     0     0   752   550   374  3111     7    46     0]\n",
            " [   28     0     0   109    95 18159   475     1     4     0]\n",
            " [  193     0     1  4062  1501  2792 28284    18   149     0]\n",
            " [ 1541     0     0    68     8    15  1858     6     0     0]\n",
            " [   75     0     0     1    36     9   192     6    59     0]\n",
            " [    0     0     0     2     4     2    36     0     0     0]]\n",
            "Accuracy Score : 0.5999732789194967\n",
            "Precision Score:  0.23827456767032631\n",
            "F1 Score:  0.2239561902839405\n",
            "Recall:  0.30190991296773395\n"
          ],
          "name": "stdout"
        },
        {
          "output_type": "stream",
          "text": [
            "/usr/local/lib/python3.7/dist-packages/sklearn/metrics/_classification.py:1272: UndefinedMetricWarning:\n",
            "\n",
            "Precision is ill-defined and being set to 0.0 in labels with no predicted samples. Use `zero_division` parameter to control this behavior.\n",
            "\n"
          ],
          "name": "stderr"
        }
      ]
    },
    {
      "cell_type": "code",
      "metadata": {
        "colab": {
          "base_uri": "https://localhost:8080/"
        },
        "id": "nZUmRijOs2VE",
        "outputId": "669a0e1a-303e-4050-c3e7-187f414e3cd4"
      },
      "source": [
        "bayes_20 = MultinomialNB()\n",
        "bayes_20.fit(df2_xtrain,df2_ytrain)\n",
        "\n",
        "print (\"\\t\\tMultinomial Naive Bayes Analysis of UNSW-NB15\\n\\n\\t\\tTop 30 Features \")\n",
        "\n",
        "y_pred_gnb20 = bayes_20.predict(df2_xtest)\n",
        "\n",
        "#print (\"\\t\\tMajor Verifcation KDD99 10% GNB\")\n",
        "results = confusion_matrix(df2_ytest, y_pred_gnb20) \n",
        "print ('Confusion Matrix :')\n",
        "print(results)\n",
        "\n",
        "accbayes_20=accuracy_score(df2_ytest, y_pred_gnb20) \n",
        "prebayes_20=precision_score(df2_ytest, y_pred_gnb20, average='macro')\n",
        "f1bayes_20=f1_score(df2_ytest, y_pred_gnb20, average='macro')\n",
        "rebayes_20=recall_score(df2_ytest, y_pred_gnb20, average='macro')\n",
        "\n",
        "print ('Accuracy Score :',accbayes_20)\n",
        "print(\"Precision Score: \",prebayes_20)\n",
        "print(\"F1 Score: \",f1bayes_20)\n",
        "print(\"Recall: \",rebayes_20)"
      ],
      "execution_count": 20,
      "outputs": [
        {
          "output_type": "stream",
          "text": [
            "\t\tMultinomial Naive Bayes Analysis of UNSW-NB15\n",
            "\n",
            "\t\tTop 30 Features \n",
            "Confusion Matrix :\n",
            "[[    3     0     2    40     0   614     0     0     0    18]\n",
            " [    3     0    10    36     0   515     4     0     0    15]\n",
            " [   31     0    87   677     0  2903    17     0     0   374]\n",
            " [   36     0   128  5200     0  3163    76     0     0  2529]\n",
            " [   45     0    54  2445     0  2250     0     0     0  1268]\n",
            " [    4     0     4   345     0 18343     4     0     0   171]\n",
            " [  585     0    73 14651     0  5965  7847     1     1  7877]\n",
            " [    8     0    22  1262     0  1601     0     0     0   603]\n",
            " [    0     0     0   130     0   185     0     0     0    63]\n",
            " [    0     0     0    24     0     6     0     0     0    14]]\n",
            "Accuracy Score : 0.3825244133508235\n",
            "Precision Score:  0.1947161142507347\n",
            "F1 Score:  0.135809387243145\n",
            "Recall:  0.19951131812748615\n"
          ],
          "name": "stdout"
        },
        {
          "output_type": "stream",
          "text": [
            "/usr/local/lib/python3.7/dist-packages/sklearn/metrics/_classification.py:1272: UndefinedMetricWarning:\n",
            "\n",
            "Precision is ill-defined and being set to 0.0 in labels with no predicted samples. Use `zero_division` parameter to control this behavior.\n",
            "\n"
          ],
          "name": "stderr"
        }
      ]
    },
    {
      "cell_type": "code",
      "metadata": {
        "colab": {
          "base_uri": "https://localhost:8080/"
        },
        "id": "VcEkvsRBs2YC",
        "outputId": "52e2c9a8-3f52-4e8d-9bf4-5bf2176f7be0"
      },
      "source": [
        "bayes_all = MultinomialNB()\n",
        "bayes_all.fit(df3_xtrain,df3_ytrain)\n",
        "\n",
        "print (\"\\t\\tMultinomial Naive Bayes Analysis of UNSW-NB15\\n\\n\\t\\tAll Features \")\n",
        "y_pred_gnball = bayes_all.predict(df3_xtest)\n",
        "\n",
        "#print (\"\\t\\tMajor Verifcation KDD99 10% GNB\")\n",
        "results = confusion_matrix(df3_ytest, y_pred_gnball) \n",
        "print ('Confusion Matrix :')\n",
        "print(results)\n",
        "\n",
        "accbayes_all=accuracy_score(df3_ytest, y_pred_gnball)\n",
        "prebayes_all=precision_score(df3_ytest, y_pred_gnball, average='macro')\n",
        "f1bayes_all=f1_score(df3_ytest, y_pred_gnball, average='macro')\n",
        "rebayes_all=recall_score(df3_ytest, y_pred_gnball, average='macro')\n",
        "\n",
        "print ('Accuracy Score :', accbayes_all)\n",
        "print(\"Precision Score: \",prebayes_all)\n",
        "print(\"F1 Score: \",f1bayes_all)\n",
        "print(\"Recall: \",rebayes_all)"
      ],
      "execution_count": 21,
      "outputs": [
        {
          "output_type": "stream",
          "text": [
            "\t\tMultinomial Naive Bayes Analysis of UNSW-NB15\n",
            "\n",
            "\t\tAll Features \n",
            "Confusion Matrix :\n",
            "[[    3     0     2    40     0   614     0     0     0    18]\n",
            " [    3     0    10    36     0   515     4     0     0    15]\n",
            " [   31     0    87   677     0  2903    17     0     0   374]\n",
            " [   36     0   128  5200     0  3163    76     0     0  2529]\n",
            " [   45     0    54  2445     0  2250     0     0     0  1268]\n",
            " [    4     0     4   345     0 18343     4     0     0   171]\n",
            " [  615     0    14 14654     0  6027  7813     1     1  7875]\n",
            " [    8     0    22  1262     0  1601     0     0     0   603]\n",
            " [    0     0     0   130     0   185     0     0     0    63]\n",
            " [    0     0     0    24     0     6     0     0     0    14]]\n",
            "Accuracy Score : 0.38211145119759027\n",
            "Precision Score:  0.1988094523267321\n",
            "F1 Score:  0.13564830638485165\n",
            "Recall:  0.19941942623559425\n"
          ],
          "name": "stdout"
        },
        {
          "output_type": "stream",
          "text": [
            "/usr/local/lib/python3.7/dist-packages/sklearn/metrics/_classification.py:1272: UndefinedMetricWarning:\n",
            "\n",
            "Precision is ill-defined and being set to 0.0 in labels with no predicted samples. Use `zero_division` parameter to control this behavior.\n",
            "\n"
          ],
          "name": "stderr"
        }
      ]
    },
    {
      "cell_type": "code",
      "metadata": {
        "id": "D1DehUCas2bP"
      },
      "source": [
        "#Random Forest Classifier \n"
      ],
      "execution_count": 22,
      "outputs": []
    },
    {
      "cell_type": "code",
      "metadata": {
        "colab": {
          "base_uri": "https://localhost:8080/"
        },
        "id": "5eCGklXTuKYb",
        "outputId": "5baf88f3-c803-450f-c46a-6abb90b44624"
      },
      "source": [
        "print (\"\\t\\tRandom Forest Analysis of UNSW-NB15\\n\\n\\t\\tTop 15 Features \")\n",
        "\n",
        "#Create a Gaussian Classifier\n",
        "clfRF_10=RandomForestClassifier()\n",
        "\n",
        "#Train the model using the training sets y_pred=clf.predict(X_test)\n",
        "clfRF_10.fit(df1_xtrain,df1_ytrain)\n",
        "\n",
        "y_pred_RF10=clfRF_10.predict(df1_xtest)\n",
        "#print(\"Accuracy Random Forest:\",metrics.accuracy_score(y_test, y_pred_RF))\n",
        "\n",
        "results_10 = confusion_matrix(df1_ytest, y_pred_RF10) \n",
        "print ('Confusion Matrix :')\n",
        "print(results_10) \n",
        "\n",
        "accclfRF_10=accuracy_score(df1_ytest, y_pred_RF10)\n",
        "preclfRF_10=precision_score(df1_ytest, y_pred_RF10, average='macro')\n",
        "f1clfRF_10=f1_score(df1_ytest, y_pred_RF10, average='macro')\n",
        "reclfRF_10=recall_score(df1_ytest, y_pred_RF10, average='macro')\n",
        "\n",
        "print ('Accuracy Score :',accclfRF_10 )\n",
        "print(\"Precision Score: \",preclfRF_10)\n",
        "print(\"F1 Score: \",f1clfRF_10)\n",
        "print(\"Recall: \",reclfRF_10)"
      ],
      "execution_count": 23,
      "outputs": [
        {
          "output_type": "stream",
          "text": [
            "\t\tRandom Forest Analysis of UNSW-NB15\n",
            "\n",
            "\t\tTop 15 Features \n",
            "Confusion Matrix :\n",
            "[[   63   123     6    59   373     0    34    16     3     0]\n",
            " [   55    80     6    22   383     2    26     2     7     0]\n",
            " [  445  1258   456   813   812    18    51   191    44     1]\n",
            " [  447  1177   146  7522  1264    18   172   301    80     5]\n",
            " [  152   229    21   434  3971     9   987    23   236     0]\n",
            " [    6     8    43   398    66 18314    11     6    17     2]\n",
            " [  291     1    63   714  7410     7 28377    11   125     1]\n",
            " [   49   161    24   312    99     0    17  2803    31     0]\n",
            " [    0     1    11    45    33     0    11     3   273     1]\n",
            " [    0     0     0    20     1     1     1     0     0    21]]\n",
            "Accuracy Score : 0.7515911188845164\n",
            "Precision Score:  0.5458887402438959\n",
            "F1 Score:  0.504794488285499\n",
            "Recall:  0.5411269748105987\n"
          ],
          "name": "stdout"
        }
      ]
    },
    {
      "cell_type": "code",
      "metadata": {
        "colab": {
          "base_uri": "https://localhost:8080/"
        },
        "id": "jYQ8JD5ruKl8",
        "outputId": "9cb9f2b9-5f23-42eb-85f1-7f72730bbbec"
      },
      "source": [
        "print (\"\\t\\tRandom Forest Analysis of UNSW-NB15\\n\\n\\t\\tTop 30 Features \")\n",
        "\n",
        "#Create a Gaussian Classifier\n",
        "clfRF_20=RandomForestClassifier()\n",
        "\n",
        "#Train the model using the training sets y_pred=clf.predict(X_test)\n",
        "clfRF_20.fit(df2_xtrain,df2_ytrain)\n",
        "\n",
        "y_pred_RF20=clfRF_20.predict(df2_xtest)\n",
        "#print(\"Accuracy Random Forest:\",metrics.accuracy_score(y_test, y_pred_RF))\n",
        "\n",
        "results_20 = confusion_matrix(df2_ytest, y_pred_RF20) \n",
        "print ('Confusion Matrix :')\n",
        "print(results_20)\n",
        "\n",
        "accclfRF_20=accuracy_score(df2_ytest, y_pred_RF20) \n",
        "preclfRF_20=precision_score(df2_ytest, y_pred_RF20, average='macro')\n",
        "f1clfRF_20=f1_score(df2_ytest, y_pred_RF20, average='macro')\n",
        "reclfRF_20=recall_score(df2_ytest, y_pred_RF20, average='macro')\n",
        "\n",
        "print ('Accuracy Score :',accclfRF_20)\n",
        "print(\"Precision Score: \",preclfRF_20)\n",
        "print(\"F1 Score: \",f1clfRF_20)\n",
        "print(\"Recall: \",reclfRF_20)"
      ],
      "execution_count": 24,
      "outputs": [
        {
          "output_type": "stream",
          "text": [
            "\t\tRandom Forest Analysis of UNSW-NB15\n",
            "\n",
            "\t\tTop 30 Features \n",
            "Confusion Matrix :\n",
            "[[   73   187    16    49   256     0    19    74     3     0]\n",
            " [   70   121    21    25   260     0     3    77     6     0]\n",
            " [  444  1408   515   783   679     7     9   199    45     0]\n",
            " [  496  1357   179  7581   957    12    92   387    67     4]\n",
            " [  169   335    43   391  3879     2   869   149   225     0]\n",
            " [    1     9    40   377    61 18347     4    10    19     3]\n",
            " [  443     1    34   750  7711     6 27934     4   116     1]\n",
            " [   52   173    29   308    79     0    13  2817    25     0]\n",
            " [    0     0     8    55    43     0     6     1   264     1]\n",
            " [    0     0     0    29     1     1     2     0     0    11]]\n",
            "Accuracy Score : 0.7474857892435505\n",
            "Precision Score:  0.5282397757263719\n",
            "F1 Score:  0.48362148667116694\n",
            "Recall:  0.5243617247192811\n"
          ],
          "name": "stdout"
        }
      ]
    },
    {
      "cell_type": "code",
      "metadata": {
        "colab": {
          "base_uri": "https://localhost:8080/"
        },
        "id": "EpJHXBBTuKvd",
        "outputId": "46571832-07f2-4b9e-a6dd-9b82de53d830"
      },
      "source": [
        "print (\"\\t\\tRandom Forest Analysis of UNSW-NB15\\n\\n\\t\\tAll Features \")\n",
        "\n",
        "#Create a Random Forest Classifier\n",
        "clfRF_all=RandomForestClassifier()\n",
        "\n",
        "#Train the model using the training sets y_pred=clf.predict(X_test)\n",
        "clfRF_all.fit(df3_xtrain,df3_ytrain)\n",
        "\n",
        "y_pred_RFall=clfRF_all.predict(df3_xtest)\n",
        "#print(\"Accuracy Random Forest:\",metrics.accuracy_score(y_test, y_pred_RF))\n",
        "\n",
        "results_all = confusion_matrix(df3_ytest, y_pred_RFall) \n",
        "print ('Confusion Matrix :')\n",
        "print(results_all)\n",
        "\n",
        "accclfRF_all=accuracy_score(df3_ytest, y_pred_RFall) \n",
        "preclfRF_all=precision_score(df3_ytest, y_pred_RFall, average='macro')\n",
        "f1clfRF_all=f1_score(df3_ytest, y_pred_RFall, average='macro')\n",
        "reclfRF_all=recall_score(df3_ytest, y_pred_RFall, average='macro')\n",
        "\n",
        "print ('Accuracy Score :',accclfRF_all)\n",
        "print(\"Precision Score: \",preclfRF_all)\n",
        "print(\"F1 Score: \",f1clfRF_all)\n",
        "print(\"Recall: \",reclfRF_all)"
      ],
      "execution_count": 25,
      "outputs": [
        {
          "output_type": "stream",
          "text": [
            "\t\tRandom Forest Analysis of UNSW-NB15\n",
            "\n",
            "\t\tAll Features \n",
            "Confusion Matrix :\n",
            "[[   41   233    11    58   224     0     9    98     3     0]\n",
            " [   41   150    13    26   244     0     2   100     7     0]\n",
            " [  344  1712   459   764   542     6    32   180    50     0]\n",
            " [  384  1650   137  7577   809    16    97   386    75     1]\n",
            " [  104   407    28   337  3833     3   912   201   237     0]\n",
            " [    2     9    42   398    59 18324     7     5    22     3]\n",
            " [  498     0    31   707  7694     6 27929     6   128     1]\n",
            " [   42   209    22   312    71     1    12  2801    26     0]\n",
            " [    0     0     8    55    42     0     8     3   261     1]\n",
            " [    0     0     0    31     2     1     2     0     0     8]]\n",
            "Accuracy Score : 0.7455545838799009\n",
            "Precision Score:  0.5291308284971128\n",
            "F1 Score:  0.4704574540704611\n",
            "Recall:  0.514240082051188\n"
          ],
          "name": "stdout"
        }
      ]
    },
    {
      "cell_type": "code",
      "metadata": {
        "id": "v6N3Y69QuLDL"
      },
      "source": [
        "#Logistic Regression Classifier \n"
      ],
      "execution_count": null,
      "outputs": []
    },
    {
      "cell_type": "code",
      "metadata": {
        "colab": {
          "base_uri": "https://localhost:8080/"
        },
        "id": "GJHJebbCuSZr",
        "outputId": "bd906603-8fa3-48c6-dad4-45e828d84f2b"
      },
      "source": [
        "print (\"\\t\\tLogistic Regression Analysis of UNSW-NB15\\n\\n\\t\\tTop 15 Features \")\n",
        "\n",
        "logisticRegr_10 = LogisticRegression(C=1e5, solver='newton-cg',max_iter=1000, multi_class='multinomial')\n",
        "\n",
        "logisticRegr_10.fit(df1_xtrain,df1_ytrain)\n",
        "\n",
        "y_pred_LR10 = logisticRegr_10.predict(df1_xtest)\n",
        "\n",
        "results_LR10 = confusion_matrix(df1_ytest, y_pred_LR10) \n",
        "print ('Confusion Matrix :')\n",
        "print(results_LR10) \n",
        "\n",
        "acclogisticRegr_10=accuracy_score(df1_ytest, y_pred_LR10)\n",
        "prelogisticRegr_10=precision_score(df1_ytest, y_pred_LR10, average='macro')\n",
        "f1logisticRegr_10=f1_score(df1_ytest, y_pred_LR10, average='macro')\n",
        "relogisticRegr_10=recall_score(df1_ytest, y_pred_LR10, average='macro')\n",
        "\n",
        "print ('Accuracy Score :',acclogisticRegr_10 )\n",
        "print(\"Precision Score: \",prelogisticRegr_10)\n",
        "print(\"F1 Score: \",f1logisticRegr_10)\n",
        "print(\"Recall: \",relogisticRegr_10)"
      ],
      "execution_count": 42,
      "outputs": [
        {
          "output_type": "stream",
          "text": [
            "\t\tLogistic Regression Analysis of UNSW-NB15\n",
            "\n",
            "\t\tTop 15 Features \n"
          ],
          "name": "stdout"
        },
        {
          "output_type": "stream",
          "text": [
            "/usr/local/lib/python3.7/dist-packages/scipy/optimize/linesearch.py:466: LineSearchWarning:\n",
            "\n",
            "The line search algorithm did not converge\n",
            "\n",
            "/usr/local/lib/python3.7/dist-packages/scipy/optimize/linesearch.py:314: LineSearchWarning:\n",
            "\n",
            "The line search algorithm did not converge\n",
            "\n",
            "/usr/local/lib/python3.7/dist-packages/sklearn/utils/optimize.py:212: ConvergenceWarning:\n",
            "\n",
            "newton-cg failed to converge. Increase the number of iterations.\n",
            "\n",
            "/usr/local/lib/python3.7/dist-packages/sklearn/metrics/_classification.py:1272: UndefinedMetricWarning:\n",
            "\n",
            "Precision is ill-defined and being set to 0.0 in labels with no predicted samples. Use `zero_division` parameter to control this behavior.\n",
            "\n"
          ],
          "name": "stderr"
        },
        {
          "output_type": "stream",
          "text": [
            "Confusion Matrix :\n",
            "[[    0     0     0    67   603     1     4     2     0     0]\n",
            " [    0     0     0    30   534     2    10     7     0     0]\n",
            " [    0     0     0   701  3023    53   229    83     0     0]\n",
            " [    0     0     4  5355  4777    36   873    87     0     0]\n",
            " [    0     0     0   190  4906   347   574    45     0     0]\n",
            " [    0     0     0   244   520 17912   186     9     0     0]\n",
            " [    0     0     0  4280 10600  2693 19298   129     0     0]\n",
            " [    0     0     0   118  3345    19     6     8     0     0]\n",
            " [    0     0     0    17   343     6     0    12     0     0]\n",
            " [    0     0     0     0    33     2     9     0     0     0]]\n",
            "Accuracy Score : 0.576677355098868\n",
            "Precision Score:  0.24395420989882374\n",
            "F1 Score:  0.2330576404871651\n",
            "Recall:  0.2763386674857679\n"
          ],
          "name": "stdout"
        }
      ]
    },
    {
      "cell_type": "code",
      "metadata": {
        "colab": {
          "base_uri": "https://localhost:8080/"
        },
        "id": "_xO1WIT4uScz",
        "outputId": "8bf00f50-0645-4392-9fbf-a2e6d65e262f"
      },
      "source": [
        "print (\"\\t\\tLogistic Regression Analysis of UNSW NB15\\n\\n\\t\\tTop 30 Features \")\n",
        "\n",
        "logisticRegr_20 = LogisticRegression(C=1e5, solver='newton-cg',max_iter=1000, multi_class='multinomial')\n",
        "\n",
        "logisticRegr_20.fit(df2_xtrain,df2_ytrain)\n",
        "\n",
        "y_pred_LR20 = logisticRegr_20.predict(df2_xtest)\n",
        "\n",
        "results_LR20 = confusion_matrix(df2_ytest, y_pred_LR20) \n",
        "print ('Confusion Matrix :')\n",
        "print(results_LR20) \n",
        "\n",
        "acclogisticRegr_20=accuracy_score(df2_ytest, y_pred_LR20)\n",
        "prelogisticRegr_20=precision_score(df2_ytest, y_pred_LR20, average='macro')\n",
        "f1logisticRegr_20=f1_score(df2_ytest, y_pred_LR20, average='macro')\n",
        "relogisticRegr_20=recall_score(df2_ytest, y_pred_LR20, average='macro')\n",
        "\n",
        "print ('Accuracy Score :',acclogisticRegr_20 )\n",
        "print(\"Precision Score: \",prelogisticRegr_20)\n",
        "print(\"F1 Score: \",f1logisticRegr_20)\n",
        "print(\"Recall: \",relogisticRegr_20)\n"
      ],
      "execution_count": 43,
      "outputs": [
        {
          "output_type": "stream",
          "text": [
            "\t\tLogistic Regression Analysis of UNSW NB15\n",
            "\n",
            "\t\tTop 30 Features \n"
          ],
          "name": "stdout"
        },
        {
          "output_type": "stream",
          "text": [
            "/usr/local/lib/python3.7/dist-packages/scipy/optimize/linesearch.py:466: LineSearchWarning:\n",
            "\n",
            "The line search algorithm did not converge\n",
            "\n",
            "/usr/local/lib/python3.7/dist-packages/scipy/optimize/linesearch.py:314: LineSearchWarning:\n",
            "\n",
            "The line search algorithm did not converge\n",
            "\n",
            "/usr/local/lib/python3.7/dist-packages/sklearn/utils/optimize.py:212: ConvergenceWarning:\n",
            "\n",
            "newton-cg failed to converge. Increase the number of iterations.\n",
            "\n",
            "/usr/local/lib/python3.7/dist-packages/sklearn/metrics/_classification.py:1272: UndefinedMetricWarning:\n",
            "\n",
            "Precision is ill-defined and being set to 0.0 in labels with no predicted samples. Use `zero_division` parameter to control this behavior.\n",
            "\n"
          ],
          "name": "stderr"
        },
        {
          "output_type": "stream",
          "text": [
            "Confusion Matrix :\n",
            "[[    0     0     0    24   618     2    33     0     0     0]\n",
            " [    0     0     0    21   527     5    30     0     0     0]\n",
            " [    0     0    12   465  2920   123   568     1     0     0]\n",
            " [    0     0     3  2640  4041   122  4323     3     0     0]\n",
            " [    0     0     0  1354  3715   379   614     0     0     0]\n",
            " [    0     0     1   177   224 18168   301     0     0     0]\n",
            " [    0     0     0  4308 10244  2806 19639     3     0     0]\n",
            " [    0     0     0   425  2851    45   175     0     0     0]\n",
            " [    0     0     0    72   234    33    39     0     0     0]\n",
            " [    0     0     0    12    19     2    11     0     0     0]]\n",
            "Accuracy Score : 0.5365350046154593\n",
            "Precision Score:  0.27752510329555236\n",
            "F1 Score:  0.20200551358150495\n",
            "Recall:  0.23464537572388955\n"
          ],
          "name": "stdout"
        }
      ]
    },
    {
      "cell_type": "code",
      "metadata": {
        "colab": {
          "base_uri": "https://localhost:8080/"
        },
        "id": "lp-GI4YS4kUT",
        "outputId": "e6eba21a-d61c-4df5-c1da-b17d8204245a"
      },
      "source": [
        "print (\"\\t\\tLogistic Regression Analysis of UNSW-NB15\\n\\n\\t\\tAll Features \")\n",
        "\n",
        "logisticRegr_all = LogisticRegression(C=1e5, solver='newton-cg', multi_class='multinomial')\n",
        "\n",
        "logisticRegr_all.fit(df3_xtrain,df3_ytrain)\n",
        "\n",
        "y_pred_LRall = logisticRegr_all.predict(df3_xtest)\n",
        "\n",
        "results_LRall = confusion_matrix(df3_ytest, y_pred_LRall) \n",
        "print ('Confusion Matrix :')\n",
        "print(results_LRall)\n",
        "\n",
        "acclogisticRegr_all=accuracy_score(df3_ytest, y_pred_LRall)\n",
        "prelogisticRegr_all=precision_score(df3_ytest, y_pred_LRall, average='macro')\n",
        "f1logisticRegr_all=f1_score(df3_ytest, y_pred_LRall, average='macro')\n",
        "relogisticRegr_all=recall_score(df3_ytest, y_pred_LRall, average='macro')\n",
        "\n",
        "print ('Accuracy Score :', acclogisticRegr_all)\n",
        "print(\"Precision Score: \",prelogisticRegr_all)\n",
        "print(\"F1 Score: \",f1logisticRegr_all)\n",
        "print(\"Recall: \",relogisticRegr_all)\n"
      ],
      "execution_count": 44,
      "outputs": [
        {
          "output_type": "stream",
          "text": [
            "\t\tLogistic Regression Analysis of UNSW-NB15\n",
            "\n",
            "\t\tAll Features \n"
          ],
          "name": "stdout"
        },
        {
          "output_type": "stream",
          "text": [
            "/usr/local/lib/python3.7/dist-packages/sklearn/utils/optimize.py:212: ConvergenceWarning:\n",
            "\n",
            "newton-cg failed to converge. Increase the number of iterations.\n",
            "\n"
          ],
          "name": "stderr"
        },
        {
          "output_type": "stream",
          "text": [
            "Confusion Matrix :\n",
            "[[    0     0     3     2   613     2    57     0     0     0]\n",
            " [    0     0    10    19   493     5    56     0     0     0]\n",
            " [    0     0   143   326  2577   136   907     0     0     0]\n",
            " [    0     0   146  1682  2851   126  6327     0     0     0]\n",
            " [    0     0    42   885  2071   387  2677     0     0     0]\n",
            " [    0     0    10   116   127 18168   450     0     0     0]\n",
            " [    0     0     7  3840  2397  2825 27931     0     0     0]\n",
            " [    0     0    26   179  1537    45  1709     0     0     0]\n",
            " [    0     0     0    27   150    35   166     0     0     0]\n",
            " [    0     0     0     8     4     2    30     0     0     0]]\n",
            "Accuracy Score : 0.6072365544381285\n",
            "Precision Score:  0.22974356478427999\n",
            "F1 Score:  0.20854342565061423\n",
            "Recall:  0.224534320313942\n"
          ],
          "name": "stdout"
        },
        {
          "output_type": "stream",
          "text": [
            "/usr/local/lib/python3.7/dist-packages/sklearn/metrics/_classification.py:1272: UndefinedMetricWarning:\n",
            "\n",
            "Precision is ill-defined and being set to 0.0 in labels with no predicted samples. Use `zero_division` parameter to control this behavior.\n",
            "\n"
          ],
          "name": "stderr"
        }
      ]
    },
    {
      "cell_type": "code",
      "metadata": {
        "id": "DjkKak0CuSwM"
      },
      "source": [
        "#CNN 1D\n",
        "from __future__ import print_function\n",
        "import numpy as np\n",
        "np.random.seed(1337)  # for reproducibility\n",
        "\n",
        "from keras.preprocessing import sequence\n",
        "from keras.models import Sequential\n",
        "from keras.layers import Dense, Dropout, Activation, Lambda\n",
        "from keras.layers import Embedding\n",
        "from keras.layers import Convolution1D,MaxPooling1D, Flatten\n",
        "from keras.datasets import imdb\n",
        "from keras import backend as K\n",
        "#from sklearn.cross_validation import train_test_split\n",
        "import pandas as pd\n",
        "from keras.utils.np_utils import to_categorical\n",
        "\n",
        "from sklearn.preprocessing import Normalizer\n",
        "from keras.models import Sequential\n",
        "from keras.layers import Convolution1D, Dense, Dropout, Flatten, MaxPooling1D\n",
        "from keras.utils import np_utils\n",
        "import numpy as np\n",
        "import h5py\n",
        "from keras import callbacks\n",
        "from keras.layers import LSTM, GRU, SimpleRNN\n",
        "from keras.callbacks import CSVLogger\n",
        "from keras.callbacks import ModelCheckpoint, EarlyStopping, ReduceLROnPlateau, CSVLogger"
      ],
      "execution_count": 26,
      "outputs": []
    },
    {
      "cell_type": "code",
      "metadata": {
        "id": "guWo1Zwx6xl8"
      },
      "source": [
        "def recall_m(y_true, y_pred):\n",
        "    true_positives = K.sum(K.round(K.clip(y_true * y_pred, 0, 1)))\n",
        "    possible_positives = K.sum(K.round(K.clip(y_true, 0, 1)))\n",
        "    recall = true_positives / (possible_positives + K.epsilon())\n",
        "    return recall\n",
        "\n",
        "def precision_m(y_true, y_pred):\n",
        "    true_positives = K.sum(K.round(K.clip(y_true * y_pred, 0, 1)))\n",
        "    predicted_positives = K.sum(K.round(K.clip(y_pred, 0, 1)))\n",
        "    precision = true_positives / (predicted_positives + K.epsilon())\n",
        "    return precision\n",
        "\n",
        "def f1_m(y_true, y_pred):\n",
        "    precision = precision_m(y_true, y_pred)\n",
        "    recall = recall_m(y_true, y_pred)\n",
        "    return 2*((precision*recall)/(precision+recall+K.epsilon()))"
      ],
      "execution_count": 27,
      "outputs": []
    },
    {
      "cell_type": "code",
      "metadata": {
        "colab": {
          "base_uri": "https://localhost:8080/"
        },
        "id": "THg2erH1rxH1",
        "outputId": "8680f0ac-9f8f-451d-d637-108adfdb688a"
      },
      "source": [
        "X = df1_xtrain\n",
        "Y = df1_ytrain\n",
        "C = df1_ytest\n",
        "T = df1_xtest\n",
        "scaler = Normalizer().fit(X)\n",
        "trainX = scaler.transform(X)\n",
        "\n",
        "scaler = Normalizer().fit(T)\n",
        "testT = scaler.transform(T)\n",
        "\n",
        "y_train1 = np.array(Y)\n",
        "y_test1 = np.array(C)\n",
        "\n",
        "y_train= to_categorical(y_train1)\n",
        "y_test= to_categorical(y_test1)\n",
        "\n",
        "\n",
        "# reshape input to be [samples, time steps, features]\n",
        "X_train = np.reshape(trainX, (trainX.shape[0],trainX.shape[1],1))\n",
        "X_test = np.reshape(testT, (testT.shape[0],testT.shape[1],1))\n",
        "\n",
        "\n",
        "from keras.models import Sequential\n",
        "from keras import layers\n",
        "\n",
        "input_dim = df1_xtrain.shape[1]  # Number of features\n",
        "\n",
        "model = Sequential()\n",
        "model.add(layers.Dense(10, input_shape=(15, 1), activation='relu'))\n",
        "model.add(layers.Flatten())\n",
        "model.add(layers.Dense(32, activation='relu'))\n",
        "model.add(layers.Dense(10, activation='softmax'))\n",
        "\n",
        "model.compile(loss='categorical_crossentropy', \n",
        "              optimizer='adam', \n",
        "              metrics=['accuracy',f1_m,precision_m, recall_m])\n",
        "model.summary()"
      ],
      "execution_count": 28,
      "outputs": [
        {
          "output_type": "stream",
          "text": [
            "Model: \"sequential\"\n",
            "_________________________________________________________________\n",
            "Layer (type)                 Output Shape              Param #   \n",
            "=================================================================\n",
            "dense (Dense)                (None, 15, 10)            20        \n",
            "_________________________________________________________________\n",
            "flatten (Flatten)            (None, 150)               0         \n",
            "_________________________________________________________________\n",
            "dense_1 (Dense)              (None, 32)                4832      \n",
            "_________________________________________________________________\n",
            "dense_2 (Dense)              (None, 10)                330       \n",
            "=================================================================\n",
            "Total params: 5,182\n",
            "Trainable params: 5,182\n",
            "Non-trainable params: 0\n",
            "_________________________________________________________________\n"
          ],
          "name": "stdout"
        }
      ]
    },
    {
      "cell_type": "code",
      "metadata": {
        "colab": {
          "base_uri": "https://localhost:8080/"
        },
        "id": "h8U3yJwKxyMM",
        "outputId": "60dc76f1-22c9-4745-e9e3-75c0ff8fed3a"
      },
      "source": [
        "historyNN10 = model.fit(X_train, y_train,\n",
        "                    epochs=100)"
      ],
      "execution_count": 29,
      "outputs": [
        {
          "output_type": "stream",
          "text": [
            "Epoch 1/100\n",
            "3367/3367 [==============================] - 6s 2ms/step - loss: 1.4081 - accuracy: 0.4911 - f1_m: 0.4293 - precision_m: 0.6581 - recall_m: 0.3225\n",
            "Epoch 2/100\n",
            "3367/3367 [==============================] - 5s 2ms/step - loss: 1.1789 - accuracy: 0.5390 - f1_m: 0.5085 - precision_m: 0.7649 - recall_m: 0.3847\n",
            "Epoch 3/100\n",
            "3367/3367 [==============================] - 5s 2ms/step - loss: 1.1114 - accuracy: 0.5728 - f1_m: 0.5332 - precision_m: 0.8057 - recall_m: 0.4029\n",
            "Epoch 4/100\n",
            "3367/3367 [==============================] - 5s 2ms/step - loss: 1.0582 - accuracy: 0.6074 - f1_m: 0.5707 - precision_m: 0.8215 - recall_m: 0.4416\n",
            "Epoch 5/100\n",
            "3367/3367 [==============================] - 5s 2ms/step - loss: 1.0070 - accuracy: 0.6281 - f1_m: 0.6130 - precision_m: 0.8297 - recall_m: 0.4901\n",
            "Epoch 6/100\n",
            "3367/3367 [==============================] - 5s 2ms/step - loss: 0.9781 - accuracy: 0.6393 - f1_m: 0.6280 - precision_m: 0.8390 - recall_m: 0.5058\n",
            "Epoch 7/100\n",
            "3367/3367 [==============================] - 5s 2ms/step - loss: 0.9578 - accuracy: 0.6522 - f1_m: 0.6417 - precision_m: 0.8509 - recall_m: 0.5190\n",
            "Epoch 8/100\n",
            "3367/3367 [==============================] - 6s 2ms/step - loss: 0.9315 - accuracy: 0.6636 - f1_m: 0.6593 - precision_m: 0.8628 - recall_m: 0.5377\n",
            "Epoch 9/100\n",
            "3367/3367 [==============================] - 6s 2ms/step - loss: 0.9195 - accuracy: 0.6665 - f1_m: 0.6656 - precision_m: 0.8671 - recall_m: 0.5441\n",
            "Epoch 10/100\n",
            "3367/3367 [==============================] - 5s 2ms/step - loss: 0.9084 - accuracy: 0.6696 - f1_m: 0.6713 - precision_m: 0.8666 - recall_m: 0.5517\n",
            "Epoch 11/100\n",
            "3367/3367 [==============================] - 5s 2ms/step - loss: 0.8976 - accuracy: 0.6724 - f1_m: 0.6750 - precision_m: 0.8702 - recall_m: 0.5553\n",
            "Epoch 12/100\n",
            "3367/3367 [==============================] - 5s 2ms/step - loss: 0.8866 - accuracy: 0.6791 - f1_m: 0.6794 - precision_m: 0.8748 - recall_m: 0.5593\n",
            "Epoch 13/100\n",
            "3367/3367 [==============================] - 5s 2ms/step - loss: 0.8821 - accuracy: 0.6815 - f1_m: 0.6784 - precision_m: 0.8745 - recall_m: 0.5580\n",
            "Epoch 14/100\n",
            "3367/3367 [==============================] - 5s 2ms/step - loss: 0.8714 - accuracy: 0.6871 - f1_m: 0.6838 - precision_m: 0.8753 - recall_m: 0.5651\n",
            "Epoch 15/100\n",
            "3367/3367 [==============================] - 5s 2ms/step - loss: 0.8597 - accuracy: 0.6914 - f1_m: 0.6862 - precision_m: 0.8776 - recall_m: 0.5674\n",
            "Epoch 16/100\n",
            "3367/3367 [==============================] - 5s 2ms/step - loss: 0.8599 - accuracy: 0.6924 - f1_m: 0.6851 - precision_m: 0.8766 - recall_m: 0.5661\n",
            "Epoch 17/100\n",
            "3367/3367 [==============================] - 5s 2ms/step - loss: 0.8525 - accuracy: 0.6955 - f1_m: 0.6861 - precision_m: 0.8785 - recall_m: 0.5669\n",
            "Epoch 18/100\n",
            "3367/3367 [==============================] - 5s 2ms/step - loss: 0.8422 - accuracy: 0.7003 - f1_m: 0.6897 - precision_m: 0.8774 - recall_m: 0.5720\n",
            "Epoch 19/100\n",
            "3367/3367 [==============================] - 5s 2ms/step - loss: 0.8354 - accuracy: 0.7008 - f1_m: 0.6899 - precision_m: 0.8794 - recall_m: 0.5713\n",
            "Epoch 20/100\n",
            "3367/3367 [==============================] - 5s 2ms/step - loss: 0.8349 - accuracy: 0.7023 - f1_m: 0.6910 - precision_m: 0.8812 - recall_m: 0.5723\n",
            "Epoch 21/100\n",
            "3367/3367 [==============================] - 5s 2ms/step - loss: 0.8284 - accuracy: 0.7022 - f1_m: 0.6906 - precision_m: 0.8775 - recall_m: 0.5733\n",
            "Epoch 22/100\n",
            "3367/3367 [==============================] - 5s 2ms/step - loss: 0.8299 - accuracy: 0.7031 - f1_m: 0.6909 - precision_m: 0.8748 - recall_m: 0.5749\n",
            "Epoch 23/100\n",
            "3367/3367 [==============================] - 5s 2ms/step - loss: 0.8138 - accuracy: 0.7087 - f1_m: 0.6966 - precision_m: 0.8789 - recall_m: 0.5808\n",
            "Epoch 24/100\n",
            "3367/3367 [==============================] - 5s 2ms/step - loss: 0.8112 - accuracy: 0.7081 - f1_m: 0.6963 - precision_m: 0.8800 - recall_m: 0.5801\n",
            "Epoch 25/100\n",
            "3367/3367 [==============================] - 5s 2ms/step - loss: 0.8131 - accuracy: 0.7075 - f1_m: 0.6962 - precision_m: 0.8773 - recall_m: 0.5814\n",
            "Epoch 26/100\n",
            "3367/3367 [==============================] - 5s 2ms/step - loss: 0.8100 - accuracy: 0.7097 - f1_m: 0.6964 - precision_m: 0.8751 - recall_m: 0.5819\n",
            "Epoch 27/100\n",
            "3367/3367 [==============================] - 5s 2ms/step - loss: 0.7984 - accuracy: 0.7128 - f1_m: 0.7014 - precision_m: 0.8741 - recall_m: 0.5896\n",
            "Epoch 28/100\n",
            "3367/3367 [==============================] - 5s 2ms/step - loss: 0.8014 - accuracy: 0.7120 - f1_m: 0.7011 - precision_m: 0.8715 - recall_m: 0.5904\n",
            "Epoch 29/100\n",
            "3367/3367 [==============================] - 5s 2ms/step - loss: 0.7899 - accuracy: 0.7153 - f1_m: 0.7065 - precision_m: 0.8763 - recall_m: 0.5958\n",
            "Epoch 30/100\n",
            "3367/3367 [==============================] - 5s 2ms/step - loss: 0.7948 - accuracy: 0.7120 - f1_m: 0.7044 - precision_m: 0.8687 - recall_m: 0.5965\n",
            "Epoch 31/100\n",
            "3367/3367 [==============================] - 5s 2ms/step - loss: 0.7892 - accuracy: 0.7165 - f1_m: 0.7088 - precision_m: 0.8715 - recall_m: 0.6012\n",
            "Epoch 32/100\n",
            "3367/3367 [==============================] - 5s 2ms/step - loss: 0.7843 - accuracy: 0.7151 - f1_m: 0.7096 - precision_m: 0.8708 - recall_m: 0.6028\n",
            "Epoch 33/100\n",
            "3367/3367 [==============================] - 5s 2ms/step - loss: 0.7753 - accuracy: 0.7186 - f1_m: 0.7125 - precision_m: 0.8703 - recall_m: 0.6071\n",
            "Epoch 34/100\n",
            "3367/3367 [==============================] - 5s 2ms/step - loss: 0.7705 - accuracy: 0.7201 - f1_m: 0.7152 - precision_m: 0.8717 - recall_m: 0.6100\n",
            "Epoch 35/100\n",
            "3367/3367 [==============================] - 5s 2ms/step - loss: 0.7643 - accuracy: 0.7239 - f1_m: 0.7196 - precision_m: 0.8700 - recall_m: 0.6171\n",
            "Epoch 36/100\n",
            "3367/3367 [==============================] - 5s 2ms/step - loss: 0.7665 - accuracy: 0.7213 - f1_m: 0.7175 - precision_m: 0.8687 - recall_m: 0.6147\n",
            "Epoch 37/100\n",
            "3367/3367 [==============================] - 5s 2ms/step - loss: 0.7603 - accuracy: 0.7232 - f1_m: 0.7221 - precision_m: 0.8671 - recall_m: 0.6224\n",
            "Epoch 38/100\n",
            "3367/3367 [==============================] - 5s 2ms/step - loss: 0.7519 - accuracy: 0.7259 - f1_m: 0.7246 - precision_m: 0.8664 - recall_m: 0.6261\n",
            "Epoch 39/100\n",
            "3367/3367 [==============================] - 5s 2ms/step - loss: 0.7436 - accuracy: 0.7289 - f1_m: 0.7267 - precision_m: 0.8653 - recall_m: 0.6299\n",
            "Epoch 40/100\n",
            "3367/3367 [==============================] - 5s 2ms/step - loss: 0.7431 - accuracy: 0.7293 - f1_m: 0.7267 - precision_m: 0.8650 - recall_m: 0.6300\n",
            "Epoch 41/100\n",
            "3367/3367 [==============================] - 5s 2ms/step - loss: 0.7385 - accuracy: 0.7268 - f1_m: 0.7286 - precision_m: 0.8653 - recall_m: 0.6328\n",
            "Epoch 42/100\n",
            "3367/3367 [==============================] - 5s 2ms/step - loss: 0.7360 - accuracy: 0.7293 - f1_m: 0.7302 - precision_m: 0.8627 - recall_m: 0.6364\n",
            "Epoch 43/100\n",
            "3367/3367 [==============================] - 5s 2ms/step - loss: 0.7277 - accuracy: 0.7313 - f1_m: 0.7322 - precision_m: 0.8638 - recall_m: 0.6389\n",
            "Epoch 44/100\n",
            "3367/3367 [==============================] - 5s 2ms/step - loss: 0.7301 - accuracy: 0.7299 - f1_m: 0.7299 - precision_m: 0.8608 - recall_m: 0.6369\n",
            "Epoch 45/100\n",
            "3367/3367 [==============================] - 5s 2ms/step - loss: 0.7231 - accuracy: 0.7338 - f1_m: 0.7336 - precision_m: 0.8614 - recall_m: 0.6420\n",
            "Epoch 46/100\n",
            "3367/3367 [==============================] - 5s 2ms/step - loss: 0.7158 - accuracy: 0.7345 - f1_m: 0.7360 - precision_m: 0.8617 - recall_m: 0.6454\n",
            "Epoch 47/100\n",
            "3367/3367 [==============================] - 5s 2ms/step - loss: 0.7165 - accuracy: 0.7321 - f1_m: 0.7354 - precision_m: 0.8596 - recall_m: 0.6457\n",
            "Epoch 48/100\n",
            "3367/3367 [==============================] - 5s 2ms/step - loss: 0.7126 - accuracy: 0.7364 - f1_m: 0.7361 - precision_m: 0.8610 - recall_m: 0.6462\n",
            "Epoch 49/100\n",
            "3367/3367 [==============================] - 5s 2ms/step - loss: 0.7132 - accuracy: 0.7347 - f1_m: 0.7357 - precision_m: 0.8596 - recall_m: 0.6466\n",
            "Epoch 50/100\n",
            "3367/3367 [==============================] - 5s 2ms/step - loss: 0.7062 - accuracy: 0.7373 - f1_m: 0.7372 - precision_m: 0.8626 - recall_m: 0.6471\n",
            "Epoch 51/100\n",
            "3367/3367 [==============================] - 5s 2ms/step - loss: 0.7045 - accuracy: 0.7367 - f1_m: 0.7388 - precision_m: 0.8587 - recall_m: 0.6516\n",
            "Epoch 52/100\n",
            "3367/3367 [==============================] - 5s 2ms/step - loss: 0.7024 - accuracy: 0.7366 - f1_m: 0.7397 - precision_m: 0.8627 - recall_m: 0.6505\n",
            "Epoch 53/100\n",
            "3367/3367 [==============================] - 5s 2ms/step - loss: 0.7037 - accuracy: 0.7376 - f1_m: 0.7411 - precision_m: 0.8601 - recall_m: 0.6542\n",
            "Epoch 54/100\n",
            "3367/3367 [==============================] - 5s 2ms/step - loss: 0.7037 - accuracy: 0.7352 - f1_m: 0.7367 - precision_m: 0.8566 - recall_m: 0.6496\n",
            "Epoch 55/100\n",
            "3367/3367 [==============================] - 5s 2ms/step - loss: 0.6985 - accuracy: 0.7379 - f1_m: 0.7387 - precision_m: 0.8581 - recall_m: 0.6517\n",
            "Epoch 56/100\n",
            "3367/3367 [==============================] - 5s 2ms/step - loss: 0.6993 - accuracy: 0.7391 - f1_m: 0.7396 - precision_m: 0.8590 - recall_m: 0.6525\n",
            "Epoch 57/100\n",
            "3367/3367 [==============================] - 5s 2ms/step - loss: 0.6990 - accuracy: 0.7383 - f1_m: 0.7426 - precision_m: 0.8612 - recall_m: 0.6559\n",
            "Epoch 58/100\n",
            "3367/3367 [==============================] - 5s 2ms/step - loss: 0.6883 - accuracy: 0.7426 - f1_m: 0.7433 - precision_m: 0.8602 - recall_m: 0.6576\n",
            "Epoch 59/100\n",
            "3367/3367 [==============================] - 5s 2ms/step - loss: 0.6926 - accuracy: 0.7405 - f1_m: 0.7426 - precision_m: 0.8605 - recall_m: 0.6561\n",
            "Epoch 60/100\n",
            "3367/3367 [==============================] - 5s 2ms/step - loss: 0.6945 - accuracy: 0.7388 - f1_m: 0.7427 - precision_m: 0.8577 - recall_m: 0.6578\n",
            "Epoch 61/100\n",
            "3367/3367 [==============================] - 5s 2ms/step - loss: 0.6943 - accuracy: 0.7408 - f1_m: 0.7430 - precision_m: 0.8589 - recall_m: 0.6578\n",
            "Epoch 62/100\n",
            "3367/3367 [==============================] - 5s 2ms/step - loss: 0.6938 - accuracy: 0.7399 - f1_m: 0.7442 - precision_m: 0.8611 - recall_m: 0.6583\n",
            "Epoch 63/100\n",
            "3367/3367 [==============================] - 5s 2ms/step - loss: 0.6933 - accuracy: 0.7409 - f1_m: 0.7429 - precision_m: 0.8598 - recall_m: 0.6570\n",
            "Epoch 64/100\n",
            "3367/3367 [==============================] - 5s 2ms/step - loss: 0.6928 - accuracy: 0.7413 - f1_m: 0.7439 - precision_m: 0.8602 - recall_m: 0.6585\n",
            "Epoch 65/100\n",
            "3367/3367 [==============================] - 5s 2ms/step - loss: 0.6921 - accuracy: 0.7407 - f1_m: 0.7428 - precision_m: 0.8579 - recall_m: 0.6579\n",
            "Epoch 66/100\n",
            "3367/3367 [==============================] - 6s 2ms/step - loss: 0.6902 - accuracy: 0.7426 - f1_m: 0.7429 - precision_m: 0.8581 - recall_m: 0.6583\n",
            "Epoch 67/100\n",
            "3367/3367 [==============================] - 5s 2ms/step - loss: 0.6819 - accuracy: 0.7450 - f1_m: 0.7471 - precision_m: 0.8615 - recall_m: 0.6625\n",
            "Epoch 68/100\n",
            "3367/3367 [==============================] - 5s 2ms/step - loss: 0.6881 - accuracy: 0.7440 - f1_m: 0.7442 - precision_m: 0.8553 - recall_m: 0.6616\n",
            "Epoch 69/100\n",
            "3367/3367 [==============================] - 6s 2ms/step - loss: 0.6823 - accuracy: 0.7443 - f1_m: 0.7477 - precision_m: 0.8608 - recall_m: 0.6638\n",
            "Epoch 70/100\n",
            "3367/3367 [==============================] - 5s 2ms/step - loss: 0.6867 - accuracy: 0.7419 - f1_m: 0.7441 - precision_m: 0.8587 - recall_m: 0.6595\n",
            "Epoch 71/100\n",
            "3367/3367 [==============================] - 6s 2ms/step - loss: 0.6895 - accuracy: 0.7406 - f1_m: 0.7437 - precision_m: 0.8583 - recall_m: 0.6593\n",
            "Epoch 72/100\n",
            "3367/3367 [==============================] - 5s 2ms/step - loss: 0.6914 - accuracy: 0.7425 - f1_m: 0.7426 - precision_m: 0.8599 - recall_m: 0.6566\n",
            "Epoch 73/100\n",
            "3367/3367 [==============================] - 5s 2ms/step - loss: 0.6902 - accuracy: 0.7426 - f1_m: 0.7446 - precision_m: 0.8568 - recall_m: 0.6612\n",
            "Epoch 74/100\n",
            "3367/3367 [==============================] - 5s 2ms/step - loss: 0.6860 - accuracy: 0.7452 - f1_m: 0.7456 - precision_m: 0.8585 - recall_m: 0.6618\n",
            "Epoch 75/100\n",
            "3367/3367 [==============================] - 5s 2ms/step - loss: 0.6761 - accuracy: 0.7455 - f1_m: 0.7479 - precision_m: 0.8573 - recall_m: 0.6660\n",
            "Epoch 76/100\n",
            "3367/3367 [==============================] - 5s 2ms/step - loss: 0.6756 - accuracy: 0.7461 - f1_m: 0.7485 - precision_m: 0.8592 - recall_m: 0.6661\n",
            "Epoch 77/100\n",
            "3367/3367 [==============================] - 5s 2ms/step - loss: 0.6797 - accuracy: 0.7466 - f1_m: 0.7468 - precision_m: 0.8567 - recall_m: 0.6649\n",
            "Epoch 78/100\n",
            "3367/3367 [==============================] - 5s 2ms/step - loss: 0.6722 - accuracy: 0.7481 - f1_m: 0.7508 - precision_m: 0.8588 - recall_m: 0.6697\n",
            "Epoch 79/100\n",
            "3367/3367 [==============================] - 5s 2ms/step - loss: 0.6787 - accuracy: 0.7439 - f1_m: 0.7472 - precision_m: 0.8586 - recall_m: 0.6643\n",
            "Epoch 80/100\n",
            "3367/3367 [==============================] - 5s 2ms/step - loss: 0.6774 - accuracy: 0.7464 - f1_m: 0.7494 - precision_m: 0.8600 - recall_m: 0.6671\n",
            "Epoch 81/100\n",
            "3367/3367 [==============================] - 5s 2ms/step - loss: 0.6804 - accuracy: 0.7469 - f1_m: 0.7491 - precision_m: 0.8583 - recall_m: 0.6676\n",
            "Epoch 82/100\n",
            "3367/3367 [==============================] - 5s 2ms/step - loss: 0.6734 - accuracy: 0.7492 - f1_m: 0.7497 - precision_m: 0.8579 - recall_m: 0.6685\n",
            "Epoch 83/100\n",
            "3367/3367 [==============================] - 5s 2ms/step - loss: 0.6751 - accuracy: 0.7485 - f1_m: 0.7494 - precision_m: 0.8595 - recall_m: 0.6673\n",
            "Epoch 84/100\n",
            "3367/3367 [==============================] - 5s 2ms/step - loss: 0.6773 - accuracy: 0.7481 - f1_m: 0.7492 - precision_m: 0.8589 - recall_m: 0.6670\n",
            "Epoch 85/100\n",
            "3367/3367 [==============================] - 5s 2ms/step - loss: 0.6770 - accuracy: 0.7473 - f1_m: 0.7487 - precision_m: 0.8578 - recall_m: 0.6673\n",
            "Epoch 86/100\n",
            "3367/3367 [==============================] - 5s 2ms/step - loss: 0.6747 - accuracy: 0.7486 - f1_m: 0.7494 - precision_m: 0.8597 - recall_m: 0.6671\n",
            "Epoch 87/100\n",
            "3367/3367 [==============================] - 5s 2ms/step - loss: 0.6759 - accuracy: 0.7474 - f1_m: 0.7488 - precision_m: 0.8575 - recall_m: 0.6673\n",
            "Epoch 88/100\n",
            "3367/3367 [==============================] - 5s 2ms/step - loss: 0.6733 - accuracy: 0.7512 - f1_m: 0.7521 - precision_m: 0.8602 - recall_m: 0.6711\n",
            "Epoch 89/100\n",
            "3367/3367 [==============================] - 6s 2ms/step - loss: 0.6739 - accuracy: 0.7485 - f1_m: 0.7521 - precision_m: 0.8596 - recall_m: 0.6714\n",
            "Epoch 90/100\n",
            "3367/3367 [==============================] - 5s 2ms/step - loss: 0.6716 - accuracy: 0.7492 - f1_m: 0.7500 - precision_m: 0.8591 - recall_m: 0.6685\n",
            "Epoch 91/100\n",
            "3367/3367 [==============================] - 5s 2ms/step - loss: 0.6759 - accuracy: 0.7483 - f1_m: 0.7512 - precision_m: 0.8580 - recall_m: 0.6710\n",
            "Epoch 92/100\n",
            "3367/3367 [==============================] - 5s 2ms/step - loss: 0.6694 - accuracy: 0.7480 - f1_m: 0.7487 - precision_m: 0.8581 - recall_m: 0.6671\n",
            "Epoch 93/100\n",
            "3367/3367 [==============================] - 5s 2ms/step - loss: 0.6798 - accuracy: 0.7480 - f1_m: 0.7501 - precision_m: 0.8572 - recall_m: 0.6697\n",
            "Epoch 94/100\n",
            "3367/3367 [==============================] - 5s 2ms/step - loss: 0.6792 - accuracy: 0.7464 - f1_m: 0.7471 - precision_m: 0.8582 - recall_m: 0.6645\n",
            "Epoch 95/100\n",
            "3367/3367 [==============================] - 5s 2ms/step - loss: 0.6718 - accuracy: 0.7477 - f1_m: 0.7505 - precision_m: 0.8568 - recall_m: 0.6704\n",
            "Epoch 96/100\n",
            "3367/3367 [==============================] - 5s 2ms/step - loss: 0.6717 - accuracy: 0.7471 - f1_m: 0.7507 - precision_m: 0.8602 - recall_m: 0.6688\n",
            "Epoch 97/100\n",
            "3367/3367 [==============================] - 6s 2ms/step - loss: 0.6700 - accuracy: 0.7495 - f1_m: 0.7525 - precision_m: 0.8567 - recall_m: 0.6737\n",
            "Epoch 98/100\n",
            "3367/3367 [==============================] - 6s 2ms/step - loss: 0.6684 - accuracy: 0.7472 - f1_m: 0.7529 - precision_m: 0.8584 - recall_m: 0.6733\n",
            "Epoch 99/100\n",
            "3367/3367 [==============================] - 5s 2ms/step - loss: 0.6759 - accuracy: 0.7470 - f1_m: 0.7487 - precision_m: 0.8591 - recall_m: 0.6664\n",
            "Epoch 100/100\n",
            "3367/3367 [==============================] - 6s 2ms/step - loss: 0.6679 - accuracy: 0.7492 - f1_m: 0.7524 - precision_m: 0.8588 - recall_m: 0.6725\n"
          ],
          "name": "stdout"
        }
      ]
    },
    {
      "cell_type": "code",
      "metadata": {
        "colab": {
          "base_uri": "https://localhost:8080/"
        },
        "id": "o0Hd9HY9TndD",
        "outputId": "fb900933-ae04-4f85-a83b-90d417ce65d1"
      },
      "source": [
        "loss_NN10, accNN10, f1_score_NN10, precision_NN10, recall_NN10 = model.evaluate(X_test, y_test, verbose=True)\n",
        "print(\"Testing Accuracy: {:.4f}\".format(accNN10))\n",
        "print(\"Testing Precision: {:.4f}\".format(precision_NN10))\n",
        "print(\"Testing Recall: {:.4f}\".format(recall_NN10))\n",
        "print(\"Testing F1-Score: {:.4f}\".format(f1_score_NN10))"
      ],
      "execution_count": 30,
      "outputs": [
        {
          "output_type": "stream",
          "text": [
            "2573/2573 [==============================] - 3s 1ms/step - loss: 1.0485 - accuracy: 0.7192 - f1_m: 0.6984 - precision_m: 0.8085 - recall_m: 0.6463\n",
            "Testing Accuracy: 0.7192\n",
            "Testing Precision: 0.8085\n",
            "Testing Recall: 0.6463\n",
            "Testing F1-Score: 0.6984\n"
          ],
          "name": "stdout"
        }
      ]
    },
    {
      "cell_type": "code",
      "metadata": {
        "colab": {
          "base_uri": "https://localhost:8080/"
        },
        "id": "-oTRe8GjYqO5",
        "outputId": "556dc956-e540-4211-8f2e-f4ee1e7f53c6"
      },
      "source": [
        "df2_xtrain.shape[1]"
      ],
      "execution_count": 31,
      "outputs": [
        {
          "output_type": "execute_result",
          "data": {
            "text/plain": [
              "30"
            ]
          },
          "metadata": {
            "tags": []
          },
          "execution_count": 31
        }
      ]
    },
    {
      "cell_type": "code",
      "metadata": {
        "colab": {
          "base_uri": "https://localhost:8080/"
        },
        "id": "KylIZNhHsADu",
        "outputId": "8a05009a-bd25-4950-dabf-9039c4c60c17"
      },
      "source": [
        "X = df2_xtrain\n",
        "Y = df2_ytrain\n",
        "C = df2_ytest\n",
        "T = df2_xtest\n",
        "scaler = Normalizer().fit(X)\n",
        "trainX = scaler.transform(X)\n",
        "\n",
        "scaler = Normalizer().fit(T)\n",
        "testT = scaler.transform(T)\n",
        "\n",
        "y_train1 = np.array(Y)\n",
        "y_test1 = np.array(C)\n",
        "\n",
        "y_train= to_categorical(y_train1)\n",
        "y_test= to_categorical(y_test1)\n",
        "\n",
        "\n",
        "# reshape input to be [samples, time steps, features]\n",
        "X_train = np.reshape(trainX, (trainX.shape[0],trainX.shape[1],1))\n",
        "X_test = np.reshape(testT, (testT.shape[0],testT.shape[1],1))\n",
        "\n",
        "\n",
        "from keras.models import Sequential\n",
        "from keras import layers\n",
        "\n",
        "input_dim = df2_xtrain.shape[1]  # Number of features\n",
        "\n",
        "model1 = Sequential()\n",
        "model1.add(layers.Dense(10, input_shape=(input_dim, 1), activation='relu'))\n",
        "model1.add(layers.Flatten())\n",
        "model1.add(layers.Dense(32, activation='relu'))\n",
        "model1.add(layers.Dense(10, activation='softmax'))\n",
        "\n",
        "model1.compile(loss='categorical_crossentropy', \n",
        "              optimizer='adam', \n",
        "              metrics=['accuracy',f1_m,precision_m, recall_m])\n",
        "model1.summary()"
      ],
      "execution_count": 32,
      "outputs": [
        {
          "output_type": "stream",
          "text": [
            "Model: \"sequential_1\"\n",
            "_________________________________________________________________\n",
            "Layer (type)                 Output Shape              Param #   \n",
            "=================================================================\n",
            "dense_3 (Dense)              (None, 30, 10)            20        \n",
            "_________________________________________________________________\n",
            "flatten_1 (Flatten)          (None, 300)               0         \n",
            "_________________________________________________________________\n",
            "dense_4 (Dense)              (None, 32)                9632      \n",
            "_________________________________________________________________\n",
            "dense_5 (Dense)              (None, 10)                330       \n",
            "=================================================================\n",
            "Total params: 9,982\n",
            "Trainable params: 9,982\n",
            "Non-trainable params: 0\n",
            "_________________________________________________________________\n"
          ],
          "name": "stdout"
        }
      ]
    },
    {
      "cell_type": "code",
      "metadata": {
        "colab": {
          "base_uri": "https://localhost:8080/"
        },
        "id": "RJu8VqtSY7ZO",
        "outputId": "e4f93996-c2f1-4a40-e27a-a5e338089c36"
      },
      "source": [
        "historyNN20 = model1.fit(X_train, y_train,\n",
        "                    epochs=100)"
      ],
      "execution_count": 33,
      "outputs": [
        {
          "output_type": "stream",
          "text": [
            "Epoch 1/100\n",
            "3367/3367 [==============================] - 6s 2ms/step - loss: 1.5170 - accuracy: 0.4845 - f1_m: 0.3072 - precision_m: 0.5351 - recall_m: 0.2456\n",
            "Epoch 2/100\n",
            "3367/3367 [==============================] - 6s 2ms/step - loss: 1.3605 - accuracy: 0.5056 - f1_m: 0.3960 - precision_m: 0.6799 - recall_m: 0.2957\n",
            "Epoch 3/100\n",
            "3367/3367 [==============================] - 6s 2ms/step - loss: 1.3573 - accuracy: 0.5040 - f1_m: 0.3986 - precision_m: 0.6485 - recall_m: 0.2965\n",
            "Epoch 4/100\n",
            "3367/3367 [==============================] - 6s 2ms/step - loss: 1.3553 - accuracy: 0.5044 - f1_m: 0.3954 - precision_m: 0.6452 - recall_m: 0.2910\n",
            "Epoch 5/100\n",
            "3367/3367 [==============================] - 6s 2ms/step - loss: 1.3543 - accuracy: 0.5024 - f1_m: 0.3880 - precision_m: 0.6563 - recall_m: 0.2808\n",
            "Epoch 6/100\n",
            "3367/3367 [==============================] - 6s 2ms/step - loss: 1.3424 - accuracy: 0.5069 - f1_m: 0.3933 - precision_m: 0.6829 - recall_m: 0.2823\n",
            "Epoch 7/100\n",
            "3367/3367 [==============================] - 6s 2ms/step - loss: 1.3404 - accuracy: 0.5045 - f1_m: 0.3906 - precision_m: 0.7160 - recall_m: 0.2754\n",
            "Epoch 8/100\n",
            "3367/3367 [==============================] - 6s 2ms/step - loss: 1.3236 - accuracy: 0.5084 - f1_m: 0.3965 - precision_m: 0.7639 - recall_m: 0.2740\n",
            "Epoch 9/100\n",
            "3367/3367 [==============================] - 6s 2ms/step - loss: 1.3102 - accuracy: 0.5092 - f1_m: 0.4097 - precision_m: 0.7880 - recall_m: 0.2827\n",
            "Epoch 10/100\n",
            "3367/3367 [==============================] - 6s 2ms/step - loss: 1.3019 - accuracy: 0.5081 - f1_m: 0.4264 - precision_m: 0.8172 - recall_m: 0.2951\n",
            "Epoch 11/100\n",
            "3367/3367 [==============================] - 6s 2ms/step - loss: 1.2779 - accuracy: 0.5145 - f1_m: 0.4397 - precision_m: 0.8334 - recall_m: 0.3059\n",
            "Epoch 12/100\n",
            "3367/3367 [==============================] - 6s 2ms/step - loss: 1.2725 - accuracy: 0.5162 - f1_m: 0.4481 - precision_m: 0.8431 - recall_m: 0.3122\n",
            "Epoch 13/100\n",
            "3367/3367 [==============================] - 6s 2ms/step - loss: 1.2594 - accuracy: 0.5192 - f1_m: 0.4547 - precision_m: 0.8555 - recall_m: 0.3161\n",
            "Epoch 14/100\n",
            "3367/3367 [==============================] - 6s 2ms/step - loss: 1.2484 - accuracy: 0.5226 - f1_m: 0.4579 - precision_m: 0.8583 - recall_m: 0.3188\n",
            "Epoch 15/100\n",
            "3367/3367 [==============================] - 6s 2ms/step - loss: 1.2431 - accuracy: 0.5246 - f1_m: 0.4590 - precision_m: 0.8655 - recall_m: 0.3185\n",
            "Epoch 16/100\n",
            "3367/3367 [==============================] - 6s 2ms/step - loss: 1.2301 - accuracy: 0.5279 - f1_m: 0.4655 - precision_m: 0.8693 - recall_m: 0.3242\n",
            "Epoch 17/100\n",
            "3367/3367 [==============================] - 6s 2ms/step - loss: 1.2328 - accuracy: 0.5265 - f1_m: 0.4641 - precision_m: 0.8698 - recall_m: 0.3224\n",
            "Epoch 18/100\n",
            "3367/3367 [==============================] - 6s 2ms/step - loss: 1.2164 - accuracy: 0.5293 - f1_m: 0.4682 - precision_m: 0.8736 - recall_m: 0.3261\n",
            "Epoch 19/100\n",
            "3367/3367 [==============================] - 6s 2ms/step - loss: 1.2175 - accuracy: 0.5325 - f1_m: 0.4683 - precision_m: 0.8779 - recall_m: 0.3257\n",
            "Epoch 20/100\n",
            "3367/3367 [==============================] - 6s 2ms/step - loss: 1.2202 - accuracy: 0.5305 - f1_m: 0.4662 - precision_m: 0.8783 - recall_m: 0.3235\n",
            "Epoch 21/100\n",
            "3367/3367 [==============================] - 6s 2ms/step - loss: 1.2133 - accuracy: 0.5318 - f1_m: 0.4683 - precision_m: 0.8804 - recall_m: 0.3251\n",
            "Epoch 22/100\n",
            "3367/3367 [==============================] - 6s 2ms/step - loss: 1.2127 - accuracy: 0.5337 - f1_m: 0.4693 - precision_m: 0.8878 - recall_m: 0.3250\n",
            "Epoch 23/100\n",
            "3367/3367 [==============================] - 6s 2ms/step - loss: 1.2069 - accuracy: 0.5334 - f1_m: 0.4706 - precision_m: 0.8836 - recall_m: 0.3270\n",
            "Epoch 24/100\n",
            "3367/3367 [==============================] - 6s 2ms/step - loss: 1.2126 - accuracy: 0.5328 - f1_m: 0.4656 - precision_m: 0.8834 - recall_m: 0.3220\n",
            "Epoch 25/100\n",
            "3367/3367 [==============================] - 6s 2ms/step - loss: 1.2055 - accuracy: 0.5348 - f1_m: 0.4674 - precision_m: 0.8908 - recall_m: 0.3230\n",
            "Epoch 26/100\n",
            "3367/3367 [==============================] - 6s 2ms/step - loss: 1.2034 - accuracy: 0.5373 - f1_m: 0.4679 - precision_m: 0.8965 - recall_m: 0.3223\n",
            "Epoch 27/100\n",
            "3367/3367 [==============================] - 6s 2ms/step - loss: 1.2005 - accuracy: 0.5378 - f1_m: 0.4703 - precision_m: 0.8962 - recall_m: 0.3246\n",
            "Epoch 28/100\n",
            "3367/3367 [==============================] - 6s 2ms/step - loss: 1.1985 - accuracy: 0.5421 - f1_m: 0.4693 - precision_m: 0.8966 - recall_m: 0.3237\n",
            "Epoch 29/100\n",
            "3367/3367 [==============================] - 6s 2ms/step - loss: 1.1968 - accuracy: 0.5388 - f1_m: 0.4693 - precision_m: 0.8950 - recall_m: 0.3239\n",
            "Epoch 30/100\n",
            "3367/3367 [==============================] - 6s 2ms/step - loss: 1.1947 - accuracy: 0.5436 - f1_m: 0.4674 - precision_m: 0.8950 - recall_m: 0.3227\n",
            "Epoch 31/100\n",
            "3367/3367 [==============================] - 6s 2ms/step - loss: 1.1970 - accuracy: 0.5382 - f1_m: 0.4660 - precision_m: 0.8913 - recall_m: 0.3212\n",
            "Epoch 32/100\n",
            "3367/3367 [==============================] - 6s 2ms/step - loss: 1.1935 - accuracy: 0.5395 - f1_m: 0.4667 - precision_m: 0.8948 - recall_m: 0.3213\n",
            "Epoch 33/100\n",
            "3367/3367 [==============================] - 6s 2ms/step - loss: 1.1907 - accuracy: 0.5423 - f1_m: 0.4678 - precision_m: 0.8865 - recall_m: 0.3234\n",
            "Epoch 34/100\n",
            "3367/3367 [==============================] - 6s 2ms/step - loss: 1.1883 - accuracy: 0.5433 - f1_m: 0.4686 - precision_m: 0.8917 - recall_m: 0.3238\n",
            "Epoch 35/100\n",
            "3367/3367 [==============================] - 6s 2ms/step - loss: 1.1868 - accuracy: 0.5447 - f1_m: 0.4704 - precision_m: 0.8930 - recall_m: 0.3252\n",
            "Epoch 36/100\n",
            "3367/3367 [==============================] - 6s 2ms/step - loss: 1.1884 - accuracy: 0.5429 - f1_m: 0.4666 - precision_m: 0.8842 - recall_m: 0.3222\n",
            "Epoch 37/100\n",
            "3367/3367 [==============================] - 6s 2ms/step - loss: 1.1878 - accuracy: 0.5423 - f1_m: 0.4665 - precision_m: 0.8830 - recall_m: 0.3223\n",
            "Epoch 38/100\n",
            "3367/3367 [==============================] - 6s 2ms/step - loss: 1.1871 - accuracy: 0.5426 - f1_m: 0.4665 - precision_m: 0.8838 - recall_m: 0.3227\n",
            "Epoch 39/100\n",
            "3367/3367 [==============================] - 6s 2ms/step - loss: 1.1837 - accuracy: 0.5436 - f1_m: 0.4692 - precision_m: 0.8784 - recall_m: 0.3260\n",
            "Epoch 40/100\n",
            "3367/3367 [==============================] - 6s 2ms/step - loss: 1.1759 - accuracy: 0.5445 - f1_m: 0.4701 - precision_m: 0.8864 - recall_m: 0.3255\n",
            "Epoch 41/100\n",
            "3367/3367 [==============================] - 6s 2ms/step - loss: 1.1773 - accuracy: 0.5438 - f1_m: 0.4675 - precision_m: 0.8779 - recall_m: 0.3244\n",
            "Epoch 42/100\n",
            "3367/3367 [==============================] - 6s 2ms/step - loss: 1.1759 - accuracy: 0.5445 - f1_m: 0.4700 - precision_m: 0.8729 - recall_m: 0.3273\n",
            "Epoch 43/100\n",
            "3367/3367 [==============================] - 6s 2ms/step - loss: 1.1792 - accuracy: 0.5408 - f1_m: 0.4663 - precision_m: 0.8904 - recall_m: 0.3215\n",
            "Epoch 44/100\n",
            "3367/3367 [==============================] - 6s 2ms/step - loss: 1.1708 - accuracy: 0.5448 - f1_m: 0.4736 - precision_m: 0.8965 - recall_m: 0.3275\n",
            "Epoch 45/100\n",
            "3367/3367 [==============================] - 6s 2ms/step - loss: 1.1691 - accuracy: 0.5451 - f1_m: 0.4720 - precision_m: 0.8880 - recall_m: 0.3275\n",
            "Epoch 46/100\n",
            "3367/3367 [==============================] - 6s 2ms/step - loss: 1.1658 - accuracy: 0.5429 - f1_m: 0.4698 - precision_m: 0.8963 - recall_m: 0.3239\n",
            "Epoch 47/100\n",
            "3367/3367 [==============================] - 6s 2ms/step - loss: 1.1651 - accuracy: 0.5437 - f1_m: 0.4674 - precision_m: 0.8888 - recall_m: 0.3224\n",
            "Epoch 48/100\n",
            "3367/3367 [==============================] - 6s 2ms/step - loss: 1.1657 - accuracy: 0.5448 - f1_m: 0.4700 - precision_m: 0.8810 - recall_m: 0.3261\n",
            "Epoch 49/100\n",
            "3367/3367 [==============================] - 6s 2ms/step - loss: 1.1656 - accuracy: 0.5431 - f1_m: 0.4713 - precision_m: 0.8903 - recall_m: 0.3260\n",
            "Epoch 50/100\n",
            "3367/3367 [==============================] - 6s 2ms/step - loss: 1.1637 - accuracy: 0.5442 - f1_m: 0.4705 - precision_m: 0.8881 - recall_m: 0.3259\n",
            "Epoch 51/100\n",
            "3367/3367 [==============================] - 6s 2ms/step - loss: 1.1577 - accuracy: 0.5443 - f1_m: 0.4721 - precision_m: 0.8836 - recall_m: 0.3274\n",
            "Epoch 52/100\n",
            "3367/3367 [==============================] - 6s 2ms/step - loss: 1.1588 - accuracy: 0.5442 - f1_m: 0.4725 - precision_m: 0.8838 - recall_m: 0.3281\n",
            "Epoch 53/100\n",
            "3367/3367 [==============================] - 6s 2ms/step - loss: 1.1582 - accuracy: 0.5451 - f1_m: 0.4752 - precision_m: 0.8900 - recall_m: 0.3298\n",
            "Epoch 54/100\n",
            "3367/3367 [==============================] - 6s 2ms/step - loss: 1.1556 - accuracy: 0.5438 - f1_m: 0.4759 - precision_m: 0.8876 - recall_m: 0.3313\n",
            "Epoch 55/100\n",
            "3367/3367 [==============================] - 6s 2ms/step - loss: 1.1516 - accuracy: 0.5417 - f1_m: 0.4800 - precision_m: 0.8952 - recall_m: 0.3337\n",
            "Epoch 56/100\n",
            "3367/3367 [==============================] - 6s 2ms/step - loss: 1.1585 - accuracy: 0.5411 - f1_m: 0.4825 - precision_m: 0.8884 - recall_m: 0.3378\n",
            "Epoch 57/100\n",
            "3367/3367 [==============================] - 6s 2ms/step - loss: 1.1428 - accuracy: 0.5466 - f1_m: 0.4861 - precision_m: 0.8977 - recall_m: 0.3392\n",
            "Epoch 58/100\n",
            "3367/3367 [==============================] - 6s 2ms/step - loss: 1.1478 - accuracy: 0.5460 - f1_m: 0.4860 - precision_m: 0.8939 - recall_m: 0.3399\n",
            "Epoch 59/100\n",
            "3367/3367 [==============================] - 6s 2ms/step - loss: 1.1510 - accuracy: 0.5421 - f1_m: 0.4899 - precision_m: 0.8955 - recall_m: 0.3433\n",
            "Epoch 60/100\n",
            "3367/3367 [==============================] - 6s 2ms/step - loss: 1.1419 - accuracy: 0.5469 - f1_m: 0.4988 - precision_m: 0.8899 - recall_m: 0.3528\n",
            "Epoch 61/100\n",
            "3367/3367 [==============================] - 6s 2ms/step - loss: 1.1425 - accuracy: 0.5452 - f1_m: 0.4905 - precision_m: 0.9010 - recall_m: 0.3429\n",
            "Epoch 62/100\n",
            "3367/3367 [==============================] - 6s 2ms/step - loss: 1.1422 - accuracy: 0.5450 - f1_m: 0.5002 - precision_m: 0.8871 - recall_m: 0.3540\n",
            "Epoch 63/100\n",
            "3367/3367 [==============================] - 6s 2ms/step - loss: 1.1370 - accuracy: 0.5477 - f1_m: 0.5001 - precision_m: 0.8930 - recall_m: 0.3530\n",
            "Epoch 64/100\n",
            "3367/3367 [==============================] - 6s 2ms/step - loss: 1.1312 - accuracy: 0.5519 - f1_m: 0.5065 - precision_m: 0.8896 - recall_m: 0.3600\n",
            "Epoch 65/100\n",
            "3367/3367 [==============================] - 6s 2ms/step - loss: 1.1310 - accuracy: 0.5518 - f1_m: 0.5083 - precision_m: 0.8849 - recall_m: 0.3627\n",
            "Epoch 66/100\n",
            "3367/3367 [==============================] - 6s 2ms/step - loss: 1.1286 - accuracy: 0.5529 - f1_m: 0.5135 - precision_m: 0.8809 - recall_m: 0.3680\n",
            "Epoch 67/100\n",
            "3367/3367 [==============================] - 6s 2ms/step - loss: 1.1256 - accuracy: 0.5549 - f1_m: 0.5106 - precision_m: 0.8768 - recall_m: 0.3658\n",
            "Epoch 68/100\n",
            "3367/3367 [==============================] - 6s 2ms/step - loss: 1.1207 - accuracy: 0.5550 - f1_m: 0.5139 - precision_m: 0.8824 - recall_m: 0.3680\n",
            "Epoch 69/100\n",
            "3367/3367 [==============================] - 6s 2ms/step - loss: 1.1279 - accuracy: 0.5551 - f1_m: 0.5105 - precision_m: 0.8786 - recall_m: 0.3658\n",
            "Epoch 70/100\n",
            "3367/3367 [==============================] - 6s 2ms/step - loss: 1.1248 - accuracy: 0.5571 - f1_m: 0.5118 - precision_m: 0.8738 - recall_m: 0.3676\n",
            "Epoch 71/100\n",
            "3367/3367 [==============================] - 6s 2ms/step - loss: 1.1173 - accuracy: 0.5564 - f1_m: 0.5148 - precision_m: 0.8731 - recall_m: 0.3711\n",
            "Epoch 72/100\n",
            "3367/3367 [==============================] - 6s 2ms/step - loss: 1.1194 - accuracy: 0.5575 - f1_m: 0.5173 - precision_m: 0.8749 - recall_m: 0.3727\n",
            "Epoch 73/100\n",
            "3367/3367 [==============================] - 6s 2ms/step - loss: 1.1173 - accuracy: 0.5558 - f1_m: 0.5158 - precision_m: 0.8704 - recall_m: 0.3724\n",
            "Epoch 74/100\n",
            "3367/3367 [==============================] - 6s 2ms/step - loss: 1.1225 - accuracy: 0.5546 - f1_m: 0.5133 - precision_m: 0.8719 - recall_m: 0.3693\n",
            "Epoch 75/100\n",
            "3367/3367 [==============================] - 6s 2ms/step - loss: 1.1145 - accuracy: 0.5556 - f1_m: 0.5162 - precision_m: 0.8721 - recall_m: 0.3724\n",
            "Epoch 76/100\n",
            "3367/3367 [==============================] - 6s 2ms/step - loss: 1.1142 - accuracy: 0.5595 - f1_m: 0.5171 - precision_m: 0.8688 - recall_m: 0.3735\n",
            "Epoch 77/100\n",
            "3367/3367 [==============================] - 6s 2ms/step - loss: 1.1130 - accuracy: 0.5570 - f1_m: 0.5170 - precision_m: 0.8694 - recall_m: 0.3737\n",
            "Epoch 78/100\n",
            "3367/3367 [==============================] - 6s 2ms/step - loss: 1.1150 - accuracy: 0.5560 - f1_m: 0.5176 - precision_m: 0.8718 - recall_m: 0.3735\n",
            "Epoch 79/100\n",
            "3367/3367 [==============================] - 6s 2ms/step - loss: 1.1138 - accuracy: 0.5569 - f1_m: 0.5152 - precision_m: 0.8677 - recall_m: 0.3721\n",
            "Epoch 80/100\n",
            "3367/3367 [==============================] - 6s 2ms/step - loss: 1.1029 - accuracy: 0.5582 - f1_m: 0.5208 - precision_m: 0.8781 - recall_m: 0.3757\n",
            "Epoch 81/100\n",
            "3367/3367 [==============================] - 6s 2ms/step - loss: 1.1083 - accuracy: 0.5574 - f1_m: 0.5176 - precision_m: 0.8697 - recall_m: 0.3744\n",
            "Epoch 82/100\n",
            "3367/3367 [==============================] - 6s 2ms/step - loss: 1.1023 - accuracy: 0.5599 - f1_m: 0.5210 - precision_m: 0.8657 - recall_m: 0.3781\n",
            "Epoch 83/100\n",
            "3367/3367 [==============================] - 6s 2ms/step - loss: 1.1088 - accuracy: 0.5581 - f1_m: 0.5208 - precision_m: 0.8676 - recall_m: 0.3778\n",
            "Epoch 84/100\n",
            "3367/3367 [==============================] - 6s 2ms/step - loss: 1.1048 - accuracy: 0.5597 - f1_m: 0.5219 - precision_m: 0.8703 - recall_m: 0.3781\n",
            "Epoch 85/100\n",
            "3367/3367 [==============================] - 6s 2ms/step - loss: 1.1061 - accuracy: 0.5596 - f1_m: 0.5217 - precision_m: 0.8708 - recall_m: 0.3777\n",
            "Epoch 86/100\n",
            "3367/3367 [==============================] - 6s 2ms/step - loss: 1.1078 - accuracy: 0.5568 - f1_m: 0.5176 - precision_m: 0.8707 - recall_m: 0.3737\n",
            "Epoch 87/100\n",
            "3367/3367 [==============================] - 6s 2ms/step - loss: 1.1024 - accuracy: 0.5610 - f1_m: 0.5221 - precision_m: 0.8720 - recall_m: 0.3786\n",
            "Epoch 88/100\n",
            "3367/3367 [==============================] - 6s 2ms/step - loss: 1.1052 - accuracy: 0.5585 - f1_m: 0.5218 - precision_m: 0.8681 - recall_m: 0.3786\n",
            "Epoch 89/100\n",
            "3367/3367 [==============================] - 6s 2ms/step - loss: 1.1024 - accuracy: 0.5585 - f1_m: 0.5232 - precision_m: 0.8664 - recall_m: 0.3804\n",
            "Epoch 90/100\n",
            "3367/3367 [==============================] - 6s 2ms/step - loss: 1.1088 - accuracy: 0.5577 - f1_m: 0.5202 - precision_m: 0.8697 - recall_m: 0.3762\n",
            "Epoch 91/100\n",
            "3367/3367 [==============================] - 6s 2ms/step - loss: 1.1014 - accuracy: 0.5596 - f1_m: 0.5247 - precision_m: 0.8623 - recall_m: 0.3827\n",
            "Epoch 92/100\n",
            "3367/3367 [==============================] - 6s 2ms/step - loss: 1.1079 - accuracy: 0.5571 - f1_m: 0.5193 - precision_m: 0.8654 - recall_m: 0.3767\n",
            "Epoch 93/100\n",
            "3367/3367 [==============================] - 6s 2ms/step - loss: 1.1028 - accuracy: 0.5588 - f1_m: 0.5197 - precision_m: 0.8662 - recall_m: 0.3765\n",
            "Epoch 94/100\n",
            "3367/3367 [==============================] - 6s 2ms/step - loss: 1.0998 - accuracy: 0.5583 - f1_m: 0.5228 - precision_m: 0.8705 - recall_m: 0.3787\n",
            "Epoch 95/100\n",
            "3367/3367 [==============================] - 6s 2ms/step - loss: 1.1022 - accuracy: 0.5600 - f1_m: 0.5211 - precision_m: 0.8671 - recall_m: 0.3773\n",
            "Epoch 96/100\n",
            "3367/3367 [==============================] - 6s 2ms/step - loss: 1.1018 - accuracy: 0.5578 - f1_m: 0.5214 - precision_m: 0.8684 - recall_m: 0.3780\n",
            "Epoch 97/100\n",
            "3367/3367 [==============================] - 6s 2ms/step - loss: 1.0955 - accuracy: 0.5603 - f1_m: 0.5240 - precision_m: 0.8648 - recall_m: 0.3817\n",
            "Epoch 98/100\n",
            "3367/3367 [==============================] - 6s 2ms/step - loss: 1.1010 - accuracy: 0.5588 - f1_m: 0.5228 - precision_m: 0.8690 - recall_m: 0.3790\n",
            "Epoch 99/100\n",
            "3367/3367 [==============================] - 6s 2ms/step - loss: 1.0913 - accuracy: 0.5615 - f1_m: 0.5245 - precision_m: 0.8702 - recall_m: 0.3809\n",
            "Epoch 100/100\n",
            "3367/3367 [==============================] - 6s 2ms/step - loss: 1.1007 - accuracy: 0.5591 - f1_m: 0.5237 - precision_m: 0.8682 - recall_m: 0.3802\n"
          ],
          "name": "stdout"
        }
      ]
    },
    {
      "cell_type": "code",
      "metadata": {
        "colab": {
          "base_uri": "https://localhost:8080/"
        },
        "id": "0TABFy0uZKkA",
        "outputId": "6d3e14bf-be15-4b16-8fc2-22ebab7e80f7"
      },
      "source": [
        "loss20, accNN20, f1_score_NN20, precision_NN20, recall_NN20 = model1.evaluate(X_test, y_test, verbose=True)\n",
        "print(\"Testing Accuracy: {:.4f}\".format(accNN20))\n",
        "print(\"Testing Precision: {:.4f}\".format(precision_NN20))\n",
        "print(\"Testing Recall: {:.4f}\".format(recall_NN20))\n",
        "print(\"Testing F1-Score: {:.4f}\".format(f1_score_NN20))"
      ],
      "execution_count": 34,
      "outputs": [
        {
          "output_type": "stream",
          "text": [
            "2573/2573 [==============================] - 4s 1ms/step - loss: 1.0744 - accuracy: 0.5660 - f1_m: 0.4942 - precision_m: 0.7058 - recall_m: 0.4342\n",
            "Testing Accuracy: 0.5660\n",
            "Testing Precision: 0.7058\n",
            "Testing Recall: 0.4342\n",
            "Testing F1-Score: 0.4942\n"
          ],
          "name": "stdout"
        }
      ]
    },
    {
      "cell_type": "code",
      "metadata": {
        "colab": {
          "base_uri": "https://localhost:8080/"
        },
        "id": "Sjw5nrgHymBD",
        "outputId": "34201315-c3b0-460f-c442-1a1d41d1d5b5"
      },
      "source": [
        "X = df3_xtrain\n",
        "Y = df3_ytrain\n",
        "C = df3_ytest\n",
        "T = df3_xtest\n",
        "scaler = Normalizer().fit(X)\n",
        "trainX = scaler.transform(X)\n",
        "\n",
        "scaler = Normalizer().fit(T)\n",
        "testT = scaler.transform(T)\n",
        "\n",
        "y_train1 = np.array(Y)\n",
        "y_test1 = np.array(C)\n",
        "\n",
        "y_train= to_categorical(y_train1)\n",
        "y_test= to_categorical(y_test1)\n",
        "\n",
        "\n",
        "# reshape input to be [samples, time steps, features]\n",
        "X_train = np.reshape(trainX, (trainX.shape[0],trainX.shape[1],1))\n",
        "X_test = np.reshape(testT, (testT.shape[0],testT.shape[1],1))\n",
        "\n",
        "\n",
        "from keras.models import Sequential\n",
        "from keras import layers\n",
        "\n",
        "input_dim = df3_xtrain.shape[1]  # Number of features\n",
        "\n",
        "model2 = Sequential()\n",
        "model2.add(layers.Dense(10, input_shape=(input_dim, 1), activation='relu'))\n",
        "model2.add(layers.Flatten())\n",
        "model2.add(layers.Dense(32, activation='relu'))\n",
        "model2.add(layers.Dense(10, activation='softmax'))\n",
        "\n",
        "model2.compile(loss='categorical_crossentropy', \n",
        "              optimizer='adam', \n",
        "              metrics=['accuracy',f1_m,precision_m, recall_m])\n",
        "model2.summary()"
      ],
      "execution_count": 35,
      "outputs": [
        {
          "output_type": "stream",
          "text": [
            "Model: \"sequential_2\"\n",
            "_________________________________________________________________\n",
            "Layer (type)                 Output Shape              Param #   \n",
            "=================================================================\n",
            "dense_6 (Dense)              (None, 42, 10)            20        \n",
            "_________________________________________________________________\n",
            "flatten_2 (Flatten)          (None, 420)               0         \n",
            "_________________________________________________________________\n",
            "dense_7 (Dense)              (None, 32)                13472     \n",
            "_________________________________________________________________\n",
            "dense_8 (Dense)              (None, 10)                330       \n",
            "=================================================================\n",
            "Total params: 13,822\n",
            "Trainable params: 13,822\n",
            "Non-trainable params: 0\n",
            "_________________________________________________________________\n"
          ],
          "name": "stdout"
        }
      ]
    },
    {
      "cell_type": "code",
      "metadata": {
        "id": "ZT04KLCNymJi",
        "colab": {
          "base_uri": "https://localhost:8080/"
        },
        "outputId": "ab4f5cc7-42d5-4686-d718-8b79c9f96ecb"
      },
      "source": [
        "historyNNall = model2.fit(X_train, y_train,\n",
        "                    epochs=100)"
      ],
      "execution_count": 36,
      "outputs": [
        {
          "output_type": "stream",
          "text": [
            "Epoch 1/100\n",
            "3367/3367 [==============================] - 6s 2ms/step - loss: 1.4499 - accuracy: 0.4974 - f1_m: 0.3410 - precision_m: 0.6334 - recall_m: 0.2645\n",
            "Epoch 2/100\n",
            "3367/3367 [==============================] - 6s 2ms/step - loss: 1.3559 - accuracy: 0.5054 - f1_m: 0.3979 - precision_m: 0.6673 - recall_m: 0.2973\n",
            "Epoch 3/100\n",
            "3367/3367 [==============================] - 6s 2ms/step - loss: 1.3500 - accuracy: 0.5068 - f1_m: 0.4027 - precision_m: 0.6651 - recall_m: 0.2975\n",
            "Epoch 4/100\n",
            "3367/3367 [==============================] - 6s 2ms/step - loss: 1.3420 - accuracy: 0.5053 - f1_m: 0.3963 - precision_m: 0.7043 - recall_m: 0.2822\n",
            "Epoch 5/100\n",
            "3367/3367 [==============================] - 6s 2ms/step - loss: 1.3322 - accuracy: 0.5032 - f1_m: 0.4061 - precision_m: 0.7425 - recall_m: 0.2880\n",
            "Epoch 6/100\n",
            "3367/3367 [==============================] - 6s 2ms/step - loss: 1.3057 - accuracy: 0.5085 - f1_m: 0.4319 - precision_m: 0.7770 - recall_m: 0.3080\n",
            "Epoch 7/100\n",
            "3367/3367 [==============================] - 6s 2ms/step - loss: 1.2875 - accuracy: 0.5092 - f1_m: 0.4383 - precision_m: 0.8230 - recall_m: 0.3068\n",
            "Epoch 8/100\n",
            "3367/3367 [==============================] - 6s 2ms/step - loss: 1.2623 - accuracy: 0.5130 - f1_m: 0.4477 - precision_m: 0.8504 - recall_m: 0.3106\n",
            "Epoch 9/100\n",
            "3367/3367 [==============================] - 6s 2ms/step - loss: 1.2543 - accuracy: 0.5120 - f1_m: 0.4504 - precision_m: 0.8679 - recall_m: 0.3109\n",
            "Epoch 10/100\n",
            "3367/3367 [==============================] - 6s 2ms/step - loss: 1.2424 - accuracy: 0.5137 - f1_m: 0.4538 - precision_m: 0.8764 - recall_m: 0.3130\n",
            "Epoch 11/100\n",
            "3367/3367 [==============================] - 6s 2ms/step - loss: 1.2352 - accuracy: 0.5134 - f1_m: 0.4566 - precision_m: 0.8861 - recall_m: 0.3137\n",
            "Epoch 12/100\n",
            "3367/3367 [==============================] - 6s 2ms/step - loss: 1.2267 - accuracy: 0.5167 - f1_m: 0.4580 - precision_m: 0.8917 - recall_m: 0.3142\n",
            "Epoch 13/100\n",
            "3367/3367 [==============================] - 6s 2ms/step - loss: 1.2276 - accuracy: 0.5177 - f1_m: 0.4581 - precision_m: 0.8949 - recall_m: 0.3141\n",
            "Epoch 14/100\n",
            "3367/3367 [==============================] - 6s 2ms/step - loss: 1.2195 - accuracy: 0.5231 - f1_m: 0.4602 - precision_m: 0.8956 - recall_m: 0.3167\n",
            "Epoch 15/100\n",
            "3367/3367 [==============================] - 6s 2ms/step - loss: 1.2202 - accuracy: 0.5237 - f1_m: 0.4620 - precision_m: 0.8887 - recall_m: 0.3188\n",
            "Epoch 16/100\n",
            "3367/3367 [==============================] - 6s 2ms/step - loss: 1.2177 - accuracy: 0.5248 - f1_m: 0.4601 - precision_m: 0.9004 - recall_m: 0.3147\n",
            "Epoch 17/100\n",
            "3367/3367 [==============================] - 6s 2ms/step - loss: 1.2112 - accuracy: 0.5278 - f1_m: 0.4606 - precision_m: 0.8994 - recall_m: 0.3152\n",
            "Epoch 18/100\n",
            "3367/3367 [==============================] - 6s 2ms/step - loss: 1.2006 - accuracy: 0.5352 - f1_m: 0.4638 - precision_m: 0.8986 - recall_m: 0.3187\n",
            "Epoch 19/100\n",
            "3367/3367 [==============================] - 6s 2ms/step - loss: 1.2021 - accuracy: 0.5327 - f1_m: 0.4618 - precision_m: 0.8949 - recall_m: 0.3171\n",
            "Epoch 20/100\n",
            "3367/3367 [==============================] - 6s 2ms/step - loss: 1.2002 - accuracy: 0.5346 - f1_m: 0.4621 - precision_m: 0.8915 - recall_m: 0.3189\n",
            "Epoch 21/100\n",
            "3367/3367 [==============================] - 6s 2ms/step - loss: 1.1954 - accuracy: 0.5351 - f1_m: 0.4612 - precision_m: 0.8865 - recall_m: 0.3182\n",
            "Epoch 22/100\n",
            "3367/3367 [==============================] - 6s 2ms/step - loss: 1.1935 - accuracy: 0.5334 - f1_m: 0.4635 - precision_m: 0.8836 - recall_m: 0.3202\n",
            "Epoch 23/100\n",
            "3367/3367 [==============================] - 6s 2ms/step - loss: 1.1895 - accuracy: 0.5368 - f1_m: 0.4653 - precision_m: 0.8866 - recall_m: 0.3218\n",
            "Epoch 24/100\n",
            "3367/3367 [==============================] - 6s 2ms/step - loss: 1.1852 - accuracy: 0.5352 - f1_m: 0.4658 - precision_m: 0.8956 - recall_m: 0.3206\n",
            "Epoch 25/100\n",
            "3367/3367 [==============================] - 6s 2ms/step - loss: 1.1851 - accuracy: 0.5396 - f1_m: 0.4664 - precision_m: 0.8741 - recall_m: 0.3245\n",
            "Epoch 26/100\n",
            "3367/3367 [==============================] - 6s 2ms/step - loss: 1.1783 - accuracy: 0.5424 - f1_m: 0.4709 - precision_m: 0.8830 - recall_m: 0.3274\n",
            "Epoch 27/100\n",
            "3367/3367 [==============================] - 6s 2ms/step - loss: 1.1826 - accuracy: 0.5412 - f1_m: 0.4731 - precision_m: 0.8804 - recall_m: 0.3296\n",
            "Epoch 28/100\n",
            "3367/3367 [==============================] - 6s 2ms/step - loss: 1.1779 - accuracy: 0.5409 - f1_m: 0.4735 - precision_m: 0.8731 - recall_m: 0.3316\n",
            "Epoch 29/100\n",
            "3367/3367 [==============================] - 6s 2ms/step - loss: 1.1804 - accuracy: 0.5405 - f1_m: 0.4757 - precision_m: 0.8761 - recall_m: 0.3330\n",
            "Epoch 30/100\n",
            "3367/3367 [==============================] - 6s 2ms/step - loss: 1.1726 - accuracy: 0.5417 - f1_m: 0.4759 - precision_m: 0.8803 - recall_m: 0.3324\n",
            "Epoch 31/100\n",
            "3367/3367 [==============================] - 6s 2ms/step - loss: 1.1801 - accuracy: 0.5385 - f1_m: 0.4675 - precision_m: 0.8828 - recall_m: 0.3241\n",
            "Epoch 32/100\n",
            "3367/3367 [==============================] - 6s 2ms/step - loss: 1.1772 - accuracy: 0.5426 - f1_m: 0.4748 - precision_m: 0.8808 - recall_m: 0.3313\n",
            "Epoch 33/100\n",
            "3367/3367 [==============================] - 6s 2ms/step - loss: 1.1698 - accuracy: 0.5429 - f1_m: 0.4756 - precision_m: 0.8794 - recall_m: 0.3325\n",
            "Epoch 34/100\n",
            "3367/3367 [==============================] - 6s 2ms/step - loss: 1.1727 - accuracy: 0.5389 - f1_m: 0.4779 - precision_m: 0.8824 - recall_m: 0.3342\n",
            "Epoch 35/100\n",
            "3367/3367 [==============================] - 6s 2ms/step - loss: 1.1716 - accuracy: 0.5431 - f1_m: 0.4787 - precision_m: 0.8816 - recall_m: 0.3356\n",
            "Epoch 36/100\n",
            "3367/3367 [==============================] - 6s 2ms/step - loss: 1.1709 - accuracy: 0.5413 - f1_m: 0.4782 - precision_m: 0.8859 - recall_m: 0.3340\n",
            "Epoch 37/100\n",
            "3367/3367 [==============================] - 6s 2ms/step - loss: 1.1683 - accuracy: 0.5415 - f1_m: 0.4800 - precision_m: 0.8795 - recall_m: 0.3366\n",
            "Epoch 38/100\n",
            "3367/3367 [==============================] - 6s 2ms/step - loss: 1.1717 - accuracy: 0.5396 - f1_m: 0.4770 - precision_m: 0.8892 - recall_m: 0.3322\n",
            "Epoch 39/100\n",
            "3367/3367 [==============================] - 6s 2ms/step - loss: 1.1666 - accuracy: 0.5437 - f1_m: 0.4787 - precision_m: 0.8902 - recall_m: 0.3341\n",
            "Epoch 40/100\n",
            "3367/3367 [==============================] - 6s 2ms/step - loss: 1.1655 - accuracy: 0.5442 - f1_m: 0.4809 - precision_m: 0.8890 - recall_m: 0.3367\n",
            "Epoch 41/100\n",
            "3367/3367 [==============================] - 6s 2ms/step - loss: 1.1670 - accuracy: 0.5434 - f1_m: 0.4836 - precision_m: 0.8909 - recall_m: 0.3382\n",
            "Epoch 42/100\n",
            "3367/3367 [==============================] - 6s 2ms/step - loss: 1.1660 - accuracy: 0.5415 - f1_m: 0.4861 - precision_m: 0.8814 - recall_m: 0.3424\n",
            "Epoch 43/100\n",
            "3367/3367 [==============================] - 6s 2ms/step - loss: 1.1522 - accuracy: 0.5486 - f1_m: 0.4925 - precision_m: 0.8849 - recall_m: 0.3475\n",
            "Epoch 44/100\n",
            "3367/3367 [==============================] - 6s 2ms/step - loss: 1.1553 - accuracy: 0.5483 - f1_m: 0.4952 - precision_m: 0.8828 - recall_m: 0.3502\n",
            "Epoch 45/100\n",
            "3367/3367 [==============================] - 6s 2ms/step - loss: 1.1531 - accuracy: 0.5453 - f1_m: 0.4972 - precision_m: 0.8861 - recall_m: 0.3513\n",
            "Epoch 46/100\n",
            "3367/3367 [==============================] - 6s 2ms/step - loss: 1.1465 - accuracy: 0.5505 - f1_m: 0.5010 - precision_m: 0.8788 - recall_m: 0.3567\n",
            "Epoch 47/100\n",
            "3367/3367 [==============================] - 6s 2ms/step - loss: 1.1471 - accuracy: 0.5503 - f1_m: 0.5011 - precision_m: 0.8760 - recall_m: 0.3577\n",
            "Epoch 48/100\n",
            "3367/3367 [==============================] - 6s 2ms/step - loss: 1.1443 - accuracy: 0.5484 - f1_m: 0.5021 - precision_m: 0.8788 - recall_m: 0.3580\n",
            "Epoch 49/100\n",
            "3367/3367 [==============================] - 6s 2ms/step - loss: 1.1447 - accuracy: 0.5485 - f1_m: 0.5020 - precision_m: 0.8717 - recall_m: 0.3588\n",
            "Epoch 50/100\n",
            "3367/3367 [==============================] - 6s 2ms/step - loss: 1.1328 - accuracy: 0.5540 - f1_m: 0.5075 - precision_m: 0.8813 - recall_m: 0.3627\n",
            "Epoch 51/100\n",
            "3367/3367 [==============================] - 6s 2ms/step - loss: 1.1362 - accuracy: 0.5505 - f1_m: 0.5024 - precision_m: 0.8761 - recall_m: 0.3580\n",
            "Epoch 52/100\n",
            "3367/3367 [==============================] - 6s 2ms/step - loss: 1.1298 - accuracy: 0.5549 - f1_m: 0.5063 - precision_m: 0.8762 - recall_m: 0.3619\n",
            "Epoch 53/100\n",
            "3367/3367 [==============================] - 6s 2ms/step - loss: 1.1280 - accuracy: 0.5552 - f1_m: 0.5068 - precision_m: 0.8711 - recall_m: 0.3631\n",
            "Epoch 54/100\n",
            "3367/3367 [==============================] - 6s 2ms/step - loss: 1.1288 - accuracy: 0.5542 - f1_m: 0.5071 - precision_m: 0.8720 - recall_m: 0.3634\n",
            "Epoch 55/100\n",
            "3367/3367 [==============================] - 6s 2ms/step - loss: 1.1208 - accuracy: 0.5547 - f1_m: 0.5118 - precision_m: 0.8697 - recall_m: 0.3684\n",
            "Epoch 56/100\n",
            "3367/3367 [==============================] - 6s 2ms/step - loss: 1.1182 - accuracy: 0.5583 - f1_m: 0.5127 - precision_m: 0.8746 - recall_m: 0.3685\n",
            "Epoch 57/100\n",
            "3367/3367 [==============================] - 6s 2ms/step - loss: 1.1232 - accuracy: 0.5537 - f1_m: 0.5126 - precision_m: 0.8725 - recall_m: 0.3687\n",
            "Epoch 58/100\n",
            "3367/3367 [==============================] - 6s 2ms/step - loss: 1.1161 - accuracy: 0.5589 - f1_m: 0.5164 - precision_m: 0.8702 - recall_m: 0.3730\n",
            "Epoch 59/100\n",
            "3367/3367 [==============================] - 6s 2ms/step - loss: 1.1138 - accuracy: 0.5586 - f1_m: 0.5132 - precision_m: 0.8725 - recall_m: 0.3693\n",
            "Epoch 60/100\n",
            "3367/3367 [==============================] - 6s 2ms/step - loss: 1.1139 - accuracy: 0.5591 - f1_m: 0.5165 - precision_m: 0.8720 - recall_m: 0.3724\n",
            "Epoch 61/100\n",
            "3367/3367 [==============================] - 6s 2ms/step - loss: 1.1154 - accuracy: 0.5576 - f1_m: 0.5144 - precision_m: 0.8708 - recall_m: 0.3705\n",
            "Epoch 62/100\n",
            "3367/3367 [==============================] - 6s 2ms/step - loss: 1.1190 - accuracy: 0.5592 - f1_m: 0.5144 - precision_m: 0.8723 - recall_m: 0.3706\n",
            "Epoch 63/100\n",
            "3367/3367 [==============================] - 6s 2ms/step - loss: 1.1122 - accuracy: 0.5605 - f1_m: 0.5152 - precision_m: 0.8671 - recall_m: 0.3723\n",
            "Epoch 64/100\n",
            "3367/3367 [==============================] - 6s 2ms/step - loss: 1.1186 - accuracy: 0.5559 - f1_m: 0.5126 - precision_m: 0.8684 - recall_m: 0.3696\n",
            "Epoch 65/100\n",
            "3367/3367 [==============================] - 6s 2ms/step - loss: 1.1156 - accuracy: 0.5597 - f1_m: 0.5164 - precision_m: 0.8677 - recall_m: 0.3731\n",
            "Epoch 66/100\n",
            "3367/3367 [==============================] - 6s 2ms/step - loss: 1.1140 - accuracy: 0.5597 - f1_m: 0.5159 - precision_m: 0.8665 - recall_m: 0.3733\n",
            "Epoch 67/100\n",
            "3367/3367 [==============================] - 6s 2ms/step - loss: 1.1072 - accuracy: 0.5644 - f1_m: 0.5215 - precision_m: 0.8752 - recall_m: 0.3768\n",
            "Epoch 68/100\n",
            "3367/3367 [==============================] - 6s 2ms/step - loss: 1.1063 - accuracy: 0.5602 - f1_m: 0.5160 - precision_m: 0.8691 - recall_m: 0.3726\n",
            "Epoch 69/100\n",
            "3367/3367 [==============================] - 6s 2ms/step - loss: 1.1042 - accuracy: 0.5622 - f1_m: 0.5198 - precision_m: 0.8699 - recall_m: 0.3761\n",
            "Epoch 70/100\n",
            "3367/3367 [==============================] - 6s 2ms/step - loss: 1.1114 - accuracy: 0.5588 - f1_m: 0.5159 - precision_m: 0.8698 - recall_m: 0.3725\n",
            "Epoch 71/100\n",
            "3367/3367 [==============================] - 6s 2ms/step - loss: 1.1055 - accuracy: 0.5615 - f1_m: 0.5202 - precision_m: 0.8714 - recall_m: 0.3768\n",
            "Epoch 72/100\n",
            "3367/3367 [==============================] - 6s 2ms/step - loss: 1.1036 - accuracy: 0.5627 - f1_m: 0.5204 - precision_m: 0.8734 - recall_m: 0.3763\n",
            "Epoch 73/100\n",
            "3367/3367 [==============================] - 6s 2ms/step - loss: 1.1107 - accuracy: 0.5609 - f1_m: 0.5173 - precision_m: 0.8711 - recall_m: 0.3736\n",
            "Epoch 74/100\n",
            "3367/3367 [==============================] - 6s 2ms/step - loss: 1.1038 - accuracy: 0.5587 - f1_m: 0.5191 - precision_m: 0.8732 - recall_m: 0.3746\n",
            "Epoch 75/100\n",
            "3367/3367 [==============================] - 6s 2ms/step - loss: 1.1051 - accuracy: 0.5617 - f1_m: 0.5182 - precision_m: 0.8696 - recall_m: 0.3748\n",
            "Epoch 76/100\n",
            "3367/3367 [==============================] - 6s 2ms/step - loss: 1.1003 - accuracy: 0.5634 - f1_m: 0.5222 - precision_m: 0.8734 - recall_m: 0.3779\n",
            "Epoch 77/100\n",
            "3367/3367 [==============================] - 6s 2ms/step - loss: 1.1048 - accuracy: 0.5619 - f1_m: 0.5188 - precision_m: 0.8721 - recall_m: 0.3745\n",
            "Epoch 78/100\n",
            "3367/3367 [==============================] - 6s 2ms/step - loss: 1.1089 - accuracy: 0.5599 - f1_m: 0.5186 - precision_m: 0.8728 - recall_m: 0.3743\n",
            "Epoch 79/100\n",
            "3367/3367 [==============================] - 6s 2ms/step - loss: 1.1044 - accuracy: 0.5602 - f1_m: 0.5207 - precision_m: 0.8730 - recall_m: 0.3769\n",
            "Epoch 80/100\n",
            "3367/3367 [==============================] - 6s 2ms/step - loss: 1.1001 - accuracy: 0.5613 - f1_m: 0.5168 - precision_m: 0.8760 - recall_m: 0.3727\n",
            "Epoch 81/100\n",
            "3367/3367 [==============================] - 6s 2ms/step - loss: 1.1053 - accuracy: 0.5608 - f1_m: 0.5198 - precision_m: 0.8691 - recall_m: 0.3768\n",
            "Epoch 82/100\n",
            "3367/3367 [==============================] - 6s 2ms/step - loss: 1.1047 - accuracy: 0.5592 - f1_m: 0.5182 - precision_m: 0.8692 - recall_m: 0.3750\n",
            "Epoch 83/100\n",
            "3367/3367 [==============================] - 6s 2ms/step - loss: 1.1029 - accuracy: 0.5635 - f1_m: 0.5210 - precision_m: 0.8751 - recall_m: 0.3766\n",
            "Epoch 84/100\n",
            "3367/3367 [==============================] - 6s 2ms/step - loss: 1.1082 - accuracy: 0.5603 - f1_m: 0.5173 - precision_m: 0.8722 - recall_m: 0.3733\n",
            "Epoch 85/100\n",
            "3367/3367 [==============================] - 6s 2ms/step - loss: 1.0954 - accuracy: 0.5647 - f1_m: 0.5216 - precision_m: 0.8716 - recall_m: 0.3775\n",
            "Epoch 86/100\n",
            "3367/3367 [==============================] - 6s 2ms/step - loss: 1.1042 - accuracy: 0.5575 - f1_m: 0.5179 - precision_m: 0.8749 - recall_m: 0.3729\n",
            "Epoch 87/100\n",
            "3367/3367 [==============================] - 6s 2ms/step - loss: 1.1009 - accuracy: 0.5596 - f1_m: 0.5186 - precision_m: 0.8733 - recall_m: 0.3743\n",
            "Epoch 88/100\n",
            "3367/3367 [==============================] - 6s 2ms/step - loss: 1.1049 - accuracy: 0.5602 - f1_m: 0.5202 - precision_m: 0.8700 - recall_m: 0.3765\n",
            "Epoch 89/100\n",
            "3367/3367 [==============================] - 6s 2ms/step - loss: 1.1019 - accuracy: 0.5620 - f1_m: 0.5188 - precision_m: 0.8759 - recall_m: 0.3741\n",
            "Epoch 90/100\n",
            "3367/3367 [==============================] - 6s 2ms/step - loss: 1.0974 - accuracy: 0.5660 - f1_m: 0.5225 - precision_m: 0.8768 - recall_m: 0.3774\n",
            "Epoch 91/100\n",
            "3367/3367 [==============================] - 6s 2ms/step - loss: 1.0988 - accuracy: 0.5651 - f1_m: 0.5249 - precision_m: 0.8779 - recall_m: 0.3799\n",
            "Epoch 92/100\n",
            "3367/3367 [==============================] - 6s 2ms/step - loss: 1.1005 - accuracy: 0.5616 - f1_m: 0.5209 - precision_m: 0.8742 - recall_m: 0.3769\n",
            "Epoch 93/100\n",
            "3367/3367 [==============================] - 6s 2ms/step - loss: 1.0995 - accuracy: 0.5642 - f1_m: 0.5239 - precision_m: 0.8754 - recall_m: 0.3796\n",
            "Epoch 94/100\n",
            "3367/3367 [==============================] - 6s 2ms/step - loss: 1.0983 - accuracy: 0.5646 - f1_m: 0.5221 - precision_m: 0.8741 - recall_m: 0.3776\n",
            "Epoch 95/100\n",
            "3367/3367 [==============================] - 6s 2ms/step - loss: 1.0954 - accuracy: 0.5636 - f1_m: 0.5227 - precision_m: 0.8728 - recall_m: 0.3784\n",
            "Epoch 96/100\n",
            "3367/3367 [==============================] - 6s 2ms/step - loss: 1.0990 - accuracy: 0.5604 - f1_m: 0.5212 - precision_m: 0.8770 - recall_m: 0.3765\n",
            "Epoch 97/100\n",
            "3367/3367 [==============================] - 6s 2ms/step - loss: 1.0983 - accuracy: 0.5643 - f1_m: 0.5225 - precision_m: 0.8766 - recall_m: 0.3776\n",
            "Epoch 98/100\n",
            "3367/3367 [==============================] - 6s 2ms/step - loss: 1.1002 - accuracy: 0.5627 - f1_m: 0.5182 - precision_m: 0.8778 - recall_m: 0.3732\n",
            "Epoch 99/100\n",
            "3367/3367 [==============================] - 6s 2ms/step - loss: 1.1030 - accuracy: 0.5618 - f1_m: 0.5198 - precision_m: 0.8784 - recall_m: 0.3745\n",
            "Epoch 100/100\n",
            "3367/3367 [==============================] - 6s 2ms/step - loss: 1.0901 - accuracy: 0.5691 - f1_m: 0.5240 - precision_m: 0.8728 - recall_m: 0.3798\n"
          ],
          "name": "stdout"
        }
      ]
    },
    {
      "cell_type": "code",
      "metadata": {
        "id": "ztGpRsQzymQ2",
        "colab": {
          "base_uri": "https://localhost:8080/"
        },
        "outputId": "aa81f097-7734-4e2a-cc84-235966d4b0c4"
      },
      "source": [
        "loss_NNall, accNNall, f1_score_NNall, precision_NNall, recall_NNall = model2.evaluate(X_test, y_test, verbose=True)\n",
        "print(\"Testing Accuracy: {:.4f}\".format(accNNall))\n",
        "print(\"Testing Precision: {:.4f}\".format(precision_NNall))\n",
        "print(\"Testing Recall: {:.4f}\".format(recall_NNall))\n",
        "print(\"Testing F1-Score: {:.4f}\".format(f1_score_NNall))"
      ],
      "execution_count": 37,
      "outputs": [
        {
          "output_type": "stream",
          "text": [
            "2573/2573 [==============================] - 4s 1ms/step - loss: 1.0328 - accuracy: 0.5895 - f1_m: 0.5100 - precision_m: 0.7479 - recall_m: 0.4442\n",
            "Testing Accuracy: 0.5895\n",
            "Testing Precision: 0.7479\n",
            "Testing Recall: 0.4442\n",
            "Testing F1-Score: 0.5100\n"
          ],
          "name": "stdout"
        }
      ]
    },
    {
      "cell_type": "code",
      "metadata": {
        "id": "CS0Gt8XauZ5P"
      },
      "source": [
        "#Ada Boost with DT\n",
        "from sklearn.ensemble import AdaBoostClassifier\n"
      ],
      "execution_count": 38,
      "outputs": []
    },
    {
      "cell_type": "code",
      "metadata": {
        "colab": {
          "base_uri": "https://localhost:8080/"
        },
        "id": "6tc7MPIluZ9m",
        "outputId": "0d21b584-7545-40dd-da25-961efe297bfd"
      },
      "source": [
        "print (\"\\t\\tAdaBoost using Decision Tree Analysis of UNSW NB15\\n\\n\\t\\tTop 15 Features \")\n",
        "\n",
        "\n",
        "\n",
        "abc10 = AdaBoostClassifier(DecisionTreeClassifier(max_depth=3), algorithm=\"SAMME\", n_estimators=500)\n",
        "abc10.fit(df1_xtrain, df1_ytrain)\n",
        "\n",
        "#Predict the response for test dataset\n",
        "y_pred_Ada10 = abc10.predict(df1_xtest)\n",
        "\n",
        "\n",
        "results_Ada10 = confusion_matrix(df1_ytest, y_pred_Ada10) \n",
        "print ('Confusion Matrix :')\n",
        "print(results_Ada10) \n",
        "\n",
        "accabc10=accuracy_score(df1_ytest, y_pred_Ada10)\n",
        "preabc10=precision_score(df1_ytest, y_pred_Ada10, average='macro')\n",
        "f1abc10=f1_score(df1_ytest, y_pred_Ada10, average='macro')\n",
        "reabc10=recall_score(df1_ytest, y_pred_Ada10, average='macro')\n",
        "\n",
        "print ('Accuracy Score :', accabc10)\n",
        "print(\"Precision Score: \",preabc10)\n",
        "print(\"F1 Score: \",f1abc10)\n",
        "print(\"Recall: \",reabc10)"
      ],
      "execution_count": 39,
      "outputs": [
        {
          "output_type": "stream",
          "text": [
            "\t\tAdaBoost using Decision Tree Analysis of UNSW NB15\n",
            "\n",
            "\t\tTop 15 Features \n",
            "Confusion Matrix :\n",
            "[[  281     4    60    51   206     0    62    13     0     0]\n",
            " [  179     6    61    97   214     1     8    13     4     0]\n",
            " [ 1862   134   237   854   525    69   168   200    38     2]\n",
            " [ 1854   155   390  6189   859   253   868   517    44     3]\n",
            " [  539    12   134   370  1076     2  3825    66    36     2]\n",
            " [   12     2    49   804    41 17849    89    15    10     0]\n",
            " [  440    23   170   908  3039    18 32249    20   127     6]\n",
            " [  216    28    22   196    78     7    87  2842    20     0]\n",
            " [    0     0    25    50    44     0    45    15   199     0]\n",
            " [    0     1     0    31     4     3     1     0     2     2]]\n",
            "Accuracy Score : 0.7400524704853519\n",
            "Precision Score:  0.4258598142157197\n",
            "F1 Score:  0.41227831822646416\n",
            "Recall:  0.4419058463727786\n"
          ],
          "name": "stdout"
        }
      ]
    },
    {
      "cell_type": "code",
      "metadata": {
        "colab": {
          "base_uri": "https://localhost:8080/"
        },
        "id": "qWHpLmjVuaML",
        "outputId": "d431758e-134e-4f6a-da7c-c27173e1b802"
      },
      "source": [
        "print (\"\\t\\tAdaBoost using DT Analysis of UNSW-NB15\\n\\n\\t\\tTop 30 Features \")\n",
        "\n",
        "abc20 = AdaBoostClassifier(DecisionTreeClassifier(max_depth=3), algorithm=\"SAMME\",n_estimators=500)\n",
        "abc20.fit(df2_xtrain, df2_ytrain)\n",
        "\n",
        "y_pred_Ada20 = abc20.predict(df2_xtest)\n",
        "\n",
        "\n",
        "\n",
        "results_Ada10 = confusion_matrix(df2_ytest, y_pred_Ada20) \n",
        "print ('Confusion Matrix :')\n",
        "print(results_Ada10) \n",
        "\n",
        "accabc20=accuracy_score(df2_ytest, y_pred_Ada20)\n",
        "preabc20=precision_score(df2_ytest, y_pred_Ada20, average='macro')\n",
        "f1abc20=f1_score(df2_ytest, y_pred_Ada20, average='macro')\n",
        "reabc20=recall_score(df2_ytest, y_pred_Ada20, average='macro')\n",
        "\n",
        "print ('Accuracy Score :', accabc20)\n",
        "print(\"Precision Score: \",preabc20)\n",
        "print(\"F1 Score: \",f1abc20)\n",
        "print(\"Recall: \",reabc20)\n"
      ],
      "execution_count": 40,
      "outputs": [
        {
          "output_type": "stream",
          "text": [
            "\t\tAdaBoost using DT Analysis of UNSW-NB15\n",
            "\n",
            "\t\tTop 30 Features \n",
            "Confusion Matrix :\n",
            "[[  424    57     3    18    44     0    55    76     0     0]\n",
            " [  359    45    15    24    51    11     4    71     3     0]\n",
            " [ 1378   689   331   926   328    32   108   252    39     6]\n",
            " [ 1640   687  1031  6096   478   219   363   553    40    25]\n",
            " [  826   133    82   151  1658    11  2933   194    53    21]\n",
            " [   13     6   260   370    56 18059    87     7    12     1]\n",
            " [  658     6   307   638  5201    27 30030    14   101    18]\n",
            " [  133   110    59   241    86     7    34  2820     5     1]\n",
            " [    0     2    36    54    45     0    36    12   193     0]\n",
            " [    0     0     5    31     2     2     2     0     0     2]]\n",
            "Accuracy Score : 0.7246028275761551\n",
            "Precision Score:  0.42216095049288327\n",
            "F1 Score:  0.42151037141227066\n",
            "Recall:  0.4736811250635452\n"
          ],
          "name": "stdout"
        }
      ]
    },
    {
      "cell_type": "code",
      "metadata": {
        "colab": {
          "base_uri": "https://localhost:8080/"
        },
        "id": "0EdgdNfGuaUk",
        "outputId": "22cf8006-43b9-4a1e-eee4-5afa64d28248"
      },
      "source": [
        "print (\"\\t\\tAdaBoost using DT Analysis of UNSW-NB15\\n\\n\\t\\tAll Features \")\n",
        "\n",
        "abcall = AdaBoostClassifier(DecisionTreeClassifier(max_depth=3),\n",
        "                         algorithm=\"SAMME\",\n",
        "                         n_estimators=500)\n",
        "\n",
        "abcall.fit(df3_xtrain,df3_ytrain)\n",
        "\n",
        "y_pred_Adaall = abcall.predict(df3_xtest)\n",
        "\n",
        "results_Adaall = confusion_matrix(df3_ytest, y_pred_Adaall) \n",
        "print ('Confusion Matrix :')\n",
        "print(results_Adaall)\n",
        "\n",
        "accabcall=accuracy_score(df3_ytest, y_pred_Adaall)\n",
        "preabcall=precision_score(df3_ytest, y_pred_Adaall, average='macro')\n",
        "f1abcall=f1_score(df3_ytest, y_pred_Adaall, average='macro')\n",
        "reabcall=recall_score(df3_ytest, y_pred_Adaall, average='macro')\n",
        "\n",
        "print ('Accuracy Score :', accabcall)\n",
        "print(\"Precision Score: \",preabcall)\n",
        "print(\"F1 Score: \",f1abcall)\n",
        "print(\"Recall: \",reabcall)"
      ],
      "execution_count": 41,
      "outputs": [
        {
          "output_type": "stream",
          "text": [
            "\t\tAdaBoost using DT Analysis of UNSW-NB15\n",
            "\n",
            "\t\tAll Features \n",
            "Confusion Matrix :\n",
            "[[  249    47   164    14    21    34    26   122     0     0]\n",
            " [  187    89   159    23    26    10     0    89     0     0]\n",
            " [  977   503   493   591   129   142   139  1115     0     0]\n",
            " [ 1516   832   956  3556   150   892  1299  1930     0     1]\n",
            " [  441   648   724  1154  1237   999   233   626     0     0]\n",
            " [   17    42    75   356     6 14065    41  4269     0     0]\n",
            " [ 2178  1236  1812  4189  5753  1274 15575  4983     0     0]\n",
            " [   85   129    52    69    20    14     2  3125     0     0]\n",
            " [    0    67    72   168     6     0     0    65     0     0]\n",
            " [    0     0     5    11     0     1     0    27     0     0]]\n",
            "Accuracy Score : 0.4662707088373901\n",
            "Precision Score:  0.2594977036850702\n",
            "F1 Score:  0.24182434495918598\n",
            "Recall:  0.32246708489366177\n"
          ],
          "name": "stdout"
        },
        {
          "output_type": "stream",
          "text": [
            "/usr/local/lib/python3.7/dist-packages/sklearn/metrics/_classification.py:1272: UndefinedMetricWarning:\n",
            "\n",
            "Precision is ill-defined and being set to 0.0 in labels with no predicted samples. Use `zero_division` parameter to control this behavior.\n",
            "\n"
          ],
          "name": "stderr"
        }
      ]
    },
    {
      "cell_type": "code",
      "metadata": {
        "id": "Fbwdx6KnI4wX"
      },
      "source": [
        ""
      ],
      "execution_count": null,
      "outputs": []
    },
    {
      "cell_type": "code",
      "metadata": {
        "colab": {
          "base_uri": "https://localhost:8080/"
        },
        "id": "i_Sou9aPI9np",
        "outputId": "3e740e21-2905-4baf-d23e-6b8c8afd660a"
      },
      "source": [
        "!pip install vecstack\n",
        "\n",
        "from sklearn.model_selection import train_test_split\n",
        "from sklearn.metrics import accuracy_score\n",
        "from sklearn.neighbors import KNeighborsClassifier\n",
        "from sklearn.ensemble import RandomForestClassifier\n",
        "from xgboost import XGBClassifier\n",
        "from vecstack import stacking"
      ],
      "execution_count": 45,
      "outputs": [
        {
          "output_type": "stream",
          "text": [
            "Collecting vecstack\n",
            "  Downloading https://files.pythonhosted.org/packages/d0/a1/b9a1e9e9e5a12078da1ab9788c7885e4c745358f7e57d5f94d9db6a4e898/vecstack-0.4.0.tar.gz\n",
            "Requirement already satisfied: numpy in /usr/local/lib/python3.7/dist-packages (from vecstack) (1.19.5)\n",
            "Requirement already satisfied: scipy in /usr/local/lib/python3.7/dist-packages (from vecstack) (1.4.1)\n",
            "Requirement already satisfied: scikit-learn>=0.18 in /usr/local/lib/python3.7/dist-packages (from vecstack) (0.22.2.post1)\n",
            "Requirement already satisfied: joblib>=0.11 in /usr/local/lib/python3.7/dist-packages (from scikit-learn>=0.18->vecstack) (1.0.1)\n",
            "Building wheels for collected packages: vecstack\n",
            "  Building wheel for vecstack (setup.py) ... \u001b[?25l\u001b[?25hdone\n",
            "  Created wheel for vecstack: filename=vecstack-0.4.0-cp37-none-any.whl size=19877 sha256=d4333f1f13e4a743b90b7a9085b66baa4113a5dd021602362dbd136fa22c5a25\n",
            "  Stored in directory: /root/.cache/pip/wheels/5f/bb/4e/f6488433d53bc0684673d6845e5bf11a25240577c8151c140e\n",
            "Successfully built vecstack\n",
            "Installing collected packages: vecstack\n",
            "Successfully installed vecstack-0.4.0\n"
          ],
          "name": "stdout"
        }
      ]
    },
    {
      "cell_type": "code",
      "metadata": {
        "id": "Fqd-w6geI40E"
      },
      "source": [
        "models_XGB = [\n",
        "    KNeighborsClassifier(),\n",
        "        \n",
        "    RandomForestClassifier(n_estimators=500, max_depth=3),\n",
        "        \n",
        "    XGBClassifier(random_state=0, n_jobs=-1, learning_rate=0.1, \n",
        "                  n_estimators=100, max_depth=3)\n",
        "]"
      ],
      "execution_count": 46,
      "outputs": []
    },
    {
      "cell_type": "code",
      "metadata": {
        "colab": {
          "base_uri": "https://localhost:8080/"
        },
        "id": "yjUmiwr-I43Z",
        "outputId": "a7bc4a68-7c16-49ad-e6e5-36e8be4bae68"
      },
      "source": [
        "S_train, S_test = stacking(models_XGB, df1_xtrain, df1_ytrain, df1_xtest, regression=False, mode='oof_pred_bag', needs_proba=False, save_dir=None,  metric=accuracy_score, \n",
        "                               n_folds=5, stratified=True, shuffle=True,  random_state=0, verbose=2)"
      ],
      "execution_count": 47,
      "outputs": [
        {
          "output_type": "stream",
          "text": [
            "task:         [classification]\n",
            "n_classes:    [10]\n",
            "metric:       [accuracy_score]\n",
            "mode:         [oof_pred_bag]\n",
            "n_models:     [3]\n",
            "\n",
            "model  0:     [KNeighborsClassifier]\n",
            "    fold  0:  [0.73357156]\n",
            "    fold  1:  [0.74108966]\n",
            "    fold  2:  [0.73417487]\n",
            "    fold  3:  [0.73937256]\n",
            "    fold  4:  [0.74043995]\n",
            "    ----\n",
            "    MEAN:     [0.73772972] + [0.00320190]\n",
            "    FULL:     [0.73772972]\n",
            "\n",
            "model  1:     [RandomForestClassifier]\n",
            "    fold  0:  [0.72558938]\n",
            "    fold  1:  [0.73208650]\n",
            "    fold  2:  [0.72647113]\n",
            "    fold  3:  [0.73454613]\n",
            "    fold  4:  [0.72985892]\n",
            "    ----\n",
            "    MEAN:     [0.72971041] + [0.00336238]\n",
            "    FULL:     [0.72971041]\n",
            "\n",
            "model  2:     [XGBClassifier]\n",
            "    fold  0:  [0.78893633]\n",
            "    fold  1:  [0.79547986]\n",
            "    fold  2:  [0.79650084]\n",
            "    fold  3:  [0.79961017]\n",
            "    fold  4:  [0.79520141]\n",
            "    ----\n",
            "    MEAN:     [0.79514572] + [0.00347675]\n",
            "    FULL:     [0.79514572]\n",
            "\n"
          ],
          "name": "stdout"
        }
      ]
    },
    {
      "cell_type": "code",
      "metadata": {
        "colab": {
          "base_uri": "https://localhost:8080/"
        },
        "id": "NQFZA7MAI473",
        "outputId": "6d9d53d1-b16b-4542-87c6-03ed61ff1b27"
      },
      "source": [
        "model_XGB1 = XGBClassifier(random_state=1, n_jobs=-1, learning_rate=0.1, \n",
        "                      n_estimators=300, max_depth=3)\n",
        "    \n",
        "model_XGB1 = model_XGB1.fit(S_train, df1_ytrain)\n",
        "\n",
        "y_pred_XGB1 = model_XGB1.predict(S_test)\n",
        "\n",
        "print('Final prediction score: [%.5f]' % accuracy_score(df1_ytest, y_pred_XGB1))\n",
        "\n",
        "results_XGB1 = confusion_matrix(df1_ytest, y_pred_XGB1) \n",
        "print ('Confusion Matrix :')\n",
        "print(results_XGB1) \n",
        "\n",
        "accXGB10=accuracy_score(df1_ytest, y_pred_XGB1)\n",
        "preXGB10=precision_score(df1_ytest, y_pred_XGB1, average='macro')\n",
        "f1XGB10=f1_score(df1_ytest, y_pred_XGB1, average='macro')\n",
        "reXGB10=recall_score(df1_ytest, y_pred_XGB1, average='macro')\n",
        "\n",
        "print ('Accuracy Score :', accXGB10)\n",
        "print(\"Precision Score: \",preXGB10)\n",
        "print(\"F1 Score: \",f1XGB10)\n",
        "print(\"Recall: \",reXGB10)"
      ],
      "execution_count": 48,
      "outputs": [
        {
          "output_type": "stream",
          "text": [
            "Final prediction score: [0.73414]\n",
            "Confusion Matrix :\n",
            "[[    1     0     0     8   613     0    52     3     0     0]\n",
            " [    1    21     1    32   513     0     7     4     4     0]\n",
            " [    8    46    70  1026  2786     2    44    45    62     0]\n",
            " [    7    29    32  7274  3233     0   307   182    66     2]\n",
            " [    1     7     1   138  4825     0   941    54    95     0]\n",
            " [    0     4    13   495   163 18159    18     8    10     1]\n",
            " [    1     0    17  1076  8764     0 27035    33    73     1]\n",
            " [    2     6     2   291   348     0     6  2828    13     0]\n",
            " [    0     1     2    55    65     0    10    30   215     0]\n",
            " [    0     0     1    22     5     0     1     0     0    15]]\n",
            "Accuracy Score : 0.7341373949375698\n",
            "Precision Score:  0.5687654692981967\n",
            "F1 Score:  0.47229960499373336\n",
            "Recall:  0.49155527405923394\n"
          ],
          "name": "stdout"
        }
      ]
    },
    {
      "cell_type": "code",
      "metadata": {
        "colab": {
          "base_uri": "https://localhost:8080/"
        },
        "id": "8i1KC2CdTWm8",
        "outputId": "194e15fa-9672-44ee-989e-66749c425eac"
      },
      "source": [
        "S_train2, S_test2 = stacking(models_XGB, df2_xtrain, df2_ytrain, df2_xtest, regression=False, mode='oof_pred_bag', needs_proba=False, save_dir=None,  metric=accuracy_score, \n",
        "                               n_folds=5, stratified=True, shuffle=True,  random_state=0, verbose=2)\n",
        "\n",
        "model_XGB2 = XGBClassifier(random_state=0, n_jobs=-1, learning_rate=0.1, n_estimators=300, max_depth=3)\n",
        "    \n",
        "model_XGB2 = model_XGB2.fit(S_train2, df2_ytrain)\n",
        "\n",
        "y_pred_XGB2 = model_XGB2.predict(S_test2)\n",
        "\n",
        "print('Final prediction score: [%.5f]' % accuracy_score(df2_ytest, y_pred_XGB2))\n",
        "\n",
        "\n",
        "\n",
        "\n",
        "results_XGB2 = confusion_matrix(df2_ytest, y_pred_XGB2) \n",
        "print ('Confusion Matrix :')\n",
        "print(results_XGB2) \n",
        "\n",
        "accXGB20=accuracy_score(df2_ytest, y_pred_XGB2)\n",
        "preXGB20=precision_score(df2_ytest, y_pred_XGB2, average='macro')\n",
        "f1XGB20=f1_score(df2_ytest, y_pred_XGB2, average='macro')\n",
        "reXGB20=recall_score(df2_ytest, y_pred_XGB2, average='macro')\n",
        "\n",
        "print ('Accuracy Score :',accXGB20 )\n",
        "print(\"Precision Score: \",preXGB20)\n",
        "print(\"F1 Score: \",f1XGB20)\n",
        "print(\"Recall: \",reXGB20)\n",
        "\n"
      ],
      "execution_count": 49,
      "outputs": [
        {
          "output_type": "stream",
          "text": [
            "task:         [classification]\n",
            "n_classes:    [10]\n",
            "metric:       [accuracy_score]\n",
            "mode:         [oof_pred_bag]\n",
            "n_models:     [3]\n",
            "\n",
            "model  0:     [KNeighborsClassifier]\n",
            "    fold  0:  [0.56775571]\n",
            "    fold  1:  [0.56798775]\n",
            "    fold  2:  [0.56993689]\n",
            "    fold  3:  [0.56432151]\n",
            "    fold  4:  [0.57156117]\n",
            "    ----\n",
            "    MEAN:     [0.56831260] + [0.00243047]\n",
            "    FULL:     [0.56831260]\n",
            "\n",
            "model  1:     [RandomForestClassifier]\n",
            "    fold  0:  [0.69932244]\n",
            "    fold  1:  [0.70642287]\n",
            "    fold  2:  [0.71111008]\n",
            "    fold  3:  [0.71802487]\n",
            "    fold  4:  [0.73087990]\n",
            "    ----\n",
            "    MEAN:     [0.71315203] + [0.01075854]\n",
            "    FULL:     [0.71315203]\n",
            "\n",
            "model  2:     [XGBClassifier]\n",
            "    fold  0:  [0.79394839]\n",
            "    fold  1:  [0.80165213]\n",
            "    fold  2:  [0.79974940]\n",
            "    fold  3:  [0.80466865]\n",
            "    fold  4:  [0.80230184]\n",
            "    ----\n",
            "    MEAN:     [0.80046408] + [0.00361752]\n",
            "    FULL:     [0.80046408]\n",
            "\n",
            "Final prediction score: [0.73310]\n",
            "Confusion Matrix :\n",
            "[[   77   215     0     1   322     0    57     2     3     0]\n",
            " [   25   229     1    23   284     6     5     3     7     0]\n",
            " [  874   675    79  1012  1229    23    47    60    90     0]\n",
            " [  798   801    50  7380  1597    12   201   196    95     2]\n",
            " [  160   457     2   119  4116     0  1047    58   103     0]\n",
            " [    5     4     6   506   126 18173    22    14    14     1]\n",
            " [  412     0    15   950  8254     0 27221    30   117     1]\n",
            " [  112    62     7   298   159     0    10  2829    19     0]\n",
            " [    4     1     0    45    41     0    17    36   234     0]\n",
            " [    0     0     0    19     4     0     1     0     0    20]]\n",
            "Accuracy Score : 0.7331049895544867\n",
            "Precision Score:  0.5588079951403392\n",
            "F1 Score:  0.4976209718548666\n",
            "Recall:  0.5449308898377174\n"
          ],
          "name": "stdout"
        }
      ]
    },
    {
      "cell_type": "code",
      "metadata": {
        "colab": {
          "base_uri": "https://localhost:8080/"
        },
        "id": "dSyC9ob1TWqP",
        "outputId": "44c69da7-05c2-43b1-aa36-c2b97b50eb64"
      },
      "source": [
        "\n",
        "S_train3, S_test3 = stacking(models_XGB, df3_xtrain, df3_ytrain, df3_xtest, regression=False, mode='oof_pred_bag', needs_proba=False, save_dir=None,  metric=accuracy_score, \n",
        "                               n_folds=5, stratified=True, shuffle=True,  random_state=0, verbose=2)\n",
        "\n",
        "\n",
        "model_XGB3 = XGBClassifier(random_state=0, n_jobs=-1, learning_rate=0.1, n_estimators=300, max_depth=3)\n",
        "    \n",
        "model_XGB3 = model_XGB3.fit(S_train3, df3_ytrain)\n",
        "\n",
        "y_pred_XGB3 = model_XGB3.predict(S_test)\n",
        "\n",
        "print('Final prediction score: [%.5f]' % accuracy_score(df3_ytest, y_pred_XGB3))\n",
        "\n",
        "\n",
        "\n",
        "\n",
        "results_XGB3 = confusion_matrix(df3_ytest, y_pred_XGB3) \n",
        "print ('Confusion Matrix :')\n",
        "print(results_XGB3)\n",
        "\n",
        "accXGBall=accuracy_score(df3_ytest, y_pred_XGB3)\n",
        "preXGBall=precision_score(df3_ytest, y_pred_XGB3, average='macro')\n",
        "f1XGBall=f1_score(df3_ytest, y_pred_XGB3, average='macro')\n",
        "reXGBall=recall_score(df3_ytest, y_pred_XGB3, average='macro')\n",
        "\n",
        "print ('Accuracy Score :', accXGBall)\n",
        "print(\"Precision Score: \",preXGBall)\n",
        "print(\"F1 Score: \",f1XGBall)\n",
        "print(\"Recall: \",reXGBall)"
      ],
      "execution_count": 50,
      "outputs": [
        {
          "output_type": "stream",
          "text": [
            "task:         [classification]\n",
            "n_classes:    [10]\n",
            "metric:       [accuracy_score]\n",
            "mode:         [oof_pred_bag]\n",
            "n_models:     [3]\n",
            "\n",
            "model  0:     [KNeighborsClassifier]\n",
            "    fold  0:  [0.56682755]\n",
            "    fold  1:  [0.56585298]\n",
            "    fold  2:  [0.56835901]\n",
            "    fold  3:  [0.56283646]\n",
            "    fold  4:  [0.57040097]\n",
            "    ----\n",
            "    MEAN:     [0.56685539] + [0.00252940]\n",
            "    FULL:     [0.56685539]\n",
            "\n",
            "model  1:     [RandomForestClassifier]\n",
            "    fold  0:  [0.69811583]\n",
            "    fold  1:  [0.70405606]\n",
            "    fold  2:  [0.70470577]\n",
            "    fold  3:  [0.70591238]\n",
            "    fold  4:  [0.70572675]\n",
            "    ----\n",
            "    MEAN:     [0.70370336] + [0.00287484]\n",
            "    FULL:     [0.70370336]\n",
            "\n",
            "model  2:     [XGBClassifier]\n",
            "    fold  0:  [0.79227771]\n",
            "    fold  1:  [0.79956376]\n",
            "    fold  2:  [0.79942454]\n",
            "    fold  3:  [0.80517913]\n",
            "    fold  4:  [0.79933172]\n",
            "    ----\n",
            "    MEAN:     [0.79915537] + [0.00409532]\n",
            "    FULL:     [0.79915537]\n",
            "\n",
            "Final prediction score: [0.71095]\n",
            "Confusion Matrix :\n",
            "[[  138     0     0     8   479     0    49     3     0     0]\n",
            " [   91    20     1    31   424     0     8     4     4     0]\n",
            " [  701    67    72  1016  2058     2    78    33    62     0]\n",
            " [  711    39    60  7252  2484     0   336   181    67     2]\n",
            " [  267     8     4   138  4519     0   981    51    94     0]\n",
            " [    9     5     8   496   150 18159    25     8    10     1]\n",
            " [  412    10    33  1057  8596     0 26808    28    55     1]\n",
            " [   83    10     5   288   255     0  1456  1384    15     0]\n",
            " [    2     3    43    40    56     0    43    24   167     0]\n",
            " [    0     1     0    22     5     0     1     0     0    15]]\n",
            "Accuracy Score : 0.7109507846280911\n",
            "Precision Score:  0.5285040219502108\n",
            "F1 Score:  0.4394593195526658\n",
            "Recall:  0.45180725447333814\n"
          ],
          "name": "stdout"
        }
      ]
    },
    {
      "cell_type": "code",
      "metadata": {
        "id": "Hwgf1CnikmZa"
      },
      "source": [
        "from sklearn.datasets import make_classification\n",
        "from sklearn.ensemble import StackingClassifier\n",
        "from sklearn.linear_model import LogisticRegression\n",
        "from sklearn.neighbors import KNeighborsClassifier\n",
        "from sklearn.tree import DecisionTreeClassifier\n",
        "from sklearn.svm import SVC\n",
        "from sklearn.ensemble import RandomForestClassifier,AdaBoostClassifier,GradientBoostingClassifier"
      ],
      "execution_count": null,
      "outputs": []
    },
    {
      "cell_type": "code",
      "metadata": {
        "id": "vPtKiX1VTWtA"
      },
      "source": [
        "\"\"\"\n",
        "level0 = list()\n",
        "level0.append(('rf', RandomForestClassifier()))\n",
        "#level0.append(('knn', KNeighborsClassifier()))\n",
        "level0.append(('cart', DecisionTreeClassifier()))\n",
        "# define meta learner model\n",
        "print(\"Proceeding with: \",level0)\n",
        "level1 = GradientBoostingClassifier(n_estimators=200)\n",
        "# define the stacking ensemble\n",
        "model = StackingClassifier(estimators=level0, final_estimator=level1, cv=2)\n",
        "# fit the model on all available data\n",
        "model.fit(df1_xtrain, df1_ytrain)\n",
        "# make a prediction for one example\n",
        "\n",
        "yhat = model.predict(df1_xtest)\n",
        "#print('Predicted Class: %d' % (yhat))\n",
        "\n",
        "print('Final prediction score: [%.5f]' % accuracy_score(df1_ytest, yhat))\n",
        "\n",
        "results_sc1 = confusion_matrix(df1_ytest, yhat) \n",
        "print ('Confusion Matrix :')\n",
        "print(results_sc1) \n",
        "\n",
        "print ('Accuracy Score :',accuracy_score(df1_ytest, yhat) )\n",
        "print(\"Precision Score: \",precision_score(df1_ytest, yhat, average='macro'))\n",
        "print(\"F1 Score: \",f1_score(df1_ytest, yhat, average='macro'))\n",
        "print(\"Recall: \",recall_score(df1_ytest, yhat, average='macro'))\n",
        "\"\"\""
      ],
      "execution_count": null,
      "outputs": []
    },
    {
      "cell_type": "code",
      "metadata": {
        "id": "lUMdVaV4S1Bb"
      },
      "source": [
        "import matplotlib.pyplot as plt\n",
        "import numpy as np"
      ],
      "execution_count": 51,
      "outputs": []
    },
    {
      "cell_type": "code",
      "metadata": {
        "colab": {
          "base_uri": "https://localhost:8080/",
          "height": 564
        },
        "id": "DzIs_9OsddmO",
        "outputId": "8d12d2f7-ef1b-44b5-f1cb-453d67911b1c"
      },
      "source": [
        "fig,a =  plt.subplots(2,2,figsize=(10, 8))\n",
        "fig.tight_layout(pad=3)\n",
        "a[0][0].plot(['Top 15', 'Top 30', 'All'],[accKNN10*100,accKNN20*100,accKNNall*100])\n",
        "a[0][0].set_title('Accuracy')\n",
        "a[0][1].plot(['Top 15', 'Top 30', 'All'],[preKNN10*100,preKNN20*100,preKNNall*100])\n",
        "a[0][1].set_title('Precision')\n",
        "a[1][0].plot(['Top 15', 'Top 30', 'All'],[f1KNN10*100,f1KNN20*100,f1KNNall*100])\n",
        "a[1][0].set_title('F1-Score')\n",
        "a[1][1].plot(['Top 15', 'Top 30', 'All'],[reKNN10*100,reKNN20*100,reKNNall*100])\n",
        "a[1][1].set_title('Recall')\n",
        "#figure.tight_layout(pad=3.0)\n",
        "plt.suptitle('KNN',fontsize=20)\n",
        "\n",
        "plt.show()"
      ],
      "execution_count": 52,
      "outputs": [
        {
          "output_type": "display_data",
          "data": {
            "image/png": "[encoded data removed]",
            "text/plain": [
              "<Figure size 720x576 with 4 Axes>"
            ]
          },
          "metadata": {
            "tags": [],
            "needs_background": "light"
          }
        }
      ]
    },
    {
      "cell_type": "code",
      "metadata": {
        "colab": {
          "base_uri": "https://localhost:8080/",
          "height": 564
        },
        "id": "8jBfEoO1f-vR",
        "outputId": "b1626617-5e37-4141-c430-6c95131e4db8"
      },
      "source": [
        "fig,a =  plt.subplots(2,2,figsize=(10, 8))\n",
        "fig.tight_layout(pad=3)\n",
        "a[0][0].plot(['Top 15', 'Top 30', 'All'],[accDT10*100,accDT20*100,accDTall*100])\n",
        "a[0][0].set_title('Accuracy')\n",
        "a[0][1].plot(['Top 15', 'Top 30', 'All'],[preDT10*100,preDT20*100,preDTall*100])\n",
        "a[0][1].set_title('Precision')\n",
        "a[1][0].plot(['Top 15', 'Top 30', 'All'],[f1DT10*100,f1DT20*100,f1DTall*100])\n",
        "a[1][0].set_title('F1-Score')\n",
        "a[1][1].plot(['Top 15', 'Top 30', 'All'],[reDT10*100,reDT20*100,reDTall*100])\n",
        "a[1][1].set_title('Recall')\n",
        "#figure.tight_layout(pad=3.0)\n",
        "plt.suptitle('Decision Treee',fontsize=20)\n",
        "\n",
        "plt.show()"
      ],
      "execution_count": 53,
      "outputs": [
        {
          "output_type": "display_data",
          "data": {
            "image/png": "[encoded data removed]",
            "text/plain": [
              "<Figure size 720x576 with 4 Axes>"
            ]
          },
          "metadata": {
            "tags": [],
            "needs_background": "light"
          }
        }
      ]
    },
    {
      "cell_type": "code",
      "metadata": {
        "colab": {
          "base_uri": "https://localhost:8080/",
          "height": 564
        },
        "id": "mxfc2mpZhRIs",
        "outputId": "aa1c047c-4b75-444e-d52f-c675da664763"
      },
      "source": [
        "fig,a =  plt.subplots(2,2,figsize=(10, 8))\n",
        "fig.tight_layout(pad=3)\n",
        "a[0][0].plot(['Top 15', 'Top 30', 'All'],[accDT10*100,accDT20*100,accDTall*100])\n",
        "a[0][0].set_title('Accuracy')\n",
        "a[0][1].plot(['Top 15', 'Top 30', 'All'],[preDT10*100,preDT20*100,preDTall*100])\n",
        "a[0][1].set_title('Precision')\n",
        "a[1][0].plot(['Top 15', 'Top 30', 'All'],[f1DT10*100,f1DT20*100,f1DTall*100])\n",
        "a[1][0].set_title('F1-Score')\n",
        "a[1][1].plot(['Top 15', 'Top 30', 'All'],[reDT10*100,reDT20*100,reDTall*100])\n",
        "a[1][1].set_title('Recall')\n",
        "#figure.tight_layout(pad=3.0)\n",
        "plt.suptitle('Multinomial Naive Bayes',fontsize=20)\n",
        "\n",
        "plt.show()"
      ],
      "execution_count": 54,
      "outputs": [
        {
          "output_type": "display_data",
          "data": {
            "image/png": "[encoded data removed]",
            "text/plain": [
              "<Figure size 720x576 with 4 Axes>"
            ]
          },
          "metadata": {
            "tags": [],
            "needs_background": "light"
          }
        }
      ]
    },
    {
      "cell_type": "code",
      "metadata": {
        "colab": {
          "base_uri": "https://localhost:8080/",
          "height": 564
        },
        "id": "lFij-59DhRe8",
        "outputId": "eb0ee7a2-7d85-48d1-beff-ef6a35f6db17"
      },
      "source": [
        "fig,a =  plt.subplots(2,2,figsize=(10, 8))\n",
        "fig.tight_layout(pad=3)\n",
        "a[0][0].plot(['Top 15', 'Top 30', 'All'],[accclfRF_10*100,accclfRF_20*100,accclfRF_all*100])\n",
        "a[0][0].set_title('Accuracy')\n",
        "a[0][1].plot(['Top 15', 'Top 30', 'All'],[preclfRF_10*100,preclfRF_20*100,preclfRF_all*100])\n",
        "a[0][1].set_title('Precision')\n",
        "a[1][0].plot(['Top 15', 'Top 30', 'All'],[f1clfRF_10*100,f1clfRF_20*100,f1clfRF_all*100])\n",
        "a[1][0].set_title('F1-Score')\n",
        "a[1][1].plot(['Top 15', 'Top 30', 'All'],[reclfRF_10*100,reclfRF_20*100,reclfRF_all*100])\n",
        "a[1][1].set_title('Recall')\n",
        "#figure.tight_layout(pad=3.0)\n",
        "plt.suptitle('Random Forest',fontsize=20)\n",
        "\n",
        "plt.show()"
      ],
      "execution_count": 55,
      "outputs": [
        {
          "output_type": "display_data",
          "data": {
            "image/png": "[encoded data removed]",
            "text/plain": [
              "<Figure size 720x576 with 4 Axes>"
            ]
          },
          "metadata": {
            "tags": [],
            "needs_background": "light"
          }
        }
      ]
    },
    {
      "cell_type": "code",
      "metadata": {
        "colab": {
          "base_uri": "https://localhost:8080/",
          "height": 564
        },
        "id": "yaRhXP4TkmpT",
        "outputId": "dfb66327-5429-4172-8b5a-6574379a708b"
      },
      "source": [
        "fig,a =  plt.subplots(2,2,figsize=(10, 8))\n",
        "fig.tight_layout(pad=3)\n",
        "a[0][0].plot(['Top 15', 'Top 30', 'All'],[accNN10*100,accNN20*100,accNNall*100])\n",
        "a[0][0].set_title('Accuracy')\n",
        "a[0][1].plot(['Top 15', 'Top 30', 'All'],[precision_NN10*100,precision_NN20*100,precision_NNall*100])\n",
        "a[0][1].set_title('Precision')\n",
        "a[1][0].plot(['Top 15', 'Top 30', 'All'],[f1_score_NN10*100,f1_score_NN20*100,f1_score_NNall*100])\n",
        "a[1][0].set_title('F1-Score')\n",
        "a[1][1].plot(['Top 15', 'Top 30', 'All'],[recall_NN10*100,recall_NN20*100,recall_NNall*100])\n",
        "a[1][1].set_title('Recall')\n",
        "#figure.tight_layout(pad=3.0)\n",
        "plt.suptitle('Convolution Neural Network',fontsize=20)\n",
        "\n",
        "plt.show()"
      ],
      "execution_count": 57,
      "outputs": [
        {
          "output_type": "display_data",
          "data": {
            "image/png": "[encoded data removed]",
            "text/plain": [
              "<Figure size 720x576 with 4 Axes>"
            ]
          },
          "metadata": {
            "tags": [],
            "needs_background": "light"
          }
        }
      ]
    },
    {
      "cell_type": "code",
      "metadata": {
        "id": "l1L59tlVmIYE",
        "colab": {
          "base_uri": "https://localhost:8080/",
          "height": 564
        },
        "outputId": "6f6f8803-850e-4cdf-9a88-54fec8ba40ba"
      },
      "source": [
        "fig,a =  plt.subplots(2,2,figsize=(10, 8))\n",
        "fig.tight_layout(pad=3)\n",
        "a[0][0].plot(['Top 15', 'Top 30', 'All'],[accabc10*100,accabc20*100,accabcall*100])\n",
        "a[0][0].set_title('Accuracy')\n",
        "a[0][1].plot(['Top 15', 'Top 30', 'All'],[preabc10*100,preabc20*100,preabcall*100])\n",
        "a[0][1].set_title('Precision')\n",
        "a[1][0].plot(['Top 15', 'Top 30', 'All'],[f1abc10*100,f1abc20*100,f1abcall*100])\n",
        "a[1][0].set_title('F1-Score')\n",
        "a[1][1].plot(['Top 15', 'Top 30', 'All'],[reabc10*100,reabc20*100,reabcall*100])\n",
        "a[1][1].set_title('Recall')\n",
        "#figure.tight_layout(pad=3.0)\n",
        "plt.suptitle('Adaboost with Decision Tree',fontsize=20)\n",
        "\n",
        "plt.show()"
      ],
      "execution_count": 58,
      "outputs": [
        {
          "output_type": "display_data",
          "data": {
            "image/png": "[encoded data removed]",
            "text/plain": [
              "<Figure size 720x576 with 4 Axes>"
            ]
          },
          "metadata": {
            "tags": [],
            "needs_background": "light"
          }
        }
      ]
    },
    {
      "cell_type": "code",
      "metadata": {
        "id": "SNIvWMD9ohPi",
        "colab": {
          "base_uri": "https://localhost:8080/",
          "height": 564
        },
        "outputId": "a288ce69-06e0-4bce-8b3a-4dd2e5660cc9"
      },
      "source": [
        "fig,a =  plt.subplots(2,2,figsize=(10, 8))\n",
        "fig.tight_layout(pad=3)\n",
        "a[0][0].plot(['Top 15', 'Top 30', 'All'],[accXGB10*100,accXGB20*100,accXGBall*100])\n",
        "a[0][0].set_title('Accuracy')\n",
        "a[0][1].plot(['Top 15', 'Top 30', 'All'],[preXGB10*100,preXGB20*100,preXGBall*100])\n",
        "a[0][1].set_title('Precision')\n",
        "a[1][0].plot(['Top 15', 'Top 30', 'All'],[f1XGB10*100,f1XGB20*100,f1XGBall*100])\n",
        "a[1][0].set_title('F1-Score')\n",
        "a[1][1].plot(['Top 15', 'Top 30', 'All'],[reXGB10*100,reXGB20*100,reXGBall*100])\n",
        "a[1][1].set_title('Recall')\n",
        "#figure.tight_layout(pad=3.0)\n",
        "plt.suptitle('Stack: KNN,RF, XGBoost',fontsize=20)\n",
        "\n",
        "plt.show()"
      ],
      "execution_count": 59,
      "outputs": [
        {
          "output_type": "display_data",
          "data": {
            "image/png": "[encoded data removed]",
            "text/plain": [
              "<Figure size 720x576 with 4 Axes>"
            ]
          },
          "metadata": {
            "tags": [],
            "needs_background": "light"
          }
        }
      ]
    },
    {
      "cell_type": "code",
      "metadata": {
        "id": "1DDnw7iEptl2",
        "colab": {
          "base_uri": "https://localhost:8080/",
          "height": 564
        },
        "outputId": "52b03621-b24f-4a79-8535-58aaad23d34c"
      },
      "source": [
        "fig,a =  plt.subplots(2,2,figsize=(10, 8))\n",
        "fig.tight_layout(pad=3)\n",
        "a[0][0].plot(['Top 15', 'Top 30', 'All'],[acclogisticRegr_10*100,acclogisticRegr_20*100,acclogisticRegr_all*100])\n",
        "a[0][0].set_title('Accuracy')\n",
        "a[0][1].plot(['Top 15', 'Top 30', 'All'],[prelogisticRegr_10*100,prelogisticRegr_20*100,prelogisticRegr_all*100])\n",
        "a[0][1].set_title('Precision')\n",
        "a[1][0].plot(['Top 15', 'Top 30', 'All'],[f1logisticRegr_10*100,f1logisticRegr_20*100,f1logisticRegr_all*100])\n",
        "a[1][0].set_title('F1-Score')\n",
        "a[1][1].plot(['Top 15', 'Top 30', 'All'],[relogisticRegr_10*100,relogisticRegr_20*100,relogisticRegr_all*100])\n",
        "a[1][1].set_title('Recall')\n",
        "#figure.tight_layout(pad=3.0)\n",
        "plt.suptitle('Logistic Regression Classifier',fontsize=20)\n",
        "\n",
        "plt.show()"
      ],
      "execution_count": 60,
      "outputs": [
        {
          "output_type": "display_data",
          "data": {
            "image/png": "[encoded data removed]",
            "text/plain": [
              "<Figure size 720x576 with 4 Axes>"
            ]
          },
          "metadata": {
            "tags": [],
            "needs_background": "light"
          }
        }
      ]
    },
    {
      "cell_type": "code",
      "metadata": {
        "id": "cxmaOSLjq68J",
        "colab": {
          "base_uri": "https://localhost:8080/",
          "height": 1000
        },
        "outputId": "344523b9-8a3d-4bfb-9554-dfbdfcbbd189"
      },
      "source": [
        "#Accuracy\n",
        "print(\"Accuracy\")\n",
        "fig = plt.figure()\n",
        "ax = fig.add_axes([0,0,2,1])\n",
        "algo = ['accKNN10', 'accDT10', 'accbayes_10', 'acclogisticRegr_10','accclfRF_10',\"accabc10\",\"accXGB10\",\"accNN10\",]\n",
        "acc = [accKNN10*100,accDT10*100,accbayes_10*100,acclogisticRegr_10*100,accclfRF_10*100,accabc10*100,accXGB10*100,accNN10*100]\n",
        "ax.bar(algo,acc)\n",
        "plt.show()\n",
        "#Precision\n",
        "print(\"Precision\")\n",
        "fig = plt.figure()\n",
        "ax = fig.add_axes([0,0,2,1])\n",
        "algo = ['preKNN10', 'preDT10', 'prebayes_10', 'prelogisticRegr_10','preclfRF_10',\"preabc10\",\"preXGB10\",\"precision_NN10\"]\n",
        "pre = [preKNN10*100,preDT10*100,prebayes_10*100,prelogisticRegr_10*100,preclfRF_10*100,preabc10*100,preXGB10*100,precision_NN10*100]\n",
        "ax.bar(algo,pre)\n",
        "plt.show()\n",
        "#F1 Score\n",
        "print(\"F1 Score\")\n",
        "fig = plt.figure()\n",
        "ax = fig.add_axes([0,0,2,1])\n",
        "algo = ['f1KNN10', 'f1DT10', 'f1bayes_10', 'f1logisticRegr_10','f1clfRF_10',\"f1abc10\",\"f1XGB10\",\"f1_score_NN10\"]\n",
        "f1 = [f1KNN10*100,f1DT10*100,f1bayes_10*100,prelogisticRegr_10*100,f1clfRF_10*100,f1abc10*100,f1XGB10*100,f1_score_NN10*100]\n",
        "ax.bar(algo,f1)\n",
        "plt.show()\n",
        "#Recall\n",
        "print(\"Recall\")\n",
        "fig = plt.figure()\n",
        "ax = fig.add_axes([0,0,2,1])\n",
        "algo = ['reKNN10', 'reDT10', 'rebayes_10', 'prelogisticRegr_10','reclfRF_10',\"reabc10\",\"reXGB10\",\"recall_NN10\"]\n",
        "re = [reKNN10*100,reDT10*100,rebayes_10*100,prelogisticRegr_10*100,reclfRF_10*100,reabc10*100,reXGB10*100,recall_NN10*100]\n",
        "ax.bar(algo,re)\n",
        "plt.show()"
      ],
      "execution_count": 66,
      "outputs": [
        {
          "output_type": "stream",
          "text": [
            "Accuracy\n"
          ],
          "name": "stdout"
        },
        {
          "output_type": "display_data",
          "data": {
            "image/png": "[encoded data removed]",
            "text/plain": [
              "<Figure size 432x288 with 1 Axes>"
            ]
          },
          "metadata": {
            "tags": [],
            "needs_background": "light"
          }
        },
        {
          "output_type": "stream",
          "text": [
            "Precision\n"
          ],
          "name": "stdout"
        },
        {
          "output_type": "display_data",
          "data": {
            "image/png": "[encoded data removed]",
            "text/plain": [
              "<Figure size 432x288 with 1 Axes>"
            ]
          },
          "metadata": {
            "tags": [],
            "needs_background": "light"
          }
        },
        {
          "output_type": "stream",
          "text": [
            "F1 Score\n"
          ],
          "name": "stdout"
        },
        {
          "output_type": "display_data",
          "data": {
            "image/png": "[encoded data removed]",
            "text/plain": [
              "<Figure size 432x288 with 1 Axes>"
            ]
          },
          "metadata": {
            "tags": [],
            "needs_background": "light"
          }
        },
        {
          "output_type": "stream",
          "text": [
            "Recall\n"
          ],
          "name": "stdout"
        },
        {
          "output_type": "display_data",
          "data": {
            "image/png": "[encoded data removed]",
            "text/plain": [
              "<Figure size 432x288 with 1 Axes>"
            ]
          },
          "metadata": {
            "tags": [],
            "needs_background": "light"
          }
        }
      ]
    }
  ]
}